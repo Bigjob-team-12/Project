{
 "cells": [
  {
   "cell_type": "code",
   "execution_count": null,
   "metadata": {},
   "outputs": [],
   "source": [
    "# Pythono3 code to rename multiple  \n",
    "# files in a directory or folder \n",
    "  \n",
    "# importing os module \n",
    "import os \n",
    "  \n",
    "# Function to rename multiple files \n",
    "def main(): \n",
    "  \n",
    "    for count, filename in enumerate(os.listdir(\"./test\")): \n",
    "        print(count)\n",
    "        dst =\"0\" + str(count) + \".jpg\"\n",
    "        src ='./'+ filename \n",
    "        dst ='./'+ dst \n",
    "          \n",
    "        # rename() function will \n",
    "        # rename all the files \n",
    "        os.rename(src, dst) \n",
    "  \n",
    "# Driver Code \n",
    "if __name__ == '__main__': \n",
    "      \n",
    "    # Calling main() function \n",
    "    main() "
   ]
  },
  {
   "cell_type": "code",
   "execution_count": null,
   "metadata": {},
   "outputs": [],
   "source": []
  },
  {
   "cell_type": "code",
   "execution_count": 4,
   "metadata": {},
   "outputs": [
    {
     "name": "stdout",
     "output_type": "stream",
     "text": [
      "['test', 'train', 'valid']\n"
     ]
    }
   ],
   "source": [
    "import os\n",
    "os.getcwd()\n",
    "d_list=os.listdir('./ours_dog')\n",
    "print(d_list)\n"
   ]
  },
  {
   "cell_type": "code",
   "execution_count": 10,
   "metadata": {},
   "outputs": [
    {
     "name": "stdout",
     "output_type": "stream",
     "text": [
      "test\n",
      "./ours_dog\\test\n",
      "___\n",
      "train\n",
      "./ours_dog\\train\n",
      "___\n",
      "./ours_dog\\train\\10_WELSH_CORGI\n",
      "./ours_dog\\train\\11_BULLDOG\n",
      "./ours_dog\\train\\12_SHETLAND_SHEEPDOG\n",
      "./ours_dog\\train\\13_SHIBA\n",
      "./ours_dog\\train\\14_GOLDEN_RETRIEVER\n",
      "./ours_dog\\train\\15_ROTTWEILER\n",
      "./ours_dog\\train\\17_PUG\n",
      "./ours_dog\\train\\18_BEDLINGTON_TERRIER\n",
      "./ours_dog\\train\\19_GERMAN_SHEPHERD_DOG\n",
      "./ours_dog\\train\\21_CHOW_CHOW\n",
      "./ours_dog\\train\\22_DOBERMANN\n",
      "./ours_dog\\train\\23_AMERICAN_COCKER_SPANIEL\n",
      "./ours_dog\\train\\24_CAVALIER_COCKER_SPANIEL\n",
      "./ours_dog\\train\\26_PEKINGESE\n",
      "./ours_dog\\train\\28_STANDARD_POODLE\n",
      "./ours_dog\\train\\29_YORKSHIRE_TERRIER\n",
      "./ours_dog\\train\\30_SAMOYED\n",
      "./ours_dog\\train\\9_ITALIAN_GREY_HOUND\n",
      "./ours_dog\\train\\X_HUSKY\n",
      "./ours_dog\\train\\X_SHIH_TZU\n",
      "valid\n",
      "./ours_dog\\valid\n",
      "___\n"
     ]
    }
   ],
   "source": [
    "for d in d_list:\n",
    "    print(d)\n",
    "    d_path=os.path.join('./ours_dog', d)\n",
    "    print(d_path)\n",
    "    class_list=os.listdir(d_path)\n",
    "    print(\"___\")\n",
    "    for c in class_list:\n",
    "        class_path=os.path.join(d_path, c)    \n",
    "        print(class_path)"
   ]
  },
  {
   "cell_type": "code",
   "execution_count": null,
   "metadata": {},
   "outputs": [],
   "source": []
  }
 ],
 "metadata": {
  "kernelspec": {
   "display_name": "Python 3",
   "language": "python",
   "name": "python3"
  },
  "language_info": {
   "codemirror_mode": {
    "name": "ipython",
    "version": 3
   },
   "file_extension": ".py",
   "mimetype": "text/x-python",
   "name": "python",
   "nbconvert_exporter": "python",
   "pygments_lexer": "ipython3",
   "version": "3.8.3"
  }
 },
 "nbformat": 4,
 "nbformat_minor": 4
}
