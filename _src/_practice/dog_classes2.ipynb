{
 "cells": [
  {
   "cell_type": "markdown",
   "metadata": {},
   "source": [
    "This is a general purpose image classifier that can be used for most image classification problems.\n",
    "No knowledge of neural networks or Tensorflow is required to use it.\n",
    "An example of use on the Autism data set is shown below \n",
    "source_dir=r'c:\\Temp\\autism' # note use of r for raw and use a  \\ not a/\n",
    "output_dir=r'c:\\Temp\\autism'\n",
    "subject='autism'\n",
    "t_split=5\n",
    "v_split=5 \n",
    "epochs=30 \n",
    "batch_size=80 \n",
    "lr_rate=.0025 \n",
    "lr_factor=.8\n",
    "image_size=128 \n",
    "rand_seed=256\n",
    "model_size='L'\n",
    "mode='sep'\n",
    "\n",
    "TF2_classify(source_dir,output_dir,mode,subject, t_split=t_split, v_split=v_split, epochs=epochs,batch_size=batch_size, lr_rate=lr_rate,lr_factor,image_size=image_size,rand_seed=rand_seed, model_size=model_size)\n",
    "\n",
    "The program operates in one of two modes, If mode-'all' the training, test and validation files\n",
    "are taken from the source_dir and split into train, test and validation files as defined by \n",
    "t_split and v_split integer percentages. If model='sep' images are read in from the train, test and \n",
    "valid directories within the source directory. t-split and v_split values are not used in this mode.\n",
    "epochs is the number of training epochs. lr_rate is a float defining the learning rate. \n",
    "lr_factor is a float. The learning rate is reduced by this factor each time an epoch results in a\n",
    "validation loss larger than the lowest value thus far achieved. batch size is the number of images processed as a group during training. \n",
    "The program has 3 models. model_size='L' is a large model based on the MobileNet architecture. It is accurate but propcessing time and memory requirements can be large. For this model set batch_size-80. If you get a resource exhaust error reduce its value. If model_size=\"M' the program uses a medium sized model. Execution is fairly fast but it is less accurate. A batch size of 80 works well. If model_size=\"S\" a small model is used. Execution is fast but accuracy is reduced. \n",
    "rand_seed sets the seed for the random generators. It's value is arbitrary but when changed will give a different mix of training, test and validation files when mode='all'.\n",
    "image_size is the size that images are converted to for processing. If mode=\"L\" image size is set internally at 224. subject is a string you can use to denote the name of files that are stored in your output_dir at the conclusion of the program. At the conclusion of training, the best saved model is loaded from the output_dir and the test set is processed. Test results are displayed if there are less than 25 errors. The error list is saved to a file in the output_dir.  At the conclusion of the program two files are stored in the output_dir. One of them is the resulting trained model file. It is labelled as subject-image_size-accuracy.h5 , For example autism-224-95.35.h5 means the subject was autism, the image size was 224 X 224 and the accuracy on the test set was 95.35%. This model file can then be used with a prediction program. The other file saved is a text file that can be easily converted into a python dictionary. The key is the class number and the value is the associated class name. It is labelled as subject.txt. This file will also be needed by a prediction program to generate a list of classes. The error list is stored in the output_dir as error-list-M-accuracy.txt where M is the model type.\n",
    "After the test list is processed the program evaluates the accuray. If it is above 95% the program terminates. If the accuracy is below 95 precent the program will train for 10 more epochs starting from the last epoch. After these 10 epochs complete the new saved model is loaded and the test set is run again. Results are then shown after which the program terminates.\n",
    "To use the program you need a python 3 environment in which you have loaded the modules tensorflow 2.0, numpy, matplot, sklearn, tqdm cv2,random and PIL."
   ]
  },
  {
   "cell_type": "code",
   "execution_count": 1,
   "metadata": {},
   "outputs": [],
   "source": [
    "import tensorflow as tf\n",
    "from tensorflow import keras\n",
    "from tensorflow.keras import backend as K\n",
    "from tensorflow.keras.layers import Dense, Activation,Dropout,Conv2D, MaxPooling2D,BatchNormalization, Flatten\n",
    "from tensorflow.keras.optimizers import Adam\n",
    "from tensorflow.keras.metrics import categorical_crossentropy\n",
    "from tensorflow.keras import regularizers\n",
    "from tensorflow.keras.preprocessing.image import ImageDataGenerator, array_to_img, img_to_array, load_img\n",
    "from tensorflow.keras.applications import imagenet_utils\n",
    "from tensorflow.keras.callbacks import EarlyStopping, ModelCheckpoint\n",
    "from tensorflow.keras.preprocessing import image\n",
    "from tensorflow.keras.models import Model, load_model, Sequential\n",
    "from tensorflow.keras.utils import to_categorical\n",
    "from tensorflow.keras.models import load_model\n",
    "import numpy as np\n",
    "import matplotlib.pyplot as plt\n",
    "import time\n",
    "from PIL import Image\n",
    "from sklearn.model_selection import train_test_split\n",
    "import cv2\n",
    "import os\n",
    "from tqdm import tqdm\n",
    "import random as rd"
   ]
  },
  {
   "cell_type": "code",
   "execution_count": 2,
   "metadata": {
    "scrolled": false
   },
   "outputs": [],
   "source": [
    "def get_data_sets(dir,output_dir,mode,subject,image_size,t_split, v_split, rand_seed ):\n",
    "    data=[]\n",
    "    labels=[]\n",
    "    class_list=[]\n",
    "    files=[]\n",
    "    net_split=(t_split+ v_split)/100\n",
    "    v_share=t_split/(t_split + v_split)\n",
    "    t_split=t_split/100\n",
    "    v_split=v_split/100\n",
    "    if mode !='all':\n",
    "        d_path=os.path.join(dir, \"train\")\n",
    "    #    print(d_path)\n",
    "    else:\n",
    "        d_path=dir    # if all=True read all data from dir = source_dir, otherwise dir=source_dir/train \n",
    "    source_list=os.listdir(d_path)\n",
    "    for s in source_list:\n",
    "        s_path=os.path.join(d_path,s)\n",
    "        if os.path.isdir(s_path):  # only process  directories not files\n",
    "            class_list.append(s)\n",
    "    class_count=len(class_list)  #determine number of class directories in order to set leave value intqdm    \n",
    "    if mode != 'all':    # read data from  train, test and valid directories\n",
    "        train_path=os.path.join(dir, 'train')\n",
    "        tr_data=read_files(train_path,class_list,image_size,mode)\n",
    "        # tr_data[0]=training files, tr_data[1]=training labels\n",
    "       \n",
    "        for i in range(0,3):\n",
    "            rd.seed(rand_seed)\n",
    "            rd.shuffle(tr_data[i]) #shuffle training data but keep the labels tied to the array by using same seed       \n",
    "        test_path=os.path.join(dir,'test')\n",
    "        t_data=read_files(test_path, class_list,image_size,mode)\n",
    "        #t_data[0] test files, t_data[1]=test labels\n",
    "        valid_path=os.path.join(dir,'valid')\n",
    "        v_data=read_files(valid_path, class_list,image_size,mode)\n",
    "        #shuffle the validation images but keep labels tied to the file by using same random seed\n",
    "        for i in range(0,3):\n",
    "            rd.seed(rand_seed)\n",
    "            rd.shuffle(v_data[i])\n",
    "        train_data=np.array(tr_data[0])\n",
    "        train_labels=np.array(tr_data[1])\n",
    "        train_files=np.array(tr_data[2])\n",
    "        val_data=np.array(v_data[0])\n",
    "        val_labels=np.array(v_data[1])\n",
    "        val_files=np.array(v_data[2]) \n",
    "        test_data=np.array(t_data[0])\n",
    "        test_labels=np.array(t_data[1])\n",
    "        test_files=np.array(t_data[2])\n",
    "        print(tr_data[1])\n",
    "    else:  # all the data is in a single file,  split into train, test and validate\n",
    "        data=read_files(dir, class_list,image_size,mode) # returns 3 lists, list of image arrays, image labels and image file names\n",
    "        train_data , x , train_labels , y = train_test_split(data[0],data[1],test_size =net_split,random_state =rand_seed)\n",
    "        train_files, a =train_test_split(data[2], test_size=net_split, random_state=rand_seed)\n",
    "        val_data , test_data , val_labels , test_labels = train_test_split(x,y,test_size = v_share,random_state = rand_seed)\n",
    "        val_files, test_files=train_test_split(a,test_size=v_share, random_state=rand_seed)        \n",
    "        train_data=np.array(train_data)\n",
    "        train_labels-np.array(train_labels)\n",
    "        train_files=np.array(train_files)\n",
    "        test_data=np.array(test_data)\n",
    "        test_labels=np.array(test_labels)\n",
    "        test_files=np.array(test_files)\n",
    "        val_data=np.array(val_data)\n",
    "        val_labels=np.array(val_labels)\n",
    "        val_files=np.array(val_files)\n",
    "    print_data(train_labels, test_labels, val_labels, class_list)\n",
    "    # save the class dictionary as a text file so it can be used by classification.py in the future\n",
    "    msg=''\n",
    "    for i in range(0, class_count):\n",
    "        msg=msg + str(i) + ':' + class_list[i] +','\n",
    "    id=subject  + '.txt'   \n",
    "    dict_path=os.path.join (output_dir, id)\n",
    "    print('\\n saving dictionary of class names and labels to {0}'.format(dict_path))\n",
    "    f=open(dict_path, 'w')\n",
    "    f.write(msg)\n",
    "    f.close()\n",
    "      \n",
    "    return [train_data, train_labels, test_data, test_labels, val_data, val_labels,test_files, class_list]\n",
    "   "
   ]
  },
  {
   "cell_type": "code",
   "execution_count": 19,
   "metadata": {},
   "outputs": [],
   "source": [
    "def read_files(dir_path, class_list, image_size,mode):\n",
    "    data=[]\n",
    "    labels=[]\n",
    "    files=[]\n",
    "    if(len(class_list)<=6):\n",
    "        leave=True\n",
    "    else:\n",
    "        leave=False    \n",
    "    dir_list=os.listdir(dir_path)    #get list of items in dir\n",
    "    class_count=-1\n",
    "    for d in dir_list:   # these should be the class directories\n",
    "        d_path=os.path.join(dir_path,d)  # path to class directories\n",
    "        if os.path.isdir(d_path):  #only process directories ignore any files in dir\n",
    "            d_list=d_path.split(r'/')\n",
    "            length=len(d_list)\n",
    "            desc=d_list[length-2] + '-' +d_list[length-1]\n",
    "            class_count=class_count +1\n",
    "            file_list=os.listdir(d_path)  #list contents of directory d , they should just be files but better to check\n",
    "            for f in tqdm(file_list, desc=desc, unit='files', leave=leave):\n",
    "                file_path=os.path.join(d_path,f)\n",
    "                if os.path.isfile(file_path):  # just process files\n",
    "                    index=f.rfind('.')\n",
    "                    ext=f[index+1:].lower()  # get the file's extension\n",
    "                    if ext in ['jpg', 'jpeg','jpe','jp2','tiff', 'png']:  # make sure image formats work with cv2\n",
    "                        img=cv2.imread(file_path,1)\n",
    "                        print(file_path)\n",
    "                        image_array = Image.fromarray(img , 'RGB')\n",
    "                        resize_img = image_array.resize((image_size ,image_size))\n",
    "                        data.append(np.array(resize_img))   #data is a list of image arrays for the entire data set\n",
    "                        labels.append(class_count) # class count is the label associated with the array image\n",
    "                        files.append(f)\n",
    "        \n",
    "    return [data,labels,files]"
   ]
  },
  {
   "cell_type": "code",
   "execution_count": 4,
   "metadata": {
    "scrolled": false
   },
   "outputs": [],
   "source": [
    "def print_data(train_labels, test_labels, val_labels, class_list):\n",
    "    train_list=list(train_labels)\n",
    "    test_list=list(test_labels)\n",
    "    val_list=list(val_labels)\n",
    "    print('{0:9s}Class Name{0:10s}Class No.{0:4s}Train Files{0:7s}Test Files{0:5s}Valid Files'.format(' '))\n",
    "    for i in range(0, len(class_list)):\n",
    "        c_name=class_list[i]\n",
    "        tr_count=train_list.count(i)\n",
    "        tf_count=test_list.count(i)\n",
    "        v_count=val_list.count(i)\n",
    "        print('{0}{1:^25s}{0:5s}{2:3.0f}{0:9s}{3:4.0f}{0:15s}{4:^4.0f}{0:12s}{5:^3.0f}'.format(' ',\n",
    "                                                                                               c_name,i,tr_count,\n",
    "                                                                                               tf_count,v_count))\n",
    "    print('{0:30s} ______________________________________________________'.format(' '))\n",
    "    msg='{0:10s}{1:6s}{0:16s}{2:^3.0f}{0:8s}{3:3.0f}{0:15s}{4:3.0f}{0:13s}{5}\\n'\n",
    "    print(msg.format(' ', 'Totals',len(class_list),len(train_labels),len(test_labels),len(val_labels)))"
   ]
  },
  {
   "cell_type": "code",
   "execution_count": 5,
   "metadata": {},
   "outputs": [],
   "source": [
    "def get_steps(train_data, test_data,val_data,batch_size):\n",
    "    length=train_data.shape[0]\n",
    "    if length % batch_size==0:\n",
    "        tr_steps=int(length/batch_size)\n",
    "    else:\n",
    "        tr_steps=int(length/batch_size) + 1\n",
    "    length=val_data.shape[0]\n",
    "    if length % batch_size==0:\n",
    "        v_steps=int(length/batch_size)\n",
    "    else:\n",
    "        v_steps=int(length/batch_size) + 1\n",
    "    length=test_data.shape[0]\n",
    "    batches=[int(length/n) for n in range(1,length+1) if length % n ==0 and length/n<=80]\n",
    "    batches.sort(reverse=True)\n",
    "    t_batch_size=batches[0]\n",
    "    t_steps=length/t_batch_size        \n",
    "    return [tr_steps,t_steps, v_steps, t_batch_size]"
   ]
  },
  {
   "cell_type": "code",
   "execution_count": 6,
   "metadata": {},
   "outputs": [],
   "source": [
    "def make_model(source_dir,output_dit,class_list, image_size, subject,model_size, rand_seed,lr_factor):\n",
    "    size=len(class_list)\n",
    "    check_file = os.path.join(output_dir, 'tmp.h5')\n",
    "        \n",
    "    if model_size=='L':\n",
    "        # mobile = keras.applications.mobilenet_v2.MobileNetV2(input_shape=input_shape)\n",
    "        mobile = tf.keras.applications.mobilenet.MobileNet()        \n",
    "        #remove last 5 layers of model and add dense layer with 128 nodes and the prediction layer with size nodes\n",
    "        # where size=number of classes\n",
    "        x=mobile.layers[-6].output\n",
    "        x=Dense(128, kernel_regularizer = regularizers.l2(l = 0.015), activation='relu')(x)\n",
    "        x=Dropout(rate=.5, seed=rand_seed)(x)\n",
    "        predictions=Dense (size, activation='softmax')(x)\n",
    "        model = Model(inputs=mobile.input, outputs=predictions)\n",
    "        for layer in model.layers:\n",
    "            layer.trainable=True\n",
    "        model.compile(Adam(lr=lr_rate), loss='sparse_categorical_crossentropy', metrics=['accuracy'])\n",
    "        \n",
    "    else:\n",
    "        if model_size=='M':\n",
    "            fm=2\n",
    "        else:\n",
    "            fm=1\n",
    "        model = Sequential()\n",
    "        model.add(Conv2D(filters = 4*fm, kernel_size = (3, 3), activation ='relu', padding ='same', name = 'L11',\n",
    "                         kernel_regularizer = regularizers.l2(l = 0.015),input_shape = (image_size, image_size, 3)))\n",
    "        model.add(MaxPooling2D(pool_size = (2, 2), strides = (2, 2), name ='L12'))\n",
    "        model.add(BatchNormalization(name = 'L13'))\n",
    "        model.add(Conv2D(filters = 8*fm, kernel_size = (3, 3), activation ='relu',\n",
    "                         kernel_regularizer = regularizers.l2(l = 0.015), padding ='same', name = 'L21')) \n",
    "        model.add(MaxPooling2D(pool_size = (2, 2), strides = (2, 2), name ='L22'))\n",
    "        model.add(BatchNormalization(name = 'L23'))\n",
    "        model.add(Conv2D(filters = 16*fm, kernel_size = (3, 3), activation ='relu',\n",
    "                         kernel_regularizer = regularizers.l2(l = 0.015), padding ='same', name ='L31')) \n",
    "        model.add(MaxPooling2D(pool_size = (2, 2), strides = (2, 2), name ='L32'))\n",
    "        model.add(BatchNormalization(name = 'L33'))\n",
    "        if fm==2:\n",
    "            model.add(Conv2D(filters = 32*fm, kernel_size = (3, 3), activation ='relu',\n",
    "                             kernel_regularizer = regularizers.l2(l = 0.015),padding ='same', name ='L41')) \n",
    "            model.add(MaxPooling2D(pool_size = (2, 2), strides = (2, 2), name ='L42'))\n",
    "            model.add(BatchNormalization(name = 'L43'))\n",
    "            model.add(Conv2D(filters = 64*fm, kernel_size = (3, 3), activation ='relu', \n",
    "                             kernel_regularizer = regularizers.l2(l = 0.015),padding ='same', name ='L51')) \n",
    "            model.add(MaxPooling2D(pool_size = (2, 2), strides = (2, 2), name ='L52'))\n",
    "            model.add(BatchNormalization(name = 'L53'))\n",
    "            \n",
    "        model.add(Flatten())\n",
    "        model.add(Dense(256 *fm,kernel_regularizer = regularizers.l2(l = 0.015), activation='relu', name ='Dn1'))\n",
    "        model.add(Dropout(rate=.5))\n",
    "        model.add(Dense(size, activation = 'softmax', name ='predict'))\n",
    "        model.compile(Adam(lr=lr_rate),loss='sparse_categorical_crossentropy', metrics=['accuracy'])\n",
    "        \n",
    "    early_stop = EarlyStopping(monitor='val_loss', min_delta=0.0001, patience=10, mode='min', verbose=1)\n",
    "    checkpoint = ModelCheckpoint(check_file, monitor='val_loss', verbose=1, save_best_only=True, mode='min', period=1)\n",
    "    lrck=keras.callbacks.ReduceLROnPlateau(monitor='val_loss', factor=lr_factor, patience=1,\n",
    "                                           verbose=1, mode='min', min_delta=0.000001, cooldown=1, min_lr=1.0e-08)\n",
    "    callbacks=[checkpoint,lrck, early_stop]\n",
    "    return [model, callbacks]"
   ]
  },
  {
   "cell_type": "code",
   "execution_count": 7,
   "metadata": {},
   "outputs": [],
   "source": [
    "def make_generators(data_sets, batch_size,t_batch_size,rand_seed):\n",
    "    #data_set[0]=train data,[1]train labels,[2]=test data,[3]=test labels,[4]=value data,[5]=val labels,[6]=test files\n",
    "    train_datagen=ImageDataGenerator(preprocessing_function=keras.applications.mobilenet.preprocess_input,\n",
    "                             horizontal_flip=True,\n",
    "                             samplewise_center=True,\n",
    "                             samplewise_std_normalization=True)\n",
    "    train_gen=train_datagen.flow(data_sets[0],data_sets[1], batch_size=batch_size, seed=rand_seed)\n",
    "    val_datagen=ImageDataGenerator(preprocessing_function=keras.applications.mobilenet.preprocess_input,\n",
    "                             samplewise_center=True,\n",
    "                             samplewise_std_normalization=True)\n",
    "    val_gen=val_datagen.flow(data_sets[4], data_sets[5], batch_size=batch_size, seed=rand_seed)\n",
    "    test_datagen=ImageDataGenerator(preprocessing_function=keras.applications.mobilenet.preprocess_input,\n",
    "                             samplewise_center=True,\n",
    "                             samplewise_std_normalization=True)\n",
    "    test_gen=test_datagen.flow(data_sets[2], data_sets[3], batch_size=t_batch_size, shuffle=False)\n",
    "    return [train_gen, test_gen, val_gen]"
   ]
  },
  {
   "cell_type": "code",
   "execution_count": 8,
   "metadata": {},
   "outputs": [],
   "source": [
    "def train(model, train_gen, val_gen,tr_steps,v_steps, epochs,callbacks,sub):\n",
    "    start=time.time()\n",
    "    data = model.fit_generator(generator = train_gen, validation_data= val_gen,\n",
    "                       steps_per_epoch=tr_steps, epochs=epochs, \n",
    "                       validation_steps=v_steps, callbacks = callbacks)\n",
    "    stop=time.time()\n",
    "    duration = stop-start\n",
    "    hrs=int(duration/3600)\n",
    "    mins=int((duration-hrs*3600)/60)\n",
    "    secs= duration-hrs*3600-mins*60\n",
    "    msg='The training cycle took  {0} hours {1} minutes and {2:6.2f} seconds'\n",
    "    print(msg.format(hrs, mins,secs))\n",
    "    return data\n",
    "    "
   ]
  },
  {
   "cell_type": "code",
   "execution_count": 9,
   "metadata": {},
   "outputs": [],
   "source": [
    "def tr_plot(tacc,vacc,tloss,vloss):\n",
    "    #Plot the training and validation data\n",
    "    Epoch_count=len(tloss)\n",
    "    Epochs=[]\n",
    "    for i in range (0,Epoch_count):\n",
    "        Epochs.append(i+1)\n",
    "    fig,axes=plt.subplots(nrows=1, ncols=2, figsize=(15,5))\n",
    "    axes[0].plot(Epochs,tloss, 'r', label='Training loss')\n",
    "    axes[0].plot(Epochs,vloss,'g',label='Validation loss' )\n",
    "    axes[0].set_title('Training and Validation Loss')\n",
    "    axes[0].set_xlabel('Epochs')\n",
    "    axes[0].set_ylabel('Loss')\n",
    "    axes[0].legend()\n",
    "    axes[1].plot (Epochs,tacc,'r',label= 'Training Accuracy')\n",
    "    axes[1].plot (Epochs,vacc,'g',label= 'Validation Accuracy')\n",
    "    axes[1].set_title('Training and Validation Accuracy')\n",
    "    axes[1].set_xlabel('Epochs')\n",
    "    axes[1].set_ylabel('Accuracy')\n",
    "    axes[1].legend()\n",
    "    plt.tight_layout\n",
    "    plt.style.use('fivethirtyeight')\n",
    "    plt.show()\n",
    " "
   ]
  },
  {
   "cell_type": "code",
   "execution_count": 10,
   "metadata": {},
   "outputs": [],
   "source": [
    "def display_pred(source_dir,output_dir,pred,t_files,t_labels,class_list,subject, model_size):\n",
    "    # t_files are the test files, t_labels are the class label associated with the test file\n",
    "    # class_list is a list of classes\n",
    "    trials=len(t_files)   # number of predictions made should be same as len(t_files)\n",
    "    errors=0\n",
    "    prob_list=[]\n",
    "    true_class=[]\n",
    "    pred_class=[]\n",
    "    file_list=[]\n",
    "    x_list=[]\n",
    "    index_list=[]\n",
    "    pr_list=[]\n",
    "    error_msg=''\n",
    "    for i in range (0,trials):\n",
    "        p_c_num=pred[i].argmax()  #the index with the highest prediction value\n",
    "        if p_c_num !=t_labels[i]: #if the predicted class is not the same as the test label it is an error\n",
    "            errors=errors + 1\n",
    "            file_list.append(t_files[i])  # list of file names that are in error\n",
    "            true_class.append(class_list[t_labels[i]]) # list classes that have an eror\n",
    "            pred_class.append(class_list[p_c_num]) #class the prediction selected\n",
    "            prob_list.append(100 *pred[i][p_c_num])# probability of the predicted class\n",
    "            add_msg='{0:^24s}{1:5s}{2:^20s}\\n'.format(class_list[t_labels[i]], ' ', t_files[i])\n",
    "            error_msg=error_msg + add_msg\n",
    "            \n",
    "    accuracy=100*(trials-errors)/trials\n",
    "    print('\\n There were {0} errors in {1} trials for an accuracy of {2:7.3f}'.format(errors, trials,accuracy,),flush=True)\n",
    "    if errors<=25:\n",
    "        msg='{0}{1:^24s}{0:3s}{2:^20s}{0:3s}{3:20s}{0:3s}{4}'\n",
    "        print(msg.format(' ', 'File Name', 'True Class', 'Predicted Class', 'Probability'))\n",
    "        for i in range(0,errors):\n",
    "            msg='{0}{1:^24s}{0:3s}{2:^20s}{0:3s}{3:20s}{0:5s}{4:^6.2f}'\n",
    "            print (msg.format(' ',file_list[i], true_class[i], pred_class[i], prob_list[i]))\n",
    "    else:\n",
    "        print('with {0} errors the full error list will not be printed'.format(errors))    \n",
    "    acc='{0:6.2f}'.format(accuracy)\n",
    "    if model_size=='L':\n",
    "        ms='Large'\n",
    "    elif model_size=='M':\n",
    "        ms= 'Medium'\n",
    "    else:\n",
    "        ms= 'Small'\n",
    "    header='Classification subject: {0} There were {1} errors in {2} tests for an accuracy of {3} using a {4} model\\n'.format(subject,errors,trials,acc,ms)\n",
    "    header= header +'{0:^24s}{1:5s}{2:^20s}\\n'.format('CLASS',' ', 'FILENAME') \n",
    "    error_msg=header + error_msg\n",
    "    file_name='error list-' + model_size + acc +'.txt'\n",
    "    print('\\n file {0} containing the list of errors has been saved to {1}'.format(file_name, output_dir))\n",
    "    file_path=os.path.join(output_dir,file_name)\n",
    "    f=open(file_path, 'w')\n",
    "    f.write(error_msg)\n",
    "    f.close()\n",
    "    for c in class_list:\n",
    "        count=true_class.count(c)\n",
    "        x_list.append(count)\n",
    "        pr_list.append(c)\n",
    "    for i in range(0, len(x_list)):  # only plot classes that have errors\n",
    "        if x_list[i]==0:\n",
    "            index_list.append(i)\n",
    "    for i in sorted(index_list, reverse=True):  # delete classes with no errors\n",
    "        del x_list[i]\n",
    "        del pr_list[i]      # use pr_list - can't change class_list must keep it fixed\n",
    "    fig=plt.figure()\n",
    "    fig.set_figheight(len(pr_list)/4)\n",
    "    fig.set_figwidth(6)\n",
    "    plt.style.use('fivethirtyeight')\n",
    "    for i in range(0, len(pr_list)):\n",
    "        c=pr_list[i]\n",
    "        x=x_list[i]\n",
    "        plt.barh(c, x, )\n",
    "        plt.title('Errors by class')\n",
    "    plt.show()\n",
    "    time.sleep(5.0)\n",
    "    \n",
    "    return accuracy        "
   ]
  },
  {
   "cell_type": "code",
   "execution_count": 11,
   "metadata": {},
   "outputs": [],
   "source": [
    "def save_model(output_dir,subject, accuracy,r_model, image_size):\n",
    "    # save the model with the  subect-accuracy.h5\n",
    "    acc=str(accuracy)[0:5]\n",
    "    tempstr=subject + '-' +str(image_size) + '-' + acc + '.h5'\n",
    "    model_save_path=os.path.join(output_dir,tempstr)\n",
    "    r_model.save(model_save_path)    "
   ]
  },
  {
   "cell_type": "code",
   "execution_count": 12,
   "metadata": {},
   "outputs": [],
   "source": [
    "def make_predictions(output_dir, test_gen, t_steps):\n",
    "    # the best model was saved as a file need to read it in and load it since it is not available otherwise\n",
    "    test_gen.reset()\n",
    "    msg='Training has completed, now loading saved best model and processing test set to see how accurate the model is'\n",
    "    print (msg,flush=True)\n",
    "    model_path=os.path.join(output_dir,'tmp.h5')\n",
    "    model=load_model(model_path)                      # load the saved model with lowest validation loss\n",
    "    pred=model.predict_generator(test_gen, steps=t_steps,verbose=1) # make predictions on the test set\n",
    "    return [pred, model]"
   ]
  },
  {
   "cell_type": "code",
   "execution_count": 13,
   "metadata": {},
   "outputs": [],
   "source": [
    "def wrapup (source_dir,output_dir,subject, accuracy, r_model,image_size,run_num, model_size):\n",
    "    if accuracy >= 95:\n",
    "        msg='With an accuracy of {0:5.2f} the results appear satisfactory and the program will terminate'\n",
    "        print(msg.format(accuracy),flush=True)\n",
    "        return [False, None]\n",
    "    elif accuracy >=85 and accuracy < 95:\n",
    "        if run_num<2:\n",
    "            msg='With an accuracy of {0:5.2f} our results are mediocure, will run 10 more epochs to see if accuracy improves '\n",
    "            print (msg.format(accuracy),flush=True)\n",
    "            return [True, 10]\n",
    "        else:\n",
    "            print('Final accuracy of {0} is still mediocure- program terminating'.format(accuracy))\n",
    "            if model_size !='L':\n",
    "                print('try running again with model_size=L to get a more accurate result')\n",
    "            return [False, None]\n",
    "    else:\n",
    "        if run_num<2:\n",
    "            msg='With an accuracy  of {0:5.2f} the results are poor, will run for 15 more epochs to see if accuracy improves'\n",
    "            print (msg.format( accuracy),flush=True)\n",
    "            msg='if running more epochs does not improve test set accuracy you may want to get more training data '\n",
    "            msg=msg + 'or perhaps crop your images so the desired subject takes up most of the image'\n",
    "            print (msg, flush=True)\n",
    "            return [True, 15]\n",
    "        else:\n",
    "            print('Final accuracy of {0} is still poor - program is terminating'.format(accuracy))\n",
    "            if model_size !='L':\n",
    "                print('try running again with model_size=L to get a more accurate result')\n",
    "            return [False, None] "
   ]
  },
  {
   "cell_type": "code",
   "execution_count": 14,
   "metadata": {},
   "outputs": [],
   "source": [
    "def TF2_classify(source_dir,output_dir,mode,subject, t_split=10, v_split=5, epochs=20,batch_size=80,\n",
    "                 lr_rate=.002,lr_factor=.8,image_size=224,rand_seed=128,model_size='L'):\n",
    "    model_size=model_size.upper()\n",
    "    mode=mode.lower()\n",
    "    if model_size=='L':\n",
    "        image_size=224              # for the large model image size must be 224\n",
    "    data_sets=get_data_sets(source_dir,output_dir,mode,subject,image_size,t_split, v_split, rand_seed)\n",
    "    #data_set[0]=train data,[1]train labels,[2]=test data,[3]=test labels,[4]=value data,[5]=val labels,[6]=test files\n",
    "    # data_sets[7]=class_list\n",
    "    steps=get_steps(data_sets[0],data_sets[2],data_sets[4],batch_size)\n",
    "    # tr_steps=steps[0]  t_steps=steps[1]   v_steps=steps[2] t_batch_size=steps[3]\n",
    "    model_data=make_model(source_dir,output_dir,data_sets[7], image_size, subject, model_size,rand_seed,lr_factor)\n",
    "    # model=model_data[0]  callbacks=model_data[1]\n",
    "    gens=make_generators(data_sets,batch_size,steps[3], rand_seed)\n",
    "    # train_gen = gens[0]  test_gen=gens[1]   val_gen=gens[2]\n",
    "    run_num=0\n",
    "    run=True\n",
    "    tacc=[]\n",
    "    tloss=[]\n",
    "    vacc=[]\n",
    "    vloss=[]\n",
    "    while run:\n",
    "        run_num=run_num +1\n",
    "        results=train(model_data[0], gens[0], gens[2],steps[0],steps[2], epochs,model_data[1],subject)\n",
    "        tacc_new=results.history['accuracy']\n",
    "        tloss_new=results.history['loss']\n",
    "        vacc_new =results.history['val_accuracy']\n",
    "        vloss_new=results.history['val_loss']\n",
    "        for d in tacc_new:  # need to append new data from training to plot all epochs\n",
    "            tacc.append(d)\n",
    "        for d in tloss_new:\n",
    "            tloss.append(d)\n",
    "        for d in vacc_new:\n",
    "            vacc.append(d)\n",
    "        for d in vloss_new:\n",
    "            vloss.append(d)\n",
    "        tr_plot(tacc,vacc,tloss,vloss)\n",
    "        predict=make_predictions(output_dir, gens[1], steps[1],)\n",
    "        # pred= predict[0]  r_model=predict[1]\n",
    "        accuracy=display_pred(source_dir,output_dir,predict[0],data_sets[6],data_sets[3],data_sets[7], subject, model_size)\n",
    "        decide=wrapup(source_dir,output_dir,subject, accuracy, predict[1], image_size,run_num, model_size)\n",
    "        run=decide[0]\n",
    "        epochs=decide[1] "
   ]
  },
  {
   "cell_type": "code",
   "execution_count": 21,
   "metadata": {
    "scrolled": false
   },
   "outputs": [
    {
     "name": "stderr",
     "output_type": "stream",
     "text": [
      ".-dog_classes2\\images\\image\\train\\10_WELSH_CORGI:  16%|████▌                       | 11/67 [00:00<00:00, 101.19files/s]"
     ]
    },
    {
     "name": "stdout",
     "output_type": "stream",
     "text": [
      "['images']\n",
      "./dog_classes2\\images\n",
      "image\n",
      "./dog_classes2\\images\\image\\train\\10_WELSH_CORGI\\0.jpg\n",
      "./dog_classes2\\images\\image\\train\\10_WELSH_CORGI\\1.jpg\n",
      "./dog_classes2\\images\\image\\train\\10_WELSH_CORGI\\10.jpg\n",
      "./dog_classes2\\images\\image\\train\\10_WELSH_CORGI\\11.jpg\n",
      "./dog_classes2\\images\\image\\train\\10_WELSH_CORGI\\12.jpg\n",
      "./dog_classes2\\images\\image\\train\\10_WELSH_CORGI\\13.jpg\n",
      "./dog_classes2\\images\\image\\train\\10_WELSH_CORGI\\14.jpg\n",
      "./dog_classes2\\images\\image\\train\\10_WELSH_CORGI\\15.jpg\n",
      "./dog_classes2\\images\\image\\train\\10_WELSH_CORGI\\16.jpg\n",
      "./dog_classes2\\images\\image\\train\\10_WELSH_CORGI\\17.jpg\n",
      "./dog_classes2\\images\\image\\train\\10_WELSH_CORGI\\18.jpg\n",
      "./dog_classes2\\images\\image\\train\\10_WELSH_CORGI\\19.jpg\n",
      "./dog_classes2\\images\\image\\train\\10_WELSH_CORGI\\2.jpg\n",
      "./dog_classes2\\images\\image\\train\\10_WELSH_CORGI\\20.jpg\n",
      "./dog_classes2\\images\\image\\train\\10_WELSH_CORGI\\21.jpg\n",
      "./dog_classes2\\images\\image\\train\\10_WELSH_CORGI\\22.jpg\n",
      "./dog_classes2\\images\\image\\train\\10_WELSH_CORGI\\23.jpg\n",
      "./dog_classes2\\images\\image\\train\\10_WELSH_CORGI\\24.jpg"
     ]
    },
    {
     "name": "stderr",
     "output_type": "stream",
     "text": [
      ".-dog_classes2\\images\\image\\train\\10_WELSH_CORGI:  55%|███████████████▍            | 37/67 [00:00<00:00, 112.48files/s]"
     ]
    },
    {
     "name": "stdout",
     "output_type": "stream",
     "text": [
      "\n",
      "./dog_classes2\\images\\image\\train\\10_WELSH_CORGI\\25.jpg\n",
      "./dog_classes2\\images\\image\\train\\10_WELSH_CORGI\\26.jpg\n",
      "./dog_classes2\\images\\image\\train\\10_WELSH_CORGI\\27.jpg\n",
      "./dog_classes2\\images\\image\\train\\10_WELSH_CORGI\\28.jpg\n",
      "./dog_classes2\\images\\image\\train\\10_WELSH_CORGI\\29.jpg\n",
      "./dog_classes2\\images\\image\\train\\10_WELSH_CORGI\\3.jpg\n",
      "./dog_classes2\\images\\image\\train\\10_WELSH_CORGI\\30.jpg\n",
      "./dog_classes2\\images\\image\\train\\10_WELSH_CORGI\\31.jpg\n",
      "./dog_classes2\\images\\image\\train\\10_WELSH_CORGI\\32.jpg\n",
      "./dog_classes2\\images\\image\\train\\10_WELSH_CORGI\\33.jpg\n",
      "./dog_classes2\\images\\image\\train\\10_WELSH_CORGI\\34.jpg\n",
      "./dog_classes2\\images\\image\\train\\10_WELSH_CORGI\\35.jpg\n",
      "./dog_classes2\\images\\image\\train\\10_WELSH_CORGI\\36.jpg\n",
      "./dog_classes2\\images\\image\\train\\10_WELSH_CORGI\\37.jpg\n",
      "./dog_classes2\\images\\image\\train\\10_WELSH_CORGI\\38.jpg\n",
      "./dog_classes2\\images\\image\\train\\10_WELSH_CORGI\\39.jpg\n",
      "./dog_classes2\\images\\image\\train\\10_WELSH_CORGI\\4.jpg\n",
      "./dog_classes2\\images\\image\\train\\10_WELSH_CORGI\\40.jpg\n",
      "./dog_classes2\\images\\image\\train\\10_WELSH_CORGI\\41.jpg\n",
      "./dog_classes2\\images\\image\\train\\10_WELSH_CORGI\\42.jpg\n",
      "./dog_classes2\\images\\image\\train\\10_WELSH_CORGI\\43.jpg\n",
      "./dog_classes2\\images\\image\\train\\10_WELSH_CORGI\\44.jpg\n",
      "./dog_classes2\\images\\image\\train\\10_WELSH_CORGI\\45.jpg\n",
      "./dog_classes2\\images\\image\\train\\10_WELSH_CORGI\\46.jpg\n",
      "./dog_classes2\\images\\image\\train\\10_WELSH_CORGI\\47.jpg\n",
      "./dog_classes2\\images\\image\\train\\10_WELSH_CORGI\\48.jpg\n",
      "./dog_classes2\\images\\image\\train\\10_WELSH_CORGI\\49.jpg"
     ]
    },
    {
     "name": "stderr",
     "output_type": "stream",
     "text": [
      ".-dog_classes2\\images\\image\\train\\10_WELSH_CORGI:  91%|█████████████████████████▍  | 61/67 [00:00<00:00, 110.99files/s]"
     ]
    },
    {
     "name": "stdout",
     "output_type": "stream",
     "text": [
      "\n",
      "./dog_classes2\\images\\image\\train\\10_WELSH_CORGI\\5.jpg\n",
      "./dog_classes2\\images\\image\\train\\10_WELSH_CORGI\\50.jpg\n",
      "./dog_classes2\\images\\image\\train\\10_WELSH_CORGI\\51.jpg\n",
      "./dog_classes2\\images\\image\\train\\10_WELSH_CORGI\\52.jpg\n",
      "./dog_classes2\\images\\image\\train\\10_WELSH_CORGI\\53.jpg\n",
      "./dog_classes2\\images\\image\\train\\10_WELSH_CORGI\\54.jpg\n",
      "./dog_classes2\\images\\image\\train\\10_WELSH_CORGI\\55.jpg\n",
      "./dog_classes2\\images\\image\\train\\10_WELSH_CORGI\\56.jpg\n",
      "./dog_classes2\\images\\image\\train\\10_WELSH_CORGI\\57.jpg\n",
      "./dog_classes2\\images\\image\\train\\10_WELSH_CORGI\\58.jpg\n",
      "./dog_classes2\\images\\image\\train\\10_WELSH_CORGI\\59.jpg\n",
      "./dog_classes2\\images\\image\\train\\10_WELSH_CORGI\\6.jpg\n",
      "./dog_classes2\\images\\image\\train\\10_WELSH_CORGI\\60.jpg\n",
      "./dog_classes2\\images\\image\\train\\10_WELSH_CORGI\\61.jpg\n",
      "./dog_classes2\\images\\image\\train\\10_WELSH_CORGI\\62.jpg\n",
      "./dog_classes2\\images\\image\\train\\10_WELSH_CORGI\\63.jpg\n",
      "./dog_classes2\\images\\image\\train\\10_WELSH_CORGI\\64.jpg\n",
      "./dog_classes2\\images\\image\\train\\10_WELSH_CORGI\\65.jpg\n",
      "./dog_classes2\\images\\image\\train\\10_WELSH_CORGI\\66.jpg"
     ]
    },
    {
     "name": "stderr",
     "output_type": "stream",
     "text": [
      ".-dog_classes2\\images\\image\\train\\11_BULLDOG:   5%|█▌                             | 13/250 [00:00<00:01, 121.81files/s]"
     ]
    },
    {
     "name": "stdout",
     "output_type": "stream",
     "text": [
      "\n",
      "./dog_classes2\\images\\image\\train\\10_WELSH_CORGI\\7.jpg\n",
      "./dog_classes2\\images\\image\\train\\10_WELSH_CORGI\\8.jpg\n",
      "./dog_classes2\\images\\image\\train\\10_WELSH_CORGI\\9.jpg\n",
      "./dog_classes2\\images\\image\\train\\11_BULLDOG\\0.jpg\n",
      "./dog_classes2\\images\\image\\train\\11_BULLDOG\\1.jpg\n",
      "./dog_classes2\\images\\image\\train\\11_BULLDOG\\10.jpg\n",
      "./dog_classes2\\images\\image\\train\\11_BULLDOG\\100.jpg\n",
      "./dog_classes2\\images\\image\\train\\11_BULLDOG\\101.jpg\n",
      "./dog_classes2\\images\\image\\train\\11_BULLDOG\\102.jpg\n",
      "./dog_classes2\\images\\image\\train\\11_BULLDOG\\103.jpg\n",
      "./dog_classes2\\images\\image\\train\\11_BULLDOG\\104.jpg\n",
      "./dog_classes2\\images\\image\\train\\11_BULLDOG\\105.jpg\n",
      "./dog_classes2\\images\\image\\train\\11_BULLDOG\\106.jpg\n",
      "./dog_classes2\\images\\image\\train\\11_BULLDOG\\107.jpg\n",
      "./dog_classes2\\images\\image\\train\\11_BULLDOG\\108.jpg\n",
      "./dog_classes2\\images\\image\\train\\11_BULLDOG\\109.jpg\n",
      "./dog_classes2\\images\\image\\train\\11_BULLDOG\\11.jpg\n",
      "./dog_classes2\\images\\image\\train\\11_BULLDOG\\110.jpg\n",
      "./dog_classes2\\images\\image\\train\\11_BULLDOG\\111.jpg\n",
      "./dog_classes2\\images\\image\\train\\11_BULLDOG\\112.jpg\n",
      "./dog_classes2\\images\\image\\train\\11_BULLDOG\\113.jpg"
     ]
    },
    {
     "name": "stderr",
     "output_type": "stream",
     "text": [
      ".-dog_classes2\\images\\image\\train\\11_BULLDOG:  14%|████▏                          | 34/250 [00:00<00:01, 110.48files/s]"
     ]
    },
    {
     "name": "stdout",
     "output_type": "stream",
     "text": [
      "\n",
      "./dog_classes2\\images\\image\\train\\11_BULLDOG\\114.jpg\n",
      "./dog_classes2\\images\\image\\train\\11_BULLDOG\\115.jpg\n",
      "./dog_classes2\\images\\image\\train\\11_BULLDOG\\116.jpg\n",
      "./dog_classes2\\images\\image\\train\\11_BULLDOG\\117.jpg\n",
      "./dog_classes2\\images\\image\\train\\11_BULLDOG\\118.jpg\n",
      "./dog_classes2\\images\\image\\train\\11_BULLDOG\\119.jpg\n",
      "./dog_classes2\\images\\image\\train\\11_BULLDOG\\12.jpg\n",
      "./dog_classes2\\images\\image\\train\\11_BULLDOG\\120.jpg\n",
      "./dog_classes2\\images\\image\\train\\11_BULLDOG\\121.jpg\n",
      "./dog_classes2\\images\\image\\train\\11_BULLDOG\\122.jpg\n",
      "./dog_classes2\\images\\image\\train\\11_BULLDOG\\123.jpg\n",
      "./dog_classes2\\images\\image\\train\\11_BULLDOG\\124.jpg\n",
      "./dog_classes2\\images\\image\\train\\11_BULLDOG\\125.jpg\n",
      "./dog_classes2\\images\\image\\train\\11_BULLDOG\\126.jpg\n",
      "./dog_classes2\\images\\image\\train\\11_BULLDOG\\127.jpg\n",
      "./dog_classes2\\images\\image\\train\\11_BULLDOG\\128.jpg\n",
      "./dog_classes2\\images\\image\\train\\11_BULLDOG\\129.jpg\n",
      "./dog_classes2\\images\\image\\train\\11_BULLDOG\\13.jpg\n",
      "./dog_classes2\\images\\image\\train\\11_BULLDOG\\130.jpg\n",
      "./dog_classes2\\images\\image\\train\\11_BULLDOG\\131.jpg\n",
      "./dog_classes2\\images\\image\\train\\11_BULLDOG\\132.jpg"
     ]
    },
    {
     "name": "stderr",
     "output_type": "stream",
     "text": [
      ".-dog_classes2\\images\\image\\train\\11_BULLDOG:  22%|██████▊                        | 55/250 [00:00<00:01, 103.74files/s]"
     ]
    },
    {
     "name": "stdout",
     "output_type": "stream",
     "text": [
      "\n",
      "./dog_classes2\\images\\image\\train\\11_BULLDOG\\133.jpg\n",
      "./dog_classes2\\images\\image\\train\\11_BULLDOG\\134.jpg\n",
      "./dog_classes2\\images\\image\\train\\11_BULLDOG\\135.jpg\n",
      "./dog_classes2\\images\\image\\train\\11_BULLDOG\\136.jpg\n",
      "./dog_classes2\\images\\image\\train\\11_BULLDOG\\137.jpg\n",
      "./dog_classes2\\images\\image\\train\\11_BULLDOG\\138.jpg\n",
      "./dog_classes2\\images\\image\\train\\11_BULLDOG\\139.jpg\n",
      "./dog_classes2\\images\\image\\train\\11_BULLDOG\\14.jpg\n",
      "./dog_classes2\\images\\image\\train\\11_BULLDOG\\140.jpg\n",
      "./dog_classes2\\images\\image\\train\\11_BULLDOG\\141.jpg\n",
      "./dog_classes2\\images\\image\\train\\11_BULLDOG\\142.jpg\n",
      "./dog_classes2\\images\\image\\train\\11_BULLDOG\\143.jpg\n",
      "./dog_classes2\\images\\image\\train\\11_BULLDOG\\144.jpg\n",
      "./dog_classes2\\images\\image\\train\\11_BULLDOG\\145.jpg\n",
      "./dog_classes2\\images\\image\\train\\11_BULLDOG\\146.jpg\n",
      "./dog_classes2\\images\\image\\train\\11_BULLDOG\\147.jpg\n",
      "./dog_classes2\\images\\image\\train\\11_BULLDOG\\148.jpg\n",
      "./dog_classes2\\images\\image\\train\\11_BULLDOG\\149.jpg"
     ]
    },
    {
     "name": "stderr",
     "output_type": "stream",
     "text": [
      "\r",
      ".-dog_classes2\\images\\image\\train\\11_BULLDOG:  26%|████████▎                       | 65/250 [00:00<00:01, 95.62files/s]"
     ]
    },
    {
     "name": "stdout",
     "output_type": "stream",
     "text": [
      "\n",
      "./dog_classes2\\images\\image\\train\\11_BULLDOG\\15.jpg\n",
      "./dog_classes2\\images\\image\\train\\11_BULLDOG\\150.jpg\n",
      "./dog_classes2\\images\\image\\train\\11_BULLDOG\\151.jpg\n",
      "./dog_classes2\\images\\image\\train\\11_BULLDOG\\152.jpg\n",
      "./dog_classes2\\images\\image\\train\\11_BULLDOG\\153.jpg\n",
      "./dog_classes2\\images\\image\\train\\11_BULLDOG\\154.jpg\n",
      "./dog_classes2\\images\\image\\train\\11_BULLDOG\\155.jpg\n",
      "./dog_classes2\\images\\image\\train\\11_BULLDOG\\156.jpg\n",
      "./dog_classes2\\images\\image\\train\\11_BULLDOG\\157.jpg\n",
      "./dog_classes2\\images\\image\\train\\11_BULLDOG\\158.jpg\n",
      "./dog_classes2\\images\\image\\train\\11_BULLDOG\\159.jpg\n",
      "./dog_classes2\\images\\image\\train\\11_BULLDOG\\16.jpg\n",
      "./dog_classes2\\images\\image\\train\\11_BULLDOG\\160.jpg\n",
      "./dog_classes2\\images\\image\\train\\11_BULLDOG\\161.jpg\n",
      "./dog_classes2\\images\\image\\train\\11_BULLDOG\\162.jpg\n",
      "./dog_classes2\\images\\image\\train\\11_BULLDOG\\163.jpg\n",
      "./dog_classes2\\images\\image\\train\\11_BULLDOG\\164.jpg"
     ]
    },
    {
     "name": "stderr",
     "output_type": "stream",
     "text": [
      ".-dog_classes2\\images\\image\\train\\11_BULLDOG:  34%|███████████                     | 86/250 [00:00<00:01, 85.60files/s]"
     ]
    },
    {
     "name": "stdout",
     "output_type": "stream",
     "text": [
      "\n",
      "./dog_classes2\\images\\image\\train\\11_BULLDOG\\165.jpg\n",
      "./dog_classes2\\images\\image\\train\\11_BULLDOG\\166.jpg\n",
      "./dog_classes2\\images\\image\\train\\11_BULLDOG\\167.jpg\n",
      "./dog_classes2\\images\\image\\train\\11_BULLDOG\\168.jpg\n",
      "./dog_classes2\\images\\image\\train\\11_BULLDOG\\169.jpg\n",
      "./dog_classes2\\images\\image\\train\\11_BULLDOG\\17.jpg\n",
      "./dog_classes2\\images\\image\\train\\11_BULLDOG\\170.jpg\n",
      "./dog_classes2\\images\\image\\train\\11_BULLDOG\\171.jpg\n",
      "./dog_classes2\\images\\image\\train\\11_BULLDOG\\172.jpg\n",
      "./dog_classes2\\images\\image\\train\\11_BULLDOG\\173.jpg\n",
      "./dog_classes2\\images\\image\\train\\11_BULLDOG\\174.jpg\n",
      "./dog_classes2\\images\\image\\train\\11_BULLDOG\\175.jpg\n",
      "./dog_classes2\\images\\image\\train\\11_BULLDOG\\176.jpg\n",
      "./dog_classes2\\images\\image\\train\\11_BULLDOG\\177.jpg\n"
     ]
    },
    {
     "name": "stderr",
     "output_type": "stream",
     "text": [
      ".-dog_classes2\\images\\image\\train\\11_BULLDOG:  42%|█████████████▏                 | 106/250 [00:01<00:01, 89.70files/s]"
     ]
    },
    {
     "name": "stdout",
     "output_type": "stream",
     "text": [
      "./dog_classes2\\images\\image\\train\\11_BULLDOG\\178.jpg\n",
      "./dog_classes2\\images\\image\\train\\11_BULLDOG\\179.jpg\n",
      "./dog_classes2\\images\\image\\train\\11_BULLDOG\\18.jpg\n",
      "./dog_classes2\\images\\image\\train\\11_BULLDOG\\180.jpg\n",
      "./dog_classes2\\images\\image\\train\\11_BULLDOG\\181.jpg\n",
      "./dog_classes2\\images\\image\\train\\11_BULLDOG\\182.jpg\n",
      "./dog_classes2\\images\\image\\train\\11_BULLDOG\\183.jpg\n",
      "./dog_classes2\\images\\image\\train\\11_BULLDOG\\184.jpg\n",
      "./dog_classes2\\images\\image\\train\\11_BULLDOG\\185.jpg\n",
      "./dog_classes2\\images\\image\\train\\11_BULLDOG\\186.jpg\n",
      "./dog_classes2\\images\\image\\train\\11_BULLDOG\\187.jpg\n",
      "./dog_classes2\\images\\image\\train\\11_BULLDOG\\188.jpg\n",
      "./dog_classes2\\images\\image\\train\\11_BULLDOG\\189.jpg\n",
      "./dog_classes2\\images\\image\\train\\11_BULLDOG\\19.jpg\n",
      "./dog_classes2\\images\\image\\train\\11_BULLDOG\\190.jpg\n",
      "./dog_classes2\\images\\image\\train\\11_BULLDOG\\191.jpg\n",
      "./dog_classes2\\images\\image\\train\\11_BULLDOG\\192.jpg\n",
      "./dog_classes2\\images\\image\\train\\11_BULLDOG\\193.jpg\n",
      "./dog_classes2\\images\\image\\train\\11_BULLDOG\\194.jpg"
     ]
    },
    {
     "name": "stderr",
     "output_type": "stream",
     "text": [
      "\r",
      ".-dog_classes2\\images\\image\\train\\11_BULLDOG:  47%|██████████████▋                | 118/250 [00:01<00:01, 94.59files/s]"
     ]
    },
    {
     "name": "stdout",
     "output_type": "stream",
     "text": [
      "\n",
      "./dog_classes2\\images\\image\\train\\11_BULLDOG\\195.jpg\n",
      "./dog_classes2\\images\\image\\train\\11_BULLDOG\\196.jpg\n",
      "./dog_classes2\\images\\image\\train\\11_BULLDOG\\197.jpg\n",
      "./dog_classes2\\images\\image\\train\\11_BULLDOG\\198.jpg\n",
      "./dog_classes2\\images\\image\\train\\11_BULLDOG\\199.jpg\n",
      "./dog_classes2\\images\\image\\train\\11_BULLDOG\\2.jpg\n",
      "./dog_classes2\\images\\image\\train\\11_BULLDOG\\20.jpg\n",
      "./dog_classes2\\images\\image\\train\\11_BULLDOG\\200.jpg\n",
      "./dog_classes2\\images\\image\\train\\11_BULLDOG\\201.jpg\n",
      "./dog_classes2\\images\\image\\train\\11_BULLDOG\\202.jpg\n",
      "./dog_classes2\\images\\image\\train\\11_BULLDOG\\203.jpg\n",
      "./dog_classes2\\images\\image\\train\\11_BULLDOG\\204.jpg\n",
      "./dog_classes2\\images\\image\\train\\11_BULLDOG\\205.jpg\n",
      "./dog_classes2\\images\\image\\train\\11_BULLDOG\\206.jpg\n",
      "./dog_classes2\\images\\image\\train\\11_BULLDOG\\207.jpg\n",
      "./dog_classes2\\images\\image\\train\\11_BULLDOG\\208.jpg\n",
      "./dog_classes2\\images\\image\\train\\11_BULLDOG\\209.jpg\n",
      "./dog_classes2\\images\\image\\train\\11_BULLDOG\\21.jpg\n",
      "./dog_classes2\\images\\image\\train\\11_BULLDOG\\210.jpg\n",
      "./dog_classes2\\images\\image\\train\\11_BULLDOG\\211.jpg\n",
      "./dog_classes2\\images\\image\\train\\11_BULLDOG\\212.jpg"
     ]
    },
    {
     "name": "stderr",
     "output_type": "stream",
     "text": [
      ".-dog_classes2\\images\\image\\train\\11_BULLDOG:  56%|████████████████▉             | 141/250 [00:01<00:01, 101.89files/s]"
     ]
    },
    {
     "name": "stdout",
     "output_type": "stream",
     "text": [
      "\n",
      "./dog_classes2\\images\\image\\train\\11_BULLDOG\\213.jpg\n",
      "./dog_classes2\\images\\image\\train\\11_BULLDOG\\214.jpg\n",
      "./dog_classes2\\images\\image\\train\\11_BULLDOG\\215.jpg\n",
      "./dog_classes2\\images\\image\\train\\11_BULLDOG\\216.jpg\n",
      "./dog_classes2\\images\\image\\train\\11_BULLDOG\\217.jpg\n",
      "./dog_classes2\\images\\image\\train\\11_BULLDOG\\218.jpg\n",
      "./dog_classes2\\images\\image\\train\\11_BULLDOG\\219.jpg\n",
      "./dog_classes2\\images\\image\\train\\11_BULLDOG\\22.jpg\n",
      "./dog_classes2\\images\\image\\train\\11_BULLDOG\\220.jpg\n",
      "./dog_classes2\\images\\image\\train\\11_BULLDOG\\221.jpg\n",
      "./dog_classes2\\images\\image\\train\\11_BULLDOG\\222.jpg\n",
      "./dog_classes2\\images\\image\\train\\11_BULLDOG\\223.jpg\n",
      "./dog_classes2\\images\\image\\train\\11_BULLDOG\\224.jpg\n",
      "./dog_classes2\\images\\image\\train\\11_BULLDOG\\225.jpg\n",
      "./dog_classes2\\images\\image\\train\\11_BULLDOG\\226.jpg\n",
      "./dog_classes2\\images\\image\\train\\11_BULLDOG\\227.jpg\n",
      "./dog_classes2\\images\\image\\train\\11_BULLDOG\\228.jpg\n",
      "./dog_classes2\\images\\image\\train\\11_BULLDOG\\229.jpg\n",
      "./dog_classes2\\images\\image\\train\\11_BULLDOG\\23.jpg\n",
      "./dog_classes2\\images\\image\\train\\11_BULLDOG\\230.jpg"
     ]
    },
    {
     "name": "stderr",
     "output_type": "stream",
     "text": [
      ".-dog_classes2\\images\\image\\train\\11_BULLDOG:  66%|███████████████████▋          | 164/250 [00:01<00:00, 105.09files/s]"
     ]
    },
    {
     "name": "stdout",
     "output_type": "stream",
     "text": [
      "\n",
      "./dog_classes2\\images\\image\\train\\11_BULLDOG\\231.jpg\n",
      "./dog_classes2\\images\\image\\train\\11_BULLDOG\\232.jpg\n",
      "./dog_classes2\\images\\image\\train\\11_BULLDOG\\233.jpg\n",
      "./dog_classes2\\images\\image\\train\\11_BULLDOG\\234.jpg\n",
      "./dog_classes2\\images\\image\\train\\11_BULLDOG\\235.jpg\n",
      "./dog_classes2\\images\\image\\train\\11_BULLDOG\\236.jpg\n",
      "./dog_classes2\\images\\image\\train\\11_BULLDOG\\237.jpg\n",
      "./dog_classes2\\images\\image\\train\\11_BULLDOG\\238.jpg\n",
      "./dog_classes2\\images\\image\\train\\11_BULLDOG\\239.jpg\n",
      "./dog_classes2\\images\\image\\train\\11_BULLDOG\\24.jpg\n",
      "./dog_classes2\\images\\image\\train\\11_BULLDOG\\240.jpg\n",
      "./dog_classes2\\images\\image\\train\\11_BULLDOG\\241.jpg\n",
      "./dog_classes2\\images\\image\\train\\11_BULLDOG\\242.jpg\n",
      "./dog_classes2\\images\\image\\train\\11_BULLDOG\\243.jpg\n",
      "./dog_classes2\\images\\image\\train\\11_BULLDOG\\244.jpg\n",
      "./dog_classes2\\images\\image\\train\\11_BULLDOG\\245.jpg\n",
      "./dog_classes2\\images\\image\\train\\11_BULLDOG\\246.jpg\n",
      "./dog_classes2\\images\\image\\train\\11_BULLDOG\\247.jpg\n",
      "./dog_classes2\\images\\image\\train\\11_BULLDOG\\248.jpg\n",
      "./dog_classes2\\images\\image\\train\\11_BULLDOG\\249.jpg"
     ]
    },
    {
     "name": "stderr",
     "output_type": "stream",
     "text": [
      "\r",
      ".-dog_classes2\\images\\image\\train\\11_BULLDOG:  70%|█████████████████████▋         | 175/250 [00:01<00:00, 91.71files/s]"
     ]
    },
    {
     "name": "stdout",
     "output_type": "stream",
     "text": [
      "\n",
      "./dog_classes2\\images\\image\\train\\11_BULLDOG\\25.jpg\n",
      "./dog_classes2\\images\\image\\train\\11_BULLDOG\\26.jpg\n",
      "./dog_classes2\\images\\image\\train\\11_BULLDOG\\27.jpg\n",
      "./dog_classes2\\images\\image\\train\\11_BULLDOG\\28.jpg\n",
      "./dog_classes2\\images\\image\\train\\11_BULLDOG\\29.jpg\n",
      "./dog_classes2\\images\\image\\train\\11_BULLDOG\\3.jpg\n",
      "./dog_classes2\\images\\image\\train\\11_BULLDOG\\30.jpg\n",
      "./dog_classes2\\images\\image\\train\\11_BULLDOG\\31.jpg\n",
      "./dog_classes2\\images\\image\\train\\11_BULLDOG\\32.jpg\n",
      "./dog_classes2\\images\\image\\train\\11_BULLDOG\\33.jpg"
     ]
    },
    {
     "name": "stderr",
     "output_type": "stream",
     "text": [
      "\r",
      ".-dog_classes2\\images\\image\\train\\11_BULLDOG:  74%|██████████████████████▉        | 185/250 [00:01<00:00, 78.34files/s]"
     ]
    },
    {
     "name": "stdout",
     "output_type": "stream",
     "text": [
      "\n",
      "./dog_classes2\\images\\image\\train\\11_BULLDOG\\34.jpg\n",
      "./dog_classes2\\images\\image\\train\\11_BULLDOG\\35.jpg\n",
      "./dog_classes2\\images\\image\\train\\11_BULLDOG\\36.jpg\n",
      "./dog_classes2\\images\\image\\train\\11_BULLDOG\\37.jpg\n",
      "./dog_classes2\\images\\image\\train\\11_BULLDOG\\38.jpg\n",
      "./dog_classes2\\images\\image\\train\\11_BULLDOG\\39.jpg\n",
      "./dog_classes2\\images\\image\\train\\11_BULLDOG\\4.jpg\n",
      "./dog_classes2\\images\\image\\train\\11_BULLDOG\\40.jpg\n",
      "./dog_classes2\\images\\image\\train\\11_BULLDOG\\41.jpg\n",
      "./dog_classes2\\images\\image\\train\\11_BULLDOG\\42.jpg\n",
      "./dog_classes2\\images\\image\\train\\11_BULLDOG\\43.jpg\n",
      "./dog_classes2\\images\\image\\train\\11_BULLDOG\\44.jpg\n",
      "./dog_classes2\\images\\image\\train\\11_BULLDOG\\45.jpg\n",
      "./dog_classes2\\images\\image\\train\\11_BULLDOG\\46.jpg\n",
      "./dog_classes2\\images\\image\\train\\11_BULLDOG\\47.jpg"
     ]
    },
    {
     "name": "stderr",
     "output_type": "stream",
     "text": [
      ".-dog_classes2\\images\\image\\train\\11_BULLDOG:  81%|█████████████████████████▏     | 203/250 [00:02<00:00, 82.45files/s]"
     ]
    },
    {
     "name": "stdout",
     "output_type": "stream",
     "text": [
      "\n",
      "./dog_classes2\\images\\image\\train\\11_BULLDOG\\48.jpg\n",
      "./dog_classes2\\images\\image\\train\\11_BULLDOG\\49.jpg\n",
      "./dog_classes2\\images\\image\\train\\11_BULLDOG\\5.jpg\n",
      "./dog_classes2\\images\\image\\train\\11_BULLDOG\\50.jpg\n",
      "./dog_classes2\\images\\image\\train\\11_BULLDOG\\51.jpg\n",
      "./dog_classes2\\images\\image\\train\\11_BULLDOG\\52.jpg\n",
      "./dog_classes2\\images\\image\\train\\11_BULLDOG\\53.jpg\n",
      "./dog_classes2\\images\\image\\train\\11_BULLDOG\\54.jpg\n",
      "./dog_classes2\\images\\image\\train\\11_BULLDOG\\55.jpg\n",
      "./dog_classes2\\images\\image\\train\\11_BULLDOG\\56.jpg\n",
      "./dog_classes2\\images\\image\\train\\11_BULLDOG\\57.jpg\n",
      "./dog_classes2\\images\\image\\train\\11_BULLDOG\\58.jpg\n",
      "./dog_classes2\\images\\image\\train\\11_BULLDOG\\59.jpg\n",
      "./dog_classes2\\images\\image\\train\\11_BULLDOG\\6.jpg\n",
      "./dog_classes2\\images\\image\\train\\11_BULLDOG\\60.jpg"
     ]
    },
    {
     "name": "stderr",
     "output_type": "stream",
     "text": [
      ".-dog_classes2\\images\\image\\train\\11_BULLDOG:  88%|███████████████████████████▍   | 221/250 [00:02<00:00, 83.15files/s]"
     ]
    },
    {
     "name": "stdout",
     "output_type": "stream",
     "text": [
      "\n",
      "./dog_classes2\\images\\image\\train\\11_BULLDOG\\61.jpg\n",
      "./dog_classes2\\images\\image\\train\\11_BULLDOG\\62.jpg\n",
      "./dog_classes2\\images\\image\\train\\11_BULLDOG\\63.jpg\n",
      "./dog_classes2\\images\\image\\train\\11_BULLDOG\\64.jpg\n",
      "./dog_classes2\\images\\image\\train\\11_BULLDOG\\65.jpg\n",
      "./dog_classes2\\images\\image\\train\\11_BULLDOG\\66.jpg\n",
      "./dog_classes2\\images\\image\\train\\11_BULLDOG\\67.jpg\n",
      "./dog_classes2\\images\\image\\train\\11_BULLDOG\\68.jpg\n",
      "./dog_classes2\\images\\image\\train\\11_BULLDOG\\69.jpg\n",
      "./dog_classes2\\images\\image\\train\\11_BULLDOG\\7.jpg\n",
      "./dog_classes2\\images\\image\\train\\11_BULLDOG\\70.jpg\n",
      "./dog_classes2\\images\\image\\train\\11_BULLDOG\\71.jpg\n",
      "./dog_classes2\\images\\image\\train\\11_BULLDOG\\72.jpg\n",
      "./dog_classes2\\images\\image\\train\\11_BULLDOG\\73.jpg\n",
      "./dog_classes2\\images\\image\\train\\11_BULLDOG\\74.jpg\n",
      "./dog_classes2\\images\\image\\train\\11_BULLDOG\\75.jpg\n",
      "./dog_classes2\\images\\image\\train\\11_BULLDOG\\76.jpg"
     ]
    },
    {
     "name": "stderr",
     "output_type": "stream",
     "text": [
      "\r",
      ".-dog_classes2\\images\\image\\train\\11_BULLDOG:  92%|████████████████████████████▌  | 230/250 [00:02<00:00, 82.81files/s]"
     ]
    },
    {
     "name": "stdout",
     "output_type": "stream",
     "text": [
      "\n",
      "./dog_classes2\\images\\image\\train\\11_BULLDOG\\77.jpg\n",
      "./dog_classes2\\images\\image\\train\\11_BULLDOG\\78.jpg\n",
      "./dog_classes2\\images\\image\\train\\11_BULLDOG\\79.jpg\n",
      "./dog_classes2\\images\\image\\train\\11_BULLDOG\\8.jpg\n",
      "./dog_classes2\\images\\image\\train\\11_BULLDOG\\80.jpg\n",
      "./dog_classes2\\images\\image\\train\\11_BULLDOG\\81.jpg\n",
      "./dog_classes2\\images\\image\\train\\11_BULLDOG\\82.jpg\n",
      "./dog_classes2\\images\\image\\train\\11_BULLDOG\\83.jpg\n",
      "./dog_classes2\\images\\image\\train\\11_BULLDOG\\84.jpg\n",
      "./dog_classes2\\images\\image\\train\\11_BULLDOG\\85.jpg\n",
      "./dog_classes2\\images\\image\\train\\11_BULLDOG\\86.jpg\n",
      "./dog_classes2\\images\\image\\train\\11_BULLDOG\\87.jpg\n",
      "./dog_classes2\\images\\image\\train\\11_BULLDOG\\88.jpg\n",
      "./dog_classes2\\images\\image\\train\\11_BULLDOG\\89.jpg"
     ]
    },
    {
     "name": "stderr",
     "output_type": "stream",
     "text": [
      "                                                                                                                       "
     ]
    },
    {
     "name": "stdout",
     "output_type": "stream",
     "text": [
      "\n",
      "./dog_classes2\\images\\image\\train\\11_BULLDOG\\9.jpg\n",
      "./dog_classes2\\images\\image\\train\\11_BULLDOG\\90.jpg\n",
      "./dog_classes2\\images\\image\\train\\11_BULLDOG\\91.jpg\n",
      "./dog_classes2\\images\\image\\train\\11_BULLDOG\\92.jpg\n",
      "./dog_classes2\\images\\image\\train\\11_BULLDOG\\93.jpg\n",
      "./dog_classes2\\images\\image\\train\\11_BULLDOG\\94.jpg\n",
      "./dog_classes2\\images\\image\\train\\11_BULLDOG\\95.jpg\n",
      "./dog_classes2\\images\\image\\train\\11_BULLDOG\\96.jpg\n",
      "./dog_classes2\\images\\image\\train\\11_BULLDOG\\97.jpg\n",
      "./dog_classes2\\images\\image\\train\\11_BULLDOG\\98.jpg\n",
      "./dog_classes2\\images\\image\\train\\11_BULLDOG\\99.jpg\n"
     ]
    },
    {
     "name": "stderr",
     "output_type": "stream",
     "text": [
      ".-dog_classes2\\images\\image\\train\\12_SHETLAND_SHEEPDOG:   6%|█▌                      | 6/95 [00:00<00:01, 57.30files/s]"
     ]
    },
    {
     "name": "stdout",
     "output_type": "stream",
     "text": [
      "./dog_classes2\\images\\image\\train\\12_SHETLAND_SHEEPDOG\\0.jpg\n",
      "./dog_classes2\\images\\image\\train\\12_SHETLAND_SHEEPDOG\\1.jpg\n",
      "./dog_classes2\\images\\image\\train\\12_SHETLAND_SHEEPDOG\\10.jpg\n",
      "./dog_classes2\\images\\image\\train\\12_SHETLAND_SHEEPDOG\\11.jpg\n",
      "./dog_classes2\\images\\image\\train\\12_SHETLAND_SHEEPDOG\\12.jpg\n",
      "./dog_classes2\\images\\image\\train\\12_SHETLAND_SHEEPDOG\\13.jpg\n",
      "./dog_classes2\\images\\image\\train\\12_SHETLAND_SHEEPDOG\\14.jpg\n",
      "./dog_classes2\\images\\image\\train\\12_SHETLAND_SHEEPDOG\\15.jpg\n",
      "./dog_classes2\\images\\image\\train\\12_SHETLAND_SHEEPDOG\\16.jpg\n",
      "./dog_classes2\\images\\image\\train\\12_SHETLAND_SHEEPDOG\\17.jpg\n",
      "./dog_classes2\\images\\image\\train\\12_SHETLAND_SHEEPDOG\\18.jpg\n",
      "./dog_classes2\\images\\image\\train\\12_SHETLAND_SHEEPDOG\\19.jpg\n",
      "./dog_classes2\\images\\image\\train\\12_SHETLAND_SHEEPDOG\\2.jpg"
     ]
    },
    {
     "name": "stderr",
     "output_type": "stream",
     "text": [
      ".-dog_classes2\\images\\image\\train\\12_SHETLAND_SHEEPDOG:  22%|█████                  | 21/95 [00:00<00:01, 63.41files/s]"
     ]
    },
    {
     "name": "stdout",
     "output_type": "stream",
     "text": [
      "\n",
      "./dog_classes2\\images\\image\\train\\12_SHETLAND_SHEEPDOG\\20.jpg\n",
      "./dog_classes2\\images\\image\\train\\12_SHETLAND_SHEEPDOG\\21.jpg\n",
      "./dog_classes2\\images\\image\\train\\12_SHETLAND_SHEEPDOG\\22.jpg\n",
      "./dog_classes2\\images\\image\\train\\12_SHETLAND_SHEEPDOG\\23.jpg\n",
      "./dog_classes2\\images\\image\\train\\12_SHETLAND_SHEEPDOG\\24.jpg\n",
      "./dog_classes2\\images\\image\\train\\12_SHETLAND_SHEEPDOG\\25.jpg\n",
      "./dog_classes2\\images\\image\\train\\12_SHETLAND_SHEEPDOG\\26.jpg\n",
      "./dog_classes2\\images\\image\\train\\12_SHETLAND_SHEEPDOG\\27.jpg\n",
      "./dog_classes2\\images\\image\\train\\12_SHETLAND_SHEEPDOG\\28.jpg\n",
      "./dog_classes2\\images\\image\\train\\12_SHETLAND_SHEEPDOG\\29.jpg\n",
      "./dog_classes2\\images\\image\\train\\12_SHETLAND_SHEEPDOG\\3.jpg\n",
      "./dog_classes2\\images\\image\\train\\12_SHETLAND_SHEEPDOG\\30.jpg\n",
      "./dog_classes2\\images\\image\\train\\12_SHETLAND_SHEEPDOG\\31.jpg\n",
      "./dog_classes2\\images\\image\\train\\12_SHETLAND_SHEEPDOG\\32.jpg"
     ]
    },
    {
     "name": "stderr",
     "output_type": "stream",
     "text": [
      ".-dog_classes2\\images\\image\\train\\12_SHETLAND_SHEEPDOG:  41%|█████████▍             | 39/95 [00:00<00:00, 72.86files/s]"
     ]
    },
    {
     "name": "stdout",
     "output_type": "stream",
     "text": [
      "\n",
      "./dog_classes2\\images\\image\\train\\12_SHETLAND_SHEEPDOG\\33.jpg\n",
      "./dog_classes2\\images\\image\\train\\12_SHETLAND_SHEEPDOG\\34.jpg\n",
      "./dog_classes2\\images\\image\\train\\12_SHETLAND_SHEEPDOG\\35.jpg\n",
      "./dog_classes2\\images\\image\\train\\12_SHETLAND_SHEEPDOG\\36.jpg\n",
      "./dog_classes2\\images\\image\\train\\12_SHETLAND_SHEEPDOG\\37.jpg\n",
      "./dog_classes2\\images\\image\\train\\12_SHETLAND_SHEEPDOG\\38.jpg\n",
      "./dog_classes2\\images\\image\\train\\12_SHETLAND_SHEEPDOG\\39.jpg\n",
      "./dog_classes2\\images\\image\\train\\12_SHETLAND_SHEEPDOG\\4.jpg\n",
      "./dog_classes2\\images\\image\\train\\12_SHETLAND_SHEEPDOG\\40.jpg\n",
      "./dog_classes2\\images\\image\\train\\12_SHETLAND_SHEEPDOG\\41.jpg\n",
      "./dog_classes2\\images\\image\\train\\12_SHETLAND_SHEEPDOG\\42.jpg\n",
      "./dog_classes2\\images\\image\\train\\12_SHETLAND_SHEEPDOG\\43.jpg\n",
      "./dog_classes2\\images\\image\\train\\12_SHETLAND_SHEEPDOG\\44.jpg\n",
      "./dog_classes2\\images\\image\\train\\12_SHETLAND_SHEEPDOG\\45.jpg\n",
      "./dog_classes2\\images\\image\\train\\12_SHETLAND_SHEEPDOG\\46.jpg\n",
      "./dog_classes2\\images\\image\\train\\12_SHETLAND_SHEEPDOG\\47.jpg"
     ]
    },
    {
     "name": "stderr",
     "output_type": "stream",
     "text": [
      ".-dog_classes2\\images\\image\\train\\12_SHETLAND_SHEEPDOG:  59%|█████████████▌         | 56/95 [00:00<00:00, 75.45files/s]"
     ]
    },
    {
     "name": "stdout",
     "output_type": "stream",
     "text": [
      "\n",
      "./dog_classes2\\images\\image\\train\\12_SHETLAND_SHEEPDOG\\48.jpg\n",
      "./dog_classes2\\images\\image\\train\\12_SHETLAND_SHEEPDOG\\49.jpg\n",
      "./dog_classes2\\images\\image\\train\\12_SHETLAND_SHEEPDOG\\5.jpg\n",
      "./dog_classes2\\images\\image\\train\\12_SHETLAND_SHEEPDOG\\50.jpg\n",
      "./dog_classes2\\images\\image\\train\\12_SHETLAND_SHEEPDOG\\51.jpg\n",
      "./dog_classes2\\images\\image\\train\\12_SHETLAND_SHEEPDOG\\52.jpg\n",
      "./dog_classes2\\images\\image\\train\\12_SHETLAND_SHEEPDOG\\53.jpg\n",
      "./dog_classes2\\images\\image\\train\\12_SHETLAND_SHEEPDOG\\54.jpg\n",
      "./dog_classes2\\images\\image\\train\\12_SHETLAND_SHEEPDOG\\55.jpg\n",
      "./dog_classes2\\images\\image\\train\\12_SHETLAND_SHEEPDOG\\56.jpg\n",
      "./dog_classes2\\images\\image\\train\\12_SHETLAND_SHEEPDOG\\57.jpg\n",
      "./dog_classes2\\images\\image\\train\\12_SHETLAND_SHEEPDOG\\58.jpg\n",
      "./dog_classes2\\images\\image\\train\\12_SHETLAND_SHEEPDOG\\59.jpg\n",
      "./dog_classes2\\images\\image\\train\\12_SHETLAND_SHEEPDOG\\6.jpg\n",
      "./dog_classes2\\images\\image\\train\\12_SHETLAND_SHEEPDOG\\60.jpg"
     ]
    },
    {
     "name": "stderr",
     "output_type": "stream",
     "text": [
      "\r",
      ".-dog_classes2\\images\\image\\train\\12_SHETLAND_SHEEPDOG:  68%|███████████████▋       | 65/95 [00:00<00:00, 76.91files/s]"
     ]
    },
    {
     "name": "stdout",
     "output_type": "stream",
     "text": [
      "\n",
      "./dog_classes2\\images\\image\\train\\12_SHETLAND_SHEEPDOG\\61.jpg\n",
      "./dog_classes2\\images\\image\\train\\12_SHETLAND_SHEEPDOG\\62.jpg\n",
      "./dog_classes2\\images\\image\\train\\12_SHETLAND_SHEEPDOG\\63.jpg\n",
      "./dog_classes2\\images\\image\\train\\12_SHETLAND_SHEEPDOG\\64.jpg\n",
      "./dog_classes2\\images\\image\\train\\12_SHETLAND_SHEEPDOG\\65.jpg\n",
      "./dog_classes2\\images\\image\\train\\12_SHETLAND_SHEEPDOG\\66.jpg\n",
      "./dog_classes2\\images\\image\\train\\12_SHETLAND_SHEEPDOG\\67.jpg\n",
      "./dog_classes2\\images\\image\\train\\12_SHETLAND_SHEEPDOG\\68.jpg\n",
      "./dog_classes2\\images\\image\\train\\12_SHETLAND_SHEEPDOG\\69.jpg\n",
      "./dog_classes2\\images\\image\\train\\12_SHETLAND_SHEEPDOG\\7.jpg\n",
      "./dog_classes2\\images\\image\\train\\12_SHETLAND_SHEEPDOG\\70.jpg\n",
      "./dog_classes2\\images\\image\\train\\12_SHETLAND_SHEEPDOG\\71.jpg\n",
      "./dog_classes2\\images\\image\\train\\12_SHETLAND_SHEEPDOG\\72.jpg\n",
      "./dog_classes2\\images\\image\\train\\12_SHETLAND_SHEEPDOG\\73.jpg\n",
      "./dog_classes2\\images\\image\\train\\12_SHETLAND_SHEEPDOG\\74.jpg"
     ]
    },
    {
     "name": "stderr",
     "output_type": "stream",
     "text": [
      ".-dog_classes2\\images\\image\\train\\12_SHETLAND_SHEEPDOG:  87%|████████████████████   | 83/95 [00:01<00:00, 79.38files/s]"
     ]
    },
    {
     "name": "stdout",
     "output_type": "stream",
     "text": [
      "\n",
      "./dog_classes2\\images\\image\\train\\12_SHETLAND_SHEEPDOG\\75.jpg\n",
      "./dog_classes2\\images\\image\\train\\12_SHETLAND_SHEEPDOG\\76.jpg\n",
      "./dog_classes2\\images\\image\\train\\12_SHETLAND_SHEEPDOG\\77.jpg\n",
      "./dog_classes2\\images\\image\\train\\12_SHETLAND_SHEEPDOG\\78.jpg\n",
      "./dog_classes2\\images\\image\\train\\12_SHETLAND_SHEEPDOG\\79.jpg\n",
      "./dog_classes2\\images\\image\\train\\12_SHETLAND_SHEEPDOG\\8.jpg\n",
      "./dog_classes2\\images\\image\\train\\12_SHETLAND_SHEEPDOG\\80.jpg\n",
      "./dog_classes2\\images\\image\\train\\12_SHETLAND_SHEEPDOG\\81.jpg\n",
      "./dog_classes2\\images\\image\\train\\12_SHETLAND_SHEEPDOG\\82.jpg\n",
      "./dog_classes2\\images\\image\\train\\12_SHETLAND_SHEEPDOG\\83.jpg\n",
      "./dog_classes2\\images\\image\\train\\12_SHETLAND_SHEEPDOG\\84.jpg\n",
      "./dog_classes2\\images\\image\\train\\12_SHETLAND_SHEEPDOG\\85.jpg\n",
      "./dog_classes2\\images\\image\\train\\12_SHETLAND_SHEEPDOG\\86.jpg\n",
      "./dog_classes2\\images\\image\\train\\12_SHETLAND_SHEEPDOG\\87.jpg\n",
      "./dog_classes2\\images\\image\\train\\12_SHETLAND_SHEEPDOG\\88.jpg\n",
      "./dog_classes2\\images\\image\\train\\12_SHETLAND_SHEEPDOG\\89.jpg"
     ]
    },
    {
     "name": "stderr",
     "output_type": "stream",
     "text": [
      ".-dog_classes2\\images\\image\\train\\13_SHIBA:   0%|                                           | 0/168 [00:00<?, ?files/s]"
     ]
    },
    {
     "name": "stdout",
     "output_type": "stream",
     "text": [
      "\n",
      "./dog_classes2\\images\\image\\train\\12_SHETLAND_SHEEPDOG\\9.jpg\n",
      "./dog_classes2\\images\\image\\train\\12_SHETLAND_SHEEPDOG\\90.jpg\n",
      "./dog_classes2\\images\\image\\train\\12_SHETLAND_SHEEPDOG\\91.jpg\n",
      "./dog_classes2\\images\\image\\train\\12_SHETLAND_SHEEPDOG\\92.jpg\n",
      "./dog_classes2\\images\\image\\train\\12_SHETLAND_SHEEPDOG\\93.jpg\n",
      "./dog_classes2\\images\\image\\train\\12_SHETLAND_SHEEPDOG\\94.jpg\n",
      "./dog_classes2\\images\\image\\train\\13_SHIBA\\0.jpg\n",
      "./dog_classes2\\images\\image\\train\\13_SHIBA\\1.jpg\n",
      "./dog_classes2\\images\\image\\train\\13_SHIBA\\10.jpg\n",
      "./dog_classes2\\images\\image\\train\\13_SHIBA\\100.jpg\n",
      "./dog_classes2\\images\\image\\train\\13_SHIBA\\101.jpg\n",
      "./dog_classes2\\images\\image\\train\\13_SHIBA\\102.jpg\n",
      "./dog_classes2\\images\\image\\train\\13_SHIBA\\103.jpg"
     ]
    },
    {
     "name": "stderr",
     "output_type": "stream",
     "text": [
      ".-dog_classes2\\images\\image\\train\\13_SHIBA:   8%|██▊                               | 14/168 [00:00<00:02, 67.49files/s]"
     ]
    },
    {
     "name": "stdout",
     "output_type": "stream",
     "text": [
      "\n",
      "./dog_classes2\\images\\image\\train\\13_SHIBA\\104.jpg\n",
      "./dog_classes2\\images\\image\\train\\13_SHIBA\\105.jpg\n",
      "./dog_classes2\\images\\image\\train\\13_SHIBA\\106.jpg\n",
      "./dog_classes2\\images\\image\\train\\13_SHIBA\\107.jpg\n",
      "./dog_classes2\\images\\image\\train\\13_SHIBA\\108.jpg\n",
      "./dog_classes2\\images\\image\\train\\13_SHIBA\\109.jpg\n",
      "./dog_classes2\\images\\image\\train\\13_SHIBA\\11.jpg\n",
      "./dog_classes2\\images\\image\\train\\13_SHIBA\\110.jpg\n",
      "./dog_classes2\\images\\image\\train\\13_SHIBA\\111.jpg\n",
      "./dog_classes2\\images\\image\\train\\13_SHIBA\\112.jpg\n",
      "./dog_classes2\\images\\image\\train\\13_SHIBA\\113.jpg\n",
      "./dog_classes2\\images\\image\\train\\13_SHIBA\\114.jpg\n",
      "./dog_classes2\\images\\image\\train\\13_SHIBA\\115.jpg\n",
      "./dog_classes2\\images\\image\\train\\13_SHIBA\\116.jpg"
     ]
    },
    {
     "name": "stderr",
     "output_type": "stream",
     "text": [
      ".-dog_classes2\\images\\image\\train\\13_SHIBA:  20%|██████▋                           | 33/168 [00:00<00:01, 76.74files/s]"
     ]
    },
    {
     "name": "stdout",
     "output_type": "stream",
     "text": [
      "\n",
      "./dog_classes2\\images\\image\\train\\13_SHIBA\\117.jpg\n",
      "./dog_classes2\\images\\image\\train\\13_SHIBA\\118.jpg\n",
      "./dog_classes2\\images\\image\\train\\13_SHIBA\\119.jpg\n",
      "./dog_classes2\\images\\image\\train\\13_SHIBA\\12.jpg\n",
      "./dog_classes2\\images\\image\\train\\13_SHIBA\\120.jpg\n",
      "./dog_classes2\\images\\image\\train\\13_SHIBA\\121.jpg\n",
      "./dog_classes2\\images\\image\\train\\13_SHIBA\\122.jpg\n",
      "./dog_classes2\\images\\image\\train\\13_SHIBA\\123.jpg\n",
      "./dog_classes2\\images\\image\\train\\13_SHIBA\\124.jpg\n",
      "./dog_classes2\\images\\image\\train\\13_SHIBA\\125.jpg\n",
      "./dog_classes2\\images\\image\\train\\13_SHIBA\\126.jpg\n",
      "./dog_classes2\\images\\image\\train\\13_SHIBA\\127.jpg\n",
      "./dog_classes2\\images\\image\\train\\13_SHIBA\\128.jpg\n",
      "./dog_classes2\\images\\image\\train\\13_SHIBA\\129.jpg\n",
      "./dog_classes2\\images\\image\\train\\13_SHIBA\\13.jpg\n",
      "./dog_classes2\\images\\image\\train\\13_SHIBA\\130.jpg"
     ]
    },
    {
     "name": "stderr",
     "output_type": "stream",
     "text": [
      ".-dog_classes2\\images\\image\\train\\13_SHIBA:  30%|██████████                        | 50/168 [00:00<00:01, 76.41files/s]"
     ]
    },
    {
     "name": "stdout",
     "output_type": "stream",
     "text": [
      "\n",
      "./dog_classes2\\images\\image\\train\\13_SHIBA\\131.jpg\n",
      "./dog_classes2\\images\\image\\train\\13_SHIBA\\132.jpg\n",
      "./dog_classes2\\images\\image\\train\\13_SHIBA\\133.jpg\n",
      "./dog_classes2\\images\\image\\train\\13_SHIBA\\134.jpg\n",
      "./dog_classes2\\images\\image\\train\\13_SHIBA\\135.jpg\n",
      "./dog_classes2\\images\\image\\train\\13_SHIBA\\136.jpg\n",
      "./dog_classes2\\images\\image\\train\\13_SHIBA\\137.jpg\n",
      "./dog_classes2\\images\\image\\train\\13_SHIBA\\138.jpg\n",
      "./dog_classes2\\images\\image\\train\\13_SHIBA\\139.jpg\n",
      "./dog_classes2\\images\\image\\train\\13_SHIBA\\14.jpg\n",
      "./dog_classes2\\images\\image\\train\\13_SHIBA\\140.jpg\n",
      "./dog_classes2\\images\\image\\train\\13_SHIBA\\141.jpg\n",
      "./dog_classes2\\images\\image\\train\\13_SHIBA\\142.jpg\n",
      "./dog_classes2\\images\\image\\train\\13_SHIBA\\143.jpg"
     ]
    },
    {
     "name": "stderr",
     "output_type": "stream",
     "text": [
      "\r",
      ".-dog_classes2\\images\\image\\train\\13_SHIBA:  34%|███████████▌                      | 57/168 [00:00<00:01, 71.47files/s]"
     ]
    },
    {
     "name": "stdout",
     "output_type": "stream",
     "text": [
      "\n",
      "./dog_classes2\\images\\image\\train\\13_SHIBA\\144.jpg\n",
      "./dog_classes2\\images\\image\\train\\13_SHIBA\\145.jpg\n",
      "./dog_classes2\\images\\image\\train\\13_SHIBA\\146.jpg\n",
      "./dog_classes2\\images\\image\\train\\13_SHIBA\\147.jpg\n",
      "./dog_classes2\\images\\image\\train\\13_SHIBA\\148.jpg\n",
      "./dog_classes2\\images\\image\\train\\13_SHIBA\\149.jpg\n",
      "./dog_classes2\\images\\image\\train\\13_SHIBA\\15.jpg\n"
     ]
    },
    {
     "name": "stderr",
     "output_type": "stream",
     "text": [
      "\r",
      ".-dog_classes2\\images\\image\\train\\13_SHIBA:  38%|████████████▉                     | 64/168 [00:00<00:01, 60.59files/s]"
     ]
    },
    {
     "name": "stdout",
     "output_type": "stream",
     "text": [
      "./dog_classes2\\images\\image\\train\\13_SHIBA\\150.jpg\n",
      "./dog_classes2\\images\\image\\train\\13_SHIBA\\151.jpg\n",
      "./dog_classes2\\images\\image\\train\\13_SHIBA\\152.jpg\n",
      "./dog_classes2\\images\\image\\train\\13_SHIBA\\153.jpg\n",
      "./dog_classes2\\images\\image\\train\\13_SHIBA\\154.jpg\n",
      "./dog_classes2\\images\\image\\train\\13_SHIBA\\155.jpg\n",
      "./dog_classes2\\images\\image\\train\\13_SHIBA\\156.jpg\n",
      "./dog_classes2\\images\\image\\train\\13_SHIBA\\157.jpg\n",
      "./dog_classes2\\images\\image\\train\\13_SHIBA\\158.jpg\n",
      "./dog_classes2\\images\\image\\train\\13_SHIBA\\159.jpg\n",
      "./dog_classes2\\images\\image\\train\\13_SHIBA\\16.jpg\n",
      "./dog_classes2\\images\\image\\train\\13_SHIBA\\160.jpg\n",
      "./dog_classes2\\images\\image\\train\\13_SHIBA\\161.jpg\n",
      "./dog_classes2\\images\\image\\train\\13_SHIBA\\162.jpg"
     ]
    },
    {
     "name": "stderr",
     "output_type": "stream",
     "text": [
      ".-dog_classes2\\images\\image\\train\\13_SHIBA:  47%|███████████████▉                  | 79/168 [00:01<00:01, 60.62files/s]"
     ]
    },
    {
     "name": "stdout",
     "output_type": "stream",
     "text": [
      "\n",
      "./dog_classes2\\images\\image\\train\\13_SHIBA\\163.jpg\n",
      "./dog_classes2\\images\\image\\train\\13_SHIBA\\164.jpg\n",
      "./dog_classes2\\images\\image\\train\\13_SHIBA\\165.jpg\n",
      "./dog_classes2\\images\\image\\train\\13_SHIBA\\166.jpg\n",
      "./dog_classes2\\images\\image\\train\\13_SHIBA\\167.jpg\n",
      "./dog_classes2\\images\\image\\train\\13_SHIBA\\17.jpg\n",
      "./dog_classes2\\images\\image\\train\\13_SHIBA\\18.jpg\n",
      "./dog_classes2\\images\\image\\train\\13_SHIBA\\19.jpg\n",
      "./dog_classes2\\images\\image\\train\\13_SHIBA\\2.jpg\n"
     ]
    },
    {
     "name": "stderr",
     "output_type": "stream",
     "text": [
      "\r",
      ".-dog_classes2\\images\\image\\train\\13_SHIBA:  51%|█████████████████▍                | 86/168 [00:01<00:01, 46.87files/s]"
     ]
    },
    {
     "name": "stdout",
     "output_type": "stream",
     "text": [
      "./dog_classes2\\images\\image\\train\\13_SHIBA\\20.jpg\n",
      "./dog_classes2\\images\\image\\train\\13_SHIBA\\21.jpg\n",
      "./dog_classes2\\images\\image\\train\\13_SHIBA\\22.jpg\n",
      "./dog_classes2\\images\\image\\train\\13_SHIBA\\23.jpg\n",
      "./dog_classes2\\images\\image\\train\\13_SHIBA\\24.jpg\n",
      "./dog_classes2\\images\\image\\train\\13_SHIBA\\25.jpg\n",
      "./dog_classes2\\images\\image\\train\\13_SHIBA\\26.jpg\n",
      "./dog_classes2\\images\\image\\train\\13_SHIBA\\27.jpg\n",
      "./dog_classes2\\images\\image\\train\\13_SHIBA\\28.jpg\n",
      "./dog_classes2\\images\\image\\train\\13_SHIBA\\29.jpg"
     ]
    },
    {
     "name": "stderr",
     "output_type": "stream",
     "text": [
      ".-dog_classes2\\images\\image\\train\\13_SHIBA:  60%|███████████████████▋             | 100/168 [00:01<00:01, 53.90files/s]"
     ]
    },
    {
     "name": "stdout",
     "output_type": "stream",
     "text": [
      "\n",
      "./dog_classes2\\images\\image\\train\\13_SHIBA\\3.jpg\n",
      "./dog_classes2\\images\\image\\train\\13_SHIBA\\30.jpg\n",
      "./dog_classes2\\images\\image\\train\\13_SHIBA\\31.jpg\n",
      "./dog_classes2\\images\\image\\train\\13_SHIBA\\32.jpg\n",
      "./dog_classes2\\images\\image\\train\\13_SHIBA\\33.jpg\n",
      "./dog_classes2\\images\\image\\train\\13_SHIBA\\34.jpg\n",
      "./dog_classes2\\images\\image\\train\\13_SHIBA\\35.jpg\n",
      "./dog_classes2\\images\\image\\train\\13_SHIBA\\36.jpg\n",
      "./dog_classes2\\images\\image\\train\\13_SHIBA\\37.jpg\n",
      "./dog_classes2\\images\\image\\train\\13_SHIBA\\38.jpg\n",
      "./dog_classes2\\images\\image\\train\\13_SHIBA\\39.jpg\n",
      "./dog_classes2\\images\\image\\train\\13_SHIBA\\4.jpg\n",
      "./dog_classes2\\images\\image\\train\\13_SHIBA\\40.jpg\n",
      "./dog_classes2\\images\\image\\train\\13_SHIBA\\41.jpg\n"
     ]
    },
    {
     "name": "stderr",
     "output_type": "stream",
     "text": [
      ".-dog_classes2\\images\\image\\train\\13_SHIBA:  66%|█████████████████████▊           | 111/168 [00:01<00:01, 39.54files/s]"
     ]
    },
    {
     "name": "stdout",
     "output_type": "stream",
     "text": [
      "./dog_classes2\\images\\image\\train\\13_SHIBA\\42.jpg\n",
      "./dog_classes2\\images\\image\\train\\13_SHIBA\\43.jpg\n",
      "./dog_classes2\\images\\image\\train\\13_SHIBA\\44.jpg\n",
      "./dog_classes2\\images\\image\\train\\13_SHIBA\\45.jpg\n",
      "./dog_classes2\\images\\image\\train\\13_SHIBA\\46.jpg\n",
      "./dog_classes2\\images\\image\\train\\13_SHIBA\\47.jpg\n",
      "./dog_classes2\\images\\image\\train\\13_SHIBA\\48.jpg\n",
      "./dog_classes2\\images\\image\\train\\13_SHIBA\\49.jpg\n",
      "./dog_classes2\\images\\image\\train\\13_SHIBA\\5.jpg\n",
      "./dog_classes2\\images\\image\\train\\13_SHIBA\\50.jpg"
     ]
    },
    {
     "name": "stderr",
     "output_type": "stream",
     "text": [
      ".-dog_classes2\\images\\image\\train\\13_SHIBA:  75%|████████████████████████▊        | 126/168 [00:02<00:00, 51.05files/s]"
     ]
    },
    {
     "name": "stdout",
     "output_type": "stream",
     "text": [
      "\n",
      "./dog_classes2\\images\\image\\train\\13_SHIBA\\51.jpg\n",
      "./dog_classes2\\images\\image\\train\\13_SHIBA\\52.jpg\n",
      "./dog_classes2\\images\\image\\train\\13_SHIBA\\53.jpg\n",
      "./dog_classes2\\images\\image\\train\\13_SHIBA\\54.jpg\n",
      "./dog_classes2\\images\\image\\train\\13_SHIBA\\55.jpg\n",
      "./dog_classes2\\images\\image\\train\\13_SHIBA\\56.jpg\n",
      "./dog_classes2\\images\\image\\train\\13_SHIBA\\57.jpg\n",
      "./dog_classes2\\images\\image\\train\\13_SHIBA\\58.jpg\n",
      "./dog_classes2\\images\\image\\train\\13_SHIBA\\59.jpg\n",
      "./dog_classes2\\images\\image\\train\\13_SHIBA\\6.jpg\n",
      "./dog_classes2\\images\\image\\train\\13_SHIBA\\60.jpg\n",
      "./dog_classes2\\images\\image\\train\\13_SHIBA\\61.jpg\n",
      "./dog_classes2\\images\\image\\train\\13_SHIBA\\62.jpg\n",
      "./dog_classes2\\images\\image\\train\\13_SHIBA\\63.jpg"
     ]
    },
    {
     "name": "stderr",
     "output_type": "stream",
     "text": [
      "\r",
      ".-dog_classes2\\images\\image\\train\\13_SHIBA:  80%|██████████████████████████▌      | 135/168 [00:02<00:00, 58.13files/s]"
     ]
    },
    {
     "name": "stdout",
     "output_type": "stream",
     "text": [
      "\n",
      "./dog_classes2\\images\\image\\train\\13_SHIBA\\64.jpg\n",
      "./dog_classes2\\images\\image\\train\\13_SHIBA\\65.jpg\n",
      "./dog_classes2\\images\\image\\train\\13_SHIBA\\66.jpg\n",
      "./dog_classes2\\images\\image\\train\\13_SHIBA\\67.jpg\n",
      "./dog_classes2\\images\\image\\train\\13_SHIBA\\68.jpg\n",
      "./dog_classes2\\images\\image\\train\\13_SHIBA\\69.jpg\n",
      "./dog_classes2\\images\\image\\train\\13_SHIBA\\7.jpg\n",
      "./dog_classes2\\images\\image\\train\\13_SHIBA\\70.jpg\n",
      "./dog_classes2\\images\\image\\train\\13_SHIBA\\71.jpg\n",
      "./dog_classes2\\images\\image\\train\\13_SHIBA\\72.jpg\n",
      "./dog_classes2\\images\\image\\train\\13_SHIBA\\73.jpg\n",
      "./dog_classes2\\images\\image\\train\\13_SHIBA\\74.jpg\n",
      "./dog_classes2\\images\\image\\train\\13_SHIBA\\75.jpg\n",
      "./dog_classes2\\images\\image\\train\\13_SHIBA\\76.jpg\n",
      "./dog_classes2\\images\\image\\train\\13_SHIBA\\77.jpg\n",
      "./dog_classes2\\images\\image\\train\\13_SHIBA\\78.jpg\n"
     ]
    },
    {
     "name": "stderr",
     "output_type": "stream",
     "text": [
      ".-dog_classes2\\images\\image\\train\\13_SHIBA:  91%|██████████████████████████████   | 153/168 [00:02<00:00, 68.47files/s]"
     ]
    },
    {
     "name": "stdout",
     "output_type": "stream",
     "text": [
      "./dog_classes2\\images\\image\\train\\13_SHIBA\\79.jpg\n",
      "./dog_classes2\\images\\image\\train\\13_SHIBA\\8.jpg\n",
      "./dog_classes2\\images\\image\\train\\13_SHIBA\\80.jpg\n",
      "./dog_classes2\\images\\image\\train\\13_SHIBA\\81.jpg\n",
      "./dog_classes2\\images\\image\\train\\13_SHIBA\\82.jpg\n",
      "./dog_classes2\\images\\image\\train\\13_SHIBA\\83.jpg\n",
      "./dog_classes2\\images\\image\\train\\13_SHIBA\\84.jpg\n",
      "./dog_classes2\\images\\image\\train\\13_SHIBA\\85.jpg\n",
      "./dog_classes2\\images\\image\\train\\13_SHIBA\\86.jpg\n",
      "./dog_classes2\\images\\image\\train\\13_SHIBA\\87.jpg\n",
      "./dog_classes2\\images\\image\\train\\13_SHIBA\\88.jpg\n",
      "./dog_classes2\\images\\image\\train\\13_SHIBA\\89.jpg\n",
      "./dog_classes2\\images\\image\\train\\13_SHIBA\\9.jpg\n",
      "./dog_classes2\\images\\image\\train\\13_SHIBA\\90.jpg\n",
      "./dog_classes2\\images\\image\\train\\13_SHIBA\\91.jpg\n",
      "./dog_classes2\\images\\image\\train\\13_SHIBA\\92.jpg"
     ]
    },
    {
     "name": "stderr",
     "output_type": "stream",
     "text": [
      ".-dog_classes2\\images\\image\\train\\14_GOLDEN_RETRIEVER:   0%|                                | 0/167 [00:00<?, ?files/s]"
     ]
    },
    {
     "name": "stdout",
     "output_type": "stream",
     "text": [
      "\n",
      "./dog_classes2\\images\\image\\train\\13_SHIBA\\93.jpg\n",
      "./dog_classes2\\images\\image\\train\\13_SHIBA\\94.jpg\n",
      "./dog_classes2\\images\\image\\train\\13_SHIBA\\95.jpg\n",
      "./dog_classes2\\images\\image\\train\\13_SHIBA\\96.jpg\n",
      "./dog_classes2\\images\\image\\train\\13_SHIBA\\97.jpg\n",
      "./dog_classes2\\images\\image\\train\\13_SHIBA\\98.jpg\n",
      "./dog_classes2\\images\\image\\train\\13_SHIBA\\99.jpg\n",
      "./dog_classes2\\images\\image\\train\\14_GOLDEN_RETRIEVER\\0.jpg\n",
      "./dog_classes2\\images\\image\\train\\14_GOLDEN_RETRIEVER\\1.jpg\n",
      "./dog_classes2\\images\\image\\train\\14_GOLDEN_RETRIEVER\\10.jpg\n",
      "./dog_classes2\\images\\image\\train\\14_GOLDEN_RETRIEVER\\100.jpg\n",
      "./dog_classes2\\images\\image\\train\\14_GOLDEN_RETRIEVER\\101.jpg\n",
      "./dog_classes2\\images\\image\\train\\14_GOLDEN_RETRIEVER\\102.jpg\n"
     ]
    },
    {
     "name": "stderr",
     "output_type": "stream",
     "text": [
      ".-dog_classes2\\images\\image\\train\\14_GOLDEN_RETRIEVER:   8%|█▊                     | 13/167 [00:00<00:03, 50.90files/s]"
     ]
    },
    {
     "name": "stdout",
     "output_type": "stream",
     "text": [
      "./dog_classes2\\images\\image\\train\\14_GOLDEN_RETRIEVER\\103.jpg\n",
      "./dog_classes2\\images\\image\\train\\14_GOLDEN_RETRIEVER\\104.jpg\n",
      "./dog_classes2\\images\\image\\train\\14_GOLDEN_RETRIEVER\\105.jpg\n",
      "./dog_classes2\\images\\image\\train\\14_GOLDEN_RETRIEVER\\106.jpg\n",
      "./dog_classes2\\images\\image\\train\\14_GOLDEN_RETRIEVER\\107.jpg\n",
      "./dog_classes2\\images\\image\\train\\14_GOLDEN_RETRIEVER\\108.jpg\n",
      "./dog_classes2\\images\\image\\train\\14_GOLDEN_RETRIEVER\\109.jpg\n",
      "./dog_classes2\\images\\image\\train\\14_GOLDEN_RETRIEVER\\11.jpg\n",
      "./dog_classes2\\images\\image\\train\\14_GOLDEN_RETRIEVER\\110.jpg\n",
      "./dog_classes2\\images\\image\\train\\14_GOLDEN_RETRIEVER\\111.jpg\n",
      "./dog_classes2\\images\\image\\train\\14_GOLDEN_RETRIEVER\\112.jpg"
     ]
    },
    {
     "name": "stderr",
     "output_type": "stream",
     "text": [
      ".-dog_classes2\\images\\image\\train\\14_GOLDEN_RETRIEVER:  17%|███▉                   | 29/167 [00:00<00:02, 61.70files/s]"
     ]
    },
    {
     "name": "stdout",
     "output_type": "stream",
     "text": [
      "\n",
      "./dog_classes2\\images\\image\\train\\14_GOLDEN_RETRIEVER\\113.jpg\n",
      "./dog_classes2\\images\\image\\train\\14_GOLDEN_RETRIEVER\\114.jpg\n",
      "./dog_classes2\\images\\image\\train\\14_GOLDEN_RETRIEVER\\115.jpg\n",
      "./dog_classes2\\images\\image\\train\\14_GOLDEN_RETRIEVER\\116.jpg\n",
      "./dog_classes2\\images\\image\\train\\14_GOLDEN_RETRIEVER\\117.jpg\n",
      "./dog_classes2\\images\\image\\train\\14_GOLDEN_RETRIEVER\\118.jpg\n",
      "./dog_classes2\\images\\image\\train\\14_GOLDEN_RETRIEVER\\119.jpg\n",
      "./dog_classes2\\images\\image\\train\\14_GOLDEN_RETRIEVER\\12.jpg\n",
      "./dog_classes2\\images\\image\\train\\14_GOLDEN_RETRIEVER\\120.jpg\n",
      "./dog_classes2\\images\\image\\train\\14_GOLDEN_RETRIEVER\\121.jpg\n",
      "./dog_classes2\\images\\image\\train\\14_GOLDEN_RETRIEVER\\122.jpg\n",
      "./dog_classes2\\images\\image\\train\\14_GOLDEN_RETRIEVER\\123.jpg\n",
      "./dog_classes2\\images\\image\\train\\14_GOLDEN_RETRIEVER\\124.jpg\n",
      "./dog_classes2\\images\\image\\train\\14_GOLDEN_RETRIEVER\\125.jpg\n",
      "./dog_classes2\\images\\image\\train\\14_GOLDEN_RETRIEVER\\126.jpg"
     ]
    },
    {
     "name": "stderr",
     "output_type": "stream",
     "text": [
      "\r",
      ".-dog_classes2\\images\\image\\train\\14_GOLDEN_RETRIEVER:  23%|█████▎                 | 39/167 [00:00<00:01, 68.05files/s]"
     ]
    },
    {
     "name": "stdout",
     "output_type": "stream",
     "text": [
      "\n",
      "./dog_classes2\\images\\image\\train\\14_GOLDEN_RETRIEVER\\127.jpg\n",
      "./dog_classes2\\images\\image\\train\\14_GOLDEN_RETRIEVER\\128.jpg\n",
      "./dog_classes2\\images\\image\\train\\14_GOLDEN_RETRIEVER\\129.jpg\n",
      "./dog_classes2\\images\\image\\train\\14_GOLDEN_RETRIEVER\\13.jpg\n",
      "./dog_classes2\\images\\image\\train\\14_GOLDEN_RETRIEVER\\130.jpg\n",
      "./dog_classes2\\images\\image\\train\\14_GOLDEN_RETRIEVER\\131.jpg\n",
      "./dog_classes2\\images\\image\\train\\14_GOLDEN_RETRIEVER\\132.jpg\n",
      "./dog_classes2\\images\\image\\train\\14_GOLDEN_RETRIEVER\\133.jpg\n",
      "./dog_classes2\\images\\image\\train\\14_GOLDEN_RETRIEVER\\134.jpg\n",
      "./dog_classes2\\images\\image\\train\\14_GOLDEN_RETRIEVER\\135.jpg\n",
      "./dog_classes2\\images\\image\\train\\14_GOLDEN_RETRIEVER\\136.jpg\n",
      "./dog_classes2\\images\\image\\train\\14_GOLDEN_RETRIEVER\\137.jpg\n",
      "./dog_classes2\\images\\image\\train\\14_GOLDEN_RETRIEVER\\138.jpg\n",
      "./dog_classes2\\images\\image\\train\\14_GOLDEN_RETRIEVER\\139.jpg\n",
      "./dog_classes2\\images\\image\\train\\14_GOLDEN_RETRIEVER\\14.jpg\n",
      "./dog_classes2\\images\\image\\train\\14_GOLDEN_RETRIEVER\\140.jpg\n",
      "./dog_classes2\\images\\image\\train\\14_GOLDEN_RETRIEVER\\141.jpg"
     ]
    },
    {
     "name": "stderr",
     "output_type": "stream",
     "text": [
      ".-dog_classes2\\images\\image\\train\\14_GOLDEN_RETRIEVER:  35%|███████▉               | 58/167 [00:00<00:01, 76.34files/s]"
     ]
    },
    {
     "name": "stdout",
     "output_type": "stream",
     "text": [
      "\n",
      "./dog_classes2\\images\\image\\train\\14_GOLDEN_RETRIEVER\\142.jpg\n",
      "./dog_classes2\\images\\image\\train\\14_GOLDEN_RETRIEVER\\143.jpg\n",
      "./dog_classes2\\images\\image\\train\\14_GOLDEN_RETRIEVER\\144.jpg\n",
      "./dog_classes2\\images\\image\\train\\14_GOLDEN_RETRIEVER\\145.jpg\n",
      "./dog_classes2\\images\\image\\train\\14_GOLDEN_RETRIEVER\\146.jpg\n",
      "./dog_classes2\\images\\image\\train\\14_GOLDEN_RETRIEVER\\147.jpg\n",
      "./dog_classes2\\images\\image\\train\\14_GOLDEN_RETRIEVER\\148.jpg\n",
      "./dog_classes2\\images\\image\\train\\14_GOLDEN_RETRIEVER\\149.jpg\n",
      "./dog_classes2\\images\\image\\train\\14_GOLDEN_RETRIEVER\\15.jpg\n",
      "./dog_classes2\\images\\image\\train\\14_GOLDEN_RETRIEVER\\150.jpg\n",
      "./dog_classes2\\images\\image\\train\\14_GOLDEN_RETRIEVER\\151.jpg\n",
      "./dog_classes2\\images\\image\\train\\14_GOLDEN_RETRIEVER\\152.jpg\n",
      "./dog_classes2\\images\\image\\train\\14_GOLDEN_RETRIEVER\\153.jpg\n",
      "./dog_classes2\\images\\image\\train\\14_GOLDEN_RETRIEVER\\154.jpg"
     ]
    },
    {
     "name": "stderr",
     "output_type": "stream",
     "text": [
      "\r",
      ".-dog_classes2\\images\\image\\train\\14_GOLDEN_RETRIEVER:  40%|█████████              | 66/167 [00:00<00:01, 68.70files/s]"
     ]
    },
    {
     "name": "stdout",
     "output_type": "stream",
     "text": [
      "\n",
      "./dog_classes2\\images\\image\\train\\14_GOLDEN_RETRIEVER\\155.jpg\n",
      "./dog_classes2\\images\\image\\train\\14_GOLDEN_RETRIEVER\\156.jpg\n",
      "./dog_classes2\\images\\image\\train\\14_GOLDEN_RETRIEVER\\157.jpg\n",
      "./dog_classes2\\images\\image\\train\\14_GOLDEN_RETRIEVER\\158.jpg\n",
      "./dog_classes2\\images\\image\\train\\14_GOLDEN_RETRIEVER\\159.jpg\n",
      "./dog_classes2\\images\\image\\train\\14_GOLDEN_RETRIEVER\\16.jpg\n",
      "./dog_classes2\\images\\image\\train\\14_GOLDEN_RETRIEVER\\160.jpg\n",
      "./dog_classes2\\images\\image\\train\\14_GOLDEN_RETRIEVER\\161.jpg\n",
      "./dog_classes2\\images\\image\\train\\14_GOLDEN_RETRIEVER\\162.jpg\n",
      "./dog_classes2\\images\\image\\train\\14_GOLDEN_RETRIEVER\\163.jpg"
     ]
    },
    {
     "name": "stderr",
     "output_type": "stream",
     "text": [
      ".-dog_classes2\\images\\image\\train\\14_GOLDEN_RETRIEVER:  48%|███████████            | 80/167 [00:01<00:01, 60.73files/s]"
     ]
    },
    {
     "name": "stdout",
     "output_type": "stream",
     "text": [
      "\n",
      "./dog_classes2\\images\\image\\train\\14_GOLDEN_RETRIEVER\\164.jpg\n",
      "./dog_classes2\\images\\image\\train\\14_GOLDEN_RETRIEVER\\165.jpg\n",
      "./dog_classes2\\images\\image\\train\\14_GOLDEN_RETRIEVER\\166.jpg\n",
      "./dog_classes2\\images\\image\\train\\14_GOLDEN_RETRIEVER\\17.jpg\n",
      "./dog_classes2\\images\\image\\train\\14_GOLDEN_RETRIEVER\\18.jpg\n",
      "./dog_classes2\\images\\image\\train\\14_GOLDEN_RETRIEVER\\19.jpg\n",
      "./dog_classes2\\images\\image\\train\\14_GOLDEN_RETRIEVER\\2.jpg\n",
      "./dog_classes2\\images\\image\\train\\14_GOLDEN_RETRIEVER\\20.jpg\n",
      "./dog_classes2\\images\\image\\train\\14_GOLDEN_RETRIEVER\\21.jpg\n",
      "./dog_classes2\\images\\image\\train\\14_GOLDEN_RETRIEVER\\22.jpg\n",
      "./dog_classes2\\images\\image\\train\\14_GOLDEN_RETRIEVER\\23.jpg"
     ]
    },
    {
     "name": "stderr",
     "output_type": "stream",
     "text": [
      ".-dog_classes2\\images\\image\\train\\14_GOLDEN_RETRIEVER:  59%|█████████████▋         | 99/167 [00:01<00:00, 72.65files/s]"
     ]
    },
    {
     "name": "stdout",
     "output_type": "stream",
     "text": [
      "\n",
      "./dog_classes2\\images\\image\\train\\14_GOLDEN_RETRIEVER\\24.jpg\n",
      "./dog_classes2\\images\\image\\train\\14_GOLDEN_RETRIEVER\\25.jpg\n",
      "./dog_classes2\\images\\image\\train\\14_GOLDEN_RETRIEVER\\26.jpg\n",
      "./dog_classes2\\images\\image\\train\\14_GOLDEN_RETRIEVER\\27.jpg\n",
      "./dog_classes2\\images\\image\\train\\14_GOLDEN_RETRIEVER\\28.jpg\n",
      "./dog_classes2\\images\\image\\train\\14_GOLDEN_RETRIEVER\\29.jpg\n",
      "./dog_classes2\\images\\image\\train\\14_GOLDEN_RETRIEVER\\3.jpg\n",
      "./dog_classes2\\images\\image\\train\\14_GOLDEN_RETRIEVER\\30.jpg\n",
      "./dog_classes2\\images\\image\\train\\14_GOLDEN_RETRIEVER\\31.jpg\n",
      "./dog_classes2\\images\\image\\train\\14_GOLDEN_RETRIEVER\\32.jpg\n",
      "./dog_classes2\\images\\image\\train\\14_GOLDEN_RETRIEVER\\33.jpg\n",
      "./dog_classes2\\images\\image\\train\\14_GOLDEN_RETRIEVER\\34.jpg\n",
      "./dog_classes2\\images\\image\\train\\14_GOLDEN_RETRIEVER\\35.jpg\n",
      "./dog_classes2\\images\\image\\train\\14_GOLDEN_RETRIEVER\\36.jpg\n",
      "./dog_classes2\\images\\image\\train\\14_GOLDEN_RETRIEVER\\37.jpg\n",
      "./dog_classes2\\images\\image\\train\\14_GOLDEN_RETRIEVER\\38.jpg\n",
      "./dog_classes2\\images\\image\\train\\14_GOLDEN_RETRIEVER\\39.jpg"
     ]
    },
    {
     "name": "stderr",
     "output_type": "stream",
     "text": [
      "\r",
      ".-dog_classes2\\images\\image\\train\\14_GOLDEN_RETRIEVER:  66%|██████████████▍       | 110/167 [00:01<00:00, 79.71files/s]"
     ]
    },
    {
     "name": "stdout",
     "output_type": "stream",
     "text": [
      "\n",
      "./dog_classes2\\images\\image\\train\\14_GOLDEN_RETRIEVER\\4.jpg\n",
      "./dog_classes2\\images\\image\\train\\14_GOLDEN_RETRIEVER\\40.jpg\n",
      "./dog_classes2\\images\\image\\train\\14_GOLDEN_RETRIEVER\\41.jpg\n",
      "./dog_classes2\\images\\image\\train\\14_GOLDEN_RETRIEVER\\42.jpg\n",
      "./dog_classes2\\images\\image\\train\\14_GOLDEN_RETRIEVER\\43.jpg\n",
      "./dog_classes2\\images\\image\\train\\14_GOLDEN_RETRIEVER\\44.jpg\n",
      "./dog_classes2\\images\\image\\train\\14_GOLDEN_RETRIEVER\\45.jpg\n",
      "./dog_classes2\\images\\image\\train\\14_GOLDEN_RETRIEVER\\46.jpg\n",
      "./dog_classes2\\images\\image\\train\\14_GOLDEN_RETRIEVER\\47.jpg\n",
      "./dog_classes2\\images\\image\\train\\14_GOLDEN_RETRIEVER\\48.jpg\n",
      "./dog_classes2\\images\\image\\train\\14_GOLDEN_RETRIEVER\\49.jpg\n",
      "./dog_classes2\\images\\image\\train\\14_GOLDEN_RETRIEVER\\5.jpg\n",
      "./dog_classes2\\images\\image\\train\\14_GOLDEN_RETRIEVER\\50.jpg\n",
      "./dog_classes2\\images\\image\\train\\14_GOLDEN_RETRIEVER\\51.jpg\n"
     ]
    },
    {
     "name": "stderr",
     "output_type": "stream",
     "text": [
      "\r",
      ".-dog_classes2\\images\\image\\train\\14_GOLDEN_RETRIEVER:  71%|███████████████▋      | 119/167 [00:01<00:00, 58.85files/s]"
     ]
    },
    {
     "name": "stdout",
     "output_type": "stream",
     "text": [
      "./dog_classes2\\images\\image\\train\\14_GOLDEN_RETRIEVER\\52.jpg\n",
      "./dog_classes2\\images\\image\\train\\14_GOLDEN_RETRIEVER\\53.jpg\n",
      "./dog_classes2\\images\\image\\train\\14_GOLDEN_RETRIEVER\\54.jpg\n",
      "./dog_classes2\\images\\image\\train\\14_GOLDEN_RETRIEVER\\55.jpg\n",
      "./dog_classes2\\images\\image\\train\\14_GOLDEN_RETRIEVER\\56.jpg\n",
      "./dog_classes2\\images\\image\\train\\14_GOLDEN_RETRIEVER\\57.jpg\n",
      "./dog_classes2\\images\\image\\train\\14_GOLDEN_RETRIEVER\\58.jpg\n",
      "./dog_classes2\\images\\image\\train\\14_GOLDEN_RETRIEVER\\59.jpg\n",
      "./dog_classes2\\images\\image\\train\\14_GOLDEN_RETRIEVER\\6.jpg\n",
      "./dog_classes2\\images\\image\\train\\14_GOLDEN_RETRIEVER\\60.jpg\n",
      "./dog_classes2\\images\\image\\train\\14_GOLDEN_RETRIEVER\\61.jpg\n",
      "./dog_classes2\\images\\image\\train\\14_GOLDEN_RETRIEVER\\62.jpg\n",
      "./dog_classes2\\images\\image\\train\\14_GOLDEN_RETRIEVER\\63.jpg"
     ]
    },
    {
     "name": "stderr",
     "output_type": "stream",
     "text": [
      ".-dog_classes2\\images\\image\\train\\14_GOLDEN_RETRIEVER:  83%|██████████████████▏   | 138/167 [00:01<00:00, 71.38files/s]"
     ]
    },
    {
     "name": "stdout",
     "output_type": "stream",
     "text": [
      "\n",
      "./dog_classes2\\images\\image\\train\\14_GOLDEN_RETRIEVER\\64.jpg\n",
      "./dog_classes2\\images\\image\\train\\14_GOLDEN_RETRIEVER\\65.jpg\n",
      "./dog_classes2\\images\\image\\train\\14_GOLDEN_RETRIEVER\\66.jpg\n",
      "./dog_classes2\\images\\image\\train\\14_GOLDEN_RETRIEVER\\67.jpg\n",
      "./dog_classes2\\images\\image\\train\\14_GOLDEN_RETRIEVER\\68.jpg\n",
      "./dog_classes2\\images\\image\\train\\14_GOLDEN_RETRIEVER\\69.jpg\n",
      "./dog_classes2\\images\\image\\train\\14_GOLDEN_RETRIEVER\\7.jpg\n",
      "./dog_classes2\\images\\image\\train\\14_GOLDEN_RETRIEVER\\70.jpg\n",
      "./dog_classes2\\images\\image\\train\\14_GOLDEN_RETRIEVER\\71.jpg\n",
      "./dog_classes2\\images\\image\\train\\14_GOLDEN_RETRIEVER\\72.jpg\n",
      "./dog_classes2\\images\\image\\train\\14_GOLDEN_RETRIEVER\\73.jpg\n",
      "./dog_classes2\\images\\image\\train\\14_GOLDEN_RETRIEVER\\74.jpg\n",
      "./dog_classes2\\images\\image\\train\\14_GOLDEN_RETRIEVER\\75.jpg\n",
      "./dog_classes2\\images\\image\\train\\14_GOLDEN_RETRIEVER\\76.jpg"
     ]
    },
    {
     "name": "stderr",
     "output_type": "stream",
     "text": [
      ".-dog_classes2\\images\\image\\train\\14_GOLDEN_RETRIEVER:  93%|████████████████████▍ | 155/167 [00:02<00:00, 74.57files/s]"
     ]
    },
    {
     "name": "stdout",
     "output_type": "stream",
     "text": [
      "\n",
      "./dog_classes2\\images\\image\\train\\14_GOLDEN_RETRIEVER\\77.jpg\n",
      "./dog_classes2\\images\\image\\train\\14_GOLDEN_RETRIEVER\\78.jpg\n",
      "./dog_classes2\\images\\image\\train\\14_GOLDEN_RETRIEVER\\79.jpg\n",
      "./dog_classes2\\images\\image\\train\\14_GOLDEN_RETRIEVER\\8.jpg\n",
      "./dog_classes2\\images\\image\\train\\14_GOLDEN_RETRIEVER\\80.jpg\n",
      "./dog_classes2\\images\\image\\train\\14_GOLDEN_RETRIEVER\\81.jpg\n",
      "./dog_classes2\\images\\image\\train\\14_GOLDEN_RETRIEVER\\82.jpg\n",
      "./dog_classes2\\images\\image\\train\\14_GOLDEN_RETRIEVER\\83.jpg\n",
      "./dog_classes2\\images\\image\\train\\14_GOLDEN_RETRIEVER\\84.jpg\n",
      "./dog_classes2\\images\\image\\train\\14_GOLDEN_RETRIEVER\\85.jpg\n",
      "./dog_classes2\\images\\image\\train\\14_GOLDEN_RETRIEVER\\86.jpg\n",
      "./dog_classes2\\images\\image\\train\\14_GOLDEN_RETRIEVER\\87.jpg\n",
      "./dog_classes2\\images\\image\\train\\14_GOLDEN_RETRIEVER\\88.jpg\n",
      "./dog_classes2\\images\\image\\train\\14_GOLDEN_RETRIEVER\\89.jpg\n",
      "./dog_classes2\\images\\image\\train\\14_GOLDEN_RETRIEVER\\9.jpg\n"
     ]
    },
    {
     "name": "stderr",
     "output_type": "stream",
     "text": [
      ".-dog_classes2\\images\\image\\train\\15_ROTTWEILER:   0%|                                      | 0/150 [00:00<?, ?files/s]"
     ]
    },
    {
     "name": "stdout",
     "output_type": "stream",
     "text": [
      "./dog_classes2\\images\\image\\train\\14_GOLDEN_RETRIEVER\\90.jpg\n",
      "./dog_classes2\\images\\image\\train\\14_GOLDEN_RETRIEVER\\91.jpg\n",
      "./dog_classes2\\images\\image\\train\\14_GOLDEN_RETRIEVER\\92.jpg\n",
      "./dog_classes2\\images\\image\\train\\14_GOLDEN_RETRIEVER\\93.jpg\n",
      "./dog_classes2\\images\\image\\train\\14_GOLDEN_RETRIEVER\\94.jpg\n",
      "./dog_classes2\\images\\image\\train\\14_GOLDEN_RETRIEVER\\95.jpg\n",
      "./dog_classes2\\images\\image\\train\\14_GOLDEN_RETRIEVER\\96.jpg\n",
      "./dog_classes2\\images\\image\\train\\14_GOLDEN_RETRIEVER\\97.jpg\n",
      "./dog_classes2\\images\\image\\train\\14_GOLDEN_RETRIEVER\\98.jpg\n",
      "./dog_classes2\\images\\image\\train\\14_GOLDEN_RETRIEVER\\99.jpg\n",
      "./dog_classes2\\images\\image\\train\\15_ROTTWEILER\\0.jpg\n",
      "./dog_classes2\\images\\image\\train\\15_ROTTWEILER\\1.jpg\n",
      "./dog_classes2\\images\\image\\train\\15_ROTTWEILER\\10.jpg\n",
      "./dog_classes2\\images\\image\\train\\15_ROTTWEILER\\100.jpg"
     ]
    },
    {
     "name": "stderr",
     "output_type": "stream",
     "text": [
      ".-dog_classes2\\images\\image\\train\\15_ROTTWEILER:  13%|███▊                         | 20/150 [00:00<00:01, 94.50files/s]"
     ]
    },
    {
     "name": "stdout",
     "output_type": "stream",
     "text": [
      "\n",
      "./dog_classes2\\images\\image\\train\\15_ROTTWEILER\\101.jpg\n",
      "./dog_classes2\\images\\image\\train\\15_ROTTWEILER\\102.jpg\n",
      "./dog_classes2\\images\\image\\train\\15_ROTTWEILER\\103.jpg\n",
      "./dog_classes2\\images\\image\\train\\15_ROTTWEILER\\104.jpg\n",
      "./dog_classes2\\images\\image\\train\\15_ROTTWEILER\\105.jpg\n",
      "./dog_classes2\\images\\image\\train\\15_ROTTWEILER\\106.jpg\n",
      "./dog_classes2\\images\\image\\train\\15_ROTTWEILER\\107.jpg\n",
      "./dog_classes2\\images\\image\\train\\15_ROTTWEILER\\108.jpg\n",
      "./dog_classes2\\images\\image\\train\\15_ROTTWEILER\\109.jpg\n",
      "./dog_classes2\\images\\image\\train\\15_ROTTWEILER\\11.jpg\n",
      "./dog_classes2\\images\\image\\train\\15_ROTTWEILER\\110.jpg\n",
      "./dog_classes2\\images\\image\\train\\15_ROTTWEILER\\111.jpg\n",
      "./dog_classes2\\images\\image\\train\\15_ROTTWEILER\\112.jpg\n",
      "./dog_classes2\\images\\image\\train\\15_ROTTWEILER\\113.jpg\n",
      "./dog_classes2\\images\\image\\train\\15_ROTTWEILER\\114.jpg\n",
      "./dog_classes2\\images\\image\\train\\15_ROTTWEILER\\115.jpg\n",
      "./dog_classes2\\images\\image\\train\\15_ROTTWEILER\\116.jpg"
     ]
    },
    {
     "name": "stderr",
     "output_type": "stream",
     "text": [
      "\r",
      ".-dog_classes2\\images\\image\\train\\15_ROTTWEILER:  20%|█████▊                       | 30/150 [00:00<00:01, 94.80files/s]"
     ]
    },
    {
     "name": "stdout",
     "output_type": "stream",
     "text": [
      "\n",
      "./dog_classes2\\images\\image\\train\\15_ROTTWEILER\\117.jpg\n",
      "./dog_classes2\\images\\image\\train\\15_ROTTWEILER\\118.jpg\n",
      "./dog_classes2\\images\\image\\train\\15_ROTTWEILER\\119.jpg\n",
      "./dog_classes2\\images\\image\\train\\15_ROTTWEILER\\12.jpg\n",
      "./dog_classes2\\images\\image\\train\\15_ROTTWEILER\\120.jpg\n",
      "./dog_classes2\\images\\image\\train\\15_ROTTWEILER\\121.jpg\n",
      "./dog_classes2\\images\\image\\train\\15_ROTTWEILER\\122.jpg\n",
      "./dog_classes2\\images\\image\\train\\15_ROTTWEILER\\123.jpg\n",
      "./dog_classes2\\images\\image\\train\\15_ROTTWEILER\\124.jpg\n",
      "./dog_classes2\\images\\image\\train\\15_ROTTWEILER\\125.jpg\n",
      "./dog_classes2\\images\\image\\train\\15_ROTTWEILER\\126.jpg\n",
      "./dog_classes2\\images\\image\\train\\15_ROTTWEILER\\127.jpg\n",
      "./dog_classes2\\images\\image\\train\\15_ROTTWEILER\\128.jpg\n",
      "./dog_classes2\\images\\image\\train\\15_ROTTWEILER\\129.jpg\n",
      "./dog_classes2\\images\\image\\train\\15_ROTTWEILER\\13.jpg\n",
      "./dog_classes2\\images\\image\\train\\15_ROTTWEILER\\130.jpg\n",
      "./dog_classes2\\images\\image\\train\\15_ROTTWEILER\\131.jpg\n",
      "./dog_classes2\\images\\image\\train\\15_ROTTWEILER\\132.jpg\n",
      "./dog_classes2\\images\\image\\train\\15_ROTTWEILER\\133.jpg"
     ]
    },
    {
     "name": "stderr",
     "output_type": "stream",
     "text": [
      ".-dog_classes2\\images\\image\\train\\15_ROTTWEILER:  33%|█████████▋                   | 50/150 [00:00<00:01, 94.24files/s]"
     ]
    },
    {
     "name": "stdout",
     "output_type": "stream",
     "text": [
      "\n",
      "./dog_classes2\\images\\image\\train\\15_ROTTWEILER\\134.jpg\n",
      "./dog_classes2\\images\\image\\train\\15_ROTTWEILER\\135.jpg\n",
      "./dog_classes2\\images\\image\\train\\15_ROTTWEILER\\136.jpg\n",
      "./dog_classes2\\images\\image\\train\\15_ROTTWEILER\\137.jpg\n",
      "./dog_classes2\\images\\image\\train\\15_ROTTWEILER\\138.jpg\n",
      "./dog_classes2\\images\\image\\train\\15_ROTTWEILER\\139.jpg\n",
      "./dog_classes2\\images\\image\\train\\15_ROTTWEILER\\14.jpg\n",
      "./dog_classes2\\images\\image\\train\\15_ROTTWEILER\\140.jpg\n",
      "./dog_classes2\\images\\image\\train\\15_ROTTWEILER\\141.jpg\n",
      "./dog_classes2\\images\\image\\train\\15_ROTTWEILER\\142.jpg\n",
      "./dog_classes2\\images\\image\\train\\15_ROTTWEILER\\143.jpg\n",
      "./dog_classes2\\images\\image\\train\\15_ROTTWEILER\\144.jpg\n",
      "./dog_classes2\\images\\image\\train\\15_ROTTWEILER\\145.jpg\n",
      "./dog_classes2\\images\\image\\train\\15_ROTTWEILER\\146.jpg\n",
      "./dog_classes2\\images\\image\\train\\15_ROTTWEILER\\147.jpg\n",
      "./dog_classes2\\images\\image\\train\\15_ROTTWEILER\\148.jpg\n",
      "./dog_classes2\\images\\image\\train\\15_ROTTWEILER\\149.jpg\n",
      "./dog_classes2\\images\\image\\train\\15_ROTTWEILER\\15.jpg"
     ]
    },
    {
     "name": "stderr",
     "output_type": "stream",
     "text": [
      ".-dog_classes2\\images\\image\\train\\15_ROTTWEILER:  46%|█████████████▎               | 69/150 [00:00<00:00, 92.65files/s]"
     ]
    },
    {
     "name": "stdout",
     "output_type": "stream",
     "text": [
      "\n",
      "./dog_classes2\\images\\image\\train\\15_ROTTWEILER\\16.jpg\n",
      "./dog_classes2\\images\\image\\train\\15_ROTTWEILER\\17.jpg\n",
      "./dog_classes2\\images\\image\\train\\15_ROTTWEILER\\18.jpg\n",
      "./dog_classes2\\images\\image\\train\\15_ROTTWEILER\\19.jpg\n",
      "./dog_classes2\\images\\image\\train\\15_ROTTWEILER\\2.jpg\n",
      "./dog_classes2\\images\\image\\train\\15_ROTTWEILER\\20.jpg\n",
      "./dog_classes2\\images\\image\\train\\15_ROTTWEILER\\21.jpg\n",
      "./dog_classes2\\images\\image\\train\\15_ROTTWEILER\\22.jpg\n",
      "./dog_classes2\\images\\image\\train\\15_ROTTWEILER\\23.jpg\n",
      "./dog_classes2\\images\\image\\train\\15_ROTTWEILER\\24.jpg\n",
      "./dog_classes2\\images\\image\\train\\15_ROTTWEILER\\25.jpg\n",
      "./dog_classes2\\images\\image\\train\\15_ROTTWEILER\\26.jpg\n",
      "./dog_classes2\\images\\image\\train\\15_ROTTWEILER\\27.jpg\n",
      "./dog_classes2\\images\\image\\train\\15_ROTTWEILER\\28.jpg\n",
      "./dog_classes2\\images\\image\\train\\15_ROTTWEILER\\29.jpg\n",
      "./dog_classes2\\images\\image\\train\\15_ROTTWEILER\\3.jpg"
     ]
    },
    {
     "name": "stderr",
     "output_type": "stream",
     "text": [
      "\r",
      ".-dog_classes2\\images\\image\\train\\15_ROTTWEILER:  52%|███████████████              | 78/150 [00:00<00:00, 88.14files/s]"
     ]
    },
    {
     "name": "stdout",
     "output_type": "stream",
     "text": [
      "\n",
      "./dog_classes2\\images\\image\\train\\15_ROTTWEILER\\30.jpg\n",
      "./dog_classes2\\images\\image\\train\\15_ROTTWEILER\\31.jpg\n",
      "./dog_classes2\\images\\image\\train\\15_ROTTWEILER\\32.jpg\n",
      "./dog_classes2\\images\\image\\train\\15_ROTTWEILER\\33.jpg\n",
      "./dog_classes2\\images\\image\\train\\15_ROTTWEILER\\34.jpg\n",
      "./dog_classes2\\images\\image\\train\\15_ROTTWEILER\\35.jpg\n",
      "./dog_classes2\\images\\image\\train\\15_ROTTWEILER\\36.jpg\n",
      "./dog_classes2\\images\\image\\train\\15_ROTTWEILER\\37.jpg\n"
     ]
    },
    {
     "name": "stderr",
     "output_type": "stream",
     "text": [
      "\r",
      ".-dog_classes2\\images\\image\\train\\15_ROTTWEILER:  58%|████████████████▊            | 87/150 [00:01<00:01, 59.23files/s]"
     ]
    },
    {
     "name": "stdout",
     "output_type": "stream",
     "text": [
      "./dog_classes2\\images\\image\\train\\15_ROTTWEILER\\38.jpg\n",
      "./dog_classes2\\images\\image\\train\\15_ROTTWEILER\\39.jpg\n",
      "./dog_classes2\\images\\image\\train\\15_ROTTWEILER\\4.jpg\n",
      "./dog_classes2\\images\\image\\train\\15_ROTTWEILER\\40.jpg\n",
      "./dog_classes2\\images\\image\\train\\15_ROTTWEILER\\41.jpg\n",
      "./dog_classes2\\images\\image\\train\\15_ROTTWEILER\\42.jpg\n",
      "./dog_classes2\\images\\image\\train\\15_ROTTWEILER\\43.jpg\n",
      "./dog_classes2\\images\\image\\train\\15_ROTTWEILER\\44.jpg\n",
      "./dog_classes2\\images\\image\\train\\15_ROTTWEILER\\45.jpg\n",
      "./dog_classes2\\images\\image\\train\\15_ROTTWEILER\\46.jpg"
     ]
    },
    {
     "name": "stderr",
     "output_type": "stream",
     "text": [
      ".-dog_classes2\\images\\image\\train\\15_ROTTWEILER:  69%|███████████████████▏        | 103/150 [00:01<00:00, 66.51files/s]"
     ]
    },
    {
     "name": "stdout",
     "output_type": "stream",
     "text": [
      "\n",
      "./dog_classes2\\images\\image\\train\\15_ROTTWEILER\\47.jpg\n",
      "./dog_classes2\\images\\image\\train\\15_ROTTWEILER\\48.jpg\n",
      "./dog_classes2\\images\\image\\train\\15_ROTTWEILER\\49.jpg\n",
      "./dog_classes2\\images\\image\\train\\15_ROTTWEILER\\5.jpg\n",
      "./dog_classes2\\images\\image\\train\\15_ROTTWEILER\\50.jpg\n",
      "./dog_classes2\\images\\image\\train\\15_ROTTWEILER\\51.jpg\n",
      "./dog_classes2\\images\\image\\train\\15_ROTTWEILER\\52.jpg\n",
      "./dog_classes2\\images\\image\\train\\15_ROTTWEILER\\53.jpg\n",
      "./dog_classes2\\images\\image\\train\\15_ROTTWEILER\\54.jpg\n",
      "./dog_classes2\\images\\image\\train\\15_ROTTWEILER\\55.jpg\n",
      "./dog_classes2\\images\\image\\train\\15_ROTTWEILER\\56.jpg\n",
      "./dog_classes2\\images\\image\\train\\15_ROTTWEILER\\57.jpg\n",
      "./dog_classes2\\images\\image\\train\\15_ROTTWEILER\\58.jpg\n",
      "./dog_classes2\\images\\image\\train\\15_ROTTWEILER\\59.jpg"
     ]
    },
    {
     "name": "stderr",
     "output_type": "stream",
     "text": [
      ".-dog_classes2\\images\\image\\train\\15_ROTTWEILER:  81%|██████████████████████▌     | 121/150 [00:01<00:00, 74.79files/s]"
     ]
    },
    {
     "name": "stdout",
     "output_type": "stream",
     "text": [
      "\n",
      "./dog_classes2\\images\\image\\train\\15_ROTTWEILER\\6.jpg\n",
      "./dog_classes2\\images\\image\\train\\15_ROTTWEILER\\60.jpg\n",
      "./dog_classes2\\images\\image\\train\\15_ROTTWEILER\\61.jpg\n",
      "./dog_classes2\\images\\image\\train\\15_ROTTWEILER\\62.jpg\n",
      "./dog_classes2\\images\\image\\train\\15_ROTTWEILER\\63.jpg\n",
      "./dog_classes2\\images\\image\\train\\15_ROTTWEILER\\64.jpg\n",
      "./dog_classes2\\images\\image\\train\\15_ROTTWEILER\\65.jpg\n",
      "./dog_classes2\\images\\image\\train\\15_ROTTWEILER\\66.jpg\n",
      "./dog_classes2\\images\\image\\train\\15_ROTTWEILER\\67.jpg\n",
      "./dog_classes2\\images\\image\\train\\15_ROTTWEILER\\68.jpg\n",
      "./dog_classes2\\images\\image\\train\\15_ROTTWEILER\\69.jpg\n",
      "./dog_classes2\\images\\image\\train\\15_ROTTWEILER\\7.jpg\n",
      "./dog_classes2\\images\\image\\train\\15_ROTTWEILER\\70.jpg\n",
      "./dog_classes2\\images\\image\\train\\15_ROTTWEILER\\71.jpg\n",
      "./dog_classes2\\images\\image\\train\\15_ROTTWEILER\\72.jpg\n",
      "./dog_classes2\\images\\image\\train\\15_ROTTWEILER\\73.jpg"
     ]
    },
    {
     "name": "stderr",
     "output_type": "stream",
     "text": [
      "\r",
      ".-dog_classes2\\images\\image\\train\\15_ROTTWEILER:  87%|████████████████████████▎   | 130/150 [00:01<00:00, 77.82files/s]"
     ]
    },
    {
     "name": "stdout",
     "output_type": "stream",
     "text": [
      "\n",
      "./dog_classes2\\images\\image\\train\\15_ROTTWEILER\\74.jpg\n",
      "./dog_classes2\\images\\image\\train\\15_ROTTWEILER\\75.jpg\n",
      "./dog_classes2\\images\\image\\train\\15_ROTTWEILER\\76.jpg\n",
      "./dog_classes2\\images\\image\\train\\15_ROTTWEILER\\77.jpg\n",
      "./dog_classes2\\images\\image\\train\\15_ROTTWEILER\\78.jpg\n",
      "./dog_classes2\\images\\image\\train\\15_ROTTWEILER\\79.jpg\n",
      "./dog_classes2\\images\\image\\train\\15_ROTTWEILER\\8.jpg\n",
      "./dog_classes2\\images\\image\\train\\15_ROTTWEILER\\80.jpg\n",
      "./dog_classes2\\images\\image\\train\\15_ROTTWEILER\\81.jpg\n",
      "./dog_classes2\\images\\image\\train\\15_ROTTWEILER\\82.jpg\n",
      "./dog_classes2\\images\\image\\train\\15_ROTTWEILER\\83.jpg\n",
      "./dog_classes2\\images\\image\\train\\15_ROTTWEILER\\84.jpg\n",
      "./dog_classes2\\images\\image\\train\\15_ROTTWEILER\\85.jpg\n",
      "./dog_classes2\\images\\image\\train\\15_ROTTWEILER\\86.jpg\n",
      "./dog_classes2\\images\\image\\train\\15_ROTTWEILER\\87.jpg\n",
      "./dog_classes2\\images\\image\\train\\15_ROTTWEILER\\88.jpg"
     ]
    },
    {
     "name": "stderr",
     "output_type": "stream",
     "text": [
      ".-dog_classes2\\images\\image\\train\\17_PUG:   0%|                                             | 0/340 [00:00<?, ?files/s]"
     ]
    },
    {
     "name": "stdout",
     "output_type": "stream",
     "text": [
      "\n",
      "./dog_classes2\\images\\image\\train\\15_ROTTWEILER\\89.jpg\n",
      "./dog_classes2\\images\\image\\train\\15_ROTTWEILER\\9.jpg\n",
      "./dog_classes2\\images\\image\\train\\15_ROTTWEILER\\90.jpg\n",
      "./dog_classes2\\images\\image\\train\\15_ROTTWEILER\\91.jpg\n",
      "./dog_classes2\\images\\image\\train\\15_ROTTWEILER\\92.jpg\n",
      "./dog_classes2\\images\\image\\train\\15_ROTTWEILER\\93.jpg\n",
      "./dog_classes2\\images\\image\\train\\15_ROTTWEILER\\94.jpg\n",
      "./dog_classes2\\images\\image\\train\\15_ROTTWEILER\\95.jpg\n",
      "./dog_classes2\\images\\image\\train\\15_ROTTWEILER\\96.jpg\n",
      "./dog_classes2\\images\\image\\train\\15_ROTTWEILER\\97.jpg\n",
      "./dog_classes2\\images\\image\\train\\15_ROTTWEILER\\98.jpg\n",
      "./dog_classes2\\images\\image\\train\\15_ROTTWEILER\\99.jpg\n",
      "./dog_classes2\\images\\image\\train\\17_PUG\\0.jpg\n",
      "./dog_classes2\\images\\image\\train\\17_PUG\\1.jpg"
     ]
    },
    {
     "name": "stderr",
     "output_type": "stream",
     "text": [
      ".-dog_classes2\\images\\image\\train\\17_PUG:   5%|█▊                                  | 17/340 [00:00<00:04, 80.62files/s]"
     ]
    },
    {
     "name": "stdout",
     "output_type": "stream",
     "text": [
      "\n",
      "./dog_classes2\\images\\image\\train\\17_PUG\\10.jpg\n",
      "./dog_classes2\\images\\image\\train\\17_PUG\\100.jpg\n",
      "./dog_classes2\\images\\image\\train\\17_PUG\\101.jpg\n",
      "./dog_classes2\\images\\image\\train\\17_PUG\\102.jpg\n",
      "./dog_classes2\\images\\image\\train\\17_PUG\\103.jpg\n",
      "./dog_classes2\\images\\image\\train\\17_PUG\\104.jpg\n",
      "./dog_classes2\\images\\image\\train\\17_PUG\\105.jpg\n",
      "./dog_classes2\\images\\image\\train\\17_PUG\\106.jpg\n",
      "./dog_classes2\\images\\image\\train\\17_PUG\\107.jpg\n",
      "./dog_classes2\\images\\image\\train\\17_PUG\\108.jpg\n",
      "./dog_classes2\\images\\image\\train\\17_PUG\\109.jpg\n",
      "./dog_classes2\\images\\image\\train\\17_PUG\\11.jpg\n",
      "./dog_classes2\\images\\image\\train\\17_PUG\\110.jpg\n",
      "./dog_classes2\\images\\image\\train\\17_PUG\\111.jpg\n",
      "./dog_classes2\\images\\image\\train\\17_PUG\\112.jpg\n"
     ]
    },
    {
     "name": "stderr",
     "output_type": "stream",
     "text": [
      "\r",
      ".-dog_classes2\\images\\image\\train\\17_PUG:   7%|██▌                                 | 24/340 [00:00<00:04, 76.67files/s]"
     ]
    },
    {
     "name": "stdout",
     "output_type": "stream",
     "text": [
      "./dog_classes2\\images\\image\\train\\17_PUG\\113.jpg\n",
      "./dog_classes2\\images\\image\\train\\17_PUG\\114.jpg\n",
      "./dog_classes2\\images\\image\\train\\17_PUG\\115.jpg\n",
      "./dog_classes2\\images\\image\\train\\17_PUG\\116.jpg\n",
      "./dog_classes2\\images\\image\\train\\17_PUG\\117.jpg\n",
      "./dog_classes2\\images\\image\\train\\17_PUG\\118.jpg\n",
      "./dog_classes2\\images\\image\\train\\17_PUG\\119.jpg\n",
      "./dog_classes2\\images\\image\\train\\17_PUG\\12.jpg\n",
      "./dog_classes2\\images\\image\\train\\17_PUG\\120.jpg\n",
      "./dog_classes2\\images\\image\\train\\17_PUG\\121.jpg\n",
      "./dog_classes2\\images\\image\\train\\17_PUG\\122.jpg\n",
      "./dog_classes2\\images\\image\\train\\17_PUG\\123.jpg\n",
      "./dog_classes2\\images\\image\\train\\17_PUG\\124.jpg\n",
      "./dog_classes2\\images\\image\\train\\17_PUG\\125.jpg\n",
      "./dog_classes2\\images\\image\\train\\17_PUG\\126.jpg"
     ]
    },
    {
     "name": "stderr",
     "output_type": "stream",
     "text": [
      ".-dog_classes2\\images\\image\\train\\17_PUG:  11%|████▏                               | 39/340 [00:00<00:04, 73.02files/s]"
     ]
    },
    {
     "name": "stdout",
     "output_type": "stream",
     "text": [
      "\n",
      "./dog_classes2\\images\\image\\train\\17_PUG\\127.jpg\n",
      "./dog_classes2\\images\\image\\train\\17_PUG\\128.jpg\n",
      "./dog_classes2\\images\\image\\train\\17_PUG\\129.jpg\n",
      "./dog_classes2\\images\\image\\train\\17_PUG\\13.jpg\n",
      "./dog_classes2\\images\\image\\train\\17_PUG\\130.jpg\n",
      "./dog_classes2\\images\\image\\train\\17_PUG\\131.jpg\n",
      "./dog_classes2\\images\\image\\train\\17_PUG\\132.jpg\n",
      "./dog_classes2\\images\\image\\train\\17_PUG\\133.jpg\n",
      "./dog_classes2\\images\\image\\train\\17_PUG\\134.jpg\n",
      "./dog_classes2\\images\\image\\train\\17_PUG\\135.jpg\n",
      "./dog_classes2\\images\\image\\train\\17_PUG\\136.jpg\n",
      "./dog_classes2\\images\\image\\train\\17_PUG\\137.jpg\n",
      "./dog_classes2\\images\\image\\train\\17_PUG\\138.jpg"
     ]
    },
    {
     "name": "stderr",
     "output_type": "stream",
     "text": [
      ".-dog_classes2\\images\\image\\train\\17_PUG:  16%|█████▊                              | 55/340 [00:00<00:03, 71.91files/s]"
     ]
    },
    {
     "name": "stdout",
     "output_type": "stream",
     "text": [
      "\n",
      "./dog_classes2\\images\\image\\train\\17_PUG\\139.jpg\n",
      "./dog_classes2\\images\\image\\train\\17_PUG\\14.jpg\n",
      "./dog_classes2\\images\\image\\train\\17_PUG\\140.jpg\n",
      "./dog_classes2\\images\\image\\train\\17_PUG\\141.jpg\n",
      "./dog_classes2\\images\\image\\train\\17_PUG\\142.jpg\n",
      "./dog_classes2\\images\\image\\train\\17_PUG\\143.jpg\n",
      "./dog_classes2\\images\\image\\train\\17_PUG\\144.jpg\n",
      "./dog_classes2\\images\\image\\train\\17_PUG\\145.jpg\n",
      "./dog_classes2\\images\\image\\train\\17_PUG\\146.jpg\n",
      "./dog_classes2\\images\\image\\train\\17_PUG\\147.jpg\n",
      "./dog_classes2\\images\\image\\train\\17_PUG\\148.jpg\n",
      "./dog_classes2\\images\\image\\train\\17_PUG\\149.jpg\n",
      "./dog_classes2\\images\\image\\train\\17_PUG\\15.jpg"
     ]
    },
    {
     "name": "stderr",
     "output_type": "stream",
     "text": [
      ".-dog_classes2\\images\\image\\train\\17_PUG:  21%|███████▌                            | 71/340 [00:00<00:03, 73.39files/s]"
     ]
    },
    {
     "name": "stdout",
     "output_type": "stream",
     "text": [
      "\n",
      "./dog_classes2\\images\\image\\train\\17_PUG\\150.jpg\n",
      "./dog_classes2\\images\\image\\train\\17_PUG\\151.jpg\n",
      "./dog_classes2\\images\\image\\train\\17_PUG\\152.jpg\n",
      "./dog_classes2\\images\\image\\train\\17_PUG\\153.jpg\n",
      "./dog_classes2\\images\\image\\train\\17_PUG\\154.jpg\n",
      "./dog_classes2\\images\\image\\train\\17_PUG\\155.jpg\n",
      "./dog_classes2\\images\\image\\train\\17_PUG\\156.jpg\n",
      "./dog_classes2\\images\\image\\train\\17_PUG\\157.jpg\n",
      "./dog_classes2\\images\\image\\train\\17_PUG\\158.jpg\n",
      "./dog_classes2\\images\\image\\train\\17_PUG\\159.jpg\n",
      "./dog_classes2\\images\\image\\train\\17_PUG\\16.jpg\n",
      "./dog_classes2\\images\\image\\train\\17_PUG\\160.jpg\n",
      "./dog_classes2\\images\\image\\train\\17_PUG\\161.jpg\n",
      "./dog_classes2\\images\\image\\train\\17_PUG\\162.jpg"
     ]
    },
    {
     "name": "stderr",
     "output_type": "stream",
     "text": [
      "\r",
      ".-dog_classes2\\images\\image\\train\\17_PUG:  23%|████████▎                           | 79/340 [00:01<00:03, 69.72files/s]"
     ]
    },
    {
     "name": "stdout",
     "output_type": "stream",
     "text": [
      "\n",
      "./dog_classes2\\images\\image\\train\\17_PUG\\163.jpg\n",
      "./dog_classes2\\images\\image\\train\\17_PUG\\164.jpg\n",
      "./dog_classes2\\images\\image\\train\\17_PUG\\165.jpg\n",
      "./dog_classes2\\images\\image\\train\\17_PUG\\166.jpg\n",
      "./dog_classes2\\images\\image\\train\\17_PUG\\167.jpg\n",
      "./dog_classes2\\images\\image\\train\\17_PUG\\168.jpg\n",
      "./dog_classes2\\images\\image\\train\\17_PUG\\169.jpg\n",
      "./dog_classes2\\images\\image\\train\\17_PUG\\17.jpg\n",
      "./dog_classes2\\images\\image\\train\\17_PUG\\170.jpg\n",
      "./dog_classes2\\images\\image\\train\\17_PUG\\171.jpg\n",
      "./dog_classes2\\images\\image\\train\\17_PUG\\172.jpg\n",
      "./dog_classes2\\images\\image\\train\\17_PUG\\173.jpg\n",
      "./dog_classes2\\images\\image\\train\\17_PUG\\174.jpg"
     ]
    },
    {
     "name": "stderr",
     "output_type": "stream",
     "text": [
      ".-dog_classes2\\images\\image\\train\\17_PUG:  28%|██████████▏                         | 96/340 [00:01<00:03, 74.91files/s]"
     ]
    },
    {
     "name": "stdout",
     "output_type": "stream",
     "text": [
      "\n",
      "./dog_classes2\\images\\image\\train\\17_PUG\\175.jpg\n",
      "./dog_classes2\\images\\image\\train\\17_PUG\\176.jpg\n",
      "./dog_classes2\\images\\image\\train\\17_PUG\\177.jpg\n",
      "./dog_classes2\\images\\image\\train\\17_PUG\\178.jpg\n",
      "./dog_classes2\\images\\image\\train\\17_PUG\\179.jpg\n",
      "./dog_classes2\\images\\image\\train\\17_PUG\\18.jpg\n",
      "./dog_classes2\\images\\image\\train\\17_PUG\\180.jpg\n",
      "./dog_classes2\\images\\image\\train\\17_PUG\\181.jpg\n",
      "./dog_classes2\\images\\image\\train\\17_PUG\\182.jpg\n",
      "./dog_classes2\\images\\image\\train\\17_PUG\\183.jpg\n",
      "./dog_classes2\\images\\image\\train\\17_PUG\\184.jpg\n",
      "./dog_classes2\\images\\image\\train\\17_PUG\\185.jpg\n",
      "./dog_classes2\\images\\image\\train\\17_PUG\\186.jpg\n",
      "./dog_classes2\\images\\image\\train\\17_PUG\\187.jpg\n",
      "./dog_classes2\\images\\image\\train\\17_PUG\\188.jpg"
     ]
    },
    {
     "name": "stderr",
     "output_type": "stream",
     "text": [
      ".-dog_classes2\\images\\image\\train\\17_PUG:  33%|███████████▌                       | 112/340 [00:01<00:03, 71.82files/s]"
     ]
    },
    {
     "name": "stdout",
     "output_type": "stream",
     "text": [
      "\n",
      "./dog_classes2\\images\\image\\train\\17_PUG\\189.jpg\n",
      "./dog_classes2\\images\\image\\train\\17_PUG\\19.jpg\n",
      "./dog_classes2\\images\\image\\train\\17_PUG\\190.jpg\n",
      "./dog_classes2\\images\\image\\train\\17_PUG\\191.jpg\n",
      "./dog_classes2\\images\\image\\train\\17_PUG\\192.jpg\n",
      "./dog_classes2\\images\\image\\train\\17_PUG\\193.jpg\n",
      "./dog_classes2\\images\\image\\train\\17_PUG\\194.jpg\n",
      "./dog_classes2\\images\\image\\train\\17_PUG\\195.jpg\n",
      "./dog_classes2\\images\\image\\train\\17_PUG\\196.jpg\n",
      "./dog_classes2\\images\\image\\train\\17_PUG\\197.jpg\n",
      "./dog_classes2\\images\\image\\train\\17_PUG\\198.jpg\n",
      "./dog_classes2\\images\\image\\train\\17_PUG\\199.jpg\n",
      "./dog_classes2\\images\\image\\train\\17_PUG\\2.jpg"
     ]
    },
    {
     "name": "stderr",
     "output_type": "stream",
     "text": [
      "\r",
      ".-dog_classes2\\images\\image\\train\\17_PUG:  35%|████████████▎                      | 120/340 [00:01<00:03, 71.19files/s]"
     ]
    },
    {
     "name": "stdout",
     "output_type": "stream",
     "text": [
      "\n",
      "./dog_classes2\\images\\image\\train\\17_PUG\\20.jpg\n",
      "./dog_classes2\\images\\image\\train\\17_PUG\\200.jpg\n",
      "./dog_classes2\\images\\image\\train\\17_PUG\\201.jpg\n",
      "./dog_classes2\\images\\image\\train\\17_PUG\\202.jpg\n",
      "./dog_classes2\\images\\image\\train\\17_PUG\\203.jpg\n",
      "./dog_classes2\\images\\image\\train\\17_PUG\\204.jpg\n",
      "./dog_classes2\\images\\image\\train\\17_PUG\\205.jpg\n",
      "./dog_classes2\\images\\image\\train\\17_PUG\\206.jpg\n",
      "./dog_classes2\\images\\image\\train\\17_PUG\\207.jpg\n",
      "./dog_classes2\\images\\image\\train\\17_PUG\\208.jpg\n",
      "./dog_classes2\\images\\image\\train\\17_PUG\\209.jpg\n",
      "./dog_classes2\\images\\image\\train\\17_PUG\\21.jpg\n",
      "./dog_classes2\\images\\image\\train\\17_PUG\\210.jpg"
     ]
    },
    {
     "name": "stderr",
     "output_type": "stream",
     "text": [
      ".-dog_classes2\\images\\image\\train\\17_PUG:  40%|██████████████                     | 136/340 [00:01<00:02, 70.28files/s]"
     ]
    },
    {
     "name": "stdout",
     "output_type": "stream",
     "text": [
      "\n",
      "./dog_classes2\\images\\image\\train\\17_PUG\\211.jpg\n",
      "./dog_classes2\\images\\image\\train\\17_PUG\\212.jpg\n",
      "./dog_classes2\\images\\image\\train\\17_PUG\\213.jpg\n",
      "./dog_classes2\\images\\image\\train\\17_PUG\\214.jpg\n",
      "./dog_classes2\\images\\image\\train\\17_PUG\\215.jpg\n",
      "./dog_classes2\\images\\image\\train\\17_PUG\\216.jpg\n",
      "./dog_classes2\\images\\image\\train\\17_PUG\\217.jpg\n",
      "./dog_classes2\\images\\image\\train\\17_PUG\\218.jpg\n",
      "./dog_classes2\\images\\image\\train\\17_PUG\\219.jpg\n",
      "./dog_classes2\\images\\image\\train\\17_PUG\\22.jpg\n",
      "./dog_classes2\\images\\image\\train\\17_PUG\\220.jpg\n",
      "./dog_classes2\\images\\image\\train\\17_PUG\\221.jpg"
     ]
    },
    {
     "name": "stderr",
     "output_type": "stream",
     "text": [
      "\r",
      ".-dog_classes2\\images\\image\\train\\17_PUG:  42%|██████████████▊                    | 144/340 [00:02<00:03, 56.73files/s]"
     ]
    },
    {
     "name": "stdout",
     "output_type": "stream",
     "text": [
      "\n",
      "./dog_classes2\\images\\image\\train\\17_PUG\\222.jpg\n",
      "./dog_classes2\\images\\image\\train\\17_PUG\\223.jpg\n",
      "./dog_classes2\\images\\image\\train\\17_PUG\\224.jpg\n",
      "./dog_classes2\\images\\image\\train\\17_PUG\\225.jpg\n",
      "./dog_classes2\\images\\image\\train\\17_PUG\\226.jpg\n",
      "./dog_classes2\\images\\image\\train\\17_PUG\\227.jpg\n",
      "./dog_classes2\\images\\image\\train\\17_PUG\\228.jpg\n",
      "./dog_classes2\\images\\image\\train\\17_PUG\\229.jpg"
     ]
    },
    {
     "name": "stderr",
     "output_type": "stream",
     "text": [
      "\r",
      ".-dog_classes2\\images\\image\\train\\17_PUG:  44%|███████████████▌                   | 151/340 [00:02<00:03, 57.81files/s]"
     ]
    },
    {
     "name": "stdout",
     "output_type": "stream",
     "text": [
      "\n",
      "./dog_classes2\\images\\image\\train\\17_PUG\\23.jpg\n",
      "./dog_classes2\\images\\image\\train\\17_PUG\\230.jpg\n",
      "./dog_classes2\\images\\image\\train\\17_PUG\\231.jpg\n",
      "./dog_classes2\\images\\image\\train\\17_PUG\\232.jpg\n",
      "./dog_classes2\\images\\image\\train\\17_PUG\\233.jpg\n",
      "./dog_classes2\\images\\image\\train\\17_PUG\\234.jpg\n",
      "./dog_classes2\\images\\image\\train\\17_PUG\\235.jpg\n",
      "./dog_classes2\\images\\image\\train\\17_PUG\\236.jpg\n",
      "./dog_classes2\\images\\image\\train\\17_PUG\\237.jpg\n",
      "./dog_classes2\\images\\image\\train\\17_PUG\\238.jpg\n",
      "./dog_classes2\\images\\image\\train\\17_PUG\\239.jpg\n",
      "./dog_classes2\\images\\image\\train\\17_PUG\\24.jpg"
     ]
    },
    {
     "name": "stderr",
     "output_type": "stream",
     "text": [
      ".-dog_classes2\\images\\image\\train\\17_PUG:  50%|█████████████████▍                 | 169/340 [00:02<00:02, 67.74files/s]"
     ]
    },
    {
     "name": "stdout",
     "output_type": "stream",
     "text": [
      "\n",
      "./dog_classes2\\images\\image\\train\\17_PUG\\240.jpg\n",
      "./dog_classes2\\images\\image\\train\\17_PUG\\241.jpg\n",
      "./dog_classes2\\images\\image\\train\\17_PUG\\242.jpg\n",
      "./dog_classes2\\images\\image\\train\\17_PUG\\243.jpg\n",
      "./dog_classes2\\images\\image\\train\\17_PUG\\244.jpg\n",
      "./dog_classes2\\images\\image\\train\\17_PUG\\245.jpg\n",
      "./dog_classes2\\images\\image\\train\\17_PUG\\246.jpg\n",
      "./dog_classes2\\images\\image\\train\\17_PUG\\247.jpg\n",
      "./dog_classes2\\images\\image\\train\\17_PUG\\248.jpg\n",
      "./dog_classes2\\images\\image\\train\\17_PUG\\249.jpg\n",
      "./dog_classes2\\images\\image\\train\\17_PUG\\25.jpg\n",
      "./dog_classes2\\images\\image\\train\\17_PUG\\250.jpg\n",
      "./dog_classes2\\images\\image\\train\\17_PUG\\251.jpg\n",
      "./dog_classes2\\images\\image\\train\\17_PUG\\252.jpg\n",
      "./dog_classes2\\images\\image\\train\\17_PUG\\253.jpg"
     ]
    },
    {
     "name": "stderr",
     "output_type": "stream",
     "text": [
      ".-dog_classes2\\images\\image\\train\\17_PUG:  55%|███████████████████▏               | 186/340 [00:02<00:02, 72.38files/s]"
     ]
    },
    {
     "name": "stdout",
     "output_type": "stream",
     "text": [
      "\n",
      "./dog_classes2\\images\\image\\train\\17_PUG\\254.jpg\n",
      "./dog_classes2\\images\\image\\train\\17_PUG\\255.jpg\n",
      "./dog_classes2\\images\\image\\train\\17_PUG\\256.jpg\n",
      "./dog_classes2\\images\\image\\train\\17_PUG\\257.jpg\n",
      "./dog_classes2\\images\\image\\train\\17_PUG\\258.jpg\n",
      "./dog_classes2\\images\\image\\train\\17_PUG\\259.jpg\n",
      "./dog_classes2\\images\\image\\train\\17_PUG\\26.jpg\n",
      "./dog_classes2\\images\\image\\train\\17_PUG\\260.jpg\n",
      "./dog_classes2\\images\\image\\train\\17_PUG\\261.jpg\n",
      "./dog_classes2\\images\\image\\train\\17_PUG\\262.jpg\n",
      "./dog_classes2\\images\\image\\train\\17_PUG\\263.jpg\n",
      "./dog_classes2\\images\\image\\train\\17_PUG\\264.jpg\n",
      "./dog_classes2\\images\\image\\train\\17_PUG\\265.jpg\n",
      "./dog_classes2\\images\\image\\train\\17_PUG\\266.jpg\n",
      "./dog_classes2\\images\\image\\train\\17_PUG\\267.jpg"
     ]
    },
    {
     "name": "stderr",
     "output_type": "stream",
     "text": [
      "\r",
      ".-dog_classes2\\images\\image\\train\\17_PUG:  57%|████████████████████               | 195/340 [00:02<00:01, 75.41files/s]"
     ]
    },
    {
     "name": "stdout",
     "output_type": "stream",
     "text": [
      "\n",
      "./dog_classes2\\images\\image\\train\\17_PUG\\268.jpg\n",
      "./dog_classes2\\images\\image\\train\\17_PUG\\269.jpg\n",
      "./dog_classes2\\images\\image\\train\\17_PUG\\27.jpg\n",
      "./dog_classes2\\images\\image\\train\\17_PUG\\270.jpg\n",
      "./dog_classes2\\images\\image\\train\\17_PUG\\271.jpg\n",
      "./dog_classes2\\images\\image\\train\\17_PUG\\272.jpg\n",
      "./dog_classes2\\images\\image\\train\\17_PUG\\273.jpg\n",
      "./dog_classes2\\images\\image\\train\\17_PUG\\274.jpg\n",
      "./dog_classes2\\images\\image\\train\\17_PUG\\275.jpg\n",
      "./dog_classes2\\images\\image\\train\\17_PUG\\276.jpg\n",
      "./dog_classes2\\images\\image\\train\\17_PUG\\277.jpg\n",
      "./dog_classes2\\images\\image\\train\\17_PUG\\278.jpg\n",
      "./dog_classes2\\images\\image\\train\\17_PUG\\279.jpg\n",
      "./dog_classes2\\images\\image\\train\\17_PUG\\28.jpg\n",
      "./dog_classes2\\images\\image\\train\\17_PUG\\280.jpg\n",
      "./dog_classes2\\images\\image\\train\\17_PUG\\281.jpg"
     ]
    },
    {
     "name": "stderr",
     "output_type": "stream",
     "text": [
      ".-dog_classes2\\images\\image\\train\\17_PUG:  63%|█████████████████████▉             | 213/340 [00:02<00:01, 78.79files/s]"
     ]
    },
    {
     "name": "stdout",
     "output_type": "stream",
     "text": [
      "\n",
      "./dog_classes2\\images\\image\\train\\17_PUG\\282.jpg\n",
      "./dog_classes2\\images\\image\\train\\17_PUG\\283.jpg\n",
      "./dog_classes2\\images\\image\\train\\17_PUG\\284.jpg\n",
      "./dog_classes2\\images\\image\\train\\17_PUG\\285.jpg\n",
      "./dog_classes2\\images\\image\\train\\17_PUG\\286.jpg\n",
      "./dog_classes2\\images\\image\\train\\17_PUG\\287.jpg\n",
      "./dog_classes2\\images\\image\\train\\17_PUG\\288.jpg\n",
      "./dog_classes2\\images\\image\\train\\17_PUG\\289.jpg\n",
      "./dog_classes2\\images\\image\\train\\17_PUG\\29.jpg\n",
      "./dog_classes2\\images\\image\\train\\17_PUG\\290.jpg\n",
      "./dog_classes2\\images\\image\\train\\17_PUG\\291.jpg\n",
      "./dog_classes2\\images\\image\\train\\17_PUG\\292.jpg\n",
      "./dog_classes2\\images\\image\\train\\17_PUG\\293.jpg\n",
      "./dog_classes2\\images\\image\\train\\17_PUG\\294.jpg\n",
      "./dog_classes2\\images\\image\\train\\17_PUG\\295.jpg"
     ]
    },
    {
     "name": "stderr",
     "output_type": "stream",
     "text": [
      ".-dog_classes2\\images\\image\\train\\17_PUG:  68%|███████████████████████▉           | 232/340 [00:03<00:01, 82.53files/s]"
     ]
    },
    {
     "name": "stdout",
     "output_type": "stream",
     "text": [
      "\n",
      "./dog_classes2\\images\\image\\train\\17_PUG\\296.jpg\n",
      "./dog_classes2\\images\\image\\train\\17_PUG\\297.jpg\n",
      "./dog_classes2\\images\\image\\train\\17_PUG\\298.jpg\n",
      "./dog_classes2\\images\\image\\train\\17_PUG\\299.jpg\n",
      "./dog_classes2\\images\\image\\train\\17_PUG\\3.jpg\n",
      "./dog_classes2\\images\\image\\train\\17_PUG\\30.jpg\n",
      "./dog_classes2\\images\\image\\train\\17_PUG\\300.jpg\n",
      "./dog_classes2\\images\\image\\train\\17_PUG\\301.jpg\n",
      "./dog_classes2\\images\\image\\train\\17_PUG\\302.jpg\n",
      "./dog_classes2\\images\\image\\train\\17_PUG\\303.jpg\n",
      "./dog_classes2\\images\\image\\train\\17_PUG\\304.jpg\n",
      "./dog_classes2\\images\\image\\train\\17_PUG\\305.jpg\n",
      "./dog_classes2\\images\\image\\train\\17_PUG\\306.jpg\n",
      "./dog_classes2\\images\\image\\train\\17_PUG\\307.jpg\n",
      "./dog_classes2\\images\\image\\train\\17_PUG\\308.jpg\n",
      "./dog_classes2\\images\\image\\train\\17_PUG\\309.jpg"
     ]
    },
    {
     "name": "stderr",
     "output_type": "stream",
     "text": [
      "\r",
      ".-dog_classes2\\images\\image\\train\\17_PUG:  71%|████████████████████████▊          | 241/340 [00:03<00:01, 78.51files/s]"
     ]
    },
    {
     "name": "stdout",
     "output_type": "stream",
     "text": [
      "\n",
      "./dog_classes2\\images\\image\\train\\17_PUG\\31.jpg\n",
      "./dog_classes2\\images\\image\\train\\17_PUG\\310.jpg\n",
      "./dog_classes2\\images\\image\\train\\17_PUG\\311.jpg\n",
      "./dog_classes2\\images\\image\\train\\17_PUG\\312.jpg\n",
      "./dog_classes2\\images\\image\\train\\17_PUG\\313.jpg\n",
      "./dog_classes2\\images\\image\\train\\17_PUG\\314.jpg\n",
      "./dog_classes2\\images\\image\\train\\17_PUG\\315.jpg\n",
      "./dog_classes2\\images\\image\\train\\17_PUG\\316.jpg\n",
      "./dog_classes2\\images\\image\\train\\17_PUG\\317.jpg\n",
      "./dog_classes2\\images\\image\\train\\17_PUG\\318.jpg\n",
      "./dog_classes2\\images\\image\\train\\17_PUG\\319.jpg\n",
      "./dog_classes2\\images\\image\\train\\17_PUG\\32.jpg\n",
      "./dog_classes2\\images\\image\\train\\17_PUG\\320.jpg\n",
      "./dog_classes2\\images\\image\\train\\17_PUG\\321.jpg"
     ]
    },
    {
     "name": "stderr",
     "output_type": "stream",
     "text": [
      ".-dog_classes2\\images\\image\\train\\17_PUG:  76%|██████████████████████████▌        | 258/340 [00:03<00:01, 80.20files/s]"
     ]
    },
    {
     "name": "stdout",
     "output_type": "stream",
     "text": [
      "\n",
      "./dog_classes2\\images\\image\\train\\17_PUG\\322.jpg\n",
      "./dog_classes2\\images\\image\\train\\17_PUG\\323.jpg\n",
      "./dog_classes2\\images\\image\\train\\17_PUG\\324.jpg\n",
      "./dog_classes2\\images\\image\\train\\17_PUG\\325.jpg\n",
      "./dog_classes2\\images\\image\\train\\17_PUG\\326.jpg\n",
      "./dog_classes2\\images\\image\\train\\17_PUG\\327.jpg\n",
      "./dog_classes2\\images\\image\\train\\17_PUG\\328.jpg\n",
      "./dog_classes2\\images\\image\\train\\17_PUG\\329.jpg\n",
      "./dog_classes2\\images\\image\\train\\17_PUG\\33.jpg\n",
      "./dog_classes2\\images\\image\\train\\17_PUG\\330.jpg\n",
      "./dog_classes2\\images\\image\\train\\17_PUG\\331.jpg\n",
      "./dog_classes2\\images\\image\\train\\17_PUG\\332.jpg\n",
      "./dog_classes2\\images\\image\\train\\17_PUG\\333.jpg\n",
      "./dog_classes2\\images\\image\\train\\17_PUG\\334.jpg\n",
      "./dog_classes2\\images\\image\\train\\17_PUG\\335.jpg"
     ]
    },
    {
     "name": "stderr",
     "output_type": "stream",
     "text": [
      ".-dog_classes2\\images\\image\\train\\17_PUG:  81%|████████████████████████████▍      | 276/340 [00:03<00:00, 80.50files/s]"
     ]
    },
    {
     "name": "stdout",
     "output_type": "stream",
     "text": [
      "\n",
      "./dog_classes2\\images\\image\\train\\17_PUG\\336.jpg\n",
      "./dog_classes2\\images\\image\\train\\17_PUG\\337.jpg\n",
      "./dog_classes2\\images\\image\\train\\17_PUG\\338.jpg\n",
      "./dog_classes2\\images\\image\\train\\17_PUG\\339.jpg\n",
      "./dog_classes2\\images\\image\\train\\17_PUG\\34.jpg\n",
      "./dog_classes2\\images\\image\\train\\17_PUG\\35.jpg\n",
      "./dog_classes2\\images\\image\\train\\17_PUG\\36.jpg\n",
      "./dog_classes2\\images\\image\\train\\17_PUG\\37.jpg\n",
      "./dog_classes2\\images\\image\\train\\17_PUG\\38.jpg\n",
      "./dog_classes2\\images\\image\\train\\17_PUG\\39.jpg\n",
      "./dog_classes2\\images\\image\\train\\17_PUG\\4.jpg\n",
      "./dog_classes2\\images\\image\\train\\17_PUG\\40.jpg\n",
      "./dog_classes2\\images\\image\\train\\17_PUG\\41.jpg\n",
      "./dog_classes2\\images\\image\\train\\17_PUG\\42.jpg\n",
      "./dog_classes2\\images\\image\\train\\17_PUG\\43.jpg\n",
      "./dog_classes2\\images\\image\\train\\17_PUG\\44.jpg"
     ]
    },
    {
     "name": "stderr",
     "output_type": "stream",
     "text": [
      ".-dog_classes2\\images\\image\\train\\17_PUG:  87%|██████████████████████████████▍    | 296/340 [00:03<00:00, 87.87files/s]"
     ]
    },
    {
     "name": "stdout",
     "output_type": "stream",
     "text": [
      "\n",
      "./dog_classes2\\images\\image\\train\\17_PUG\\45.jpg\n",
      "./dog_classes2\\images\\image\\train\\17_PUG\\46.jpg\n",
      "./dog_classes2\\images\\image\\train\\17_PUG\\47.jpg\n",
      "./dog_classes2\\images\\image\\train\\17_PUG\\48.jpg\n",
      "./dog_classes2\\images\\image\\train\\17_PUG\\49.jpg\n",
      "./dog_classes2\\images\\image\\train\\17_PUG\\5.jpg\n",
      "./dog_classes2\\images\\image\\train\\17_PUG\\50.jpg\n",
      "./dog_classes2\\images\\image\\train\\17_PUG\\51.jpg\n",
      "./dog_classes2\\images\\image\\train\\17_PUG\\52.jpg\n",
      "./dog_classes2\\images\\image\\train\\17_PUG\\53.jpg\n",
      "./dog_classes2\\images\\image\\train\\17_PUG\\54.jpg\n",
      "./dog_classes2\\images\\image\\train\\17_PUG\\55.jpg\n",
      "./dog_classes2\\images\\image\\train\\17_PUG\\56.jpg\n",
      "./dog_classes2\\images\\image\\train\\17_PUG\\57.jpg\n",
      "./dog_classes2\\images\\image\\train\\17_PUG\\58.jpg\n",
      "./dog_classes2\\images\\image\\train\\17_PUG\\59.jpg\n",
      "./dog_classes2\\images\\image\\train\\17_PUG\\6.jpg\n",
      "./dog_classes2\\images\\image\\train\\17_PUG\\60.jpg"
     ]
    },
    {
     "name": "stderr",
     "output_type": "stream",
     "text": [
      "\r",
      ".-dog_classes2\\images\\image\\train\\17_PUG:  90%|███████████████████████████████▌   | 306/340 [00:04<00:00, 90.03files/s]"
     ]
    },
    {
     "name": "stdout",
     "output_type": "stream",
     "text": [
      "\n",
      "./dog_classes2\\images\\image\\train\\17_PUG\\61.jpg\n",
      "./dog_classes2\\images\\image\\train\\17_PUG\\62.jpg\n",
      "./dog_classes2\\images\\image\\train\\17_PUG\\63.jpg\n",
      "./dog_classes2\\images\\image\\train\\17_PUG\\64.jpg\n",
      "./dog_classes2\\images\\image\\train\\17_PUG\\65.jpg\n",
      "./dog_classes2\\images\\image\\train\\17_PUG\\66.jpg\n",
      "./dog_classes2\\images\\image\\train\\17_PUG\\67.jpg\n",
      "./dog_classes2\\images\\image\\train\\17_PUG\\68.jpg\n",
      "./dog_classes2\\images\\image\\train\\17_PUG\\69.jpg\n",
      "./dog_classes2\\images\\image\\train\\17_PUG\\7.jpg\n",
      "./dog_classes2\\images\\image\\train\\17_PUG\\70.jpg\n",
      "./dog_classes2\\images\\image\\train\\17_PUG\\71.jpg\n",
      "./dog_classes2\\images\\image\\train\\17_PUG\\72.jpg\n",
      "./dog_classes2\\images\\image\\train\\17_PUG\\73.jpg\n",
      "./dog_classes2\\images\\image\\train\\17_PUG\\74.jpg\n",
      "./dog_classes2\\images\\image\\train\\17_PUG\\75.jpg\n",
      "./dog_classes2\\images\\image\\train\\17_PUG\\76.jpg\n",
      "./dog_classes2\\images\\image\\train\\17_PUG\\77.jpg\n",
      "./dog_classes2\\images\\image\\train\\17_PUG\\78.jpg"
     ]
    },
    {
     "name": "stderr",
     "output_type": "stream",
     "text": [
      ".-dog_classes2\\images\\image\\train\\17_PUG:  96%|█████████████████████████████████▋ | 327/340 [00:04<00:00, 94.08files/s]"
     ]
    },
    {
     "name": "stdout",
     "output_type": "stream",
     "text": [
      "\n",
      "./dog_classes2\\images\\image\\train\\17_PUG\\79.jpg\n",
      "./dog_classes2\\images\\image\\train\\17_PUG\\8.jpg\n",
      "./dog_classes2\\images\\image\\train\\17_PUG\\80.jpg\n",
      "./dog_classes2\\images\\image\\train\\17_PUG\\81.jpg\n",
      "./dog_classes2\\images\\image\\train\\17_PUG\\82.jpg\n",
      "./dog_classes2\\images\\image\\train\\17_PUG\\83.jpg\n",
      "./dog_classes2\\images\\image\\train\\17_PUG\\84.jpg\n",
      "./dog_classes2\\images\\image\\train\\17_PUG\\85.jpg\n",
      "./dog_classes2\\images\\image\\train\\17_PUG\\86.jpg\n",
      "./dog_classes2\\images\\image\\train\\17_PUG\\87.jpg\n",
      "./dog_classes2\\images\\image\\train\\17_PUG\\88.jpg\n",
      "./dog_classes2\\images\\image\\train\\17_PUG\\89.jpg\n",
      "./dog_classes2\\images\\image\\train\\17_PUG\\9.jpg\n",
      "./dog_classes2\\images\\image\\train\\17_PUG\\90.jpg\n",
      "./dog_classes2\\images\\image\\train\\17_PUG\\91.jpg\n",
      "./dog_classes2\\images\\image\\train\\17_PUG\\92.jpg\n",
      "./dog_classes2\\images\\image\\train\\17_PUG\\93.jpg\n",
      "./dog_classes2\\images\\image\\train\\17_PUG\\94.jpg"
     ]
    },
    {
     "name": "stderr",
     "output_type": "stream",
     "text": [
      ".-dog_classes2\\images\\image\\train\\18_BEDLINGTON_TERRIER:   9%|█▉                   | 10/110 [00:00<00:01, 99.28files/s]"
     ]
    },
    {
     "name": "stdout",
     "output_type": "stream",
     "text": [
      "\n",
      "./dog_classes2\\images\\image\\train\\17_PUG\\95.jpg\n",
      "./dog_classes2\\images\\image\\train\\17_PUG\\96.jpg\n",
      "./dog_classes2\\images\\image\\train\\17_PUG\\97.jpg\n",
      "./dog_classes2\\images\\image\\train\\17_PUG\\98.jpg\n",
      "./dog_classes2\\images\\image\\train\\17_PUG\\99.jpg\n",
      "./dog_classes2\\images\\image\\train\\18_BEDLINGTON_TERRIER\\0.jpg\n",
      "./dog_classes2\\images\\image\\train\\18_BEDLINGTON_TERRIER\\1.jpg\n",
      "./dog_classes2\\images\\image\\train\\18_BEDLINGTON_TERRIER\\10.jpg\n",
      "./dog_classes2\\images\\image\\train\\18_BEDLINGTON_TERRIER\\100.jpg\n",
      "./dog_classes2\\images\\image\\train\\18_BEDLINGTON_TERRIER\\101.jpg\n",
      "./dog_classes2\\images\\image\\train\\18_BEDLINGTON_TERRIER\\102.jpg\n",
      "./dog_classes2\\images\\image\\train\\18_BEDLINGTON_TERRIER\\103.jpg\n",
      "./dog_classes2\\images\\image\\train\\18_BEDLINGTON_TERRIER\\104.jpg\n",
      "./dog_classes2\\images\\image\\train\\18_BEDLINGTON_TERRIER\\105.jpg\n",
      "./dog_classes2\\images\\image\\train\\18_BEDLINGTON_TERRIER\\106.jpg\n",
      "./dog_classes2\\images\\image\\train\\18_BEDLINGTON_TERRIER\\107.jpg\n",
      "./dog_classes2\\images\\image\\train\\18_BEDLINGTON_TERRIER\\108.jpg\n",
      "./dog_classes2\\images\\image\\train\\18_BEDLINGTON_TERRIER\\109.jpg"
     ]
    },
    {
     "name": "stderr",
     "output_type": "stream",
     "text": [
      ".-dog_classes2\\images\\image\\train\\18_BEDLINGTON_TERRIER:  26%|█████▌               | 29/110 [00:00<00:00, 94.74files/s]"
     ]
    },
    {
     "name": "stdout",
     "output_type": "stream",
     "text": [
      "\n",
      "./dog_classes2\\images\\image\\train\\18_BEDLINGTON_TERRIER\\11.jpg\n",
      "./dog_classes2\\images\\image\\train\\18_BEDLINGTON_TERRIER\\12.jpg\n",
      "./dog_classes2\\images\\image\\train\\18_BEDLINGTON_TERRIER\\13.jpg\n",
      "./dog_classes2\\images\\image\\train\\18_BEDLINGTON_TERRIER\\14.jpg\n",
      "./dog_classes2\\images\\image\\train\\18_BEDLINGTON_TERRIER\\15.jpg\n",
      "./dog_classes2\\images\\image\\train\\18_BEDLINGTON_TERRIER\\16.jpg\n",
      "./dog_classes2\\images\\image\\train\\18_BEDLINGTON_TERRIER\\17.jpg\n",
      "./dog_classes2\\images\\image\\train\\18_BEDLINGTON_TERRIER\\18.jpg\n",
      "./dog_classes2\\images\\image\\train\\18_BEDLINGTON_TERRIER\\19.jpg\n",
      "./dog_classes2\\images\\image\\train\\18_BEDLINGTON_TERRIER\\2.jpg\n",
      "./dog_classes2\\images\\image\\train\\18_BEDLINGTON_TERRIER\\20.jpg\n",
      "./dog_classes2\\images\\image\\train\\18_BEDLINGTON_TERRIER\\21.jpg\n",
      "./dog_classes2\\images\\image\\train\\18_BEDLINGTON_TERRIER\\22.jpg\n",
      "./dog_classes2\\images\\image\\train\\18_BEDLINGTON_TERRIER\\23.jpg\n",
      "./dog_classes2\\images\\image\\train\\18_BEDLINGTON_TERRIER\\24.jpg\n",
      "./dog_classes2\\images\\image\\train\\18_BEDLINGTON_TERRIER\\25.jpg\n",
      "./dog_classes2\\images\\image\\train\\18_BEDLINGTON_TERRIER\\26.jpg"
     ]
    },
    {
     "name": "stderr",
     "output_type": "stream",
     "text": [
      "\r",
      ".-dog_classes2\\images\\image\\train\\18_BEDLINGTON_TERRIER:  35%|███████▍             | 39/110 [00:00<00:00, 94.69files/s]"
     ]
    },
    {
     "name": "stdout",
     "output_type": "stream",
     "text": [
      "\n",
      "./dog_classes2\\images\\image\\train\\18_BEDLINGTON_TERRIER\\27.jpg\n",
      "./dog_classes2\\images\\image\\train\\18_BEDLINGTON_TERRIER\\28.jpg\n",
      "./dog_classes2\\images\\image\\train\\18_BEDLINGTON_TERRIER\\29.jpg\n",
      "./dog_classes2\\images\\image\\train\\18_BEDLINGTON_TERRIER\\3.jpg\n",
      "./dog_classes2\\images\\image\\train\\18_BEDLINGTON_TERRIER\\30.jpg\n",
      "./dog_classes2\\images\\image\\train\\18_BEDLINGTON_TERRIER\\31.jpg\n",
      "./dog_classes2\\images\\image\\train\\18_BEDLINGTON_TERRIER\\32.jpg\n",
      "./dog_classes2\\images\\image\\train\\18_BEDLINGTON_TERRIER\\33.jpg\n",
      "./dog_classes2\\images\\image\\train\\18_BEDLINGTON_TERRIER\\34.jpg\n",
      "./dog_classes2\\images\\image\\train\\18_BEDLINGTON_TERRIER\\35.jpg\n",
      "./dog_classes2\\images\\image\\train\\18_BEDLINGTON_TERRIER\\36.jpg\n",
      "./dog_classes2\\images\\image\\train\\18_BEDLINGTON_TERRIER\\37.jpg\n",
      "./dog_classes2\\images\\image\\train\\18_BEDLINGTON_TERRIER\\38.jpg\n",
      "./dog_classes2\\images\\image\\train\\18_BEDLINGTON_TERRIER\\39.jpg\n",
      "./dog_classes2\\images\\image\\train\\18_BEDLINGTON_TERRIER\\4.jpg\n",
      "./dog_classes2\\images\\image\\train\\18_BEDLINGTON_TERRIER\\40.jpg\n",
      "./dog_classes2\\images\\image\\train\\18_BEDLINGTON_TERRIER\\41.jpg\n",
      "./dog_classes2\\images\\image\\train\\18_BEDLINGTON_TERRIER\\42.jpg"
     ]
    },
    {
     "name": "stderr",
     "output_type": "stream",
     "text": [
      ".-dog_classes2\\images\\image\\train\\18_BEDLINGTON_TERRIER:  54%|███████████▎         | 59/110 [00:00<00:00, 94.72files/s]"
     ]
    },
    {
     "name": "stdout",
     "output_type": "stream",
     "text": [
      "\n",
      "./dog_classes2\\images\\image\\train\\18_BEDLINGTON_TERRIER\\43.jpg\n",
      "./dog_classes2\\images\\image\\train\\18_BEDLINGTON_TERRIER\\44.jpg\n",
      "./dog_classes2\\images\\image\\train\\18_BEDLINGTON_TERRIER\\45.jpg\n",
      "./dog_classes2\\images\\image\\train\\18_BEDLINGTON_TERRIER\\46.jpg\n",
      "./dog_classes2\\images\\image\\train\\18_BEDLINGTON_TERRIER\\47.jpg\n",
      "./dog_classes2\\images\\image\\train\\18_BEDLINGTON_TERRIER\\48.jpg\n",
      "./dog_classes2\\images\\image\\train\\18_BEDLINGTON_TERRIER\\49.jpg\n",
      "./dog_classes2\\images\\image\\train\\18_BEDLINGTON_TERRIER\\5.jpg\n",
      "./dog_classes2\\images\\image\\train\\18_BEDLINGTON_TERRIER\\50.jpg\n",
      "./dog_classes2\\images\\image\\train\\18_BEDLINGTON_TERRIER\\51.jpg\n",
      "./dog_classes2\\images\\image\\train\\18_BEDLINGTON_TERRIER\\52.jpg\n",
      "./dog_classes2\\images\\image\\train\\18_BEDLINGTON_TERRIER\\53.jpg\n",
      "./dog_classes2\\images\\image\\train\\18_BEDLINGTON_TERRIER\\54.jpg\n",
      "./dog_classes2\\images\\image\\train\\18_BEDLINGTON_TERRIER\\55.jpg\n",
      "./dog_classes2\\images\\image\\train\\18_BEDLINGTON_TERRIER\\56.jpg\n",
      "./dog_classes2\\images\\image\\train\\18_BEDLINGTON_TERRIER\\57.jpg\n",
      "./dog_classes2\\images\\image\\train\\18_BEDLINGTON_TERRIER\\58.jpg\n",
      "./dog_classes2\\images\\image\\train\\18_BEDLINGTON_TERRIER\\59.jpg"
     ]
    },
    {
     "name": "stderr",
     "output_type": "stream",
     "text": [
      ".-dog_classes2\\images\\image\\train\\18_BEDLINGTON_TERRIER:  71%|██████████████▉      | 78/110 [00:00<00:00, 89.47files/s]"
     ]
    },
    {
     "name": "stdout",
     "output_type": "stream",
     "text": [
      "\n",
      "./dog_classes2\\images\\image\\train\\18_BEDLINGTON_TERRIER\\6.jpg\n",
      "./dog_classes2\\images\\image\\train\\18_BEDLINGTON_TERRIER\\60.jpg\n",
      "./dog_classes2\\images\\image\\train\\18_BEDLINGTON_TERRIER\\61.jpg\n",
      "./dog_classes2\\images\\image\\train\\18_BEDLINGTON_TERRIER\\62.jpg\n",
      "./dog_classes2\\images\\image\\train\\18_BEDLINGTON_TERRIER\\63.jpg\n",
      "./dog_classes2\\images\\image\\train\\18_BEDLINGTON_TERRIER\\64.jpg\n",
      "./dog_classes2\\images\\image\\train\\18_BEDLINGTON_TERRIER\\65.jpg\n",
      "./dog_classes2\\images\\image\\train\\18_BEDLINGTON_TERRIER\\66.jpg\n",
      "./dog_classes2\\images\\image\\train\\18_BEDLINGTON_TERRIER\\67.jpg\n",
      "./dog_classes2\\images\\image\\train\\18_BEDLINGTON_TERRIER\\68.jpg\n",
      "./dog_classes2\\images\\image\\train\\18_BEDLINGTON_TERRIER\\69.jpg\n",
      "./dog_classes2\\images\\image\\train\\18_BEDLINGTON_TERRIER\\7.jpg\n",
      "./dog_classes2\\images\\image\\train\\18_BEDLINGTON_TERRIER\\70.jpg\n",
      "./dog_classes2\\images\\image\\train\\18_BEDLINGTON_TERRIER\\71.jpg"
     ]
    },
    {
     "name": "stderr",
     "output_type": "stream",
     "text": [
      ".-dog_classes2\\images\\image\\train\\18_BEDLINGTON_TERRIER:  87%|██████████████████▎  | 96/110 [00:01<00:00, 88.59files/s]"
     ]
    },
    {
     "name": "stdout",
     "output_type": "stream",
     "text": [
      "\n",
      "./dog_classes2\\images\\image\\train\\18_BEDLINGTON_TERRIER\\72.jpg\n",
      "./dog_classes2\\images\\image\\train\\18_BEDLINGTON_TERRIER\\73.jpg\n",
      "./dog_classes2\\images\\image\\train\\18_BEDLINGTON_TERRIER\\74.jpg\n",
      "./dog_classes2\\images\\image\\train\\18_BEDLINGTON_TERRIER\\75.jpg\n",
      "./dog_classes2\\images\\image\\train\\18_BEDLINGTON_TERRIER\\76.jpg\n",
      "./dog_classes2\\images\\image\\train\\18_BEDLINGTON_TERRIER\\77.jpg\n",
      "./dog_classes2\\images\\image\\train\\18_BEDLINGTON_TERRIER\\78.jpg\n",
      "./dog_classes2\\images\\image\\train\\18_BEDLINGTON_TERRIER\\79.jpg\n",
      "./dog_classes2\\images\\image\\train\\18_BEDLINGTON_TERRIER\\8.jpg\n",
      "./dog_classes2\\images\\image\\train\\18_BEDLINGTON_TERRIER\\80.jpg\n",
      "./dog_classes2\\images\\image\\train\\18_BEDLINGTON_TERRIER\\81.jpg\n",
      "./dog_classes2\\images\\image\\train\\18_BEDLINGTON_TERRIER\\82.jpg\n",
      "./dog_classes2\\images\\image\\train\\18_BEDLINGTON_TERRIER\\83.jpg\n",
      "./dog_classes2\\images\\image\\train\\18_BEDLINGTON_TERRIER\\84.jpg\n",
      "./dog_classes2\\images\\image\\train\\18_BEDLINGTON_TERRIER\\85.jpg\n",
      "./dog_classes2\\images\\image\\train\\18_BEDLINGTON_TERRIER\\86.jpg\n",
      "./dog_classes2\\images\\image\\train\\18_BEDLINGTON_TERRIER\\87.jpg"
     ]
    },
    {
     "name": "stderr",
     "output_type": "stream",
     "text": [
      ".-dog_classes2\\images\\image\\train\\19_GERMAN_SHEPHERD_DOG:   0%|                             | 0/171 [00:00<?, ?files/s]"
     ]
    },
    {
     "name": "stdout",
     "output_type": "stream",
     "text": [
      "\n",
      "./dog_classes2\\images\\image\\train\\18_BEDLINGTON_TERRIER\\88.jpg\n",
      "./dog_classes2\\images\\image\\train\\18_BEDLINGTON_TERRIER\\89.jpg\n",
      "./dog_classes2\\images\\image\\train\\18_BEDLINGTON_TERRIER\\9.jpg\n",
      "./dog_classes2\\images\\image\\train\\18_BEDLINGTON_TERRIER\\90.jpg\n",
      "./dog_classes2\\images\\image\\train\\18_BEDLINGTON_TERRIER\\91.jpg\n",
      "./dog_classes2\\images\\image\\train\\18_BEDLINGTON_TERRIER\\92.jpg\n",
      "./dog_classes2\\images\\image\\train\\18_BEDLINGTON_TERRIER\\93.jpg\n",
      "./dog_classes2\\images\\image\\train\\18_BEDLINGTON_TERRIER\\94.jpg\n",
      "./dog_classes2\\images\\image\\train\\18_BEDLINGTON_TERRIER\\95.jpg\n",
      "./dog_classes2\\images\\image\\train\\18_BEDLINGTON_TERRIER\\96.jpg\n",
      "./dog_classes2\\images\\image\\train\\18_BEDLINGTON_TERRIER\\97.jpg\n",
      "./dog_classes2\\images\\image\\train\\18_BEDLINGTON_TERRIER\\98.jpg\n",
      "./dog_classes2\\images\\image\\train\\18_BEDLINGTON_TERRIER\\99.jpg\n",
      "./dog_classes2\\images\\image\\train\\19_GERMAN_SHEPHERD_DOG\\0.jpg\n",
      "./dog_classes2\\images\\image\\train\\19_GERMAN_SHEPHERD_DOG\\1.jpg\n",
      "./dog_classes2\\images\\image\\train\\19_GERMAN_SHEPHERD_DOG\\10.jpg"
     ]
    },
    {
     "name": "stderr",
     "output_type": "stream",
     "text": [
      ".-dog_classes2\\images\\image\\train\\19_GERMAN_SHEPHERD_DOG:   9%|█▊                  | 16/171 [00:00<00:01, 78.29files/s]"
     ]
    },
    {
     "name": "stdout",
     "output_type": "stream",
     "text": [
      "\n",
      "./dog_classes2\\images\\image\\train\\19_GERMAN_SHEPHERD_DOG\\100.jpg\n",
      "./dog_classes2\\images\\image\\train\\19_GERMAN_SHEPHERD_DOG\\101.jpg\n",
      "./dog_classes2\\images\\image\\train\\19_GERMAN_SHEPHERD_DOG\\102.jpg\n",
      "./dog_classes2\\images\\image\\train\\19_GERMAN_SHEPHERD_DOG\\103.jpg\n",
      "./dog_classes2\\images\\image\\train\\19_GERMAN_SHEPHERD_DOG\\104.jpg\n",
      "./dog_classes2\\images\\image\\train\\19_GERMAN_SHEPHERD_DOG\\105.jpg\n",
      "./dog_classes2\\images\\image\\train\\19_GERMAN_SHEPHERD_DOG\\106.jpg\n",
      "./dog_classes2\\images\\image\\train\\19_GERMAN_SHEPHERD_DOG\\107.jpg\n",
      "./dog_classes2\\images\\image\\train\\19_GERMAN_SHEPHERD_DOG\\108.jpg\n",
      "./dog_classes2\\images\\image\\train\\19_GERMAN_SHEPHERD_DOG\\109.jpg\n",
      "./dog_classes2\\images\\image\\train\\19_GERMAN_SHEPHERD_DOG\\11.jpg\n",
      "./dog_classes2\\images\\image\\train\\19_GERMAN_SHEPHERD_DOG\\110.jpg\n",
      "./dog_classes2\\images\\image\\train\\19_GERMAN_SHEPHERD_DOG\\111.jpg\n",
      "./dog_classes2\\images\\image\\train\\19_GERMAN_SHEPHERD_DOG\\112.jpg"
     ]
    },
    {
     "name": "stderr",
     "output_type": "stream",
     "text": [
      "\r",
      ".-dog_classes2\\images\\image\\train\\19_GERMAN_SHEPHERD_DOG:  14%|██▊                 | 24/171 [00:00<00:02, 69.62files/s]"
     ]
    },
    {
     "name": "stdout",
     "output_type": "stream",
     "text": [
      "\n",
      "./dog_classes2\\images\\image\\train\\19_GERMAN_SHEPHERD_DOG\\113.jpg\n",
      "./dog_classes2\\images\\image\\train\\19_GERMAN_SHEPHERD_DOG\\114.jpg\n",
      "./dog_classes2\\images\\image\\train\\19_GERMAN_SHEPHERD_DOG\\115.jpg\n",
      "./dog_classes2\\images\\image\\train\\19_GERMAN_SHEPHERD_DOG\\116.jpg\n",
      "./dog_classes2\\images\\image\\train\\19_GERMAN_SHEPHERD_DOG\\117.jpg\n",
      "./dog_classes2\\images\\image\\train\\19_GERMAN_SHEPHERD_DOG\\118.jpg\n",
      "./dog_classes2\\images\\image\\train\\19_GERMAN_SHEPHERD_DOG\\119.jpg\n",
      "./dog_classes2\\images\\image\\train\\19_GERMAN_SHEPHERD_DOG\\12.jpg\n",
      "./dog_classes2\\images\\image\\train\\19_GERMAN_SHEPHERD_DOG\\120.jpg\n",
      "./dog_classes2\\images\\image\\train\\19_GERMAN_SHEPHERD_DOG\\121.jpg\n",
      "./dog_classes2\\images\\image\\train\\19_GERMAN_SHEPHERD_DOG\\122.jpg"
     ]
    },
    {
     "name": "stderr",
     "output_type": "stream",
     "text": [
      ".-dog_classes2\\images\\image\\train\\19_GERMAN_SHEPHERD_DOG:  23%|████▋               | 40/171 [00:00<00:01, 71.19files/s]"
     ]
    },
    {
     "name": "stdout",
     "output_type": "stream",
     "text": [
      "\n",
      "./dog_classes2\\images\\image\\train\\19_GERMAN_SHEPHERD_DOG\\123.jpg\n",
      "./dog_classes2\\images\\image\\train\\19_GERMAN_SHEPHERD_DOG\\124.jpg\n",
      "./dog_classes2\\images\\image\\train\\19_GERMAN_SHEPHERD_DOG\\125.jpg\n",
      "./dog_classes2\\images\\image\\train\\19_GERMAN_SHEPHERD_DOG\\126.jpg\n",
      "./dog_classes2\\images\\image\\train\\19_GERMAN_SHEPHERD_DOG\\127.jpg\n",
      "./dog_classes2\\images\\image\\train\\19_GERMAN_SHEPHERD_DOG\\128.jpg\n",
      "./dog_classes2\\images\\image\\train\\19_GERMAN_SHEPHERD_DOG\\129.jpg\n",
      "./dog_classes2\\images\\image\\train\\19_GERMAN_SHEPHERD_DOG\\13.jpg\n",
      "./dog_classes2\\images\\image\\train\\19_GERMAN_SHEPHERD_DOG\\130.jpg\n",
      "./dog_classes2\\images\\image\\train\\19_GERMAN_SHEPHERD_DOG\\131.jpg\n",
      "./dog_classes2\\images\\image\\train\\19_GERMAN_SHEPHERD_DOG\\132.jpg\n",
      "./dog_classes2\\images\\image\\train\\19_GERMAN_SHEPHERD_DOG\\133.jpg\n",
      "./dog_classes2\\images\\image\\train\\19_GERMAN_SHEPHERD_DOG\\134.jpg\n",
      "./dog_classes2\\images\\image\\train\\19_GERMAN_SHEPHERD_DOG\\135.jpg"
     ]
    },
    {
     "name": "stderr",
     "output_type": "stream",
     "text": [
      "\r",
      ".-dog_classes2\\images\\image\\train\\19_GERMAN_SHEPHERD_DOG:  28%|█████▌              | 48/171 [00:00<00:01, 71.51files/s]"
     ]
    },
    {
     "name": "stdout",
     "output_type": "stream",
     "text": [
      "\n",
      "./dog_classes2\\images\\image\\train\\19_GERMAN_SHEPHERD_DOG\\136.jpg\n",
      "./dog_classes2\\images\\image\\train\\19_GERMAN_SHEPHERD_DOG\\137.jpg\n",
      "./dog_classes2\\images\\image\\train\\19_GERMAN_SHEPHERD_DOG\\138.jpg\n",
      "./dog_classes2\\images\\image\\train\\19_GERMAN_SHEPHERD_DOG\\139.jpg\n",
      "./dog_classes2\\images\\image\\train\\19_GERMAN_SHEPHERD_DOG\\14.jpg\n",
      "./dog_classes2\\images\\image\\train\\19_GERMAN_SHEPHERD_DOG\\140.jpg\n",
      "./dog_classes2\\images\\image\\train\\19_GERMAN_SHEPHERD_DOG\\141.jpg\n",
      "./dog_classes2\\images\\image\\train\\19_GERMAN_SHEPHERD_DOG\\142.jpg\n",
      "./dog_classes2\\images\\image\\train\\19_GERMAN_SHEPHERD_DOG\\143.jpg\n",
      "./dog_classes2\\images\\image\\train\\19_GERMAN_SHEPHERD_DOG\\144.jpg\n",
      "./dog_classes2\\images\\image\\train\\19_GERMAN_SHEPHERD_DOG\\145.jpg\n",
      "./dog_classes2\\images\\image\\train\\19_GERMAN_SHEPHERD_DOG\\146.jpg\n",
      "./dog_classes2\\images\\image\\train\\19_GERMAN_SHEPHERD_DOG\\147.jpg\n",
      "./dog_classes2\\images\\image\\train\\19_GERMAN_SHEPHERD_DOG\\148.jpg\n",
      "./dog_classes2\\images\\image\\train\\19_GERMAN_SHEPHERD_DOG\\149.jpg"
     ]
    },
    {
     "name": "stderr",
     "output_type": "stream",
     "text": [
      ".-dog_classes2\\images\\image\\train\\19_GERMAN_SHEPHERD_DOG:  39%|███████▋            | 66/171 [00:00<00:01, 76.27files/s]"
     ]
    },
    {
     "name": "stdout",
     "output_type": "stream",
     "text": [
      "\n",
      "./dog_classes2\\images\\image\\train\\19_GERMAN_SHEPHERD_DOG\\15.jpg\n",
      "./dog_classes2\\images\\image\\train\\19_GERMAN_SHEPHERD_DOG\\150.jpg\n",
      "./dog_classes2\\images\\image\\train\\19_GERMAN_SHEPHERD_DOG\\151.jpg\n",
      "./dog_classes2\\images\\image\\train\\19_GERMAN_SHEPHERD_DOG\\152.jpg\n",
      "./dog_classes2\\images\\image\\train\\19_GERMAN_SHEPHERD_DOG\\153.jpg\n",
      "./dog_classes2\\images\\image\\train\\19_GERMAN_SHEPHERD_DOG\\154.jpg\n",
      "./dog_classes2\\images\\image\\train\\19_GERMAN_SHEPHERD_DOG\\155.jpg\n",
      "./dog_classes2\\images\\image\\train\\19_GERMAN_SHEPHERD_DOG\\156.jpg\n",
      "./dog_classes2\\images\\image\\train\\19_GERMAN_SHEPHERD_DOG\\157.jpg\n",
      "./dog_classes2\\images\\image\\train\\19_GERMAN_SHEPHERD_DOG\\158.jpg\n",
      "./dog_classes2\\images\\image\\train\\19_GERMAN_SHEPHERD_DOG\\159.jpg\n",
      "./dog_classes2\\images\\image\\train\\19_GERMAN_SHEPHERD_DOG\\16.jpg\n",
      "./dog_classes2\\images\\image\\train\\19_GERMAN_SHEPHERD_DOG\\160.jpg\n",
      "./dog_classes2\\images\\image\\train\\19_GERMAN_SHEPHERD_DOG\\161.jpg\n",
      "./dog_classes2\\images\\image\\train\\19_GERMAN_SHEPHERD_DOG\\162.jpg"
     ]
    },
    {
     "name": "stderr",
     "output_type": "stream",
     "text": [
      ".-dog_classes2\\images\\image\\train\\19_GERMAN_SHEPHERD_DOG:  50%|█████████▉          | 85/171 [00:01<00:01, 77.41files/s]"
     ]
    },
    {
     "name": "stdout",
     "output_type": "stream",
     "text": [
      "\n",
      "./dog_classes2\\images\\image\\train\\19_GERMAN_SHEPHERD_DOG\\163.jpg\n",
      "./dog_classes2\\images\\image\\train\\19_GERMAN_SHEPHERD_DOG\\164.jpg\n",
      "./dog_classes2\\images\\image\\train\\19_GERMAN_SHEPHERD_DOG\\165.jpg\n",
      "./dog_classes2\\images\\image\\train\\19_GERMAN_SHEPHERD_DOG\\166.jpg\n",
      "./dog_classes2\\images\\image\\train\\19_GERMAN_SHEPHERD_DOG\\167.jpg\n",
      "./dog_classes2\\images\\image\\train\\19_GERMAN_SHEPHERD_DOG\\168.jpg\n",
      "./dog_classes2\\images\\image\\train\\19_GERMAN_SHEPHERD_DOG\\169.jpg\n",
      "./dog_classes2\\images\\image\\train\\19_GERMAN_SHEPHERD_DOG\\17.jpg\n",
      "./dog_classes2\\images\\image\\train\\19_GERMAN_SHEPHERD_DOG\\170.jpg\n",
      "./dog_classes2\\images\\image\\train\\19_GERMAN_SHEPHERD_DOG\\18.jpg\n",
      "./dog_classes2\\images\\image\\train\\19_GERMAN_SHEPHERD_DOG\\19.jpg\n",
      "./dog_classes2\\images\\image\\train\\19_GERMAN_SHEPHERD_DOG\\2.jpg\n",
      "./dog_classes2\\images\\image\\train\\19_GERMAN_SHEPHERD_DOG\\20.jpg\n",
      "./dog_classes2\\images\\image\\train\\19_GERMAN_SHEPHERD_DOG\\21.jpg"
     ]
    },
    {
     "name": "stderr",
     "output_type": "stream",
     "text": [
      "\r",
      ".-dog_classes2\\images\\image\\train\\19_GERMAN_SHEPHERD_DOG:  55%|██████████▉         | 94/171 [00:01<00:00, 80.21files/s]"
     ]
    },
    {
     "name": "stdout",
     "output_type": "stream",
     "text": [
      "\n",
      "./dog_classes2\\images\\image\\train\\19_GERMAN_SHEPHERD_DOG\\22.jpg\n",
      "./dog_classes2\\images\\image\\train\\19_GERMAN_SHEPHERD_DOG\\23.jpg\n",
      "./dog_classes2\\images\\image\\train\\19_GERMAN_SHEPHERD_DOG\\24.jpg\n",
      "./dog_classes2\\images\\image\\train\\19_GERMAN_SHEPHERD_DOG\\25.jpg\n",
      "./dog_classes2\\images\\image\\train\\19_GERMAN_SHEPHERD_DOG\\26.jpg\n",
      "./dog_classes2\\images\\image\\train\\19_GERMAN_SHEPHERD_DOG\\27.jpg\n",
      "./dog_classes2\\images\\image\\train\\19_GERMAN_SHEPHERD_DOG\\28.jpg\n",
      "./dog_classes2\\images\\image\\train\\19_GERMAN_SHEPHERD_DOG\\29.jpg\n",
      "./dog_classes2\\images\\image\\train\\19_GERMAN_SHEPHERD_DOG\\3.jpg\n",
      "./dog_classes2\\images\\image\\train\\19_GERMAN_SHEPHERD_DOG\\30.jpg\n",
      "./dog_classes2\\images\\image\\train\\19_GERMAN_SHEPHERD_DOG\\31.jpg\n",
      "./dog_classes2\\images\\image\\train\\19_GERMAN_SHEPHERD_DOG\\32.jpg\n",
      "./dog_classes2\\images\\image\\train\\19_GERMAN_SHEPHERD_DOG\\33.jpg\n",
      "./dog_classes2\\images\\image\\train\\19_GERMAN_SHEPHERD_DOG\\34.jpg\n",
      "./dog_classes2\\images\\image\\train\\19_GERMAN_SHEPHERD_DOG\\35.jpg\n",
      "./dog_classes2\\images\\image\\train\\19_GERMAN_SHEPHERD_DOG\\36.jpg"
     ]
    },
    {
     "name": "stderr",
     "output_type": "stream",
     "text": [
      ".-dog_classes2\\images\\image\\train\\19_GERMAN_SHEPHERD_DOG:  64%|████████████▏      | 110/171 [00:01<00:00, 73.69files/s]"
     ]
    },
    {
     "name": "stdout",
     "output_type": "stream",
     "text": [
      "\n",
      "./dog_classes2\\images\\image\\train\\19_GERMAN_SHEPHERD_DOG\\37.jpg\n",
      "./dog_classes2\\images\\image\\train\\19_GERMAN_SHEPHERD_DOG\\38.jpg\n",
      "./dog_classes2\\images\\image\\train\\19_GERMAN_SHEPHERD_DOG\\39.jpg\n",
      "./dog_classes2\\images\\image\\train\\19_GERMAN_SHEPHERD_DOG\\4.jpg\n",
      "./dog_classes2\\images\\image\\train\\19_GERMAN_SHEPHERD_DOG\\40.jpg\n",
      "./dog_classes2\\images\\image\\train\\19_GERMAN_SHEPHERD_DOG\\41.jpg\n",
      "./dog_classes2\\images\\image\\train\\19_GERMAN_SHEPHERD_DOG\\42.jpg\n",
      "./dog_classes2\\images\\image\\train\\19_GERMAN_SHEPHERD_DOG\\43.jpg\n",
      "./dog_classes2\\images\\image\\train\\19_GERMAN_SHEPHERD_DOG\\44.jpg\n",
      "./dog_classes2\\images\\image\\train\\19_GERMAN_SHEPHERD_DOG\\45.jpg\n"
     ]
    },
    {
     "name": "stderr",
     "output_type": "stream",
     "text": [
      "\r",
      ".-dog_classes2\\images\\image\\train\\19_GERMAN_SHEPHERD_DOG:  69%|█████████████      | 118/171 [00:01<00:00, 63.36files/s]"
     ]
    },
    {
     "name": "stdout",
     "output_type": "stream",
     "text": [
      "./dog_classes2\\images\\image\\train\\19_GERMAN_SHEPHERD_DOG\\46.jpg\n",
      "./dog_classes2\\images\\image\\train\\19_GERMAN_SHEPHERD_DOG\\47.jpg\n",
      "./dog_classes2\\images\\image\\train\\19_GERMAN_SHEPHERD_DOG\\48.jpg\n",
      "./dog_classes2\\images\\image\\train\\19_GERMAN_SHEPHERD_DOG\\49.jpg\n",
      "./dog_classes2\\images\\image\\train\\19_GERMAN_SHEPHERD_DOG\\5.jpg\n",
      "./dog_classes2\\images\\image\\train\\19_GERMAN_SHEPHERD_DOG\\50.jpg\n",
      "./dog_classes2\\images\\image\\train\\19_GERMAN_SHEPHERD_DOG\\51.jpg\n",
      "./dog_classes2\\images\\image\\train\\19_GERMAN_SHEPHERD_DOG\\52.jpg\n",
      "./dog_classes2\\images\\image\\train\\19_GERMAN_SHEPHERD_DOG\\53.jpg\n",
      "./dog_classes2\\images\\image\\train\\19_GERMAN_SHEPHERD_DOG\\54.jpg\n",
      "./dog_classes2\\images\\image\\train\\19_GERMAN_SHEPHERD_DOG\\55.jpg\n",
      "./dog_classes2\\images\\image\\train\\19_GERMAN_SHEPHERD_DOG\\56.jpg\n",
      "./dog_classes2\\images\\image\\train\\19_GERMAN_SHEPHERD_DOG\\57.jpg"
     ]
    },
    {
     "name": "stderr",
     "output_type": "stream",
     "text": [
      ".-dog_classes2\\images\\image\\train\\19_GERMAN_SHEPHERD_DOG:  78%|██████████████▉    | 134/171 [00:01<00:00, 69.77files/s]"
     ]
    },
    {
     "name": "stdout",
     "output_type": "stream",
     "text": [
      "\n",
      "./dog_classes2\\images\\image\\train\\19_GERMAN_SHEPHERD_DOG\\58.jpg\n",
      "./dog_classes2\\images\\image\\train\\19_GERMAN_SHEPHERD_DOG\\59.jpg\n",
      "./dog_classes2\\images\\image\\train\\19_GERMAN_SHEPHERD_DOG\\6.jpg\n",
      "./dog_classes2\\images\\image\\train\\19_GERMAN_SHEPHERD_DOG\\60.jpg\n",
      "./dog_classes2\\images\\image\\train\\19_GERMAN_SHEPHERD_DOG\\61.jpg\n",
      "./dog_classes2\\images\\image\\train\\19_GERMAN_SHEPHERD_DOG\\62.jpg\n",
      "./dog_classes2\\images\\image\\train\\19_GERMAN_SHEPHERD_DOG\\63.jpg\n",
      "./dog_classes2\\images\\image\\train\\19_GERMAN_SHEPHERD_DOG\\64.jpg\n",
      "./dog_classes2\\images\\image\\train\\19_GERMAN_SHEPHERD_DOG\\65.jpg\n",
      "./dog_classes2\\images\\image\\train\\19_GERMAN_SHEPHERD_DOG\\66.jpg\n",
      "./dog_classes2\\images\\image\\train\\19_GERMAN_SHEPHERD_DOG\\67.jpg\n",
      "./dog_classes2\\images\\image\\train\\19_GERMAN_SHEPHERD_DOG\\68.jpg\n",
      "./dog_classes2\\images\\image\\train\\19_GERMAN_SHEPHERD_DOG\\69.jpg\n",
      "./dog_classes2\\images\\image\\train\\19_GERMAN_SHEPHERD_DOG\\7.jpg\n",
      "./dog_classes2\\images\\image\\train\\19_GERMAN_SHEPHERD_DOG\\70.jpg\n",
      "./dog_classes2\\images\\image\\train\\19_GERMAN_SHEPHERD_DOG\\71.jpg\n",
      "./dog_classes2\\images\\image\\train\\19_GERMAN_SHEPHERD_DOG\\72.jpg"
     ]
    },
    {
     "name": "stderr",
     "output_type": "stream",
     "text": [
      ".-dog_classes2\\images\\image\\train\\19_GERMAN_SHEPHERD_DOG:  88%|████████████████▊  | 151/171 [00:02<00:00, 74.51files/s]"
     ]
    },
    {
     "name": "stdout",
     "output_type": "stream",
     "text": [
      "\n",
      "./dog_classes2\\images\\image\\train\\19_GERMAN_SHEPHERD_DOG\\73.jpg\n",
      "./dog_classes2\\images\\image\\train\\19_GERMAN_SHEPHERD_DOG\\74.jpg\n",
      "./dog_classes2\\images\\image\\train\\19_GERMAN_SHEPHERD_DOG\\75.jpg\n",
      "./dog_classes2\\images\\image\\train\\19_GERMAN_SHEPHERD_DOG\\76.jpg\n",
      "./dog_classes2\\images\\image\\train\\19_GERMAN_SHEPHERD_DOG\\77.jpg\n",
      "./dog_classes2\\images\\image\\train\\19_GERMAN_SHEPHERD_DOG\\78.jpg\n",
      "./dog_classes2\\images\\image\\train\\19_GERMAN_SHEPHERD_DOG\\79.jpg\n",
      "./dog_classes2\\images\\image\\train\\19_GERMAN_SHEPHERD_DOG\\8.jpg\n",
      "./dog_classes2\\images\\image\\train\\19_GERMAN_SHEPHERD_DOG\\80.jpg\n",
      "./dog_classes2\\images\\image\\train\\19_GERMAN_SHEPHERD_DOG\\81.jpg\n",
      "./dog_classes2\\images\\image\\train\\19_GERMAN_SHEPHERD_DOG\\82.jpg\n",
      "./dog_classes2\\images\\image\\train\\19_GERMAN_SHEPHERD_DOG\\83.jpg\n",
      "./dog_classes2\\images\\image\\train\\19_GERMAN_SHEPHERD_DOG\\84.jpg\n",
      "./dog_classes2\\images\\image\\train\\19_GERMAN_SHEPHERD_DOG\\85.jpg"
     ]
    },
    {
     "name": "stderr",
     "output_type": "stream",
     "text": [
      ".-dog_classes2\\images\\image\\train\\19_GERMAN_SHEPHERD_DOG:  98%|██████████████████▋| 168/171 [00:02<00:00, 77.35files/s]"
     ]
    },
    {
     "name": "stdout",
     "output_type": "stream",
     "text": [
      "\n",
      "./dog_classes2\\images\\image\\train\\19_GERMAN_SHEPHERD_DOG\\86.jpg\n",
      "./dog_classes2\\images\\image\\train\\19_GERMAN_SHEPHERD_DOG\\87.jpg\n",
      "./dog_classes2\\images\\image\\train\\19_GERMAN_SHEPHERD_DOG\\88.jpg\n",
      "./dog_classes2\\images\\image\\train\\19_GERMAN_SHEPHERD_DOG\\89.jpg\n",
      "./dog_classes2\\images\\image\\train\\19_GERMAN_SHEPHERD_DOG\\9.jpg\n",
      "./dog_classes2\\images\\image\\train\\19_GERMAN_SHEPHERD_DOG\\90.jpg\n",
      "./dog_classes2\\images\\image\\train\\19_GERMAN_SHEPHERD_DOG\\91.jpg\n",
      "./dog_classes2\\images\\image\\train\\19_GERMAN_SHEPHERD_DOG\\92.jpg\n",
      "./dog_classes2\\images\\image\\train\\19_GERMAN_SHEPHERD_DOG\\93.jpg\n",
      "./dog_classes2\\images\\image\\train\\19_GERMAN_SHEPHERD_DOG\\94.jpg\n",
      "./dog_classes2\\images\\image\\train\\19_GERMAN_SHEPHERD_DOG\\95.jpg\n",
      "./dog_classes2\\images\\image\\train\\19_GERMAN_SHEPHERD_DOG\\96.jpg\n",
      "./dog_classes2\\images\\image\\train\\19_GERMAN_SHEPHERD_DOG\\97.jpg\n",
      "./dog_classes2\\images\\image\\train\\19_GERMAN_SHEPHERD_DOG\\98.jpg\n",
      "./dog_classes2\\images\\image\\train\\19_GERMAN_SHEPHERD_DOG\\99.jpg"
     ]
    },
    {
     "name": "stderr",
     "output_type": "stream",
     "text": [
      ".-dog_classes2\\images\\image\\train\\21_CHOW_CHOW:   4%|█▎                             | 8/196 [00:00<00:02, 79.42files/s]"
     ]
    },
    {
     "name": "stdout",
     "output_type": "stream",
     "text": [
      "\n",
      "./dog_classes2\\images\\image\\train\\21_CHOW_CHOW\\0.jpg\n",
      "./dog_classes2\\images\\image\\train\\21_CHOW_CHOW\\1.jpg\n",
      "./dog_classes2\\images\\image\\train\\21_CHOW_CHOW\\10.jpg\n",
      "./dog_classes2\\images\\image\\train\\21_CHOW_CHOW\\100.jpg\n",
      "./dog_classes2\\images\\image\\train\\21_CHOW_CHOW\\101.jpg\n",
      "./dog_classes2\\images\\image\\train\\21_CHOW_CHOW\\102.jpg\n",
      "./dog_classes2\\images\\image\\train\\21_CHOW_CHOW\\103.jpg\n",
      "./dog_classes2\\images\\image\\train\\21_CHOW_CHOW\\104.jpg\n",
      "./dog_classes2\\images\\image\\train\\21_CHOW_CHOW\\105.jpg\n",
      "./dog_classes2\\images\\image\\train\\21_CHOW_CHOW\\106.jpg\n",
      "./dog_classes2\\images\\image\\train\\21_CHOW_CHOW\\107.jpg\n",
      "./dog_classes2\\images\\image\\train\\21_CHOW_CHOW\\108.jpg\n",
      "./dog_classes2\\images\\image\\train\\21_CHOW_CHOW\\109.jpg\n",
      "./dog_classes2\\images\\image\\train\\21_CHOW_CHOW\\11.jpg\n",
      "./dog_classes2\\images\\image\\train\\21_CHOW_CHOW\\110.jpg"
     ]
    },
    {
     "name": "stderr",
     "output_type": "stream",
     "text": [
      ".-dog_classes2\\images\\image\\train\\21_CHOW_CHOW:  13%|███▊                          | 25/196 [00:00<00:02, 79.52files/s]"
     ]
    },
    {
     "name": "stdout",
     "output_type": "stream",
     "text": [
      "\n",
      "./dog_classes2\\images\\image\\train\\21_CHOW_CHOW\\111.jpg\n",
      "./dog_classes2\\images\\image\\train\\21_CHOW_CHOW\\112.jpg\n",
      "./dog_classes2\\images\\image\\train\\21_CHOW_CHOW\\113.jpg\n",
      "./dog_classes2\\images\\image\\train\\21_CHOW_CHOW\\114.jpg\n",
      "./dog_classes2\\images\\image\\train\\21_CHOW_CHOW\\115.jpg\n",
      "./dog_classes2\\images\\image\\train\\21_CHOW_CHOW\\116.jpg\n",
      "./dog_classes2\\images\\image\\train\\21_CHOW_CHOW\\117.jpg\n",
      "./dog_classes2\\images\\image\\train\\21_CHOW_CHOW\\118.jpg\n",
      "./dog_classes2\\images\\image\\train\\21_CHOW_CHOW\\119.jpg\n",
      "./dog_classes2\\images\\image\\train\\21_CHOW_CHOW\\12.jpg\n",
      "./dog_classes2\\images\\image\\train\\21_CHOW_CHOW\\120.jpg\n",
      "./dog_classes2\\images\\image\\train\\21_CHOW_CHOW\\121.jpg\n",
      "./dog_classes2\\images\\image\\train\\21_CHOW_CHOW\\122.jpg\n",
      "./dog_classes2\\images\\image\\train\\21_CHOW_CHOW\\123.jpg\n",
      "./dog_classes2\\images\\image\\train\\21_CHOW_CHOW\\124.jpg"
     ]
    },
    {
     "name": "stderr",
     "output_type": "stream",
     "text": [
      ".-dog_classes2\\images\\image\\train\\21_CHOW_CHOW:  21%|██████▍                       | 42/196 [00:00<00:01, 79.82files/s]"
     ]
    },
    {
     "name": "stdout",
     "output_type": "stream",
     "text": [
      "\n",
      "./dog_classes2\\images\\image\\train\\21_CHOW_CHOW\\125.jpg\n",
      "./dog_classes2\\images\\image\\train\\21_CHOW_CHOW\\126.jpg\n",
      "./dog_classes2\\images\\image\\train\\21_CHOW_CHOW\\127.jpg\n",
      "./dog_classes2\\images\\image\\train\\21_CHOW_CHOW\\128.jpg\n",
      "./dog_classes2\\images\\image\\train\\21_CHOW_CHOW\\129.jpg\n",
      "./dog_classes2\\images\\image\\train\\21_CHOW_CHOW\\13.jpg\n",
      "./dog_classes2\\images\\image\\train\\21_CHOW_CHOW\\130.jpg\n",
      "./dog_classes2\\images\\image\\train\\21_CHOW_CHOW\\131.jpg\n",
      "./dog_classes2\\images\\image\\train\\21_CHOW_CHOW\\132.jpg\n",
      "./dog_classes2\\images\\image\\train\\21_CHOW_CHOW\\133.jpg\n",
      "./dog_classes2\\images\\image\\train\\21_CHOW_CHOW\\134.jpg\n",
      "./dog_classes2\\images\\image\\train\\21_CHOW_CHOW\\135.jpg\n",
      "./dog_classes2\\images\\image\\train\\21_CHOW_CHOW\\136.jpg\n",
      "./dog_classes2\\images\\image\\train\\21_CHOW_CHOW\\137.jpg\n",
      "./dog_classes2\\images\\image\\train\\21_CHOW_CHOW\\138.jpg"
     ]
    },
    {
     "name": "stderr",
     "output_type": "stream",
     "text": [
      "\r",
      ".-dog_classes2\\images\\image\\train\\21_CHOW_CHOW:  26%|███████▊                      | 51/196 [00:00<00:01, 81.35files/s]"
     ]
    },
    {
     "name": "stdout",
     "output_type": "stream",
     "text": [
      "\n",
      "./dog_classes2\\images\\image\\train\\21_CHOW_CHOW\\139.jpg\n",
      "./dog_classes2\\images\\image\\train\\21_CHOW_CHOW\\14.jpg\n",
      "./dog_classes2\\images\\image\\train\\21_CHOW_CHOW\\140.jpg\n",
      "./dog_classes2\\images\\image\\train\\21_CHOW_CHOW\\141.jpg\n",
      "./dog_classes2\\images\\image\\train\\21_CHOW_CHOW\\142.jpg\n",
      "./dog_classes2\\images\\image\\train\\21_CHOW_CHOW\\143.jpg\n",
      "./dog_classes2\\images\\image\\train\\21_CHOW_CHOW\\144.jpg\n",
      "./dog_classes2\\images\\image\\train\\21_CHOW_CHOW\\145.jpg\n",
      "./dog_classes2\\images\\image\\train\\21_CHOW_CHOW\\146.jpg\n",
      "./dog_classes2\\images\\image\\train\\21_CHOW_CHOW\\147.jpg\n",
      "./dog_classes2\\images\\image\\train\\21_CHOW_CHOW\\148.jpg\n",
      "./dog_classes2\\images\\image\\train\\21_CHOW_CHOW\\149.jpg\n",
      "./dog_classes2\\images\\image\\train\\21_CHOW_CHOW\\15.jpg\n",
      "./dog_classes2\\images\\image\\train\\21_CHOW_CHOW\\150.jpg\n",
      "./dog_classes2\\images\\image\\train\\21_CHOW_CHOW\\151.jpg\n"
     ]
    },
    {
     "name": "stderr",
     "output_type": "stream",
     "text": [
      ".-dog_classes2\\images\\image\\train\\21_CHOW_CHOW:  35%|██████████▌                   | 69/196 [00:00<00:01, 82.23files/s]"
     ]
    },
    {
     "name": "stdout",
     "output_type": "stream",
     "text": [
      "./dog_classes2\\images\\image\\train\\21_CHOW_CHOW\\152.jpg\n",
      "./dog_classes2\\images\\image\\train\\21_CHOW_CHOW\\153.jpg\n",
      "./dog_classes2\\images\\image\\train\\21_CHOW_CHOW\\154.jpg\n",
      "./dog_classes2\\images\\image\\train\\21_CHOW_CHOW\\155.jpg\n",
      "./dog_classes2\\images\\image\\train\\21_CHOW_CHOW\\156.jpg\n",
      "./dog_classes2\\images\\image\\train\\21_CHOW_CHOW\\157.jpg\n",
      "./dog_classes2\\images\\image\\train\\21_CHOW_CHOW\\158.jpg\n",
      "./dog_classes2\\images\\image\\train\\21_CHOW_CHOW\\159.jpg\n",
      "./dog_classes2\\images\\image\\train\\21_CHOW_CHOW\\16.jpg\n",
      "./dog_classes2\\images\\image\\train\\21_CHOW_CHOW\\160.jpg\n",
      "./dog_classes2\\images\\image\\train\\21_CHOW_CHOW\\161.jpg\n",
      "./dog_classes2\\images\\image\\train\\21_CHOW_CHOW\\162.jpg\n",
      "./dog_classes2\\images\\image\\train\\21_CHOW_CHOW\\163.jpg\n",
      "./dog_classes2\\images\\image\\train\\21_CHOW_CHOW\\164.jpg\n",
      "./dog_classes2\\images\\image\\train\\21_CHOW_CHOW\\165.jpg\n",
      "./dog_classes2\\images\\image\\train\\21_CHOW_CHOW\\166.jpg"
     ]
    },
    {
     "name": "stderr",
     "output_type": "stream",
     "text": [
      ".-dog_classes2\\images\\image\\train\\21_CHOW_CHOW:  44%|█████████████▎                | 87/196 [00:01<00:01, 83.52files/s]"
     ]
    },
    {
     "name": "stdout",
     "output_type": "stream",
     "text": [
      "\n",
      "./dog_classes2\\images\\image\\train\\21_CHOW_CHOW\\167.jpg\n",
      "./dog_classes2\\images\\image\\train\\21_CHOW_CHOW\\168.jpg\n",
      "./dog_classes2\\images\\image\\train\\21_CHOW_CHOW\\169.jpg\n",
      "./dog_classes2\\images\\image\\train\\21_CHOW_CHOW\\17.jpg\n",
      "./dog_classes2\\images\\image\\train\\21_CHOW_CHOW\\170.jpg\n",
      "./dog_classes2\\images\\image\\train\\21_CHOW_CHOW\\171.jpg\n",
      "./dog_classes2\\images\\image\\train\\21_CHOW_CHOW\\172.jpg\n",
      "./dog_classes2\\images\\image\\train\\21_CHOW_CHOW\\173.jpg\n",
      "./dog_classes2\\images\\image\\train\\21_CHOW_CHOW\\174.jpg\n",
      "./dog_classes2\\images\\image\\train\\21_CHOW_CHOW\\175.jpg\n",
      "./dog_classes2\\images\\image\\train\\21_CHOW_CHOW\\176.jpg\n",
      "./dog_classes2\\images\\image\\train\\21_CHOW_CHOW\\177.jpg\n",
      "./dog_classes2\\images\\image\\train\\21_CHOW_CHOW\\178.jpg\n",
      "./dog_classes2\\images\\image\\train\\21_CHOW_CHOW\\179.jpg\n",
      "./dog_classes2\\images\\image\\train\\21_CHOW_CHOW\\18.jpg\n",
      "./dog_classes2\\images\\image\\train\\21_CHOW_CHOW\\180.jpg"
     ]
    },
    {
     "name": "stderr",
     "output_type": "stream",
     "text": [
      ".-dog_classes2\\images\\image\\train\\21_CHOW_CHOW:  54%|███████████████▋             | 106/196 [00:01<00:01, 86.07files/s]"
     ]
    },
    {
     "name": "stdout",
     "output_type": "stream",
     "text": [
      "\n",
      "./dog_classes2\\images\\image\\train\\21_CHOW_CHOW\\181.jpg\n",
      "./dog_classes2\\images\\image\\train\\21_CHOW_CHOW\\182.jpg\n",
      "./dog_classes2\\images\\image\\train\\21_CHOW_CHOW\\183.jpg\n",
      "./dog_classes2\\images\\image\\train\\21_CHOW_CHOW\\184.jpg\n",
      "./dog_classes2\\images\\image\\train\\21_CHOW_CHOW\\185.jpg\n",
      "./dog_classes2\\images\\image\\train\\21_CHOW_CHOW\\186.jpg\n",
      "./dog_classes2\\images\\image\\train\\21_CHOW_CHOW\\187.jpg\n",
      "./dog_classes2\\images\\image\\train\\21_CHOW_CHOW\\188.jpg\n",
      "./dog_classes2\\images\\image\\train\\21_CHOW_CHOW\\189.jpg\n",
      "./dog_classes2\\images\\image\\train\\21_CHOW_CHOW\\19.jpg\n",
      "./dog_classes2\\images\\image\\train\\21_CHOW_CHOW\\190.jpg\n",
      "./dog_classes2\\images\\image\\train\\21_CHOW_CHOW\\191.jpg\n",
      "./dog_classes2\\images\\image\\train\\21_CHOW_CHOW\\192.jpg\n",
      "./dog_classes2\\images\\image\\train\\21_CHOW_CHOW\\193.jpg\n",
      "./dog_classes2\\images\\image\\train\\21_CHOW_CHOW\\194.jpg\n",
      "./dog_classes2\\images\\image\\train\\21_CHOW_CHOW\\195.jpg\n",
      "./dog_classes2\\images\\image\\train\\21_CHOW_CHOW\\2.jpg"
     ]
    },
    {
     "name": "stderr",
     "output_type": "stream",
     "text": [
      "\r",
      ".-dog_classes2\\images\\image\\train\\21_CHOW_CHOW:  59%|█████████████████            | 115/196 [00:01<00:00, 84.11files/s]"
     ]
    },
    {
     "name": "stdout",
     "output_type": "stream",
     "text": [
      "\n",
      "./dog_classes2\\images\\image\\train\\21_CHOW_CHOW\\20.jpg\n",
      "./dog_classes2\\images\\image\\train\\21_CHOW_CHOW\\21.jpg\n",
      "./dog_classes2\\images\\image\\train\\21_CHOW_CHOW\\22.jpg\n",
      "./dog_classes2\\images\\image\\train\\21_CHOW_CHOW\\23.jpg\n",
      "./dog_classes2\\images\\image\\train\\21_CHOW_CHOW\\24.jpg\n",
      "./dog_classes2\\images\\image\\train\\21_CHOW_CHOW\\25.jpg\n",
      "./dog_classes2\\images\\image\\train\\21_CHOW_CHOW\\26.jpg\n",
      "./dog_classes2\\images\\image\\train\\21_CHOW_CHOW\\27.jpg\n",
      "./dog_classes2\\images\\image\\train\\21_CHOW_CHOW\\28.jpg\n",
      "./dog_classes2\\images\\image\\train\\21_CHOW_CHOW\\29.jpg\n",
      "./dog_classes2\\images\\image\\train\\21_CHOW_CHOW\\3.jpg\n",
      "./dog_classes2\\images\\image\\train\\21_CHOW_CHOW\\30.jpg\n",
      "./dog_classes2\\images\\image\\train\\21_CHOW_CHOW\\31.jpg\n",
      "./dog_classes2\\images\\image\\train\\21_CHOW_CHOW\\32.jpg\n",
      "./dog_classes2\\images\\image\\train\\21_CHOW_CHOW\\33.jpg"
     ]
    },
    {
     "name": "stderr",
     "output_type": "stream",
     "text": [
      ".-dog_classes2\\images\\image\\train\\21_CHOW_CHOW:  68%|███████████████████▋         | 133/196 [00:01<00:00, 83.66files/s]"
     ]
    },
    {
     "name": "stdout",
     "output_type": "stream",
     "text": [
      "\n",
      "./dog_classes2\\images\\image\\train\\21_CHOW_CHOW\\34.jpg\n",
      "./dog_classes2\\images\\image\\train\\21_CHOW_CHOW\\35.jpg\n",
      "./dog_classes2\\images\\image\\train\\21_CHOW_CHOW\\36.jpg\n",
      "./dog_classes2\\images\\image\\train\\21_CHOW_CHOW\\37.jpg\n",
      "./dog_classes2\\images\\image\\train\\21_CHOW_CHOW\\38.jpg\n",
      "./dog_classes2\\images\\image\\train\\21_CHOW_CHOW\\39.jpg\n",
      "./dog_classes2\\images\\image\\train\\21_CHOW_CHOW\\4.jpg\n",
      "./dog_classes2\\images\\image\\train\\21_CHOW_CHOW\\40.jpg\n",
      "./dog_classes2\\images\\image\\train\\21_CHOW_CHOW\\41.jpg\n",
      "./dog_classes2\\images\\image\\train\\21_CHOW_CHOW\\42.jpg\n",
      "./dog_classes2\\images\\image\\train\\21_CHOW_CHOW\\43.jpg\n",
      "./dog_classes2\\images\\image\\train\\21_CHOW_CHOW\\44.jpg\n",
      "./dog_classes2\\images\\image\\train\\21_CHOW_CHOW\\45.jpg\n",
      "./dog_classes2\\images\\image\\train\\21_CHOW_CHOW\\46.jpg\n",
      "./dog_classes2\\images\\image\\train\\21_CHOW_CHOW\\47.jpg\n",
      "./dog_classes2\\images\\image\\train\\21_CHOW_CHOW\\48.jpg"
     ]
    },
    {
     "name": "stderr",
     "output_type": "stream",
     "text": [
      ".-dog_classes2\\images\\image\\train\\21_CHOW_CHOW:  77%|██████████████████████▎      | 151/196 [00:01<00:00, 80.11files/s]"
     ]
    },
    {
     "name": "stdout",
     "output_type": "stream",
     "text": [
      "\n",
      "./dog_classes2\\images\\image\\train\\21_CHOW_CHOW\\49.jpg\n",
      "./dog_classes2\\images\\image\\train\\21_CHOW_CHOW\\5.jpg\n",
      "./dog_classes2\\images\\image\\train\\21_CHOW_CHOW\\50.jpg\n",
      "./dog_classes2\\images\\image\\train\\21_CHOW_CHOW\\51.jpg\n",
      "./dog_classes2\\images\\image\\train\\21_CHOW_CHOW\\52.jpg\n",
      "./dog_classes2\\images\\image\\train\\21_CHOW_CHOW\\53.jpg\n",
      "./dog_classes2\\images\\image\\train\\21_CHOW_CHOW\\54.jpg\n",
      "./dog_classes2\\images\\image\\train\\21_CHOW_CHOW\\55.jpg\n",
      "./dog_classes2\\images\\image\\train\\21_CHOW_CHOW\\56.jpg\n",
      "./dog_classes2\\images\\image\\train\\21_CHOW_CHOW\\57.jpg\n",
      "./dog_classes2\\images\\image\\train\\21_CHOW_CHOW\\58.jpg\n",
      "./dog_classes2\\images\\image\\train\\21_CHOW_CHOW\\59.jpg\n",
      "./dog_classes2\\images\\image\\train\\21_CHOW_CHOW\\6.jpg"
     ]
    },
    {
     "name": "stderr",
     "output_type": "stream",
     "text": [
      "\r",
      ".-dog_classes2\\images\\image\\train\\21_CHOW_CHOW:  82%|███████████████████████▋     | 160/196 [00:01<00:00, 80.25files/s]"
     ]
    },
    {
     "name": "stdout",
     "output_type": "stream",
     "text": [
      "\n",
      "./dog_classes2\\images\\image\\train\\21_CHOW_CHOW\\60.jpg\n",
      "./dog_classes2\\images\\image\\train\\21_CHOW_CHOW\\61.jpg\n",
      "./dog_classes2\\images\\image\\train\\21_CHOW_CHOW\\62.jpg\n",
      "./dog_classes2\\images\\image\\train\\21_CHOW_CHOW\\63.jpg\n",
      "./dog_classes2\\images\\image\\train\\21_CHOW_CHOW\\64.jpg\n",
      "./dog_classes2\\images\\image\\train\\21_CHOW_CHOW\\65.jpg\n",
      "./dog_classes2\\images\\image\\train\\21_CHOW_CHOW\\66.jpg\n",
      "./dog_classes2\\images\\image\\train\\21_CHOW_CHOW\\67.jpg\n",
      "./dog_classes2\\images\\image\\train\\21_CHOW_CHOW\\68.jpg\n",
      "./dog_classes2\\images\\image\\train\\21_CHOW_CHOW\\69.jpg\n",
      "./dog_classes2\\images\\image\\train\\21_CHOW_CHOW\\7.jpg\n",
      "./dog_classes2\\images\\image\\train\\21_CHOW_CHOW\\70.jpg\n",
      "./dog_classes2\\images\\image\\train\\21_CHOW_CHOW\\71.jpg\n",
      "./dog_classes2\\images\\image\\train\\21_CHOW_CHOW\\72.jpg\n",
      "./dog_classes2\\images\\image\\train\\21_CHOW_CHOW\\73.jpg\n",
      "./dog_classes2\\images\\image\\train\\21_CHOW_CHOW\\74.jpg"
     ]
    },
    {
     "name": "stderr",
     "output_type": "stream",
     "text": [
      ".-dog_classes2\\images\\image\\train\\21_CHOW_CHOW:  91%|██████████████████████████▎  | 178/196 [00:02<00:00, 81.22files/s]"
     ]
    },
    {
     "name": "stdout",
     "output_type": "stream",
     "text": [
      "\n",
      "./dog_classes2\\images\\image\\train\\21_CHOW_CHOW\\75.jpg\n",
      "./dog_classes2\\images\\image\\train\\21_CHOW_CHOW\\76.jpg\n",
      "./dog_classes2\\images\\image\\train\\21_CHOW_CHOW\\77.jpg\n",
      "./dog_classes2\\images\\image\\train\\21_CHOW_CHOW\\78.jpg\n",
      "./dog_classes2\\images\\image\\train\\21_CHOW_CHOW\\79.jpg\n",
      "./dog_classes2\\images\\image\\train\\21_CHOW_CHOW\\8.jpg\n",
      "./dog_classes2\\images\\image\\train\\21_CHOW_CHOW\\80.jpg\n",
      "./dog_classes2\\images\\image\\train\\21_CHOW_CHOW\\81.jpg\n",
      "./dog_classes2\\images\\image\\train\\21_CHOW_CHOW\\82.jpg\n",
      "./dog_classes2\\images\\image\\train\\21_CHOW_CHOW\\83.jpg\n",
      "./dog_classes2\\images\\image\\train\\21_CHOW_CHOW\\84.jpg\n",
      "./dog_classes2\\images\\image\\train\\21_CHOW_CHOW\\85.jpg\n",
      "./dog_classes2\\images\\image\\train\\21_CHOW_CHOW\\86.jpg\n",
      "./dog_classes2\\images\\image\\train\\21_CHOW_CHOW\\87.jpg\n",
      "./dog_classes2\\images\\image\\train\\21_CHOW_CHOW\\88.jpg\n",
      "./dog_classes2\\images\\image\\train\\21_CHOW_CHOW\\89.jpg"
     ]
    },
    {
     "name": "stderr",
     "output_type": "stream",
     "text": [
      ".-dog_classes2\\images\\image\\train\\22_DOBERMANN:   0%|                                       | 0/174 [00:00<?, ?files/s]"
     ]
    },
    {
     "name": "stdout",
     "output_type": "stream",
     "text": [
      "\n",
      "./dog_classes2\\images\\image\\train\\21_CHOW_CHOW\\9.jpg\n",
      "./dog_classes2\\images\\image\\train\\21_CHOW_CHOW\\90.jpg\n",
      "./dog_classes2\\images\\image\\train\\21_CHOW_CHOW\\91.jpg\n",
      "./dog_classes2\\images\\image\\train\\21_CHOW_CHOW\\92.jpg\n",
      "./dog_classes2\\images\\image\\train\\21_CHOW_CHOW\\93.jpg\n",
      "./dog_classes2\\images\\image\\train\\21_CHOW_CHOW\\94.jpg\n",
      "./dog_classes2\\images\\image\\train\\21_CHOW_CHOW\\95.jpg\n",
      "./dog_classes2\\images\\image\\train\\21_CHOW_CHOW\\96.jpg\n",
      "./dog_classes2\\images\\image\\train\\21_CHOW_CHOW\\97.jpg\n",
      "./dog_classes2\\images\\image\\train\\21_CHOW_CHOW\\98.jpg\n",
      "./dog_classes2\\images\\image\\train\\21_CHOW_CHOW\\99.jpg\n",
      "./dog_classes2\\images\\image\\train\\22_DOBERMANN\\0.jpg\n",
      "./dog_classes2\\images\\image\\train\\22_DOBERMANN\\1.jpg\n",
      "./dog_classes2\\images\\image\\train\\22_DOBERMANN\\10.jpg\n",
      "./dog_classes2\\images\\image\\train\\22_DOBERMANN\\100.jpg"
     ]
    },
    {
     "name": "stderr",
     "output_type": "stream",
     "text": [
      ".-dog_classes2\\images\\image\\train\\22_DOBERMANN:   9%|██▊                           | 16/174 [00:00<00:02, 77.31files/s]"
     ]
    },
    {
     "name": "stdout",
     "output_type": "stream",
     "text": [
      "\n",
      "./dog_classes2\\images\\image\\train\\22_DOBERMANN\\101.jpg\n",
      "./dog_classes2\\images\\image\\train\\22_DOBERMANN\\102.jpg\n",
      "./dog_classes2\\images\\image\\train\\22_DOBERMANN\\103.jpg\n",
      "./dog_classes2\\images\\image\\train\\22_DOBERMANN\\104.jpg\n",
      "./dog_classes2\\images\\image\\train\\22_DOBERMANN\\105.jpg\n",
      "./dog_classes2\\images\\image\\train\\22_DOBERMANN\\106.jpg\n",
      "./dog_classes2\\images\\image\\train\\22_DOBERMANN\\107.jpg\n",
      "./dog_classes2\\images\\image\\train\\22_DOBERMANN\\108.jpg\n",
      "./dog_classes2\\images\\image\\train\\22_DOBERMANN\\109.jpg\n",
      "./dog_classes2\\images\\image\\train\\22_DOBERMANN\\11.jpg\n",
      "./dog_classes2\\images\\image\\train\\22_DOBERMANN\\110.jpg\n",
      "./dog_classes2\\images\\image\\train\\22_DOBERMANN\\111.jpg\n",
      "./dog_classes2\\images\\image\\train\\22_DOBERMANN\\112.jpg\n",
      "./dog_classes2\\images\\image\\train\\22_DOBERMANN\\113.jpg"
     ]
    },
    {
     "name": "stderr",
     "output_type": "stream",
     "text": [
      "\r",
      ".-dog_classes2\\images\\image\\train\\22_DOBERMANN:  14%|████▎                         | 25/174 [00:00<00:02, 74.21files/s]"
     ]
    },
    {
     "name": "stdout",
     "output_type": "stream",
     "text": [
      "\n",
      "./dog_classes2\\images\\image\\train\\22_DOBERMANN\\114.jpg\n",
      "./dog_classes2\\images\\image\\train\\22_DOBERMANN\\115.jpg\n",
      "./dog_classes2\\images\\image\\train\\22_DOBERMANN\\116.jpg\n",
      "./dog_classes2\\images\\image\\train\\22_DOBERMANN\\117.jpg\n",
      "./dog_classes2\\images\\image\\train\\22_DOBERMANN\\118.jpg\n",
      "./dog_classes2\\images\\image\\train\\22_DOBERMANN\\119.jpg\n",
      "./dog_classes2\\images\\image\\train\\22_DOBERMANN\\12.jpg\n",
      "./dog_classes2\\images\\image\\train\\22_DOBERMANN\\120.jpg\n",
      "./dog_classes2\\images\\image\\train\\22_DOBERMANN\\121.jpg\n",
      "./dog_classes2\\images\\image\\train\\22_DOBERMANN\\122.jpg\n",
      "./dog_classes2\\images\\image\\train\\22_DOBERMANN\\123.jpg\n",
      "./dog_classes2\\images\\image\\train\\22_DOBERMANN\\124.jpg\n",
      "./dog_classes2\\images\\image\\train\\22_DOBERMANN\\125.jpg\n",
      "./dog_classes2\\images\\image\\train\\22_DOBERMANN\\126.jpg"
     ]
    },
    {
     "name": "stderr",
     "output_type": "stream",
     "text": [
      "\r",
      ".-dog_classes2\\images\\image\\train\\22_DOBERMANN:  19%|█████▋                        | 33/174 [00:00<00:02, 63.93files/s]"
     ]
    },
    {
     "name": "stdout",
     "output_type": "stream",
     "text": [
      "\n",
      "./dog_classes2\\images\\image\\train\\22_DOBERMANN\\127.jpg\n",
      "./dog_classes2\\images\\image\\train\\22_DOBERMANN\\128.jpg\n",
      "./dog_classes2\\images\\image\\train\\22_DOBERMANN\\129.jpg\n",
      "./dog_classes2\\images\\image\\train\\22_DOBERMANN\\13.jpg\n",
      "./dog_classes2\\images\\image\\train\\22_DOBERMANN\\130.jpg\n",
      "./dog_classes2\\images\\image\\train\\22_DOBERMANN\\131.jpg\n",
      "./dog_classes2\\images\\image\\train\\22_DOBERMANN\\132.jpg\n",
      "./dog_classes2\\images\\image\\train\\22_DOBERMANN\\133.jpg\n",
      "./dog_classes2\\images\\image\\train\\22_DOBERMANN\\134.jpg"
     ]
    },
    {
     "name": "stderr",
     "output_type": "stream",
     "text": [
      ".-dog_classes2\\images\\image\\train\\22_DOBERMANN:  29%|████████▊                     | 51/174 [00:00<00:01, 72.40files/s]"
     ]
    },
    {
     "name": "stdout",
     "output_type": "stream",
     "text": [
      "\n",
      "./dog_classes2\\images\\image\\train\\22_DOBERMANN\\135.jpg\n",
      "./dog_classes2\\images\\image\\train\\22_DOBERMANN\\136.jpg\n",
      "./dog_classes2\\images\\image\\train\\22_DOBERMANN\\137.jpg\n",
      "./dog_classes2\\images\\image\\train\\22_DOBERMANN\\138.jpg\n",
      "./dog_classes2\\images\\image\\train\\22_DOBERMANN\\139.jpg\n",
      "./dog_classes2\\images\\image\\train\\22_DOBERMANN\\14.jpg\n",
      "./dog_classes2\\images\\image\\train\\22_DOBERMANN\\140.jpg\n",
      "./dog_classes2\\images\\image\\train\\22_DOBERMANN\\141.jpg\n",
      "./dog_classes2\\images\\image\\train\\22_DOBERMANN\\142.jpg\n",
      "./dog_classes2\\images\\image\\train\\22_DOBERMANN\\143.jpg\n",
      "./dog_classes2\\images\\image\\train\\22_DOBERMANN\\144.jpg\n",
      "./dog_classes2\\images\\image\\train\\22_DOBERMANN\\145.jpg\n",
      "./dog_classes2\\images\\image\\train\\22_DOBERMANN\\146.jpg\n",
      "./dog_classes2\\images\\image\\train\\22_DOBERMANN\\147.jpg\n",
      "./dog_classes2\\images\\image\\train\\22_DOBERMANN\\148.jpg"
     ]
    },
    {
     "name": "stderr",
     "output_type": "stream",
     "text": [
      "\r",
      ".-dog_classes2\\images\\image\\train\\22_DOBERMANN:  34%|██████████▏                   | 59/174 [00:00<00:01, 72.76files/s]"
     ]
    },
    {
     "name": "stdout",
     "output_type": "stream",
     "text": [
      "\n",
      "./dog_classes2\\images\\image\\train\\22_DOBERMANN\\149.jpg\n",
      "./dog_classes2\\images\\image\\train\\22_DOBERMANN\\15.jpg\n",
      "./dog_classes2\\images\\image\\train\\22_DOBERMANN\\150.jpg\n",
      "./dog_classes2\\images\\image\\train\\22_DOBERMANN\\151.jpg\n",
      "./dog_classes2\\images\\image\\train\\22_DOBERMANN\\152.jpg\n",
      "./dog_classes2\\images\\image\\train\\22_DOBERMANN\\153.jpg\n",
      "./dog_classes2\\images\\image\\train\\22_DOBERMANN\\154.jpg\n",
      "./dog_classes2\\images\\image\\train\\22_DOBERMANN\\155.jpg\n",
      "./dog_classes2\\images\\image\\train\\22_DOBERMANN\\156.jpg"
     ]
    },
    {
     "name": "stderr",
     "output_type": "stream",
     "text": [
      ".-dog_classes2\\images\\image\\train\\22_DOBERMANN:  43%|████████████▉                 | 75/174 [00:01<00:01, 66.45files/s]"
     ]
    },
    {
     "name": "stdout",
     "output_type": "stream",
     "text": [
      "\n",
      "./dog_classes2\\images\\image\\train\\22_DOBERMANN\\157.jpg\n",
      "./dog_classes2\\images\\image\\train\\22_DOBERMANN\\158.jpg\n",
      "./dog_classes2\\images\\image\\train\\22_DOBERMANN\\159.jpg\n",
      "./dog_classes2\\images\\image\\train\\22_DOBERMANN\\16.jpg\n",
      "./dog_classes2\\images\\image\\train\\22_DOBERMANN\\160.jpg\n",
      "./dog_classes2\\images\\image\\train\\22_DOBERMANN\\161.jpg\n",
      "./dog_classes2\\images\\image\\train\\22_DOBERMANN\\162.jpg\n",
      "./dog_classes2\\images\\image\\train\\22_DOBERMANN\\163.jpg\n",
      "./dog_classes2\\images\\image\\train\\22_DOBERMANN\\164.jpg\n",
      "./dog_classes2\\images\\image\\train\\22_DOBERMANN\\165.jpg\n",
      "./dog_classes2\\images\\image\\train\\22_DOBERMANN\\166.jpg\n",
      "./dog_classes2\\images\\image\\train\\22_DOBERMANN\\167.jpg\n",
      "./dog_classes2\\images\\image\\train\\22_DOBERMANN\\168.jpg\n",
      "./dog_classes2\\images\\image\\train\\22_DOBERMANN\\169.jpg\n",
      "./dog_classes2\\images\\image\\train\\22_DOBERMANN\\17.jpg\n",
      "./dog_classes2\\images\\image\\train\\22_DOBERMANN\\170.jpg\n",
      "./dog_classes2\\images\\image\\train\\22_DOBERMANN\\171.jpg"
     ]
    },
    {
     "name": "stderr",
     "output_type": "stream",
     "text": [
      "\r",
      ".-dog_classes2\\images\\image\\train\\22_DOBERMANN:  49%|██████████████▋               | 85/174 [00:01<00:01, 72.49files/s]"
     ]
    },
    {
     "name": "stdout",
     "output_type": "stream",
     "text": [
      "\n",
      "./dog_classes2\\images\\image\\train\\22_DOBERMANN\\172.jpg\n",
      "./dog_classes2\\images\\image\\train\\22_DOBERMANN\\173.jpg\n",
      "./dog_classes2\\images\\image\\train\\22_DOBERMANN\\18.jpg\n",
      "./dog_classes2\\images\\image\\train\\22_DOBERMANN\\19.jpg\n",
      "./dog_classes2\\images\\image\\train\\22_DOBERMANN\\2.jpg\n",
      "./dog_classes2\\images\\image\\train\\22_DOBERMANN\\20.jpg\n",
      "./dog_classes2\\images\\image\\train\\22_DOBERMANN\\21.jpg\n"
     ]
    },
    {
     "name": "stderr",
     "output_type": "stream",
     "text": [
      "\r",
      ".-dog_classes2\\images\\image\\train\\22_DOBERMANN:  53%|████████████████              | 93/174 [00:01<00:01, 54.43files/s]"
     ]
    },
    {
     "name": "stdout",
     "output_type": "stream",
     "text": [
      "./dog_classes2\\images\\image\\train\\22_DOBERMANN\\22.jpg\n",
      "./dog_classes2\\images\\image\\train\\22_DOBERMANN\\23.jpg\n",
      "./dog_classes2\\images\\image\\train\\22_DOBERMANN\\24.jpg\n",
      "./dog_classes2\\images\\image\\train\\22_DOBERMANN\\25.jpg\n",
      "./dog_classes2\\images\\image\\train\\22_DOBERMANN\\26.jpg\n",
      "./dog_classes2\\images\\image\\train\\22_DOBERMANN\\27.jpg\n",
      "./dog_classes2\\images\\image\\train\\22_DOBERMANN\\28.jpg\n"
     ]
    },
    {
     "name": "stderr",
     "output_type": "stream",
     "text": [
      ".-dog_classes2\\images\\image\\train\\22_DOBERMANN:  63%|██████████████████▏          | 109/174 [00:01<00:01, 48.64files/s]"
     ]
    },
    {
     "name": "stdout",
     "output_type": "stream",
     "text": [
      "./dog_classes2\\images\\image\\train\\22_DOBERMANN\\29.jpg\n",
      "./dog_classes2\\images\\image\\train\\22_DOBERMANN\\3.jpg\n",
      "./dog_classes2\\images\\image\\train\\22_DOBERMANN\\30.jpg\n",
      "./dog_classes2\\images\\image\\train\\22_DOBERMANN\\31.jpg\n",
      "./dog_classes2\\images\\image\\train\\22_DOBERMANN\\32.jpg\n",
      "./dog_classes2\\images\\image\\train\\22_DOBERMANN\\33.jpg\n",
      "./dog_classes2\\images\\image\\train\\22_DOBERMANN\\34.jpg\n",
      "./dog_classes2\\images\\image\\train\\22_DOBERMANN\\35.jpg\n",
      "./dog_classes2\\images\\image\\train\\22_DOBERMANN\\36.jpg\n",
      "./dog_classes2\\images\\image\\train\\22_DOBERMANN\\37.jpg\n",
      "./dog_classes2\\images\\image\\train\\22_DOBERMANN\\38.jpg\n",
      "./dog_classes2\\images\\image\\train\\22_DOBERMANN\\39.jpg\n",
      "./dog_classes2\\images\\image\\train\\22_DOBERMANN\\4.jpg\n",
      "./dog_classes2\\images\\image\\train\\22_DOBERMANN\\40.jpg"
     ]
    },
    {
     "name": "stderr",
     "output_type": "stream",
     "text": [
      "\r",
      ".-dog_classes2\\images\\image\\train\\22_DOBERMANN:  67%|███████████████████▌         | 117/174 [00:01<00:01, 54.93files/s]"
     ]
    },
    {
     "name": "stdout",
     "output_type": "stream",
     "text": [
      "\n",
      "./dog_classes2\\images\\image\\train\\22_DOBERMANN\\41.jpg\n",
      "./dog_classes2\\images\\image\\train\\22_DOBERMANN\\42.jpg\n",
      "./dog_classes2\\images\\image\\train\\22_DOBERMANN\\43.jpg\n",
      "./dog_classes2\\images\\image\\train\\22_DOBERMANN\\44.jpg\n",
      "./dog_classes2\\images\\image\\train\\22_DOBERMANN\\45.jpg\n",
      "./dog_classes2\\images\\image\\train\\22_DOBERMANN\\46.jpg\n",
      "./dog_classes2\\images\\image\\train\\22_DOBERMANN\\47.jpg\n",
      "./dog_classes2\\images\\image\\train\\22_DOBERMANN\\48.jpg\n",
      "./dog_classes2\\images\\image\\train\\22_DOBERMANN\\49.jpg\n",
      "./dog_classes2\\images\\image\\train\\22_DOBERMANN\\5.jpg\n",
      "./dog_classes2\\images\\image\\train\\22_DOBERMANN\\50.jpg\n",
      "./dog_classes2\\images\\image\\train\\22_DOBERMANN\\51.jpg\n",
      "./dog_classes2\\images\\image\\train\\22_DOBERMANN\\52.jpg\n",
      "./dog_classes2\\images\\image\\train\\22_DOBERMANN\\53.jpg\n",
      "./dog_classes2\\images\\image\\train\\22_DOBERMANN\\54.jpg\n",
      "./dog_classes2\\images\\image\\train\\22_DOBERMANN\\55.jpg"
     ]
    },
    {
     "name": "stderr",
     "output_type": "stream",
     "text": [
      ".-dog_classes2\\images\\image\\train\\22_DOBERMANN:  78%|██████████████████████▌      | 135/174 [00:02<00:00, 67.53files/s]"
     ]
    },
    {
     "name": "stdout",
     "output_type": "stream",
     "text": [
      "\n",
      "./dog_classes2\\images\\image\\train\\22_DOBERMANN\\56.jpg\n",
      "./dog_classes2\\images\\image\\train\\22_DOBERMANN\\57.jpg\n",
      "./dog_classes2\\images\\image\\train\\22_DOBERMANN\\58.jpg\n",
      "./dog_classes2\\images\\image\\train\\22_DOBERMANN\\59.jpg\n",
      "./dog_classes2\\images\\image\\train\\22_DOBERMANN\\6.jpg\n",
      "./dog_classes2\\images\\image\\train\\22_DOBERMANN\\60.jpg\n",
      "./dog_classes2\\images\\image\\train\\22_DOBERMANN\\61.jpg\n",
      "./dog_classes2\\images\\image\\train\\22_DOBERMANN\\62.jpg\n",
      "./dog_classes2\\images\\image\\train\\22_DOBERMANN\\63.jpg\n",
      "./dog_classes2\\images\\image\\train\\22_DOBERMANN\\64.jpg\n",
      "./dog_classes2\\images\\image\\train\\22_DOBERMANN\\65.jpg\n",
      "./dog_classes2\\images\\image\\train\\22_DOBERMANN\\66.jpg\n",
      "./dog_classes2\\images\\image\\train\\22_DOBERMANN\\67.jpg\n",
      "./dog_classes2\\images\\image\\train\\22_DOBERMANN\\68.jpg\n",
      "./dog_classes2\\images\\image\\train\\22_DOBERMANN\\69.jpg\n",
      "./dog_classes2\\images\\image\\train\\22_DOBERMANN\\7.jpg"
     ]
    },
    {
     "name": "stderr",
     "output_type": "stream",
     "text": [
      ".-dog_classes2\\images\\image\\train\\22_DOBERMANN:  89%|█████████████████████████▋   | 154/174 [00:02<00:00, 78.10files/s]"
     ]
    },
    {
     "name": "stdout",
     "output_type": "stream",
     "text": [
      "\n",
      "./dog_classes2\\images\\image\\train\\22_DOBERMANN\\70.jpg\n",
      "./dog_classes2\\images\\image\\train\\22_DOBERMANN\\71.jpg\n",
      "./dog_classes2\\images\\image\\train\\22_DOBERMANN\\72.jpg\n",
      "./dog_classes2\\images\\image\\train\\22_DOBERMANN\\73.jpg\n",
      "./dog_classes2\\images\\image\\train\\22_DOBERMANN\\74.jpg\n",
      "./dog_classes2\\images\\image\\train\\22_DOBERMANN\\75.jpg\n",
      "./dog_classes2\\images\\image\\train\\22_DOBERMANN\\76.jpg\n",
      "./dog_classes2\\images\\image\\train\\22_DOBERMANN\\77.jpg\n",
      "./dog_classes2\\images\\image\\train\\22_DOBERMANN\\78.jpg\n",
      "./dog_classes2\\images\\image\\train\\22_DOBERMANN\\79.jpg\n",
      "./dog_classes2\\images\\image\\train\\22_DOBERMANN\\8.jpg\n",
      "./dog_classes2\\images\\image\\train\\22_DOBERMANN\\80.jpg\n",
      "./dog_classes2\\images\\image\\train\\22_DOBERMANN\\81.jpg\n",
      "./dog_classes2\\images\\image\\train\\22_DOBERMANN\\82.jpg\n",
      "./dog_classes2\\images\\image\\train\\22_DOBERMANN\\83.jpg\n",
      "./dog_classes2\\images\\image\\train\\22_DOBERMANN\\84.jpg\n",
      "./dog_classes2\\images\\image\\train\\22_DOBERMANN\\85.jpg"
     ]
    },
    {
     "name": "stderr",
     "output_type": "stream",
     "text": [
      ".-dog_classes2\\images\\image\\train\\23_AMERICAN_COCKER_SPANIEL:   0%|                         | 0/268 [00:00<?, ?files/s]"
     ]
    },
    {
     "name": "stdout",
     "output_type": "stream",
     "text": [
      "\n",
      "./dog_classes2\\images\\image\\train\\22_DOBERMANN\\86.jpg\n",
      "./dog_classes2\\images\\image\\train\\22_DOBERMANN\\87.jpg\n",
      "./dog_classes2\\images\\image\\train\\22_DOBERMANN\\88.jpg\n",
      "./dog_classes2\\images\\image\\train\\22_DOBERMANN\\89.jpg\n",
      "./dog_classes2\\images\\image\\train\\22_DOBERMANN\\9.jpg\n",
      "./dog_classes2\\images\\image\\train\\22_DOBERMANN\\90.jpg\n",
      "./dog_classes2\\images\\image\\train\\22_DOBERMANN\\91.jpg\n",
      "./dog_classes2\\images\\image\\train\\22_DOBERMANN\\92.jpg\n",
      "./dog_classes2\\images\\image\\train\\22_DOBERMANN\\93.jpg\n",
      "./dog_classes2\\images\\image\\train\\22_DOBERMANN\\94.jpg\n",
      "./dog_classes2\\images\\image\\train\\22_DOBERMANN\\95.jpg\n",
      "./dog_classes2\\images\\image\\train\\22_DOBERMANN\\96.jpg\n",
      "./dog_classes2\\images\\image\\train\\22_DOBERMANN\\97.jpg\n",
      "./dog_classes2\\images\\image\\train\\22_DOBERMANN\\98.jpg\n",
      "./dog_classes2\\images\\image\\train\\22_DOBERMANN\\99.jpg\n",
      "./dog_classes2\\images\\image\\train\\23_AMERICAN_COCKER_SPANIEL\\0.jpg"
     ]
    },
    {
     "name": "stderr",
     "output_type": "stream",
     "text": [
      "\r",
      ".-dog_classes2\\images\\image\\train\\23_AMERICAN_COCKER_SPANIEL:   3%|▌                | 8/268 [00:00<00:03, 72.93files/s]"
     ]
    },
    {
     "name": "stdout",
     "output_type": "stream",
     "text": [
      "\n",
      "./dog_classes2\\images\\image\\train\\23_AMERICAN_COCKER_SPANIEL\\1.jpg\n",
      "./dog_classes2\\images\\image\\train\\23_AMERICAN_COCKER_SPANIEL\\10.jpg\n",
      "./dog_classes2\\images\\image\\train\\23_AMERICAN_COCKER_SPANIEL\\100.jpg\n",
      "./dog_classes2\\images\\image\\train\\23_AMERICAN_COCKER_SPANIEL\\101.jpg\n",
      "./dog_classes2\\images\\image\\train\\23_AMERICAN_COCKER_SPANIEL\\102.jpg\n",
      "./dog_classes2\\images\\image\\train\\23_AMERICAN_COCKER_SPANIEL\\103.jpg\n",
      "./dog_classes2\\images\\image\\train\\23_AMERICAN_COCKER_SPANIEL\\104.jpg\n",
      "./dog_classes2\\images\\image\\train\\23_AMERICAN_COCKER_SPANIEL\\105.jpg\n",
      "./dog_classes2\\images\\image\\train\\23_AMERICAN_COCKER_SPANIEL\\106.jpg\n",
      "./dog_classes2\\images\\image\\train\\23_AMERICAN_COCKER_SPANIEL\\107.jpg\n",
      "./dog_classes2\\images\\image\\train\\23_AMERICAN_COCKER_SPANIEL\\108.jpg\n",
      "./dog_classes2\\images\\image\\train\\23_AMERICAN_COCKER_SPANIEL\\109.jpg\n",
      "./dog_classes2\\images\\image\\train\\23_AMERICAN_COCKER_SPANIEL\\11.jpg\n",
      "./dog_classes2\\images\\image\\train\\23_AMERICAN_COCKER_SPANIEL\\110.jpg\n",
      "./dog_classes2\\images\\image\\train\\23_AMERICAN_COCKER_SPANIEL\\111.jpg"
     ]
    },
    {
     "name": "stderr",
     "output_type": "stream",
     "text": [
      ".-dog_classes2\\images\\image\\train\\23_AMERICAN_COCKER_SPANIEL:  10%|█▌              | 26/268 [00:00<00:03, 76.81files/s]"
     ]
    },
    {
     "name": "stdout",
     "output_type": "stream",
     "text": [
      "\n",
      "./dog_classes2\\images\\image\\train\\23_AMERICAN_COCKER_SPANIEL\\112.jpg\n",
      "./dog_classes2\\images\\image\\train\\23_AMERICAN_COCKER_SPANIEL\\113.jpg\n",
      "./dog_classes2\\images\\image\\train\\23_AMERICAN_COCKER_SPANIEL\\114.jpg\n",
      "./dog_classes2\\images\\image\\train\\23_AMERICAN_COCKER_SPANIEL\\115.jpg\n",
      "./dog_classes2\\images\\image\\train\\23_AMERICAN_COCKER_SPANIEL\\116.jpg\n",
      "./dog_classes2\\images\\image\\train\\23_AMERICAN_COCKER_SPANIEL\\117.jpg\n",
      "./dog_classes2\\images\\image\\train\\23_AMERICAN_COCKER_SPANIEL\\118.jpg\n",
      "./dog_classes2\\images\\image\\train\\23_AMERICAN_COCKER_SPANIEL\\119.jpg\n",
      "./dog_classes2\\images\\image\\train\\23_AMERICAN_COCKER_SPANIEL\\12.jpg\n",
      "./dog_classes2\\images\\image\\train\\23_AMERICAN_COCKER_SPANIEL\\120.jpg\n",
      "./dog_classes2\\images\\image\\train\\23_AMERICAN_COCKER_SPANIEL\\121.jpg\n",
      "./dog_classes2\\images\\image\\train\\23_AMERICAN_COCKER_SPANIEL\\122.jpg\n",
      "./dog_classes2\\images\\image\\train\\23_AMERICAN_COCKER_SPANIEL\\123.jpg\n",
      "./dog_classes2\\images\\image\\train\\23_AMERICAN_COCKER_SPANIEL\\124.jpg"
     ]
    },
    {
     "name": "stderr",
     "output_type": "stream",
     "text": [
      "\r",
      ".-dog_classes2\\images\\image\\train\\23_AMERICAN_COCKER_SPANIEL:  13%|██              | 34/268 [00:00<00:03, 75.39files/s]"
     ]
    },
    {
     "name": "stdout",
     "output_type": "stream",
     "text": [
      "\n",
      "./dog_classes2\\images\\image\\train\\23_AMERICAN_COCKER_SPANIEL\\125.jpg\n",
      "./dog_classes2\\images\\image\\train\\23_AMERICAN_COCKER_SPANIEL\\126.jpg\n",
      "./dog_classes2\\images\\image\\train\\23_AMERICAN_COCKER_SPANIEL\\127.jpg\n",
      "./dog_classes2\\images\\image\\train\\23_AMERICAN_COCKER_SPANIEL\\128.jpg\n",
      "./dog_classes2\\images\\image\\train\\23_AMERICAN_COCKER_SPANIEL\\129.jpg\n",
      "./dog_classes2\\images\\image\\train\\23_AMERICAN_COCKER_SPANIEL\\13.jpg\n",
      "./dog_classes2\\images\\image\\train\\23_AMERICAN_COCKER_SPANIEL\\130.jpg\n",
      "./dog_classes2\\images\\image\\train\\23_AMERICAN_COCKER_SPANIEL\\131.jpg\n",
      "./dog_classes2\\images\\image\\train\\23_AMERICAN_COCKER_SPANIEL\\132.jpg\n",
      "./dog_classes2\\images\\image\\train\\23_AMERICAN_COCKER_SPANIEL\\133.jpg\n",
      "./dog_classes2\\images\\image\\train\\23_AMERICAN_COCKER_SPANIEL\\134.jpg\n"
     ]
    },
    {
     "name": "stderr",
     "output_type": "stream",
     "text": [
      ".-dog_classes2\\images\\image\\train\\23_AMERICAN_COCKER_SPANIEL:  18%|██▉             | 49/268 [00:00<00:03, 69.20files/s]"
     ]
    },
    {
     "name": "stdout",
     "output_type": "stream",
     "text": [
      "./dog_classes2\\images\\image\\train\\23_AMERICAN_COCKER_SPANIEL\\135.jpg\n",
      "./dog_classes2\\images\\image\\train\\23_AMERICAN_COCKER_SPANIEL\\136.jpg\n",
      "./dog_classes2\\images\\image\\train\\23_AMERICAN_COCKER_SPANIEL\\137.jpg\n",
      "./dog_classes2\\images\\image\\train\\23_AMERICAN_COCKER_SPANIEL\\138.jpg\n",
      "./dog_classes2\\images\\image\\train\\23_AMERICAN_COCKER_SPANIEL\\139.jpg\n",
      "./dog_classes2\\images\\image\\train\\23_AMERICAN_COCKER_SPANIEL\\14.jpg\n",
      "./dog_classes2\\images\\image\\train\\23_AMERICAN_COCKER_SPANIEL\\140.jpg\n",
      "./dog_classes2\\images\\image\\train\\23_AMERICAN_COCKER_SPANIEL\\141.jpg\n",
      "./dog_classes2\\images\\image\\train\\23_AMERICAN_COCKER_SPANIEL\\142.jpg\n",
      "./dog_classes2\\images\\image\\train\\23_AMERICAN_COCKER_SPANIEL\\143.jpg\n",
      "./dog_classes2\\images\\image\\train\\23_AMERICAN_COCKER_SPANIEL\\144.jpg\n",
      "./dog_classes2\\images\\image\\train\\23_AMERICAN_COCKER_SPANIEL\\145.jpg\n",
      "./dog_classes2\\images\\image\\train\\23_AMERICAN_COCKER_SPANIEL\\146.jpg\n",
      "./dog_classes2\\images\\image\\train\\23_AMERICAN_COCKER_SPANIEL\\147.jpg"
     ]
    },
    {
     "name": "stderr",
     "output_type": "stream",
     "text": [
      ".-dog_classes2\\images\\image\\train\\23_AMERICAN_COCKER_SPANIEL:  24%|███▊            | 63/268 [00:00<00:03, 61.70files/s]"
     ]
    },
    {
     "name": "stdout",
     "output_type": "stream",
     "text": [
      "\n",
      "./dog_classes2\\images\\image\\train\\23_AMERICAN_COCKER_SPANIEL\\148.jpg\n",
      "./dog_classes2\\images\\image\\train\\23_AMERICAN_COCKER_SPANIEL\\149.jpg\n",
      "./dog_classes2\\images\\image\\train\\23_AMERICAN_COCKER_SPANIEL\\15.jpg\n",
      "./dog_classes2\\images\\image\\train\\23_AMERICAN_COCKER_SPANIEL\\150.jpg\n",
      "./dog_classes2\\images\\image\\train\\23_AMERICAN_COCKER_SPANIEL\\151.jpg\n",
      "./dog_classes2\\images\\image\\train\\23_AMERICAN_COCKER_SPANIEL\\152.jpg\n",
      "./dog_classes2\\images\\image\\train\\23_AMERICAN_COCKER_SPANIEL\\153.jpg\n",
      "./dog_classes2\\images\\image\\train\\23_AMERICAN_COCKER_SPANIEL\\154.jpg\n",
      "./dog_classes2\\images\\image\\train\\23_AMERICAN_COCKER_SPANIEL\\155.jpg\n",
      "./dog_classes2\\images\\image\\train\\23_AMERICAN_COCKER_SPANIEL\\156.jpg"
     ]
    },
    {
     "name": "stderr",
     "output_type": "stream",
     "text": [
      "\r",
      ".-dog_classes2\\images\\image\\train\\23_AMERICAN_COCKER_SPANIEL:  26%|████            | 69/268 [00:01<00:03, 60.86files/s]"
     ]
    },
    {
     "name": "stdout",
     "output_type": "stream",
     "text": [
      "\n",
      "./dog_classes2\\images\\image\\train\\23_AMERICAN_COCKER_SPANIEL\\157.jpg\n",
      "./dog_classes2\\images\\image\\train\\23_AMERICAN_COCKER_SPANIEL\\158.jpg\n",
      "./dog_classes2\\images\\image\\train\\23_AMERICAN_COCKER_SPANIEL\\159.jpg\n",
      "./dog_classes2\\images\\image\\train\\23_AMERICAN_COCKER_SPANIEL\\16.jpg\n",
      "./dog_classes2\\images\\image\\train\\23_AMERICAN_COCKER_SPANIEL\\160.jpg\n",
      "./dog_classes2\\images\\image\\train\\23_AMERICAN_COCKER_SPANIEL\\161.jpg\n",
      "./dog_classes2\\images\\image\\train\\23_AMERICAN_COCKER_SPANIEL\\162.jpg\n",
      "./dog_classes2\\images\\image\\train\\23_AMERICAN_COCKER_SPANIEL\\163.jpg\n"
     ]
    },
    {
     "name": "stderr",
     "output_type": "stream",
     "text": [
      "\r",
      ".-dog_classes2\\images\\image\\train\\23_AMERICAN_COCKER_SPANIEL:  28%|████▍           | 75/268 [00:01<00:04, 40.30files/s]"
     ]
    },
    {
     "name": "stdout",
     "output_type": "stream",
     "text": [
      "./dog_classes2\\images\\image\\train\\23_AMERICAN_COCKER_SPANIEL\\164.jpg\n",
      "./dog_classes2\\images\\image\\train\\23_AMERICAN_COCKER_SPANIEL\\165.jpg\n",
      "./dog_classes2\\images\\image\\train\\23_AMERICAN_COCKER_SPANIEL\\166.jpg\n",
      "./dog_classes2\\images\\image\\train\\23_AMERICAN_COCKER_SPANIEL\\167.jpg\n",
      "./dog_classes2\\images\\image\\train\\23_AMERICAN_COCKER_SPANIEL\\168.jpg\n",
      "./dog_classes2\\images\\image\\train\\23_AMERICAN_COCKER_SPANIEL\\169.jpg\n",
      "./dog_classes2\\images\\image\\train\\23_AMERICAN_COCKER_SPANIEL\\17.jpg\n",
      "./dog_classes2\\images\\image\\train\\23_AMERICAN_COCKER_SPANIEL\\170.jpg"
     ]
    },
    {
     "name": "stderr",
     "output_type": "stream",
     "text": [
      ".-dog_classes2\\images\\image\\train\\23_AMERICAN_COCKER_SPANIEL:  34%|█████▎          | 90/268 [00:01<00:03, 49.76files/s]"
     ]
    },
    {
     "name": "stdout",
     "output_type": "stream",
     "text": [
      "\n",
      "./dog_classes2\\images\\image\\train\\23_AMERICAN_COCKER_SPANIEL\\171.jpg\n",
      "./dog_classes2\\images\\image\\train\\23_AMERICAN_COCKER_SPANIEL\\172.jpg\n",
      "./dog_classes2\\images\\image\\train\\23_AMERICAN_COCKER_SPANIEL\\173.jpg\n",
      "./dog_classes2\\images\\image\\train\\23_AMERICAN_COCKER_SPANIEL\\174.jpg\n",
      "./dog_classes2\\images\\image\\train\\23_AMERICAN_COCKER_SPANIEL\\175.jpg\n",
      "./dog_classes2\\images\\image\\train\\23_AMERICAN_COCKER_SPANIEL\\176.jpg\n",
      "./dog_classes2\\images\\image\\train\\23_AMERICAN_COCKER_SPANIEL\\177.jpg\n",
      "./dog_classes2\\images\\image\\train\\23_AMERICAN_COCKER_SPANIEL\\178.jpg\n",
      "./dog_classes2\\images\\image\\train\\23_AMERICAN_COCKER_SPANIEL\\179.jpg\n",
      "./dog_classes2\\images\\image\\train\\23_AMERICAN_COCKER_SPANIEL\\18.jpg\n",
      "./dog_classes2\\images\\image\\train\\23_AMERICAN_COCKER_SPANIEL\\180.jpg\n",
      "./dog_classes2\\images\\image\\train\\23_AMERICAN_COCKER_SPANIEL\\181.jpg"
     ]
    },
    {
     "name": "stderr",
     "output_type": "stream",
     "text": [
      ".-dog_classes2\\images\\image\\train\\23_AMERICAN_COCKER_SPANIEL:  39%|█████▉         | 105/268 [00:01<00:02, 58.93files/s]"
     ]
    },
    {
     "name": "stdout",
     "output_type": "stream",
     "text": [
      "\n",
      "./dog_classes2\\images\\image\\train\\23_AMERICAN_COCKER_SPANIEL\\182.jpg\n",
      "./dog_classes2\\images\\image\\train\\23_AMERICAN_COCKER_SPANIEL\\183.jpg\n",
      "./dog_classes2\\images\\image\\train\\23_AMERICAN_COCKER_SPANIEL\\184.jpg\n",
      "./dog_classes2\\images\\image\\train\\23_AMERICAN_COCKER_SPANIEL\\185.jpg\n",
      "./dog_classes2\\images\\image\\train\\23_AMERICAN_COCKER_SPANIEL\\186.jpg\n",
      "./dog_classes2\\images\\image\\train\\23_AMERICAN_COCKER_SPANIEL\\187.jpg\n",
      "./dog_classes2\\images\\image\\train\\23_AMERICAN_COCKER_SPANIEL\\188.jpg\n",
      "./dog_classes2\\images\\image\\train\\23_AMERICAN_COCKER_SPANIEL\\189.jpg\n",
      "./dog_classes2\\images\\image\\train\\23_AMERICAN_COCKER_SPANIEL\\19.jpg\n",
      "./dog_classes2\\images\\image\\train\\23_AMERICAN_COCKER_SPANIEL\\190.jpg\n",
      "./dog_classes2\\images\\image\\train\\23_AMERICAN_COCKER_SPANIEL\\191.jpg\n",
      "./dog_classes2\\images\\image\\train\\23_AMERICAN_COCKER_SPANIEL\\192.jpg\n",
      "./dog_classes2\\images\\image\\train\\23_AMERICAN_COCKER_SPANIEL\\193.jpg"
     ]
    },
    {
     "name": "stderr",
     "output_type": "stream",
     "text": [
      "\r",
      ".-dog_classes2\\images\\image\\train\\23_AMERICAN_COCKER_SPANIEL:  42%|██████▎        | 112/268 [00:01<00:02, 61.75files/s]"
     ]
    },
    {
     "name": "stdout",
     "output_type": "stream",
     "text": [
      "\n",
      "./dog_classes2\\images\\image\\train\\23_AMERICAN_COCKER_SPANIEL\\194.jpg\n",
      "./dog_classes2\\images\\image\\train\\23_AMERICAN_COCKER_SPANIEL\\195.jpg\n",
      "./dog_classes2\\images\\image\\train\\23_AMERICAN_COCKER_SPANIEL\\196.jpg\n",
      "./dog_classes2\\images\\image\\train\\23_AMERICAN_COCKER_SPANIEL\\197.jpg\n",
      "./dog_classes2\\images\\image\\train\\23_AMERICAN_COCKER_SPANIEL\\198.jpg\n",
      "./dog_classes2\\images\\image\\train\\23_AMERICAN_COCKER_SPANIEL\\199.jpg\n",
      "./dog_classes2\\images\\image\\train\\23_AMERICAN_COCKER_SPANIEL\\2.jpg\n",
      "./dog_classes2\\images\\image\\train\\23_AMERICAN_COCKER_SPANIEL\\20.jpg\n",
      "./dog_classes2\\images\\image\\train\\23_AMERICAN_COCKER_SPANIEL\\200.jpg\n",
      "./dog_classes2\\images\\image\\train\\23_AMERICAN_COCKER_SPANIEL\\201.jpg\n",
      "./dog_classes2\\images\\image\\train\\23_AMERICAN_COCKER_SPANIEL\\202.jpg\n",
      "./dog_classes2\\images\\image\\train\\23_AMERICAN_COCKER_SPANIEL\\203.jpg\n",
      "./dog_classes2\\images\\image\\train\\23_AMERICAN_COCKER_SPANIEL\\204.jpg\n",
      "./dog_classes2\\images\\image\\train\\23_AMERICAN_COCKER_SPANIEL\\205.jpg\n",
      "./dog_classes2\\images\\image\\train\\23_AMERICAN_COCKER_SPANIEL\\206.jpg"
     ]
    },
    {
     "name": "stderr",
     "output_type": "stream",
     "text": [
      ".-dog_classes2\\images\\image\\train\\23_AMERICAN_COCKER_SPANIEL:  48%|███████▏       | 129/268 [00:02<00:02, 67.15files/s]"
     ]
    },
    {
     "name": "stdout",
     "output_type": "stream",
     "text": [
      "\n",
      "./dog_classes2\\images\\image\\train\\23_AMERICAN_COCKER_SPANIEL\\207.jpg\n",
      "./dog_classes2\\images\\image\\train\\23_AMERICAN_COCKER_SPANIEL\\208.jpg\n",
      "./dog_classes2\\images\\image\\train\\23_AMERICAN_COCKER_SPANIEL\\209.jpg\n",
      "./dog_classes2\\images\\image\\train\\23_AMERICAN_COCKER_SPANIEL\\21.jpg\n",
      "./dog_classes2\\images\\image\\train\\23_AMERICAN_COCKER_SPANIEL\\210.jpg\n",
      "./dog_classes2\\images\\image\\train\\23_AMERICAN_COCKER_SPANIEL\\211.jpg\n",
      "./dog_classes2\\images\\image\\train\\23_AMERICAN_COCKER_SPANIEL\\212.jpg\n",
      "./dog_classes2\\images\\image\\train\\23_AMERICAN_COCKER_SPANIEL\\213.jpg\n",
      "./dog_classes2\\images\\image\\train\\23_AMERICAN_COCKER_SPANIEL\\214.jpg\n",
      "./dog_classes2\\images\\image\\train\\23_AMERICAN_COCKER_SPANIEL\\215.jpg\n",
      "./dog_classes2\\images\\image\\train\\23_AMERICAN_COCKER_SPANIEL\\216.jpg\n",
      "./dog_classes2\\images\\image\\train\\23_AMERICAN_COCKER_SPANIEL\\217.jpg\n",
      "./dog_classes2\\images\\image\\train\\23_AMERICAN_COCKER_SPANIEL\\218.jpg\n",
      "./dog_classes2\\images\\image\\train\\23_AMERICAN_COCKER_SPANIEL\\219.jpg"
     ]
    },
    {
     "name": "stderr",
     "output_type": "stream",
     "text": [
      ".-dog_classes2\\images\\image\\train\\23_AMERICAN_COCKER_SPANIEL:  54%|████████       | 145/268 [00:02<00:01, 72.69files/s]"
     ]
    },
    {
     "name": "stdout",
     "output_type": "stream",
     "text": [
      "\n",
      "./dog_classes2\\images\\image\\train\\23_AMERICAN_COCKER_SPANIEL\\22.jpg\n",
      "./dog_classes2\\images\\image\\train\\23_AMERICAN_COCKER_SPANIEL\\220.jpg\n",
      "./dog_classes2\\images\\image\\train\\23_AMERICAN_COCKER_SPANIEL\\221.jpg\n",
      "./dog_classes2\\images\\image\\train\\23_AMERICAN_COCKER_SPANIEL\\222.jpg\n",
      "./dog_classes2\\images\\image\\train\\23_AMERICAN_COCKER_SPANIEL\\223.jpg\n",
      "./dog_classes2\\images\\image\\train\\23_AMERICAN_COCKER_SPANIEL\\224.jpg\n",
      "./dog_classes2\\images\\image\\train\\23_AMERICAN_COCKER_SPANIEL\\225.jpg\n",
      "./dog_classes2\\images\\image\\train\\23_AMERICAN_COCKER_SPANIEL\\226.jpg\n",
      "./dog_classes2\\images\\image\\train\\23_AMERICAN_COCKER_SPANIEL\\227.jpg\n",
      "./dog_classes2\\images\\image\\train\\23_AMERICAN_COCKER_SPANIEL\\228.jpg\n",
      "./dog_classes2\\images\\image\\train\\23_AMERICAN_COCKER_SPANIEL\\229.jpg\n",
      "./dog_classes2\\images\\image\\train\\23_AMERICAN_COCKER_SPANIEL\\23.jpg\n",
      "./dog_classes2\\images\\image\\train\\23_AMERICAN_COCKER_SPANIEL\\230.jpg\n",
      "./dog_classes2\\images\\image\\train\\23_AMERICAN_COCKER_SPANIEL\\231.jpg\n",
      "./dog_classes2\\images\\image\\train\\23_AMERICAN_COCKER_SPANIEL\\232.jpg"
     ]
    },
    {
     "name": "stderr",
     "output_type": "stream",
     "text": [
      ".-dog_classes2\\images\\image\\train\\23_AMERICAN_COCKER_SPANIEL:  60%|█████████      | 162/268 [00:02<00:01, 74.96files/s]"
     ]
    },
    {
     "name": "stdout",
     "output_type": "stream",
     "text": [
      "\n",
      "./dog_classes2\\images\\image\\train\\23_AMERICAN_COCKER_SPANIEL\\233.jpg\n",
      "./dog_classes2\\images\\image\\train\\23_AMERICAN_COCKER_SPANIEL\\234.jpg\n",
      "./dog_classes2\\images\\image\\train\\23_AMERICAN_COCKER_SPANIEL\\235.jpg\n",
      "./dog_classes2\\images\\image\\train\\23_AMERICAN_COCKER_SPANIEL\\236.jpg\n",
      "./dog_classes2\\images\\image\\train\\23_AMERICAN_COCKER_SPANIEL\\237.jpg\n",
      "./dog_classes2\\images\\image\\train\\23_AMERICAN_COCKER_SPANIEL\\238.jpg\n",
      "./dog_classes2\\images\\image\\train\\23_AMERICAN_COCKER_SPANIEL\\239.jpg\n",
      "./dog_classes2\\images\\image\\train\\23_AMERICAN_COCKER_SPANIEL\\24.jpg\n",
      "./dog_classes2\\images\\image\\train\\23_AMERICAN_COCKER_SPANIEL\\240.jpg\n",
      "./dog_classes2\\images\\image\\train\\23_AMERICAN_COCKER_SPANIEL\\241.jpg\n",
      "./dog_classes2\\images\\image\\train\\23_AMERICAN_COCKER_SPANIEL\\242.jpg\n",
      "./dog_classes2\\images\\image\\train\\23_AMERICAN_COCKER_SPANIEL\\243.jpg\n",
      "./dog_classes2\\images\\image\\train\\23_AMERICAN_COCKER_SPANIEL\\244.jpg\n",
      "./dog_classes2\\images\\image\\train\\23_AMERICAN_COCKER_SPANIEL\\245.jpg"
     ]
    },
    {
     "name": "stderr",
     "output_type": "stream",
     "text": [
      ".-dog_classes2\\images\\image\\train\\23_AMERICAN_COCKER_SPANIEL:  66%|█████████▉     | 178/268 [00:02<00:01, 76.73files/s]"
     ]
    },
    {
     "name": "stdout",
     "output_type": "stream",
     "text": [
      "\n",
      "./dog_classes2\\images\\image\\train\\23_AMERICAN_COCKER_SPANIEL\\246.jpg\n",
      "./dog_classes2\\images\\image\\train\\23_AMERICAN_COCKER_SPANIEL\\247.jpg\n",
      "./dog_classes2\\images\\image\\train\\23_AMERICAN_COCKER_SPANIEL\\248.jpg\n",
      "./dog_classes2\\images\\image\\train\\23_AMERICAN_COCKER_SPANIEL\\249.jpg\n",
      "./dog_classes2\\images\\image\\train\\23_AMERICAN_COCKER_SPANIEL\\25.jpg\n",
      "./dog_classes2\\images\\image\\train\\23_AMERICAN_COCKER_SPANIEL\\250.jpg\n",
      "./dog_classes2\\images\\image\\train\\23_AMERICAN_COCKER_SPANIEL\\251.jpg\n",
      "./dog_classes2\\images\\image\\train\\23_AMERICAN_COCKER_SPANIEL\\252.jpg\n",
      "./dog_classes2\\images\\image\\train\\23_AMERICAN_COCKER_SPANIEL\\253.jpg\n",
      "./dog_classes2\\images\\image\\train\\23_AMERICAN_COCKER_SPANIEL\\254.jpg\n",
      "./dog_classes2\\images\\image\\train\\23_AMERICAN_COCKER_SPANIEL\\255.jpg\n",
      "./dog_classes2\\images\\image\\train\\23_AMERICAN_COCKER_SPANIEL\\256.jpg\n",
      "./dog_classes2\\images\\image\\train\\23_AMERICAN_COCKER_SPANIEL\\257.jpg\n",
      "./dog_classes2\\images\\image\\train\\23_AMERICAN_COCKER_SPANIEL\\258.jpg\n",
      "./dog_classes2\\images\\image\\train\\23_AMERICAN_COCKER_SPANIEL\\259.jpg"
     ]
    },
    {
     "name": "stderr",
     "output_type": "stream",
     "text": [
      "\r",
      ".-dog_classes2\\images\\image\\train\\23_AMERICAN_COCKER_SPANIEL:  69%|██████████▍    | 186/268 [00:02<00:01, 77.29files/s]"
     ]
    },
    {
     "name": "stdout",
     "output_type": "stream",
     "text": [
      "\n",
      "./dog_classes2\\images\\image\\train\\23_AMERICAN_COCKER_SPANIEL\\26.jpg\n",
      "./dog_classes2\\images\\image\\train\\23_AMERICAN_COCKER_SPANIEL\\260.jpg\n",
      "./dog_classes2\\images\\image\\train\\23_AMERICAN_COCKER_SPANIEL\\261.jpg\n",
      "./dog_classes2\\images\\image\\train\\23_AMERICAN_COCKER_SPANIEL\\262.jpg\n",
      "./dog_classes2\\images\\image\\train\\23_AMERICAN_COCKER_SPANIEL\\263.jpg\n",
      "./dog_classes2\\images\\image\\train\\23_AMERICAN_COCKER_SPANIEL\\264.jpg\n",
      "./dog_classes2\\images\\image\\train\\23_AMERICAN_COCKER_SPANIEL\\265.jpg\n",
      "./dog_classes2\\images\\image\\train\\23_AMERICAN_COCKER_SPANIEL\\266.jpg\n",
      "./dog_classes2\\images\\image\\train\\23_AMERICAN_COCKER_SPANIEL\\267.jpg\n",
      "./dog_classes2\\images\\image\\train\\23_AMERICAN_COCKER_SPANIEL\\27.jpg\n",
      "./dog_classes2\\images\\image\\train\\23_AMERICAN_COCKER_SPANIEL\\28.jpg\n",
      "./dog_classes2\\images\\image\\train\\23_AMERICAN_COCKER_SPANIEL\\29.jpg\n",
      "./dog_classes2\\images\\image\\train\\23_AMERICAN_COCKER_SPANIEL\\3.jpg\n",
      "./dog_classes2\\images\\image\\train\\23_AMERICAN_COCKER_SPANIEL\\30.jpg\n",
      "./dog_classes2\\images\\image\\train\\23_AMERICAN_COCKER_SPANIEL\\31.jpg\n",
      "./dog_classes2\\images\\image\\train\\23_AMERICAN_COCKER_SPANIEL\\32.jpg"
     ]
    },
    {
     "name": "stderr",
     "output_type": "stream",
     "text": [
      ".-dog_classes2\\images\\image\\train\\23_AMERICAN_COCKER_SPANIEL:  76%|███████████▍   | 204/268 [00:03<00:00, 79.33files/s]"
     ]
    },
    {
     "name": "stdout",
     "output_type": "stream",
     "text": [
      "\n",
      "./dog_classes2\\images\\image\\train\\23_AMERICAN_COCKER_SPANIEL\\33.jpg\n",
      "./dog_classes2\\images\\image\\train\\23_AMERICAN_COCKER_SPANIEL\\34.jpg\n",
      "./dog_classes2\\images\\image\\train\\23_AMERICAN_COCKER_SPANIEL\\35.jpg\n",
      "./dog_classes2\\images\\image\\train\\23_AMERICAN_COCKER_SPANIEL\\36.jpg\n",
      "./dog_classes2\\images\\image\\train\\23_AMERICAN_COCKER_SPANIEL\\37.jpg\n",
      "./dog_classes2\\images\\image\\train\\23_AMERICAN_COCKER_SPANIEL\\38.jpg\n",
      "./dog_classes2\\images\\image\\train\\23_AMERICAN_COCKER_SPANIEL\\39.jpg\n",
      "./dog_classes2\\images\\image\\train\\23_AMERICAN_COCKER_SPANIEL\\4.jpg\n",
      "./dog_classes2\\images\\image\\train\\23_AMERICAN_COCKER_SPANIEL\\40.jpg\n",
      "./dog_classes2\\images\\image\\train\\23_AMERICAN_COCKER_SPANIEL\\41.jpg\n",
      "./dog_classes2\\images\\image\\train\\23_AMERICAN_COCKER_SPANIEL\\42.jpg\n",
      "./dog_classes2\\images\\image\\train\\23_AMERICAN_COCKER_SPANIEL\\43.jpg\n",
      "./dog_classes2\\images\\image\\train\\23_AMERICAN_COCKER_SPANIEL\\44.jpg\n",
      "./dog_classes2\\images\\image\\train\\23_AMERICAN_COCKER_SPANIEL\\45.jpg\n",
      "./dog_classes2\\images\\image\\train\\23_AMERICAN_COCKER_SPANIEL\\46.jpg"
     ]
    },
    {
     "name": "stderr",
     "output_type": "stream",
     "text": [
      ".-dog_classes2\\images\\image\\train\\23_AMERICAN_COCKER_SPANIEL:  83%|████████████▍  | 222/268 [00:03<00:00, 79.49files/s]"
     ]
    },
    {
     "name": "stdout",
     "output_type": "stream",
     "text": [
      "\n",
      "./dog_classes2\\images\\image\\train\\23_AMERICAN_COCKER_SPANIEL\\47.jpg\n",
      "./dog_classes2\\images\\image\\train\\23_AMERICAN_COCKER_SPANIEL\\48.jpg\n",
      "./dog_classes2\\images\\image\\train\\23_AMERICAN_COCKER_SPANIEL\\49.jpg\n",
      "./dog_classes2\\images\\image\\train\\23_AMERICAN_COCKER_SPANIEL\\5.jpg\n",
      "./dog_classes2\\images\\image\\train\\23_AMERICAN_COCKER_SPANIEL\\50.jpg\n",
      "./dog_classes2\\images\\image\\train\\23_AMERICAN_COCKER_SPANIEL\\51.jpg\n",
      "./dog_classes2\\images\\image\\train\\23_AMERICAN_COCKER_SPANIEL\\52.jpg\n",
      "./dog_classes2\\images\\image\\train\\23_AMERICAN_COCKER_SPANIEL\\53.jpg\n",
      "./dog_classes2\\images\\image\\train\\23_AMERICAN_COCKER_SPANIEL\\54.jpg\n",
      "./dog_classes2\\images\\image\\train\\23_AMERICAN_COCKER_SPANIEL\\55.jpg\n",
      "./dog_classes2\\images\\image\\train\\23_AMERICAN_COCKER_SPANIEL\\56.jpg\n",
      "./dog_classes2\\images\\image\\train\\23_AMERICAN_COCKER_SPANIEL\\57.jpg\n",
      "./dog_classes2\\images\\image\\train\\23_AMERICAN_COCKER_SPANIEL\\58.jpg\n",
      "./dog_classes2\\images\\image\\train\\23_AMERICAN_COCKER_SPANIEL\\59.jpg"
     ]
    },
    {
     "name": "stderr",
     "output_type": "stream",
     "text": [
      "\r",
      ".-dog_classes2\\images\\image\\train\\23_AMERICAN_COCKER_SPANIEL:  86%|████████████▊  | 230/268 [00:03<00:00, 77.62files/s]"
     ]
    },
    {
     "name": "stdout",
     "output_type": "stream",
     "text": [
      "\n",
      "./dog_classes2\\images\\image\\train\\23_AMERICAN_COCKER_SPANIEL\\6.jpg\n",
      "./dog_classes2\\images\\image\\train\\23_AMERICAN_COCKER_SPANIEL\\60.jpg\n",
      "./dog_classes2\\images\\image\\train\\23_AMERICAN_COCKER_SPANIEL\\61.jpg\n",
      "./dog_classes2\\images\\image\\train\\23_AMERICAN_COCKER_SPANIEL\\62.jpg\n",
      "./dog_classes2\\images\\image\\train\\23_AMERICAN_COCKER_SPANIEL\\63.jpg\n",
      "./dog_classes2\\images\\image\\train\\23_AMERICAN_COCKER_SPANIEL\\64.jpg\n",
      "./dog_classes2\\images\\image\\train\\23_AMERICAN_COCKER_SPANIEL\\65.jpg\n",
      "./dog_classes2\\images\\image\\train\\23_AMERICAN_COCKER_SPANIEL\\66.jpg\n",
      "./dog_classes2\\images\\image\\train\\23_AMERICAN_COCKER_SPANIEL\\67.jpg\n",
      "./dog_classes2\\images\\image\\train\\23_AMERICAN_COCKER_SPANIEL\\68.jpg\n",
      "./dog_classes2\\images\\image\\train\\23_AMERICAN_COCKER_SPANIEL\\69.jpg\n",
      "./dog_classes2\\images\\image\\train\\23_AMERICAN_COCKER_SPANIEL\\7.jpg\n",
      "./dog_classes2\\images\\image\\train\\23_AMERICAN_COCKER_SPANIEL\\70.jpg\n",
      "./dog_classes2\\images\\image\\train\\23_AMERICAN_COCKER_SPANIEL\\71.jpg\n",
      "./dog_classes2\\images\\image\\train\\23_AMERICAN_COCKER_SPANIEL\\72.jpg"
     ]
    },
    {
     "name": "stderr",
     "output_type": "stream",
     "text": [
      ".-dog_classes2\\images\\image\\train\\23_AMERICAN_COCKER_SPANIEL:  93%|█████████████▉ | 248/268 [00:03<00:00, 77.91files/s]"
     ]
    },
    {
     "name": "stdout",
     "output_type": "stream",
     "text": [
      "\n",
      "./dog_classes2\\images\\image\\train\\23_AMERICAN_COCKER_SPANIEL\\73.jpg\n",
      "./dog_classes2\\images\\image\\train\\23_AMERICAN_COCKER_SPANIEL\\74.jpg\n",
      "./dog_classes2\\images\\image\\train\\23_AMERICAN_COCKER_SPANIEL\\75.jpg\n",
      "./dog_classes2\\images\\image\\train\\23_AMERICAN_COCKER_SPANIEL\\76.jpg\n",
      "./dog_classes2\\images\\image\\train\\23_AMERICAN_COCKER_SPANIEL\\77.jpg\n",
      "./dog_classes2\\images\\image\\train\\23_AMERICAN_COCKER_SPANIEL\\78.jpg\n",
      "./dog_classes2\\images\\image\\train\\23_AMERICAN_COCKER_SPANIEL\\79.jpg\n",
      "./dog_classes2\\images\\image\\train\\23_AMERICAN_COCKER_SPANIEL\\8.jpg\n",
      "./dog_classes2\\images\\image\\train\\23_AMERICAN_COCKER_SPANIEL\\80.jpg\n",
      "./dog_classes2\\images\\image\\train\\23_AMERICAN_COCKER_SPANIEL\\81.jpg\n",
      "./dog_classes2\\images\\image\\train\\23_AMERICAN_COCKER_SPANIEL\\82.jpg\n",
      "./dog_classes2\\images\\image\\train\\23_AMERICAN_COCKER_SPANIEL\\83.jpg\n",
      "./dog_classes2\\images\\image\\train\\23_AMERICAN_COCKER_SPANIEL\\84.jpg\n",
      "./dog_classes2\\images\\image\\train\\23_AMERICAN_COCKER_SPANIEL\\85.jpg\n",
      "./dog_classes2\\images\\image\\train\\23_AMERICAN_COCKER_SPANIEL\\86.jpg"
     ]
    },
    {
     "name": "stderr",
     "output_type": "stream",
     "text": [
      ".-dog_classes2\\images\\image\\train\\23_AMERICAN_COCKER_SPANIEL:  99%|██████████████▊| 264/268 [00:03<00:00, 78.19files/s]"
     ]
    },
    {
     "name": "stdout",
     "output_type": "stream",
     "text": [
      "\n",
      "./dog_classes2\\images\\image\\train\\23_AMERICAN_COCKER_SPANIEL\\87.jpg\n",
      "./dog_classes2\\images\\image\\train\\23_AMERICAN_COCKER_SPANIEL\\88.jpg\n",
      "./dog_classes2\\images\\image\\train\\23_AMERICAN_COCKER_SPANIEL\\89.jpg\n",
      "./dog_classes2\\images\\image\\train\\23_AMERICAN_COCKER_SPANIEL\\9.jpg\n",
      "./dog_classes2\\images\\image\\train\\23_AMERICAN_COCKER_SPANIEL\\90.jpg\n",
      "./dog_classes2\\images\\image\\train\\23_AMERICAN_COCKER_SPANIEL\\91.jpg\n",
      "./dog_classes2\\images\\image\\train\\23_AMERICAN_COCKER_SPANIEL\\92.jpg\n",
      "./dog_classes2\\images\\image\\train\\23_AMERICAN_COCKER_SPANIEL\\93.jpg\n",
      "./dog_classes2\\images\\image\\train\\23_AMERICAN_COCKER_SPANIEL\\94.jpg\n",
      "./dog_classes2\\images\\image\\train\\23_AMERICAN_COCKER_SPANIEL\\95.jpg\n",
      "./dog_classes2\\images\\image\\train\\23_AMERICAN_COCKER_SPANIEL\\96.jpg\n",
      "./dog_classes2\\images\\image\\train\\23_AMERICAN_COCKER_SPANIEL\\97.jpg\n",
      "./dog_classes2\\images\\image\\train\\23_AMERICAN_COCKER_SPANIEL\\98.jpg\n",
      "./dog_classes2\\images\\image\\train\\23_AMERICAN_COCKER_SPANIEL\\99.jpg"
     ]
    },
    {
     "name": "stderr",
     "output_type": "stream",
     "text": [
      ".-dog_classes2\\images\\image\\train\\24_CAVALIER_COCKER_SPANIEL:   9%|█▍              | 10/112 [00:00<00:01, 80.21files/s]"
     ]
    },
    {
     "name": "stdout",
     "output_type": "stream",
     "text": [
      "\n",
      "./dog_classes2\\images\\image\\train\\24_CAVALIER_COCKER_SPANIEL\\0.jpg\n",
      "./dog_classes2\\images\\image\\train\\24_CAVALIER_COCKER_SPANIEL\\1.jpg\n",
      "./dog_classes2\\images\\image\\train\\24_CAVALIER_COCKER_SPANIEL\\10.jpg\n",
      "./dog_classes2\\images\\image\\train\\24_CAVALIER_COCKER_SPANIEL\\100.jpg\n",
      "./dog_classes2\\images\\image\\train\\24_CAVALIER_COCKER_SPANIEL\\101.jpg\n",
      "./dog_classes2\\images\\image\\train\\24_CAVALIER_COCKER_SPANIEL\\102.jpg\n",
      "./dog_classes2\\images\\image\\train\\24_CAVALIER_COCKER_SPANIEL\\103.jpg\n",
      "./dog_classes2\\images\\image\\train\\24_CAVALIER_COCKER_SPANIEL\\104.jpg\n",
      "./dog_classes2\\images\\image\\train\\24_CAVALIER_COCKER_SPANIEL\\105.jpg\n",
      "./dog_classes2\\images\\image\\train\\24_CAVALIER_COCKER_SPANIEL\\106.jpg\n",
      "./dog_classes2\\images\\image\\train\\24_CAVALIER_COCKER_SPANIEL\\107.jpg\n",
      "./dog_classes2\\images\\image\\train\\24_CAVALIER_COCKER_SPANIEL\\108.jpg\n",
      "./dog_classes2\\images\\image\\train\\24_CAVALIER_COCKER_SPANIEL\\109.jpg\n",
      "./dog_classes2\\images\\image\\train\\24_CAVALIER_COCKER_SPANIEL\\11.jpg\n",
      "./dog_classes2\\images\\image\\train\\24_CAVALIER_COCKER_SPANIEL\\110.jpg"
     ]
    },
    {
     "name": "stderr",
     "output_type": "stream",
     "text": [
      ".-dog_classes2\\images\\image\\train\\24_CAVALIER_COCKER_SPANIEL:  24%|███▊            | 27/112 [00:00<00:01, 80.98files/s]"
     ]
    },
    {
     "name": "stdout",
     "output_type": "stream",
     "text": [
      "\n",
      "./dog_classes2\\images\\image\\train\\24_CAVALIER_COCKER_SPANIEL\\111.jpg\n",
      "./dog_classes2\\images\\image\\train\\24_CAVALIER_COCKER_SPANIEL\\12.jpg\n",
      "./dog_classes2\\images\\image\\train\\24_CAVALIER_COCKER_SPANIEL\\13.jpg\n",
      "./dog_classes2\\images\\image\\train\\24_CAVALIER_COCKER_SPANIEL\\14.jpg\n",
      "./dog_classes2\\images\\image\\train\\24_CAVALIER_COCKER_SPANIEL\\15.jpg\n",
      "./dog_classes2\\images\\image\\train\\24_CAVALIER_COCKER_SPANIEL\\16.jpg\n",
      "./dog_classes2\\images\\image\\train\\24_CAVALIER_COCKER_SPANIEL\\17.jpg\n",
      "./dog_classes2\\images\\image\\train\\24_CAVALIER_COCKER_SPANIEL\\18.jpg\n",
      "./dog_classes2\\images\\image\\train\\24_CAVALIER_COCKER_SPANIEL\\19.jpg\n",
      "./dog_classes2\\images\\image\\train\\24_CAVALIER_COCKER_SPANIEL\\2.jpg\n",
      "./dog_classes2\\images\\image\\train\\24_CAVALIER_COCKER_SPANIEL\\20.jpg\n",
      "./dog_classes2\\images\\image\\train\\24_CAVALIER_COCKER_SPANIEL\\21.jpg\n",
      "./dog_classes2\\images\\image\\train\\24_CAVALIER_COCKER_SPANIEL\\22.jpg\n",
      "./dog_classes2\\images\\image\\train\\24_CAVALIER_COCKER_SPANIEL\\23.jpg\n",
      "./dog_classes2\\images\\image\\train\\24_CAVALIER_COCKER_SPANIEL\\24.jpg"
     ]
    },
    {
     "name": "stderr",
     "output_type": "stream",
     "text": [
      "\r",
      ".-dog_classes2\\images\\image\\train\\24_CAVALIER_COCKER_SPANIEL:  32%|█████▏          | 36/112 [00:00<00:00, 81.52files/s]"
     ]
    },
    {
     "name": "stdout",
     "output_type": "stream",
     "text": [
      "\n",
      "./dog_classes2\\images\\image\\train\\24_CAVALIER_COCKER_SPANIEL\\25.jpg\n",
      "./dog_classes2\\images\\image\\train\\24_CAVALIER_COCKER_SPANIEL\\26.jpg\n",
      "./dog_classes2\\images\\image\\train\\24_CAVALIER_COCKER_SPANIEL\\27.jpg\n",
      "./dog_classes2\\images\\image\\train\\24_CAVALIER_COCKER_SPANIEL\\28.jpg\n",
      "./dog_classes2\\images\\image\\train\\24_CAVALIER_COCKER_SPANIEL\\29.jpg\n",
      "./dog_classes2\\images\\image\\train\\24_CAVALIER_COCKER_SPANIEL\\3.jpg\n",
      "./dog_classes2\\images\\image\\train\\24_CAVALIER_COCKER_SPANIEL\\30.jpg\n",
      "./dog_classes2\\images\\image\\train\\24_CAVALIER_COCKER_SPANIEL\\31.jpg\n",
      "./dog_classes2\\images\\image\\train\\24_CAVALIER_COCKER_SPANIEL\\32.jpg\n",
      "./dog_classes2\\images\\image\\train\\24_CAVALIER_COCKER_SPANIEL\\33.jpg\n",
      "./dog_classes2\\images\\image\\train\\24_CAVALIER_COCKER_SPANIEL\\34.jpg\n",
      "./dog_classes2\\images\\image\\train\\24_CAVALIER_COCKER_SPANIEL\\35.jpg\n",
      "./dog_classes2\\images\\image\\train\\24_CAVALIER_COCKER_SPANIEL\\36.jpg"
     ]
    },
    {
     "name": "stderr",
     "output_type": "stream",
     "text": [
      ".-dog_classes2\\images\\image\\train\\24_CAVALIER_COCKER_SPANIEL:  46%|███████▍        | 52/112 [00:00<00:00, 76.71files/s]"
     ]
    },
    {
     "name": "stdout",
     "output_type": "stream",
     "text": [
      "\n",
      "./dog_classes2\\images\\image\\train\\24_CAVALIER_COCKER_SPANIEL\\37.jpg\n",
      "./dog_classes2\\images\\image\\train\\24_CAVALIER_COCKER_SPANIEL\\38.jpg\n",
      "./dog_classes2\\images\\image\\train\\24_CAVALIER_COCKER_SPANIEL\\39.jpg\n",
      "./dog_classes2\\images\\image\\train\\24_CAVALIER_COCKER_SPANIEL\\4.jpg\n",
      "./dog_classes2\\images\\image\\train\\24_CAVALIER_COCKER_SPANIEL\\40.jpg\n",
      "./dog_classes2\\images\\image\\train\\24_CAVALIER_COCKER_SPANIEL\\41.jpg\n",
      "./dog_classes2\\images\\image\\train\\24_CAVALIER_COCKER_SPANIEL\\42.jpg\n",
      "./dog_classes2\\images\\image\\train\\24_CAVALIER_COCKER_SPANIEL\\43.jpg\n",
      "./dog_classes2\\images\\image\\train\\24_CAVALIER_COCKER_SPANIEL\\44.jpg\n",
      "./dog_classes2\\images\\image\\train\\24_CAVALIER_COCKER_SPANIEL\\45.jpg\n",
      "./dog_classes2\\images\\image\\train\\24_CAVALIER_COCKER_SPANIEL\\46.jpg\n",
      "./dog_classes2\\images\\image\\train\\24_CAVALIER_COCKER_SPANIEL\\47.jpg\n",
      "./dog_classes2\\images\\image\\train\\24_CAVALIER_COCKER_SPANIEL\\48.jpg\n",
      "./dog_classes2\\images\\image\\train\\24_CAVALIER_COCKER_SPANIEL\\49.jpg\n",
      "./dog_classes2\\images\\image\\train\\24_CAVALIER_COCKER_SPANIEL\\5.jpg\n",
      "./dog_classes2\\images\\image\\train\\24_CAVALIER_COCKER_SPANIEL\\50.jpg\n",
      "./dog_classes2\\images\\image\\train\\24_CAVALIER_COCKER_SPANIEL\\51.jpg"
     ]
    },
    {
     "name": "stderr",
     "output_type": "stream",
     "text": [
      ".-dog_classes2\\images\\image\\train\\24_CAVALIER_COCKER_SPANIEL:  63%|██████████▏     | 71/112 [00:00<00:00, 83.43files/s]"
     ]
    },
    {
     "name": "stdout",
     "output_type": "stream",
     "text": [
      "\n",
      "./dog_classes2\\images\\image\\train\\24_CAVALIER_COCKER_SPANIEL\\52.jpg\n",
      "./dog_classes2\\images\\image\\train\\24_CAVALIER_COCKER_SPANIEL\\53.jpg\n",
      "./dog_classes2\\images\\image\\train\\24_CAVALIER_COCKER_SPANIEL\\54.jpg\n",
      "./dog_classes2\\images\\image\\train\\24_CAVALIER_COCKER_SPANIEL\\55.jpg\n",
      "./dog_classes2\\images\\image\\train\\24_CAVALIER_COCKER_SPANIEL\\56.jpg\n",
      "./dog_classes2\\images\\image\\train\\24_CAVALIER_COCKER_SPANIEL\\57.jpg\n",
      "./dog_classes2\\images\\image\\train\\24_CAVALIER_COCKER_SPANIEL\\58.jpg\n",
      "./dog_classes2\\images\\image\\train\\24_CAVALIER_COCKER_SPANIEL\\59.jpg\n",
      "./dog_classes2\\images\\image\\train\\24_CAVALIER_COCKER_SPANIEL\\6.jpg\n",
      "./dog_classes2\\images\\image\\train\\24_CAVALIER_COCKER_SPANIEL\\60.jpg\n",
      "./dog_classes2\\images\\image\\train\\24_CAVALIER_COCKER_SPANIEL\\61.jpg\n",
      "./dog_classes2\\images\\image\\train\\24_CAVALIER_COCKER_SPANIEL\\62.jpg\n",
      "./dog_classes2\\images\\image\\train\\24_CAVALIER_COCKER_SPANIEL\\63.jpg\n",
      "./dog_classes2\\images\\image\\train\\24_CAVALIER_COCKER_SPANIEL\\64.jpg\n",
      "./dog_classes2\\images\\image\\train\\24_CAVALIER_COCKER_SPANIEL\\65.jpg\n",
      "./dog_classes2\\images\\image\\train\\24_CAVALIER_COCKER_SPANIEL\\66.jpg"
     ]
    },
    {
     "name": "stderr",
     "output_type": "stream",
     "text": [
      ".-dog_classes2\\images\\image\\train\\24_CAVALIER_COCKER_SPANIEL:  79%|████████████▋   | 89/112 [00:01<00:00, 85.17files/s]"
     ]
    },
    {
     "name": "stdout",
     "output_type": "stream",
     "text": [
      "\n",
      "./dog_classes2\\images\\image\\train\\24_CAVALIER_COCKER_SPANIEL\\67.jpg\n",
      "./dog_classes2\\images\\image\\train\\24_CAVALIER_COCKER_SPANIEL\\68.jpg\n",
      "./dog_classes2\\images\\image\\train\\24_CAVALIER_COCKER_SPANIEL\\69.jpg\n",
      "./dog_classes2\\images\\image\\train\\24_CAVALIER_COCKER_SPANIEL\\7.jpg\n",
      "./dog_classes2\\images\\image\\train\\24_CAVALIER_COCKER_SPANIEL\\70.jpg\n",
      "./dog_classes2\\images\\image\\train\\24_CAVALIER_COCKER_SPANIEL\\71.jpg\n",
      "./dog_classes2\\images\\image\\train\\24_CAVALIER_COCKER_SPANIEL\\72.jpg\n",
      "./dog_classes2\\images\\image\\train\\24_CAVALIER_COCKER_SPANIEL\\73.jpg\n",
      "./dog_classes2\\images\\image\\train\\24_CAVALIER_COCKER_SPANIEL\\74.jpg\n",
      "./dog_classes2\\images\\image\\train\\24_CAVALIER_COCKER_SPANIEL\\75.jpg\n",
      "./dog_classes2\\images\\image\\train\\24_CAVALIER_COCKER_SPANIEL\\76.jpg\n",
      "./dog_classes2\\images\\image\\train\\24_CAVALIER_COCKER_SPANIEL\\77.jpg\n",
      "./dog_classes2\\images\\image\\train\\24_CAVALIER_COCKER_SPANIEL\\78.jpg\n",
      "./dog_classes2\\images\\image\\train\\24_CAVALIER_COCKER_SPANIEL\\79.jpg\n",
      "./dog_classes2\\images\\image\\train\\24_CAVALIER_COCKER_SPANIEL\\8.jpg\n",
      "./dog_classes2\\images\\image\\train\\24_CAVALIER_COCKER_SPANIEL\\80.jpg\n"
     ]
    },
    {
     "name": "stderr",
     "output_type": "stream",
     "text": [
      ".-dog_classes2\\images\\image\\train\\24_CAVALIER_COCKER_SPANIEL:  96%|██████████████▎| 107/112 [00:01<00:00, 84.15files/s]"
     ]
    },
    {
     "name": "stdout",
     "output_type": "stream",
     "text": [
      "./dog_classes2\\images\\image\\train\\24_CAVALIER_COCKER_SPANIEL\\81.jpg\n",
      "./dog_classes2\\images\\image\\train\\24_CAVALIER_COCKER_SPANIEL\\82.jpg\n",
      "./dog_classes2\\images\\image\\train\\24_CAVALIER_COCKER_SPANIEL\\83.jpg\n",
      "./dog_classes2\\images\\image\\train\\24_CAVALIER_COCKER_SPANIEL\\84.jpg\n",
      "./dog_classes2\\images\\image\\train\\24_CAVALIER_COCKER_SPANIEL\\85.jpg\n",
      "./dog_classes2\\images\\image\\train\\24_CAVALIER_COCKER_SPANIEL\\86.jpg\n",
      "./dog_classes2\\images\\image\\train\\24_CAVALIER_COCKER_SPANIEL\\87.jpg\n",
      "./dog_classes2\\images\\image\\train\\24_CAVALIER_COCKER_SPANIEL\\88.jpg\n",
      "./dog_classes2\\images\\image\\train\\24_CAVALIER_COCKER_SPANIEL\\89.jpg\n",
      "./dog_classes2\\images\\image\\train\\24_CAVALIER_COCKER_SPANIEL\\9.jpg\n",
      "./dog_classes2\\images\\image\\train\\24_CAVALIER_COCKER_SPANIEL\\90.jpg\n",
      "./dog_classes2\\images\\image\\train\\24_CAVALIER_COCKER_SPANIEL\\91.jpg\n",
      "./dog_classes2\\images\\image\\train\\24_CAVALIER_COCKER_SPANIEL\\92.jpg\n",
      "./dog_classes2\\images\\image\\train\\24_CAVALIER_COCKER_SPANIEL\\93.jpg\n",
      "./dog_classes2\\images\\image\\train\\24_CAVALIER_COCKER_SPANIEL\\94.jpg\n",
      "./dog_classes2\\images\\image\\train\\24_CAVALIER_COCKER_SPANIEL\\95.jpg"
     ]
    },
    {
     "name": "stderr",
     "output_type": "stream",
     "text": [
      ".-dog_classes2\\images\\image\\train\\26_PEKINGESE:   5%|█▋                             | 8/152 [00:00<00:01, 76.39files/s]"
     ]
    },
    {
     "name": "stdout",
     "output_type": "stream",
     "text": [
      "\n",
      "./dog_classes2\\images\\image\\train\\24_CAVALIER_COCKER_SPANIEL\\96.jpg\n",
      "./dog_classes2\\images\\image\\train\\24_CAVALIER_COCKER_SPANIEL\\97.jpg\n",
      "./dog_classes2\\images\\image\\train\\24_CAVALIER_COCKER_SPANIEL\\98.jpg\n",
      "./dog_classes2\\images\\image\\train\\24_CAVALIER_COCKER_SPANIEL\\99.jpg\n",
      "./dog_classes2\\images\\image\\train\\26_PEKINGESE\\0.jpg\n",
      "./dog_classes2\\images\\image\\train\\26_PEKINGESE\\1.jpg\n",
      "./dog_classes2\\images\\image\\train\\26_PEKINGESE\\10.jpg\n",
      "./dog_classes2\\images\\image\\train\\26_PEKINGESE\\100.jpg\n",
      "./dog_classes2\\images\\image\\train\\26_PEKINGESE\\101.jpg\n",
      "./dog_classes2\\images\\image\\train\\26_PEKINGESE\\102.jpg\n",
      "./dog_classes2\\images\\image\\train\\26_PEKINGESE\\103.jpg\n",
      "./dog_classes2\\images\\image\\train\\26_PEKINGESE\\104.jpg\n",
      "./dog_classes2\\images\\image\\train\\26_PEKINGESE\\105.jpg\n",
      "./dog_classes2\\images\\image\\train\\26_PEKINGESE\\106.jpg\n"
     ]
    },
    {
     "name": "stderr",
     "output_type": "stream",
     "text": [
      ".-dog_classes2\\images\\image\\train\\26_PEKINGESE:  17%|█████▏                        | 26/152 [00:00<00:01, 81.64files/s]"
     ]
    },
    {
     "name": "stdout",
     "output_type": "stream",
     "text": [
      "./dog_classes2\\images\\image\\train\\26_PEKINGESE\\107.jpg\n",
      "./dog_classes2\\images\\image\\train\\26_PEKINGESE\\108.jpg\n",
      "./dog_classes2\\images\\image\\train\\26_PEKINGESE\\109.jpg\n",
      "./dog_classes2\\images\\image\\train\\26_PEKINGESE\\11.jpg\n",
      "./dog_classes2\\images\\image\\train\\26_PEKINGESE\\110.jpg\n",
      "./dog_classes2\\images\\image\\train\\26_PEKINGESE\\111.jpg\n",
      "./dog_classes2\\images\\image\\train\\26_PEKINGESE\\112.jpg\n",
      "./dog_classes2\\images\\image\\train\\26_PEKINGESE\\113.jpg\n",
      "./dog_classes2\\images\\image\\train\\26_PEKINGESE\\114.jpg\n",
      "./dog_classes2\\images\\image\\train\\26_PEKINGESE\\115.jpg\n",
      "./dog_classes2\\images\\image\\train\\26_PEKINGESE\\116.jpg\n",
      "./dog_classes2\\images\\image\\train\\26_PEKINGESE\\117.jpg\n",
      "./dog_classes2\\images\\image\\train\\26_PEKINGESE\\118.jpg\n",
      "./dog_classes2\\images\\image\\train\\26_PEKINGESE\\119.jpg\n",
      "./dog_classes2\\images\\image\\train\\26_PEKINGESE\\12.jpg\n",
      "./dog_classes2\\images\\image\\train\\26_PEKINGESE\\120.jpg\n",
      "./dog_classes2\\images\\image\\train\\26_PEKINGESE\\121.jpg"
     ]
    },
    {
     "name": "stderr",
     "output_type": "stream",
     "text": [
      "\r",
      ".-dog_classes2\\images\\image\\train\\26_PEKINGESE:  23%|██████▉                       | 35/152 [00:00<00:01, 83.35files/s]"
     ]
    },
    {
     "name": "stdout",
     "output_type": "stream",
     "text": [
      "\n",
      "./dog_classes2\\images\\image\\train\\26_PEKINGESE\\122.jpg\n",
      "./dog_classes2\\images\\image\\train\\26_PEKINGESE\\123.jpg\n",
      "./dog_classes2\\images\\image\\train\\26_PEKINGESE\\124.jpg\n",
      "./dog_classes2\\images\\image\\train\\26_PEKINGESE\\125.jpg\n",
      "./dog_classes2\\images\\image\\train\\26_PEKINGESE\\126.jpg\n",
      "./dog_classes2\\images\\image\\train\\26_PEKINGESE\\127.jpg\n",
      "./dog_classes2\\images\\image\\train\\26_PEKINGESE\\128.jpg\n",
      "./dog_classes2\\images\\image\\train\\26_PEKINGESE\\129.jpg\n",
      "./dog_classes2\\images\\image\\train\\26_PEKINGESE\\13.jpg\n",
      "./dog_classes2\\images\\image\\train\\26_PEKINGESE\\130.jpg\n",
      "./dog_classes2\\images\\image\\train\\26_PEKINGESE\\131.jpg\n",
      "./dog_classes2\\images\\image\\train\\26_PEKINGESE\\132.jpg\n",
      "./dog_classes2\\images\\image\\train\\26_PEKINGESE\\133.jpg\n",
      "./dog_classes2\\images\\image\\train\\26_PEKINGESE\\134.jpg\n",
      "./dog_classes2\\images\\image\\train\\26_PEKINGESE\\135.jpg\n",
      "./dog_classes2\\images\\image\\train\\26_PEKINGESE\\136.jpg\n",
      "./dog_classes2\\images\\image\\train\\26_PEKINGESE\\137.jpg"
     ]
    },
    {
     "name": "stderr",
     "output_type": "stream",
     "text": [
      ".-dog_classes2\\images\\image\\train\\26_PEKINGESE:  36%|██████████▋                   | 54/152 [00:00<00:01, 85.91files/s]"
     ]
    },
    {
     "name": "stdout",
     "output_type": "stream",
     "text": [
      "\n",
      "./dog_classes2\\images\\image\\train\\26_PEKINGESE\\138.jpg\n",
      "./dog_classes2\\images\\image\\train\\26_PEKINGESE\\139.jpg\n",
      "./dog_classes2\\images\\image\\train\\26_PEKINGESE\\14.jpg\n",
      "./dog_classes2\\images\\image\\train\\26_PEKINGESE\\140.jpg\n",
      "./dog_classes2\\images\\image\\train\\26_PEKINGESE\\141.jpg\n",
      "./dog_classes2\\images\\image\\train\\26_PEKINGESE\\142.jpg\n",
      "./dog_classes2\\images\\image\\train\\26_PEKINGESE\\143.jpg\n",
      "./dog_classes2\\images\\image\\train\\26_PEKINGESE\\144.jpg\n",
      "./dog_classes2\\images\\image\\train\\26_PEKINGESE\\145.jpg\n",
      "./dog_classes2\\images\\image\\train\\26_PEKINGESE\\146.jpg\n",
      "./dog_classes2\\images\\image\\train\\26_PEKINGESE\\147.jpg\n",
      "./dog_classes2\\images\\image\\train\\26_PEKINGESE\\148.jpg\n",
      "./dog_classes2\\images\\image\\train\\26_PEKINGESE\\149.jpg\n",
      "./dog_classes2\\images\\image\\train\\26_PEKINGESE\\15.jpg\n",
      "./dog_classes2\\images\\image\\train\\26_PEKINGESE\\150.jpg\n",
      "./dog_classes2\\images\\image\\train\\26_PEKINGESE\\151.jpg"
     ]
    },
    {
     "name": "stderr",
     "output_type": "stream",
     "text": [
      ".-dog_classes2\\images\\image\\train\\26_PEKINGESE:  48%|██████████████▍               | 73/152 [00:00<00:00, 87.73files/s]"
     ]
    },
    {
     "name": "stdout",
     "output_type": "stream",
     "text": [
      "\n",
      "./dog_classes2\\images\\image\\train\\26_PEKINGESE\\16.jpg\n",
      "./dog_classes2\\images\\image\\train\\26_PEKINGESE\\17.jpg\n",
      "./dog_classes2\\images\\image\\train\\26_PEKINGESE\\18.jpg\n",
      "./dog_classes2\\images\\image\\train\\26_PEKINGESE\\19.jpg\n",
      "./dog_classes2\\images\\image\\train\\26_PEKINGESE\\2.jpg\n",
      "./dog_classes2\\images\\image\\train\\26_PEKINGESE\\20.jpg\n",
      "./dog_classes2\\images\\image\\train\\26_PEKINGESE\\21.jpg\n",
      "./dog_classes2\\images\\image\\train\\26_PEKINGESE\\22.jpg\n",
      "./dog_classes2\\images\\image\\train\\26_PEKINGESE\\23.jpg\n",
      "./dog_classes2\\images\\image\\train\\26_PEKINGESE\\24.jpg\n",
      "./dog_classes2\\images\\image\\train\\26_PEKINGESE\\25.jpg\n",
      "./dog_classes2\\images\\image\\train\\26_PEKINGESE\\26.jpg\n",
      "./dog_classes2\\images\\image\\train\\26_PEKINGESE\\27.jpg\n",
      "./dog_classes2\\images\\image\\train\\26_PEKINGESE\\28.jpg\n",
      "./dog_classes2\\images\\image\\train\\26_PEKINGESE\\29.jpg\n",
      "./dog_classes2\\images\\image\\train\\26_PEKINGESE\\3.jpg\n",
      "./dog_classes2\\images\\image\\train\\26_PEKINGESE\\30.jpg"
     ]
    },
    {
     "name": "stderr",
     "output_type": "stream",
     "text": [
      "\r",
      ".-dog_classes2\\images\\image\\train\\26_PEKINGESE:  54%|████████████████▏             | 82/152 [00:00<00:00, 80.86files/s]"
     ]
    },
    {
     "name": "stdout",
     "output_type": "stream",
     "text": [
      "\n",
      "./dog_classes2\\images\\image\\train\\26_PEKINGESE\\31.jpg\n",
      "./dog_classes2\\images\\image\\train\\26_PEKINGESE\\32.jpg\n",
      "./dog_classes2\\images\\image\\train\\26_PEKINGESE\\33.jpg\n",
      "./dog_classes2\\images\\image\\train\\26_PEKINGESE\\34.jpg\n",
      "./dog_classes2\\images\\image\\train\\26_PEKINGESE\\35.jpg\n",
      "./dog_classes2\\images\\image\\train\\26_PEKINGESE\\36.jpg\n",
      "./dog_classes2\\images\\image\\train\\26_PEKINGESE\\37.jpg\n",
      "./dog_classes2\\images\\image\\train\\26_PEKINGESE\\38.jpg\n",
      "./dog_classes2\\images\\image\\train\\26_PEKINGESE\\39.jpg\n",
      "./dog_classes2\\images\\image\\train\\26_PEKINGESE\\4.jpg\n",
      "./dog_classes2\\images\\image\\train\\26_PEKINGESE\\40.jpg\n",
      "./dog_classes2\\images\\image\\train\\26_PEKINGESE\\41.jpg\n",
      "./dog_classes2\\images\\image\\train\\26_PEKINGESE\\42.jpg"
     ]
    },
    {
     "name": "stderr",
     "output_type": "stream",
     "text": [
      ".-dog_classes2\\images\\image\\train\\26_PEKINGESE:  64%|███████████████████▎          | 98/152 [00:01<00:00, 72.40files/s]"
     ]
    },
    {
     "name": "stdout",
     "output_type": "stream",
     "text": [
      "\n",
      "./dog_classes2\\images\\image\\train\\26_PEKINGESE\\43.jpg\n",
      "./dog_classes2\\images\\image\\train\\26_PEKINGESE\\44.jpg\n",
      "./dog_classes2\\images\\image\\train\\26_PEKINGESE\\45.jpg\n",
      "./dog_classes2\\images\\image\\train\\26_PEKINGESE\\46.jpg\n",
      "./dog_classes2\\images\\image\\train\\26_PEKINGESE\\47.jpg\n",
      "./dog_classes2\\images\\image\\train\\26_PEKINGESE\\48.jpg\n",
      "./dog_classes2\\images\\image\\train\\26_PEKINGESE\\49.jpg\n",
      "./dog_classes2\\images\\image\\train\\26_PEKINGESE\\5.jpg\n",
      "./dog_classes2\\images\\image\\train\\26_PEKINGESE\\50.jpg\n",
      "./dog_classes2\\images\\image\\train\\26_PEKINGESE\\51.jpg\n",
      "./dog_classes2\\images\\image\\train\\26_PEKINGESE\\52.jpg\n",
      "./dog_classes2\\images\\image\\train\\26_PEKINGESE\\53.jpg"
     ]
    },
    {
     "name": "stderr",
     "output_type": "stream",
     "text": [
      ".-dog_classes2\\images\\image\\train\\26_PEKINGESE:  76%|█████████████████████▉       | 115/152 [00:01<00:00, 74.39files/s]"
     ]
    },
    {
     "name": "stdout",
     "output_type": "stream",
     "text": [
      "\n",
      "./dog_classes2\\images\\image\\train\\26_PEKINGESE\\54.jpg\n",
      "./dog_classes2\\images\\image\\train\\26_PEKINGESE\\55.jpg\n",
      "./dog_classes2\\images\\image\\train\\26_PEKINGESE\\56.jpg\n",
      "./dog_classes2\\images\\image\\train\\26_PEKINGESE\\57.jpg\n",
      "./dog_classes2\\images\\image\\train\\26_PEKINGESE\\58.jpg\n",
      "./dog_classes2\\images\\image\\train\\26_PEKINGESE\\59.jpg\n",
      "./dog_classes2\\images\\image\\train\\26_PEKINGESE\\6.jpg\n",
      "./dog_classes2\\images\\image\\train\\26_PEKINGESE\\60.jpg\n",
      "./dog_classes2\\images\\image\\train\\26_PEKINGESE\\61.jpg\n",
      "./dog_classes2\\images\\image\\train\\26_PEKINGESE\\62.jpg\n",
      "./dog_classes2\\images\\image\\train\\26_PEKINGESE\\63.jpg\n",
      "./dog_classes2\\images\\image\\train\\26_PEKINGESE\\64.jpg\n",
      "./dog_classes2\\images\\image\\train\\26_PEKINGESE\\65.jpg\n",
      "./dog_classes2\\images\\image\\train\\26_PEKINGESE\\66.jpg"
     ]
    },
    {
     "name": "stderr",
     "output_type": "stream",
     "text": [
      "\r",
      ".-dog_classes2\\images\\image\\train\\26_PEKINGESE:  82%|███████████████████████▋     | 124/152 [00:01<00:00, 77.92files/s]"
     ]
    },
    {
     "name": "stdout",
     "output_type": "stream",
     "text": [
      "\n",
      "./dog_classes2\\images\\image\\train\\26_PEKINGESE\\67.jpg\n",
      "./dog_classes2\\images\\image\\train\\26_PEKINGESE\\68.jpg\n",
      "./dog_classes2\\images\\image\\train\\26_PEKINGESE\\69.jpg\n",
      "./dog_classes2\\images\\image\\train\\26_PEKINGESE\\7.jpg\n",
      "./dog_classes2\\images\\image\\train\\26_PEKINGESE\\70.jpg\n",
      "./dog_classes2\\images\\image\\train\\26_PEKINGESE\\71.jpg\n",
      "./dog_classes2\\images\\image\\train\\26_PEKINGESE\\72.jpg\n",
      "./dog_classes2\\images\\image\\train\\26_PEKINGESE\\73.jpg\n",
      "./dog_classes2\\images\\image\\train\\26_PEKINGESE\\74.jpg\n",
      "./dog_classes2\\images\\image\\train\\26_PEKINGESE\\75.jpg\n",
      "./dog_classes2\\images\\image\\train\\26_PEKINGESE\\76.jpg\n",
      "./dog_classes2\\images\\image\\train\\26_PEKINGESE\\77.jpg\n",
      "./dog_classes2\\images\\image\\train\\26_PEKINGESE\\78.jpg\n",
      "./dog_classes2\\images\\image\\train\\26_PEKINGESE\\79.jpg\n",
      "./dog_classes2\\images\\image\\train\\26_PEKINGESE\\8.jpg\n",
      "./dog_classes2\\images\\image\\train\\26_PEKINGESE\\80.jpg\n",
      "./dog_classes2\\images\\image\\train\\26_PEKINGESE\\81.jpg"
     ]
    },
    {
     "name": "stderr",
     "output_type": "stream",
     "text": [
      ".-dog_classes2\\images\\image\\train\\26_PEKINGESE:  93%|███████████████████████████  | 142/152 [00:01<00:00, 78.55files/s]"
     ]
    },
    {
     "name": "stdout",
     "output_type": "stream",
     "text": [
      "\n",
      "./dog_classes2\\images\\image\\train\\26_PEKINGESE\\82.jpg\n",
      "./dog_classes2\\images\\image\\train\\26_PEKINGESE\\83.jpg\n",
      "./dog_classes2\\images\\image\\train\\26_PEKINGESE\\84.jpg\n",
      "./dog_classes2\\images\\image\\train\\26_PEKINGESE\\85.jpg\n",
      "./dog_classes2\\images\\image\\train\\26_PEKINGESE\\86.jpg\n",
      "./dog_classes2\\images\\image\\train\\26_PEKINGESE\\87.jpg\n",
      "./dog_classes2\\images\\image\\train\\26_PEKINGESE\\88.jpg\n",
      "./dog_classes2\\images\\image\\train\\26_PEKINGESE\\89.jpg\n",
      "./dog_classes2\\images\\image\\train\\26_PEKINGESE\\9.jpg\n",
      "./dog_classes2\\images\\image\\train\\26_PEKINGESE\\90.jpg\n",
      "./dog_classes2\\images\\image\\train\\26_PEKINGESE\\91.jpg\n",
      "./dog_classes2\\images\\image\\train\\26_PEKINGESE\\92.jpg\n",
      "./dog_classes2\\images\\image\\train\\26_PEKINGESE\\93.jpg"
     ]
    },
    {
     "name": "stderr",
     "output_type": "stream",
     "text": [
      ".-dog_classes2\\images\\image\\train\\28_STANDARD_POODLE:   5%|█▏                       | 8/166 [00:00<00:02, 77.88files/s]"
     ]
    },
    {
     "name": "stdout",
     "output_type": "stream",
     "text": [
      "\n",
      "./dog_classes2\\images\\image\\train\\26_PEKINGESE\\94.jpg\n",
      "./dog_classes2\\images\\image\\train\\26_PEKINGESE\\95.jpg\n",
      "./dog_classes2\\images\\image\\train\\26_PEKINGESE\\96.jpg\n",
      "./dog_classes2\\images\\image\\train\\26_PEKINGESE\\97.jpg\n",
      "./dog_classes2\\images\\image\\train\\26_PEKINGESE\\98.jpg\n",
      "./dog_classes2\\images\\image\\train\\26_PEKINGESE\\99.jpg\n",
      "./dog_classes2\\images\\image\\train\\28_STANDARD_POODLE\\0.jpg\n",
      "./dog_classes2\\images\\image\\train\\28_STANDARD_POODLE\\1.jpg\n",
      "./dog_classes2\\images\\image\\train\\28_STANDARD_POODLE\\10.jpg\n",
      "./dog_classes2\\images\\image\\train\\28_STANDARD_POODLE\\100.jpg\n",
      "./dog_classes2\\images\\image\\train\\28_STANDARD_POODLE\\101.jpg\n",
      "./dog_classes2\\images\\image\\train\\28_STANDARD_POODLE\\102.jpg\n",
      "./dog_classes2\\images\\image\\train\\28_STANDARD_POODLE\\103.jpg\n",
      "./dog_classes2\\images\\image\\train\\28_STANDARD_POODLE\\104.jpg\n",
      "./dog_classes2\\images\\image\\train\\28_STANDARD_POODLE\\105.jpg"
     ]
    },
    {
     "name": "stderr",
     "output_type": "stream",
     "text": [
      "\r",
      ".-dog_classes2\\images\\image\\train\\28_STANDARD_POODLE:  10%|██▎                     | 16/166 [00:00<00:01, 77.65files/s]"
     ]
    },
    {
     "name": "stdout",
     "output_type": "stream",
     "text": [
      "\n",
      "./dog_classes2\\images\\image\\train\\28_STANDARD_POODLE\\106.jpg\n",
      "./dog_classes2\\images\\image\\train\\28_STANDARD_POODLE\\107.jpg\n",
      "./dog_classes2\\images\\image\\train\\28_STANDARD_POODLE\\108.jpg\n",
      "./dog_classes2\\images\\image\\train\\28_STANDARD_POODLE\\109.jpg\n",
      "./dog_classes2\\images\\image\\train\\28_STANDARD_POODLE\\11.jpg\n",
      "./dog_classes2\\images\\image\\train\\28_STANDARD_POODLE\\110.jpg\n",
      "./dog_classes2\\images\\image\\train\\28_STANDARD_POODLE\\111.jpg\n",
      "./dog_classes2\\images\\image\\train\\28_STANDARD_POODLE\\112.jpg\n",
      "./dog_classes2\\images\\image\\train\\28_STANDARD_POODLE\\113.jpg\n",
      "./dog_classes2\\images\\image\\train\\28_STANDARD_POODLE\\114.jpg\n",
      "./dog_classes2\\images\\image\\train\\28_STANDARD_POODLE\\115.jpg\n",
      "./dog_classes2\\images\\image\\train\\28_STANDARD_POODLE\\116.jpg\n",
      "./dog_classes2\\images\\image\\train\\28_STANDARD_POODLE\\117.jpg\n",
      "./dog_classes2\\images\\image\\train\\28_STANDARD_POODLE\\118.jpg\n",
      "./dog_classes2\\images\\image\\train\\28_STANDARD_POODLE\\119.jpg"
     ]
    },
    {
     "name": "stderr",
     "output_type": "stream",
     "text": [
      ".-dog_classes2\\images\\image\\train\\28_STANDARD_POODLE:  19%|████▋                   | 32/166 [00:00<00:01, 77.29files/s]"
     ]
    },
    {
     "name": "stdout",
     "output_type": "stream",
     "text": [
      "\n",
      "./dog_classes2\\images\\image\\train\\28_STANDARD_POODLE\\12.jpg\n",
      "./dog_classes2\\images\\image\\train\\28_STANDARD_POODLE\\120.jpg\n",
      "./dog_classes2\\images\\image\\train\\28_STANDARD_POODLE\\121.jpg\n",
      "./dog_classes2\\images\\image\\train\\28_STANDARD_POODLE\\122.jpg\n",
      "./dog_classes2\\images\\image\\train\\28_STANDARD_POODLE\\123.jpg\n",
      "./dog_classes2\\images\\image\\train\\28_STANDARD_POODLE\\124.jpg\n",
      "./dog_classes2\\images\\image\\train\\28_STANDARD_POODLE\\125.jpg\n",
      "./dog_classes2\\images\\image\\train\\28_STANDARD_POODLE\\126.jpg\n",
      "./dog_classes2\\images\\image\\train\\28_STANDARD_POODLE\\127.jpg\n",
      "./dog_classes2\\images\\image\\train\\28_STANDARD_POODLE\\128.jpg\n",
      "./dog_classes2\\images\\image\\train\\28_STANDARD_POODLE\\129.jpg\n",
      "./dog_classes2\\images\\image\\train\\28_STANDARD_POODLE\\13.jpg\n",
      "./dog_classes2\\images\\image\\train\\28_STANDARD_POODLE\\130.jpg\n",
      "./dog_classes2\\images\\image\\train\\28_STANDARD_POODLE\\131.jpg\n",
      "./dog_classes2\\images\\image\\train\\28_STANDARD_POODLE\\132.jpg"
     ]
    },
    {
     "name": "stderr",
     "output_type": "stream",
     "text": [
      ".-dog_classes2\\images\\image\\train\\28_STANDARD_POODLE:  29%|██████▉                 | 48/166 [00:00<00:01, 69.49files/s]"
     ]
    },
    {
     "name": "stdout",
     "output_type": "stream",
     "text": [
      "\n",
      "./dog_classes2\\images\\image\\train\\28_STANDARD_POODLE\\133.jpg\n",
      "./dog_classes2\\images\\image\\train\\28_STANDARD_POODLE\\134.jpg\n",
      "./dog_classes2\\images\\image\\train\\28_STANDARD_POODLE\\135.jpg\n",
      "./dog_classes2\\images\\image\\train\\28_STANDARD_POODLE\\136.jpg\n",
      "./dog_classes2\\images\\image\\train\\28_STANDARD_POODLE\\137.jpg\n",
      "./dog_classes2\\images\\image\\train\\28_STANDARD_POODLE\\138.jpg\n",
      "./dog_classes2\\images\\image\\train\\28_STANDARD_POODLE\\139.jpg\n",
      "./dog_classes2\\images\\image\\train\\28_STANDARD_POODLE\\14.jpg\n",
      "./dog_classes2\\images\\image\\train\\28_STANDARD_POODLE\\140.jpg\n",
      "./dog_classes2\\images\\image\\train\\28_STANDARD_POODLE\\141.jpg\n",
      "./dog_classes2\\images\\image\\train\\28_STANDARD_POODLE\\142.jpg\n",
      "./dog_classes2\\images\\image\\train\\28_STANDARD_POODLE\\143.jpg"
     ]
    },
    {
     "name": "stderr",
     "output_type": "stream",
     "text": [
      ".-dog_classes2\\images\\image\\train\\28_STANDARD_POODLE:  39%|█████████▍              | 65/166 [00:00<00:01, 75.50files/s]"
     ]
    },
    {
     "name": "stdout",
     "output_type": "stream",
     "text": [
      "\n",
      "./dog_classes2\\images\\image\\train\\28_STANDARD_POODLE\\144.jpg\n",
      "./dog_classes2\\images\\image\\train\\28_STANDARD_POODLE\\145.jpg\n",
      "./dog_classes2\\images\\image\\train\\28_STANDARD_POODLE\\146.jpg\n",
      "./dog_classes2\\images\\image\\train\\28_STANDARD_POODLE\\147.jpg\n",
      "./dog_classes2\\images\\image\\train\\28_STANDARD_POODLE\\148.jpg\n",
      "./dog_classes2\\images\\image\\train\\28_STANDARD_POODLE\\149.jpg\n",
      "./dog_classes2\\images\\image\\train\\28_STANDARD_POODLE\\15.jpg\n",
      "./dog_classes2\\images\\image\\train\\28_STANDARD_POODLE\\150.jpg\n",
      "./dog_classes2\\images\\image\\train\\28_STANDARD_POODLE\\151.jpg\n",
      "./dog_classes2\\images\\image\\train\\28_STANDARD_POODLE\\152.jpg\n",
      "./dog_classes2\\images\\image\\train\\28_STANDARD_POODLE\\153.jpg\n",
      "./dog_classes2\\images\\image\\train\\28_STANDARD_POODLE\\154.jpg\n",
      "./dog_classes2\\images\\image\\train\\28_STANDARD_POODLE\\155.jpg\n",
      "./dog_classes2\\images\\image\\train\\28_STANDARD_POODLE\\156.jpg\n",
      "./dog_classes2\\images\\image\\train\\28_STANDARD_POODLE\\157.jpg"
     ]
    },
    {
     "name": "stderr",
     "output_type": "stream",
     "text": [
      "\r",
      ".-dog_classes2\\images\\image\\train\\28_STANDARD_POODLE:  44%|██████████▌             | 73/166 [00:00<00:01, 72.09files/s]"
     ]
    },
    {
     "name": "stdout",
     "output_type": "stream",
     "text": [
      "\n",
      "./dog_classes2\\images\\image\\train\\28_STANDARD_POODLE\\158.jpg\n",
      "./dog_classes2\\images\\image\\train\\28_STANDARD_POODLE\\159.jpg\n",
      "./dog_classes2\\images\\image\\train\\28_STANDARD_POODLE\\16.jpg\n",
      "./dog_classes2\\images\\image\\train\\28_STANDARD_POODLE\\160.jpg\n",
      "./dog_classes2\\images\\image\\train\\28_STANDARD_POODLE\\161.jpg\n",
      "./dog_classes2\\images\\image\\train\\28_STANDARD_POODLE\\162.jpg\n",
      "./dog_classes2\\images\\image\\train\\28_STANDARD_POODLE\\163.jpg\n",
      "./dog_classes2\\images\\image\\train\\28_STANDARD_POODLE\\164.jpg\n",
      "./dog_classes2\\images\\image\\train\\28_STANDARD_POODLE\\165.jpg\n"
     ]
    },
    {
     "name": "stderr",
     "output_type": "stream",
     "text": [
      "\r",
      ".-dog_classes2\\images\\image\\train\\28_STANDARD_POODLE:  49%|███████████▋            | 81/166 [00:01<00:01, 51.85files/s]"
     ]
    },
    {
     "name": "stdout",
     "output_type": "stream",
     "text": [
      "./dog_classes2\\images\\image\\train\\28_STANDARD_POODLE\\17.jpg\n",
      "./dog_classes2\\images\\image\\train\\28_STANDARD_POODLE\\18.jpg\n",
      "./dog_classes2\\images\\image\\train\\28_STANDARD_POODLE\\19.jpg\n",
      "./dog_classes2\\images\\image\\train\\28_STANDARD_POODLE\\2.jpg\n",
      "./dog_classes2\\images\\image\\train\\28_STANDARD_POODLE\\20.jpg\n",
      "./dog_classes2\\images\\image\\train\\28_STANDARD_POODLE\\21.jpg\n",
      "./dog_classes2\\images\\image\\train\\28_STANDARD_POODLE\\22.jpg\n",
      "./dog_classes2\\images\\image\\train\\28_STANDARD_POODLE\\23.jpg\n",
      "./dog_classes2\\images\\image\\train\\28_STANDARD_POODLE\\24.jpg\n"
     ]
    },
    {
     "name": "stderr",
     "output_type": "stream",
     "text": [
      "\r",
      ".-dog_classes2\\images\\image\\train\\28_STANDARD_POODLE:  52%|████████████▌           | 87/166 [00:01<00:01, 41.29files/s]"
     ]
    },
    {
     "name": "stdout",
     "output_type": "stream",
     "text": [
      "./dog_classes2\\images\\image\\train\\28_STANDARD_POODLE\\25.jpg\n",
      "./dog_classes2\\images\\image\\train\\28_STANDARD_POODLE\\26.jpg\n",
      "./dog_classes2\\images\\image\\train\\28_STANDARD_POODLE\\27.jpg\n",
      "./dog_classes2\\images\\image\\train\\28_STANDARD_POODLE\\28.jpg\n",
      "./dog_classes2\\images\\image\\train\\28_STANDARD_POODLE\\29.jpg\n",
      "./dog_classes2\\images\\image\\train\\28_STANDARD_POODLE\\3.jpg\n",
      "./dog_classes2\\images\\image\\train\\28_STANDARD_POODLE\\30.jpg\n",
      "./dog_classes2\\images\\image\\train\\28_STANDARD_POODLE\\31.jpg\n",
      "./dog_classes2\\images\\image\\train\\28_STANDARD_POODLE\\32.jpg\n",
      "./dog_classes2\\images\\image\\train\\28_STANDARD_POODLE\\33.jpg\n",
      "./dog_classes2\\images\\image\\train\\28_STANDARD_POODLE\\34.jpg\n"
     ]
    },
    {
     "name": "stderr",
     "output_type": "stream",
     "text": [
      ".-dog_classes2\\images\\image\\train\\28_STANDARD_POODLE:  61%|█████████████▉         | 101/166 [00:01<00:01, 45.94files/s]"
     ]
    },
    {
     "name": "stdout",
     "output_type": "stream",
     "text": [
      "./dog_classes2\\images\\image\\train\\28_STANDARD_POODLE\\35.jpg\n",
      "./dog_classes2\\images\\image\\train\\28_STANDARD_POODLE\\36.jpg\n",
      "./dog_classes2\\images\\image\\train\\28_STANDARD_POODLE\\37.jpg\n",
      "./dog_classes2\\images\\image\\train\\28_STANDARD_POODLE\\38.jpg\n",
      "./dog_classes2\\images\\image\\train\\28_STANDARD_POODLE\\39.jpg\n",
      "./dog_classes2\\images\\image\\train\\28_STANDARD_POODLE\\4.jpg\n",
      "./dog_classes2\\images\\image\\train\\28_STANDARD_POODLE\\40.jpg\n",
      "./dog_classes2\\images\\image\\train\\28_STANDARD_POODLE\\41.jpg\n",
      "./dog_classes2\\images\\image\\train\\28_STANDARD_POODLE\\42.jpg"
     ]
    },
    {
     "name": "stderr",
     "output_type": "stream",
     "text": [
      ".-dog_classes2\\images\\image\\train\\28_STANDARD_POODLE:  70%|████████████████▏      | 117/166 [00:01<00:00, 57.54files/s]"
     ]
    },
    {
     "name": "stdout",
     "output_type": "stream",
     "text": [
      "\n",
      "./dog_classes2\\images\\image\\train\\28_STANDARD_POODLE\\43.jpg\n",
      "./dog_classes2\\images\\image\\train\\28_STANDARD_POODLE\\44.jpg\n",
      "./dog_classes2\\images\\image\\train\\28_STANDARD_POODLE\\45.jpg\n",
      "./dog_classes2\\images\\image\\train\\28_STANDARD_POODLE\\46.jpg\n",
      "./dog_classes2\\images\\image\\train\\28_STANDARD_POODLE\\47.jpg\n",
      "./dog_classes2\\images\\image\\train\\28_STANDARD_POODLE\\48.jpg\n",
      "./dog_classes2\\images\\image\\train\\28_STANDARD_POODLE\\49.jpg\n",
      "./dog_classes2\\images\\image\\train\\28_STANDARD_POODLE\\5.jpg\n",
      "./dog_classes2\\images\\image\\train\\28_STANDARD_POODLE\\50.jpg\n",
      "./dog_classes2\\images\\image\\train\\28_STANDARD_POODLE\\51.jpg\n",
      "./dog_classes2\\images\\image\\train\\28_STANDARD_POODLE\\52.jpg\n",
      "./dog_classes2\\images\\image\\train\\28_STANDARD_POODLE\\53.jpg\n",
      "./dog_classes2\\images\\image\\train\\28_STANDARD_POODLE\\54.jpg\n",
      "./dog_classes2\\images\\image\\train\\28_STANDARD_POODLE\\55.jpg"
     ]
    },
    {
     "name": "stderr",
     "output_type": "stream",
     "text": [
      "\r",
      ".-dog_classes2\\images\\image\\train\\28_STANDARD_POODLE:  75%|█████████████████▎     | 125/166 [00:02<00:00, 60.59files/s]"
     ]
    },
    {
     "name": "stdout",
     "output_type": "stream",
     "text": [
      "\n",
      "./dog_classes2\\images\\image\\train\\28_STANDARD_POODLE\\56.jpg\n",
      "./dog_classes2\\images\\image\\train\\28_STANDARD_POODLE\\57.jpg\n",
      "./dog_classes2\\images\\image\\train\\28_STANDARD_POODLE\\58.jpg\n",
      "./dog_classes2\\images\\image\\train\\28_STANDARD_POODLE\\59.jpg\n",
      "./dog_classes2\\images\\image\\train\\28_STANDARD_POODLE\\6.jpg\n",
      "./dog_classes2\\images\\image\\train\\28_STANDARD_POODLE\\60.jpg\n",
      "./dog_classes2\\images\\image\\train\\28_STANDARD_POODLE\\61.jpg\n",
      "./dog_classes2\\images\\image\\train\\28_STANDARD_POODLE\\62.jpg\n",
      "./dog_classes2\\images\\image\\train\\28_STANDARD_POODLE\\63.jpg\n",
      "./dog_classes2\\images\\image\\train\\28_STANDARD_POODLE\\64.jpg\n",
      "./dog_classes2\\images\\image\\train\\28_STANDARD_POODLE\\65.jpg\n",
      "./dog_classes2\\images\\image\\train\\28_STANDARD_POODLE\\66.jpg\n",
      "./dog_classes2\\images\\image\\train\\28_STANDARD_POODLE\\67.jpg\n",
      "./dog_classes2\\images\\image\\train\\28_STANDARD_POODLE\\68.jpg"
     ]
    },
    {
     "name": "stderr",
     "output_type": "stream",
     "text": [
      ".-dog_classes2\\images\\image\\train\\28_STANDARD_POODLE:  85%|███████████████████▌   | 141/166 [00:02<00:00, 66.56files/s]"
     ]
    },
    {
     "name": "stdout",
     "output_type": "stream",
     "text": [
      "\n",
      "./dog_classes2\\images\\image\\train\\28_STANDARD_POODLE\\69.jpg\n",
      "./dog_classes2\\images\\image\\train\\28_STANDARD_POODLE\\7.jpg\n",
      "./dog_classes2\\images\\image\\train\\28_STANDARD_POODLE\\70.jpg\n",
      "./dog_classes2\\images\\image\\train\\28_STANDARD_POODLE\\71.jpg\n",
      "./dog_classes2\\images\\image\\train\\28_STANDARD_POODLE\\72.jpg\n",
      "./dog_classes2\\images\\image\\train\\28_STANDARD_POODLE\\73.jpg\n",
      "./dog_classes2\\images\\image\\train\\28_STANDARD_POODLE\\74.jpg\n",
      "./dog_classes2\\images\\image\\train\\28_STANDARD_POODLE\\75.jpg\n",
      "./dog_classes2\\images\\image\\train\\28_STANDARD_POODLE\\76.jpg\n",
      "./dog_classes2\\images\\image\\train\\28_STANDARD_POODLE\\77.jpg\n",
      "./dog_classes2\\images\\image\\train\\28_STANDARD_POODLE\\78.jpg\n",
      "./dog_classes2\\images\\image\\train\\28_STANDARD_POODLE\\79.jpg\n",
      "./dog_classes2\\images\\image\\train\\28_STANDARD_POODLE\\8.jpg\n",
      "./dog_classes2\\images\\image\\train\\28_STANDARD_POODLE\\80.jpg\n",
      "./dog_classes2\\images\\image\\train\\28_STANDARD_POODLE\\81.jpg"
     ]
    },
    {
     "name": "stderr",
     "output_type": "stream",
     "text": [
      ".-dog_classes2\\images\\image\\train\\28_STANDARD_POODLE:  95%|█████████████████████▊ | 157/166 [00:02<00:00, 72.16files/s]"
     ]
    },
    {
     "name": "stdout",
     "output_type": "stream",
     "text": [
      "\n",
      "./dog_classes2\\images\\image\\train\\28_STANDARD_POODLE\\82.jpg\n",
      "./dog_classes2\\images\\image\\train\\28_STANDARD_POODLE\\83.jpg\n",
      "./dog_classes2\\images\\image\\train\\28_STANDARD_POODLE\\84.jpg\n",
      "./dog_classes2\\images\\image\\train\\28_STANDARD_POODLE\\85.jpg\n",
      "./dog_classes2\\images\\image\\train\\28_STANDARD_POODLE\\86.jpg\n",
      "./dog_classes2\\images\\image\\train\\28_STANDARD_POODLE\\87.jpg\n",
      "./dog_classes2\\images\\image\\train\\28_STANDARD_POODLE\\88.jpg\n",
      "./dog_classes2\\images\\image\\train\\28_STANDARD_POODLE\\89.jpg\n",
      "./dog_classes2\\images\\image\\train\\28_STANDARD_POODLE\\9.jpg\n",
      "./dog_classes2\\images\\image\\train\\28_STANDARD_POODLE\\90.jpg\n",
      "./dog_classes2\\images\\image\\train\\28_STANDARD_POODLE\\91.jpg\n",
      "./dog_classes2\\images\\image\\train\\28_STANDARD_POODLE\\92.jpg\n",
      "./dog_classes2\\images\\image\\train\\28_STANDARD_POODLE\\93.jpg\n",
      "./dog_classes2\\images\\image\\train\\28_STANDARD_POODLE\\94.jpg"
     ]
    },
    {
     "name": "stderr",
     "output_type": "stream",
     "text": [
      ".-dog_classes2\\images\\image\\train\\29_YORKSHIRE_TERRIER:   4%|▊                      | 8/218 [00:00<00:02, 78.64files/s]"
     ]
    },
    {
     "name": "stdout",
     "output_type": "stream",
     "text": [
      "\n",
      "./dog_classes2\\images\\image\\train\\28_STANDARD_POODLE\\95.jpg\n",
      "./dog_classes2\\images\\image\\train\\28_STANDARD_POODLE\\96.jpg\n",
      "./dog_classes2\\images\\image\\train\\28_STANDARD_POODLE\\97.jpg\n",
      "./dog_classes2\\images\\image\\train\\28_STANDARD_POODLE\\98.jpg\n",
      "./dog_classes2\\images\\image\\train\\28_STANDARD_POODLE\\99.jpg\n",
      "./dog_classes2\\images\\image\\train\\29_YORKSHIRE_TERRIER\\0.jpg\n",
      "./dog_classes2\\images\\image\\train\\29_YORKSHIRE_TERRIER\\1.jpg\n",
      "./dog_classes2\\images\\image\\train\\29_YORKSHIRE_TERRIER\\10.jpg\n",
      "./dog_classes2\\images\\image\\train\\29_YORKSHIRE_TERRIER\\100.jpg\n",
      "./dog_classes2\\images\\image\\train\\29_YORKSHIRE_TERRIER\\101.jpg\n",
      "./dog_classes2\\images\\image\\train\\29_YORKSHIRE_TERRIER\\102.jpg\n",
      "./dog_classes2\\images\\image\\train\\29_YORKSHIRE_TERRIER\\103.jpg\n",
      "./dog_classes2\\images\\image\\train\\29_YORKSHIRE_TERRIER\\104.jpg\n",
      "./dog_classes2\\images\\image\\train\\29_YORKSHIRE_TERRIER\\105.jpg\n",
      "./dog_classes2\\images\\image\\train\\29_YORKSHIRE_TERRIER\\106.jpg"
     ]
    },
    {
     "name": "stderr",
     "output_type": "stream",
     "text": [
      "\r",
      ".-dog_classes2\\images\\image\\train\\29_YORKSHIRE_TERRIER:   7%|█▌                    | 16/218 [00:00<00:02, 77.50files/s]"
     ]
    },
    {
     "name": "stdout",
     "output_type": "stream",
     "text": [
      "\n",
      "./dog_classes2\\images\\image\\train\\29_YORKSHIRE_TERRIER\\107.jpg\n",
      "./dog_classes2\\images\\image\\train\\29_YORKSHIRE_TERRIER\\108.jpg\n",
      "./dog_classes2\\images\\image\\train\\29_YORKSHIRE_TERRIER\\109.jpg\n",
      "./dog_classes2\\images\\image\\train\\29_YORKSHIRE_TERRIER\\11.jpg\n",
      "./dog_classes2\\images\\image\\train\\29_YORKSHIRE_TERRIER\\110.jpg\n",
      "./dog_classes2\\images\\image\\train\\29_YORKSHIRE_TERRIER\\111.jpg\n",
      "./dog_classes2\\images\\image\\train\\29_YORKSHIRE_TERRIER\\112.jpg\n",
      "./dog_classes2\\images\\image\\train\\29_YORKSHIRE_TERRIER\\113.jpg\n",
      "./dog_classes2\\images\\image\\train\\29_YORKSHIRE_TERRIER\\114.jpg\n",
      "./dog_classes2\\images\\image\\train\\29_YORKSHIRE_TERRIER\\115.jpg\n",
      "./dog_classes2\\images\\image\\train\\29_YORKSHIRE_TERRIER\\116.jpg\n",
      "./dog_classes2\\images\\image\\train\\29_YORKSHIRE_TERRIER\\117.jpg\n",
      "./dog_classes2\\images\\image\\train\\29_YORKSHIRE_TERRIER\\118.jpg\n",
      "./dog_classes2\\images\\image\\train\\29_YORKSHIRE_TERRIER\\119.jpg"
     ]
    },
    {
     "name": "stderr",
     "output_type": "stream",
     "text": [
      ".-dog_classes2\\images\\image\\train\\29_YORKSHIRE_TERRIER:  15%|███▎                  | 33/218 [00:00<00:02, 79.20files/s]"
     ]
    },
    {
     "name": "stdout",
     "output_type": "stream",
     "text": [
      "\n",
      "./dog_classes2\\images\\image\\train\\29_YORKSHIRE_TERRIER\\12.jpg\n",
      "./dog_classes2\\images\\image\\train\\29_YORKSHIRE_TERRIER\\120.jpg\n",
      "./dog_classes2\\images\\image\\train\\29_YORKSHIRE_TERRIER\\121.jpg\n",
      "./dog_classes2\\images\\image\\train\\29_YORKSHIRE_TERRIER\\122.jpg\n",
      "./dog_classes2\\images\\image\\train\\29_YORKSHIRE_TERRIER\\123.jpg\n",
      "./dog_classes2\\images\\image\\train\\29_YORKSHIRE_TERRIER\\124.jpg\n",
      "./dog_classes2\\images\\image\\train\\29_YORKSHIRE_TERRIER\\125.jpg\n",
      "./dog_classes2\\images\\image\\train\\29_YORKSHIRE_TERRIER\\126.jpg\n",
      "./dog_classes2\\images\\image\\train\\29_YORKSHIRE_TERRIER\\127.jpg\n",
      "./dog_classes2\\images\\image\\train\\29_YORKSHIRE_TERRIER\\128.jpg\n",
      "./dog_classes2\\images\\image\\train\\29_YORKSHIRE_TERRIER\\129.jpg\n",
      "./dog_classes2\\images\\image\\train\\29_YORKSHIRE_TERRIER\\13.jpg\n",
      "./dog_classes2\\images\\image\\train\\29_YORKSHIRE_TERRIER\\130.jpg\n",
      "./dog_classes2\\images\\image\\train\\29_YORKSHIRE_TERRIER\\131.jpg\n",
      "./dog_classes2\\images\\image\\train\\29_YORKSHIRE_TERRIER\\132.jpg\n",
      "./dog_classes2\\images\\image\\train\\29_YORKSHIRE_TERRIER\\133.jpg"
     ]
    },
    {
     "name": "stderr",
     "output_type": "stream",
     "text": [
      ".-dog_classes2\\images\\image\\train\\29_YORKSHIRE_TERRIER:  22%|████▉                 | 49/218 [00:00<00:02, 75.67files/s]"
     ]
    },
    {
     "name": "stdout",
     "output_type": "stream",
     "text": [
      "\n",
      "./dog_classes2\\images\\image\\train\\29_YORKSHIRE_TERRIER\\134.jpg\n",
      "./dog_classes2\\images\\image\\train\\29_YORKSHIRE_TERRIER\\135.jpg\n",
      "./dog_classes2\\images\\image\\train\\29_YORKSHIRE_TERRIER\\136.jpg\n",
      "./dog_classes2\\images\\image\\train\\29_YORKSHIRE_TERRIER\\137.jpg\n",
      "./dog_classes2\\images\\image\\train\\29_YORKSHIRE_TERRIER\\138.jpg\n",
      "./dog_classes2\\images\\image\\train\\29_YORKSHIRE_TERRIER\\139.jpg\n",
      "./dog_classes2\\images\\image\\train\\29_YORKSHIRE_TERRIER\\14.jpg\n",
      "./dog_classes2\\images\\image\\train\\29_YORKSHIRE_TERRIER\\140.jpg\n",
      "./dog_classes2\\images\\image\\train\\29_YORKSHIRE_TERRIER\\141.jpg\n",
      "./dog_classes2\\images\\image\\train\\29_YORKSHIRE_TERRIER\\142.jpg\n",
      "./dog_classes2\\images\\image\\train\\29_YORKSHIRE_TERRIER\\143.jpg\n",
      "./dog_classes2\\images\\image\\train\\29_YORKSHIRE_TERRIER\\144.jpg\n",
      "./dog_classes2\\images\\image\\train\\29_YORKSHIRE_TERRIER\\145.jpg"
     ]
    },
    {
     "name": "stderr",
     "output_type": "stream",
     "text": [
      ".-dog_classes2\\images\\image\\train\\29_YORKSHIRE_TERRIER:  30%|██████▌               | 65/218 [00:00<00:02, 74.57files/s]"
     ]
    },
    {
     "name": "stdout",
     "output_type": "stream",
     "text": [
      "\n",
      "./dog_classes2\\images\\image\\train\\29_YORKSHIRE_TERRIER\\146.jpg\n",
      "./dog_classes2\\images\\image\\train\\29_YORKSHIRE_TERRIER\\147.jpg\n",
      "./dog_classes2\\images\\image\\train\\29_YORKSHIRE_TERRIER\\148.jpg\n",
      "./dog_classes2\\images\\image\\train\\29_YORKSHIRE_TERRIER\\149.jpg\n",
      "./dog_classes2\\images\\image\\train\\29_YORKSHIRE_TERRIER\\15.jpg\n",
      "./dog_classes2\\images\\image\\train\\29_YORKSHIRE_TERRIER\\150.jpg\n",
      "./dog_classes2\\images\\image\\train\\29_YORKSHIRE_TERRIER\\151.jpg\n",
      "./dog_classes2\\images\\image\\train\\29_YORKSHIRE_TERRIER\\152.jpg\n",
      "./dog_classes2\\images\\image\\train\\29_YORKSHIRE_TERRIER\\153.jpg\n",
      "./dog_classes2\\images\\image\\train\\29_YORKSHIRE_TERRIER\\154.jpg\n",
      "./dog_classes2\\images\\image\\train\\29_YORKSHIRE_TERRIER\\155.jpg\n",
      "./dog_classes2\\images\\image\\train\\29_YORKSHIRE_TERRIER\\156.jpg\n",
      "./dog_classes2\\images\\image\\train\\29_YORKSHIRE_TERRIER\\157.jpg\n",
      "./dog_classes2\\images\\image\\train\\29_YORKSHIRE_TERRIER\\158.jpg"
     ]
    },
    {
     "name": "stderr",
     "output_type": "stream",
     "text": [
      "\r",
      ".-dog_classes2\\images\\image\\train\\29_YORKSHIRE_TERRIER:  33%|███████▎              | 73/218 [00:00<00:01, 73.26files/s]"
     ]
    },
    {
     "name": "stdout",
     "output_type": "stream",
     "text": [
      "\n",
      "./dog_classes2\\images\\image\\train\\29_YORKSHIRE_TERRIER\\159.jpg\n",
      "./dog_classes2\\images\\image\\train\\29_YORKSHIRE_TERRIER\\16.jpg\n",
      "./dog_classes2\\images\\image\\train\\29_YORKSHIRE_TERRIER\\160.jpg\n",
      "./dog_classes2\\images\\image\\train\\29_YORKSHIRE_TERRIER\\161.jpg\n",
      "./dog_classes2\\images\\image\\train\\29_YORKSHIRE_TERRIER\\162.jpg\n",
      "./dog_classes2\\images\\image\\train\\29_YORKSHIRE_TERRIER\\163.jpg\n",
      "./dog_classes2\\images\\image\\train\\29_YORKSHIRE_TERRIER\\164.jpg\n",
      "./dog_classes2\\images\\image\\train\\29_YORKSHIRE_TERRIER\\165.jpg\n",
      "./dog_classes2\\images\\image\\train\\29_YORKSHIRE_TERRIER\\166.jpg\n",
      "./dog_classes2\\images\\image\\train\\29_YORKSHIRE_TERRIER\\167.jpg\n",
      "./dog_classes2\\images\\image\\train\\29_YORKSHIRE_TERRIER\\168.jpg\n",
      "./dog_classes2\\images\\image\\train\\29_YORKSHIRE_TERRIER\\169.jpg\n",
      "./dog_classes2\\images\\image\\train\\29_YORKSHIRE_TERRIER\\17.jpg\n",
      "./dog_classes2\\images\\image\\train\\29_YORKSHIRE_TERRIER\\170.jpg"
     ]
    },
    {
     "name": "stderr",
     "output_type": "stream",
     "text": [
      ".-dog_classes2\\images\\image\\train\\29_YORKSHIRE_TERRIER:  41%|████████▉             | 89/218 [00:01<00:01, 69.01files/s]"
     ]
    },
    {
     "name": "stdout",
     "output_type": "stream",
     "text": [
      "\n",
      "./dog_classes2\\images\\image\\train\\29_YORKSHIRE_TERRIER\\171.jpg\n",
      "./dog_classes2\\images\\image\\train\\29_YORKSHIRE_TERRIER\\172.jpg\n",
      "./dog_classes2\\images\\image\\train\\29_YORKSHIRE_TERRIER\\173.jpg\n",
      "./dog_classes2\\images\\image\\train\\29_YORKSHIRE_TERRIER\\174.jpg\n",
      "./dog_classes2\\images\\image\\train\\29_YORKSHIRE_TERRIER\\175.jpg\n",
      "./dog_classes2\\images\\image\\train\\29_YORKSHIRE_TERRIER\\176.jpg\n",
      "./dog_classes2\\images\\image\\train\\29_YORKSHIRE_TERRIER\\177.jpg\n",
      "./dog_classes2\\images\\image\\train\\29_YORKSHIRE_TERRIER\\178.jpg\n",
      "./dog_classes2\\images\\image\\train\\29_YORKSHIRE_TERRIER\\179.jpg\n",
      "./dog_classes2\\images\\image\\train\\29_YORKSHIRE_TERRIER\\18.jpg\n",
      "./dog_classes2\\images\\image\\train\\29_YORKSHIRE_TERRIER\\180.jpg"
     ]
    },
    {
     "name": "stderr",
     "output_type": "stream",
     "text": [
      ".-dog_classes2\\images\\image\\train\\29_YORKSHIRE_TERRIER:  48%|██████████           | 105/218 [00:01<00:01, 70.50files/s]"
     ]
    },
    {
     "name": "stdout",
     "output_type": "stream",
     "text": [
      "\n",
      "./dog_classes2\\images\\image\\train\\29_YORKSHIRE_TERRIER\\181.jpg\n",
      "./dog_classes2\\images\\image\\train\\29_YORKSHIRE_TERRIER\\182.jpg\n",
      "./dog_classes2\\images\\image\\train\\29_YORKSHIRE_TERRIER\\183.jpg\n",
      "./dog_classes2\\images\\image\\train\\29_YORKSHIRE_TERRIER\\184.jpg\n",
      "./dog_classes2\\images\\image\\train\\29_YORKSHIRE_TERRIER\\185.jpg\n",
      "./dog_classes2\\images\\image\\train\\29_YORKSHIRE_TERRIER\\186.jpg\n",
      "./dog_classes2\\images\\image\\train\\29_YORKSHIRE_TERRIER\\187.jpg\n",
      "./dog_classes2\\images\\image\\train\\29_YORKSHIRE_TERRIER\\188.jpg\n",
      "./dog_classes2\\images\\image\\train\\29_YORKSHIRE_TERRIER\\189.jpg\n",
      "./dog_classes2\\images\\image\\train\\29_YORKSHIRE_TERRIER\\19.jpg\n",
      "./dog_classes2\\images\\image\\train\\29_YORKSHIRE_TERRIER\\190.jpg\n",
      "./dog_classes2\\images\\image\\train\\29_YORKSHIRE_TERRIER\\191.jpg\n",
      "./dog_classes2\\images\\image\\train\\29_YORKSHIRE_TERRIER\\192.jpg\n",
      "./dog_classes2\\images\\image\\train\\29_YORKSHIRE_TERRIER\\193.jpg"
     ]
    },
    {
     "name": "stderr",
     "output_type": "stream",
     "text": [
      "\r",
      ".-dog_classes2\\images\\image\\train\\29_YORKSHIRE_TERRIER:  52%|██████████▉          | 113/218 [00:01<00:01, 71.79files/s]"
     ]
    },
    {
     "name": "stdout",
     "output_type": "stream",
     "text": [
      "\n",
      "./dog_classes2\\images\\image\\train\\29_YORKSHIRE_TERRIER\\194.jpg\n",
      "./dog_classes2\\images\\image\\train\\29_YORKSHIRE_TERRIER\\195.jpg\n",
      "./dog_classes2\\images\\image\\train\\29_YORKSHIRE_TERRIER\\196.jpg\n",
      "./dog_classes2\\images\\image\\train\\29_YORKSHIRE_TERRIER\\197.jpg\n",
      "./dog_classes2\\images\\image\\train\\29_YORKSHIRE_TERRIER\\198.jpg\n",
      "./dog_classes2\\images\\image\\train\\29_YORKSHIRE_TERRIER\\199.jpg\n",
      "./dog_classes2\\images\\image\\train\\29_YORKSHIRE_TERRIER\\2.jpg\n",
      "./dog_classes2\\images\\image\\train\\29_YORKSHIRE_TERRIER\\20.jpg\n",
      "./dog_classes2\\images\\image\\train\\29_YORKSHIRE_TERRIER\\200.jpg\n",
      "./dog_classes2\\images\\image\\train\\29_YORKSHIRE_TERRIER\\201.jpg\n",
      "./dog_classes2\\images\\image\\train\\29_YORKSHIRE_TERRIER\\202.jpg\n",
      "./dog_classes2\\images\\image\\train\\29_YORKSHIRE_TERRIER\\203.jpg\n",
      "./dog_classes2\\images\\image\\train\\29_YORKSHIRE_TERRIER\\204.jpg\n",
      "./dog_classes2\\images\\image\\train\\29_YORKSHIRE_TERRIER\\205.jpg"
     ]
    },
    {
     "name": "stderr",
     "output_type": "stream",
     "text": [
      ".-dog_classes2\\images\\image\\train\\29_YORKSHIRE_TERRIER:  59%|████████████▍        | 129/218 [00:01<00:01, 70.58files/s]"
     ]
    },
    {
     "name": "stdout",
     "output_type": "stream",
     "text": [
      "\n",
      "./dog_classes2\\images\\image\\train\\29_YORKSHIRE_TERRIER\\206.jpg\n",
      "./dog_classes2\\images\\image\\train\\29_YORKSHIRE_TERRIER\\207.jpg\n",
      "./dog_classes2\\images\\image\\train\\29_YORKSHIRE_TERRIER\\208.jpg\n",
      "./dog_classes2\\images\\image\\train\\29_YORKSHIRE_TERRIER\\209.jpg\n",
      "./dog_classes2\\images\\image\\train\\29_YORKSHIRE_TERRIER\\21.jpg\n",
      "./dog_classes2\\images\\image\\train\\29_YORKSHIRE_TERRIER\\210.jpg\n",
      "./dog_classes2\\images\\image\\train\\29_YORKSHIRE_TERRIER\\211.jpg\n",
      "./dog_classes2\\images\\image\\train\\29_YORKSHIRE_TERRIER\\212.jpg\n",
      "./dog_classes2\\images\\image\\train\\29_YORKSHIRE_TERRIER\\213.jpg\n",
      "./dog_classes2\\images\\image\\train\\29_YORKSHIRE_TERRIER\\214.jpg\n",
      "./dog_classes2\\images\\image\\train\\29_YORKSHIRE_TERRIER\\215.jpg\n",
      "./dog_classes2\\images\\image\\train\\29_YORKSHIRE_TERRIER\\216.jpg\n",
      "./dog_classes2\\images\\image\\train\\29_YORKSHIRE_TERRIER\\217.jpg"
     ]
    },
    {
     "name": "stderr",
     "output_type": "stream",
     "text": [
      "\r",
      ".-dog_classes2\\images\\image\\train\\29_YORKSHIRE_TERRIER:  63%|█████████████▏       | 137/218 [00:01<00:01, 70.70files/s]"
     ]
    },
    {
     "name": "stdout",
     "output_type": "stream",
     "text": [
      "\n",
      "./dog_classes2\\images\\image\\train\\29_YORKSHIRE_TERRIER\\22.jpg\n",
      "./dog_classes2\\images\\image\\train\\29_YORKSHIRE_TERRIER\\23.jpg\n",
      "./dog_classes2\\images\\image\\train\\29_YORKSHIRE_TERRIER\\24.jpg\n",
      "./dog_classes2\\images\\image\\train\\29_YORKSHIRE_TERRIER\\25.jpg\n",
      "./dog_classes2\\images\\image\\train\\29_YORKSHIRE_TERRIER\\26.jpg\n",
      "./dog_classes2\\images\\image\\train\\29_YORKSHIRE_TERRIER\\27.jpg\n",
      "./dog_classes2\\images\\image\\train\\29_YORKSHIRE_TERRIER\\28.jpg\n",
      "./dog_classes2\\images\\image\\train\\29_YORKSHIRE_TERRIER\\29.jpg\n",
      "./dog_classes2\\images\\image\\train\\29_YORKSHIRE_TERRIER\\3.jpg\n",
      "./dog_classes2\\images\\image\\train\\29_YORKSHIRE_TERRIER\\30.jpg\n",
      "./dog_classes2\\images\\image\\train\\29_YORKSHIRE_TERRIER\\31.jpg\n",
      "./dog_classes2\\images\\image\\train\\29_YORKSHIRE_TERRIER\\32.jpg\n"
     ]
    },
    {
     "name": "stderr",
     "output_type": "stream",
     "text": [
      ".-dog_classes2\\images\\image\\train\\29_YORKSHIRE_TERRIER:  70%|██████████████▋      | 152/218 [00:02<00:00, 66.99files/s]"
     ]
    },
    {
     "name": "stdout",
     "output_type": "stream",
     "text": [
      "./dog_classes2\\images\\image\\train\\29_YORKSHIRE_TERRIER\\33.jpg\n",
      "./dog_classes2\\images\\image\\train\\29_YORKSHIRE_TERRIER\\34.jpg\n",
      "./dog_classes2\\images\\image\\train\\29_YORKSHIRE_TERRIER\\35.jpg\n",
      "./dog_classes2\\images\\image\\train\\29_YORKSHIRE_TERRIER\\36.jpg\n",
      "./dog_classes2\\images\\image\\train\\29_YORKSHIRE_TERRIER\\37.jpg\n",
      "./dog_classes2\\images\\image\\train\\29_YORKSHIRE_TERRIER\\38.jpg\n",
      "./dog_classes2\\images\\image\\train\\29_YORKSHIRE_TERRIER\\39.jpg\n",
      "./dog_classes2\\images\\image\\train\\29_YORKSHIRE_TERRIER\\4.jpg\n",
      "./dog_classes2\\images\\image\\train\\29_YORKSHIRE_TERRIER\\40.jpg\n",
      "./dog_classes2\\images\\image\\train\\29_YORKSHIRE_TERRIER\\41.jpg\n",
      "./dog_classes2\\images\\image\\train\\29_YORKSHIRE_TERRIER\\42.jpg\n",
      "./dog_classes2\\images\\image\\train\\29_YORKSHIRE_TERRIER\\43.jpg\n",
      "./dog_classes2\\images\\image\\train\\29_YORKSHIRE_TERRIER\\44.jpg\n",
      "./dog_classes2\\images\\image\\train\\29_YORKSHIRE_TERRIER\\45.jpg"
     ]
    },
    {
     "name": "stderr",
     "output_type": "stream",
     "text": [
      ".-dog_classes2\\images\\image\\train\\29_YORKSHIRE_TERRIER:  77%|████████████████     | 167/218 [00:02<00:00, 69.67files/s]"
     ]
    },
    {
     "name": "stdout",
     "output_type": "stream",
     "text": [
      "\n",
      "./dog_classes2\\images\\image\\train\\29_YORKSHIRE_TERRIER\\46.jpg\n",
      "./dog_classes2\\images\\image\\train\\29_YORKSHIRE_TERRIER\\47.jpg\n",
      "./dog_classes2\\images\\image\\train\\29_YORKSHIRE_TERRIER\\48.jpg\n",
      "./dog_classes2\\images\\image\\train\\29_YORKSHIRE_TERRIER\\49.jpg\n",
      "./dog_classes2\\images\\image\\train\\29_YORKSHIRE_TERRIER\\5.jpg\n",
      "./dog_classes2\\images\\image\\train\\29_YORKSHIRE_TERRIER\\50.jpg\n",
      "./dog_classes2\\images\\image\\train\\29_YORKSHIRE_TERRIER\\51.jpg\n",
      "./dog_classes2\\images\\image\\train\\29_YORKSHIRE_TERRIER\\52.jpg\n",
      "./dog_classes2\\images\\image\\train\\29_YORKSHIRE_TERRIER\\53.jpg\n",
      "./dog_classes2\\images\\image\\train\\29_YORKSHIRE_TERRIER\\54.jpg\n",
      "./dog_classes2\\images\\image\\train\\29_YORKSHIRE_TERRIER\\55.jpg\n",
      "./dog_classes2\\images\\image\\train\\29_YORKSHIRE_TERRIER\\56.jpg\n",
      "./dog_classes2\\images\\image\\train\\29_YORKSHIRE_TERRIER\\57.jpg\n",
      "./dog_classes2\\images\\image\\train\\29_YORKSHIRE_TERRIER\\58.jpg"
     ]
    },
    {
     "name": "stderr",
     "output_type": "stream",
     "text": [
      ".-dog_classes2\\images\\image\\train\\29_YORKSHIRE_TERRIER:  83%|█████████████████▌   | 182/218 [00:02<00:00, 67.70files/s]"
     ]
    },
    {
     "name": "stdout",
     "output_type": "stream",
     "text": [
      "\n",
      "./dog_classes2\\images\\image\\train\\29_YORKSHIRE_TERRIER\\59.jpg\n",
      "./dog_classes2\\images\\image\\train\\29_YORKSHIRE_TERRIER\\6.jpg\n",
      "./dog_classes2\\images\\image\\train\\29_YORKSHIRE_TERRIER\\60.jpg\n",
      "./dog_classes2\\images\\image\\train\\29_YORKSHIRE_TERRIER\\61.jpg\n",
      "./dog_classes2\\images\\image\\train\\29_YORKSHIRE_TERRIER\\62.jpg\n",
      "./dog_classes2\\images\\image\\train\\29_YORKSHIRE_TERRIER\\63.jpg\n",
      "./dog_classes2\\images\\image\\train\\29_YORKSHIRE_TERRIER\\64.jpg\n",
      "./dog_classes2\\images\\image\\train\\29_YORKSHIRE_TERRIER\\65.jpg\n",
      "./dog_classes2\\images\\image\\train\\29_YORKSHIRE_TERRIER\\66.jpg\n",
      "./dog_classes2\\images\\image\\train\\29_YORKSHIRE_TERRIER\\67.jpg\n",
      "./dog_classes2\\images\\image\\train\\29_YORKSHIRE_TERRIER\\68.jpg\n",
      "./dog_classes2\\images\\image\\train\\29_YORKSHIRE_TERRIER\\69.jpg"
     ]
    },
    {
     "name": "stderr",
     "output_type": "stream",
     "text": [
      "\r",
      ".-dog_classes2\\images\\image\\train\\29_YORKSHIRE_TERRIER:  87%|██████████████████▎  | 190/218 [00:02<00:00, 69.73files/s]"
     ]
    },
    {
     "name": "stdout",
     "output_type": "stream",
     "text": [
      "\n",
      "./dog_classes2\\images\\image\\train\\29_YORKSHIRE_TERRIER\\7.jpg\n",
      "./dog_classes2\\images\\image\\train\\29_YORKSHIRE_TERRIER\\70.jpg\n",
      "./dog_classes2\\images\\image\\train\\29_YORKSHIRE_TERRIER\\71.jpg\n",
      "./dog_classes2\\images\\image\\train\\29_YORKSHIRE_TERRIER\\72.jpg\n",
      "./dog_classes2\\images\\image\\train\\29_YORKSHIRE_TERRIER\\73.jpg\n",
      "./dog_classes2\\images\\image\\train\\29_YORKSHIRE_TERRIER\\74.jpg\n",
      "./dog_classes2\\images\\image\\train\\29_YORKSHIRE_TERRIER\\75.jpg\n",
      "./dog_classes2\\images\\image\\train\\29_YORKSHIRE_TERRIER\\76.jpg\n",
      "./dog_classes2\\images\\image\\train\\29_YORKSHIRE_TERRIER\\77.jpg\n",
      "./dog_classes2\\images\\image\\train\\29_YORKSHIRE_TERRIER\\78.jpg"
     ]
    },
    {
     "name": "stderr",
     "output_type": "stream",
     "text": [
      ".-dog_classes2\\images\\image\\train\\29_YORKSHIRE_TERRIER:  94%|███████████████████▊ | 206/218 [00:02<00:00, 67.05files/s]"
     ]
    },
    {
     "name": "stdout",
     "output_type": "stream",
     "text": [
      "\n",
      "./dog_classes2\\images\\image\\train\\29_YORKSHIRE_TERRIER\\79.jpg\n",
      "./dog_classes2\\images\\image\\train\\29_YORKSHIRE_TERRIER\\8.jpg\n",
      "./dog_classes2\\images\\image\\train\\29_YORKSHIRE_TERRIER\\80.jpg\n",
      "./dog_classes2\\images\\image\\train\\29_YORKSHIRE_TERRIER\\81.jpg\n",
      "./dog_classes2\\images\\image\\train\\29_YORKSHIRE_TERRIER\\82.jpg\n",
      "./dog_classes2\\images\\image\\train\\29_YORKSHIRE_TERRIER\\83.jpg\n",
      "./dog_classes2\\images\\image\\train\\29_YORKSHIRE_TERRIER\\84.jpg\n",
      "./dog_classes2\\images\\image\\train\\29_YORKSHIRE_TERRIER\\85.jpg\n",
      "./dog_classes2\\images\\image\\train\\29_YORKSHIRE_TERRIER\\86.jpg\n",
      "./dog_classes2\\images\\image\\train\\29_YORKSHIRE_TERRIER\\87.jpg\n",
      "./dog_classes2\\images\\image\\train\\29_YORKSHIRE_TERRIER\\88.jpg\n",
      "./dog_classes2\\images\\image\\train\\29_YORKSHIRE_TERRIER\\89.jpg\n",
      "./dog_classes2\\images\\image\\train\\29_YORKSHIRE_TERRIER\\9.jpg\n",
      "./dog_classes2\\images\\image\\train\\29_YORKSHIRE_TERRIER\\90.jpg\n",
      "./dog_classes2\\images\\image\\train\\29_YORKSHIRE_TERRIER\\91.jpg"
     ]
    },
    {
     "name": "stderr",
     "output_type": "stream",
     "text": [
      ".-dog_classes2\\images\\image\\train\\30_SAMOYED:   0%|                                         | 0/250 [00:00<?, ?files/s]"
     ]
    },
    {
     "name": "stdout",
     "output_type": "stream",
     "text": [
      "\n",
      "./dog_classes2\\images\\image\\train\\29_YORKSHIRE_TERRIER\\92.jpg\n",
      "./dog_classes2\\images\\image\\train\\29_YORKSHIRE_TERRIER\\93.jpg\n",
      "./dog_classes2\\images\\image\\train\\29_YORKSHIRE_TERRIER\\94.jpg\n",
      "./dog_classes2\\images\\image\\train\\29_YORKSHIRE_TERRIER\\95.jpg\n",
      "./dog_classes2\\images\\image\\train\\29_YORKSHIRE_TERRIER\\96.jpg\n",
      "./dog_classes2\\images\\image\\train\\29_YORKSHIRE_TERRIER\\97.jpg\n",
      "./dog_classes2\\images\\image\\train\\29_YORKSHIRE_TERRIER\\98.jpg\n",
      "./dog_classes2\\images\\image\\train\\29_YORKSHIRE_TERRIER\\99.jpg\n",
      "./dog_classes2\\images\\image\\train\\30_SAMOYED\\0.jpg\n",
      "./dog_classes2\\images\\image\\train\\30_SAMOYED\\1.jpg\n",
      "./dog_classes2\\images\\image\\train\\30_SAMOYED\\10.jpg\n",
      "./dog_classes2\\images\\image\\train\\30_SAMOYED\\100.jpg\n",
      "./dog_classes2\\images\\image\\train\\30_SAMOYED\\101.jpg"
     ]
    },
    {
     "name": "stderr",
     "output_type": "stream",
     "text": [
      ".-dog_classes2\\images\\image\\train\\30_SAMOYED:   5%|█▋                              | 13/250 [00:00<00:03, 61.42files/s]"
     ]
    },
    {
     "name": "stdout",
     "output_type": "stream",
     "text": [
      "\n",
      "./dog_classes2\\images\\image\\train\\30_SAMOYED\\102.jpg\n",
      "./dog_classes2\\images\\image\\train\\30_SAMOYED\\103.jpg\n",
      "./dog_classes2\\images\\image\\train\\30_SAMOYED\\104.jpg\n",
      "./dog_classes2\\images\\image\\train\\30_SAMOYED\\105.jpg\n",
      "./dog_classes2\\images\\image\\train\\30_SAMOYED\\106.jpg\n",
      "./dog_classes2\\images\\image\\train\\30_SAMOYED\\107.jpg\n",
      "./dog_classes2\\images\\image\\train\\30_SAMOYED\\108.jpg\n",
      "./dog_classes2\\images\\image\\train\\30_SAMOYED\\109.jpg\n",
      "./dog_classes2\\images\\image\\train\\30_SAMOYED\\11.jpg\n",
      "./dog_classes2\\images\\image\\train\\30_SAMOYED\\110.jpg\n",
      "./dog_classes2\\images\\image\\train\\30_SAMOYED\\111.jpg\n",
      "./dog_classes2\\images\\image\\train\\30_SAMOYED\\112.jpg"
     ]
    },
    {
     "name": "stderr",
     "output_type": "stream",
     "text": [
      ".-dog_classes2\\images\\image\\train\\30_SAMOYED:  11%|███▌                            | 28/250 [00:00<00:03, 67.23files/s]"
     ]
    },
    {
     "name": "stdout",
     "output_type": "stream",
     "text": [
      "\n",
      "./dog_classes2\\images\\image\\train\\30_SAMOYED\\113.jpg\n",
      "./dog_classes2\\images\\image\\train\\30_SAMOYED\\114.jpg\n",
      "./dog_classes2\\images\\image\\train\\30_SAMOYED\\115.jpg\n",
      "./dog_classes2\\images\\image\\train\\30_SAMOYED\\116.jpg\n",
      "./dog_classes2\\images\\image\\train\\30_SAMOYED\\117.jpg\n",
      "./dog_classes2\\images\\image\\train\\30_SAMOYED\\118.jpg\n",
      "./dog_classes2\\images\\image\\train\\30_SAMOYED\\119.jpg\n",
      "./dog_classes2\\images\\image\\train\\30_SAMOYED\\12.jpg\n",
      "./dog_classes2\\images\\image\\train\\30_SAMOYED\\120.jpg\n",
      "./dog_classes2\\images\\image\\train\\30_SAMOYED\\121.jpg\n",
      "./dog_classes2\\images\\image\\train\\30_SAMOYED\\122.jpg\n",
      "./dog_classes2\\images\\image\\train\\30_SAMOYED\\123.jpg\n",
      "./dog_classes2\\images\\image\\train\\30_SAMOYED\\124.jpg\n",
      "./dog_classes2\\images\\image\\train\\30_SAMOYED\\125.jpg"
     ]
    },
    {
     "name": "stderr",
     "output_type": "stream",
     "text": [
      "\r",
      ".-dog_classes2\\images\\image\\train\\30_SAMOYED:  14%|████▌                           | 36/250 [00:00<00:03, 66.12files/s]"
     ]
    },
    {
     "name": "stdout",
     "output_type": "stream",
     "text": [
      "\n",
      "./dog_classes2\\images\\image\\train\\30_SAMOYED\\126.jpg\n",
      "./dog_classes2\\images\\image\\train\\30_SAMOYED\\127.jpg\n",
      "./dog_classes2\\images\\image\\train\\30_SAMOYED\\128.jpg\n",
      "./dog_classes2\\images\\image\\train\\30_SAMOYED\\129.jpg\n",
      "./dog_classes2\\images\\image\\train\\30_SAMOYED\\13.jpg\n",
      "./dog_classes2\\images\\image\\train\\30_SAMOYED\\130.jpg\n",
      "./dog_classes2\\images\\image\\train\\30_SAMOYED\\131.jpg\n",
      "./dog_classes2\\images\\image\\train\\30_SAMOYED\\132.jpg\n",
      "./dog_classes2\\images\\image\\train\\30_SAMOYED\\133.jpg\n",
      "./dog_classes2\\images\\image\\train\\30_SAMOYED\\134.jpg\n",
      "./dog_classes2\\images\\image\\train\\30_SAMOYED\\135.jpg\n",
      "./dog_classes2\\images\\image\\train\\30_SAMOYED\\136.jpg\n",
      "./dog_classes2\\images\\image\\train\\30_SAMOYED\\137.jpg\n",
      "./dog_classes2\\images\\image\\train\\30_SAMOYED\\138.jpg"
     ]
    },
    {
     "name": "stderr",
     "output_type": "stream",
     "text": [
      ".-dog_classes2\\images\\image\\train\\30_SAMOYED:  21%|██████▋                         | 52/250 [00:00<00:02, 69.57files/s]"
     ]
    },
    {
     "name": "stdout",
     "output_type": "stream",
     "text": [
      "\n",
      "./dog_classes2\\images\\image\\train\\30_SAMOYED\\139.jpg\n",
      "./dog_classes2\\images\\image\\train\\30_SAMOYED\\14.jpg\n",
      "./dog_classes2\\images\\image\\train\\30_SAMOYED\\140.jpg\n",
      "./dog_classes2\\images\\image\\train\\30_SAMOYED\\141.jpg\n",
      "./dog_classes2\\images\\image\\train\\30_SAMOYED\\142.jpg\n",
      "./dog_classes2\\images\\image\\train\\30_SAMOYED\\143.jpg\n",
      "./dog_classes2\\images\\image\\train\\30_SAMOYED\\144.jpg\n",
      "./dog_classes2\\images\\image\\train\\30_SAMOYED\\145.jpg\n",
      "./dog_classes2\\images\\image\\train\\30_SAMOYED\\146.jpg\n",
      "./dog_classes2\\images\\image\\train\\30_SAMOYED\\147.jpg\n",
      "./dog_classes2\\images\\image\\train\\30_SAMOYED\\148.jpg\n",
      "./dog_classes2\\images\\image\\train\\30_SAMOYED\\149.jpg\n",
      "./dog_classes2\\images\\image\\train\\30_SAMOYED\\15.jpg"
     ]
    },
    {
     "name": "stderr",
     "output_type": "stream",
     "text": [
      ".-dog_classes2\\images\\image\\train\\30_SAMOYED:  27%|████████▋                       | 68/250 [00:00<00:02, 72.46files/s]"
     ]
    },
    {
     "name": "stdout",
     "output_type": "stream",
     "text": [
      "\n",
      "./dog_classes2\\images\\image\\train\\30_SAMOYED\\150.jpg\n",
      "./dog_classes2\\images\\image\\train\\30_SAMOYED\\151.jpg\n",
      "./dog_classes2\\images\\image\\train\\30_SAMOYED\\152.jpg\n",
      "./dog_classes2\\images\\image\\train\\30_SAMOYED\\153.jpg\n",
      "./dog_classes2\\images\\image\\train\\30_SAMOYED\\154.jpg\n",
      "./dog_classes2\\images\\image\\train\\30_SAMOYED\\155.jpg\n",
      "./dog_classes2\\images\\image\\train\\30_SAMOYED\\156.jpg\n",
      "./dog_classes2\\images\\image\\train\\30_SAMOYED\\157.jpg\n",
      "./dog_classes2\\images\\image\\train\\30_SAMOYED\\158.jpg\n",
      "./dog_classes2\\images\\image\\train\\30_SAMOYED\\159.jpg\n",
      "./dog_classes2\\images\\image\\train\\30_SAMOYED\\16.jpg\n",
      "./dog_classes2\\images\\image\\train\\30_SAMOYED\\160.jpg\n",
      "./dog_classes2\\images\\image\\train\\30_SAMOYED\\161.jpg\n",
      "./dog_classes2\\images\\image\\train\\30_SAMOYED\\162.jpg"
     ]
    },
    {
     "name": "stderr",
     "output_type": "stream",
     "text": [
      ".-dog_classes2\\images\\image\\train\\30_SAMOYED:  34%|██████████▊                     | 84/250 [00:01<00:02, 73.11files/s]"
     ]
    },
    {
     "name": "stdout",
     "output_type": "stream",
     "text": [
      "\n",
      "./dog_classes2\\images\\image\\train\\30_SAMOYED\\163.jpg\n",
      "./dog_classes2\\images\\image\\train\\30_SAMOYED\\164.jpg\n",
      "./dog_classes2\\images\\image\\train\\30_SAMOYED\\165.jpg\n",
      "./dog_classes2\\images\\image\\train\\30_SAMOYED\\166.jpg\n",
      "./dog_classes2\\images\\image\\train\\30_SAMOYED\\167.jpg\n",
      "./dog_classes2\\images\\image\\train\\30_SAMOYED\\168.jpg\n",
      "./dog_classes2\\images\\image\\train\\30_SAMOYED\\169.jpg\n",
      "./dog_classes2\\images\\image\\train\\30_SAMOYED\\17.jpg\n",
      "./dog_classes2\\images\\image\\train\\30_SAMOYED\\170.jpg\n",
      "./dog_classes2\\images\\image\\train\\30_SAMOYED\\171.jpg\n",
      "./dog_classes2\\images\\image\\train\\30_SAMOYED\\172.jpg\n",
      "./dog_classes2\\images\\image\\train\\30_SAMOYED\\173.jpg\n",
      "./dog_classes2\\images\\image\\train\\30_SAMOYED\\174.jpg\n",
      "./dog_classes2\\images\\image\\train\\30_SAMOYED\\175.jpg"
     ]
    },
    {
     "name": "stderr",
     "output_type": "stream",
     "text": [
      "\r",
      ".-dog_classes2\\images\\image\\train\\30_SAMOYED:  37%|███████████▊                    | 92/250 [00:01<00:02, 74.90files/s]"
     ]
    },
    {
     "name": "stdout",
     "output_type": "stream",
     "text": [
      "\n",
      "./dog_classes2\\images\\image\\train\\30_SAMOYED\\176.jpg\n",
      "./dog_classes2\\images\\image\\train\\30_SAMOYED\\177.jpg\n",
      "./dog_classes2\\images\\image\\train\\30_SAMOYED\\178.jpg\n",
      "./dog_classes2\\images\\image\\train\\30_SAMOYED\\179.jpg\n",
      "./dog_classes2\\images\\image\\train\\30_SAMOYED\\18.jpg\n",
      "./dog_classes2\\images\\image\\train\\30_SAMOYED\\180.jpg\n",
      "./dog_classes2\\images\\image\\train\\30_SAMOYED\\181.jpg\n",
      "./dog_classes2\\images\\image\\train\\30_SAMOYED\\182.jpg\n",
      "./dog_classes2\\images\\image\\train\\30_SAMOYED\\183.jpg\n",
      "./dog_classes2\\images\\image\\train\\30_SAMOYED\\184.jpg\n",
      "./dog_classes2\\images\\image\\train\\30_SAMOYED\\185.jpg\n",
      "./dog_classes2\\images\\image\\train\\30_SAMOYED\\186.jpg\n",
      "./dog_classes2\\images\\image\\train\\30_SAMOYED\\187.jpg\n",
      "./dog_classes2\\images\\image\\train\\30_SAMOYED\\188.jpg\n",
      "./dog_classes2\\images\\image\\train\\30_SAMOYED\\189.jpg"
     ]
    },
    {
     "name": "stderr",
     "output_type": "stream",
     "text": [
      ".-dog_classes2\\images\\image\\train\\30_SAMOYED:  44%|█████████████▌                 | 109/250 [00:01<00:01, 75.40files/s]"
     ]
    },
    {
     "name": "stdout",
     "output_type": "stream",
     "text": [
      "\n",
      "./dog_classes2\\images\\image\\train\\30_SAMOYED\\19.jpg\n",
      "./dog_classes2\\images\\image\\train\\30_SAMOYED\\190.jpg\n",
      "./dog_classes2\\images\\image\\train\\30_SAMOYED\\191.jpg\n",
      "./dog_classes2\\images\\image\\train\\30_SAMOYED\\192.jpg\n",
      "./dog_classes2\\images\\image\\train\\30_SAMOYED\\193.jpg\n",
      "./dog_classes2\\images\\image\\train\\30_SAMOYED\\194.jpg\n",
      "./dog_classes2\\images\\image\\train\\30_SAMOYED\\195.jpg\n",
      "./dog_classes2\\images\\image\\train\\30_SAMOYED\\196.jpg\n",
      "./dog_classes2\\images\\image\\train\\30_SAMOYED\\197.jpg\n",
      "./dog_classes2\\images\\image\\train\\30_SAMOYED\\198.jpg\n",
      "./dog_classes2\\images\\image\\train\\30_SAMOYED\\199.jpg\n",
      "./dog_classes2\\images\\image\\train\\30_SAMOYED\\2.jpg\n",
      "./dog_classes2\\images\\image\\train\\30_SAMOYED\\20.jpg\n",
      "./dog_classes2\\images\\image\\train\\30_SAMOYED\\200.jpg"
     ]
    },
    {
     "name": "stderr",
     "output_type": "stream",
     "text": [
      ".-dog_classes2\\images\\image\\train\\30_SAMOYED:  50%|███████████████▌               | 125/250 [00:01<00:01, 76.10files/s]"
     ]
    },
    {
     "name": "stdout",
     "output_type": "stream",
     "text": [
      "\n",
      "./dog_classes2\\images\\image\\train\\30_SAMOYED\\201.jpg\n",
      "./dog_classes2\\images\\image\\train\\30_SAMOYED\\202.jpg\n",
      "./dog_classes2\\images\\image\\train\\30_SAMOYED\\203.jpg\n",
      "./dog_classes2\\images\\image\\train\\30_SAMOYED\\204.jpg\n",
      "./dog_classes2\\images\\image\\train\\30_SAMOYED\\205.jpg\n",
      "./dog_classes2\\images\\image\\train\\30_SAMOYED\\206.jpg\n",
      "./dog_classes2\\images\\image\\train\\30_SAMOYED\\207.jpg\n",
      "./dog_classes2\\images\\image\\train\\30_SAMOYED\\208.jpg\n",
      "./dog_classes2\\images\\image\\train\\30_SAMOYED\\209.jpg\n",
      "./dog_classes2\\images\\image\\train\\30_SAMOYED\\21.jpg\n",
      "./dog_classes2\\images\\image\\train\\30_SAMOYED\\210.jpg\n",
      "./dog_classes2\\images\\image\\train\\30_SAMOYED\\211.jpg\n",
      "./dog_classes2\\images\\image\\train\\30_SAMOYED\\212.jpg\n",
      "./dog_classes2\\images\\image\\train\\30_SAMOYED\\213.jpg"
     ]
    },
    {
     "name": "stderr",
     "output_type": "stream",
     "text": [
      ".-dog_classes2\\images\\image\\train\\30_SAMOYED:  56%|█████████████████▍             | 141/250 [00:01<00:01, 73.73files/s]"
     ]
    },
    {
     "name": "stdout",
     "output_type": "stream",
     "text": [
      "\n",
      "./dog_classes2\\images\\image\\train\\30_SAMOYED\\214.jpg\n",
      "./dog_classes2\\images\\image\\train\\30_SAMOYED\\215.jpg\n",
      "./dog_classes2\\images\\image\\train\\30_SAMOYED\\216.jpg\n",
      "./dog_classes2\\images\\image\\train\\30_SAMOYED\\217.jpg\n",
      "./dog_classes2\\images\\image\\train\\30_SAMOYED\\218.jpg\n",
      "./dog_classes2\\images\\image\\train\\30_SAMOYED\\219.jpg\n",
      "./dog_classes2\\images\\image\\train\\30_SAMOYED\\22.jpg\n",
      "./dog_classes2\\images\\image\\train\\30_SAMOYED\\220.jpg\n",
      "./dog_classes2\\images\\image\\train\\30_SAMOYED\\221.jpg\n",
      "./dog_classes2\\images\\image\\train\\30_SAMOYED\\222.jpg\n",
      "./dog_classes2\\images\\image\\train\\30_SAMOYED\\223.jpg\n",
      "./dog_classes2\\images\\image\\train\\30_SAMOYED\\224.jpg\n",
      "./dog_classes2\\images\\image\\train\\30_SAMOYED\\225.jpg"
     ]
    },
    {
     "name": "stderr",
     "output_type": "stream",
     "text": [
      "\r",
      ".-dog_classes2\\images\\image\\train\\30_SAMOYED:  60%|██████████████████▍            | 149/250 [00:02<00:01, 71.52files/s]"
     ]
    },
    {
     "name": "stdout",
     "output_type": "stream",
     "text": [
      "\n",
      "./dog_classes2\\images\\image\\train\\30_SAMOYED\\226.jpg\n",
      "./dog_classes2\\images\\image\\train\\30_SAMOYED\\227.jpg\n",
      "./dog_classes2\\images\\image\\train\\30_SAMOYED\\228.jpg\n",
      "./dog_classes2\\images\\image\\train\\30_SAMOYED\\229.jpg\n",
      "./dog_classes2\\images\\image\\train\\30_SAMOYED\\23.jpg\n",
      "./dog_classes2\\images\\image\\train\\30_SAMOYED\\230.jpg\n",
      "./dog_classes2\\images\\image\\train\\30_SAMOYED\\231.jpg\n",
      "./dog_classes2\\images\\image\\train\\30_SAMOYED\\232.jpg\n",
      "./dog_classes2\\images\\image\\train\\30_SAMOYED\\233.jpg\n",
      "./dog_classes2\\images\\image\\train\\30_SAMOYED\\234.jpg\n",
      "./dog_classes2\\images\\image\\train\\30_SAMOYED\\235.jpg\n",
      "./dog_classes2\\images\\image\\train\\30_SAMOYED\\236.jpg\n",
      "./dog_classes2\\images\\image\\train\\30_SAMOYED\\237.jpg"
     ]
    },
    {
     "name": "stderr",
     "output_type": "stream",
     "text": [
      ".-dog_classes2\\images\\image\\train\\30_SAMOYED:  66%|████████████████████▍          | 165/250 [00:02<00:01, 68.52files/s]"
     ]
    },
    {
     "name": "stdout",
     "output_type": "stream",
     "text": [
      "\n",
      "./dog_classes2\\images\\image\\train\\30_SAMOYED\\238.jpg\n",
      "./dog_classes2\\images\\image\\train\\30_SAMOYED\\239.jpg\n",
      "./dog_classes2\\images\\image\\train\\30_SAMOYED\\24.jpg\n",
      "./dog_classes2\\images\\image\\train\\30_SAMOYED\\240.jpg\n",
      "./dog_classes2\\images\\image\\train\\30_SAMOYED\\241.jpg\n",
      "./dog_classes2\\images\\image\\train\\30_SAMOYED\\242.jpg\n",
      "./dog_classes2\\images\\image\\train\\30_SAMOYED\\243.jpg\n",
      "./dog_classes2\\images\\image\\train\\30_SAMOYED\\244.jpg\n",
      "./dog_classes2\\images\\image\\train\\30_SAMOYED\\245.jpg\n",
      "./dog_classes2\\images\\image\\train\\30_SAMOYED\\246.jpg\n",
      "./dog_classes2\\images\\image\\train\\30_SAMOYED\\247.jpg\n",
      "./dog_classes2\\images\\image\\train\\30_SAMOYED\\248.jpg\n",
      "./dog_classes2\\images\\image\\train\\30_SAMOYED\\249.jpg"
     ]
    },
    {
     "name": "stderr",
     "output_type": "stream",
     "text": [
      ".-dog_classes2\\images\\image\\train\\30_SAMOYED:  72%|██████████████████████▏        | 179/250 [00:02<00:01, 67.81files/s]"
     ]
    },
    {
     "name": "stdout",
     "output_type": "stream",
     "text": [
      "\n",
      "./dog_classes2\\images\\image\\train\\30_SAMOYED\\25.jpg\n",
      "./dog_classes2\\images\\image\\train\\30_SAMOYED\\26.jpg\n",
      "./dog_classes2\\images\\image\\train\\30_SAMOYED\\27.jpg\n",
      "./dog_classes2\\images\\image\\train\\30_SAMOYED\\28.jpg\n",
      "./dog_classes2\\images\\image\\train\\30_SAMOYED\\29.jpg\n",
      "./dog_classes2\\images\\image\\train\\30_SAMOYED\\3.jpg\n",
      "./dog_classes2\\images\\image\\train\\30_SAMOYED\\30.jpg\n",
      "./dog_classes2\\images\\image\\train\\30_SAMOYED\\31.jpg\n",
      "./dog_classes2\\images\\image\\train\\30_SAMOYED\\32.jpg\n",
      "./dog_classes2\\images\\image\\train\\30_SAMOYED\\33.jpg\n",
      "./dog_classes2\\images\\image\\train\\30_SAMOYED\\34.jpg\n",
      "./dog_classes2\\images\\image\\train\\30_SAMOYED\\35.jpg"
     ]
    },
    {
     "name": "stderr",
     "output_type": "stream",
     "text": [
      "\r",
      ".-dog_classes2\\images\\image\\train\\30_SAMOYED:  74%|███████████████████████        | 186/250 [00:02<00:00, 67.91files/s]"
     ]
    },
    {
     "name": "stdout",
     "output_type": "stream",
     "text": [
      "\n",
      "./dog_classes2\\images\\image\\train\\30_SAMOYED\\36.jpg\n",
      "./dog_classes2\\images\\image\\train\\30_SAMOYED\\37.jpg\n",
      "./dog_classes2\\images\\image\\train\\30_SAMOYED\\38.jpg\n",
      "./dog_classes2\\images\\image\\train\\30_SAMOYED\\39.jpg\n",
      "./dog_classes2\\images\\image\\train\\30_SAMOYED\\4.jpg\n",
      "./dog_classes2\\images\\image\\train\\30_SAMOYED\\40.jpg\n",
      "./dog_classes2\\images\\image\\train\\30_SAMOYED\\41.jpg\n",
      "./dog_classes2\\images\\image\\train\\30_SAMOYED\\42.jpg\n",
      "./dog_classes2\\images\\image\\train\\30_SAMOYED\\43.jpg\n",
      "./dog_classes2\\images\\image\\train\\30_SAMOYED\\44.jpg\n",
      "./dog_classes2\\images\\image\\train\\30_SAMOYED\\45.jpg\n",
      "./dog_classes2\\images\\image\\train\\30_SAMOYED\\46.jpg\n",
      "./dog_classes2\\images\\image\\train\\30_SAMOYED\\47.jpg"
     ]
    },
    {
     "name": "stderr",
     "output_type": "stream",
     "text": [
      ".-dog_classes2\\images\\image\\train\\30_SAMOYED:  80%|████████████████████████▊      | 200/250 [00:02<00:00, 66.84files/s]"
     ]
    },
    {
     "name": "stdout",
     "output_type": "stream",
     "text": [
      "\n",
      "./dog_classes2\\images\\image\\train\\30_SAMOYED\\48.jpg\n",
      "./dog_classes2\\images\\image\\train\\30_SAMOYED\\49.jpg\n",
      "./dog_classes2\\images\\image\\train\\30_SAMOYED\\5.jpg\n",
      "./dog_classes2\\images\\image\\train\\30_SAMOYED\\50.jpg\n",
      "./dog_classes2\\images\\image\\train\\30_SAMOYED\\51.jpg\n",
      "./dog_classes2\\images\\image\\train\\30_SAMOYED\\52.jpg\n",
      "./dog_classes2\\images\\image\\train\\30_SAMOYED\\53.jpg\n",
      "./dog_classes2\\images\\image\\train\\30_SAMOYED\\54.jpg\n",
      "./dog_classes2\\images\\image\\train\\30_SAMOYED\\55.jpg\n",
      "./dog_classes2\\images\\image\\train\\30_SAMOYED\\56.jpg\n",
      "./dog_classes2\\images\\image\\train\\30_SAMOYED\\57.jpg\n",
      "./dog_classes2\\images\\image\\train\\30_SAMOYED\\58.jpg"
     ]
    },
    {
     "name": "stderr",
     "output_type": "stream",
     "text": [
      ".-dog_classes2\\images\\image\\train\\30_SAMOYED:  86%|██████████████████████████▋    | 215/250 [00:03<00:00, 70.44files/s]"
     ]
    },
    {
     "name": "stdout",
     "output_type": "stream",
     "text": [
      "\n",
      "./dog_classes2\\images\\image\\train\\30_SAMOYED\\59.jpg\n",
      "./dog_classes2\\images\\image\\train\\30_SAMOYED\\6.jpg\n",
      "./dog_classes2\\images\\image\\train\\30_SAMOYED\\60.jpg\n",
      "./dog_classes2\\images\\image\\train\\30_SAMOYED\\61.jpg\n",
      "./dog_classes2\\images\\image\\train\\30_SAMOYED\\62.jpg\n",
      "./dog_classes2\\images\\image\\train\\30_SAMOYED\\63.jpg\n",
      "./dog_classes2\\images\\image\\train\\30_SAMOYED\\64.jpg\n",
      "./dog_classes2\\images\\image\\train\\30_SAMOYED\\65.jpg\n",
      "./dog_classes2\\images\\image\\train\\30_SAMOYED\\66.jpg\n",
      "./dog_classes2\\images\\image\\train\\30_SAMOYED\\67.jpg\n",
      "./dog_classes2\\images\\image\\train\\30_SAMOYED\\68.jpg\n",
      "./dog_classes2\\images\\image\\train\\30_SAMOYED\\69.jpg\n",
      "./dog_classes2\\images\\image\\train\\30_SAMOYED\\7.jpg\n",
      "./dog_classes2\\images\\image\\train\\30_SAMOYED\\70.jpg"
     ]
    },
    {
     "name": "stderr",
     "output_type": "stream",
     "text": [
      ".-dog_classes2\\images\\image\\train\\30_SAMOYED:  92%|████████████████████████████▋  | 231/250 [00:03<00:00, 71.21files/s]"
     ]
    },
    {
     "name": "stdout",
     "output_type": "stream",
     "text": [
      "\n",
      "./dog_classes2\\images\\image\\train\\30_SAMOYED\\71.jpg\n",
      "./dog_classes2\\images\\image\\train\\30_SAMOYED\\72.jpg\n",
      "./dog_classes2\\images\\image\\train\\30_SAMOYED\\73.jpg\n",
      "./dog_classes2\\images\\image\\train\\30_SAMOYED\\74.jpg\n",
      "./dog_classes2\\images\\image\\train\\30_SAMOYED\\75.jpg\n",
      "./dog_classes2\\images\\image\\train\\30_SAMOYED\\76.jpg\n",
      "./dog_classes2\\images\\image\\train\\30_SAMOYED\\77.jpg\n",
      "./dog_classes2\\images\\image\\train\\30_SAMOYED\\78.jpg\n",
      "./dog_classes2\\images\\image\\train\\30_SAMOYED\\79.jpg\n",
      "./dog_classes2\\images\\image\\train\\30_SAMOYED\\8.jpg\n",
      "./dog_classes2\\images\\image\\train\\30_SAMOYED\\80.jpg\n",
      "./dog_classes2\\images\\image\\train\\30_SAMOYED\\81.jpg\n",
      "./dog_classes2\\images\\image\\train\\30_SAMOYED\\82.jpg\n",
      "./dog_classes2\\images\\image\\train\\30_SAMOYED\\83.jpg"
     ]
    },
    {
     "name": "stderr",
     "output_type": "stream",
     "text": [
      "\r",
      ".-dog_classes2\\images\\image\\train\\30_SAMOYED:  96%|█████████████████████████████▋ | 239/250 [00:03<00:00, 63.38files/s]"
     ]
    },
    {
     "name": "stdout",
     "output_type": "stream",
     "text": [
      "\n",
      "./dog_classes2\\images\\image\\train\\30_SAMOYED\\84.jpg\n",
      "./dog_classes2\\images\\image\\train\\30_SAMOYED\\85.jpg\n",
      "./dog_classes2\\images\\image\\train\\30_SAMOYED\\86.jpg\n",
      "./dog_classes2\\images\\image\\train\\30_SAMOYED\\87.jpg\n",
      "./dog_classes2\\images\\image\\train\\30_SAMOYED\\88.jpg\n",
      "./dog_classes2\\images\\image\\train\\30_SAMOYED\\89.jpg\n",
      "./dog_classes2\\images\\image\\train\\30_SAMOYED\\9.jpg\n",
      "./dog_classes2\\images\\image\\train\\30_SAMOYED\\90.jpg\n",
      "./dog_classes2\\images\\image\\train\\30_SAMOYED\\91.jpg\n",
      "./dog_classes2\\images\\image\\train\\30_SAMOYED\\92.jpg"
     ]
    },
    {
     "name": "stderr",
     "output_type": "stream",
     "text": [
      ".-dog_classes2\\images\\image\\train\\9_ITALIAN_GREY_HOUND:   0%|                               | 0/175 [00:00<?, ?files/s]"
     ]
    },
    {
     "name": "stdout",
     "output_type": "stream",
     "text": [
      "\n",
      "./dog_classes2\\images\\image\\train\\30_SAMOYED\\93.jpg\n",
      "./dog_classes2\\images\\image\\train\\30_SAMOYED\\94.jpg\n",
      "./dog_classes2\\images\\image\\train\\30_SAMOYED\\95.jpg\n",
      "./dog_classes2\\images\\image\\train\\30_SAMOYED\\96.jpg\n",
      "./dog_classes2\\images\\image\\train\\30_SAMOYED\\97.jpg\n",
      "./dog_classes2\\images\\image\\train\\30_SAMOYED\\98.jpg\n",
      "./dog_classes2\\images\\image\\train\\30_SAMOYED\\99.jpg\n",
      "./dog_classes2\\images\\image\\train\\9_ITALIAN_GREY_HOUND\\0.jpg\n",
      "./dog_classes2\\images\\image\\train\\9_ITALIAN_GREY_HOUND\\1.jpg\n",
      "./dog_classes2\\images\\image\\train\\9_ITALIAN_GREY_HOUND\\10.jpg\n"
     ]
    },
    {
     "name": "stderr",
     "output_type": "stream",
     "text": [
      ".-dog_classes2\\images\\image\\train\\9_ITALIAN_GREY_HOUND:   9%|██                    | 16/175 [00:00<00:02, 71.11files/s]"
     ]
    },
    {
     "name": "stdout",
     "output_type": "stream",
     "text": [
      "./dog_classes2\\images\\image\\train\\9_ITALIAN_GREY_HOUND\\100.jpg\n",
      "./dog_classes2\\images\\image\\train\\9_ITALIAN_GREY_HOUND\\101.jpg\n",
      "./dog_classes2\\images\\image\\train\\9_ITALIAN_GREY_HOUND\\102.jpg\n",
      "./dog_classes2\\images\\image\\train\\9_ITALIAN_GREY_HOUND\\103.jpg\n",
      "./dog_classes2\\images\\image\\train\\9_ITALIAN_GREY_HOUND\\104.jpg\n",
      "./dog_classes2\\images\\image\\train\\9_ITALIAN_GREY_HOUND\\105.jpg\n",
      "./dog_classes2\\images\\image\\train\\9_ITALIAN_GREY_HOUND\\106.jpg\n",
      "./dog_classes2\\images\\image\\train\\9_ITALIAN_GREY_HOUND\\107.jpg\n",
      "./dog_classes2\\images\\image\\train\\9_ITALIAN_GREY_HOUND\\108.jpg\n",
      "./dog_classes2\\images\\image\\train\\9_ITALIAN_GREY_HOUND\\109.jpg\n",
      "./dog_classes2\\images\\image\\train\\9_ITALIAN_GREY_HOUND\\11.jpg\n",
      "./dog_classes2\\images\\image\\train\\9_ITALIAN_GREY_HOUND\\110.jpg\n",
      "./dog_classes2\\images\\image\\train\\9_ITALIAN_GREY_HOUND\\111.jpg\n",
      "./dog_classes2\\images\\image\\train\\9_ITALIAN_GREY_HOUND\\112.jpg\n",
      "./dog_classes2\\images\\image\\train\\9_ITALIAN_GREY_HOUND\\113.jpg"
     ]
    },
    {
     "name": "stderr",
     "output_type": "stream",
     "text": [
      "\r",
      ".-dog_classes2\\images\\image\\train\\9_ITALIAN_GREY_HOUND:  14%|███                   | 24/175 [00:00<00:02, 71.65files/s]"
     ]
    },
    {
     "name": "stdout",
     "output_type": "stream",
     "text": [
      "\n",
      "./dog_classes2\\images\\image\\train\\9_ITALIAN_GREY_HOUND\\114.jpg\n",
      "./dog_classes2\\images\\image\\train\\9_ITALIAN_GREY_HOUND\\115.jpg\n",
      "./dog_classes2\\images\\image\\train\\9_ITALIAN_GREY_HOUND\\116.jpg\n",
      "./dog_classes2\\images\\image\\train\\9_ITALIAN_GREY_HOUND\\117.jpg\n",
      "./dog_classes2\\images\\image\\train\\9_ITALIAN_GREY_HOUND\\118.jpg\n",
      "./dog_classes2\\images\\image\\train\\9_ITALIAN_GREY_HOUND\\119.jpg\n",
      "./dog_classes2\\images\\image\\train\\9_ITALIAN_GREY_HOUND\\12.jpg\n",
      "./dog_classes2\\images\\image\\train\\9_ITALIAN_GREY_HOUND\\120.jpg\n",
      "./dog_classes2\\images\\image\\train\\9_ITALIAN_GREY_HOUND\\121.jpg\n",
      "./dog_classes2\\images\\image\\train\\9_ITALIAN_GREY_HOUND\\122.jpg\n",
      "./dog_classes2\\images\\image\\train\\9_ITALIAN_GREY_HOUND\\123.jpg\n",
      "./dog_classes2\\images\\image\\train\\9_ITALIAN_GREY_HOUND\\124.jpg\n",
      "./dog_classes2\\images\\image\\train\\9_ITALIAN_GREY_HOUND\\125.jpg"
     ]
    },
    {
     "name": "stderr",
     "output_type": "stream",
     "text": [
      ".-dog_classes2\\images\\image\\train\\9_ITALIAN_GREY_HOUND:  22%|████▉                 | 39/175 [00:00<00:01, 71.67files/s]"
     ]
    },
    {
     "name": "stdout",
     "output_type": "stream",
     "text": [
      "\n",
      "./dog_classes2\\images\\image\\train\\9_ITALIAN_GREY_HOUND\\126.jpg\n",
      "./dog_classes2\\images\\image\\train\\9_ITALIAN_GREY_HOUND\\127.jpg\n",
      "./dog_classes2\\images\\image\\train\\9_ITALIAN_GREY_HOUND\\128.jpg\n",
      "./dog_classes2\\images\\image\\train\\9_ITALIAN_GREY_HOUND\\129.jpg\n",
      "./dog_classes2\\images\\image\\train\\9_ITALIAN_GREY_HOUND\\13.jpg\n",
      "./dog_classes2\\images\\image\\train\\9_ITALIAN_GREY_HOUND\\130.jpg\n",
      "./dog_classes2\\images\\image\\train\\9_ITALIAN_GREY_HOUND\\131.jpg\n",
      "./dog_classes2\\images\\image\\train\\9_ITALIAN_GREY_HOUND\\132.jpg\n",
      "./dog_classes2\\images\\image\\train\\9_ITALIAN_GREY_HOUND\\133.jpg\n",
      "./dog_classes2\\images\\image\\train\\9_ITALIAN_GREY_HOUND\\134.jpg\n",
      "./dog_classes2\\images\\image\\train\\9_ITALIAN_GREY_HOUND\\135.jpg\n",
      "./dog_classes2\\images\\image\\train\\9_ITALIAN_GREY_HOUND\\136.jpg\n",
      "./dog_classes2\\images\\image\\train\\9_ITALIAN_GREY_HOUND\\137.jpg\n",
      "./dog_classes2\\images\\image\\train\\9_ITALIAN_GREY_HOUND\\138.jpg"
     ]
    },
    {
     "name": "stderr",
     "output_type": "stream",
     "text": [
      ".-dog_classes2\\images\\image\\train\\9_ITALIAN_GREY_HOUND:  32%|███████               | 56/175 [00:00<00:01, 75.49files/s]"
     ]
    },
    {
     "name": "stdout",
     "output_type": "stream",
     "text": [
      "\n",
      "./dog_classes2\\images\\image\\train\\9_ITALIAN_GREY_HOUND\\139.jpg\n",
      "./dog_classes2\\images\\image\\train\\9_ITALIAN_GREY_HOUND\\14.jpg\n",
      "./dog_classes2\\images\\image\\train\\9_ITALIAN_GREY_HOUND\\140.jpg\n",
      "./dog_classes2\\images\\image\\train\\9_ITALIAN_GREY_HOUND\\141.jpg\n",
      "./dog_classes2\\images\\image\\train\\9_ITALIAN_GREY_HOUND\\142.jpg\n",
      "./dog_classes2\\images\\image\\train\\9_ITALIAN_GREY_HOUND\\143.jpg\n",
      "./dog_classes2\\images\\image\\train\\9_ITALIAN_GREY_HOUND\\144.jpg\n",
      "./dog_classes2\\images\\image\\train\\9_ITALIAN_GREY_HOUND\\145.jpg\n",
      "./dog_classes2\\images\\image\\train\\9_ITALIAN_GREY_HOUND\\146.jpg\n",
      "./dog_classes2\\images\\image\\train\\9_ITALIAN_GREY_HOUND\\147.jpg\n",
      "./dog_classes2\\images\\image\\train\\9_ITALIAN_GREY_HOUND\\148.jpg\n",
      "./dog_classes2\\images\\image\\train\\9_ITALIAN_GREY_HOUND\\149.jpg\n",
      "./dog_classes2\\images\\image\\train\\9_ITALIAN_GREY_HOUND\\15.jpg\n",
      "./dog_classes2\\images\\image\\train\\9_ITALIAN_GREY_HOUND\\150.jpg\n",
      "./dog_classes2\\images\\image\\train\\9_ITALIAN_GREY_HOUND\\151.jpg"
     ]
    },
    {
     "name": "stderr",
     "output_type": "stream",
     "text": [
      ".-dog_classes2\\images\\image\\train\\9_ITALIAN_GREY_HOUND:  42%|█████████▏            | 73/175 [00:00<00:01, 77.54files/s]"
     ]
    },
    {
     "name": "stdout",
     "output_type": "stream",
     "text": [
      "\n",
      "./dog_classes2\\images\\image\\train\\9_ITALIAN_GREY_HOUND\\152.jpg\n",
      "./dog_classes2\\images\\image\\train\\9_ITALIAN_GREY_HOUND\\153.jpg\n",
      "./dog_classes2\\images\\image\\train\\9_ITALIAN_GREY_HOUND\\154.jpg\n",
      "./dog_classes2\\images\\image\\train\\9_ITALIAN_GREY_HOUND\\155.jpg\n",
      "./dog_classes2\\images\\image\\train\\9_ITALIAN_GREY_HOUND\\156.jpg\n",
      "./dog_classes2\\images\\image\\train\\9_ITALIAN_GREY_HOUND\\157.jpg\n",
      "./dog_classes2\\images\\image\\train\\9_ITALIAN_GREY_HOUND\\158.jpg\n",
      "./dog_classes2\\images\\image\\train\\9_ITALIAN_GREY_HOUND\\159.jpg\n",
      "./dog_classes2\\images\\image\\train\\9_ITALIAN_GREY_HOUND\\16.jpg\n",
      "./dog_classes2\\images\\image\\train\\9_ITALIAN_GREY_HOUND\\160.jpg\n",
      "./dog_classes2\\images\\image\\train\\9_ITALIAN_GREY_HOUND\\161.jpg\n",
      "./dog_classes2\\images\\image\\train\\9_ITALIAN_GREY_HOUND\\162.jpg\n",
      "./dog_classes2\\images\\image\\train\\9_ITALIAN_GREY_HOUND\\163.jpg\n",
      "./dog_classes2\\images\\image\\train\\9_ITALIAN_GREY_HOUND\\164.jpg\n",
      "./dog_classes2\\images\\image\\train\\9_ITALIAN_GREY_HOUND\\165.jpg"
     ]
    },
    {
     "name": "stderr",
     "output_type": "stream",
     "text": [
      "\r",
      ".-dog_classes2\\images\\image\\train\\9_ITALIAN_GREY_HOUND:  46%|██████████▏           | 81/175 [00:01<00:01, 76.97files/s]"
     ]
    },
    {
     "name": "stdout",
     "output_type": "stream",
     "text": [
      "\n",
      "./dog_classes2\\images\\image\\train\\9_ITALIAN_GREY_HOUND\\166.jpg\n",
      "./dog_classes2\\images\\image\\train\\9_ITALIAN_GREY_HOUND\\167.jpg\n",
      "./dog_classes2\\images\\image\\train\\9_ITALIAN_GREY_HOUND\\168.jpg\n",
      "./dog_classes2\\images\\image\\train\\9_ITALIAN_GREY_HOUND\\169.jpg\n",
      "./dog_classes2\\images\\image\\train\\9_ITALIAN_GREY_HOUND\\17.jpg\n",
      "./dog_classes2\\images\\image\\train\\9_ITALIAN_GREY_HOUND\\170.jpg\n",
      "./dog_classes2\\images\\image\\train\\9_ITALIAN_GREY_HOUND\\171.jpg\n",
      "./dog_classes2\\images\\image\\train\\9_ITALIAN_GREY_HOUND\\172.jpg\n",
      "./dog_classes2\\images\\image\\train\\9_ITALIAN_GREY_HOUND\\173.jpg\n",
      "./dog_classes2\\images\\image\\train\\9_ITALIAN_GREY_HOUND\\174.jpg\n",
      "./dog_classes2\\images\\image\\train\\9_ITALIAN_GREY_HOUND\\18.jpg\n",
      "./dog_classes2\\images\\image\\train\\9_ITALIAN_GREY_HOUND\\19.jpg\n",
      "./dog_classes2\\images\\image\\train\\9_ITALIAN_GREY_HOUND\\2.jpg\n",
      "./dog_classes2\\images\\image\\train\\9_ITALIAN_GREY_HOUND\\20.jpg\n",
      "./dog_classes2\\images\\image\\train\\9_ITALIAN_GREY_HOUND\\21.jpg"
     ]
    },
    {
     "name": "stderr",
     "output_type": "stream",
     "text": [
      ".-dog_classes2\\images\\image\\train\\9_ITALIAN_GREY_HOUND:  57%|████████████▍         | 99/175 [00:01<00:00, 81.43files/s]"
     ]
    },
    {
     "name": "stdout",
     "output_type": "stream",
     "text": [
      "\n",
      "./dog_classes2\\images\\image\\train\\9_ITALIAN_GREY_HOUND\\22.jpg\n",
      "./dog_classes2\\images\\image\\train\\9_ITALIAN_GREY_HOUND\\23.jpg\n",
      "./dog_classes2\\images\\image\\train\\9_ITALIAN_GREY_HOUND\\24.jpg\n",
      "./dog_classes2\\images\\image\\train\\9_ITALIAN_GREY_HOUND\\25.jpg\n",
      "./dog_classes2\\images\\image\\train\\9_ITALIAN_GREY_HOUND\\26.jpg\n",
      "./dog_classes2\\images\\image\\train\\9_ITALIAN_GREY_HOUND\\27.jpg\n",
      "./dog_classes2\\images\\image\\train\\9_ITALIAN_GREY_HOUND\\28.jpg\n",
      "./dog_classes2\\images\\image\\train\\9_ITALIAN_GREY_HOUND\\29.jpg\n",
      "./dog_classes2\\images\\image\\train\\9_ITALIAN_GREY_HOUND\\3.jpg\n",
      "./dog_classes2\\images\\image\\train\\9_ITALIAN_GREY_HOUND\\30.jpg\n",
      "./dog_classes2\\images\\image\\train\\9_ITALIAN_GREY_HOUND\\31.jpg\n",
      "./dog_classes2\\images\\image\\train\\9_ITALIAN_GREY_HOUND\\32.jpg\n",
      "./dog_classes2\\images\\image\\train\\9_ITALIAN_GREY_HOUND\\33.jpg\n",
      "./dog_classes2\\images\\image\\train\\9_ITALIAN_GREY_HOUND\\34.jpg\n",
      "./dog_classes2\\images\\image\\train\\9_ITALIAN_GREY_HOUND\\35.jpg\n",
      "./dog_classes2\\images\\image\\train\\9_ITALIAN_GREY_HOUND\\36.jpg\n",
      "./dog_classes2\\images\\image\\train\\9_ITALIAN_GREY_HOUND\\37.jpg"
     ]
    },
    {
     "name": "stderr",
     "output_type": "stream",
     "text": [
      ".-dog_classes2\\images\\image\\train\\9_ITALIAN_GREY_HOUND:  68%|██████████████▎      | 119/175 [00:01<00:00, 88.11files/s]"
     ]
    },
    {
     "name": "stdout",
     "output_type": "stream",
     "text": [
      "\n",
      "./dog_classes2\\images\\image\\train\\9_ITALIAN_GREY_HOUND\\38.jpg\n",
      "./dog_classes2\\images\\image\\train\\9_ITALIAN_GREY_HOUND\\39.jpg\n",
      "./dog_classes2\\images\\image\\train\\9_ITALIAN_GREY_HOUND\\4.jpg\n",
      "./dog_classes2\\images\\image\\train\\9_ITALIAN_GREY_HOUND\\40.jpg\n",
      "./dog_classes2\\images\\image\\train\\9_ITALIAN_GREY_HOUND\\41.jpg\n",
      "./dog_classes2\\images\\image\\train\\9_ITALIAN_GREY_HOUND\\42.jpg\n",
      "./dog_classes2\\images\\image\\train\\9_ITALIAN_GREY_HOUND\\43.jpg\n",
      "./dog_classes2\\images\\image\\train\\9_ITALIAN_GREY_HOUND\\44.jpg\n",
      "./dog_classes2\\images\\image\\train\\9_ITALIAN_GREY_HOUND\\45.jpg\n",
      "./dog_classes2\\images\\image\\train\\9_ITALIAN_GREY_HOUND\\46.jpg\n",
      "./dog_classes2\\images\\image\\train\\9_ITALIAN_GREY_HOUND\\47.jpg\n",
      "./dog_classes2\\images\\image\\train\\9_ITALIAN_GREY_HOUND\\48.jpg\n",
      "./dog_classes2\\images\\image\\train\\9_ITALIAN_GREY_HOUND\\49.jpg\n",
      "./dog_classes2\\images\\image\\train\\9_ITALIAN_GREY_HOUND\\5.jpg\n",
      "./dog_classes2\\images\\image\\train\\9_ITALIAN_GREY_HOUND\\50.jpg\n",
      "./dog_classes2\\images\\image\\train\\9_ITALIAN_GREY_HOUND\\51.jpg\n",
      "./dog_classes2\\images\\image\\train\\9_ITALIAN_GREY_HOUND\\52.jpg\n",
      "./dog_classes2\\images\\image\\train\\9_ITALIAN_GREY_HOUND\\53.jpg"
     ]
    },
    {
     "name": "stderr",
     "output_type": "stream",
     "text": [
      ".-dog_classes2\\images\\image\\train\\9_ITALIAN_GREY_HOUND:  79%|████████████████▋    | 139/175 [00:01<00:00, 88.73files/s]"
     ]
    },
    {
     "name": "stdout",
     "output_type": "stream",
     "text": [
      "\n",
      "./dog_classes2\\images\\image\\train\\9_ITALIAN_GREY_HOUND\\54.jpg\n",
      "./dog_classes2\\images\\image\\train\\9_ITALIAN_GREY_HOUND\\55.jpg\n",
      "./dog_classes2\\images\\image\\train\\9_ITALIAN_GREY_HOUND\\56.jpg\n",
      "./dog_classes2\\images\\image\\train\\9_ITALIAN_GREY_HOUND\\57.jpg\n",
      "./dog_classes2\\images\\image\\train\\9_ITALIAN_GREY_HOUND\\58.jpg\n",
      "./dog_classes2\\images\\image\\train\\9_ITALIAN_GREY_HOUND\\59.jpg\n",
      "./dog_classes2\\images\\image\\train\\9_ITALIAN_GREY_HOUND\\6.jpg\n",
      "./dog_classes2\\images\\image\\train\\9_ITALIAN_GREY_HOUND\\60.jpg\n",
      "./dog_classes2\\images\\image\\train\\9_ITALIAN_GREY_HOUND\\61.jpg\n",
      "./dog_classes2\\images\\image\\train\\9_ITALIAN_GREY_HOUND\\62.jpg\n",
      "./dog_classes2\\images\\image\\train\\9_ITALIAN_GREY_HOUND\\63.jpg\n",
      "./dog_classes2\\images\\image\\train\\9_ITALIAN_GREY_HOUND\\64.jpg\n",
      "./dog_classes2\\images\\image\\train\\9_ITALIAN_GREY_HOUND\\65.jpg\n",
      "./dog_classes2\\images\\image\\train\\9_ITALIAN_GREY_HOUND\\66.jpg\n",
      "./dog_classes2\\images\\image\\train\\9_ITALIAN_GREY_HOUND\\67.jpg\n",
      "./dog_classes2\\images\\image\\train\\9_ITALIAN_GREY_HOUND\\68.jpg"
     ]
    },
    {
     "name": "stderr",
     "output_type": "stream",
     "text": [
      "\r",
      ".-dog_classes2\\images\\image\\train\\9_ITALIAN_GREY_HOUND:  85%|█████████████████▊   | 148/175 [00:01<00:00, 84.90files/s]"
     ]
    },
    {
     "name": "stdout",
     "output_type": "stream",
     "text": [
      "\n",
      "./dog_classes2\\images\\image\\train\\9_ITALIAN_GREY_HOUND\\69.jpg\n",
      "./dog_classes2\\images\\image\\train\\9_ITALIAN_GREY_HOUND\\7.jpg\n",
      "./dog_classes2\\images\\image\\train\\9_ITALIAN_GREY_HOUND\\70.jpg\n",
      "./dog_classes2\\images\\image\\train\\9_ITALIAN_GREY_HOUND\\71.jpg\n",
      "./dog_classes2\\images\\image\\train\\9_ITALIAN_GREY_HOUND\\72.jpg\n",
      "./dog_classes2\\images\\image\\train\\9_ITALIAN_GREY_HOUND\\73.jpg\n",
      "./dog_classes2\\images\\image\\train\\9_ITALIAN_GREY_HOUND\\74.jpg\n",
      "./dog_classes2\\images\\image\\train\\9_ITALIAN_GREY_HOUND\\75.jpg\n",
      "./dog_classes2\\images\\image\\train\\9_ITALIAN_GREY_HOUND\\76.jpg\n",
      "./dog_classes2\\images\\image\\train\\9_ITALIAN_GREY_HOUND\\77.jpg\n",
      "./dog_classes2\\images\\image\\train\\9_ITALIAN_GREY_HOUND\\78.jpg\n",
      "./dog_classes2\\images\\image\\train\\9_ITALIAN_GREY_HOUND\\79.jpg\n",
      "./dog_classes2\\images\\image\\train\\9_ITALIAN_GREY_HOUND\\8.jpg\n",
      "./dog_classes2\\images\\image\\train\\9_ITALIAN_GREY_HOUND\\80.jpg\n",
      "./dog_classes2\\images\\image\\train\\9_ITALIAN_GREY_HOUND\\81.jpg"
     ]
    },
    {
     "name": "stderr",
     "output_type": "stream",
     "text": [
      ".-dog_classes2\\images\\image\\train\\9_ITALIAN_GREY_HOUND:  95%|███████████████████▉ | 166/175 [00:02<00:00, 83.67files/s]"
     ]
    },
    {
     "name": "stdout",
     "output_type": "stream",
     "text": [
      "\n",
      "./dog_classes2\\images\\image\\train\\9_ITALIAN_GREY_HOUND\\82.jpg\n",
      "./dog_classes2\\images\\image\\train\\9_ITALIAN_GREY_HOUND\\83.jpg\n",
      "./dog_classes2\\images\\image\\train\\9_ITALIAN_GREY_HOUND\\84.jpg\n",
      "./dog_classes2\\images\\image\\train\\9_ITALIAN_GREY_HOUND\\85.jpg\n",
      "./dog_classes2\\images\\image\\train\\9_ITALIAN_GREY_HOUND\\86.jpg\n",
      "./dog_classes2\\images\\image\\train\\9_ITALIAN_GREY_HOUND\\87.jpg\n",
      "./dog_classes2\\images\\image\\train\\9_ITALIAN_GREY_HOUND\\88.jpg\n",
      "./dog_classes2\\images\\image\\train\\9_ITALIAN_GREY_HOUND\\89.jpg\n",
      "./dog_classes2\\images\\image\\train\\9_ITALIAN_GREY_HOUND\\9.jpg\n",
      "./dog_classes2\\images\\image\\train\\9_ITALIAN_GREY_HOUND\\90.jpg\n",
      "./dog_classes2\\images\\image\\train\\9_ITALIAN_GREY_HOUND\\91.jpg\n",
      "./dog_classes2\\images\\image\\train\\9_ITALIAN_GREY_HOUND\\92.jpg\n",
      "./dog_classes2\\images\\image\\train\\9_ITALIAN_GREY_HOUND\\93.jpg\n",
      "./dog_classes2\\images\\image\\train\\9_ITALIAN_GREY_HOUND\\94.jpg\n",
      "./dog_classes2\\images\\image\\train\\9_ITALIAN_GREY_HOUND\\95.jpg"
     ]
    },
    {
     "name": "stderr",
     "output_type": "stream",
     "text": [
      ".-dog_classes2\\images\\image\\train\\X_HUSKY:   0%|                                            | 0/163 [00:00<?, ?files/s]"
     ]
    },
    {
     "name": "stdout",
     "output_type": "stream",
     "text": [
      "\n",
      "./dog_classes2\\images\\image\\train\\9_ITALIAN_GREY_HOUND\\96.jpg\n",
      "./dog_classes2\\images\\image\\train\\9_ITALIAN_GREY_HOUND\\97.jpg\n",
      "./dog_classes2\\images\\image\\train\\9_ITALIAN_GREY_HOUND\\98.jpg\n",
      "./dog_classes2\\images\\image\\train\\9_ITALIAN_GREY_HOUND\\99.jpg\n",
      "./dog_classes2\\images\\image\\train\\X_HUSKY\\0.jpg\n",
      "./dog_classes2\\images\\image\\train\\X_HUSKY\\1.jpg\n",
      "./dog_classes2\\images\\image\\train\\X_HUSKY\\10.jpg\n",
      "./dog_classes2\\images\\image\\train\\X_HUSKY\\100.jpg\n",
      "./dog_classes2\\images\\image\\train\\X_HUSKY\\101.jpg\n",
      "./dog_classes2\\images\\image\\train\\X_HUSKY\\102.jpg\n",
      "./dog_classes2\\images\\image\\train\\X_HUSKY\\103.jpg\n",
      "./dog_classes2\\images\\image\\train\\X_HUSKY\\104.jpg"
     ]
    },
    {
     "name": "stderr",
     "output_type": "stream",
     "text": [
      ".-dog_classes2\\images\\image\\train\\X_HUSKY:  10%|███▋                               | 17/163 [00:00<00:01, 75.63files/s]"
     ]
    },
    {
     "name": "stdout",
     "output_type": "stream",
     "text": [
      "\n",
      "./dog_classes2\\images\\image\\train\\X_HUSKY\\105.jpg\n",
      "./dog_classes2\\images\\image\\train\\X_HUSKY\\106.jpg\n",
      "./dog_classes2\\images\\image\\train\\X_HUSKY\\107.jpg\n",
      "./dog_classes2\\images\\image\\train\\X_HUSKY\\108.jpg\n",
      "./dog_classes2\\images\\image\\train\\X_HUSKY\\109.jpg\n",
      "./dog_classes2\\images\\image\\train\\X_HUSKY\\11.jpg\n",
      "./dog_classes2\\images\\image\\train\\X_HUSKY\\110.jpg\n",
      "./dog_classes2\\images\\image\\train\\X_HUSKY\\111.jpg\n",
      "./dog_classes2\\images\\image\\train\\X_HUSKY\\112.jpg\n",
      "./dog_classes2\\images\\image\\train\\X_HUSKY\\113.jpg\n",
      "./dog_classes2\\images\\image\\train\\X_HUSKY\\114.jpg\n",
      "./dog_classes2\\images\\image\\train\\X_HUSKY\\115.jpg\n",
      "./dog_classes2\\images\\image\\train\\X_HUSKY\\116.jpg\n",
      "./dog_classes2\\images\\image\\train\\X_HUSKY\\117.jpg\n",
      "./dog_classes2\\images\\image\\train\\X_HUSKY\\118.jpg"
     ]
    },
    {
     "name": "stderr",
     "output_type": "stream",
     "text": [
      ".-dog_classes2\\images\\image\\train\\X_HUSKY:  21%|███████▎                           | 34/163 [00:00<00:01, 77.10files/s]"
     ]
    },
    {
     "name": "stdout",
     "output_type": "stream",
     "text": [
      "\n",
      "./dog_classes2\\images\\image\\train\\X_HUSKY\\119.jpg\n",
      "./dog_classes2\\images\\image\\train\\X_HUSKY\\12.jpg\n",
      "./dog_classes2\\images\\image\\train\\X_HUSKY\\120.jpg\n",
      "./dog_classes2\\images\\image\\train\\X_HUSKY\\121.jpg\n",
      "./dog_classes2\\images\\image\\train\\X_HUSKY\\122.jpg\n",
      "./dog_classes2\\images\\image\\train\\X_HUSKY\\123.jpg\n",
      "./dog_classes2\\images\\image\\train\\X_HUSKY\\124.jpg\n",
      "./dog_classes2\\images\\image\\train\\X_HUSKY\\125.jpg\n",
      "./dog_classes2\\images\\image\\train\\X_HUSKY\\126.jpg\n",
      "./dog_classes2\\images\\image\\train\\X_HUSKY\\127.jpg\n",
      "./dog_classes2\\images\\image\\train\\X_HUSKY\\128.jpg\n",
      "./dog_classes2\\images\\image\\train\\X_HUSKY\\129.jpg\n",
      "./dog_classes2\\images\\image\\train\\X_HUSKY\\13.jpg\n",
      "./dog_classes2\\images\\image\\train\\X_HUSKY\\130.jpg\n",
      "./dog_classes2\\images\\image\\train\\X_HUSKY\\131.jpg"
     ]
    },
    {
     "name": "stderr",
     "output_type": "stream",
     "text": [
      ".-dog_classes2\\images\\image\\train\\X_HUSKY:  31%|██████████▉                        | 51/163 [00:00<00:01, 78.13files/s]"
     ]
    },
    {
     "name": "stdout",
     "output_type": "stream",
     "text": [
      "\n",
      "./dog_classes2\\images\\image\\train\\X_HUSKY\\132.jpg\n",
      "./dog_classes2\\images\\image\\train\\X_HUSKY\\133.jpg\n",
      "./dog_classes2\\images\\image\\train\\X_HUSKY\\134.jpg\n",
      "./dog_classes2\\images\\image\\train\\X_HUSKY\\135.jpg\n",
      "./dog_classes2\\images\\image\\train\\X_HUSKY\\136.jpg\n",
      "./dog_classes2\\images\\image\\train\\X_HUSKY\\137.jpg\n",
      "./dog_classes2\\images\\image\\train\\X_HUSKY\\138.jpg\n",
      "./dog_classes2\\images\\image\\train\\X_HUSKY\\139.jpg\n",
      "./dog_classes2\\images\\image\\train\\X_HUSKY\\14.jpg\n",
      "./dog_classes2\\images\\image\\train\\X_HUSKY\\140.jpg\n",
      "./dog_classes2\\images\\image\\train\\X_HUSKY\\141.jpg\n",
      "./dog_classes2\\images\\image\\train\\X_HUSKY\\142.jpg\n",
      "./dog_classes2\\images\\image\\train\\X_HUSKY\\143.jpg\n",
      "./dog_classes2\\images\\image\\train\\X_HUSKY\\144.jpg\n",
      "./dog_classes2\\images\\image\\train\\X_HUSKY\\145.jpg"
     ]
    },
    {
     "name": "stderr",
     "output_type": "stream",
     "text": [
      "\r",
      ".-dog_classes2\\images\\image\\train\\X_HUSKY:  37%|████████████▉                      | 60/163 [00:00<00:01, 79.26files/s]"
     ]
    },
    {
     "name": "stdout",
     "output_type": "stream",
     "text": [
      "\n",
      "./dog_classes2\\images\\image\\train\\X_HUSKY\\146.jpg\n",
      "./dog_classes2\\images\\image\\train\\X_HUSKY\\147.jpg\n",
      "./dog_classes2\\images\\image\\train\\X_HUSKY\\148.jpg\n",
      "./dog_classes2\\images\\image\\train\\X_HUSKY\\149.jpg\n",
      "./dog_classes2\\images\\image\\train\\X_HUSKY\\15.jpg\n",
      "./dog_classes2\\images\\image\\train\\X_HUSKY\\150.jpg\n",
      "./dog_classes2\\images\\image\\train\\X_HUSKY\\151.jpg\n",
      "./dog_classes2\\images\\image\\train\\X_HUSKY\\152.jpg\n",
      "./dog_classes2\\images\\image\\train\\X_HUSKY\\153.jpg\n",
      "./dog_classes2\\images\\image\\train\\X_HUSKY\\154.jpg\n",
      "./dog_classes2\\images\\image\\train\\X_HUSKY\\155.jpg\n",
      "./dog_classes2\\images\\image\\train\\X_HUSKY\\156.jpg\n",
      "./dog_classes2\\images\\image\\train\\X_HUSKY\\157.jpg\n",
      "./dog_classes2\\images\\image\\train\\X_HUSKY\\158.jpg"
     ]
    },
    {
     "name": "stderr",
     "output_type": "stream",
     "text": [
      ".-dog_classes2\\images\\image\\train\\X_HUSKY:  47%|████████████████▌                  | 77/163 [00:00<00:01, 79.40files/s]"
     ]
    },
    {
     "name": "stdout",
     "output_type": "stream",
     "text": [
      "\n",
      "./dog_classes2\\images\\image\\train\\X_HUSKY\\159.jpg\n",
      "./dog_classes2\\images\\image\\train\\X_HUSKY\\16.jpg\n",
      "./dog_classes2\\images\\image\\train\\X_HUSKY\\160.jpg\n",
      "./dog_classes2\\images\\image\\train\\X_HUSKY\\161.jpg\n",
      "./dog_classes2\\images\\image\\train\\X_HUSKY\\162.jpg\n",
      "./dog_classes2\\images\\image\\train\\X_HUSKY\\17.jpg\n",
      "./dog_classes2\\images\\image\\train\\X_HUSKY\\18.jpg\n",
      "./dog_classes2\\images\\image\\train\\X_HUSKY\\19.jpg\n",
      "./dog_classes2\\images\\image\\train\\X_HUSKY\\2.jpg\n",
      "./dog_classes2\\images\\image\\train\\X_HUSKY\\20.jpg\n",
      "./dog_classes2\\images\\image\\train\\X_HUSKY\\21.jpg\n",
      "./dog_classes2\\images\\image\\train\\X_HUSKY\\22.jpg\n",
      "./dog_classes2\\images\\image\\train\\X_HUSKY\\23.jpg\n",
      "./dog_classes2\\images\\image\\train\\X_HUSKY\\24.jpg\n",
      "./dog_classes2\\images\\image\\train\\X_HUSKY\\25.jpg\n",
      "./dog_classes2\\images\\image\\train\\X_HUSKY\\26.jpg"
     ]
    },
    {
     "name": "stderr",
     "output_type": "stream",
     "text": [
      ".-dog_classes2\\images\\image\\train\\X_HUSKY:  58%|████████████████████▏              | 94/163 [00:01<00:00, 79.97files/s]"
     ]
    },
    {
     "name": "stdout",
     "output_type": "stream",
     "text": [
      "\n",
      "./dog_classes2\\images\\image\\train\\X_HUSKY\\27.jpg\n",
      "./dog_classes2\\images\\image\\train\\X_HUSKY\\28.jpg\n",
      "./dog_classes2\\images\\image\\train\\X_HUSKY\\29.jpg\n",
      "./dog_classes2\\images\\image\\train\\X_HUSKY\\3.jpg\n",
      "./dog_classes2\\images\\image\\train\\X_HUSKY\\30.jpg\n",
      "./dog_classes2\\images\\image\\train\\X_HUSKY\\31.jpg\n",
      "./dog_classes2\\images\\image\\train\\X_HUSKY\\32.jpg\n",
      "./dog_classes2\\images\\image\\train\\X_HUSKY\\33.jpg\n",
      "./dog_classes2\\images\\image\\train\\X_HUSKY\\34.jpg\n",
      "./dog_classes2\\images\\image\\train\\X_HUSKY\\35.jpg\n",
      "./dog_classes2\\images\\image\\train\\X_HUSKY\\36.jpg\n",
      "./dog_classes2\\images\\image\\train\\X_HUSKY\\37.jpg\n",
      "./dog_classes2\\images\\image\\train\\X_HUSKY\\38.jpg\n",
      "./dog_classes2\\images\\image\\train\\X_HUSKY\\39.jpg"
     ]
    },
    {
     "name": "stderr",
     "output_type": "stream",
     "text": [
      ".-dog_classes2\\images\\image\\train\\X_HUSKY:  68%|███████████████████████▏          | 111/163 [00:01<00:00, 79.67files/s]"
     ]
    },
    {
     "name": "stdout",
     "output_type": "stream",
     "text": [
      "\n",
      "./dog_classes2\\images\\image\\train\\X_HUSKY\\4.jpg\n",
      "./dog_classes2\\images\\image\\train\\X_HUSKY\\40.jpg\n",
      "./dog_classes2\\images\\image\\train\\X_HUSKY\\41.jpg\n",
      "./dog_classes2\\images\\image\\train\\X_HUSKY\\42.jpg\n",
      "./dog_classes2\\images\\image\\train\\X_HUSKY\\43.jpg\n",
      "./dog_classes2\\images\\image\\train\\X_HUSKY\\44.jpg\n",
      "./dog_classes2\\images\\image\\train\\X_HUSKY\\45.jpg\n",
      "./dog_classes2\\images\\image\\train\\X_HUSKY\\46.jpg\n",
      "./dog_classes2\\images\\image\\train\\X_HUSKY\\47.jpg\n",
      "./dog_classes2\\images\\image\\train\\X_HUSKY\\48.jpg\n",
      "./dog_classes2\\images\\image\\train\\X_HUSKY\\49.jpg\n",
      "./dog_classes2\\images\\image\\train\\X_HUSKY\\5.jpg\n",
      "./dog_classes2\\images\\image\\train\\X_HUSKY\\50.jpg\n",
      "./dog_classes2\\images\\image\\train\\X_HUSKY\\51.jpg\n",
      "./dog_classes2\\images\\image\\train\\X_HUSKY\\52.jpg"
     ]
    },
    {
     "name": "stderr",
     "output_type": "stream",
     "text": [
      "\r",
      ".-dog_classes2\\images\\image\\train\\X_HUSKY:  73%|████████████████████████▊         | 119/163 [00:01<00:00, 75.54files/s]"
     ]
    },
    {
     "name": "stdout",
     "output_type": "stream",
     "text": [
      "\n",
      "./dog_classes2\\images\\image\\train\\X_HUSKY\\53.jpg\n",
      "./dog_classes2\\images\\image\\train\\X_HUSKY\\54.jpg\n",
      "./dog_classes2\\images\\image\\train\\X_HUSKY\\55.jpg\n",
      "./dog_classes2\\images\\image\\train\\X_HUSKY\\56.jpg\n",
      "./dog_classes2\\images\\image\\train\\X_HUSKY\\57.jpg\n",
      "./dog_classes2\\images\\image\\train\\X_HUSKY\\58.jpg\n",
      "./dog_classes2\\images\\image\\train\\X_HUSKY\\59.jpg\n",
      "./dog_classes2\\images\\image\\train\\X_HUSKY\\6.jpg\n",
      "./dog_classes2\\images\\image\\train\\X_HUSKY\\60.jpg\n",
      "./dog_classes2\\images\\image\\train\\X_HUSKY\\61.jpg\n",
      "./dog_classes2\\images\\image\\train\\X_HUSKY\\62.jpg\n",
      "./dog_classes2\\images\\image\\train\\X_HUSKY\\63.jpg\n",
      "./dog_classes2\\images\\image\\train\\X_HUSKY\\64.jpg\n",
      "./dog_classes2\\images\\image\\train\\X_HUSKY\\65.jpg"
     ]
    },
    {
     "name": "stderr",
     "output_type": "stream",
     "text": [
      ".-dog_classes2\\images\\image\\train\\X_HUSKY:  83%|████████████████████████████▎     | 136/163 [00:01<00:00, 78.91files/s]"
     ]
    },
    {
     "name": "stdout",
     "output_type": "stream",
     "text": [
      "\n",
      "./dog_classes2\\images\\image\\train\\X_HUSKY\\66.jpg\n",
      "./dog_classes2\\images\\image\\train\\X_HUSKY\\67.jpg\n",
      "./dog_classes2\\images\\image\\train\\X_HUSKY\\68.jpg\n",
      "./dog_classes2\\images\\image\\train\\X_HUSKY\\69.jpg\n",
      "./dog_classes2\\images\\image\\train\\X_HUSKY\\7.jpg\n",
      "./dog_classes2\\images\\image\\train\\X_HUSKY\\70.jpg\n",
      "./dog_classes2\\images\\image\\train\\X_HUSKY\\71.jpg\n",
      "./dog_classes2\\images\\image\\train\\X_HUSKY\\72.jpg\n",
      "./dog_classes2\\images\\image\\train\\X_HUSKY\\73.jpg\n",
      "./dog_classes2\\images\\image\\train\\X_HUSKY\\74.jpg\n",
      "./dog_classes2\\images\\image\\train\\X_HUSKY\\75.jpg\n",
      "./dog_classes2\\images\\image\\train\\X_HUSKY\\76.jpg\n",
      "./dog_classes2\\images\\image\\train\\X_HUSKY\\77.jpg\n",
      "./dog_classes2\\images\\image\\train\\X_HUSKY\\78.jpg\n",
      "./dog_classes2\\images\\image\\train\\X_HUSKY\\79.jpg"
     ]
    },
    {
     "name": "stderr",
     "output_type": "stream",
     "text": [
      ".-dog_classes2\\images\\image\\train\\X_HUSKY:  94%|███████████████████████████████▉  | 153/163 [00:01<00:00, 78.61files/s]"
     ]
    },
    {
     "name": "stdout",
     "output_type": "stream",
     "text": [
      "\n",
      "./dog_classes2\\images\\image\\train\\X_HUSKY\\8.jpg\n",
      "./dog_classes2\\images\\image\\train\\X_HUSKY\\80.jpg\n",
      "./dog_classes2\\images\\image\\train\\X_HUSKY\\81.jpg\n",
      "./dog_classes2\\images\\image\\train\\X_HUSKY\\82.jpg\n",
      "./dog_classes2\\images\\image\\train\\X_HUSKY\\83.jpg\n",
      "./dog_classes2\\images\\image\\train\\X_HUSKY\\84.jpg\n",
      "./dog_classes2\\images\\image\\train\\X_HUSKY\\85.jpg\n",
      "./dog_classes2\\images\\image\\train\\X_HUSKY\\86.jpg\n",
      "./dog_classes2\\images\\image\\train\\X_HUSKY\\87.jpg\n",
      "./dog_classes2\\images\\image\\train\\X_HUSKY\\88.jpg\n",
      "./dog_classes2\\images\\image\\train\\X_HUSKY\\89.jpg\n",
      "./dog_classes2\\images\\image\\train\\X_HUSKY\\9.jpg\n",
      "./dog_classes2\\images\\image\\train\\X_HUSKY\\90.jpg\n",
      "./dog_classes2\\images\\image\\train\\X_HUSKY\\91.jpg\n",
      "./dog_classes2\\images\\image\\train\\X_HUSKY\\92.jpg"
     ]
    },
    {
     "name": "stderr",
     "output_type": "stream",
     "text": [
      ".-dog_classes2\\images\\image\\train\\X_SHIH_TZU:   0%|                                         | 0/250 [00:00<?, ?files/s]"
     ]
    },
    {
     "name": "stdout",
     "output_type": "stream",
     "text": [
      "\n",
      "./dog_classes2\\images\\image\\train\\X_HUSKY\\93.jpg\n",
      "./dog_classes2\\images\\image\\train\\X_HUSKY\\94.jpg\n",
      "./dog_classes2\\images\\image\\train\\X_HUSKY\\95.jpg\n",
      "./dog_classes2\\images\\image\\train\\X_HUSKY\\96.jpg\n",
      "./dog_classes2\\images\\image\\train\\X_HUSKY\\97.jpg\n",
      "./dog_classes2\\images\\image\\train\\X_HUSKY\\98.jpg\n",
      "./dog_classes2\\images\\image\\train\\X_HUSKY\\99.jpg\n",
      "./dog_classes2\\images\\image\\train\\X_SHIH_TZU\\0.jpg\n",
      "./dog_classes2\\images\\image\\train\\X_SHIH_TZU\\1.jpg\n",
      "./dog_classes2\\images\\image\\train\\X_SHIH_TZU\\10.jpg\n"
     ]
    },
    {
     "name": "stderr",
     "output_type": "stream",
     "text": [
      "\r",
      ".-dog_classes2\\images\\image\\train\\X_SHIH_TZU:   2%|▌                                | 4/250 [00:00<00:16, 14.91files/s]"
     ]
    },
    {
     "name": "stdout",
     "output_type": "stream",
     "text": [
      "./dog_classes2\\images\\image\\train\\X_SHIH_TZU\\100.jpg\n",
      "./dog_classes2\\images\\image\\train\\X_SHIH_TZU\\101.jpg\n",
      "./dog_classes2\\images\\image\\train\\X_SHIH_TZU\\102.jpg\n",
      "./dog_classes2\\images\\image\\train\\X_SHIH_TZU\\103.jpg\n",
      "./dog_classes2\\images\\image\\train\\X_SHIH_TZU\\104.jpg\n",
      "./dog_classes2\\images\\image\\train\\X_SHIH_TZU\\105.jpg\n",
      "./dog_classes2\\images\\image\\train\\X_SHIH_TZU\\106.jpg"
     ]
    },
    {
     "name": "stderr",
     "output_type": "stream",
     "text": [
      ".-dog_classes2\\images\\image\\train\\X_SHIH_TZU:   6%|██                              | 16/250 [00:00<00:10, 23.11files/s]"
     ]
    },
    {
     "name": "stdout",
     "output_type": "stream",
     "text": [
      "\n",
      "./dog_classes2\\images\\image\\train\\X_SHIH_TZU\\107.jpg\n",
      "./dog_classes2\\images\\image\\train\\X_SHIH_TZU\\108.jpg\n",
      "./dog_classes2\\images\\image\\train\\X_SHIH_TZU\\109.jpg\n",
      "./dog_classes2\\images\\image\\train\\X_SHIH_TZU\\11.jpg\n",
      "./dog_classes2\\images\\image\\train\\X_SHIH_TZU\\110.jpg\n",
      "./dog_classes2\\images\\image\\train\\X_SHIH_TZU\\111.jpg\n",
      "./dog_classes2\\images\\image\\train\\X_SHIH_TZU\\112.jpg\n",
      "./dog_classes2\\images\\image\\train\\X_SHIH_TZU\\113.jpg\n",
      "./dog_classes2\\images\\image\\train\\X_SHIH_TZU\\114.jpg\n",
      "./dog_classes2\\images\\image\\train\\X_SHIH_TZU\\115.jpg"
     ]
    },
    {
     "name": "stderr",
     "output_type": "stream",
     "text": [
      ".-dog_classes2\\images\\image\\train\\X_SHIH_TZU:  12%|███▉                            | 31/250 [00:00<00:06, 35.18files/s]"
     ]
    },
    {
     "name": "stdout",
     "output_type": "stream",
     "text": [
      "\n",
      "./dog_classes2\\images\\image\\train\\X_SHIH_TZU\\116.jpg\n",
      "./dog_classes2\\images\\image\\train\\X_SHIH_TZU\\117.jpg\n",
      "./dog_classes2\\images\\image\\train\\X_SHIH_TZU\\118.jpg\n",
      "./dog_classes2\\images\\image\\train\\X_SHIH_TZU\\119.jpg\n",
      "./dog_classes2\\images\\image\\train\\X_SHIH_TZU\\12.jpg\n",
      "./dog_classes2\\images\\image\\train\\X_SHIH_TZU\\120.jpg\n",
      "./dog_classes2\\images\\image\\train\\X_SHIH_TZU\\121.jpg\n",
      "./dog_classes2\\images\\image\\train\\X_SHIH_TZU\\122.jpg\n",
      "./dog_classes2\\images\\image\\train\\X_SHIH_TZU\\123.jpg\n",
      "./dog_classes2\\images\\image\\train\\X_SHIH_TZU\\124.jpg\n",
      "./dog_classes2\\images\\image\\train\\X_SHIH_TZU\\125.jpg\n",
      "./dog_classes2\\images\\image\\train\\X_SHIH_TZU\\126.jpg\n",
      "./dog_classes2\\images\\image\\train\\X_SHIH_TZU\\127.jpg\n",
      "./dog_classes2\\images\\image\\train\\X_SHIH_TZU\\128.jpg\n",
      "./dog_classes2\\images\\image\\train\\X_SHIH_TZU\\129.jpg\n",
      "./dog_classes2\\images\\image\\train\\X_SHIH_TZU\\13.jpg\n",
      "./dog_classes2\\images\\image\\train\\X_SHIH_TZU\\130.jpg\n",
      "./dog_classes2\\images\\image\\train\\X_SHIH_TZU\\131.jpg\n",
      "./dog_classes2\\images\\image\\train\\X_SHIH_TZU\\132.jpg\n"
     ]
    },
    {
     "name": "stderr",
     "output_type": "stream",
     "text": [
      ".-dog_classes2\\images\\image\\train\\X_SHIH_TZU:  19%|██████▏                         | 48/250 [00:01<00:04, 43.46files/s]"
     ]
    },
    {
     "name": "stdout",
     "output_type": "stream",
     "text": [
      "./dog_classes2\\images\\image\\train\\X_SHIH_TZU\\133.jpg\n",
      "./dog_classes2\\images\\image\\train\\X_SHIH_TZU\\134.jpg\n",
      "./dog_classes2\\images\\image\\train\\X_SHIH_TZU\\135.jpg\n",
      "./dog_classes2\\images\\image\\train\\X_SHIH_TZU\\136.jpg\n",
      "./dog_classes2\\images\\image\\train\\X_SHIH_TZU\\137.jpg\n",
      "./dog_classes2\\images\\image\\train\\X_SHIH_TZU\\138.jpg\n",
      "./dog_classes2\\images\\image\\train\\X_SHIH_TZU\\139.jpg\n",
      "./dog_classes2\\images\\image\\train\\X_SHIH_TZU\\14.jpg\n",
      "./dog_classes2\\images\\image\\train\\X_SHIH_TZU\\140.jpg\n",
      "./dog_classes2\\images\\image\\train\\X_SHIH_TZU\\141.jpg\n",
      "./dog_classes2\\images\\image\\train\\X_SHIH_TZU\\142.jpg\n",
      "./dog_classes2\\images\\image\\train\\X_SHIH_TZU\\143.jpg\n",
      "./dog_classes2\\images\\image\\train\\X_SHIH_TZU\\144.jpg\n",
      "./dog_classes2\\images\\image\\train\\X_SHIH_TZU\\145.jpg\n",
      "./dog_classes2\\images\\image\\train\\X_SHIH_TZU\\146.jpg\n",
      "./dog_classes2\\images\\image\\train\\X_SHIH_TZU\\147.jpg\n",
      "./dog_classes2\\images\\image\\train\\X_SHIH_TZU\\148.jpg\n",
      "./dog_classes2\\images\\image\\train\\X_SHIH_TZU\\149.jpg"
     ]
    },
    {
     "name": "stderr",
     "output_type": "stream",
     "text": [
      ".-dog_classes2\\images\\image\\train\\X_SHIH_TZU:  26%|████████▍                       | 66/250 [00:01<00:03, 57.33files/s]"
     ]
    },
    {
     "name": "stdout",
     "output_type": "stream",
     "text": [
      "\n",
      "./dog_classes2\\images\\image\\train\\X_SHIH_TZU\\15.jpg\n",
      "./dog_classes2\\images\\image\\train\\X_SHIH_TZU\\150.jpg\n",
      "./dog_classes2\\images\\image\\train\\X_SHIH_TZU\\151.jpg\n",
      "./dog_classes2\\images\\image\\train\\X_SHIH_TZU\\152.jpg\n",
      "./dog_classes2\\images\\image\\train\\X_SHIH_TZU\\153.jpg\n",
      "./dog_classes2\\images\\image\\train\\X_SHIH_TZU\\154.jpg\n",
      "./dog_classes2\\images\\image\\train\\X_SHIH_TZU\\155.jpg\n",
      "./dog_classes2\\images\\image\\train\\X_SHIH_TZU\\156.jpg\n",
      "./dog_classes2\\images\\image\\train\\X_SHIH_TZU\\157.jpg\n",
      "./dog_classes2\\images\\image\\train\\X_SHIH_TZU\\158.jpg\n",
      "./dog_classes2\\images\\image\\train\\X_SHIH_TZU\\159.jpg\n",
      "./dog_classes2\\images\\image\\train\\X_SHIH_TZU\\16.jpg\n",
      "./dog_classes2\\images\\image\\train\\X_SHIH_TZU\\160.jpg\n",
      "./dog_classes2\\images\\image\\train\\X_SHIH_TZU\\161.jpg\n",
      "./dog_classes2\\images\\image\\train\\X_SHIH_TZU\\162.jpg"
     ]
    },
    {
     "name": "stderr",
     "output_type": "stream",
     "text": [
      ".-dog_classes2\\images\\image\\train\\X_SHIH_TZU:  33%|██████████▌                     | 83/250 [00:01<00:02, 65.32files/s]"
     ]
    },
    {
     "name": "stdout",
     "output_type": "stream",
     "text": [
      "\n",
      "./dog_classes2\\images\\image\\train\\X_SHIH_TZU\\163.jpg\n",
      "./dog_classes2\\images\\image\\train\\X_SHIH_TZU\\164.jpg\n",
      "./dog_classes2\\images\\image\\train\\X_SHIH_TZU\\165.jpg\n",
      "./dog_classes2\\images\\image\\train\\X_SHIH_TZU\\166.jpg\n",
      "./dog_classes2\\images\\image\\train\\X_SHIH_TZU\\167.jpg\n",
      "./dog_classes2\\images\\image\\train\\X_SHIH_TZU\\168.jpg\n",
      "./dog_classes2\\images\\image\\train\\X_SHIH_TZU\\169.jpg\n",
      "./dog_classes2\\images\\image\\train\\X_SHIH_TZU\\17.jpg\n",
      "./dog_classes2\\images\\image\\train\\X_SHIH_TZU\\170.jpg\n",
      "./dog_classes2\\images\\image\\train\\X_SHIH_TZU\\171.jpg\n",
      "./dog_classes2\\images\\image\\train\\X_SHIH_TZU\\172.jpg\n",
      "./dog_classes2\\images\\image\\train\\X_SHIH_TZU\\173.jpg\n",
      "./dog_classes2\\images\\image\\train\\X_SHIH_TZU\\174.jpg\n",
      "./dog_classes2\\images\\image\\train\\X_SHIH_TZU\\175.jpg"
     ]
    },
    {
     "name": "stderr",
     "output_type": "stream",
     "text": [
      "\r",
      ".-dog_classes2\\images\\image\\train\\X_SHIH_TZU:  36%|███████████▋                    | 91/250 [00:01<00:02, 67.94files/s]"
     ]
    },
    {
     "name": "stdout",
     "output_type": "stream",
     "text": [
      "\n",
      "./dog_classes2\\images\\image\\train\\X_SHIH_TZU\\176.jpg\n",
      "./dog_classes2\\images\\image\\train\\X_SHIH_TZU\\177.jpg\n",
      "./dog_classes2\\images\\image\\train\\X_SHIH_TZU\\178.jpg\n",
      "./dog_classes2\\images\\image\\train\\X_SHIH_TZU\\179.jpg\n",
      "./dog_classes2\\images\\image\\train\\X_SHIH_TZU\\18.jpg\n",
      "./dog_classes2\\images\\image\\train\\X_SHIH_TZU\\180.jpg\n",
      "./dog_classes2\\images\\image\\train\\X_SHIH_TZU\\181.jpg\n",
      "./dog_classes2\\images\\image\\train\\X_SHIH_TZU\\182.jpg\n",
      "./dog_classes2\\images\\image\\train\\X_SHIH_TZU\\183.jpg\n",
      "./dog_classes2\\images\\image\\train\\X_SHIH_TZU\\184.jpg\n",
      "./dog_classes2\\images\\image\\train\\X_SHIH_TZU\\185.jpg\n",
      "./dog_classes2\\images\\image\\train\\X_SHIH_TZU\\186.jpg\n",
      "./dog_classes2\\images\\image\\train\\X_SHIH_TZU\\187.jpg\n"
     ]
    },
    {
     "name": "stderr",
     "output_type": "stream",
     "text": [
      ".-dog_classes2\\images\\image\\train\\X_SHIH_TZU:  43%|█████████████▎                 | 107/250 [00:01<00:02, 70.43files/s]"
     ]
    },
    {
     "name": "stdout",
     "output_type": "stream",
     "text": [
      "./dog_classes2\\images\\image\\train\\X_SHIH_TZU\\188.jpg\n",
      "./dog_classes2\\images\\image\\train\\X_SHIH_TZU\\189.jpg\n",
      "./dog_classes2\\images\\image\\train\\X_SHIH_TZU\\19.jpg\n",
      "./dog_classes2\\images\\image\\train\\X_SHIH_TZU\\190.jpg\n",
      "./dog_classes2\\images\\image\\train\\X_SHIH_TZU\\191.jpg\n",
      "./dog_classes2\\images\\image\\train\\X_SHIH_TZU\\192.jpg\n",
      "./dog_classes2\\images\\image\\train\\X_SHIH_TZU\\193.jpg\n",
      "./dog_classes2\\images\\image\\train\\X_SHIH_TZU\\194.jpg\n",
      "./dog_classes2\\images\\image\\train\\X_SHIH_TZU\\195.jpg\n",
      "./dog_classes2\\images\\image\\train\\X_SHIH_TZU\\196.jpg\n",
      "./dog_classes2\\images\\image\\train\\X_SHIH_TZU\\197.jpg\n",
      "./dog_classes2\\images\\image\\train\\X_SHIH_TZU\\198.jpg\n",
      "./dog_classes2\\images\\image\\train\\X_SHIH_TZU\\199.jpg"
     ]
    },
    {
     "name": "stderr",
     "output_type": "stream",
     "text": [
      ".-dog_classes2\\images\\image\\train\\X_SHIH_TZU:  49%|███████████████▏               | 122/250 [00:02<00:02, 63.24files/s]"
     ]
    },
    {
     "name": "stdout",
     "output_type": "stream",
     "text": [
      "\n",
      "./dog_classes2\\images\\image\\train\\X_SHIH_TZU\\2.jpg\n",
      "./dog_classes2\\images\\image\\train\\X_SHIH_TZU\\20.jpg\n",
      "./dog_classes2\\images\\image\\train\\X_SHIH_TZU\\200.jpg\n",
      "./dog_classes2\\images\\image\\train\\X_SHIH_TZU\\201.jpg\n",
      "./dog_classes2\\images\\image\\train\\X_SHIH_TZU\\202.jpg\n",
      "./dog_classes2\\images\\image\\train\\X_SHIH_TZU\\203.jpg\n",
      "./dog_classes2\\images\\image\\train\\X_SHIH_TZU\\204.jpg\n",
      "./dog_classes2\\images\\image\\train\\X_SHIH_TZU\\205.jpg\n",
      "./dog_classes2\\images\\image\\train\\X_SHIH_TZU\\206.jpg\n",
      "./dog_classes2\\images\\image\\train\\X_SHIH_TZU\\207.jpg\n",
      "./dog_classes2\\images\\image\\train\\X_SHIH_TZU\\208.jpg\n",
      "./dog_classes2\\images\\image\\train\\X_SHIH_TZU\\209.jpg\n",
      "./dog_classes2\\images\\image\\train\\X_SHIH_TZU\\21.jpg\n",
      "./dog_classes2\\images\\image\\train\\X_SHIH_TZU\\210.jpg"
     ]
    },
    {
     "name": "stderr",
     "output_type": "stream",
     "text": [
      ".-dog_classes2\\images\\image\\train\\X_SHIH_TZU:  55%|████████████████▉              | 137/250 [00:02<00:02, 52.29files/s]"
     ]
    },
    {
     "name": "stdout",
     "output_type": "stream",
     "text": [
      "\n",
      "./dog_classes2\\images\\image\\train\\X_SHIH_TZU\\211.jpg\n",
      "./dog_classes2\\images\\image\\train\\X_SHIH_TZU\\212.jpg\n",
      "./dog_classes2\\images\\image\\train\\X_SHIH_TZU\\213.jpg\n",
      "./dog_classes2\\images\\image\\train\\X_SHIH_TZU\\214.jpg\n",
      "./dog_classes2\\images\\image\\train\\X_SHIH_TZU\\215.jpg\n",
      "./dog_classes2\\images\\image\\train\\X_SHIH_TZU\\216.jpg\n",
      "./dog_classes2\\images\\image\\train\\X_SHIH_TZU\\217.jpg\n",
      "./dog_classes2\\images\\image\\train\\X_SHIH_TZU\\218.jpg\n",
      "./dog_classes2\\images\\image\\train\\X_SHIH_TZU\\219.jpg\n",
      "./dog_classes2\\images\\image\\train\\X_SHIH_TZU\\22.jpg\n",
      "./dog_classes2\\images\\image\\train\\X_SHIH_TZU\\220.jpg\n",
      "./dog_classes2\\images\\image\\train\\X_SHIH_TZU\\221.jpg\n",
      "./dog_classes2\\images\\image\\train\\X_SHIH_TZU\\222.jpg\n",
      "./dog_classes2\\images\\image\\train\\X_SHIH_TZU\\223.jpg"
     ]
    },
    {
     "name": "stderr",
     "output_type": "stream",
     "text": [
      ".-dog_classes2\\images\\image\\train\\X_SHIH_TZU:  61%|██████████████████▉            | 153/250 [00:02<00:01, 62.71files/s]"
     ]
    },
    {
     "name": "stdout",
     "output_type": "stream",
     "text": [
      "\n",
      "./dog_classes2\\images\\image\\train\\X_SHIH_TZU\\224.jpg\n",
      "./dog_classes2\\images\\image\\train\\X_SHIH_TZU\\225.jpg\n",
      "./dog_classes2\\images\\image\\train\\X_SHIH_TZU\\226.jpg\n",
      "./dog_classes2\\images\\image\\train\\X_SHIH_TZU\\227.jpg\n",
      "./dog_classes2\\images\\image\\train\\X_SHIH_TZU\\228.jpg\n",
      "./dog_classes2\\images\\image\\train\\X_SHIH_TZU\\229.jpg\n",
      "./dog_classes2\\images\\image\\train\\X_SHIH_TZU\\23.jpg\n",
      "./dog_classes2\\images\\image\\train\\X_SHIH_TZU\\230.jpg\n",
      "./dog_classes2\\images\\image\\train\\X_SHIH_TZU\\231.jpg\n",
      "./dog_classes2\\images\\image\\train\\X_SHIH_TZU\\232.jpg\n",
      "./dog_classes2\\images\\image\\train\\X_SHIH_TZU\\233.jpg\n",
      "./dog_classes2\\images\\image\\train\\X_SHIH_TZU\\234.jpg\n",
      "./dog_classes2\\images\\image\\train\\X_SHIH_TZU\\235.jpg\n",
      "./dog_classes2\\images\\image\\train\\X_SHIH_TZU\\236.jpg"
     ]
    },
    {
     "name": "stderr",
     "output_type": "stream",
     "text": [
      "\r",
      ".-dog_classes2\\images\\image\\train\\X_SHIH_TZU:  64%|███████████████████▊           | 160/250 [00:02<00:01, 63.55files/s]"
     ]
    },
    {
     "name": "stdout",
     "output_type": "stream",
     "text": [
      "\n",
      "./dog_classes2\\images\\image\\train\\X_SHIH_TZU\\237.jpg\n",
      "./dog_classes2\\images\\image\\train\\X_SHIH_TZU\\238.jpg\n",
      "./dog_classes2\\images\\image\\train\\X_SHIH_TZU\\239.jpg\n",
      "./dog_classes2\\images\\image\\train\\X_SHIH_TZU\\24.jpg\n",
      "./dog_classes2\\images\\image\\train\\X_SHIH_TZU\\240.jpg\n",
      "./dog_classes2\\images\\image\\train\\X_SHIH_TZU\\241.jpg\n",
      "./dog_classes2\\images\\image\\train\\X_SHIH_TZU\\242.jpg\n",
      "./dog_classes2\\images\\image\\train\\X_SHIH_TZU\\243.jpg\n",
      "./dog_classes2\\images\\image\\train\\X_SHIH_TZU\\244.jpg\n",
      "./dog_classes2\\images\\image\\train\\X_SHIH_TZU\\245.jpg\n",
      "./dog_classes2\\images\\image\\train\\X_SHIH_TZU\\246.jpg\n",
      "./dog_classes2\\images\\image\\train\\X_SHIH_TZU\\247.jpg\n",
      "./dog_classes2\\images\\image\\train\\X_SHIH_TZU\\248.jpg\n",
      "./dog_classes2\\images\\image\\train\\X_SHIH_TZU\\249.jpg"
     ]
    },
    {
     "name": "stderr",
     "output_type": "stream",
     "text": [
      ".-dog_classes2\\images\\image\\train\\X_SHIH_TZU:  71%|█████████████████████▉         | 177/250 [00:02<00:01, 69.36files/s]"
     ]
    },
    {
     "name": "stdout",
     "output_type": "stream",
     "text": [
      "\n",
      "./dog_classes2\\images\\image\\train\\X_SHIH_TZU\\25.jpg\n",
      "./dog_classes2\\images\\image\\train\\X_SHIH_TZU\\26.jpg\n",
      "./dog_classes2\\images\\image\\train\\X_SHIH_TZU\\27.jpg\n",
      "./dog_classes2\\images\\image\\train\\X_SHIH_TZU\\28.jpg\n",
      "./dog_classes2\\images\\image\\train\\X_SHIH_TZU\\29.jpg\n",
      "./dog_classes2\\images\\image\\train\\X_SHIH_TZU\\3.jpg\n",
      "./dog_classes2\\images\\image\\train\\X_SHIH_TZU\\30.jpg\n",
      "./dog_classes2\\images\\image\\train\\X_SHIH_TZU\\31.jpg\n",
      "./dog_classes2\\images\\image\\train\\X_SHIH_TZU\\32.jpg\n",
      "./dog_classes2\\images\\image\\train\\X_SHIH_TZU\\33.jpg\n",
      "./dog_classes2\\images\\image\\train\\X_SHIH_TZU\\34.jpg\n",
      "./dog_classes2\\images\\image\\train\\X_SHIH_TZU\\35.jpg\n",
      "./dog_classes2\\images\\image\\train\\X_SHIH_TZU\\36.jpg\n",
      "./dog_classes2\\images\\image\\train\\X_SHIH_TZU\\37.jpg"
     ]
    },
    {
     "name": "stderr",
     "output_type": "stream",
     "text": [
      ".-dog_classes2\\images\\image\\train\\X_SHIH_TZU:  78%|████████████████████████       | 194/250 [00:03<00:00, 73.72files/s]"
     ]
    },
    {
     "name": "stdout",
     "output_type": "stream",
     "text": [
      "\n",
      "./dog_classes2\\images\\image\\train\\X_SHIH_TZU\\38.jpg\n",
      "./dog_classes2\\images\\image\\train\\X_SHIH_TZU\\39.jpg\n",
      "./dog_classes2\\images\\image\\train\\X_SHIH_TZU\\4.jpg\n",
      "./dog_classes2\\images\\image\\train\\X_SHIH_TZU\\40.jpg\n",
      "./dog_classes2\\images\\image\\train\\X_SHIH_TZU\\41.jpg\n",
      "./dog_classes2\\images\\image\\train\\X_SHIH_TZU\\42.jpg\n",
      "./dog_classes2\\images\\image\\train\\X_SHIH_TZU\\43.jpg\n",
      "./dog_classes2\\images\\image\\train\\X_SHIH_TZU\\44.jpg\n",
      "./dog_classes2\\images\\image\\train\\X_SHIH_TZU\\45.jpg\n",
      "./dog_classes2\\images\\image\\train\\X_SHIH_TZU\\46.jpg\n",
      "./dog_classes2\\images\\image\\train\\X_SHIH_TZU\\47.jpg\n",
      "./dog_classes2\\images\\image\\train\\X_SHIH_TZU\\48.jpg\n",
      "./dog_classes2\\images\\image\\train\\X_SHIH_TZU\\49.jpg\n",
      "./dog_classes2\\images\\image\\train\\X_SHIH_TZU\\5.jpg"
     ]
    },
    {
     "name": "stderr",
     "output_type": "stream",
     "text": [
      "\r",
      ".-dog_classes2\\images\\image\\train\\X_SHIH_TZU:  81%|█████████████████████████      | 202/250 [00:03<00:00, 69.65files/s]"
     ]
    },
    {
     "name": "stdout",
     "output_type": "stream",
     "text": [
      "\n",
      "./dog_classes2\\images\\image\\train\\X_SHIH_TZU\\50.jpg\n",
      "./dog_classes2\\images\\image\\train\\X_SHIH_TZU\\51.jpg\n",
      "./dog_classes2\\images\\image\\train\\X_SHIH_TZU\\52.jpg\n",
      "./dog_classes2\\images\\image\\train\\X_SHIH_TZU\\53.jpg\n",
      "./dog_classes2\\images\\image\\train\\X_SHIH_TZU\\54.jpg\n",
      "./dog_classes2\\images\\image\\train\\X_SHIH_TZU\\55.jpg\n",
      "./dog_classes2\\images\\image\\train\\X_SHIH_TZU\\56.jpg\n",
      "./dog_classes2\\images\\image\\train\\X_SHIH_TZU\\57.jpg\n",
      "./dog_classes2\\images\\image\\train\\X_SHIH_TZU\\58.jpg\n",
      "./dog_classes2\\images\\image\\train\\X_SHIH_TZU\\59.jpg"
     ]
    },
    {
     "name": "stderr",
     "output_type": "stream",
     "text": [
      ".-dog_classes2\\images\\image\\train\\X_SHIH_TZU:  87%|██████████████████████████▉    | 217/250 [00:03<00:00, 65.38files/s]"
     ]
    },
    {
     "name": "stdout",
     "output_type": "stream",
     "text": [
      "\n",
      "./dog_classes2\\images\\image\\train\\X_SHIH_TZU\\6.jpg\n",
      "./dog_classes2\\images\\image\\train\\X_SHIH_TZU\\60.jpg\n",
      "./dog_classes2\\images\\image\\train\\X_SHIH_TZU\\61.jpg\n",
      "./dog_classes2\\images\\image\\train\\X_SHIH_TZU\\62.jpg\n",
      "./dog_classes2\\images\\image\\train\\X_SHIH_TZU\\63.jpg\n",
      "./dog_classes2\\images\\image\\train\\X_SHIH_TZU\\64.jpg\n",
      "./dog_classes2\\images\\image\\train\\X_SHIH_TZU\\65.jpg\n",
      "./dog_classes2\\images\\image\\train\\X_SHIH_TZU\\66.jpg\n",
      "./dog_classes2\\images\\image\\train\\X_SHIH_TZU\\67.jpg\n",
      "./dog_classes2\\images\\image\\train\\X_SHIH_TZU\\68.jpg\n",
      "./dog_classes2\\images\\image\\train\\X_SHIH_TZU\\69.jpg\n",
      "./dog_classes2\\images\\image\\train\\X_SHIH_TZU\\7.jpg\n",
      "./dog_classes2\\images\\image\\train\\X_SHIH_TZU\\70.jpg"
     ]
    },
    {
     "name": "stderr",
     "output_type": "stream",
     "text": [
      "\r",
      ".-dog_classes2\\images\\image\\train\\X_SHIH_TZU:  90%|███████████████████████████▊   | 224/250 [00:03<00:00, 64.90files/s]"
     ]
    },
    {
     "name": "stdout",
     "output_type": "stream",
     "text": [
      "\n",
      "./dog_classes2\\images\\image\\train\\X_SHIH_TZU\\71.jpg\n",
      "./dog_classes2\\images\\image\\train\\X_SHIH_TZU\\72.jpg\n",
      "./dog_classes2\\images\\image\\train\\X_SHIH_TZU\\73.jpg\n",
      "./dog_classes2\\images\\image\\train\\X_SHIH_TZU\\74.jpg\n",
      "./dog_classes2\\images\\image\\train\\X_SHIH_TZU\\75.jpg\n",
      "./dog_classes2\\images\\image\\train\\X_SHIH_TZU\\76.jpg\n",
      "./dog_classes2\\images\\image\\train\\X_SHIH_TZU\\77.jpg\n",
      "./dog_classes2\\images\\image\\train\\X_SHIH_TZU\\78.jpg\n",
      "./dog_classes2\\images\\image\\train\\X_SHIH_TZU\\79.jpg\n",
      "./dog_classes2\\images\\image\\train\\X_SHIH_TZU\\8.jpg\n",
      "./dog_classes2\\images\\image\\train\\X_SHIH_TZU\\80.jpg\n",
      "./dog_classes2\\images\\image\\train\\X_SHIH_TZU\\81.jpg\n",
      "./dog_classes2\\images\\image\\train\\X_SHIH_TZU\\82.jpg"
     ]
    },
    {
     "name": "stderr",
     "output_type": "stream",
     "text": [
      ".-dog_classes2\\images\\image\\train\\X_SHIH_TZU:  96%|█████████████████████████████▊ | 240/250 [00:03<00:00, 66.15files/s]"
     ]
    },
    {
     "name": "stdout",
     "output_type": "stream",
     "text": [
      "\n",
      "./dog_classes2\\images\\image\\train\\X_SHIH_TZU\\83.jpg\n",
      "./dog_classes2\\images\\image\\train\\X_SHIH_TZU\\84.jpg\n",
      "./dog_classes2\\images\\image\\train\\X_SHIH_TZU\\85.jpg\n",
      "./dog_classes2\\images\\image\\train\\X_SHIH_TZU\\86.jpg\n",
      "./dog_classes2\\images\\image\\train\\X_SHIH_TZU\\87.jpg\n",
      "./dog_classes2\\images\\image\\train\\X_SHIH_TZU\\88.jpg\n",
      "./dog_classes2\\images\\image\\train\\X_SHIH_TZU\\89.jpg\n",
      "./dog_classes2\\images\\image\\train\\X_SHIH_TZU\\9.jpg\n",
      "./dog_classes2\\images\\image\\train\\X_SHIH_TZU\\90.jpg\n",
      "./dog_classes2\\images\\image\\train\\X_SHIH_TZU\\91.jpg\n",
      "./dog_classes2\\images\\image\\train\\X_SHIH_TZU\\92.jpg\n",
      "./dog_classes2\\images\\image\\train\\X_SHIH_TZU\\93.jpg"
     ]
    },
    {
     "name": "stderr",
     "output_type": "stream",
     "text": [
      ".-dog_classes2\\images\\image\\test\\10_WELSH_CORGI:   0%|                                       | 0/23 [00:00<?, ?files/s]"
     ]
    },
    {
     "name": "stdout",
     "output_type": "stream",
     "text": [
      "\n",
      "./dog_classes2\\images\\image\\train\\X_SHIH_TZU\\94.jpg\n",
      "./dog_classes2\\images\\image\\train\\X_SHIH_TZU\\95.jpg\n",
      "./dog_classes2\\images\\image\\train\\X_SHIH_TZU\\96.jpg\n",
      "./dog_classes2\\images\\image\\train\\X_SHIH_TZU\\97.jpg\n",
      "./dog_classes2\\images\\image\\train\\X_SHIH_TZU\\98.jpg\n",
      "./dog_classes2\\images\\image\\train\\X_SHIH_TZU\\99.jpg\n",
      "./dog_classes2\\images\\image\\test\\10_WELSH_CORGI\\23.jpg\n",
      "./dog_classes2\\images\\image\\test\\10_WELSH_CORGI\\24.jpg\n",
      "./dog_classes2\\images\\image\\test\\10_WELSH_CORGI\\25.jpg\n",
      "./dog_classes2\\images\\image\\test\\10_WELSH_CORGI\\26.jpg\n",
      "./dog_classes2\\images\\image\\test\\10_WELSH_CORGI\\27.jpg\n",
      "./dog_classes2\\images\\image\\test\\10_WELSH_CORGI\\28.jpg\n",
      "./dog_classes2\\images\\image\\test\\10_WELSH_CORGI\\29.jpg\n",
      "./dog_classes2\\images\\image\\test\\10_WELSH_CORGI\\30.jpg\n",
      "./dog_classes2\\images\\image\\test\\10_WELSH_CORGI\\31.jpg"
     ]
    },
    {
     "name": "stderr",
     "output_type": "stream",
     "text": [
      ".-dog_classes2\\images\\image\\test\\11_BULLDOG:   0%|                                           | 0/84 [00:00<?, ?files/s]"
     ]
    },
    {
     "name": "stdout",
     "output_type": "stream",
     "text": [
      "\n",
      "./dog_classes2\\images\\image\\test\\10_WELSH_CORGI\\32.jpg\n",
      "./dog_classes2\\images\\image\\test\\10_WELSH_CORGI\\33.jpg\n",
      "./dog_classes2\\images\\image\\test\\10_WELSH_CORGI\\34.jpg\n",
      "./dog_classes2\\images\\image\\test\\10_WELSH_CORGI\\35.jpg\n",
      "./dog_classes2\\images\\image\\test\\10_WELSH_CORGI\\36.jpg\n",
      "./dog_classes2\\images\\image\\test\\10_WELSH_CORGI\\37.jpg\n",
      "./dog_classes2\\images\\image\\test\\10_WELSH_CORGI\\38.jpg\n",
      "./dog_classes2\\images\\image\\test\\10_WELSH_CORGI\\39.jpg\n",
      "./dog_classes2\\images\\image\\test\\10_WELSH_CORGI\\40.jpg\n",
      "./dog_classes2\\images\\image\\test\\10_WELSH_CORGI\\41.jpg\n",
      "./dog_classes2\\images\\image\\test\\10_WELSH_CORGI\\42.jpg\n",
      "./dog_classes2\\images\\image\\test\\10_WELSH_CORGI\\43.jpg\n",
      "./dog_classes2\\images\\image\\test\\10_WELSH_CORGI\\44.jpg\n",
      "./dog_classes2\\images\\image\\test\\10_WELSH_CORGI\\45.jpg\n",
      "./dog_classes2\\images\\image\\test\\11_BULLDOG\\0.jpg\n",
      "./dog_classes2\\images\\image\\test\\11_BULLDOG\\1.jpg\n",
      "./dog_classes2\\images\\image\\test\\11_BULLDOG\\10.jpg"
     ]
    },
    {
     "name": "stderr",
     "output_type": "stream",
     "text": [
      "\r",
      ".-dog_classes2\\images\\image\\test\\11_BULLDOG:   8%|██▉                                | 7/84 [00:00<00:01, 50.49files/s]"
     ]
    },
    {
     "name": "stdout",
     "output_type": "stream",
     "text": [
      "\n",
      "./dog_classes2\\images\\image\\test\\11_BULLDOG\\11.jpg\n",
      "./dog_classes2\\images\\image\\test\\11_BULLDOG\\12.jpg\n",
      "./dog_classes2\\images\\image\\test\\11_BULLDOG\\13.jpg\n",
      "./dog_classes2\\images\\image\\test\\11_BULLDOG\\14.jpg\n",
      "./dog_classes2\\images\\image\\test\\11_BULLDOG\\15.jpg\n",
      "./dog_classes2\\images\\image\\test\\11_BULLDOG\\16.jpg\n",
      "./dog_classes2\\images\\image\\test\\11_BULLDOG\\17.jpg\n",
      "./dog_classes2\\images\\image\\test\\11_BULLDOG\\18.jpg\n",
      "./dog_classes2\\images\\image\\test\\11_BULLDOG\\19.jpg\n",
      "./dog_classes2\\images\\image\\test\\11_BULLDOG\\2.jpg"
     ]
    },
    {
     "name": "stderr",
     "output_type": "stream",
     "text": [
      ".-dog_classes2\\images\\image\\test\\11_BULLDOG:  26%|████████▉                         | 22/84 [00:00<00:01, 59.76files/s]"
     ]
    },
    {
     "name": "stdout",
     "output_type": "stream",
     "text": [
      "\n",
      "./dog_classes2\\images\\image\\test\\11_BULLDOG\\20.jpg\n",
      "./dog_classes2\\images\\image\\test\\11_BULLDOG\\21.jpg\n",
      "./dog_classes2\\images\\image\\test\\11_BULLDOG\\22.jpg\n",
      "./dog_classes2\\images\\image\\test\\11_BULLDOG\\23.jpg\n",
      "./dog_classes2\\images\\image\\test\\11_BULLDOG\\24.jpg\n",
      "./dog_classes2\\images\\image\\test\\11_BULLDOG\\25.jpg\n",
      "./dog_classes2\\images\\image\\test\\11_BULLDOG\\26.jpg\n",
      "./dog_classes2\\images\\image\\test\\11_BULLDOG\\27.jpg\n",
      "./dog_classes2\\images\\image\\test\\11_BULLDOG\\28.jpg\n",
      "./dog_classes2\\images\\image\\test\\11_BULLDOG\\29.jpg\n",
      "./dog_classes2\\images\\image\\test\\11_BULLDOG\\3.jpg\n",
      "./dog_classes2\\images\\image\\test\\11_BULLDOG\\30.jpg\n",
      "./dog_classes2\\images\\image\\test\\11_BULLDOG\\31.jpg\n",
      "./dog_classes2\\images\\image\\test\\11_BULLDOG\\32.jpg"
     ]
    },
    {
     "name": "stderr",
     "output_type": "stream",
     "text": [
      ".-dog_classes2\\images\\image\\test\\11_BULLDOG:  43%|██████████████▌                   | 36/84 [00:00<00:00, 56.88files/s]"
     ]
    },
    {
     "name": "stdout",
     "output_type": "stream",
     "text": [
      "\n",
      "./dog_classes2\\images\\image\\test\\11_BULLDOG\\33.jpg\n",
      "./dog_classes2\\images\\image\\test\\11_BULLDOG\\34.jpg\n",
      "./dog_classes2\\images\\image\\test\\11_BULLDOG\\35.jpg\n",
      "./dog_classes2\\images\\image\\test\\11_BULLDOG\\36.jpg\n",
      "./dog_classes2\\images\\image\\test\\11_BULLDOG\\37.jpg\n",
      "./dog_classes2\\images\\image\\test\\11_BULLDOG\\38.jpg\n",
      "./dog_classes2\\images\\image\\test\\11_BULLDOG\\39.jpg\n",
      "./dog_classes2\\images\\image\\test\\11_BULLDOG\\4.jpg\n",
      "./dog_classes2\\images\\image\\test\\11_BULLDOG\\40.jpg\n",
      "./dog_classes2\\images\\image\\test\\11_BULLDOG\\41.jpg"
     ]
    },
    {
     "name": "stderr",
     "output_type": "stream",
     "text": [
      "\r",
      ".-dog_classes2\\images\\image\\test\\11_BULLDOG:  50%|█████████████████                 | 42/84 [00:00<00:00, 50.54files/s]"
     ]
    },
    {
     "name": "stdout",
     "output_type": "stream",
     "text": [
      "\n",
      "./dog_classes2\\images\\image\\test\\11_BULLDOG\\42.jpg\n",
      "./dog_classes2\\images\\image\\test\\11_BULLDOG\\43.jpg\n",
      "./dog_classes2\\images\\image\\test\\11_BULLDOG\\44.jpg\n",
      "./dog_classes2\\images\\image\\test\\11_BULLDOG\\45.jpg\n",
      "./dog_classes2\\images\\image\\test\\11_BULLDOG\\46.jpg\n",
      "./dog_classes2\\images\\image\\test\\11_BULLDOG\\47.jpg\n",
      "./dog_classes2\\images\\image\\test\\11_BULLDOG\\48.jpg\n",
      "./dog_classes2\\images\\image\\test\\11_BULLDOG\\49.jpg"
     ]
    },
    {
     "name": "stderr",
     "output_type": "stream",
     "text": [
      "\r",
      ".-dog_classes2\\images\\image\\test\\11_BULLDOG:  57%|███████████████████▍              | 48/84 [00:00<00:00, 45.29files/s]"
     ]
    },
    {
     "name": "stdout",
     "output_type": "stream",
     "text": [
      "\n",
      "./dog_classes2\\images\\image\\test\\11_BULLDOG\\5.jpg\n",
      "./dog_classes2\\images\\image\\test\\11_BULLDOG\\50.jpg\n",
      "./dog_classes2\\images\\image\\test\\11_BULLDOG\\51.jpg\n",
      "./dog_classes2\\images\\image\\test\\11_BULLDOG\\52.jpg\n",
      "./dog_classes2\\images\\image\\test\\11_BULLDOG\\53.jpg\n",
      "./dog_classes2\\images\\image\\test\\11_BULLDOG\\54.jpg\n",
      "./dog_classes2\\images\\image\\test\\11_BULLDOG\\55.jpg\n",
      "./dog_classes2\\images\\image\\test\\11_BULLDOG\\56.jpg"
     ]
    },
    {
     "name": "stderr",
     "output_type": "stream",
     "text": [
      ".-dog_classes2\\images\\image\\test\\11_BULLDOG:  75%|█████████████████████████▌        | 63/84 [00:01<00:00, 55.60files/s]"
     ]
    },
    {
     "name": "stdout",
     "output_type": "stream",
     "text": [
      "\n",
      "./dog_classes2\\images\\image\\test\\11_BULLDOG\\57.jpg\n",
      "./dog_classes2\\images\\image\\test\\11_BULLDOG\\58.jpg\n",
      "./dog_classes2\\images\\image\\test\\11_BULLDOG\\59.jpg\n",
      "./dog_classes2\\images\\image\\test\\11_BULLDOG\\6.jpg\n",
      "./dog_classes2\\images\\image\\test\\11_BULLDOG\\60.jpg\n",
      "./dog_classes2\\images\\image\\test\\11_BULLDOG\\61.jpg\n",
      "./dog_classes2\\images\\image\\test\\11_BULLDOG\\62.jpg\n",
      "./dog_classes2\\images\\image\\test\\11_BULLDOG\\63.jpg\n",
      "./dog_classes2\\images\\image\\test\\11_BULLDOG\\64.jpg\n",
      "./dog_classes2\\images\\image\\test\\11_BULLDOG\\65.jpg\n",
      "./dog_classes2\\images\\image\\test\\11_BULLDOG\\66.jpg\n",
      "./dog_classes2\\images\\image\\test\\11_BULLDOG\\67.jpg\n",
      "./dog_classes2\\images\\image\\test\\11_BULLDOG\\68.jpg"
     ]
    },
    {
     "name": "stderr",
     "output_type": "stream",
     "text": [
      ".-dog_classes2\\images\\image\\test\\11_BULLDOG:  89%|██████████████████████████████▎   | 75/84 [00:01<00:00, 56.45files/s]"
     ]
    },
    {
     "name": "stdout",
     "output_type": "stream",
     "text": [
      "\n",
      "./dog_classes2\\images\\image\\test\\11_BULLDOG\\69.jpg\n",
      "./dog_classes2\\images\\image\\test\\11_BULLDOG\\7.jpg\n",
      "./dog_classes2\\images\\image\\test\\11_BULLDOG\\70.jpg\n",
      "./dog_classes2\\images\\image\\test\\11_BULLDOG\\71.jpg\n",
      "./dog_classes2\\images\\image\\test\\11_BULLDOG\\72.jpg\n",
      "./dog_classes2\\images\\image\\test\\11_BULLDOG\\73.jpg\n",
      "./dog_classes2\\images\\image\\test\\11_BULLDOG\\74.jpg\n",
      "./dog_classes2\\images\\image\\test\\11_BULLDOG\\75.jpg\n",
      "./dog_classes2\\images\\image\\test\\11_BULLDOG\\76.jpg\n",
      "./dog_classes2\\images\\image\\test\\11_BULLDOG\\77.jpg\n",
      "./dog_classes2\\images\\image\\test\\11_BULLDOG\\78.jpg\n",
      "./dog_classes2\\images\\image\\test\\11_BULLDOG\\79.jpg"
     ]
    },
    {
     "name": "stderr",
     "output_type": "stream",
     "text": [
      ".-dog_classes2\\images\\image\\test\\12_SHETLAND_SHEEPDOG:   0%|                                 | 0/31 [00:00<?, ?files/s]"
     ]
    },
    {
     "name": "stdout",
     "output_type": "stream",
     "text": [
      "\n",
      "./dog_classes2\\images\\image\\test\\11_BULLDOG\\8.jpg\n",
      "./dog_classes2\\images\\image\\test\\11_BULLDOG\\80.jpg\n",
      "./dog_classes2\\images\\image\\test\\11_BULLDOG\\81.jpg\n",
      "./dog_classes2\\images\\image\\test\\11_BULLDOG\\82.jpg\n",
      "./dog_classes2\\images\\image\\test\\11_BULLDOG\\83.jpg\n",
      "./dog_classes2\\images\\image\\test\\11_BULLDOG\\9.jpg\n",
      "./dog_classes2\\images\\image\\test\\12_SHETLAND_SHEEPDOG\\0.jpg\n",
      "./dog_classes2\\images\\image\\test\\12_SHETLAND_SHEEPDOG\\1.jpg\n",
      "./dog_classes2\\images\\image\\test\\12_SHETLAND_SHEEPDOG\\10.jpg\n",
      "./dog_classes2\\images\\image\\test\\12_SHETLAND_SHEEPDOG\\11.jpg"
     ]
    },
    {
     "name": "stderr",
     "output_type": "stream",
     "text": [
      ".-dog_classes2\\images\\image\\test\\12_SHETLAND_SHEEPDOG:  42%|██████████              | 13/31 [00:00<00:00, 55.99files/s]"
     ]
    },
    {
     "name": "stdout",
     "output_type": "stream",
     "text": [
      "\n",
      "./dog_classes2\\images\\image\\test\\12_SHETLAND_SHEEPDOG\\12.jpg\n",
      "./dog_classes2\\images\\image\\test\\12_SHETLAND_SHEEPDOG\\13.jpg\n",
      "./dog_classes2\\images\\image\\test\\12_SHETLAND_SHEEPDOG\\14.jpg\n",
      "./dog_classes2\\images\\image\\test\\12_SHETLAND_SHEEPDOG\\15.jpg\n",
      "./dog_classes2\\images\\image\\test\\12_SHETLAND_SHEEPDOG\\16.jpg\n",
      "./dog_classes2\\images\\image\\test\\12_SHETLAND_SHEEPDOG\\17.jpg\n",
      "./dog_classes2\\images\\image\\test\\12_SHETLAND_SHEEPDOG\\18.jpg\n",
      "./dog_classes2\\images\\image\\test\\12_SHETLAND_SHEEPDOG\\19.jpg\n",
      "./dog_classes2\\images\\image\\test\\12_SHETLAND_SHEEPDOG\\2.jpg\n",
      "./dog_classes2\\images\\image\\test\\12_SHETLAND_SHEEPDOG\\20.jpg\n",
      "./dog_classes2\\images\\image\\test\\12_SHETLAND_SHEEPDOG\\21.jpg\n",
      "./dog_classes2\\images\\image\\test\\12_SHETLAND_SHEEPDOG\\22.jpg"
     ]
    },
    {
     "name": "stderr",
     "output_type": "stream",
     "text": [
      "\r",
      ".-dog_classes2\\images\\image\\test\\12_SHETLAND_SHEEPDOG:  68%|████████████████▎       | 21/31 [00:00<00:00, 60.04files/s]"
     ]
    },
    {
     "name": "stdout",
     "output_type": "stream",
     "text": [
      "\n",
      "./dog_classes2\\images\\image\\test\\12_SHETLAND_SHEEPDOG\\23.jpg\n",
      "./dog_classes2\\images\\image\\test\\12_SHETLAND_SHEEPDOG\\24.jpg\n",
      "./dog_classes2\\images\\image\\test\\12_SHETLAND_SHEEPDOG\\25.jpg\n",
      "./dog_classes2\\images\\image\\test\\12_SHETLAND_SHEEPDOG\\26.jpg\n",
      "./dog_classes2\\images\\image\\test\\12_SHETLAND_SHEEPDOG\\27.jpg\n",
      "./dog_classes2\\images\\image\\test\\12_SHETLAND_SHEEPDOG\\28.jpg\n",
      "./dog_classes2\\images\\image\\test\\12_SHETLAND_SHEEPDOG\\29.jpg\n",
      "./dog_classes2\\images\\image\\test\\12_SHETLAND_SHEEPDOG\\3.jpg\n",
      "./dog_classes2\\images\\image\\test\\12_SHETLAND_SHEEPDOG\\30.jpg\n",
      "./dog_classes2\\images\\image\\test\\12_SHETLAND_SHEEPDOG\\4.jpg\n",
      "./dog_classes2\\images\\image\\test\\12_SHETLAND_SHEEPDOG\\5.jpg\n",
      "./dog_classes2\\images\\image\\test\\12_SHETLAND_SHEEPDOG\\6.jpg\n",
      "./dog_classes2\\images\\image\\test\\12_SHETLAND_SHEEPDOG\\7.jpg"
     ]
    },
    {
     "name": "stderr",
     "output_type": "stream",
     "text": [
      ".-dog_classes2\\images\\image\\test\\13_SHIBA:  12%|████▎                                | 7/60 [00:00<00:00, 68.81files/s]"
     ]
    },
    {
     "name": "stdout",
     "output_type": "stream",
     "text": [
      "\n",
      "./dog_classes2\\images\\image\\test\\12_SHETLAND_SHEEPDOG\\8.jpg\n",
      "./dog_classes2\\images\\image\\test\\12_SHETLAND_SHEEPDOG\\9.jpg\n",
      "./dog_classes2\\images\\image\\test\\13_SHIBA\\0.jpg\n",
      "./dog_classes2\\images\\image\\test\\13_SHIBA\\1.jpg\n",
      "./dog_classes2\\images\\image\\test\\13_SHIBA\\10.jpg\n",
      "./dog_classes2\\images\\image\\test\\13_SHIBA\\11.jpg\n",
      "./dog_classes2\\images\\image\\test\\13_SHIBA\\12.jpg\n",
      "./dog_classes2\\images\\image\\test\\13_SHIBA\\13.jpg\n",
      "./dog_classes2\\images\\image\\test\\13_SHIBA\\14.jpg\n",
      "./dog_classes2\\images\\image\\test\\13_SHIBA\\15.jpg\n",
      "./dog_classes2\\images\\image\\test\\13_SHIBA\\16.jpg\n",
      "./dog_classes2\\images\\image\\test\\13_SHIBA\\17.jpg"
     ]
    },
    {
     "name": "stderr",
     "output_type": "stream",
     "text": [
      ".-dog_classes2\\images\\image\\test\\13_SHIBA:  37%|█████████████▏                      | 22/60 [00:00<00:00, 69.59files/s]"
     ]
    },
    {
     "name": "stdout",
     "output_type": "stream",
     "text": [
      "\n",
      "./dog_classes2\\images\\image\\test\\13_SHIBA\\18.jpg\n",
      "./dog_classes2\\images\\image\\test\\13_SHIBA\\19.jpg\n",
      "./dog_classes2\\images\\image\\test\\13_SHIBA\\2.jpg\n",
      "./dog_classes2\\images\\image\\test\\13_SHIBA\\20.jpg\n",
      "./dog_classes2\\images\\image\\test\\13_SHIBA\\21.jpg\n",
      "./dog_classes2\\images\\image\\test\\13_SHIBA\\22.jpg\n",
      "./dog_classes2\\images\\image\\test\\13_SHIBA\\23.jpg\n",
      "./dog_classes2\\images\\image\\test\\13_SHIBA\\24.jpg\n",
      "./dog_classes2\\images\\image\\test\\13_SHIBA\\25.jpg\n",
      "./dog_classes2\\images\\image\\test\\13_SHIBA\\26.jpg\n",
      "./dog_classes2\\images\\image\\test\\13_SHIBA\\27.jpg\n",
      "./dog_classes2\\images\\image\\test\\13_SHIBA\\28.jpg\n",
      "./dog_classes2\\images\\image\\test\\13_SHIBA\\29.jpg\n",
      "./dog_classes2\\images\\image\\test\\13_SHIBA\\3.jpg"
     ]
    },
    {
     "name": "stderr",
     "output_type": "stream",
     "text": [
      "\r",
      ".-dog_classes2\\images\\image\\test\\13_SHIBA:  48%|█████████████████▍                  | 29/60 [00:00<00:00, 68.74files/s]"
     ]
    },
    {
     "name": "stdout",
     "output_type": "stream",
     "text": [
      "\n",
      "./dog_classes2\\images\\image\\test\\13_SHIBA\\30.jpg\n",
      "./dog_classes2\\images\\image\\test\\13_SHIBA\\31.jpg\n",
      "./dog_classes2\\images\\image\\test\\13_SHIBA\\32.jpg\n",
      "./dog_classes2\\images\\image\\test\\13_SHIBA\\33.jpg\n",
      "./dog_classes2\\images\\image\\test\\13_SHIBA\\34.jpg\n",
      "./dog_classes2\\images\\image\\test\\13_SHIBA\\35.jpg\n",
      "./dog_classes2\\images\\image\\test\\13_SHIBA\\36.jpg\n",
      "./dog_classes2\\images\\image\\test\\13_SHIBA\\37.jpg\n",
      "./dog_classes2\\images\\image\\test\\13_SHIBA\\38.jpg\n",
      "./dog_classes2\\images\\image\\test\\13_SHIBA\\39.jpg\n",
      "./dog_classes2\\images\\image\\test\\13_SHIBA\\4.jpg\n",
      "./dog_classes2\\images\\image\\test\\13_SHIBA\\40.jpg\n",
      "./dog_classes2\\images\\image\\test\\13_SHIBA\\41.jpg\n"
     ]
    },
    {
     "name": "stderr",
     "output_type": "stream",
     "text": [
      ".-dog_classes2\\images\\image\\test\\13_SHIBA:  73%|██████████████████████████▍         | 44/60 [00:00<00:00, 69.35files/s]"
     ]
    },
    {
     "name": "stdout",
     "output_type": "stream",
     "text": [
      "./dog_classes2\\images\\image\\test\\13_SHIBA\\42.jpg\n",
      "./dog_classes2\\images\\image\\test\\13_SHIBA\\43.jpg\n",
      "./dog_classes2\\images\\image\\test\\13_SHIBA\\44.jpg\n",
      "./dog_classes2\\images\\image\\test\\13_SHIBA\\45.jpg\n",
      "./dog_classes2\\images\\image\\test\\13_SHIBA\\46.jpg\n",
      "./dog_classes2\\images\\image\\test\\13_SHIBA\\47.jpg\n",
      "./dog_classes2\\images\\image\\test\\13_SHIBA\\48.jpg\n",
      "./dog_classes2\\images\\image\\test\\13_SHIBA\\49.jpg\n",
      "./dog_classes2\\images\\image\\test\\13_SHIBA\\5.jpg\n",
      "./dog_classes2\\images\\image\\test\\13_SHIBA\\50.jpg\n",
      "./dog_classes2\\images\\image\\test\\13_SHIBA\\51.jpg\n",
      "./dog_classes2\\images\\image\\test\\13_SHIBA\\52.jpg\n",
      "./dog_classes2\\images\\image\\test\\13_SHIBA\\53.jpg\n",
      "./dog_classes2\\images\\image\\test\\13_SHIBA\\54.jpg"
     ]
    },
    {
     "name": "stderr",
     "output_type": "stream",
     "text": [
      ".-dog_classes2\\images\\image\\test\\14_GOLDEN_RETRIEVER:   0%|                                  | 0/55 [00:00<?, ?files/s]"
     ]
    },
    {
     "name": "stdout",
     "output_type": "stream",
     "text": [
      "\n",
      "./dog_classes2\\images\\image\\test\\13_SHIBA\\55.jpg\n",
      "./dog_classes2\\images\\image\\test\\13_SHIBA\\56.jpg\n",
      "./dog_classes2\\images\\image\\test\\13_SHIBA\\57.jpg\n",
      "./dog_classes2\\images\\image\\test\\13_SHIBA\\58.jpg\n",
      "./dog_classes2\\images\\image\\test\\13_SHIBA\\59.jpg\n",
      "./dog_classes2\\images\\image\\test\\13_SHIBA\\6.jpg\n",
      "./dog_classes2\\images\\image\\test\\13_SHIBA\\7.jpg\n",
      "./dog_classes2\\images\\image\\test\\13_SHIBA\\8.jpg\n",
      "./dog_classes2\\images\\image\\test\\13_SHIBA\\9.jpg\n",
      "./dog_classes2\\images\\image\\test\\14_GOLDEN_RETRIEVER\\100.jpg\n",
      "./dog_classes2\\images\\image\\test\\14_GOLDEN_RETRIEVER\\101.jpg\n",
      "./dog_classes2\\images\\image\\test\\14_GOLDEN_RETRIEVER\\102.jpg"
     ]
    },
    {
     "name": "stderr",
     "output_type": "stream",
     "text": [
      ".-dog_classes2\\images\\image\\test\\14_GOLDEN_RETRIEVER:  27%|██████▊                  | 15/55 [00:00<00:00, 73.73files/s]"
     ]
    },
    {
     "name": "stdout",
     "output_type": "stream",
     "text": [
      "\n",
      "./dog_classes2\\images\\image\\test\\14_GOLDEN_RETRIEVER\\103.jpg\n",
      "./dog_classes2\\images\\image\\test\\14_GOLDEN_RETRIEVER\\104.jpg\n",
      "./dog_classes2\\images\\image\\test\\14_GOLDEN_RETRIEVER\\105.jpg\n",
      "./dog_classes2\\images\\image\\test\\14_GOLDEN_RETRIEVER\\106.jpg\n",
      "./dog_classes2\\images\\image\\test\\14_GOLDEN_RETRIEVER\\107.jpg\n",
      "./dog_classes2\\images\\image\\test\\14_GOLDEN_RETRIEVER\\108.jpg\n",
      "./dog_classes2\\images\\image\\test\\14_GOLDEN_RETRIEVER\\109.jpg\n",
      "./dog_classes2\\images\\image\\test\\14_GOLDEN_RETRIEVER\\55.jpg\n",
      "./dog_classes2\\images\\image\\test\\14_GOLDEN_RETRIEVER\\56.jpg\n",
      "./dog_classes2\\images\\image\\test\\14_GOLDEN_RETRIEVER\\57.jpg\n",
      "./dog_classes2\\images\\image\\test\\14_GOLDEN_RETRIEVER\\58.jpg\n",
      "./dog_classes2\\images\\image\\test\\14_GOLDEN_RETRIEVER\\59.jpg\n",
      "./dog_classes2\\images\\image\\test\\14_GOLDEN_RETRIEVER\\60.jpg"
     ]
    },
    {
     "name": "stderr",
     "output_type": "stream",
     "text": [
      "\r",
      ".-dog_classes2\\images\\image\\test\\14_GOLDEN_RETRIEVER:  38%|█████████▌               | 21/55 [00:00<00:00, 68.35files/s]"
     ]
    },
    {
     "name": "stdout",
     "output_type": "stream",
     "text": [
      "\n",
      "./dog_classes2\\images\\image\\test\\14_GOLDEN_RETRIEVER\\61.jpg\n",
      "./dog_classes2\\images\\image\\test\\14_GOLDEN_RETRIEVER\\62.jpg\n",
      "./dog_classes2\\images\\image\\test\\14_GOLDEN_RETRIEVER\\63.jpg\n",
      "./dog_classes2\\images\\image\\test\\14_GOLDEN_RETRIEVER\\64.jpg\n",
      "./dog_classes2\\images\\image\\test\\14_GOLDEN_RETRIEVER\\65.jpg\n",
      "./dog_classes2\\images\\image\\test\\14_GOLDEN_RETRIEVER\\66.jpg\n",
      "./dog_classes2\\images\\image\\test\\14_GOLDEN_RETRIEVER\\67.jpg\n",
      "./dog_classes2\\images\\image\\test\\14_GOLDEN_RETRIEVER\\68.jpg\n",
      "./dog_classes2\\images\\image\\test\\14_GOLDEN_RETRIEVER\\69.jpg\n",
      "./dog_classes2\\images\\image\\test\\14_GOLDEN_RETRIEVER\\70.jpg"
     ]
    },
    {
     "name": "stderr",
     "output_type": "stream",
     "text": [
      ".-dog_classes2\\images\\image\\test\\14_GOLDEN_RETRIEVER:  60%|███████████████          | 33/55 [00:00<00:00, 59.92files/s]"
     ]
    },
    {
     "name": "stdout",
     "output_type": "stream",
     "text": [
      "\n",
      "./dog_classes2\\images\\image\\test\\14_GOLDEN_RETRIEVER\\71.jpg\n",
      "./dog_classes2\\images\\image\\test\\14_GOLDEN_RETRIEVER\\72.jpg\n",
      "./dog_classes2\\images\\image\\test\\14_GOLDEN_RETRIEVER\\73.jpg\n",
      "./dog_classes2\\images\\image\\test\\14_GOLDEN_RETRIEVER\\74.jpg\n",
      "./dog_classes2\\images\\image\\test\\14_GOLDEN_RETRIEVER\\75.jpg\n",
      "./dog_classes2\\images\\image\\test\\14_GOLDEN_RETRIEVER\\76.jpg\n",
      "./dog_classes2\\images\\image\\test\\14_GOLDEN_RETRIEVER\\77.jpg\n",
      "./dog_classes2\\images\\image\\test\\14_GOLDEN_RETRIEVER\\78.jpg\n",
      "./dog_classes2\\images\\image\\test\\14_GOLDEN_RETRIEVER\\79.jpg\n",
      "./dog_classes2\\images\\image\\test\\14_GOLDEN_RETRIEVER\\80.jpg\n",
      "./dog_classes2\\images\\image\\test\\14_GOLDEN_RETRIEVER\\81.jpg\n",
      "./dog_classes2\\images\\image\\test\\14_GOLDEN_RETRIEVER\\82.jpg"
     ]
    },
    {
     "name": "stderr",
     "output_type": "stream",
     "text": [
      ".-dog_classes2\\images\\image\\test\\14_GOLDEN_RETRIEVER:  87%|█████████████████████▊   | 48/55 [00:00<00:00, 63.07files/s]"
     ]
    },
    {
     "name": "stdout",
     "output_type": "stream",
     "text": [
      "\n",
      "./dog_classes2\\images\\image\\test\\14_GOLDEN_RETRIEVER\\83.jpg\n",
      "./dog_classes2\\images\\image\\test\\14_GOLDEN_RETRIEVER\\84.jpg\n",
      "./dog_classes2\\images\\image\\test\\14_GOLDEN_RETRIEVER\\85.jpg\n",
      "./dog_classes2\\images\\image\\test\\14_GOLDEN_RETRIEVER\\86.jpg\n",
      "./dog_classes2\\images\\image\\test\\14_GOLDEN_RETRIEVER\\87.jpg\n",
      "./dog_classes2\\images\\image\\test\\14_GOLDEN_RETRIEVER\\88.jpg\n",
      "./dog_classes2\\images\\image\\test\\14_GOLDEN_RETRIEVER\\89.jpg\n",
      "./dog_classes2\\images\\image\\test\\14_GOLDEN_RETRIEVER\\90.jpg\n",
      "./dog_classes2\\images\\image\\test\\14_GOLDEN_RETRIEVER\\91.jpg\n",
      "./dog_classes2\\images\\image\\test\\14_GOLDEN_RETRIEVER\\92.jpg\n",
      "./dog_classes2\\images\\image\\test\\14_GOLDEN_RETRIEVER\\93.jpg\n",
      "./dog_classes2\\images\\image\\test\\14_GOLDEN_RETRIEVER\\94.jpg"
     ]
    },
    {
     "name": "stderr",
     "output_type": "stream",
     "text": [
      ".-dog_classes2\\images\\image\\test\\15_ROTTWEILER:   0%|                                        | 0/50 [00:00<?, ?files/s]"
     ]
    },
    {
     "name": "stdout",
     "output_type": "stream",
     "text": [
      "\n",
      "./dog_classes2\\images\\image\\test\\14_GOLDEN_RETRIEVER\\95.jpg\n",
      "./dog_classes2\\images\\image\\test\\14_GOLDEN_RETRIEVER\\96.jpg\n",
      "./dog_classes2\\images\\image\\test\\14_GOLDEN_RETRIEVER\\97.jpg\n",
      "./dog_classes2\\images\\image\\test\\14_GOLDEN_RETRIEVER\\98.jpg\n",
      "./dog_classes2\\images\\image\\test\\14_GOLDEN_RETRIEVER\\99.jpg\n",
      "./dog_classes2\\images\\image\\test\\15_ROTTWEILER\\0.jpg\n",
      "./dog_classes2\\images\\image\\test\\15_ROTTWEILER\\1.jpg\n",
      "./dog_classes2\\images\\image\\test\\15_ROTTWEILER\\10.jpg\n",
      "./dog_classes2\\images\\image\\test\\15_ROTTWEILER\\11.jpg\n",
      "./dog_classes2\\images\\image\\test\\15_ROTTWEILER\\12.jpg\n",
      "./dog_classes2\\images\\image\\test\\15_ROTTWEILER\\13.jpg\n",
      "./dog_classes2\\images\\image\\test\\15_ROTTWEILER\\14.jpg"
     ]
    },
    {
     "name": "stderr",
     "output_type": "stream",
     "text": [
      ".-dog_classes2\\images\\image\\test\\15_ROTTWEILER:  28%|████████▋                      | 14/50 [00:00<00:00, 64.45files/s]"
     ]
    },
    {
     "name": "stdout",
     "output_type": "stream",
     "text": [
      "\n",
      "./dog_classes2\\images\\image\\test\\15_ROTTWEILER\\15.jpg\n",
      "./dog_classes2\\images\\image\\test\\15_ROTTWEILER\\16.jpg\n",
      "./dog_classes2\\images\\image\\test\\15_ROTTWEILER\\17.jpg\n",
      "./dog_classes2\\images\\image\\test\\15_ROTTWEILER\\18.jpg\n",
      "./dog_classes2\\images\\image\\test\\15_ROTTWEILER\\19.jpg\n",
      "./dog_classes2\\images\\image\\test\\15_ROTTWEILER\\2.jpg\n",
      "./dog_classes2\\images\\image\\test\\15_ROTTWEILER\\20.jpg\n",
      "./dog_classes2\\images\\image\\test\\15_ROTTWEILER\\21.jpg\n",
      "./dog_classes2\\images\\image\\test\\15_ROTTWEILER\\22.jpg\n",
      "./dog_classes2\\images\\image\\test\\15_ROTTWEILER\\23.jpg\n",
      "./dog_classes2\\images\\image\\test\\15_ROTTWEILER\\24.jpg\n",
      "./dog_classes2\\images\\image\\test\\15_ROTTWEILER\\25.jpg"
     ]
    },
    {
     "name": "stderr",
     "output_type": "stream",
     "text": [
      ".-dog_classes2\\images\\image\\test\\15_ROTTWEILER:  58%|█████████████████▉             | 29/50 [00:00<00:00, 66.27files/s]"
     ]
    },
    {
     "name": "stdout",
     "output_type": "stream",
     "text": [
      "\n",
      "./dog_classes2\\images\\image\\test\\15_ROTTWEILER\\26.jpg\n",
      "./dog_classes2\\images\\image\\test\\15_ROTTWEILER\\27.jpg\n",
      "./dog_classes2\\images\\image\\test\\15_ROTTWEILER\\28.jpg\n",
      "./dog_classes2\\images\\image\\test\\15_ROTTWEILER\\29.jpg\n",
      "./dog_classes2\\images\\image\\test\\15_ROTTWEILER\\3.jpg\n",
      "./dog_classes2\\images\\image\\test\\15_ROTTWEILER\\30.jpg\n",
      "./dog_classes2\\images\\image\\test\\15_ROTTWEILER\\31.jpg\n",
      "./dog_classes2\\images\\image\\test\\15_ROTTWEILER\\32.jpg\n",
      "./dog_classes2\\images\\image\\test\\15_ROTTWEILER\\33.jpg\n",
      "./dog_classes2\\images\\image\\test\\15_ROTTWEILER\\34.jpg\n",
      "./dog_classes2\\images\\image\\test\\15_ROTTWEILER\\35.jpg\n",
      "./dog_classes2\\images\\image\\test\\15_ROTTWEILER\\36.jpg\n",
      "./dog_classes2\\images\\image\\test\\15_ROTTWEILER\\37.jpg"
     ]
    },
    {
     "name": "stderr",
     "output_type": "stream",
     "text": [
      ".-dog_classes2\\images\\image\\test\\15_ROTTWEILER:  86%|██████████████████████████▋    | 43/50 [00:00<00:00, 65.83files/s]"
     ]
    },
    {
     "name": "stdout",
     "output_type": "stream",
     "text": [
      "\n",
      "./dog_classes2\\images\\image\\test\\15_ROTTWEILER\\38.jpg\n",
      "./dog_classes2\\images\\image\\test\\15_ROTTWEILER\\39.jpg\n",
      "./dog_classes2\\images\\image\\test\\15_ROTTWEILER\\4.jpg\n",
      "./dog_classes2\\images\\image\\test\\15_ROTTWEILER\\40.jpg\n",
      "./dog_classes2\\images\\image\\test\\15_ROTTWEILER\\41.jpg\n",
      "./dog_classes2\\images\\image\\test\\15_ROTTWEILER\\42.jpg\n",
      "./dog_classes2\\images\\image\\test\\15_ROTTWEILER\\43.jpg\n",
      "./dog_classes2\\images\\image\\test\\15_ROTTWEILER\\44.jpg\n",
      "./dog_classes2\\images\\image\\test\\15_ROTTWEILER\\45.jpg\n",
      "./dog_classes2\\images\\image\\test\\15_ROTTWEILER\\46.jpg\n",
      "./dog_classes2\\images\\image\\test\\15_ROTTWEILER\\47.jpg\n",
      "./dog_classes2\\images\\image\\test\\15_ROTTWEILER\\48.jpg"
     ]
    },
    {
     "name": "stderr",
     "output_type": "stream",
     "text": [
      ".-dog_classes2\\images\\image\\test\\17_PUG:   0%|                                              | 0/114 [00:00<?, ?files/s]"
     ]
    },
    {
     "name": "stdout",
     "output_type": "stream",
     "text": [
      "\n",
      "./dog_classes2\\images\\image\\test\\15_ROTTWEILER\\49.jpg\n",
      "./dog_classes2\\images\\image\\test\\15_ROTTWEILER\\5.jpg\n",
      "./dog_classes2\\images\\image\\test\\15_ROTTWEILER\\6.jpg\n",
      "./dog_classes2\\images\\image\\test\\15_ROTTWEILER\\7.jpg\n",
      "./dog_classes2\\images\\image\\test\\15_ROTTWEILER\\8.jpg\n",
      "./dog_classes2\\images\\image\\test\\15_ROTTWEILER\\9.jpg\n",
      "./dog_classes2\\images\\image\\test\\17_PUG\\114.jpg\n",
      "./dog_classes2\\images\\image\\test\\17_PUG\\115.jpg\n",
      "./dog_classes2\\images\\image\\test\\17_PUG\\116.jpg\n",
      "./dog_classes2\\images\\image\\test\\17_PUG\\117.jpg\n",
      "./dog_classes2\\images\\image\\test\\17_PUG\\118.jpg\n",
      "./dog_classes2\\images\\image\\test\\17_PUG\\119.jpg"
     ]
    },
    {
     "name": "stderr",
     "output_type": "stream",
     "text": [
      ".-dog_classes2\\images\\image\\test\\17_PUG:  12%|████▌                                | 14/114 [00:00<00:01, 68.41files/s]"
     ]
    },
    {
     "name": "stdout",
     "output_type": "stream",
     "text": [
      "\n",
      "./dog_classes2\\images\\image\\test\\17_PUG\\120.jpg\n",
      "./dog_classes2\\images\\image\\test\\17_PUG\\121.jpg\n",
      "./dog_classes2\\images\\image\\test\\17_PUG\\122.jpg\n",
      "./dog_classes2\\images\\image\\test\\17_PUG\\123.jpg\n",
      "./dog_classes2\\images\\image\\test\\17_PUG\\124.jpg\n",
      "./dog_classes2\\images\\image\\test\\17_PUG\\125.jpg\n",
      "./dog_classes2\\images\\image\\test\\17_PUG\\126.jpg\n",
      "./dog_classes2\\images\\image\\test\\17_PUG\\127.jpg\n",
      "./dog_classes2\\images\\image\\test\\17_PUG\\128.jpg\n",
      "./dog_classes2\\images\\image\\test\\17_PUG\\129.jpg\n",
      "./dog_classes2\\images\\image\\test\\17_PUG\\130.jpg\n",
      "./dog_classes2\\images\\image\\test\\17_PUG\\131.jpg\n",
      "./dog_classes2\\images\\image\\test\\17_PUG\\132.jpg"
     ]
    },
    {
     "name": "stderr",
     "output_type": "stream",
     "text": [
      ".-dog_classes2\\images\\image\\test\\17_PUG:  25%|█████████                            | 28/114 [00:00<00:01, 67.52files/s]"
     ]
    },
    {
     "name": "stdout",
     "output_type": "stream",
     "text": [
      "\n",
      "./dog_classes2\\images\\image\\test\\17_PUG\\133.jpg\n",
      "./dog_classes2\\images\\image\\test\\17_PUG\\134.jpg\n",
      "./dog_classes2\\images\\image\\test\\17_PUG\\135.jpg\n",
      "./dog_classes2\\images\\image\\test\\17_PUG\\136.jpg\n",
      "./dog_classes2\\images\\image\\test\\17_PUG\\137.jpg\n",
      "./dog_classes2\\images\\image\\test\\17_PUG\\138.jpg\n",
      "./dog_classes2\\images\\image\\test\\17_PUG\\139.jpg\n",
      "./dog_classes2\\images\\image\\test\\17_PUG\\140.jpg\n",
      "./dog_classes2\\images\\image\\test\\17_PUG\\141.jpg\n",
      "./dog_classes2\\images\\image\\test\\17_PUG\\142.jpg\n",
      "./dog_classes2\\images\\image\\test\\17_PUG\\143.jpg\n",
      "./dog_classes2\\images\\image\\test\\17_PUG\\144.jpg"
     ]
    },
    {
     "name": "stderr",
     "output_type": "stream",
     "text": [
      ".-dog_classes2\\images\\image\\test\\17_PUG:  35%|████████████▉                        | 40/114 [00:00<00:01, 61.47files/s]"
     ]
    },
    {
     "name": "stdout",
     "output_type": "stream",
     "text": [
      "\n",
      "./dog_classes2\\images\\image\\test\\17_PUG\\145.jpg\n",
      "./dog_classes2\\images\\image\\test\\17_PUG\\146.jpg\n",
      "./dog_classes2\\images\\image\\test\\17_PUG\\147.jpg\n",
      "./dog_classes2\\images\\image\\test\\17_PUG\\148.jpg\n",
      "./dog_classes2\\images\\image\\test\\17_PUG\\149.jpg\n",
      "./dog_classes2\\images\\image\\test\\17_PUG\\150.jpg\n",
      "./dog_classes2\\images\\image\\test\\17_PUG\\151.jpg\n",
      "./dog_classes2\\images\\image\\test\\17_PUG\\152.jpg\n",
      "./dog_classes2\\images\\image\\test\\17_PUG\\153.jpg\n",
      "./dog_classes2\\images\\image\\test\\17_PUG\\154.jpg\n",
      "./dog_classes2\\images\\image\\test\\17_PUG\\155.jpg"
     ]
    },
    {
     "name": "stderr",
     "output_type": "stream",
     "text": [
      "\r",
      ".-dog_classes2\\images\\image\\test\\17_PUG:  42%|███████████████▌                     | 48/114 [00:00<00:01, 64.51files/s]"
     ]
    },
    {
     "name": "stdout",
     "output_type": "stream",
     "text": [
      "\n",
      "./dog_classes2\\images\\image\\test\\17_PUG\\156.jpg\n",
      "./dog_classes2\\images\\image\\test\\17_PUG\\157.jpg\n",
      "./dog_classes2\\images\\image\\test\\17_PUG\\158.jpg\n",
      "./dog_classes2\\images\\image\\test\\17_PUG\\159.jpg\n",
      "./dog_classes2\\images\\image\\test\\17_PUG\\160.jpg\n",
      "./dog_classes2\\images\\image\\test\\17_PUG\\161.jpg\n",
      "./dog_classes2\\images\\image\\test\\17_PUG\\162.jpg\n",
      "./dog_classes2\\images\\image\\test\\17_PUG\\163.jpg\n",
      "./dog_classes2\\images\\image\\test\\17_PUG\\164.jpg\n",
      "./dog_classes2\\images\\image\\test\\17_PUG\\165.jpg\n",
      "./dog_classes2\\images\\image\\test\\17_PUG\\166.jpg\n",
      "./dog_classes2\\images\\image\\test\\17_PUG\\167.jpg\n",
      "./dog_classes2\\images\\image\\test\\17_PUG\\168.jpg\n",
      "./dog_classes2\\images\\image\\test\\17_PUG\\169.jpg"
     ]
    },
    {
     "name": "stderr",
     "output_type": "stream",
     "text": [
      ".-dog_classes2\\images\\image\\test\\17_PUG:  57%|█████████████████████                | 65/114 [00:00<00:00, 70.29files/s]"
     ]
    },
    {
     "name": "stdout",
     "output_type": "stream",
     "text": [
      "\n",
      "./dog_classes2\\images\\image\\test\\17_PUG\\170.jpg\n",
      "./dog_classes2\\images\\image\\test\\17_PUG\\171.jpg\n",
      "./dog_classes2\\images\\image\\test\\17_PUG\\172.jpg\n",
      "./dog_classes2\\images\\image\\test\\17_PUG\\173.jpg\n",
      "./dog_classes2\\images\\image\\test\\17_PUG\\174.jpg\n",
      "./dog_classes2\\images\\image\\test\\17_PUG\\175.jpg\n",
      "./dog_classes2\\images\\image\\test\\17_PUG\\176.jpg\n",
      "./dog_classes2\\images\\image\\test\\17_PUG\\177.jpg\n",
      "./dog_classes2\\images\\image\\test\\17_PUG\\178.jpg\n",
      "./dog_classes2\\images\\image\\test\\17_PUG\\179.jpg\n",
      "./dog_classes2\\images\\image\\test\\17_PUG\\180.jpg\n",
      "./dog_classes2\\images\\image\\test\\17_PUG\\181.jpg\n",
      "./dog_classes2\\images\\image\\test\\17_PUG\\182.jpg\n",
      "./dog_classes2\\images\\image\\test\\17_PUG\\183.jpg\n",
      "./dog_classes2\\images\\image\\test\\17_PUG\\184.jpg"
     ]
    },
    {
     "name": "stderr",
     "output_type": "stream",
     "text": [
      ".-dog_classes2\\images\\image\\test\\17_PUG:  72%|██████████████████████████▌          | 82/114 [00:01<00:00, 74.86files/s]"
     ]
    },
    {
     "name": "stdout",
     "output_type": "stream",
     "text": [
      "\n",
      "./dog_classes2\\images\\image\\test\\17_PUG\\185.jpg\n",
      "./dog_classes2\\images\\image\\test\\17_PUG\\186.jpg\n",
      "./dog_classes2\\images\\image\\test\\17_PUG\\187.jpg\n",
      "./dog_classes2\\images\\image\\test\\17_PUG\\188.jpg\n",
      "./dog_classes2\\images\\image\\test\\17_PUG\\189.jpg\n",
      "./dog_classes2\\images\\image\\test\\17_PUG\\190.jpg\n",
      "./dog_classes2\\images\\image\\test\\17_PUG\\191.jpg\n",
      "./dog_classes2\\images\\image\\test\\17_PUG\\192.jpg\n",
      "./dog_classes2\\images\\image\\test\\17_PUG\\193.jpg\n",
      "./dog_classes2\\images\\image\\test\\17_PUG\\194.jpg\n",
      "./dog_classes2\\images\\image\\test\\17_PUG\\195.jpg\n",
      "./dog_classes2\\images\\image\\test\\17_PUG\\196.jpg\n",
      "./dog_classes2\\images\\image\\test\\17_PUG\\197.jpg\n",
      "./dog_classes2\\images\\image\\test\\17_PUG\\198.jpg"
     ]
    },
    {
     "name": "stderr",
     "output_type": "stream",
     "text": [
      ".-dog_classes2\\images\\image\\test\\17_PUG:  86%|███████████████████████████████▊     | 98/114 [00:01<00:00, 75.61files/s]"
     ]
    },
    {
     "name": "stdout",
     "output_type": "stream",
     "text": [
      "\n",
      "./dog_classes2\\images\\image\\test\\17_PUG\\199.jpg\n",
      "./dog_classes2\\images\\image\\test\\17_PUG\\200.jpg\n",
      "./dog_classes2\\images\\image\\test\\17_PUG\\201.jpg\n",
      "./dog_classes2\\images\\image\\test\\17_PUG\\202.jpg\n",
      "./dog_classes2\\images\\image\\test\\17_PUG\\203.jpg\n",
      "./dog_classes2\\images\\image\\test\\17_PUG\\204.jpg\n",
      "./dog_classes2\\images\\image\\test\\17_PUG\\205.jpg\n",
      "./dog_classes2\\images\\image\\test\\17_PUG\\206.jpg\n",
      "./dog_classes2\\images\\image\\test\\17_PUG\\207.jpg\n",
      "./dog_classes2\\images\\image\\test\\17_PUG\\208.jpg\n",
      "./dog_classes2\\images\\image\\test\\17_PUG\\209.jpg\n",
      "./dog_classes2\\images\\image\\test\\17_PUG\\210.jpg\n",
      "./dog_classes2\\images\\image\\test\\17_PUG\\211.jpg\n",
      "./dog_classes2\\images\\image\\test\\17_PUG\\212.jpg"
     ]
    },
    {
     "name": "stderr",
     "output_type": "stream",
     "text": [
      "\r",
      ".-dog_classes2\\images\\image\\test\\17_PUG:  93%|█████████████████████████████████▍  | 106/114 [00:01<00:00, 73.96files/s]"
     ]
    },
    {
     "name": "stdout",
     "output_type": "stream",
     "text": [
      "\n",
      "./dog_classes2\\images\\image\\test\\17_PUG\\213.jpg\n",
      "./dog_classes2\\images\\image\\test\\17_PUG\\214.jpg\n",
      "./dog_classes2\\images\\image\\test\\17_PUG\\215.jpg\n",
      "./dog_classes2\\images\\image\\test\\17_PUG\\216.jpg\n",
      "./dog_classes2\\images\\image\\test\\17_PUG\\217.jpg\n",
      "./dog_classes2\\images\\image\\test\\17_PUG\\218.jpg\n",
      "./dog_classes2\\images\\image\\test\\17_PUG\\219.jpg\n",
      "./dog_classes2\\images\\image\\test\\17_PUG\\220.jpg\n",
      "./dog_classes2\\images\\image\\test\\17_PUG\\221.jpg\n",
      "./dog_classes2\\images\\image\\test\\17_PUG\\222.jpg\n",
      "./dog_classes2\\images\\image\\test\\17_PUG\\223.jpg\n",
      "./dog_classes2\\images\\image\\test\\17_PUG\\224.jpg\n",
      "./dog_classes2\\images\\image\\test\\17_PUG\\225.jpg\n",
      "./dog_classes2\\images\\image\\test\\17_PUG\\226.jpg"
     ]
    },
    {
     "name": "stderr",
     "output_type": "stream",
     "text": [
      ".-dog_classes2\\images\\image\\test\\18_BEDLINGTON_TERRIER:   0%|                                | 0/36 [00:00<?, ?files/s]"
     ]
    },
    {
     "name": "stdout",
     "output_type": "stream",
     "text": [
      "\n",
      "./dog_classes2\\images\\image\\test\\17_PUG\\227.jpg\n",
      "./dog_classes2\\images\\image\\test\\18_BEDLINGTON_TERRIER\\0.jpg\n",
      "./dog_classes2\\images\\image\\test\\18_BEDLINGTON_TERRIER\\1.jpg\n",
      "./dog_classes2\\images\\image\\test\\18_BEDLINGTON_TERRIER\\10.jpg\n",
      "./dog_classes2\\images\\image\\test\\18_BEDLINGTON_TERRIER\\11.jpg\n"
     ]
    },
    {
     "name": "stderr",
     "output_type": "stream",
     "text": [
      ".-dog_classes2\\images\\image\\test\\18_BEDLINGTON_TERRIER:  33%|███████▋               | 12/36 [00:00<00:00, 24.63files/s]"
     ]
    },
    {
     "name": "stdout",
     "output_type": "stream",
     "text": [
      "./dog_classes2\\images\\image\\test\\18_BEDLINGTON_TERRIER\\12.jpg\n",
      "./dog_classes2\\images\\image\\test\\18_BEDLINGTON_TERRIER\\13.jpg\n",
      "./dog_classes2\\images\\image\\test\\18_BEDLINGTON_TERRIER\\14.jpg\n",
      "./dog_classes2\\images\\image\\test\\18_BEDLINGTON_TERRIER\\15.jpg\n",
      "./dog_classes2\\images\\image\\test\\18_BEDLINGTON_TERRIER\\16.jpg\n",
      "./dog_classes2\\images\\image\\test\\18_BEDLINGTON_TERRIER\\17.jpg\n",
      "./dog_classes2\\images\\image\\test\\18_BEDLINGTON_TERRIER\\18.jpg\n",
      "./dog_classes2\\images\\image\\test\\18_BEDLINGTON_TERRIER\\19.jpg\n",
      "./dog_classes2\\images\\image\\test\\18_BEDLINGTON_TERRIER\\2.jpg\n",
      "./dog_classes2\\images\\image\\test\\18_BEDLINGTON_TERRIER\\20.jpg\n",
      "./dog_classes2\\images\\image\\test\\18_BEDLINGTON_TERRIER\\21.jpg\n",
      "./dog_classes2\\images\\image\\test\\18_BEDLINGTON_TERRIER\\22.jpg\n",
      "./dog_classes2\\images\\image\\test\\18_BEDLINGTON_TERRIER\\23.jpg\n",
      "./dog_classes2\\images\\image\\test\\18_BEDLINGTON_TERRIER\\24.jpg\n",
      "./dog_classes2\\images\\image\\test\\18_BEDLINGTON_TERRIER\\25.jpg\n",
      "./dog_classes2\\images\\image\\test\\18_BEDLINGTON_TERRIER\\26.jpg"
     ]
    },
    {
     "name": "stderr",
     "output_type": "stream",
     "text": [
      ".-dog_classes2\\images\\image\\test\\18_BEDLINGTON_TERRIER:  81%|██████████████████▌    | 29/36 [00:00<00:00, 38.29files/s]"
     ]
    },
    {
     "name": "stdout",
     "output_type": "stream",
     "text": [
      "\n",
      "./dog_classes2\\images\\image\\test\\18_BEDLINGTON_TERRIER\\27.jpg\n",
      "./dog_classes2\\images\\image\\test\\18_BEDLINGTON_TERRIER\\28.jpg\n",
      "./dog_classes2\\images\\image\\test\\18_BEDLINGTON_TERRIER\\29.jpg\n",
      "./dog_classes2\\images\\image\\test\\18_BEDLINGTON_TERRIER\\3.jpg\n",
      "./dog_classes2\\images\\image\\test\\18_BEDLINGTON_TERRIER\\30.jpg\n",
      "./dog_classes2\\images\\image\\test\\18_BEDLINGTON_TERRIER\\31.jpg\n",
      "./dog_classes2\\images\\image\\test\\18_BEDLINGTON_TERRIER\\32.jpg\n",
      "./dog_classes2\\images\\image\\test\\18_BEDLINGTON_TERRIER\\33.jpg\n",
      "./dog_classes2\\images\\image\\test\\18_BEDLINGTON_TERRIER\\34.jpg\n",
      "./dog_classes2\\images\\image\\test\\18_BEDLINGTON_TERRIER\\35.jpg\n",
      "./dog_classes2\\images\\image\\test\\18_BEDLINGTON_TERRIER\\4.jpg\n",
      "./dog_classes2\\images\\image\\test\\18_BEDLINGTON_TERRIER\\5.jpg\n",
      "./dog_classes2\\images\\image\\test\\18_BEDLINGTON_TERRIER\\6.jpg\n",
      "./dog_classes2\\images\\image\\test\\18_BEDLINGTON_TERRIER\\7.jpg\n",
      "./dog_classes2\\images\\image\\test\\18_BEDLINGTON_TERRIER\\8.jpg"
     ]
    },
    {
     "name": "stderr",
     "output_type": "stream",
     "text": [
      ".-dog_classes2\\images\\image\\test\\19_GERMAN_SHEPHERD_DOG:  15%|███▎                   | 8/55 [00:00<00:00, 78.64files/s]"
     ]
    },
    {
     "name": "stdout",
     "output_type": "stream",
     "text": [
      "\n",
      "./dog_classes2\\images\\image\\test\\18_BEDLINGTON_TERRIER\\9.jpg\n",
      "./dog_classes2\\images\\image\\test\\19_GERMAN_SHEPHERD_DOG\\100.jpg\n",
      "./dog_classes2\\images\\image\\test\\19_GERMAN_SHEPHERD_DOG\\101.jpg\n",
      "./dog_classes2\\images\\image\\test\\19_GERMAN_SHEPHERD_DOG\\102.jpg\n",
      "./dog_classes2\\images\\image\\test\\19_GERMAN_SHEPHERD_DOG\\103.jpg\n",
      "./dog_classes2\\images\\image\\test\\19_GERMAN_SHEPHERD_DOG\\104.jpg\n",
      "./dog_classes2\\images\\image\\test\\19_GERMAN_SHEPHERD_DOG\\105.jpg\n",
      "./dog_classes2\\images\\image\\test\\19_GERMAN_SHEPHERD_DOG\\106.jpg\n",
      "./dog_classes2\\images\\image\\test\\19_GERMAN_SHEPHERD_DOG\\107.jpg\n",
      "./dog_classes2\\images\\image\\test\\19_GERMAN_SHEPHERD_DOG\\108.jpg"
     ]
    },
    {
     "name": "stderr",
     "output_type": "stream",
     "text": [
      ".-dog_classes2\\images\\image\\test\\19_GERMAN_SHEPHERD_DOG:  31%|██████▊               | 17/55 [00:00<00:00, 48.73files/s]"
     ]
    },
    {
     "name": "stdout",
     "output_type": "stream",
     "text": [
      "\n",
      "./dog_classes2\\images\\image\\test\\19_GERMAN_SHEPHERD_DOG\\109.jpg\n",
      "./dog_classes2\\images\\image\\test\\19_GERMAN_SHEPHERD_DOG\\55.jpg\n",
      "./dog_classes2\\images\\image\\test\\19_GERMAN_SHEPHERD_DOG\\56.jpg\n",
      "./dog_classes2\\images\\image\\test\\19_GERMAN_SHEPHERD_DOG\\57.jpg\n",
      "./dog_classes2\\images\\image\\test\\19_GERMAN_SHEPHERD_DOG\\58.jpg\n",
      "./dog_classes2\\images\\image\\test\\19_GERMAN_SHEPHERD_DOG\\59.jpg\n",
      "./dog_classes2\\images\\image\\test\\19_GERMAN_SHEPHERD_DOG\\60.jpg\n",
      "./dog_classes2\\images\\image\\test\\19_GERMAN_SHEPHERD_DOG\\61.jpg\n",
      "./dog_classes2\\images\\image\\test\\19_GERMAN_SHEPHERD_DOG\\62.jpg"
     ]
    },
    {
     "name": "stderr",
     "output_type": "stream",
     "text": [
      "\r",
      ".-dog_classes2\\images\\image\\test\\19_GERMAN_SHEPHERD_DOG:  47%|██████████▍           | 26/55 [00:00<00:00, 55.69files/s]"
     ]
    },
    {
     "name": "stdout",
     "output_type": "stream",
     "text": [
      "\n",
      "./dog_classes2\\images\\image\\test\\19_GERMAN_SHEPHERD_DOG\\63.jpg\n",
      "./dog_classes2\\images\\image\\test\\19_GERMAN_SHEPHERD_DOG\\64.jpg\n",
      "./dog_classes2\\images\\image\\test\\19_GERMAN_SHEPHERD_DOG\\65.jpg\n",
      "./dog_classes2\\images\\image\\test\\19_GERMAN_SHEPHERD_DOG\\66.jpg\n",
      "./dog_classes2\\images\\image\\test\\19_GERMAN_SHEPHERD_DOG\\67.jpg\n",
      "./dog_classes2\\images\\image\\test\\19_GERMAN_SHEPHERD_DOG\\68.jpg\n",
      "./dog_classes2\\images\\image\\test\\19_GERMAN_SHEPHERD_DOG\\69.jpg\n",
      "./dog_classes2\\images\\image\\test\\19_GERMAN_SHEPHERD_DOG\\70.jpg\n",
      "./dog_classes2\\images\\image\\test\\19_GERMAN_SHEPHERD_DOG\\71.jpg\n",
      "./dog_classes2\\images\\image\\test\\19_GERMAN_SHEPHERD_DOG\\72.jpg\n",
      "./dog_classes2\\images\\image\\test\\19_GERMAN_SHEPHERD_DOG\\73.jpg\n",
      "./dog_classes2\\images\\image\\test\\19_GERMAN_SHEPHERD_DOG\\74.jpg\n",
      "./dog_classes2\\images\\image\\test\\19_GERMAN_SHEPHERD_DOG\\75.jpg\n",
      "./dog_classes2\\images\\image\\test\\19_GERMAN_SHEPHERD_DOG\\76.jpg\n",
      "./dog_classes2\\images\\image\\test\\19_GERMAN_SHEPHERD_DOG\\77.jpg\n",
      "./dog_classes2\\images\\image\\test\\19_GERMAN_SHEPHERD_DOG\\78.jpg"
     ]
    },
    {
     "name": "stderr",
     "output_type": "stream",
     "text": [
      ".-dog_classes2\\images\\image\\test\\19_GERMAN_SHEPHERD_DOG:  76%|████████████████▊     | 42/55 [00:00<00:00, 58.49files/s]"
     ]
    },
    {
     "name": "stdout",
     "output_type": "stream",
     "text": [
      "\n",
      "./dog_classes2\\images\\image\\test\\19_GERMAN_SHEPHERD_DOG\\79.jpg\n",
      "./dog_classes2\\images\\image\\test\\19_GERMAN_SHEPHERD_DOG\\80.jpg\n",
      "./dog_classes2\\images\\image\\test\\19_GERMAN_SHEPHERD_DOG\\81.jpg\n",
      "./dog_classes2\\images\\image\\test\\19_GERMAN_SHEPHERD_DOG\\82.jpg\n",
      "./dog_classes2\\images\\image\\test\\19_GERMAN_SHEPHERD_DOG\\83.jpg\n",
      "./dog_classes2\\images\\image\\test\\19_GERMAN_SHEPHERD_DOG\\84.jpg\n",
      "./dog_classes2\\images\\image\\test\\19_GERMAN_SHEPHERD_DOG\\85.jpg\n",
      "./dog_classes2\\images\\image\\test\\19_GERMAN_SHEPHERD_DOG\\86.jpg\n",
      "./dog_classes2\\images\\image\\test\\19_GERMAN_SHEPHERD_DOG\\87.jpg\n",
      "./dog_classes2\\images\\image\\test\\19_GERMAN_SHEPHERD_DOG\\88.jpg\n",
      "./dog_classes2\\images\\image\\test\\19_GERMAN_SHEPHERD_DOG\\89.jpg"
     ]
    },
    {
     "name": "stderr",
     "output_type": "stream",
     "text": [
      ".-dog_classes2\\images\\image\\test\\21_CHOW_CHOW:   0%|                                         | 0/65 [00:00<?, ?files/s]"
     ]
    },
    {
     "name": "stdout",
     "output_type": "stream",
     "text": [
      "\n",
      "./dog_classes2\\images\\image\\test\\19_GERMAN_SHEPHERD_DOG\\90.jpg\n",
      "./dog_classes2\\images\\image\\test\\19_GERMAN_SHEPHERD_DOG\\91.jpg\n",
      "./dog_classes2\\images\\image\\test\\19_GERMAN_SHEPHERD_DOG\\92.jpg\n",
      "./dog_classes2\\images\\image\\test\\19_GERMAN_SHEPHERD_DOG\\93.jpg\n",
      "./dog_classes2\\images\\image\\test\\19_GERMAN_SHEPHERD_DOG\\94.jpg\n",
      "./dog_classes2\\images\\image\\test\\19_GERMAN_SHEPHERD_DOG\\95.jpg\n",
      "./dog_classes2\\images\\image\\test\\19_GERMAN_SHEPHERD_DOG\\96.jpg\n",
      "./dog_classes2\\images\\image\\test\\19_GERMAN_SHEPHERD_DOG\\97.jpg\n",
      "./dog_classes2\\images\\image\\test\\19_GERMAN_SHEPHERD_DOG\\98.jpg\n",
      "./dog_classes2\\images\\image\\test\\19_GERMAN_SHEPHERD_DOG\\99.jpg\n",
      "./dog_classes2\\images\\image\\test\\21_CHOW_CHOW\\0.jpg\n",
      "./dog_classes2\\images\\image\\test\\21_CHOW_CHOW\\1.jpg\n",
      "./dog_classes2\\images\\image\\test\\21_CHOW_CHOW\\10.jpg\n",
      "./dog_classes2\\images\\image\\test\\21_CHOW_CHOW\\11.jpg"
     ]
    },
    {
     "name": "stderr",
     "output_type": "stream",
     "text": [
      ".-dog_classes2\\images\\image\\test\\21_CHOW_CHOW:  18%|█████▉                          | 12/65 [00:00<00:01, 49.79files/s]"
     ]
    },
    {
     "name": "stdout",
     "output_type": "stream",
     "text": [
      "\n",
      "./dog_classes2\\images\\image\\test\\21_CHOW_CHOW\\12.jpg\n",
      "./dog_classes2\\images\\image\\test\\21_CHOW_CHOW\\13.jpg\n",
      "./dog_classes2\\images\\image\\test\\21_CHOW_CHOW\\14.jpg\n",
      "./dog_classes2\\images\\image\\test\\21_CHOW_CHOW\\15.jpg\n",
      "./dog_classes2\\images\\image\\test\\21_CHOW_CHOW\\16.jpg\n",
      "./dog_classes2\\images\\image\\test\\21_CHOW_CHOW\\17.jpg\n",
      "./dog_classes2\\images\\image\\test\\21_CHOW_CHOW\\18.jpg\n",
      "./dog_classes2\\images\\image\\test\\21_CHOW_CHOW\\19.jpg\n",
      "./dog_classes2\\images\\image\\test\\21_CHOW_CHOW\\2.jpg\n",
      "./dog_classes2\\images\\image\\test\\21_CHOW_CHOW\\20.jpg\n",
      "./dog_classes2\\images\\image\\test\\21_CHOW_CHOW\\21.jpg"
     ]
    },
    {
     "name": "stderr",
     "output_type": "stream",
     "text": [
      "\r",
      ".-dog_classes2\\images\\image\\test\\21_CHOW_CHOW:  32%|██████████▎                     | 21/65 [00:00<00:00, 56.55files/s]"
     ]
    },
    {
     "name": "stdout",
     "output_type": "stream",
     "text": [
      "\n",
      "./dog_classes2\\images\\image\\test\\21_CHOW_CHOW\\22.jpg\n",
      "./dog_classes2\\images\\image\\test\\21_CHOW_CHOW\\23.jpg\n",
      "./dog_classes2\\images\\image\\test\\21_CHOW_CHOW\\24.jpg\n",
      "./dog_classes2\\images\\image\\test\\21_CHOW_CHOW\\25.jpg\n",
      "./dog_classes2\\images\\image\\test\\21_CHOW_CHOW\\26.jpg\n",
      "./dog_classes2\\images\\image\\test\\21_CHOW_CHOW\\27.jpg\n",
      "./dog_classes2\\images\\image\\test\\21_CHOW_CHOW\\28.jpg\n",
      "./dog_classes2\\images\\image\\test\\21_CHOW_CHOW\\29.jpg\n",
      "./dog_classes2\\images\\image\\test\\21_CHOW_CHOW\\3.jpg\n",
      "./dog_classes2\\images\\image\\test\\21_CHOW_CHOW\\30.jpg\n",
      "./dog_classes2\\images\\image\\test\\21_CHOW_CHOW\\31.jpg\n",
      "./dog_classes2\\images\\image\\test\\21_CHOW_CHOW\\32.jpg\n",
      "./dog_classes2\\images\\image\\test\\21_CHOW_CHOW\\33.jpg"
     ]
    },
    {
     "name": "stderr",
     "output_type": "stream",
     "text": [
      ".-dog_classes2\\images\\image\\test\\21_CHOW_CHOW:  54%|█████████████████▏              | 35/65 [00:00<00:00, 61.18files/s]"
     ]
    },
    {
     "name": "stdout",
     "output_type": "stream",
     "text": [
      "\n",
      "./dog_classes2\\images\\image\\test\\21_CHOW_CHOW\\34.jpg\n",
      "./dog_classes2\\images\\image\\test\\21_CHOW_CHOW\\35.jpg\n",
      "./dog_classes2\\images\\image\\test\\21_CHOW_CHOW\\36.jpg\n",
      "./dog_classes2\\images\\image\\test\\21_CHOW_CHOW\\37.jpg\n",
      "./dog_classes2\\images\\image\\test\\21_CHOW_CHOW\\38.jpg\n",
      "./dog_classes2\\images\\image\\test\\21_CHOW_CHOW\\39.jpg\n",
      "./dog_classes2\\images\\image\\test\\21_CHOW_CHOW\\4.jpg\n",
      "./dog_classes2\\images\\image\\test\\21_CHOW_CHOW\\40.jpg\n",
      "./dog_classes2\\images\\image\\test\\21_CHOW_CHOW\\41.jpg\n",
      "./dog_classes2\\images\\image\\test\\21_CHOW_CHOW\\42.jpg\n",
      "./dog_classes2\\images\\image\\test\\21_CHOW_CHOW\\43.jpg\n",
      "./dog_classes2\\images\\image\\test\\21_CHOW_CHOW\\44.jpg\n",
      "./dog_classes2\\images\\image\\test\\21_CHOW_CHOW\\45.jpg"
     ]
    },
    {
     "name": "stderr",
     "output_type": "stream",
     "text": [
      ".-dog_classes2\\images\\image\\test\\21_CHOW_CHOW:  75%|████████████████████████        | 49/65 [00:00<00:00, 64.90files/s]"
     ]
    },
    {
     "name": "stdout",
     "output_type": "stream",
     "text": [
      "\n",
      "./dog_classes2\\images\\image\\test\\21_CHOW_CHOW\\46.jpg\n",
      "./dog_classes2\\images\\image\\test\\21_CHOW_CHOW\\47.jpg\n",
      "./dog_classes2\\images\\image\\test\\21_CHOW_CHOW\\48.jpg\n",
      "./dog_classes2\\images\\image\\test\\21_CHOW_CHOW\\49.jpg\n",
      "./dog_classes2\\images\\image\\test\\21_CHOW_CHOW\\5.jpg\n",
      "./dog_classes2\\images\\image\\test\\21_CHOW_CHOW\\50.jpg\n",
      "./dog_classes2\\images\\image\\test\\21_CHOW_CHOW\\51.jpg\n",
      "./dog_classes2\\images\\image\\test\\21_CHOW_CHOW\\52.jpg\n",
      "./dog_classes2\\images\\image\\test\\21_CHOW_CHOW\\53.jpg\n",
      "./dog_classes2\\images\\image\\test\\21_CHOW_CHOW\\54.jpg\n",
      "./dog_classes2\\images\\image\\test\\21_CHOW_CHOW\\55.jpg\n",
      "./dog_classes2\\images\\image\\test\\21_CHOW_CHOW\\56.jpg\n",
      "./dog_classes2\\images\\image\\test\\21_CHOW_CHOW\\57.jpg\n"
     ]
    },
    {
     "name": "stderr",
     "output_type": "stream",
     "text": [
      "\r",
      ".-dog_classes2\\images\\image\\test\\21_CHOW_CHOW:  88%|████████████████████████████    | 57/65 [00:00<00:00, 62.27files/s]"
     ]
    },
    {
     "name": "stdout",
     "output_type": "stream",
     "text": [
      "./dog_classes2\\images\\image\\test\\21_CHOW_CHOW\\58.jpg\n",
      "./dog_classes2\\images\\image\\test\\21_CHOW_CHOW\\59.jpg\n",
      "./dog_classes2\\images\\image\\test\\21_CHOW_CHOW\\6.jpg\n",
      "./dog_classes2\\images\\image\\test\\21_CHOW_CHOW\\60.jpg\n",
      "./dog_classes2\\images\\image\\test\\21_CHOW_CHOW\\61.jpg\n",
      "./dog_classes2\\images\\image\\test\\21_CHOW_CHOW\\62.jpg\n",
      "./dog_classes2\\images\\image\\test\\21_CHOW_CHOW\\63.jpg\n",
      "./dog_classes2\\images\\image\\test\\21_CHOW_CHOW\\64.jpg\n",
      "./dog_classes2\\images\\image\\test\\21_CHOW_CHOW\\7.jpg"
     ]
    },
    {
     "name": "stderr",
     "output_type": "stream",
     "text": [
      ".-dog_classes2\\images\\image\\test\\22_DOBERMANN:  16%|█████                            | 9/58 [00:00<00:00, 80.57files/s]"
     ]
    },
    {
     "name": "stdout",
     "output_type": "stream",
     "text": [
      "\n",
      "./dog_classes2\\images\\image\\test\\21_CHOW_CHOW\\8.jpg\n",
      "./dog_classes2\\images\\image\\test\\21_CHOW_CHOW\\9.jpg\n",
      "./dog_classes2\\images\\image\\test\\22_DOBERMANN\\100.jpg\n",
      "./dog_classes2\\images\\image\\test\\22_DOBERMANN\\101.jpg\n",
      "./dog_classes2\\images\\image\\test\\22_DOBERMANN\\102.jpg\n",
      "./dog_classes2\\images\\image\\test\\22_DOBERMANN\\103.jpg\n",
      "./dog_classes2\\images\\image\\test\\22_DOBERMANN\\104.jpg\n",
      "./dog_classes2\\images\\image\\test\\22_DOBERMANN\\105.jpg\n",
      "./dog_classes2\\images\\image\\test\\22_DOBERMANN\\106.jpg\n",
      "./dog_classes2\\images\\image\\test\\22_DOBERMANN\\107.jpg\n",
      "./dog_classes2\\images\\image\\test\\22_DOBERMANN\\108.jpg\n",
      "./dog_classes2\\images\\image\\test\\22_DOBERMANN\\109.jpg\n",
      "./dog_classes2\\images\\image\\test\\22_DOBERMANN\\110.jpg"
     ]
    },
    {
     "name": "stderr",
     "output_type": "stream",
     "text": [
      "\r",
      ".-dog_classes2\\images\\image\\test\\22_DOBERMANN:  33%|██████████▍                     | 19/58 [00:00<00:00, 83.07files/s]"
     ]
    },
    {
     "name": "stdout",
     "output_type": "stream",
     "text": [
      "\n",
      "./dog_classes2\\images\\image\\test\\22_DOBERMANN\\111.jpg\n",
      "./dog_classes2\\images\\image\\test\\22_DOBERMANN\\112.jpg\n",
      "./dog_classes2\\images\\image\\test\\22_DOBERMANN\\113.jpg\n",
      "./dog_classes2\\images\\image\\test\\22_DOBERMANN\\114.jpg\n",
      "./dog_classes2\\images\\image\\test\\22_DOBERMANN\\115.jpg\n",
      "./dog_classes2\\images\\image\\test\\22_DOBERMANN\\58.jpg\n",
      "./dog_classes2\\images\\image\\test\\22_DOBERMANN\\59.jpg\n",
      "./dog_classes2\\images\\image\\test\\22_DOBERMANN\\60.jpg\n",
      "./dog_classes2\\images\\image\\test\\22_DOBERMANN\\61.jpg\n",
      "./dog_classes2\\images\\image\\test\\22_DOBERMANN\\62.jpg\n",
      "./dog_classes2\\images\\image\\test\\22_DOBERMANN\\63.jpg\n",
      "./dog_classes2\\images\\image\\test\\22_DOBERMANN\\64.jpg\n",
      "./dog_classes2\\images\\image\\test\\22_DOBERMANN\\65.jpg\n",
      "./dog_classes2\\images\\image\\test\\22_DOBERMANN\\66.jpg\n",
      "./dog_classes2\\images\\image\\test\\22_DOBERMANN\\67.jpg\n",
      "./dog_classes2\\images\\image\\test\\22_DOBERMANN\\68.jpg"
     ]
    },
    {
     "name": "stderr",
     "output_type": "stream",
     "text": [
      ".-dog_classes2\\images\\image\\test\\22_DOBERMANN:  60%|███████████████████▎            | 35/58 [00:00<00:00, 80.58files/s]"
     ]
    },
    {
     "name": "stdout",
     "output_type": "stream",
     "text": [
      "\n",
      "./dog_classes2\\images\\image\\test\\22_DOBERMANN\\69.jpg\n",
      "./dog_classes2\\images\\image\\test\\22_DOBERMANN\\70.jpg\n",
      "./dog_classes2\\images\\image\\test\\22_DOBERMANN\\71.jpg\n",
      "./dog_classes2\\images\\image\\test\\22_DOBERMANN\\72.jpg\n",
      "./dog_classes2\\images\\image\\test\\22_DOBERMANN\\73.jpg\n",
      "./dog_classes2\\images\\image\\test\\22_DOBERMANN\\74.jpg\n",
      "./dog_classes2\\images\\image\\test\\22_DOBERMANN\\75.jpg\n",
      "./dog_classes2\\images\\image\\test\\22_DOBERMANN\\76.jpg\n",
      "./dog_classes2\\images\\image\\test\\22_DOBERMANN\\77.jpg\n",
      "./dog_classes2\\images\\image\\test\\22_DOBERMANN\\78.jpg\n",
      "./dog_classes2\\images\\image\\test\\22_DOBERMANN\\79.jpg\n",
      "./dog_classes2\\images\\image\\test\\22_DOBERMANN\\80.jpg\n",
      "./dog_classes2\\images\\image\\test\\22_DOBERMANN\\81.jpg\n",
      "./dog_classes2\\images\\image\\test\\22_DOBERMANN\\82.jpg\n",
      "./dog_classes2\\images\\image\\test\\22_DOBERMANN\\83.jpg"
     ]
    },
    {
     "name": "stderr",
     "output_type": "stream",
     "text": [
      ".-dog_classes2\\images\\image\\test\\22_DOBERMANN:  88%|████████████████████████████▏   | 51/58 [00:00<00:00, 79.11files/s]"
     ]
    },
    {
     "name": "stdout",
     "output_type": "stream",
     "text": [
      "\n",
      "./dog_classes2\\images\\image\\test\\22_DOBERMANN\\84.jpg\n",
      "./dog_classes2\\images\\image\\test\\22_DOBERMANN\\85.jpg\n",
      "./dog_classes2\\images\\image\\test\\22_DOBERMANN\\86.jpg\n",
      "./dog_classes2\\images\\image\\test\\22_DOBERMANN\\87.jpg\n",
      "./dog_classes2\\images\\image\\test\\22_DOBERMANN\\88.jpg\n",
      "./dog_classes2\\images\\image\\test\\22_DOBERMANN\\89.jpg\n",
      "./dog_classes2\\images\\image\\test\\22_DOBERMANN\\90.jpg\n",
      "./dog_classes2\\images\\image\\test\\22_DOBERMANN\\91.jpg\n",
      "./dog_classes2\\images\\image\\test\\22_DOBERMANN\\92.jpg\n",
      "./dog_classes2\\images\\image\\test\\22_DOBERMANN\\93.jpg\n",
      "./dog_classes2\\images\\image\\test\\22_DOBERMANN\\94.jpg\n",
      "./dog_classes2\\images\\image\\test\\22_DOBERMANN\\95.jpg\n",
      "./dog_classes2\\images\\image\\test\\22_DOBERMANN\\96.jpg\n",
      "./dog_classes2\\images\\image\\test\\22_DOBERMANN\\97.jpg"
     ]
    },
    {
     "name": "stderr",
     "output_type": "stream",
     "text": [
      ".-dog_classes2\\images\\image\\test\\23_AMERICAN_COCKER_SPANIEL:   6%|█                  | 5/90 [00:00<00:01, 46.85files/s]"
     ]
    },
    {
     "name": "stdout",
     "output_type": "stream",
     "text": [
      "\n",
      "./dog_classes2\\images\\image\\test\\22_DOBERMANN\\98.jpg\n",
      "./dog_classes2\\images\\image\\test\\22_DOBERMANN\\99.jpg\n",
      "./dog_classes2\\images\\image\\test\\23_AMERICAN_COCKER_SPANIEL\\0.jpg\n",
      "./dog_classes2\\images\\image\\test\\23_AMERICAN_COCKER_SPANIEL\\1.jpg\n",
      "./dog_classes2\\images\\image\\test\\23_AMERICAN_COCKER_SPANIEL\\10.jpg\n",
      "./dog_classes2\\images\\image\\test\\23_AMERICAN_COCKER_SPANIEL\\11.jpg\n",
      "./dog_classes2\\images\\image\\test\\23_AMERICAN_COCKER_SPANIEL\\12.jpg\n",
      "./dog_classes2\\images\\image\\test\\23_AMERICAN_COCKER_SPANIEL\\13.jpg\n",
      "./dog_classes2\\images\\image\\test\\23_AMERICAN_COCKER_SPANIEL\\14.jpg\n",
      "./dog_classes2\\images\\image\\test\\23_AMERICAN_COCKER_SPANIEL\\15.jpg\n",
      "./dog_classes2\\images\\image\\test\\23_AMERICAN_COCKER_SPANIEL\\16.jpg"
     ]
    },
    {
     "name": "stderr",
     "output_type": "stream",
     "text": [
      ".-dog_classes2\\images\\image\\test\\23_AMERICAN_COCKER_SPANIEL:  20%|███▌              | 18/90 [00:00<00:01, 51.38files/s]"
     ]
    },
    {
     "name": "stdout",
     "output_type": "stream",
     "text": [
      "\n",
      "./dog_classes2\\images\\image\\test\\23_AMERICAN_COCKER_SPANIEL\\17.jpg\n",
      "./dog_classes2\\images\\image\\test\\23_AMERICAN_COCKER_SPANIEL\\18.jpg\n",
      "./dog_classes2\\images\\image\\test\\23_AMERICAN_COCKER_SPANIEL\\19.jpg\n",
      "./dog_classes2\\images\\image\\test\\23_AMERICAN_COCKER_SPANIEL\\2.jpg\n",
      "./dog_classes2\\images\\image\\test\\23_AMERICAN_COCKER_SPANIEL\\20.jpg\n",
      "./dog_classes2\\images\\image\\test\\23_AMERICAN_COCKER_SPANIEL\\21.jpg\n",
      "./dog_classes2\\images\\image\\test\\23_AMERICAN_COCKER_SPANIEL\\22.jpg\n",
      "./dog_classes2\\images\\image\\test\\23_AMERICAN_COCKER_SPANIEL\\23.jpg\n",
      "./dog_classes2\\images\\image\\test\\23_AMERICAN_COCKER_SPANIEL\\24.jpg\n",
      "./dog_classes2\\images\\image\\test\\23_AMERICAN_COCKER_SPANIEL\\25.jpg"
     ]
    },
    {
     "name": "stderr",
     "output_type": "stream",
     "text": [
      "\r",
      ".-dog_classes2\\images\\image\\test\\23_AMERICAN_COCKER_SPANIEL:  27%|████▊             | 24/90 [00:00<00:01, 52.60files/s]"
     ]
    },
    {
     "name": "stdout",
     "output_type": "stream",
     "text": [
      "\n",
      "./dog_classes2\\images\\image\\test\\23_AMERICAN_COCKER_SPANIEL\\26.jpg\n",
      "./dog_classes2\\images\\image\\test\\23_AMERICAN_COCKER_SPANIEL\\27.jpg\n",
      "./dog_classes2\\images\\image\\test\\23_AMERICAN_COCKER_SPANIEL\\28.jpg\n",
      "./dog_classes2\\images\\image\\test\\23_AMERICAN_COCKER_SPANIEL\\29.jpg\n",
      "./dog_classes2\\images\\image\\test\\23_AMERICAN_COCKER_SPANIEL\\3.jpg\n",
      "./dog_classes2\\images\\image\\test\\23_AMERICAN_COCKER_SPANIEL\\30.jpg\n",
      "./dog_classes2\\images\\image\\test\\23_AMERICAN_COCKER_SPANIEL\\31.jpg\n",
      "./dog_classes2\\images\\image\\test\\23_AMERICAN_COCKER_SPANIEL\\32.jpg\n",
      "./dog_classes2\\images\\image\\test\\23_AMERICAN_COCKER_SPANIEL\\33.jpg\n",
      "./dog_classes2\\images\\image\\test\\23_AMERICAN_COCKER_SPANIEL\\34.jpg\n",
      "./dog_classes2\\images\\image\\test\\23_AMERICAN_COCKER_SPANIEL\\35.jpg\n",
      "./dog_classes2\\images\\image\\test\\23_AMERICAN_COCKER_SPANIEL\\36.jpg\n",
      "./dog_classes2\\images\\image\\test\\23_AMERICAN_COCKER_SPANIEL\\37.jpg"
     ]
    },
    {
     "name": "stderr",
     "output_type": "stream",
     "text": [
      ".-dog_classes2\\images\\image\\test\\23_AMERICAN_COCKER_SPANIEL:  43%|███████▊          | 39/90 [00:00<00:00, 59.21files/s]"
     ]
    },
    {
     "name": "stdout",
     "output_type": "stream",
     "text": [
      "\n",
      "./dog_classes2\\images\\image\\test\\23_AMERICAN_COCKER_SPANIEL\\38.jpg\n",
      "./dog_classes2\\images\\image\\test\\23_AMERICAN_COCKER_SPANIEL\\39.jpg\n",
      "./dog_classes2\\images\\image\\test\\23_AMERICAN_COCKER_SPANIEL\\4.jpg\n",
      "./dog_classes2\\images\\image\\test\\23_AMERICAN_COCKER_SPANIEL\\40.jpg\n",
      "./dog_classes2\\images\\image\\test\\23_AMERICAN_COCKER_SPANIEL\\41.jpg\n",
      "./dog_classes2\\images\\image\\test\\23_AMERICAN_COCKER_SPANIEL\\42.jpg\n",
      "./dog_classes2\\images\\image\\test\\23_AMERICAN_COCKER_SPANIEL\\43.jpg\n",
      "./dog_classes2\\images\\image\\test\\23_AMERICAN_COCKER_SPANIEL\\44.jpg\n",
      "./dog_classes2\\images\\image\\test\\23_AMERICAN_COCKER_SPANIEL\\45.jpg\n",
      "./dog_classes2\\images\\image\\test\\23_AMERICAN_COCKER_SPANIEL\\46.jpg\n",
      "./dog_classes2\\images\\image\\test\\23_AMERICAN_COCKER_SPANIEL\\47.jpg\n",
      "./dog_classes2\\images\\image\\test\\23_AMERICAN_COCKER_SPANIEL\\48.jpg"
     ]
    },
    {
     "name": "stderr",
     "output_type": "stream",
     "text": [
      ".-dog_classes2\\images\\image\\test\\23_AMERICAN_COCKER_SPANIEL:  59%|██████████▌       | 53/90 [00:00<00:00, 63.31files/s]"
     ]
    },
    {
     "name": "stdout",
     "output_type": "stream",
     "text": [
      "\n",
      "./dog_classes2\\images\\image\\test\\23_AMERICAN_COCKER_SPANIEL\\49.jpg\n",
      "./dog_classes2\\images\\image\\test\\23_AMERICAN_COCKER_SPANIEL\\5.jpg\n",
      "./dog_classes2\\images\\image\\test\\23_AMERICAN_COCKER_SPANIEL\\50.jpg\n",
      "./dog_classes2\\images\\image\\test\\23_AMERICAN_COCKER_SPANIEL\\51.jpg\n",
      "./dog_classes2\\images\\image\\test\\23_AMERICAN_COCKER_SPANIEL\\52.jpg\n",
      "./dog_classes2\\images\\image\\test\\23_AMERICAN_COCKER_SPANIEL\\53.jpg\n",
      "./dog_classes2\\images\\image\\test\\23_AMERICAN_COCKER_SPANIEL\\54.jpg\n",
      "./dog_classes2\\images\\image\\test\\23_AMERICAN_COCKER_SPANIEL\\55.jpg\n",
      "./dog_classes2\\images\\image\\test\\23_AMERICAN_COCKER_SPANIEL\\56.jpg\n",
      "./dog_classes2\\images\\image\\test\\23_AMERICAN_COCKER_SPANIEL\\57.jpg\n",
      "./dog_classes2\\images\\image\\test\\23_AMERICAN_COCKER_SPANIEL\\58.jpg\n",
      "./dog_classes2\\images\\image\\test\\23_AMERICAN_COCKER_SPANIEL\\59.jpg\n",
      "./dog_classes2\\images\\image\\test\\23_AMERICAN_COCKER_SPANIEL\\6.jpg"
     ]
    },
    {
     "name": "stderr",
     "output_type": "stream",
     "text": [
      ".-dog_classes2\\images\\image\\test\\23_AMERICAN_COCKER_SPANIEL:  76%|█████████████▌    | 68/90 [00:01<00:00, 67.12files/s]"
     ]
    },
    {
     "name": "stdout",
     "output_type": "stream",
     "text": [
      "\n",
      "./dog_classes2\\images\\image\\test\\23_AMERICAN_COCKER_SPANIEL\\60.jpg\n",
      "./dog_classes2\\images\\image\\test\\23_AMERICAN_COCKER_SPANIEL\\61.jpg\n",
      "./dog_classes2\\images\\image\\test\\23_AMERICAN_COCKER_SPANIEL\\62.jpg\n",
      "./dog_classes2\\images\\image\\test\\23_AMERICAN_COCKER_SPANIEL\\63.jpg\n",
      "./dog_classes2\\images\\image\\test\\23_AMERICAN_COCKER_SPANIEL\\64.jpg\n",
      "./dog_classes2\\images\\image\\test\\23_AMERICAN_COCKER_SPANIEL\\65.jpg\n",
      "./dog_classes2\\images\\image\\test\\23_AMERICAN_COCKER_SPANIEL\\66.jpg\n",
      "./dog_classes2\\images\\image\\test\\23_AMERICAN_COCKER_SPANIEL\\67.jpg\n",
      "./dog_classes2\\images\\image\\test\\23_AMERICAN_COCKER_SPANIEL\\68.jpg\n",
      "./dog_classes2\\images\\image\\test\\23_AMERICAN_COCKER_SPANIEL\\69.jpg\n",
      "./dog_classes2\\images\\image\\test\\23_AMERICAN_COCKER_SPANIEL\\7.jpg\n",
      "./dog_classes2\\images\\image\\test\\23_AMERICAN_COCKER_SPANIEL\\70.jpg\n",
      "./dog_classes2\\images\\image\\test\\23_AMERICAN_COCKER_SPANIEL\\71.jpg"
     ]
    },
    {
     "name": "stderr",
     "output_type": "stream",
     "text": [
      ".-dog_classes2\\images\\image\\test\\23_AMERICAN_COCKER_SPANIEL:  92%|████████████████▌ | 83/90 [00:01<00:00, 69.59files/s]"
     ]
    },
    {
     "name": "stdout",
     "output_type": "stream",
     "text": [
      "\n",
      "./dog_classes2\\images\\image\\test\\23_AMERICAN_COCKER_SPANIEL\\72.jpg\n",
      "./dog_classes2\\images\\image\\test\\23_AMERICAN_COCKER_SPANIEL\\73.jpg\n",
      "./dog_classes2\\images\\image\\test\\23_AMERICAN_COCKER_SPANIEL\\74.jpg\n",
      "./dog_classes2\\images\\image\\test\\23_AMERICAN_COCKER_SPANIEL\\75.jpg\n",
      "./dog_classes2\\images\\image\\test\\23_AMERICAN_COCKER_SPANIEL\\76.jpg\n",
      "./dog_classes2\\images\\image\\test\\23_AMERICAN_COCKER_SPANIEL\\77.jpg\n",
      "./dog_classes2\\images\\image\\test\\23_AMERICAN_COCKER_SPANIEL\\78.jpg\n",
      "./dog_classes2\\images\\image\\test\\23_AMERICAN_COCKER_SPANIEL\\79.jpg\n",
      "./dog_classes2\\images\\image\\test\\23_AMERICAN_COCKER_SPANIEL\\8.jpg\n",
      "./dog_classes2\\images\\image\\test\\23_AMERICAN_COCKER_SPANIEL\\80.jpg\n",
      "./dog_classes2\\images\\image\\test\\23_AMERICAN_COCKER_SPANIEL\\81.jpg\n",
      "./dog_classes2\\images\\image\\test\\23_AMERICAN_COCKER_SPANIEL\\82.jpg\n",
      "./dog_classes2\\images\\image\\test\\23_AMERICAN_COCKER_SPANIEL\\83.jpg\n",
      "./dog_classes2\\images\\image\\test\\23_AMERICAN_COCKER_SPANIEL\\84.jpg"
     ]
    },
    {
     "name": "stderr",
     "output_type": "stream",
     "text": [
      ".-dog_classes2\\images\\image\\test\\24_CAVALIER_COCKER_SPANIEL:   0%|                           | 0/38 [00:00<?, ?files/s]"
     ]
    },
    {
     "name": "stdout",
     "output_type": "stream",
     "text": [
      "\n",
      "./dog_classes2\\images\\image\\test\\23_AMERICAN_COCKER_SPANIEL\\85.jpg\n",
      "./dog_classes2\\images\\image\\test\\23_AMERICAN_COCKER_SPANIEL\\86.jpg\n",
      "./dog_classes2\\images\\image\\test\\23_AMERICAN_COCKER_SPANIEL\\87.jpg\n",
      "./dog_classes2\\images\\image\\test\\23_AMERICAN_COCKER_SPANIEL\\88.jpg\n",
      "./dog_classes2\\images\\image\\test\\23_AMERICAN_COCKER_SPANIEL\\89.jpg\n",
      "./dog_classes2\\images\\image\\test\\23_AMERICAN_COCKER_SPANIEL\\9.jpg\n",
      "./dog_classes2\\images\\image\\test\\24_CAVALIER_COCKER_SPANIEL\\38.jpg\n",
      "./dog_classes2\\images\\image\\test\\24_CAVALIER_COCKER_SPANIEL\\39.jpg\n",
      "./dog_classes2\\images\\image\\test\\24_CAVALIER_COCKER_SPANIEL\\40.jpg\n",
      "./dog_classes2\\images\\image\\test\\24_CAVALIER_COCKER_SPANIEL\\41.jpg\n",
      "./dog_classes2\\images\\image\\test\\24_CAVALIER_COCKER_SPANIEL\\42.jpg\n",
      "./dog_classes2\\images\\image\\test\\24_CAVALIER_COCKER_SPANIEL\\43.jpg\n",
      "./dog_classes2\\images\\image\\test\\24_CAVALIER_COCKER_SPANIEL\\44.jpg"
     ]
    },
    {
     "name": "stderr",
     "output_type": "stream",
     "text": [
      ".-dog_classes2\\images\\image\\test\\24_CAVALIER_COCKER_SPANIEL:  45%|████████          | 17/38 [00:00<00:00, 76.93files/s]"
     ]
    },
    {
     "name": "stdout",
     "output_type": "stream",
     "text": [
      "\n",
      "./dog_classes2\\images\\image\\test\\24_CAVALIER_COCKER_SPANIEL\\45.jpg\n",
      "./dog_classes2\\images\\image\\test\\24_CAVALIER_COCKER_SPANIEL\\46.jpg\n",
      "./dog_classes2\\images\\image\\test\\24_CAVALIER_COCKER_SPANIEL\\47.jpg\n",
      "./dog_classes2\\images\\image\\test\\24_CAVALIER_COCKER_SPANIEL\\48.jpg\n",
      "./dog_classes2\\images\\image\\test\\24_CAVALIER_COCKER_SPANIEL\\49.jpg\n",
      "./dog_classes2\\images\\image\\test\\24_CAVALIER_COCKER_SPANIEL\\50.jpg\n",
      "./dog_classes2\\images\\image\\test\\24_CAVALIER_COCKER_SPANIEL\\51.jpg\n",
      "./dog_classes2\\images\\image\\test\\24_CAVALIER_COCKER_SPANIEL\\52.jpg\n",
      "./dog_classes2\\images\\image\\test\\24_CAVALIER_COCKER_SPANIEL\\53.jpg\n",
      "./dog_classes2\\images\\image\\test\\24_CAVALIER_COCKER_SPANIEL\\54.jpg\n",
      "./dog_classes2\\images\\image\\test\\24_CAVALIER_COCKER_SPANIEL\\55.jpg\n",
      "./dog_classes2\\images\\image\\test\\24_CAVALIER_COCKER_SPANIEL\\56.jpg\n",
      "./dog_classes2\\images\\image\\test\\24_CAVALIER_COCKER_SPANIEL\\57.jpg\n",
      "./dog_classes2\\images\\image\\test\\24_CAVALIER_COCKER_SPANIEL\\58.jpg\n",
      "./dog_classes2\\images\\image\\test\\24_CAVALIER_COCKER_SPANIEL\\59.jpg"
     ]
    },
    {
     "name": "stderr",
     "output_type": "stream",
     "text": [
      ".-dog_classes2\\images\\image\\test\\24_CAVALIER_COCKER_SPANIEL:  84%|███████████████▏  | 32/38 [00:00<00:00, 72.09files/s]"
     ]
    },
    {
     "name": "stdout",
     "output_type": "stream",
     "text": [
      "\n",
      "./dog_classes2\\images\\image\\test\\24_CAVALIER_COCKER_SPANIEL\\60.jpg\n",
      "./dog_classes2\\images\\image\\test\\24_CAVALIER_COCKER_SPANIEL\\61.jpg\n",
      "./dog_classes2\\images\\image\\test\\24_CAVALIER_COCKER_SPANIEL\\62.jpg\n",
      "./dog_classes2\\images\\image\\test\\24_CAVALIER_COCKER_SPANIEL\\63.jpg\n",
      "./dog_classes2\\images\\image\\test\\24_CAVALIER_COCKER_SPANIEL\\64.jpg\n",
      "./dog_classes2\\images\\image\\test\\24_CAVALIER_COCKER_SPANIEL\\65.jpg\n",
      "./dog_classes2\\images\\image\\test\\24_CAVALIER_COCKER_SPANIEL\\66.jpg\n",
      "./dog_classes2\\images\\image\\test\\24_CAVALIER_COCKER_SPANIEL\\67.jpg\n",
      "./dog_classes2\\images\\image\\test\\24_CAVALIER_COCKER_SPANIEL\\68.jpg\n",
      "./dog_classes2\\images\\image\\test\\24_CAVALIER_COCKER_SPANIEL\\69.jpg\n",
      "./dog_classes2\\images\\image\\test\\24_CAVALIER_COCKER_SPANIEL\\70.jpg\n",
      "./dog_classes2\\images\\image\\test\\24_CAVALIER_COCKER_SPANIEL\\71.jpg\n",
      "./dog_classes2\\images\\image\\test\\24_CAVALIER_COCKER_SPANIEL\\72.jpg"
     ]
    },
    {
     "name": "stderr",
     "output_type": "stream",
     "text": [
      ".-dog_classes2\\images\\image\\test\\26_PEKINGESE:  16%|█████▎                           | 8/50 [00:00<00:00, 79.42files/s]"
     ]
    },
    {
     "name": "stdout",
     "output_type": "stream",
     "text": [
      "\n",
      "./dog_classes2\\images\\image\\test\\24_CAVALIER_COCKER_SPANIEL\\73.jpg\n",
      "./dog_classes2\\images\\image\\test\\24_CAVALIER_COCKER_SPANIEL\\74.jpg\n",
      "./dog_classes2\\images\\image\\test\\24_CAVALIER_COCKER_SPANIEL\\75.jpg\n",
      "./dog_classes2\\images\\image\\test\\26_PEKINGESE\\50.jpg\n",
      "./dog_classes2\\images\\image\\test\\26_PEKINGESE\\51.jpg\n",
      "./dog_classes2\\images\\image\\test\\26_PEKINGESE\\52.jpg\n",
      "./dog_classes2\\images\\image\\test\\26_PEKINGESE\\53.jpg\n",
      "./dog_classes2\\images\\image\\test\\26_PEKINGESE\\54.jpg\n",
      "./dog_classes2\\images\\image\\test\\26_PEKINGESE\\55.jpg\n",
      "./dog_classes2\\images\\image\\test\\26_PEKINGESE\\56.jpg\n",
      "./dog_classes2\\images\\image\\test\\26_PEKINGESE\\57.jpg\n",
      "./dog_classes2\\images\\image\\test\\26_PEKINGESE\\58.jpg\n",
      "./dog_classes2\\images\\image\\test\\26_PEKINGESE\\59.jpg\n",
      "./dog_classes2\\images\\image\\test\\26_PEKINGESE\\60.jpg\n",
      "./dog_classes2\\images\\image\\test\\26_PEKINGESE\\61.jpg"
     ]
    },
    {
     "name": "stderr",
     "output_type": "stream",
     "text": [
      ".-dog_classes2\\images\\image\\test\\26_PEKINGESE:  50%|████████████████                | 25/50 [00:00<00:00, 79.76files/s]"
     ]
    },
    {
     "name": "stdout",
     "output_type": "stream",
     "text": [
      "\n",
      "./dog_classes2\\images\\image\\test\\26_PEKINGESE\\62.jpg\n",
      "./dog_classes2\\images\\image\\test\\26_PEKINGESE\\63.jpg\n",
      "./dog_classes2\\images\\image\\test\\26_PEKINGESE\\64.jpg\n",
      "./dog_classes2\\images\\image\\test\\26_PEKINGESE\\65.jpg\n",
      "./dog_classes2\\images\\image\\test\\26_PEKINGESE\\66.jpg\n",
      "./dog_classes2\\images\\image\\test\\26_PEKINGESE\\67.jpg\n",
      "./dog_classes2\\images\\image\\test\\26_PEKINGESE\\68.jpg\n",
      "./dog_classes2\\images\\image\\test\\26_PEKINGESE\\69.jpg\n",
      "./dog_classes2\\images\\image\\test\\26_PEKINGESE\\70.jpg\n",
      "./dog_classes2\\images\\image\\test\\26_PEKINGESE\\71.jpg\n",
      "./dog_classes2\\images\\image\\test\\26_PEKINGESE\\72.jpg\n",
      "./dog_classes2\\images\\image\\test\\26_PEKINGESE\\73.jpg\n",
      "./dog_classes2\\images\\image\\test\\26_PEKINGESE\\74.jpg\n",
      "./dog_classes2\\images\\image\\test\\26_PEKINGESE\\75.jpg\n",
      "./dog_classes2\\images\\image\\test\\26_PEKINGESE\\76.jpg"
     ]
    },
    {
     "name": "stderr",
     "output_type": "stream",
     "text": [
      "\r",
      ".-dog_classes2\\images\\image\\test\\26_PEKINGESE:  66%|█████████████████████           | 33/50 [00:00<00:00, 79.19files/s]"
     ]
    },
    {
     "name": "stdout",
     "output_type": "stream",
     "text": [
      "\n",
      "./dog_classes2\\images\\image\\test\\26_PEKINGESE\\77.jpg\n",
      "./dog_classes2\\images\\image\\test\\26_PEKINGESE\\78.jpg\n",
      "./dog_classes2\\images\\image\\test\\26_PEKINGESE\\79.jpg\n",
      "./dog_classes2\\images\\image\\test\\26_PEKINGESE\\80.jpg\n",
      "./dog_classes2\\images\\image\\test\\26_PEKINGESE\\81.jpg\n",
      "./dog_classes2\\images\\image\\test\\26_PEKINGESE\\82.jpg\n",
      "./dog_classes2\\images\\image\\test\\26_PEKINGESE\\83.jpg\n",
      "./dog_classes2\\images\\image\\test\\26_PEKINGESE\\84.jpg\n",
      "./dog_classes2\\images\\image\\test\\26_PEKINGESE\\85.jpg\n",
      "./dog_classes2\\images\\image\\test\\26_PEKINGESE\\86.jpg\n",
      "./dog_classes2\\images\\image\\test\\26_PEKINGESE\\87.jpg\n",
      "./dog_classes2\\images\\image\\test\\26_PEKINGESE\\88.jpg\n",
      "./dog_classes2\\images\\image\\test\\26_PEKINGESE\\89.jpg\n",
      "./dog_classes2\\images\\image\\test\\26_PEKINGESE\\90.jpg\n",
      "./dog_classes2\\images\\image\\test\\26_PEKINGESE\\91.jpg"
     ]
    },
    {
     "name": "stderr",
     "output_type": "stream",
     "text": [
      ".-dog_classes2\\images\\image\\test\\28_STANDARD_POODLE:   0%|                                   | 0/55 [00:00<?, ?files/s]"
     ]
    },
    {
     "name": "stdout",
     "output_type": "stream",
     "text": [
      "\n",
      "./dog_classes2\\images\\image\\test\\26_PEKINGESE\\92.jpg\n",
      "./dog_classes2\\images\\image\\test\\26_PEKINGESE\\93.jpg\n",
      "./dog_classes2\\images\\image\\test\\26_PEKINGESE\\94.jpg\n",
      "./dog_classes2\\images\\image\\test\\26_PEKINGESE\\95.jpg\n",
      "./dog_classes2\\images\\image\\test\\26_PEKINGESE\\96.jpg\n",
      "./dog_classes2\\images\\image\\test\\26_PEKINGESE\\97.jpg\n",
      "./dog_classes2\\images\\image\\test\\26_PEKINGESE\\98.jpg\n",
      "./dog_classes2\\images\\image\\test\\26_PEKINGESE\\99.jpg\n",
      "./dog_classes2\\images\\image\\test\\28_STANDARD_POODLE\\0.jpg\n",
      "./dog_classes2\\images\\image\\test\\28_STANDARD_POODLE\\1.jpg\n",
      "./dog_classes2\\images\\image\\test\\28_STANDARD_POODLE\\10.jpg\n",
      "./dog_classes2\\images\\image\\test\\28_STANDARD_POODLE\\11.jpg\n",
      "./dog_classes2\\images\\image\\test\\28_STANDARD_POODLE\\12.jpg"
     ]
    },
    {
     "name": "stderr",
     "output_type": "stream",
     "text": [
      ".-dog_classes2\\images\\image\\test\\28_STANDARD_POODLE:  27%|███████                   | 15/55 [00:00<00:00, 66.57files/s]"
     ]
    },
    {
     "name": "stdout",
     "output_type": "stream",
     "text": [
      "\n",
      "./dog_classes2\\images\\image\\test\\28_STANDARD_POODLE\\13.jpg\n",
      "./dog_classes2\\images\\image\\test\\28_STANDARD_POODLE\\14.jpg\n",
      "./dog_classes2\\images\\image\\test\\28_STANDARD_POODLE\\15.jpg\n",
      "./dog_classes2\\images\\image\\test\\28_STANDARD_POODLE\\16.jpg\n",
      "./dog_classes2\\images\\image\\test\\28_STANDARD_POODLE\\17.jpg\n",
      "./dog_classes2\\images\\image\\test\\28_STANDARD_POODLE\\18.jpg\n",
      "./dog_classes2\\images\\image\\test\\28_STANDARD_POODLE\\19.jpg\n",
      "./dog_classes2\\images\\image\\test\\28_STANDARD_POODLE\\2.jpg\n",
      "./dog_classes2\\images\\image\\test\\28_STANDARD_POODLE\\20.jpg\n",
      "./dog_classes2\\images\\image\\test\\28_STANDARD_POODLE\\21.jpg\n",
      "./dog_classes2\\images\\image\\test\\28_STANDARD_POODLE\\22.jpg\n",
      "./dog_classes2\\images\\image\\test\\28_STANDARD_POODLE\\23.jpg\n",
      "./dog_classes2\\images\\image\\test\\28_STANDARD_POODLE\\24.jpg\n"
     ]
    },
    {
     "name": "stderr",
     "output_type": "stream",
     "text": [
      ".-dog_classes2\\images\\image\\test\\28_STANDARD_POODLE:  49%|████████████▊             | 27/55 [00:00<00:00, 60.20files/s]"
     ]
    },
    {
     "name": "stdout",
     "output_type": "stream",
     "text": [
      "./dog_classes2\\images\\image\\test\\28_STANDARD_POODLE\\25.jpg\n",
      "./dog_classes2\\images\\image\\test\\28_STANDARD_POODLE\\26.jpg\n",
      "./dog_classes2\\images\\image\\test\\28_STANDARD_POODLE\\27.jpg\n",
      "./dog_classes2\\images\\image\\test\\28_STANDARD_POODLE\\28.jpg\n",
      "./dog_classes2\\images\\image\\test\\28_STANDARD_POODLE\\29.jpg\n",
      "./dog_classes2\\images\\image\\test\\28_STANDARD_POODLE\\3.jpg\n",
      "./dog_classes2\\images\\image\\test\\28_STANDARD_POODLE\\30.jpg\n",
      "./dog_classes2\\images\\image\\test\\28_STANDARD_POODLE\\31.jpg\n",
      "./dog_classes2\\images\\image\\test\\28_STANDARD_POODLE\\32.jpg\n",
      "./dog_classes2\\images\\image\\test\\28_STANDARD_POODLE\\33.jpg\n",
      "./dog_classes2\\images\\image\\test\\28_STANDARD_POODLE\\34.jpg\n",
      "./dog_classes2\\images\\image\\test\\28_STANDARD_POODLE\\35.jpg"
     ]
    },
    {
     "name": "stderr",
     "output_type": "stream",
     "text": [
      ".-dog_classes2\\images\\image\\test\\28_STANDARD_POODLE:  78%|████████████████████▎     | 43/55 [00:00<00:00, 66.87files/s]"
     ]
    },
    {
     "name": "stdout",
     "output_type": "stream",
     "text": [
      "\n",
      "./dog_classes2\\images\\image\\test\\28_STANDARD_POODLE\\36.jpg\n",
      "./dog_classes2\\images\\image\\test\\28_STANDARD_POODLE\\37.jpg\n",
      "./dog_classes2\\images\\image\\test\\28_STANDARD_POODLE\\38.jpg\n",
      "./dog_classes2\\images\\image\\test\\28_STANDARD_POODLE\\39.jpg\n",
      "./dog_classes2\\images\\image\\test\\28_STANDARD_POODLE\\4.jpg\n",
      "./dog_classes2\\images\\image\\test\\28_STANDARD_POODLE\\40.jpg\n",
      "./dog_classes2\\images\\image\\test\\28_STANDARD_POODLE\\41.jpg\n",
      "./dog_classes2\\images\\image\\test\\28_STANDARD_POODLE\\42.jpg\n",
      "./dog_classes2\\images\\image\\test\\28_STANDARD_POODLE\\43.jpg\n",
      "./dog_classes2\\images\\image\\test\\28_STANDARD_POODLE\\44.jpg\n",
      "./dog_classes2\\images\\image\\test\\28_STANDARD_POODLE\\45.jpg\n",
      "./dog_classes2\\images\\image\\test\\28_STANDARD_POODLE\\46.jpg\n",
      "./dog_classes2\\images\\image\\test\\28_STANDARD_POODLE\\47.jpg\n",
      "./dog_classes2\\images\\image\\test\\28_STANDARD_POODLE\\48.jpg"
     ]
    },
    {
     "name": "stderr",
     "output_type": "stream",
     "text": [
      ".-dog_classes2\\images\\image\\test\\29_YORKSHIRE_TERRIER:   0%|                                 | 0/73 [00:00<?, ?files/s]"
     ]
    },
    {
     "name": "stdout",
     "output_type": "stream",
     "text": [
      "\n",
      "./dog_classes2\\images\\image\\test\\28_STANDARD_POODLE\\49.jpg\n",
      "./dog_classes2\\images\\image\\test\\28_STANDARD_POODLE\\5.jpg\n",
      "./dog_classes2\\images\\image\\test\\28_STANDARD_POODLE\\50.jpg\n",
      "./dog_classes2\\images\\image\\test\\28_STANDARD_POODLE\\51.jpg\n",
      "./dog_classes2\\images\\image\\test\\28_STANDARD_POODLE\\52.jpg\n",
      "./dog_classes2\\images\\image\\test\\28_STANDARD_POODLE\\53.jpg\n",
      "./dog_classes2\\images\\image\\test\\28_STANDARD_POODLE\\54.jpg\n",
      "./dog_classes2\\images\\image\\test\\28_STANDARD_POODLE\\6.jpg\n",
      "./dog_classes2\\images\\image\\test\\28_STANDARD_POODLE\\7.jpg\n",
      "./dog_classes2\\images\\image\\test\\28_STANDARD_POODLE\\8.jpg\n",
      "./dog_classes2\\images\\image\\test\\28_STANDARD_POODLE\\9.jpg\n",
      "./dog_classes2\\images\\image\\test\\29_YORKSHIRE_TERRIER\\100.jpg\n",
      "./dog_classes2\\images\\image\\test\\29_YORKSHIRE_TERRIER\\101.jpg"
     ]
    },
    {
     "name": "stderr",
     "output_type": "stream",
     "text": [
      "\r",
      ".-dog_classes2\\images\\image\\test\\29_YORKSHIRE_TERRIER:  14%|███▎                    | 10/73 [00:00<00:00, 91.99files/s]"
     ]
    },
    {
     "name": "stdout",
     "output_type": "stream",
     "text": [
      "\n",
      "./dog_classes2\\images\\image\\test\\29_YORKSHIRE_TERRIER\\102.jpg\n",
      "./dog_classes2\\images\\image\\test\\29_YORKSHIRE_TERRIER\\103.jpg\n",
      "./dog_classes2\\images\\image\\test\\29_YORKSHIRE_TERRIER\\104.jpg\n",
      "./dog_classes2\\images\\image\\test\\29_YORKSHIRE_TERRIER\\105.jpg\n",
      "./dog_classes2\\images\\image\\test\\29_YORKSHIRE_TERRIER\\106.jpg\n",
      "./dog_classes2\\images\\image\\test\\29_YORKSHIRE_TERRIER\\107.jpg\n",
      "./dog_classes2\\images\\image\\test\\29_YORKSHIRE_TERRIER\\108.jpg\n",
      "./dog_classes2\\images\\image\\test\\29_YORKSHIRE_TERRIER\\109.jpg\n",
      "./dog_classes2\\images\\image\\test\\29_YORKSHIRE_TERRIER\\110.jpg\n",
      "./dog_classes2\\images\\image\\test\\29_YORKSHIRE_TERRIER\\111.jpg\n",
      "./dog_classes2\\images\\image\\test\\29_YORKSHIRE_TERRIER\\112.jpg\n",
      "./dog_classes2\\images\\image\\test\\29_YORKSHIRE_TERRIER\\113.jpg\n",
      "./dog_classes2\\images\\image\\test\\29_YORKSHIRE_TERRIER\\114.jpg\n",
      "./dog_classes2\\images\\image\\test\\29_YORKSHIRE_TERRIER\\115.jpg\n",
      "./dog_classes2\\images\\image\\test\\29_YORKSHIRE_TERRIER\\116.jpg\n",
      "./dog_classes2\\images\\image\\test\\29_YORKSHIRE_TERRIER\\117.jpg"
     ]
    },
    {
     "name": "stderr",
     "output_type": "stream",
     "text": [
      ".-dog_classes2\\images\\image\\test\\29_YORKSHIRE_TERRIER:  40%|█████████▌              | 29/73 [00:00<00:00, 89.95files/s]"
     ]
    },
    {
     "name": "stdout",
     "output_type": "stream",
     "text": [
      "\n",
      "./dog_classes2\\images\\image\\test\\29_YORKSHIRE_TERRIER\\118.jpg\n",
      "./dog_classes2\\images\\image\\test\\29_YORKSHIRE_TERRIER\\119.jpg\n",
      "./dog_classes2\\images\\image\\test\\29_YORKSHIRE_TERRIER\\120.jpg\n",
      "./dog_classes2\\images\\image\\test\\29_YORKSHIRE_TERRIER\\121.jpg\n",
      "./dog_classes2\\images\\image\\test\\29_YORKSHIRE_TERRIER\\122.jpg\n",
      "./dog_classes2\\images\\image\\test\\29_YORKSHIRE_TERRIER\\123.jpg\n",
      "./dog_classes2\\images\\image\\test\\29_YORKSHIRE_TERRIER\\124.jpg\n",
      "./dog_classes2\\images\\image\\test\\29_YORKSHIRE_TERRIER\\125.jpg\n",
      "./dog_classes2\\images\\image\\test\\29_YORKSHIRE_TERRIER\\126.jpg\n",
      "./dog_classes2\\images\\image\\test\\29_YORKSHIRE_TERRIER\\127.jpg\n",
      "./dog_classes2\\images\\image\\test\\29_YORKSHIRE_TERRIER\\128.jpg\n",
      "./dog_classes2\\images\\image\\test\\29_YORKSHIRE_TERRIER\\129.jpg\n",
      "./dog_classes2\\images\\image\\test\\29_YORKSHIRE_TERRIER\\130.jpg\n",
      "./dog_classes2\\images\\image\\test\\29_YORKSHIRE_TERRIER\\131.jpg\n",
      "./dog_classes2\\images\\image\\test\\29_YORKSHIRE_TERRIER\\132.jpg\n",
      "./dog_classes2\\images\\image\\test\\29_YORKSHIRE_TERRIER\\133.jpg\n",
      "./dog_classes2\\images\\image\\test\\29_YORKSHIRE_TERRIER\\134.jpg\n",
      "./dog_classes2\\images\\image\\test\\29_YORKSHIRE_TERRIER\\135.jpg"
     ]
    },
    {
     "name": "stderr",
     "output_type": "stream",
     "text": [
      ".-dog_classes2\\images\\image\\test\\29_YORKSHIRE_TERRIER:  64%|███████████████▍        | 47/73 [00:00<00:00, 85.29files/s]"
     ]
    },
    {
     "name": "stdout",
     "output_type": "stream",
     "text": [
      "\n",
      "./dog_classes2\\images\\image\\test\\29_YORKSHIRE_TERRIER\\136.jpg\n",
      "./dog_classes2\\images\\image\\test\\29_YORKSHIRE_TERRIER\\137.jpg\n",
      "./dog_classes2\\images\\image\\test\\29_YORKSHIRE_TERRIER\\138.jpg\n",
      "./dog_classes2\\images\\image\\test\\29_YORKSHIRE_TERRIER\\139.jpg\n",
      "./dog_classes2\\images\\image\\test\\29_YORKSHIRE_TERRIER\\140.jpg\n",
      "./dog_classes2\\images\\image\\test\\29_YORKSHIRE_TERRIER\\141.jpg\n",
      "./dog_classes2\\images\\image\\test\\29_YORKSHIRE_TERRIER\\142.jpg\n",
      "./dog_classes2\\images\\image\\test\\29_YORKSHIRE_TERRIER\\143.jpg\n",
      "./dog_classes2\\images\\image\\test\\29_YORKSHIRE_TERRIER\\144.jpg\n",
      "./dog_classes2\\images\\image\\test\\29_YORKSHIRE_TERRIER\\145.jpg\n",
      "./dog_classes2\\images\\image\\test\\29_YORKSHIRE_TERRIER\\73.jpg\n",
      "./dog_classes2\\images\\image\\test\\29_YORKSHIRE_TERRIER\\74.jpg\n",
      "./dog_classes2\\images\\image\\test\\29_YORKSHIRE_TERRIER\\75.jpg\n",
      "./dog_classes2\\images\\image\\test\\29_YORKSHIRE_TERRIER\\76.jpg"
     ]
    },
    {
     "name": "stderr",
     "output_type": "stream",
     "text": [
      "\r",
      ".-dog_classes2\\images\\image\\test\\29_YORKSHIRE_TERRIER:  75%|██████████████████      | 55/73 [00:00<00:00, 77.63files/s]"
     ]
    },
    {
     "name": "stdout",
     "output_type": "stream",
     "text": [
      "\n",
      "./dog_classes2\\images\\image\\test\\29_YORKSHIRE_TERRIER\\77.jpg\n",
      "./dog_classes2\\images\\image\\test\\29_YORKSHIRE_TERRIER\\78.jpg\n",
      "./dog_classes2\\images\\image\\test\\29_YORKSHIRE_TERRIER\\79.jpg\n",
      "./dog_classes2\\images\\image\\test\\29_YORKSHIRE_TERRIER\\80.jpg\n",
      "./dog_classes2\\images\\image\\test\\29_YORKSHIRE_TERRIER\\81.jpg\n",
      "./dog_classes2\\images\\image\\test\\29_YORKSHIRE_TERRIER\\82.jpg\n",
      "./dog_classes2\\images\\image\\test\\29_YORKSHIRE_TERRIER\\83.jpg\n",
      "./dog_classes2\\images\\image\\test\\29_YORKSHIRE_TERRIER\\84.jpg\n",
      "./dog_classes2\\images\\image\\test\\29_YORKSHIRE_TERRIER\\85.jpg\n",
      "./dog_classes2\\images\\image\\test\\29_YORKSHIRE_TERRIER\\86.jpg\n",
      "./dog_classes2\\images\\image\\test\\29_YORKSHIRE_TERRIER\\87.jpg\n",
      "./dog_classes2\\images\\image\\test\\29_YORKSHIRE_TERRIER\\88.jpg\n",
      "./dog_classes2\\images\\image\\test\\29_YORKSHIRE_TERRIER\\89.jpg\n"
     ]
    },
    {
     "name": "stderr",
     "output_type": "stream",
     "text": [
      ".-dog_classes2\\images\\image\\test\\30_SAMOYED:   0%|                                           | 0/84 [00:00<?, ?files/s]"
     ]
    },
    {
     "name": "stdout",
     "output_type": "stream",
     "text": [
      "./dog_classes2\\images\\image\\test\\29_YORKSHIRE_TERRIER\\90.jpg\n",
      "./dog_classes2\\images\\image\\test\\29_YORKSHIRE_TERRIER\\91.jpg\n",
      "./dog_classes2\\images\\image\\test\\29_YORKSHIRE_TERRIER\\92.jpg\n",
      "./dog_classes2\\images\\image\\test\\29_YORKSHIRE_TERRIER\\93.jpg\n",
      "./dog_classes2\\images\\image\\test\\29_YORKSHIRE_TERRIER\\94.jpg\n",
      "./dog_classes2\\images\\image\\test\\29_YORKSHIRE_TERRIER\\95.jpg\n",
      "./dog_classes2\\images\\image\\test\\29_YORKSHIRE_TERRIER\\96.jpg\n",
      "./dog_classes2\\images\\image\\test\\29_YORKSHIRE_TERRIER\\97.jpg\n",
      "./dog_classes2\\images\\image\\test\\29_YORKSHIRE_TERRIER\\98.jpg\n",
      "./dog_classes2\\images\\image\\test\\29_YORKSHIRE_TERRIER\\99.jpg\n",
      "./dog_classes2\\images\\image\\test\\30_SAMOYED\\0.jpg\n",
      "./dog_classes2\\images\\image\\test\\30_SAMOYED\\1.jpg\n",
      "./dog_classes2\\images\\image\\test\\30_SAMOYED\\10.jpg\n",
      "./dog_classes2\\images\\image\\test\\30_SAMOYED\\11.jpg\n",
      "./dog_classes2\\images\\image\\test\\30_SAMOYED\\12.jpg"
     ]
    },
    {
     "name": "stderr",
     "output_type": "stream",
     "text": [
      ".-dog_classes2\\images\\image\\test\\30_SAMOYED:  18%|██████                            | 15/84 [00:00<00:00, 69.15files/s]"
     ]
    },
    {
     "name": "stdout",
     "output_type": "stream",
     "text": [
      "\n",
      "./dog_classes2\\images\\image\\test\\30_SAMOYED\\13.jpg\n",
      "./dog_classes2\\images\\image\\test\\30_SAMOYED\\14.jpg\n",
      "./dog_classes2\\images\\image\\test\\30_SAMOYED\\15.jpg\n",
      "./dog_classes2\\images\\image\\test\\30_SAMOYED\\16.jpg\n",
      "./dog_classes2\\images\\image\\test\\30_SAMOYED\\17.jpg\n",
      "./dog_classes2\\images\\image\\test\\30_SAMOYED\\18.jpg\n",
      "./dog_classes2\\images\\image\\test\\30_SAMOYED\\19.jpg\n",
      "./dog_classes2\\images\\image\\test\\30_SAMOYED\\2.jpg\n",
      "./dog_classes2\\images\\image\\test\\30_SAMOYED\\20.jpg\n",
      "./dog_classes2\\images\\image\\test\\30_SAMOYED\\21.jpg\n",
      "./dog_classes2\\images\\image\\test\\30_SAMOYED\\22.jpg\n",
      "./dog_classes2\\images\\image\\test\\30_SAMOYED\\23.jpg\n",
      "./dog_classes2\\images\\image\\test\\30_SAMOYED\\24.jpg\n",
      "./dog_classes2\\images\\image\\test\\30_SAMOYED\\25.jpg"
     ]
    },
    {
     "name": "stderr",
     "output_type": "stream",
     "text": [
      ".-dog_classes2\\images\\image\\test\\30_SAMOYED:  37%|████████████▌                     | 31/84 [00:00<00:00, 73.06files/s]"
     ]
    },
    {
     "name": "stdout",
     "output_type": "stream",
     "text": [
      "\n",
      "./dog_classes2\\images\\image\\test\\30_SAMOYED\\26.jpg\n",
      "./dog_classes2\\images\\image\\test\\30_SAMOYED\\27.jpg\n",
      "./dog_classes2\\images\\image\\test\\30_SAMOYED\\28.jpg\n",
      "./dog_classes2\\images\\image\\test\\30_SAMOYED\\29.jpg\n",
      "./dog_classes2\\images\\image\\test\\30_SAMOYED\\3.jpg\n",
      "./dog_classes2\\images\\image\\test\\30_SAMOYED\\30.jpg\n",
      "./dog_classes2\\images\\image\\test\\30_SAMOYED\\31.jpg\n",
      "./dog_classes2\\images\\image\\test\\30_SAMOYED\\32.jpg\n",
      "./dog_classes2\\images\\image\\test\\30_SAMOYED\\33.jpg\n",
      "./dog_classes2\\images\\image\\test\\30_SAMOYED\\34.jpg\n",
      "./dog_classes2\\images\\image\\test\\30_SAMOYED\\35.jpg\n",
      "./dog_classes2\\images\\image\\test\\30_SAMOYED\\36.jpg\n",
      "./dog_classes2\\images\\image\\test\\30_SAMOYED\\37.jpg\n",
      "./dog_classes2\\images\\image\\test\\30_SAMOYED\\38.jpg"
     ]
    },
    {
     "name": "stderr",
     "output_type": "stream",
     "text": [
      "\r",
      ".-dog_classes2\\images\\image\\test\\30_SAMOYED:  46%|███████████████▊                  | 39/84 [00:00<00:00, 73.22files/s]"
     ]
    },
    {
     "name": "stdout",
     "output_type": "stream",
     "text": [
      "\n",
      "./dog_classes2\\images\\image\\test\\30_SAMOYED\\39.jpg\n",
      "./dog_classes2\\images\\image\\test\\30_SAMOYED\\4.jpg\n",
      "./dog_classes2\\images\\image\\test\\30_SAMOYED\\40.jpg\n",
      "./dog_classes2\\images\\image\\test\\30_SAMOYED\\41.jpg\n",
      "./dog_classes2\\images\\image\\test\\30_SAMOYED\\42.jpg\n",
      "./dog_classes2\\images\\image\\test\\30_SAMOYED\\43.jpg\n",
      "./dog_classes2\\images\\image\\test\\30_SAMOYED\\44.jpg\n",
      "./dog_classes2\\images\\image\\test\\30_SAMOYED\\45.jpg\n",
      "./dog_classes2\\images\\image\\test\\30_SAMOYED\\46.jpg\n",
      "./dog_classes2\\images\\image\\test\\30_SAMOYED\\47.jpg\n",
      "./dog_classes2\\images\\image\\test\\30_SAMOYED\\48.jpg\n",
      "./dog_classes2\\images\\image\\test\\30_SAMOYED\\49.jpg\n",
      "./dog_classes2\\images\\image\\test\\30_SAMOYED\\5.jpg\n",
      "./dog_classes2\\images\\image\\test\\30_SAMOYED\\50.jpg"
     ]
    },
    {
     "name": "stderr",
     "output_type": "stream",
     "text": [
      ".-dog_classes2\\images\\image\\test\\30_SAMOYED:  65%|██████████████████████▎           | 55/84 [00:00<00:00, 72.91files/s]"
     ]
    },
    {
     "name": "stdout",
     "output_type": "stream",
     "text": [
      "\n",
      "./dog_classes2\\images\\image\\test\\30_SAMOYED\\51.jpg\n",
      "./dog_classes2\\images\\image\\test\\30_SAMOYED\\52.jpg\n",
      "./dog_classes2\\images\\image\\test\\30_SAMOYED\\53.jpg\n",
      "./dog_classes2\\images\\image\\test\\30_SAMOYED\\54.jpg\n",
      "./dog_classes2\\images\\image\\test\\30_SAMOYED\\55.jpg\n",
      "./dog_classes2\\images\\image\\test\\30_SAMOYED\\56.jpg\n",
      "./dog_classes2\\images\\image\\test\\30_SAMOYED\\57.jpg\n",
      "./dog_classes2\\images\\image\\test\\30_SAMOYED\\58.jpg\n",
      "./dog_classes2\\images\\image\\test\\30_SAMOYED\\59.jpg\n",
      "./dog_classes2\\images\\image\\test\\30_SAMOYED\\6.jpg\n",
      "./dog_classes2\\images\\image\\test\\30_SAMOYED\\60.jpg\n",
      "./dog_classes2\\images\\image\\test\\30_SAMOYED\\61.jpg\n",
      "./dog_classes2\\images\\image\\test\\30_SAMOYED\\62.jpg\n",
      "./dog_classes2\\images\\image\\test\\30_SAMOYED\\63.jpg"
     ]
    },
    {
     "name": "stderr",
     "output_type": "stream",
     "text": [
      ".-dog_classes2\\images\\image\\test\\30_SAMOYED:  85%|████████████████████████████▋     | 71/84 [00:00<00:00, 73.98files/s]"
     ]
    },
    {
     "name": "stdout",
     "output_type": "stream",
     "text": [
      "\n",
      "./dog_classes2\\images\\image\\test\\30_SAMOYED\\64.jpg\n",
      "./dog_classes2\\images\\image\\test\\30_SAMOYED\\65.jpg\n",
      "./dog_classes2\\images\\image\\test\\30_SAMOYED\\66.jpg\n",
      "./dog_classes2\\images\\image\\test\\30_SAMOYED\\67.jpg\n",
      "./dog_classes2\\images\\image\\test\\30_SAMOYED\\68.jpg\n",
      "./dog_classes2\\images\\image\\test\\30_SAMOYED\\69.jpg\n",
      "./dog_classes2\\images\\image\\test\\30_SAMOYED\\7.jpg\n",
      "./dog_classes2\\images\\image\\test\\30_SAMOYED\\70.jpg\n",
      "./dog_classes2\\images\\image\\test\\30_SAMOYED\\71.jpg\n",
      "./dog_classes2\\images\\image\\test\\30_SAMOYED\\72.jpg\n",
      "./dog_classes2\\images\\image\\test\\30_SAMOYED\\73.jpg\n",
      "./dog_classes2\\images\\image\\test\\30_SAMOYED\\74.jpg\n",
      "./dog_classes2\\images\\image\\test\\30_SAMOYED\\75.jpg\n",
      "./dog_classes2\\images\\image\\test\\30_SAMOYED\\76.jpg"
     ]
    },
    {
     "name": "stderr",
     "output_type": "stream",
     "text": [
      ".-dog_classes2\\images\\image\\test\\9_ITALIAN_GREY_HOUND:   0%|                                 | 0/58 [00:00<?, ?files/s]"
     ]
    },
    {
     "name": "stdout",
     "output_type": "stream",
     "text": [
      "\n",
      "./dog_classes2\\images\\image\\test\\30_SAMOYED\\77.jpg\n",
      "./dog_classes2\\images\\image\\test\\30_SAMOYED\\78.jpg\n",
      "./dog_classes2\\images\\image\\test\\30_SAMOYED\\79.jpg\n",
      "./dog_classes2\\images\\image\\test\\30_SAMOYED\\8.jpg\n",
      "./dog_classes2\\images\\image\\test\\30_SAMOYED\\80.jpg\n",
      "./dog_classes2\\images\\image\\test\\30_SAMOYED\\81.jpg\n",
      "./dog_classes2\\images\\image\\test\\30_SAMOYED\\82.jpg\n",
      "./dog_classes2\\images\\image\\test\\30_SAMOYED\\83.jpg\n",
      "./dog_classes2\\images\\image\\test\\30_SAMOYED\\9.jpg\n",
      "./dog_classes2\\images\\image\\test\\9_ITALIAN_GREY_HOUND\\0.jpg\n",
      "./dog_classes2\\images\\image\\test\\9_ITALIAN_GREY_HOUND\\1.jpg\n",
      "./dog_classes2\\images\\image\\test\\9_ITALIAN_GREY_HOUND\\10.jpg\n",
      "./dog_classes2\\images\\image\\test\\9_ITALIAN_GREY_HOUND\\11.jpg"
     ]
    },
    {
     "name": "stderr",
     "output_type": "stream",
     "text": [
      ".-dog_classes2\\images\\image\\test\\9_ITALIAN_GREY_HOUND:  28%|██████▌                 | 16/58 [00:00<00:00, 70.99files/s]"
     ]
    },
    {
     "name": "stdout",
     "output_type": "stream",
     "text": [
      "\n",
      "./dog_classes2\\images\\image\\test\\9_ITALIAN_GREY_HOUND\\12.jpg\n",
      "./dog_classes2\\images\\image\\test\\9_ITALIAN_GREY_HOUND\\13.jpg\n",
      "./dog_classes2\\images\\image\\test\\9_ITALIAN_GREY_HOUND\\14.jpg\n",
      "./dog_classes2\\images\\image\\test\\9_ITALIAN_GREY_HOUND\\15.jpg\n",
      "./dog_classes2\\images\\image\\test\\9_ITALIAN_GREY_HOUND\\16.jpg\n",
      "./dog_classes2\\images\\image\\test\\9_ITALIAN_GREY_HOUND\\17.jpg\n",
      "./dog_classes2\\images\\image\\test\\9_ITALIAN_GREY_HOUND\\18.jpg\n",
      "./dog_classes2\\images\\image\\test\\9_ITALIAN_GREY_HOUND\\19.jpg\n",
      "./dog_classes2\\images\\image\\test\\9_ITALIAN_GREY_HOUND\\2.jpg\n",
      "./dog_classes2\\images\\image\\test\\9_ITALIAN_GREY_HOUND\\20.jpg\n",
      "./dog_classes2\\images\\image\\test\\9_ITALIAN_GREY_HOUND\\21.jpg\n",
      "./dog_classes2\\images\\image\\test\\9_ITALIAN_GREY_HOUND\\22.jpg\n",
      "./dog_classes2\\images\\image\\test\\9_ITALIAN_GREY_HOUND\\23.jpg"
     ]
    },
    {
     "name": "stderr",
     "output_type": "stream",
     "text": [
      "\r",
      ".-dog_classes2\\images\\image\\test\\9_ITALIAN_GREY_HOUND:  41%|█████████▉              | 24/58 [00:00<00:00, 71.94files/s]"
     ]
    },
    {
     "name": "stdout",
     "output_type": "stream",
     "text": [
      "\n",
      "./dog_classes2\\images\\image\\test\\9_ITALIAN_GREY_HOUND\\24.jpg\n",
      "./dog_classes2\\images\\image\\test\\9_ITALIAN_GREY_HOUND\\25.jpg\n",
      "./dog_classes2\\images\\image\\test\\9_ITALIAN_GREY_HOUND\\26.jpg\n",
      "./dog_classes2\\images\\image\\test\\9_ITALIAN_GREY_HOUND\\27.jpg\n",
      "./dog_classes2\\images\\image\\test\\9_ITALIAN_GREY_HOUND\\28.jpg\n",
      "./dog_classes2\\images\\image\\test\\9_ITALIAN_GREY_HOUND\\29.jpg\n",
      "./dog_classes2\\images\\image\\test\\9_ITALIAN_GREY_HOUND\\3.jpg\n",
      "./dog_classes2\\images\\image\\test\\9_ITALIAN_GREY_HOUND\\30.jpg\n",
      "./dog_classes2\\images\\image\\test\\9_ITALIAN_GREY_HOUND\\31.jpg\n",
      "./dog_classes2\\images\\image\\test\\9_ITALIAN_GREY_HOUND\\32.jpg\n",
      "./dog_classes2\\images\\image\\test\\9_ITALIAN_GREY_HOUND\\33.jpg\n",
      "./dog_classes2\\images\\image\\test\\9_ITALIAN_GREY_HOUND\\34.jpg\n",
      "./dog_classes2\\images\\image\\test\\9_ITALIAN_GREY_HOUND\\35.jpg\n",
      "./dog_classes2\\images\\image\\test\\9_ITALIAN_GREY_HOUND\\36.jpg\n",
      "./dog_classes2\\images\\image\\test\\9_ITALIAN_GREY_HOUND\\37.jpg"
     ]
    },
    {
     "name": "stderr",
     "output_type": "stream",
     "text": [
      ".-dog_classes2\\images\\image\\test\\9_ITALIAN_GREY_HOUND:  69%|████████████████▌       | 40/58 [00:00<00:00, 72.44files/s]"
     ]
    },
    {
     "name": "stdout",
     "output_type": "stream",
     "text": [
      "\n",
      "./dog_classes2\\images\\image\\test\\9_ITALIAN_GREY_HOUND\\38.jpg\n",
      "./dog_classes2\\images\\image\\test\\9_ITALIAN_GREY_HOUND\\39.jpg\n",
      "./dog_classes2\\images\\image\\test\\9_ITALIAN_GREY_HOUND\\4.jpg\n",
      "./dog_classes2\\images\\image\\test\\9_ITALIAN_GREY_HOUND\\40.jpg\n",
      "./dog_classes2\\images\\image\\test\\9_ITALIAN_GREY_HOUND\\41.jpg\n",
      "./dog_classes2\\images\\image\\test\\9_ITALIAN_GREY_HOUND\\42.jpg\n",
      "./dog_classes2\\images\\image\\test\\9_ITALIAN_GREY_HOUND\\43.jpg\n",
      "./dog_classes2\\images\\image\\test\\9_ITALIAN_GREY_HOUND\\44.jpg\n",
      "./dog_classes2\\images\\image\\test\\9_ITALIAN_GREY_HOUND\\45.jpg\n",
      "./dog_classes2\\images\\image\\test\\9_ITALIAN_GREY_HOUND\\46.jpg\n",
      "./dog_classes2\\images\\image\\test\\9_ITALIAN_GREY_HOUND\\47.jpg\n",
      "./dog_classes2\\images\\image\\test\\9_ITALIAN_GREY_HOUND\\48.jpg\n",
      "./dog_classes2\\images\\image\\test\\9_ITALIAN_GREY_HOUND\\49.jpg\n"
     ]
    },
    {
     "name": "stderr",
     "output_type": "stream",
     "text": [
      ".-dog_classes2\\images\\image\\test\\X_HUSKY:   0%|                                              | 0/54 [00:00<?, ?files/s]"
     ]
    },
    {
     "name": "stdout",
     "output_type": "stream",
     "text": [
      "./dog_classes2\\images\\image\\test\\9_ITALIAN_GREY_HOUND\\5.jpg\n",
      "./dog_classes2\\images\\image\\test\\9_ITALIAN_GREY_HOUND\\50.jpg\n",
      "./dog_classes2\\images\\image\\test\\9_ITALIAN_GREY_HOUND\\51.jpg\n",
      "./dog_classes2\\images\\image\\test\\9_ITALIAN_GREY_HOUND\\52.jpg\n",
      "./dog_classes2\\images\\image\\test\\9_ITALIAN_GREY_HOUND\\53.jpg\n",
      "./dog_classes2\\images\\image\\test\\9_ITALIAN_GREY_HOUND\\54.jpg\n",
      "./dog_classes2\\images\\image\\test\\9_ITALIAN_GREY_HOUND\\55.jpg\n",
      "./dog_classes2\\images\\image\\test\\9_ITALIAN_GREY_HOUND\\56.jpg\n",
      "./dog_classes2\\images\\image\\test\\9_ITALIAN_GREY_HOUND\\57.jpg\n",
      "./dog_classes2\\images\\image\\test\\9_ITALIAN_GREY_HOUND\\6.jpg\n",
      "./dog_classes2\\images\\image\\test\\9_ITALIAN_GREY_HOUND\\7.jpg\n",
      "./dog_classes2\\images\\image\\test\\9_ITALIAN_GREY_HOUND\\8.jpg\n",
      "./dog_classes2\\images\\image\\test\\9_ITALIAN_GREY_HOUND\\9.jpg\n",
      "./dog_classes2\\images\\image\\test\\X_HUSKY\\100.jpg\n",
      "./dog_classes2\\images\\image\\test\\X_HUSKY\\101.jpg"
     ]
    },
    {
     "name": "stderr",
     "output_type": "stream",
     "text": [
      "\r",
      ".-dog_classes2\\images\\image\\test\\X_HUSKY:  15%|█████▋                                | 8/54 [00:00<00:00, 78.64files/s]"
     ]
    },
    {
     "name": "stdout",
     "output_type": "stream",
     "text": [
      "\n",
      "./dog_classes2\\images\\image\\test\\X_HUSKY\\102.jpg\n",
      "./dog_classes2\\images\\image\\test\\X_HUSKY\\103.jpg\n",
      "./dog_classes2\\images\\image\\test\\X_HUSKY\\104.jpg\n",
      "./dog_classes2\\images\\image\\test\\X_HUSKY\\105.jpg\n",
      "./dog_classes2\\images\\image\\test\\X_HUSKY\\106.jpg\n",
      "./dog_classes2\\images\\image\\test\\X_HUSKY\\107.jpg\n",
      "./dog_classes2\\images\\image\\test\\X_HUSKY\\54.jpg\n",
      "./dog_classes2\\images\\image\\test\\X_HUSKY\\55.jpg\n",
      "./dog_classes2\\images\\image\\test\\X_HUSKY\\56.jpg\n",
      "./dog_classes2\\images\\image\\test\\X_HUSKY\\57.jpg\n",
      "./dog_classes2\\images\\image\\test\\X_HUSKY\\58.jpg\n",
      "./dog_classes2\\images\\image\\test\\X_HUSKY\\59.jpg\n",
      "./dog_classes2\\images\\image\\test\\X_HUSKY\\60.jpg\n",
      "./dog_classes2\\images\\image\\test\\X_HUSKY\\61.jpg\n",
      "./dog_classes2\\images\\image\\test\\X_HUSKY\\62.jpg"
     ]
    },
    {
     "name": "stderr",
     "output_type": "stream",
     "text": [
      ".-dog_classes2\\images\\image\\test\\X_HUSKY:  46%|█████████████████▏                   | 25/54 [00:00<00:00, 77.47files/s]"
     ]
    },
    {
     "name": "stdout",
     "output_type": "stream",
     "text": [
      "\n",
      "./dog_classes2\\images\\image\\test\\X_HUSKY\\63.jpg\n",
      "./dog_classes2\\images\\image\\test\\X_HUSKY\\64.jpg\n",
      "./dog_classes2\\images\\image\\test\\X_HUSKY\\65.jpg\n",
      "./dog_classes2\\images\\image\\test\\X_HUSKY\\66.jpg\n",
      "./dog_classes2\\images\\image\\test\\X_HUSKY\\67.jpg\n",
      "./dog_classes2\\images\\image\\test\\X_HUSKY\\68.jpg\n",
      "./dog_classes2\\images\\image\\test\\X_HUSKY\\69.jpg\n",
      "./dog_classes2\\images\\image\\test\\X_HUSKY\\70.jpg\n",
      "./dog_classes2\\images\\image\\test\\X_HUSKY\\71.jpg\n",
      "./dog_classes2\\images\\image\\test\\X_HUSKY\\72.jpg\n",
      "./dog_classes2\\images\\image\\test\\X_HUSKY\\73.jpg\n",
      "./dog_classes2\\images\\image\\test\\X_HUSKY\\74.jpg\n",
      "./dog_classes2\\images\\image\\test\\X_HUSKY\\75.jpg\n",
      "./dog_classes2\\images\\image\\test\\X_HUSKY\\76.jpg"
     ]
    },
    {
     "name": "stderr",
     "output_type": "stream",
     "text": [
      ".-dog_classes2\\images\\image\\test\\X_HUSKY:  76%|████████████████████████████         | 41/54 [00:00<00:00, 76.35files/s]"
     ]
    },
    {
     "name": "stdout",
     "output_type": "stream",
     "text": [
      "\n",
      "./dog_classes2\\images\\image\\test\\X_HUSKY\\77.jpg\n",
      "./dog_classes2\\images\\image\\test\\X_HUSKY\\78.jpg\n",
      "./dog_classes2\\images\\image\\test\\X_HUSKY\\79.jpg\n",
      "./dog_classes2\\images\\image\\test\\X_HUSKY\\80.jpg\n",
      "./dog_classes2\\images\\image\\test\\X_HUSKY\\81.jpg\n",
      "./dog_classes2\\images\\image\\test\\X_HUSKY\\82.jpg\n",
      "./dog_classes2\\images\\image\\test\\X_HUSKY\\83.jpg\n",
      "./dog_classes2\\images\\image\\test\\X_HUSKY\\84.jpg\n",
      "./dog_classes2\\images\\image\\test\\X_HUSKY\\85.jpg\n",
      "./dog_classes2\\images\\image\\test\\X_HUSKY\\86.jpg\n",
      "./dog_classes2\\images\\image\\test\\X_HUSKY\\87.jpg\n",
      "./dog_classes2\\images\\image\\test\\X_HUSKY\\88.jpg\n",
      "./dog_classes2\\images\\image\\test\\X_HUSKY\\89.jpg"
     ]
    },
    {
     "name": "stderr",
     "output_type": "stream",
     "text": [
      ".-dog_classes2\\images\\image\\test\\X_SHIH_TZU:   0%|                                           | 0/81 [00:00<?, ?files/s]"
     ]
    },
    {
     "name": "stdout",
     "output_type": "stream",
     "text": [
      "\n",
      "./dog_classes2\\images\\image\\test\\X_HUSKY\\90.jpg\n",
      "./dog_classes2\\images\\image\\test\\X_HUSKY\\91.jpg\n",
      "./dog_classes2\\images\\image\\test\\X_HUSKY\\92.jpg\n",
      "./dog_classes2\\images\\image\\test\\X_HUSKY\\93.jpg\n",
      "./dog_classes2\\images\\image\\test\\X_HUSKY\\94.jpg\n",
      "./dog_classes2\\images\\image\\test\\X_HUSKY\\95.jpg\n",
      "./dog_classes2\\images\\image\\test\\X_HUSKY\\96.jpg\n",
      "./dog_classes2\\images\\image\\test\\X_HUSKY\\97.jpg\n",
      "./dog_classes2\\images\\image\\test\\X_HUSKY\\98.jpg\n",
      "./dog_classes2\\images\\image\\test\\X_HUSKY\\99.jpg\n",
      "./dog_classes2\\images\\image\\test\\X_SHIH_TZU\\0.jpg\n",
      "./dog_classes2\\images\\image\\test\\X_SHIH_TZU\\1.jpg\n",
      "./dog_classes2\\images\\image\\test\\X_SHIH_TZU\\10.jpg\n",
      "./dog_classes2\\images\\image\\test\\X_SHIH_TZU\\11.jpg\n"
     ]
    },
    {
     "name": "stderr",
     "output_type": "stream",
     "text": [
      ".-dog_classes2\\images\\image\\test\\X_SHIH_TZU:  20%|██████▋                           | 16/81 [00:00<00:00, 79.65files/s]"
     ]
    },
    {
     "name": "stdout",
     "output_type": "stream",
     "text": [
      "./dog_classes2\\images\\image\\test\\X_SHIH_TZU\\12.jpg\n",
      "./dog_classes2\\images\\image\\test\\X_SHIH_TZU\\13.jpg\n",
      "./dog_classes2\\images\\image\\test\\X_SHIH_TZU\\14.jpg\n",
      "./dog_classes2\\images\\image\\test\\X_SHIH_TZU\\15.jpg\n",
      "./dog_classes2\\images\\image\\test\\X_SHIH_TZU\\16.jpg\n",
      "./dog_classes2\\images\\image\\test\\X_SHIH_TZU\\17.jpg\n",
      "./dog_classes2\\images\\image\\test\\X_SHIH_TZU\\18.jpg\n",
      "./dog_classes2\\images\\image\\test\\X_SHIH_TZU\\19.jpg\n",
      "./dog_classes2\\images\\image\\test\\X_SHIH_TZU\\2.jpg\n",
      "./dog_classes2\\images\\image\\test\\X_SHIH_TZU\\20.jpg\n",
      "./dog_classes2\\images\\image\\test\\X_SHIH_TZU\\21.jpg\n",
      "./dog_classes2\\images\\image\\test\\X_SHIH_TZU\\22.jpg\n",
      "./dog_classes2\\images\\image\\test\\X_SHIH_TZU\\23.jpg\n",
      "./dog_classes2\\images\\image\\test\\X_SHIH_TZU\\24.jpg"
     ]
    },
    {
     "name": "stderr",
     "output_type": "stream",
     "text": [
      "\r",
      ".-dog_classes2\\images\\image\\test\\X_SHIH_TZU:  28%|█████████▋                        | 23/81 [00:00<00:00, 75.08files/s]"
     ]
    },
    {
     "name": "stdout",
     "output_type": "stream",
     "text": [
      "\n",
      "./dog_classes2\\images\\image\\test\\X_SHIH_TZU\\25.jpg\n",
      "./dog_classes2\\images\\image\\test\\X_SHIH_TZU\\26.jpg\n",
      "./dog_classes2\\images\\image\\test\\X_SHIH_TZU\\27.jpg\n",
      "./dog_classes2\\images\\image\\test\\X_SHIH_TZU\\28.jpg\n",
      "./dog_classes2\\images\\image\\test\\X_SHIH_TZU\\29.jpg\n",
      "./dog_classes2\\images\\image\\test\\X_SHIH_TZU\\3.jpg\n",
      "./dog_classes2\\images\\image\\test\\X_SHIH_TZU\\30.jpg\n",
      "./dog_classes2\\images\\image\\test\\X_SHIH_TZU\\31.jpg\n",
      "./dog_classes2\\images\\image\\test\\X_SHIH_TZU\\32.jpg\n",
      "./dog_classes2\\images\\image\\test\\X_SHIH_TZU\\33.jpg\n",
      "./dog_classes2\\images\\image\\test\\X_SHIH_TZU\\34.jpg\n",
      "./dog_classes2\\images\\image\\test\\X_SHIH_TZU\\35.jpg\n",
      "./dog_classes2\\images\\image\\test\\X_SHIH_TZU\\36.jpg"
     ]
    },
    {
     "name": "stderr",
     "output_type": "stream",
     "text": [
      ".-dog_classes2\\images\\image\\test\\X_SHIH_TZU:  48%|████████████████▎                 | 39/81 [00:00<00:00, 74.00files/s]"
     ]
    },
    {
     "name": "stdout",
     "output_type": "stream",
     "text": [
      "\n",
      "./dog_classes2\\images\\image\\test\\X_SHIH_TZU\\37.jpg\n",
      "./dog_classes2\\images\\image\\test\\X_SHIH_TZU\\38.jpg\n",
      "./dog_classes2\\images\\image\\test\\X_SHIH_TZU\\39.jpg\n",
      "./dog_classes2\\images\\image\\test\\X_SHIH_TZU\\4.jpg\n",
      "./dog_classes2\\images\\image\\test\\X_SHIH_TZU\\40.jpg\n",
      "./dog_classes2\\images\\image\\test\\X_SHIH_TZU\\41.jpg\n",
      "./dog_classes2\\images\\image\\test\\X_SHIH_TZU\\42.jpg\n",
      "./dog_classes2\\images\\image\\test\\X_SHIH_TZU\\43.jpg\n",
      "./dog_classes2\\images\\image\\test\\X_SHIH_TZU\\44.jpg\n",
      "./dog_classes2\\images\\image\\test\\X_SHIH_TZU\\45.jpg\n",
      "./dog_classes2\\images\\image\\test\\X_SHIH_TZU\\46.jpg\n",
      "./dog_classes2\\images\\image\\test\\X_SHIH_TZU\\47.jpg\n",
      "./dog_classes2\\images\\image\\test\\X_SHIH_TZU\\48.jpg\n",
      "./dog_classes2\\images\\image\\test\\X_SHIH_TZU\\49.jpg"
     ]
    },
    {
     "name": "stderr",
     "output_type": "stream",
     "text": [
      ".-dog_classes2\\images\\image\\test\\X_SHIH_TZU:  65%|██████████████████████▏           | 53/81 [00:00<00:00, 70.89files/s]"
     ]
    },
    {
     "name": "stdout",
     "output_type": "stream",
     "text": [
      "\n",
      "./dog_classes2\\images\\image\\test\\X_SHIH_TZU\\5.jpg\n",
      "./dog_classes2\\images\\image\\test\\X_SHIH_TZU\\50.jpg\n",
      "./dog_classes2\\images\\image\\test\\X_SHIH_TZU\\51.jpg\n",
      "./dog_classes2\\images\\image\\test\\X_SHIH_TZU\\52.jpg\n",
      "./dog_classes2\\images\\image\\test\\X_SHIH_TZU\\53.jpg\n",
      "./dog_classes2\\images\\image\\test\\X_SHIH_TZU\\54.jpg\n",
      "./dog_classes2\\images\\image\\test\\X_SHIH_TZU\\55.jpg\n",
      "./dog_classes2\\images\\image\\test\\X_SHIH_TZU\\56.jpg\n",
      "./dog_classes2\\images\\image\\test\\X_SHIH_TZU\\57.jpg\n",
      "./dog_classes2\\images\\image\\test\\X_SHIH_TZU\\58.jpg\n",
      "./dog_classes2\\images\\image\\test\\X_SHIH_TZU\\59.jpg\n",
      "./dog_classes2\\images\\image\\test\\X_SHIH_TZU\\6.jpg"
     ]
    },
    {
     "name": "stderr",
     "output_type": "stream",
     "text": [
      ".-dog_classes2\\images\\image\\test\\X_SHIH_TZU:  85%|████████████████████████████▉     | 69/81 [00:00<00:00, 72.89files/s]"
     ]
    },
    {
     "name": "stdout",
     "output_type": "stream",
     "text": [
      "\n",
      "./dog_classes2\\images\\image\\test\\X_SHIH_TZU\\60.jpg\n",
      "./dog_classes2\\images\\image\\test\\X_SHIH_TZU\\61.jpg\n",
      "./dog_classes2\\images\\image\\test\\X_SHIH_TZU\\62.jpg\n",
      "./dog_classes2\\images\\image\\test\\X_SHIH_TZU\\63.jpg\n",
      "./dog_classes2\\images\\image\\test\\X_SHIH_TZU\\64.jpg\n",
      "./dog_classes2\\images\\image\\test\\X_SHIH_TZU\\65.jpg\n",
      "./dog_classes2\\images\\image\\test\\X_SHIH_TZU\\66.jpg\n",
      "./dog_classes2\\images\\image\\test\\X_SHIH_TZU\\67.jpg\n",
      "./dog_classes2\\images\\image\\test\\X_SHIH_TZU\\68.jpg\n",
      "./dog_classes2\\images\\image\\test\\X_SHIH_TZU\\69.jpg\n",
      "./dog_classes2\\images\\image\\test\\X_SHIH_TZU\\7.jpg\n",
      "./dog_classes2\\images\\image\\test\\X_SHIH_TZU\\70.jpg\n",
      "./dog_classes2\\images\\image\\test\\X_SHIH_TZU\\71.jpg\n",
      "./dog_classes2\\images\\image\\test\\X_SHIH_TZU\\72.jpg"
     ]
    },
    {
     "name": "stderr",
     "output_type": "stream",
     "text": [
      ".-dog_classes2\\images\\image\\valid\\10_WELSH_CORGI:   0%|                                      | 0/23 [00:00<?, ?files/s]"
     ]
    },
    {
     "name": "stdout",
     "output_type": "stream",
     "text": [
      "\n",
      "./dog_classes2\\images\\image\\test\\X_SHIH_TZU\\73.jpg\n",
      "./dog_classes2\\images\\image\\test\\X_SHIH_TZU\\74.jpg\n",
      "./dog_classes2\\images\\image\\test\\X_SHIH_TZU\\75.jpg\n",
      "./dog_classes2\\images\\image\\test\\X_SHIH_TZU\\76.jpg\n",
      "./dog_classes2\\images\\image\\test\\X_SHIH_TZU\\77.jpg\n",
      "./dog_classes2\\images\\image\\test\\X_SHIH_TZU\\78.jpg\n",
      "./dog_classes2\\images\\image\\test\\X_SHIH_TZU\\79.jpg\n",
      "./dog_classes2\\images\\image\\test\\X_SHIH_TZU\\8.jpg\n",
      "./dog_classes2\\images\\image\\test\\X_SHIH_TZU\\80.jpg\n",
      "./dog_classes2\\images\\image\\test\\X_SHIH_TZU\\9.jpg\n",
      "./dog_classes2\\images\\image\\valid\\10_WELSH_CORGI\\0.jpg\n",
      "./dog_classes2\\images\\image\\valid\\10_WELSH_CORGI\\1.jpg\n",
      "./dog_classes2\\images\\image\\valid\\10_WELSH_CORGI\\10.jpg\n",
      "./dog_classes2\\images\\image\\valid\\10_WELSH_CORGI\\11.jpg"
     ]
    },
    {
     "name": "stderr",
     "output_type": "stream",
     "text": [
      ".-dog_classes2\\images\\image\\valid\\10_WELSH_CORGI:  65%|██████████████████▉          | 15/23 [00:00<00:00, 65.00files/s]"
     ]
    },
    {
     "name": "stdout",
     "output_type": "stream",
     "text": [
      "\n",
      "./dog_classes2\\images\\image\\valid\\10_WELSH_CORGI\\12.jpg\n",
      "./dog_classes2\\images\\image\\valid\\10_WELSH_CORGI\\13.jpg\n",
      "./dog_classes2\\images\\image\\valid\\10_WELSH_CORGI\\14.jpg\n",
      "./dog_classes2\\images\\image\\valid\\10_WELSH_CORGI\\15.jpg\n",
      "./dog_classes2\\images\\image\\valid\\10_WELSH_CORGI\\16.jpg\n",
      "./dog_classes2\\images\\image\\valid\\10_WELSH_CORGI\\17.jpg\n",
      "./dog_classes2\\images\\image\\valid\\10_WELSH_CORGI\\18.jpg\n",
      "./dog_classes2\\images\\image\\valid\\10_WELSH_CORGI\\19.jpg\n",
      "./dog_classes2\\images\\image\\valid\\10_WELSH_CORGI\\2.jpg\n",
      "./dog_classes2\\images\\image\\valid\\10_WELSH_CORGI\\20.jpg\n",
      "./dog_classes2\\images\\image\\valid\\10_WELSH_CORGI\\21.jpg\n",
      "./dog_classes2\\images\\image\\valid\\10_WELSH_CORGI\\22.jpg"
     ]
    },
    {
     "name": "stderr",
     "output_type": "stream",
     "text": [
      "\r",
      ".-dog_classes2\\images\\image\\valid\\10_WELSH_CORGI:  87%|█████████████████████████▏   | 20/23 [00:00<00:00, 57.43files/s]"
     ]
    },
    {
     "name": "stdout",
     "output_type": "stream",
     "text": [
      "\n",
      "./dog_classes2\\images\\image\\valid\\10_WELSH_CORGI\\3.jpg\n",
      "./dog_classes2\\images\\image\\valid\\10_WELSH_CORGI\\4.jpg\n",
      "./dog_classes2\\images\\image\\valid\\10_WELSH_CORGI\\5.jpg\n",
      "./dog_classes2\\images\\image\\valid\\10_WELSH_CORGI\\6.jpg\n",
      "./dog_classes2\\images\\image\\valid\\10_WELSH_CORGI\\7.jpg\n"
     ]
    },
    {
     "name": "stderr",
     "output_type": "stream",
     "text": [
      ".-dog_classes2\\images\\image\\valid\\11_BULLDOG:   0%|                                          | 0/84 [00:00<?, ?files/s]"
     ]
    },
    {
     "name": "stdout",
     "output_type": "stream",
     "text": [
      "./dog_classes2\\images\\image\\valid\\10_WELSH_CORGI\\8.jpg\n",
      "./dog_classes2\\images\\image\\valid\\10_WELSH_CORGI\\9.jpg\n",
      "./dog_classes2\\images\\image\\valid\\11_BULLDOG\\100.jpg\n",
      "./dog_classes2\\images\\image\\valid\\11_BULLDOG\\101.jpg\n",
      "./dog_classes2\\images\\image\\valid\\11_BULLDOG\\102.jpg\n",
      "./dog_classes2\\images\\image\\valid\\11_BULLDOG\\103.jpg\n",
      "./dog_classes2\\images\\image\\valid\\11_BULLDOG\\104.jpg\n"
     ]
    },
    {
     "name": "stderr",
     "output_type": "stream",
     "text": [
      ".-dog_classes2\\images\\image\\valid\\11_BULLDOG:  12%|███▉                             | 10/84 [00:00<00:01, 38.98files/s]"
     ]
    },
    {
     "name": "stdout",
     "output_type": "stream",
     "text": [
      "./dog_classes2\\images\\image\\valid\\11_BULLDOG\\105.jpg\n",
      "./dog_classes2\\images\\image\\valid\\11_BULLDOG\\106.jpg\n",
      "./dog_classes2\\images\\image\\valid\\11_BULLDOG\\107.jpg\n",
      "./dog_classes2\\images\\image\\valid\\11_BULLDOG\\108.jpg\n",
      "./dog_classes2\\images\\image\\valid\\11_BULLDOG\\109.jpg\n",
      "./dog_classes2\\images\\image\\valid\\11_BULLDOG\\110.jpg\n",
      "./dog_classes2\\images\\image\\valid\\11_BULLDOG\\111.jpg"
     ]
    },
    {
     "name": "stderr",
     "output_type": "stream",
     "text": [
      "\r",
      ".-dog_classes2\\images\\image\\valid\\11_BULLDOG:  20%|██████▋                          | 17/84 [00:00<00:01, 43.64files/s]"
     ]
    },
    {
     "name": "stdout",
     "output_type": "stream",
     "text": [
      "\n",
      "./dog_classes2\\images\\image\\valid\\11_BULLDOG\\112.jpg\n",
      "./dog_classes2\\images\\image\\valid\\11_BULLDOG\\113.jpg\n",
      "./dog_classes2\\images\\image\\valid\\11_BULLDOG\\114.jpg\n",
      "./dog_classes2\\images\\image\\valid\\11_BULLDOG\\115.jpg\n",
      "./dog_classes2\\images\\image\\valid\\11_BULLDOG\\116.jpg\n",
      "./dog_classes2\\images\\image\\valid\\11_BULLDOG\\117.jpg\n",
      "./dog_classes2\\images\\image\\valid\\11_BULLDOG\\118.jpg\n",
      "./dog_classes2\\images\\image\\valid\\11_BULLDOG\\119.jpg\n",
      "./dog_classes2\\images\\image\\valid\\11_BULLDOG\\120.jpg\n",
      "./dog_classes2\\images\\image\\valid\\11_BULLDOG\\121.jpg\n"
     ]
    },
    {
     "name": "stderr",
     "output_type": "stream",
     "text": [
      ".-dog_classes2\\images\\image\\valid\\11_BULLDOG:  31%|██████████▏                      | 26/84 [00:00<00:01, 38.42files/s]"
     ]
    },
    {
     "name": "stdout",
     "output_type": "stream",
     "text": [
      "./dog_classes2\\images\\image\\valid\\11_BULLDOG\\122.jpg\n",
      "./dog_classes2\\images\\image\\valid\\11_BULLDOG\\123.jpg\n",
      "./dog_classes2\\images\\image\\valid\\11_BULLDOG\\124.jpg\n",
      "./dog_classes2\\images\\image\\valid\\11_BULLDOG\\125.jpg\n",
      "./dog_classes2\\images\\image\\valid\\11_BULLDOG\\126.jpg\n",
      "./dog_classes2\\images\\image\\valid\\11_BULLDOG\\127.jpg\n",
      "./dog_classes2\\images\\image\\valid\\11_BULLDOG\\128.jpg\n",
      "./dog_classes2\\images\\image\\valid\\11_BULLDOG\\129.jpg\n",
      "./dog_classes2\\images\\image\\valid\\11_BULLDOG\\130.jpg"
     ]
    },
    {
     "name": "stderr",
     "output_type": "stream",
     "text": [
      ".-dog_classes2\\images\\image\\valid\\11_BULLDOG:  46%|███████████████▎                 | 39/84 [00:00<00:01, 41.53files/s]"
     ]
    },
    {
     "name": "stdout",
     "output_type": "stream",
     "text": [
      "\n",
      "./dog_classes2\\images\\image\\valid\\11_BULLDOG\\131.jpg\n",
      "./dog_classes2\\images\\image\\valid\\11_BULLDOG\\132.jpg\n",
      "./dog_classes2\\images\\image\\valid\\11_BULLDOG\\133.jpg\n",
      "./dog_classes2\\images\\image\\valid\\11_BULLDOG\\134.jpg\n",
      "./dog_classes2\\images\\image\\valid\\11_BULLDOG\\135.jpg\n",
      "./dog_classes2\\images\\image\\valid\\11_BULLDOG\\136.jpg\n",
      "./dog_classes2\\images\\image\\valid\\11_BULLDOG\\137.jpg\n",
      "./dog_classes2\\images\\image\\valid\\11_BULLDOG\\138.jpg\n",
      "./dog_classes2\\images\\image\\valid\\11_BULLDOG\\139.jpg"
     ]
    },
    {
     "name": "stderr",
     "output_type": "stream",
     "text": [
      "\r",
      ".-dog_classes2\\images\\image\\valid\\11_BULLDOG:  55%|██████████████████               | 46/84 [00:00<00:00, 47.12files/s]"
     ]
    },
    {
     "name": "stdout",
     "output_type": "stream",
     "text": [
      "\n",
      "./dog_classes2\\images\\image\\valid\\11_BULLDOG\\140.jpg\n",
      "./dog_classes2\\images\\image\\valid\\11_BULLDOG\\141.jpg\n",
      "./dog_classes2\\images\\image\\valid\\11_BULLDOG\\142.jpg\n",
      "./dog_classes2\\images\\image\\valid\\11_BULLDOG\\143.jpg\n",
      "./dog_classes2\\images\\image\\valid\\11_BULLDOG\\144.jpg\n",
      "./dog_classes2\\images\\image\\valid\\11_BULLDOG\\145.jpg\n",
      "./dog_classes2\\images\\image\\valid\\11_BULLDOG\\146.jpg\n",
      "./dog_classes2\\images\\image\\valid\\11_BULLDOG\\147.jpg\n",
      "./dog_classes2\\images\\image\\valid\\11_BULLDOG\\148.jpg\n",
      "./dog_classes2\\images\\image\\valid\\11_BULLDOG\\149.jpg\n",
      "./dog_classes2\\images\\image\\valid\\11_BULLDOG\\150.jpg\n",
      "./dog_classes2\\images\\image\\valid\\11_BULLDOG\\151.jpg\n",
      "./dog_classes2\\images\\image\\valid\\11_BULLDOG\\152.jpg\n",
      "./dog_classes2\\images\\image\\valid\\11_BULLDOG\\153.jpg"
     ]
    },
    {
     "name": "stderr",
     "output_type": "stream",
     "text": [
      ".-dog_classes2\\images\\image\\valid\\11_BULLDOG:  71%|███████████████████████▌         | 60/84 [00:01<00:00, 50.55files/s]"
     ]
    },
    {
     "name": "stdout",
     "output_type": "stream",
     "text": [
      "\n",
      "./dog_classes2\\images\\image\\valid\\11_BULLDOG\\154.jpg\n",
      "./dog_classes2\\images\\image\\valid\\11_BULLDOG\\155.jpg\n",
      "./dog_classes2\\images\\image\\valid\\11_BULLDOG\\156.jpg\n",
      "./dog_classes2\\images\\image\\valid\\11_BULLDOG\\157.jpg\n",
      "./dog_classes2\\images\\image\\valid\\11_BULLDOG\\158.jpg\n",
      "./dog_classes2\\images\\image\\valid\\11_BULLDOG\\159.jpg\n",
      "./dog_classes2\\images\\image\\valid\\11_BULLDOG\\160.jpg\n",
      "./dog_classes2\\images\\image\\valid\\11_BULLDOG\\161.jpg\n",
      "./dog_classes2\\images\\image\\valid\\11_BULLDOG\\162.jpg"
     ]
    },
    {
     "name": "stderr",
     "output_type": "stream",
     "text": [
      "\r",
      ".-dog_classes2\\images\\image\\valid\\11_BULLDOG:  80%|██████████████████████████▎      | 67/84 [00:01<00:00, 54.79files/s]"
     ]
    },
    {
     "name": "stdout",
     "output_type": "stream",
     "text": [
      "\n",
      "./dog_classes2\\images\\image\\valid\\11_BULLDOG\\163.jpg\n",
      "./dog_classes2\\images\\image\\valid\\11_BULLDOG\\164.jpg\n",
      "./dog_classes2\\images\\image\\valid\\11_BULLDOG\\165.jpg\n",
      "./dog_classes2\\images\\image\\valid\\11_BULLDOG\\166.jpg\n",
      "./dog_classes2\\images\\image\\valid\\11_BULLDOG\\167.jpg\n",
      "./dog_classes2\\images\\image\\valid\\11_BULLDOG\\84.jpg\n"
     ]
    },
    {
     "name": "stderr",
     "output_type": "stream",
     "text": [
      "\r",
      ".-dog_classes2\\images\\image\\valid\\11_BULLDOG:  87%|████████████████████████████▋    | 73/84 [00:01<00:00, 35.89files/s]"
     ]
    },
    {
     "name": "stdout",
     "output_type": "stream",
     "text": [
      "./dog_classes2\\images\\image\\valid\\11_BULLDOG\\85.jpg\n",
      "./dog_classes2\\images\\image\\valid\\11_BULLDOG\\86.jpg\n",
      "./dog_classes2\\images\\image\\valid\\11_BULLDOG\\87.jpg\n",
      "./dog_classes2\\images\\image\\valid\\11_BULLDOG\\88.jpg\n",
      "./dog_classes2\\images\\image\\valid\\11_BULLDOG\\89.jpg\n",
      "./dog_classes2\\images\\image\\valid\\11_BULLDOG\\90.jpg\n",
      "./dog_classes2\\images\\image\\valid\\11_BULLDOG\\91.jpg\n",
      "./dog_classes2\\images\\image\\valid\\11_BULLDOG\\92.jpg\n",
      "./dog_classes2\\images\\image\\valid\\11_BULLDOG\\93.jpg\n"
     ]
    },
    {
     "name": "stderr",
     "output_type": "stream",
     "text": [
      ".-dog_classes2\\images\\image\\valid\\11_BULLDOG:  98%|████████████████████████████████▏| 82/84 [00:02<00:00, 26.68files/s]"
     ]
    },
    {
     "name": "stdout",
     "output_type": "stream",
     "text": [
      "./dog_classes2\\images\\image\\valid\\11_BULLDOG\\94.jpg\n",
      "./dog_classes2\\images\\image\\valid\\11_BULLDOG\\95.jpg\n",
      "./dog_classes2\\images\\image\\valid\\11_BULLDOG\\96.jpg\n",
      "./dog_classes2\\images\\image\\valid\\11_BULLDOG\\97.jpg\n",
      "./dog_classes2\\images\\image\\valid\\11_BULLDOG\\98.jpg\n",
      "./dog_classes2\\images\\image\\valid\\11_BULLDOG\\99.jpg"
     ]
    },
    {
     "name": "stderr",
     "output_type": "stream",
     "text": [
      ".-dog_classes2\\images\\image\\valid\\12_SHETLAND_SHEEPDOG:  23%|█████▍                  | 7/31 [00:00<00:00, 65.28files/s]"
     ]
    },
    {
     "name": "stdout",
     "output_type": "stream",
     "text": [
      "\n",
      "./dog_classes2\\images\\image\\valid\\12_SHETLAND_SHEEPDOG\\31.jpg\n",
      "./dog_classes2\\images\\image\\valid\\12_SHETLAND_SHEEPDOG\\51.jpg\n",
      "./dog_classes2\\images\\image\\valid\\12_SHETLAND_SHEEPDOG\\52.jpg\n",
      "./dog_classes2\\images\\image\\valid\\12_SHETLAND_SHEEPDOG\\53.jpg\n",
      "./dog_classes2\\images\\image\\valid\\12_SHETLAND_SHEEPDOG\\54.jpg\n",
      "./dog_classes2\\images\\image\\valid\\12_SHETLAND_SHEEPDOG\\55.jpg\n",
      "./dog_classes2\\images\\image\\valid\\12_SHETLAND_SHEEPDOG\\56.jpg\n",
      "./dog_classes2\\images\\image\\valid\\12_SHETLAND_SHEEPDOG\\57.jpg\n",
      "./dog_classes2\\images\\image\\valid\\12_SHETLAND_SHEEPDOG\\58.jpg\n",
      "./dog_classes2\\images\\image\\valid\\12_SHETLAND_SHEEPDOG\\59.jpg\n",
      "./dog_classes2\\images\\image\\valid\\12_SHETLAND_SHEEPDOG\\60.jpg\n",
      "./dog_classes2\\images\\image\\valid\\12_SHETLAND_SHEEPDOG\\61.jpg"
     ]
    },
    {
     "name": "stderr",
     "output_type": "stream",
     "text": [
      ".-dog_classes2\\images\\image\\valid\\12_SHETLAND_SHEEPDOG:  74%|█████████████████      | 23/31 [00:00<00:00, 69.81files/s]"
     ]
    },
    {
     "name": "stdout",
     "output_type": "stream",
     "text": [
      "\n",
      "./dog_classes2\\images\\image\\valid\\12_SHETLAND_SHEEPDOG\\62.jpg\n",
      "./dog_classes2\\images\\image\\valid\\12_SHETLAND_SHEEPDOG\\63.jpg\n",
      "./dog_classes2\\images\\image\\valid\\12_SHETLAND_SHEEPDOG\\64.jpg\n",
      "./dog_classes2\\images\\image\\valid\\12_SHETLAND_SHEEPDOG\\65.jpg\n",
      "./dog_classes2\\images\\image\\valid\\12_SHETLAND_SHEEPDOG\\66.jpg\n",
      "./dog_classes2\\images\\image\\valid\\12_SHETLAND_SHEEPDOG\\67.jpg\n",
      "./dog_classes2\\images\\image\\valid\\12_SHETLAND_SHEEPDOG\\68.jpg\n",
      "./dog_classes2\\images\\image\\valid\\12_SHETLAND_SHEEPDOG\\69.jpg\n",
      "./dog_classes2\\images\\image\\valid\\12_SHETLAND_SHEEPDOG\\70.jpg\n",
      "./dog_classes2\\images\\image\\valid\\12_SHETLAND_SHEEPDOG\\71.jpg\n",
      "./dog_classes2\\images\\image\\valid\\12_SHETLAND_SHEEPDOG\\72.jpg\n",
      "./dog_classes2\\images\\image\\valid\\12_SHETLAND_SHEEPDOG\\73.jpg\n",
      "./dog_classes2\\images\\image\\valid\\12_SHETLAND_SHEEPDOG\\74.jpg\n",
      "./dog_classes2\\images\\image\\valid\\12_SHETLAND_SHEEPDOG\\75.jpg"
     ]
    },
    {
     "name": "stderr",
     "output_type": "stream",
     "text": [
      ".-dog_classes2\\images\\image\\valid\\13_SHIBA:   0%|                                            | 0/70 [00:00<?, ?files/s]"
     ]
    },
    {
     "name": "stdout",
     "output_type": "stream",
     "text": [
      "\n",
      "./dog_classes2\\images\\image\\valid\\12_SHETLAND_SHEEPDOG\\76.jpg\n",
      "./dog_classes2\\images\\image\\valid\\12_SHETLAND_SHEEPDOG\\77.jpg\n",
      "./dog_classes2\\images\\image\\valid\\12_SHETLAND_SHEEPDOG\\78.jpg\n",
      "./dog_classes2\\images\\image\\valid\\12_SHETLAND_SHEEPDOG\\79.jpg\n",
      "./dog_classes2\\images\\image\\valid\\12_SHETLAND_SHEEPDOG\\80.jpg\n",
      "./dog_classes2\\images\\image\\valid\\13_SHIBA\\100.jpg\n",
      "./dog_classes2\\images\\image\\valid\\13_SHIBA\\101.jpg\n",
      "./dog_classes2\\images\\image\\valid\\13_SHIBA\\102.jpg\n",
      "./dog_classes2\\images\\image\\valid\\13_SHIBA\\103.jpg\n",
      "./dog_classes2\\images\\image\\valid\\13_SHIBA\\104.jpg\n",
      "./dog_classes2\\images\\image\\valid\\13_SHIBA\\105.jpg"
     ]
    },
    {
     "name": "stderr",
     "output_type": "stream",
     "text": [
      ".-dog_classes2\\images\\image\\valid\\13_SHIBA:  21%|███████▌                           | 15/70 [00:00<00:00, 67.75files/s]"
     ]
    },
    {
     "name": "stdout",
     "output_type": "stream",
     "text": [
      "\n",
      "./dog_classes2\\images\\image\\valid\\13_SHIBA\\106.jpg\n",
      "./dog_classes2\\images\\image\\valid\\13_SHIBA\\107.jpg\n",
      "./dog_classes2\\images\\image\\valid\\13_SHIBA\\108.jpg\n",
      "./dog_classes2\\images\\image\\valid\\13_SHIBA\\109.jpg\n",
      "./dog_classes2\\images\\image\\valid\\13_SHIBA\\110.jpg\n",
      "./dog_classes2\\images\\image\\valid\\13_SHIBA\\111.jpg\n",
      "./dog_classes2\\images\\image\\valid\\13_SHIBA\\112.jpg\n",
      "./dog_classes2\\images\\image\\valid\\13_SHIBA\\113.jpg\n",
      "./dog_classes2\\images\\image\\valid\\13_SHIBA\\114.jpg\n",
      "./dog_classes2\\images\\image\\valid\\13_SHIBA\\115.jpg\n",
      "./dog_classes2\\images\\image\\valid\\13_SHIBA\\116.jpg\n",
      "./dog_classes2\\images\\image\\valid\\13_SHIBA\\117.jpg\n",
      "./dog_classes2\\images\\image\\valid\\13_SHIBA\\118.jpg\n",
      "./dog_classes2\\images\\image\\valid\\13_SHIBA\\119.jpg"
     ]
    },
    {
     "name": "stderr",
     "output_type": "stream",
     "text": [
      ".-dog_classes2\\images\\image\\valid\\13_SHIBA:  44%|███████████████▌                   | 31/70 [00:00<00:00, 69.72files/s]"
     ]
    },
    {
     "name": "stdout",
     "output_type": "stream",
     "text": [
      "\n",
      "./dog_classes2\\images\\image\\valid\\13_SHIBA\\120.jpg\n",
      "./dog_classes2\\images\\image\\valid\\13_SHIBA\\121.jpg\n",
      "./dog_classes2\\images\\image\\valid\\13_SHIBA\\122.jpg\n",
      "./dog_classes2\\images\\image\\valid\\13_SHIBA\\123.jpg\n",
      "./dog_classes2\\images\\image\\valid\\13_SHIBA\\124.jpg\n",
      "./dog_classes2\\images\\image\\valid\\13_SHIBA\\125.jpg\n",
      "./dog_classes2\\images\\image\\valid\\13_SHIBA\\126.jpg\n",
      "./dog_classes2\\images\\image\\valid\\13_SHIBA\\127.jpg\n",
      "./dog_classes2\\images\\image\\valid\\13_SHIBA\\128.jpg\n",
      "./dog_classes2\\images\\image\\valid\\13_SHIBA\\129.jpg\n",
      "./dog_classes2\\images\\image\\valid\\13_SHIBA\\60.jpg\n",
      "./dog_classes2\\images\\image\\valid\\13_SHIBA\\61.jpg\n",
      "./dog_classes2\\images\\image\\valid\\13_SHIBA\\62.jpg"
     ]
    },
    {
     "name": "stderr",
     "output_type": "stream",
     "text": [
      "\r",
      ".-dog_classes2\\images\\image\\valid\\13_SHIBA:  54%|███████████████████                | 38/70 [00:00<00:00, 68.83files/s]"
     ]
    },
    {
     "name": "stdout",
     "output_type": "stream",
     "text": [
      "\n",
      "./dog_classes2\\images\\image\\valid\\13_SHIBA\\63.jpg\n",
      "./dog_classes2\\images\\image\\valid\\13_SHIBA\\64.jpg\n",
      "./dog_classes2\\images\\image\\valid\\13_SHIBA\\65.jpg\n",
      "./dog_classes2\\images\\image\\valid\\13_SHIBA\\66.jpg\n",
      "./dog_classes2\\images\\image\\valid\\13_SHIBA\\67.jpg\n",
      "./dog_classes2\\images\\image\\valid\\13_SHIBA\\68.jpg\n",
      "./dog_classes2\\images\\image\\valid\\13_SHIBA\\69.jpg\n",
      "./dog_classes2\\images\\image\\valid\\13_SHIBA\\70.jpg\n",
      "./dog_classes2\\images\\image\\valid\\13_SHIBA\\71.jpg\n",
      "./dog_classes2\\images\\image\\valid\\13_SHIBA\\72.jpg\n",
      "./dog_classes2\\images\\image\\valid\\13_SHIBA\\73.jpg\n",
      "./dog_classes2\\images\\image\\valid\\13_SHIBA\\74.jpg\n"
     ]
    },
    {
     "name": "stderr",
     "output_type": "stream",
     "text": [
      ".-dog_classes2\\images\\image\\valid\\13_SHIBA:  74%|██████████████████████████         | 52/70 [00:00<00:00, 67.98files/s]"
     ]
    },
    {
     "name": "stdout",
     "output_type": "stream",
     "text": [
      "./dog_classes2\\images\\image\\valid\\13_SHIBA\\75.jpg\n",
      "./dog_classes2\\images\\image\\valid\\13_SHIBA\\76.jpg\n",
      "./dog_classes2\\images\\image\\valid\\13_SHIBA\\77.jpg\n",
      "./dog_classes2\\images\\image\\valid\\13_SHIBA\\78.jpg\n",
      "./dog_classes2\\images\\image\\valid\\13_SHIBA\\79.jpg\n",
      "./dog_classes2\\images\\image\\valid\\13_SHIBA\\80.jpg\n",
      "./dog_classes2\\images\\image\\valid\\13_SHIBA\\81.jpg\n",
      "./dog_classes2\\images\\image\\valid\\13_SHIBA\\82.jpg\n",
      "./dog_classes2\\images\\image\\valid\\13_SHIBA\\83.jpg\n",
      "./dog_classes2\\images\\image\\valid\\13_SHIBA\\84.jpg\n",
      "./dog_classes2\\images\\image\\valid\\13_SHIBA\\85.jpg\n",
      "./dog_classes2\\images\\image\\valid\\13_SHIBA\\86.jpg\n",
      "./dog_classes2\\images\\image\\valid\\13_SHIBA\\87.jpg"
     ]
    },
    {
     "name": "stderr",
     "output_type": "stream",
     "text": [
      ".-dog_classes2\\images\\image\\valid\\13_SHIBA:  94%|█████████████████████████████████  | 66/70 [00:00<00:00, 66.71files/s]"
     ]
    },
    {
     "name": "stdout",
     "output_type": "stream",
     "text": [
      "\n",
      "./dog_classes2\\images\\image\\valid\\13_SHIBA\\88.jpg\n",
      "./dog_classes2\\images\\image\\valid\\13_SHIBA\\89.jpg\n",
      "./dog_classes2\\images\\image\\valid\\13_SHIBA\\90.jpg\n",
      "./dog_classes2\\images\\image\\valid\\13_SHIBA\\91.jpg\n",
      "./dog_classes2\\images\\image\\valid\\13_SHIBA\\92.jpg\n",
      "./dog_classes2\\images\\image\\valid\\13_SHIBA\\93.jpg\n",
      "./dog_classes2\\images\\image\\valid\\13_SHIBA\\94.jpg\n",
      "./dog_classes2\\images\\image\\valid\\13_SHIBA\\95.jpg\n",
      "./dog_classes2\\images\\image\\valid\\13_SHIBA\\96.jpg\n",
      "./dog_classes2\\images\\image\\valid\\13_SHIBA\\97.jpg\n",
      "./dog_classes2\\images\\image\\valid\\13_SHIBA\\98.jpg\n",
      "./dog_classes2\\images\\image\\valid\\13_SHIBA\\99.jpg"
     ]
    },
    {
     "name": "stderr",
     "output_type": "stream",
     "text": [
      ".-dog_classes2\\images\\image\\valid\\14_GOLDEN_RETRIEVER:  15%|███▋                     | 8/55 [00:00<00:00, 77.13files/s]"
     ]
    },
    {
     "name": "stdout",
     "output_type": "stream",
     "text": [
      "\n",
      "./dog_classes2\\images\\image\\valid\\14_GOLDEN_RETRIEVER\\0.jpg\n",
      "./dog_classes2\\images\\image\\valid\\14_GOLDEN_RETRIEVER\\1.jpg\n",
      "./dog_classes2\\images\\image\\valid\\14_GOLDEN_RETRIEVER\\10.jpg\n",
      "./dog_classes2\\images\\image\\valid\\14_GOLDEN_RETRIEVER\\11.jpg\n",
      "./dog_classes2\\images\\image\\valid\\14_GOLDEN_RETRIEVER\\12.jpg\n",
      "./dog_classes2\\images\\image\\valid\\14_GOLDEN_RETRIEVER\\13.jpg\n",
      "./dog_classes2\\images\\image\\valid\\14_GOLDEN_RETRIEVER\\14.jpg\n",
      "./dog_classes2\\images\\image\\valid\\14_GOLDEN_RETRIEVER\\15.jpg\n",
      "./dog_classes2\\images\\image\\valid\\14_GOLDEN_RETRIEVER\\16.jpg\n",
      "./dog_classes2\\images\\image\\valid\\14_GOLDEN_RETRIEVER\\17.jpg\n",
      "./dog_classes2\\images\\image\\valid\\14_GOLDEN_RETRIEVER\\18.jpg\n",
      "./dog_classes2\\images\\image\\valid\\14_GOLDEN_RETRIEVER\\19.jpg\n",
      "./dog_classes2\\images\\image\\valid\\14_GOLDEN_RETRIEVER\\2.jpg\n",
      "./dog_classes2\\images\\image\\valid\\14_GOLDEN_RETRIEVER\\20.jpg"
     ]
    },
    {
     "name": "stderr",
     "output_type": "stream",
     "text": [
      ".-dog_classes2\\images\\image\\valid\\14_GOLDEN_RETRIEVER:  45%|██████████▉             | 25/55 [00:00<00:00, 79.97files/s]"
     ]
    },
    {
     "name": "stdout",
     "output_type": "stream",
     "text": [
      "\n",
      "./dog_classes2\\images\\image\\valid\\14_GOLDEN_RETRIEVER\\21.jpg\n",
      "./dog_classes2\\images\\image\\valid\\14_GOLDEN_RETRIEVER\\22.jpg\n",
      "./dog_classes2\\images\\image\\valid\\14_GOLDEN_RETRIEVER\\23.jpg\n",
      "./dog_classes2\\images\\image\\valid\\14_GOLDEN_RETRIEVER\\24.jpg\n",
      "./dog_classes2\\images\\image\\valid\\14_GOLDEN_RETRIEVER\\25.jpg\n",
      "./dog_classes2\\images\\image\\valid\\14_GOLDEN_RETRIEVER\\26.jpg\n",
      "./dog_classes2\\images\\image\\valid\\14_GOLDEN_RETRIEVER\\27.jpg\n",
      "./dog_classes2\\images\\image\\valid\\14_GOLDEN_RETRIEVER\\28.jpg\n",
      "./dog_classes2\\images\\image\\valid\\14_GOLDEN_RETRIEVER\\29.jpg\n",
      "./dog_classes2\\images\\image\\valid\\14_GOLDEN_RETRIEVER\\3.jpg\n",
      "./dog_classes2\\images\\image\\valid\\14_GOLDEN_RETRIEVER\\30.jpg\n",
      "./dog_classes2\\images\\image\\valid\\14_GOLDEN_RETRIEVER\\31.jpg\n",
      "./dog_classes2\\images\\image\\valid\\14_GOLDEN_RETRIEVER\\32.jpg\n",
      "./dog_classes2\\images\\image\\valid\\14_GOLDEN_RETRIEVER\\33.jpg\n",
      "./dog_classes2\\images\\image\\valid\\14_GOLDEN_RETRIEVER\\34.jpg"
     ]
    },
    {
     "name": "stderr",
     "output_type": "stream",
     "text": [
      ".-dog_classes2\\images\\image\\valid\\14_GOLDEN_RETRIEVER:  73%|█████████████████▍      | 40/55 [00:00<00:00, 74.16files/s]"
     ]
    },
    {
     "name": "stdout",
     "output_type": "stream",
     "text": [
      "\n",
      "./dog_classes2\\images\\image\\valid\\14_GOLDEN_RETRIEVER\\35.jpg\n",
      "./dog_classes2\\images\\image\\valid\\14_GOLDEN_RETRIEVER\\36.jpg\n",
      "./dog_classes2\\images\\image\\valid\\14_GOLDEN_RETRIEVER\\37.jpg\n",
      "./dog_classes2\\images\\image\\valid\\14_GOLDEN_RETRIEVER\\38.jpg\n",
      "./dog_classes2\\images\\image\\valid\\14_GOLDEN_RETRIEVER\\39.jpg\n",
      "./dog_classes2\\images\\image\\valid\\14_GOLDEN_RETRIEVER\\4.jpg\n",
      "./dog_classes2\\images\\image\\valid\\14_GOLDEN_RETRIEVER\\40.jpg\n",
      "./dog_classes2\\images\\image\\valid\\14_GOLDEN_RETRIEVER\\41.jpg\n",
      "./dog_classes2\\images\\image\\valid\\14_GOLDEN_RETRIEVER\\42.jpg\n",
      "./dog_classes2\\images\\image\\valid\\14_GOLDEN_RETRIEVER\\43.jpg\n",
      "./dog_classes2\\images\\image\\valid\\14_GOLDEN_RETRIEVER\\44.jpg\n",
      "./dog_classes2\\images\\image\\valid\\14_GOLDEN_RETRIEVER\\45.jpg\n",
      "./dog_classes2\\images\\image\\valid\\14_GOLDEN_RETRIEVER\\46.jpg"
     ]
    },
    {
     "name": "stderr",
     "output_type": "stream",
     "text": [
      "\r",
      ".-dog_classes2\\images\\image\\valid\\14_GOLDEN_RETRIEVER:  85%|████████████████████▌   | 47/55 [00:00<00:00, 69.66files/s]"
     ]
    },
    {
     "name": "stdout",
     "output_type": "stream",
     "text": [
      "\n",
      "./dog_classes2\\images\\image\\valid\\14_GOLDEN_RETRIEVER\\47.jpg\n",
      "./dog_classes2\\images\\image\\valid\\14_GOLDEN_RETRIEVER\\48.jpg\n",
      "./dog_classes2\\images\\image\\valid\\14_GOLDEN_RETRIEVER\\49.jpg\n",
      "./dog_classes2\\images\\image\\valid\\14_GOLDEN_RETRIEVER\\5.jpg\n",
      "./dog_classes2\\images\\image\\valid\\14_GOLDEN_RETRIEVER\\50.jpg\n",
      "./dog_classes2\\images\\image\\valid\\14_GOLDEN_RETRIEVER\\51.jpg\n",
      "./dog_classes2\\images\\image\\valid\\14_GOLDEN_RETRIEVER\\52.jpg\n",
      "./dog_classes2\\images\\image\\valid\\14_GOLDEN_RETRIEVER\\53.jpg\n",
      "./dog_classes2\\images\\image\\valid\\14_GOLDEN_RETRIEVER\\54.jpg\n",
      "./dog_classes2\\images\\image\\valid\\14_GOLDEN_RETRIEVER\\6.jpg"
     ]
    },
    {
     "name": "stderr",
     "output_type": "stream",
     "text": [
      ".-dog_classes2\\images\\image\\valid\\15_ROTTWEILER:  14%|████▎                          | 7/50 [00:00<00:00, 64.39files/s]"
     ]
    },
    {
     "name": "stdout",
     "output_type": "stream",
     "text": [
      "\n",
      "./dog_classes2\\images\\image\\valid\\14_GOLDEN_RETRIEVER\\7.jpg\n",
      "./dog_classes2\\images\\image\\valid\\14_GOLDEN_RETRIEVER\\8.jpg\n",
      "./dog_classes2\\images\\image\\valid\\14_GOLDEN_RETRIEVER\\9.jpg\n",
      "./dog_classes2\\images\\image\\valid\\15_ROTTWEILER\\50.jpg\n",
      "./dog_classes2\\images\\image\\valid\\15_ROTTWEILER\\51.jpg\n",
      "./dog_classes2\\images\\image\\valid\\15_ROTTWEILER\\52.jpg\n",
      "./dog_classes2\\images\\image\\valid\\15_ROTTWEILER\\53.jpg\n",
      "./dog_classes2\\images\\image\\valid\\15_ROTTWEILER\\54.jpg\n",
      "./dog_classes2\\images\\image\\valid\\15_ROTTWEILER\\55.jpg\n",
      "./dog_classes2\\images\\image\\valid\\15_ROTTWEILER\\56.jpg\n",
      "./dog_classes2\\images\\image\\valid\\15_ROTTWEILER\\57.jpg\n",
      "./dog_classes2\\images\\image\\valid\\15_ROTTWEILER\\58.jpg\n",
      "./dog_classes2\\images\\image\\valid\\15_ROTTWEILER\\59.jpg"
     ]
    },
    {
     "name": "stderr",
     "output_type": "stream",
     "text": [
      "\r",
      ".-dog_classes2\\images\\image\\valid\\15_ROTTWEILER:  28%|████████▍                     | 14/50 [00:00<00:00, 65.66files/s]"
     ]
    },
    {
     "name": "stdout",
     "output_type": "stream",
     "text": [
      "\n",
      "./dog_classes2\\images\\image\\valid\\15_ROTTWEILER\\60.jpg\n",
      "./dog_classes2\\images\\image\\valid\\15_ROTTWEILER\\61.jpg\n",
      "./dog_classes2\\images\\image\\valid\\15_ROTTWEILER\\62.jpg\n",
      "./dog_classes2\\images\\image\\valid\\15_ROTTWEILER\\63.jpg\n",
      "./dog_classes2\\images\\image\\valid\\15_ROTTWEILER\\64.jpg\n",
      "./dog_classes2\\images\\image\\valid\\15_ROTTWEILER\\65.jpg\n",
      "./dog_classes2\\images\\image\\valid\\15_ROTTWEILER\\66.jpg\n",
      "./dog_classes2\\images\\image\\valid\\15_ROTTWEILER\\67.jpg\n",
      "./dog_classes2\\images\\image\\valid\\15_ROTTWEILER\\68.jpg\n",
      "./dog_classes2\\images\\image\\valid\\15_ROTTWEILER\\69.jpg\n",
      "./dog_classes2\\images\\image\\valid\\15_ROTTWEILER\\70.jpg\n",
      "./dog_classes2\\images\\image\\valid\\15_ROTTWEILER\\71.jpg\n"
     ]
    },
    {
     "name": "stderr",
     "output_type": "stream",
     "text": [
      ".-dog_classes2\\images\\image\\valid\\15_ROTTWEILER:  58%|█████████████████▍            | 29/50 [00:00<00:00, 67.26files/s]"
     ]
    },
    {
     "name": "stdout",
     "output_type": "stream",
     "text": [
      "./dog_classes2\\images\\image\\valid\\15_ROTTWEILER\\72.jpg\n",
      "./dog_classes2\\images\\image\\valid\\15_ROTTWEILER\\73.jpg\n",
      "./dog_classes2\\images\\image\\valid\\15_ROTTWEILER\\74.jpg\n",
      "./dog_classes2\\images\\image\\valid\\15_ROTTWEILER\\75.jpg\n",
      "./dog_classes2\\images\\image\\valid\\15_ROTTWEILER\\76.jpg\n",
      "./dog_classes2\\images\\image\\valid\\15_ROTTWEILER\\77.jpg\n",
      "./dog_classes2\\images\\image\\valid\\15_ROTTWEILER\\78.jpg\n",
      "./dog_classes2\\images\\image\\valid\\15_ROTTWEILER\\79.jpg\n",
      "./dog_classes2\\images\\image\\valid\\15_ROTTWEILER\\80.jpg\n",
      "./dog_classes2\\images\\image\\valid\\15_ROTTWEILER\\81.jpg\n",
      "./dog_classes2\\images\\image\\valid\\15_ROTTWEILER\\82.jpg\n",
      "./dog_classes2\\images\\image\\valid\\15_ROTTWEILER\\83.jpg\n",
      "./dog_classes2\\images\\image\\valid\\15_ROTTWEILER\\84.jpg\n"
     ]
    },
    {
     "name": "stderr",
     "output_type": "stream",
     "text": [
      ".-dog_classes2\\images\\image\\valid\\15_ROTTWEILER:  88%|██████████████████████████▍   | 44/50 [00:00<00:00, 69.89files/s]"
     ]
    },
    {
     "name": "stdout",
     "output_type": "stream",
     "text": [
      "./dog_classes2\\images\\image\\valid\\15_ROTTWEILER\\85.jpg\n",
      "./dog_classes2\\images\\image\\valid\\15_ROTTWEILER\\86.jpg\n",
      "./dog_classes2\\images\\image\\valid\\15_ROTTWEILER\\87.jpg\n",
      "./dog_classes2\\images\\image\\valid\\15_ROTTWEILER\\88.jpg\n",
      "./dog_classes2\\images\\image\\valid\\15_ROTTWEILER\\89.jpg\n",
      "./dog_classes2\\images\\image\\valid\\15_ROTTWEILER\\90.jpg\n",
      "./dog_classes2\\images\\image\\valid\\15_ROTTWEILER\\91.jpg\n",
      "./dog_classes2\\images\\image\\valid\\15_ROTTWEILER\\92.jpg\n",
      "./dog_classes2\\images\\image\\valid\\15_ROTTWEILER\\93.jpg\n",
      "./dog_classes2\\images\\image\\valid\\15_ROTTWEILER\\94.jpg\n",
      "./dog_classes2\\images\\image\\valid\\15_ROTTWEILER\\95.jpg\n",
      "./dog_classes2\\images\\image\\valid\\15_ROTTWEILER\\96.jpg\n",
      "./dog_classes2\\images\\image\\valid\\15_ROTTWEILER\\97.jpg\n",
      "./dog_classes2\\images\\image\\valid\\15_ROTTWEILER\\98.jpg"
     ]
    },
    {
     "name": "stderr",
     "output_type": "stream",
     "text": [
      ".-dog_classes2\\images\\image\\valid\\17_PUG:   6%|██▎                                  | 7/114 [00:00<00:01, 66.21files/s]"
     ]
    },
    {
     "name": "stdout",
     "output_type": "stream",
     "text": [
      "\n",
      "./dog_classes2\\images\\image\\valid\\15_ROTTWEILER\\99.jpg\n",
      "./dog_classes2\\images\\image\\valid\\17_PUG\\0.jpg\n",
      "./dog_classes2\\images\\image\\valid\\17_PUG\\1.jpg\n",
      "./dog_classes2\\images\\image\\valid\\17_PUG\\10.jpg\n",
      "./dog_classes2\\images\\image\\valid\\17_PUG\\100.jpg\n",
      "./dog_classes2\\images\\image\\valid\\17_PUG\\101.jpg\n",
      "./dog_classes2\\images\\image\\valid\\17_PUG\\102.jpg\n",
      "./dog_classes2\\images\\image\\valid\\17_PUG\\103.jpg\n",
      "./dog_classes2\\images\\image\\valid\\17_PUG\\104.jpg\n",
      "./dog_classes2\\images\\image\\valid\\17_PUG\\105.jpg\n",
      "./dog_classes2\\images\\image\\valid\\17_PUG\\106.jpg\n",
      "./dog_classes2\\images\\image\\valid\\17_PUG\\107.jpg\n",
      "./dog_classes2\\images\\image\\valid\\17_PUG\\108.jpg"
     ]
    },
    {
     "name": "stderr",
     "output_type": "stream",
     "text": [
      ".-dog_classes2\\images\\image\\valid\\17_PUG:  21%|███████▌                            | 24/114 [00:00<00:01, 72.43files/s]"
     ]
    },
    {
     "name": "stdout",
     "output_type": "stream",
     "text": [
      "\n",
      "./dog_classes2\\images\\image\\valid\\17_PUG\\109.jpg\n",
      "./dog_classes2\\images\\image\\valid\\17_PUG\\11.jpg\n",
      "./dog_classes2\\images\\image\\valid\\17_PUG\\110.jpg\n",
      "./dog_classes2\\images\\image\\valid\\17_PUG\\111.jpg\n",
      "./dog_classes2\\images\\image\\valid\\17_PUG\\112.jpg\n",
      "./dog_classes2\\images\\image\\valid\\17_PUG\\113.jpg\n",
      "./dog_classes2\\images\\image\\valid\\17_PUG\\12.jpg\n",
      "./dog_classes2\\images\\image\\valid\\17_PUG\\13.jpg\n",
      "./dog_classes2\\images\\image\\valid\\17_PUG\\14.jpg\n",
      "./dog_classes2\\images\\image\\valid\\17_PUG\\15.jpg\n",
      "./dog_classes2\\images\\image\\valid\\17_PUG\\16.jpg\n",
      "./dog_classes2\\images\\image\\valid\\17_PUG\\17.jpg\n",
      "./dog_classes2\\images\\image\\valid\\17_PUG\\18.jpg\n",
      "./dog_classes2\\images\\image\\valid\\17_PUG\\19.jpg\n",
      "./dog_classes2\\images\\image\\valid\\17_PUG\\2.jpg"
     ]
    },
    {
     "name": "stderr",
     "output_type": "stream",
     "text": [
      "\r",
      ".-dog_classes2\\images\\image\\valid\\17_PUG:  28%|██████████                          | 32/114 [00:00<00:01, 71.23files/s]"
     ]
    },
    {
     "name": "stdout",
     "output_type": "stream",
     "text": [
      "\n",
      "./dog_classes2\\images\\image\\valid\\17_PUG\\20.jpg\n",
      "./dog_classes2\\images\\image\\valid\\17_PUG\\21.jpg\n",
      "./dog_classes2\\images\\image\\valid\\17_PUG\\22.jpg\n",
      "./dog_classes2\\images\\image\\valid\\17_PUG\\23.jpg\n",
      "./dog_classes2\\images\\image\\valid\\17_PUG\\24.jpg\n",
      "./dog_classes2\\images\\image\\valid\\17_PUG\\25.jpg\n",
      "./dog_classes2\\images\\image\\valid\\17_PUG\\26.jpg\n",
      "./dog_classes2\\images\\image\\valid\\17_PUG\\27.jpg\n",
      "./dog_classes2\\images\\image\\valid\\17_PUG\\28.jpg\n",
      "./dog_classes2\\images\\image\\valid\\17_PUG\\29.jpg\n",
      "./dog_classes2\\images\\image\\valid\\17_PUG\\3.jpg\n",
      "./dog_classes2\\images\\image\\valid\\17_PUG\\30.jpg\n",
      "./dog_classes2\\images\\image\\valid\\17_PUG\\31.jpg"
     ]
    },
    {
     "name": "stderr",
     "output_type": "stream",
     "text": [
      ".-dog_classes2\\images\\image\\valid\\17_PUG:  41%|██████████████▊                     | 47/114 [00:00<00:00, 70.67files/s]"
     ]
    },
    {
     "name": "stdout",
     "output_type": "stream",
     "text": [
      "\n",
      "./dog_classes2\\images\\image\\valid\\17_PUG\\32.jpg\n",
      "./dog_classes2\\images\\image\\valid\\17_PUG\\33.jpg\n",
      "./dog_classes2\\images\\image\\valid\\17_PUG\\34.jpg\n",
      "./dog_classes2\\images\\image\\valid\\17_PUG\\35.jpg\n",
      "./dog_classes2\\images\\image\\valid\\17_PUG\\36.jpg\n",
      "./dog_classes2\\images\\image\\valid\\17_PUG\\37.jpg\n",
      "./dog_classes2\\images\\image\\valid\\17_PUG\\38.jpg\n",
      "./dog_classes2\\images\\image\\valid\\17_PUG\\39.jpg\n",
      "./dog_classes2\\images\\image\\valid\\17_PUG\\4.jpg\n",
      "./dog_classes2\\images\\image\\valid\\17_PUG\\40.jpg\n",
      "./dog_classes2\\images\\image\\valid\\17_PUG\\41.jpg\n",
      "./dog_classes2\\images\\image\\valid\\17_PUG\\42.jpg\n",
      "./dog_classes2\\images\\image\\valid\\17_PUG\\43.jpg\n",
      "./dog_classes2\\images\\image\\valid\\17_PUG\\44.jpg\n"
     ]
    },
    {
     "name": "stderr",
     "output_type": "stream",
     "text": [
      ".-dog_classes2\\images\\image\\valid\\17_PUG:  57%|████████████████████▌               | 65/114 [00:00<00:00, 75.19files/s]"
     ]
    },
    {
     "name": "stdout",
     "output_type": "stream",
     "text": [
      "./dog_classes2\\images\\image\\valid\\17_PUG\\45.jpg\n",
      "./dog_classes2\\images\\image\\valid\\17_PUG\\46.jpg\n",
      "./dog_classes2\\images\\image\\valid\\17_PUG\\47.jpg\n",
      "./dog_classes2\\images\\image\\valid\\17_PUG\\48.jpg\n",
      "./dog_classes2\\images\\image\\valid\\17_PUG\\49.jpg\n",
      "./dog_classes2\\images\\image\\valid\\17_PUG\\5.jpg\n",
      "./dog_classes2\\images\\image\\valid\\17_PUG\\50.jpg\n",
      "./dog_classes2\\images\\image\\valid\\17_PUG\\51.jpg\n",
      "./dog_classes2\\images\\image\\valid\\17_PUG\\52.jpg\n",
      "./dog_classes2\\images\\image\\valid\\17_PUG\\53.jpg\n",
      "./dog_classes2\\images\\image\\valid\\17_PUG\\54.jpg\n",
      "./dog_classes2\\images\\image\\valid\\17_PUG\\55.jpg\n",
      "./dog_classes2\\images\\image\\valid\\17_PUG\\56.jpg\n",
      "./dog_classes2\\images\\image\\valid\\17_PUG\\57.jpg\n",
      "./dog_classes2\\images\\image\\valid\\17_PUG\\58.jpg\n",
      "./dog_classes2\\images\\image\\valid\\17_PUG\\59.jpg"
     ]
    },
    {
     "name": "stderr",
     "output_type": "stream",
     "text": [
      ".-dog_classes2\\images\\image\\valid\\17_PUG:  73%|██████████████████████████▏         | 83/114 [00:01<00:00, 78.41files/s]"
     ]
    },
    {
     "name": "stdout",
     "output_type": "stream",
     "text": [
      "\n",
      "./dog_classes2\\images\\image\\valid\\17_PUG\\6.jpg\n",
      "./dog_classes2\\images\\image\\valid\\17_PUG\\60.jpg\n",
      "./dog_classes2\\images\\image\\valid\\17_PUG\\61.jpg\n",
      "./dog_classes2\\images\\image\\valid\\17_PUG\\62.jpg\n",
      "./dog_classes2\\images\\image\\valid\\17_PUG\\63.jpg\n",
      "./dog_classes2\\images\\image\\valid\\17_PUG\\64.jpg\n",
      "./dog_classes2\\images\\image\\valid\\17_PUG\\65.jpg\n",
      "./dog_classes2\\images\\image\\valid\\17_PUG\\66.jpg\n",
      "./dog_classes2\\images\\image\\valid\\17_PUG\\67.jpg\n",
      "./dog_classes2\\images\\image\\valid\\17_PUG\\68.jpg\n",
      "./dog_classes2\\images\\image\\valid\\17_PUG\\69.jpg\n",
      "./dog_classes2\\images\\image\\valid\\17_PUG\\7.jpg\n",
      "./dog_classes2\\images\\image\\valid\\17_PUG\\70.jpg\n",
      "./dog_classes2\\images\\image\\valid\\17_PUG\\71.jpg\n",
      "./dog_classes2\\images\\image\\valid\\17_PUG\\72.jpg"
     ]
    },
    {
     "name": "stderr",
     "output_type": "stream",
     "text": [
      "\r",
      ".-dog_classes2\\images\\image\\valid\\17_PUG:  80%|████████████████████████████▋       | 91/114 [00:01<00:00, 73.92files/s]"
     ]
    },
    {
     "name": "stdout",
     "output_type": "stream",
     "text": [
      "\n",
      "./dog_classes2\\images\\image\\valid\\17_PUG\\73.jpg\n",
      "./dog_classes2\\images\\image\\valid\\17_PUG\\74.jpg\n",
      "./dog_classes2\\images\\image\\valid\\17_PUG\\75.jpg\n",
      "./dog_classes2\\images\\image\\valid\\17_PUG\\76.jpg\n",
      "./dog_classes2\\images\\image\\valid\\17_PUG\\77.jpg\n",
      "./dog_classes2\\images\\image\\valid\\17_PUG\\78.jpg\n",
      "./dog_classes2\\images\\image\\valid\\17_PUG\\79.jpg\n",
      "./dog_classes2\\images\\image\\valid\\17_PUG\\8.jpg\n",
      "./dog_classes2\\images\\image\\valid\\17_PUG\\80.jpg\n",
      "./dog_classes2\\images\\image\\valid\\17_PUG\\81.jpg\n",
      "./dog_classes2\\images\\image\\valid\\17_PUG\\82.jpg\n",
      "./dog_classes2\\images\\image\\valid\\17_PUG\\83.jpg\n",
      "./dog_classes2\\images\\image\\valid\\17_PUG\\84.jpg\n",
      "./dog_classes2\\images\\image\\valid\\17_PUG\\85.jpg"
     ]
    },
    {
     "name": "stderr",
     "output_type": "stream",
     "text": [
      ".-dog_classes2\\images\\image\\valid\\17_PUG:  94%|████████████████████████████████▊  | 107/114 [00:01<00:00, 76.04files/s]"
     ]
    },
    {
     "name": "stdout",
     "output_type": "stream",
     "text": [
      "\n",
      "./dog_classes2\\images\\image\\valid\\17_PUG\\86.jpg\n",
      "./dog_classes2\\images\\image\\valid\\17_PUG\\87.jpg\n",
      "./dog_classes2\\images\\image\\valid\\17_PUG\\88.jpg\n",
      "./dog_classes2\\images\\image\\valid\\17_PUG\\89.jpg\n",
      "./dog_classes2\\images\\image\\valid\\17_PUG\\9.jpg\n",
      "./dog_classes2\\images\\image\\valid\\17_PUG\\90.jpg\n",
      "./dog_classes2\\images\\image\\valid\\17_PUG\\91.jpg\n",
      "./dog_classes2\\images\\image\\valid\\17_PUG\\92.jpg\n",
      "./dog_classes2\\images\\image\\valid\\17_PUG\\93.jpg\n",
      "./dog_classes2\\images\\image\\valid\\17_PUG\\94.jpg\n",
      "./dog_classes2\\images\\image\\valid\\17_PUG\\95.jpg\n",
      "./dog_classes2\\images\\image\\valid\\17_PUG\\96.jpg\n",
      "./dog_classes2\\images\\image\\valid\\17_PUG\\97.jpg\n",
      "./dog_classes2\\images\\image\\valid\\17_PUG\\98.jpg"
     ]
    },
    {
     "name": "stderr",
     "output_type": "stream",
     "text": [
      ".-dog_classes2\\images\\image\\valid\\18_BEDLINGTON_TERRIER:  19%|████▍                  | 7/36 [00:00<00:00, 50.50files/s]"
     ]
    },
    {
     "name": "stdout",
     "output_type": "stream",
     "text": [
      "\n",
      "./dog_classes2\\images\\image\\valid\\17_PUG\\99.jpg\n",
      "./dog_classes2\\images\\image\\valid\\18_BEDLINGTON_TERRIER\\36.jpg\n",
      "./dog_classes2\\images\\image\\valid\\18_BEDLINGTON_TERRIER\\37.jpg\n",
      "./dog_classes2\\images\\image\\valid\\18_BEDLINGTON_TERRIER\\38.jpg\n",
      "./dog_classes2\\images\\image\\valid\\18_BEDLINGTON_TERRIER\\39.jpg\n",
      "./dog_classes2\\images\\image\\valid\\18_BEDLINGTON_TERRIER\\40.jpg\n",
      "./dog_classes2\\images\\image\\valid\\18_BEDLINGTON_TERRIER\\41.jpg\n",
      "./dog_classes2\\images\\image\\valid\\18_BEDLINGTON_TERRIER\\42.jpg\n",
      "./dog_classes2\\images\\image\\valid\\18_BEDLINGTON_TERRIER\\43.jpg\n",
      "./dog_classes2\\images\\image\\valid\\18_BEDLINGTON_TERRIER\\44.jpg"
     ]
    },
    {
     "name": "stderr",
     "output_type": "stream",
     "text": [
      ".-dog_classes2\\images\\image\\valid\\18_BEDLINGTON_TERRIER:  67%|██████████████▋       | 24/36 [00:00<00:00, 62.96files/s]"
     ]
    },
    {
     "name": "stdout",
     "output_type": "stream",
     "text": [
      "\n",
      "./dog_classes2\\images\\image\\valid\\18_BEDLINGTON_TERRIER\\45.jpg\n",
      "./dog_classes2\\images\\image\\valid\\18_BEDLINGTON_TERRIER\\46.jpg\n",
      "./dog_classes2\\images\\image\\valid\\18_BEDLINGTON_TERRIER\\47.jpg\n",
      "./dog_classes2\\images\\image\\valid\\18_BEDLINGTON_TERRIER\\48.jpg\n",
      "./dog_classes2\\images\\image\\valid\\18_BEDLINGTON_TERRIER\\49.jpg\n",
      "./dog_classes2\\images\\image\\valid\\18_BEDLINGTON_TERRIER\\50.jpg\n",
      "./dog_classes2\\images\\image\\valid\\18_BEDLINGTON_TERRIER\\51.jpg\n",
      "./dog_classes2\\images\\image\\valid\\18_BEDLINGTON_TERRIER\\52.jpg\n",
      "./dog_classes2\\images\\image\\valid\\18_BEDLINGTON_TERRIER\\53.jpg\n",
      "./dog_classes2\\images\\image\\valid\\18_BEDLINGTON_TERRIER\\54.jpg\n",
      "./dog_classes2\\images\\image\\valid\\18_BEDLINGTON_TERRIER\\55.jpg\n",
      "./dog_classes2\\images\\image\\valid\\18_BEDLINGTON_TERRIER\\56.jpg\n",
      "./dog_classes2\\images\\image\\valid\\18_BEDLINGTON_TERRIER\\57.jpg\n",
      "./dog_classes2\\images\\image\\valid\\18_BEDLINGTON_TERRIER\\58.jpg\n",
      "./dog_classes2\\images\\image\\valid\\18_BEDLINGTON_TERRIER\\59.jpg\n",
      "./dog_classes2\\images\\image\\valid\\18_BEDLINGTON_TERRIER\\60.jpg"
     ]
    },
    {
     "name": "stderr",
     "output_type": "stream",
     "text": [
      ".-dog_classes2\\images\\image\\valid\\19_GERMAN_SHEPHERD_DOG:   0%|                              | 0/55 [00:00<?, ?files/s]"
     ]
    },
    {
     "name": "stdout",
     "output_type": "stream",
     "text": [
      "\n",
      "./dog_classes2\\images\\image\\valid\\18_BEDLINGTON_TERRIER\\61.jpg\n",
      "./dog_classes2\\images\\image\\valid\\18_BEDLINGTON_TERRIER\\62.jpg\n",
      "./dog_classes2\\images\\image\\valid\\18_BEDLINGTON_TERRIER\\63.jpg\n",
      "./dog_classes2\\images\\image\\valid\\18_BEDLINGTON_TERRIER\\64.jpg\n",
      "./dog_classes2\\images\\image\\valid\\18_BEDLINGTON_TERRIER\\65.jpg\n",
      "./dog_classes2\\images\\image\\valid\\18_BEDLINGTON_TERRIER\\66.jpg\n",
      "./dog_classes2\\images\\image\\valid\\18_BEDLINGTON_TERRIER\\67.jpg\n",
      "./dog_classes2\\images\\image\\valid\\18_BEDLINGTON_TERRIER\\68.jpg\n",
      "./dog_classes2\\images\\image\\valid\\18_BEDLINGTON_TERRIER\\69.jpg\n",
      "./dog_classes2\\images\\image\\valid\\18_BEDLINGTON_TERRIER\\70.jpg\n",
      "./dog_classes2\\images\\image\\valid\\18_BEDLINGTON_TERRIER\\71.jpg\n",
      "./dog_classes2\\images\\image\\valid\\19_GERMAN_SHEPHERD_DOG\\0.jpg\n",
      "./dog_classes2\\images\\image\\valid\\19_GERMAN_SHEPHERD_DOG\\1.jpg\n",
      "./dog_classes2\\images\\image\\valid\\19_GERMAN_SHEPHERD_DOG\\10.jpg"
     ]
    },
    {
     "name": "stderr",
     "output_type": "stream",
     "text": [
      "\r",
      ".-dog_classes2\\images\\image\\valid\\19_GERMAN_SHEPHERD_DOG:  11%|██▍                   | 6/55 [00:00<00:01, 34.58files/s]"
     ]
    },
    {
     "name": "stdout",
     "output_type": "stream",
     "text": [
      "\n",
      "./dog_classes2\\images\\image\\valid\\19_GERMAN_SHEPHERD_DOG\\11.jpg\n",
      "./dog_classes2\\images\\image\\valid\\19_GERMAN_SHEPHERD_DOG\\12.jpg\n",
      "./dog_classes2\\images\\image\\valid\\19_GERMAN_SHEPHERD_DOG\\13.jpg\n",
      "./dog_classes2\\images\\image\\valid\\19_GERMAN_SHEPHERD_DOG\\14.jpg\n",
      "./dog_classes2\\images\\image\\valid\\19_GERMAN_SHEPHERD_DOG\\15.jpg\n",
      "./dog_classes2\\images\\image\\valid\\19_GERMAN_SHEPHERD_DOG\\16.jpg\n",
      "./dog_classes2\\images\\image\\valid\\19_GERMAN_SHEPHERD_DOG\\17.jpg"
     ]
    },
    {
     "name": "stderr",
     "output_type": "stream",
     "text": [
      ".-dog_classes2\\images\\image\\valid\\19_GERMAN_SHEPHERD_DOG:  38%|████████             | 21/55 [00:00<00:00, 47.13files/s]"
     ]
    },
    {
     "name": "stdout",
     "output_type": "stream",
     "text": [
      "\n",
      "./dog_classes2\\images\\image\\valid\\19_GERMAN_SHEPHERD_DOG\\18.jpg\n",
      "./dog_classes2\\images\\image\\valid\\19_GERMAN_SHEPHERD_DOG\\19.jpg\n",
      "./dog_classes2\\images\\image\\valid\\19_GERMAN_SHEPHERD_DOG\\2.jpg\n",
      "./dog_classes2\\images\\image\\valid\\19_GERMAN_SHEPHERD_DOG\\20.jpg\n",
      "./dog_classes2\\images\\image\\valid\\19_GERMAN_SHEPHERD_DOG\\21.jpg\n",
      "./dog_classes2\\images\\image\\valid\\19_GERMAN_SHEPHERD_DOG\\22.jpg\n",
      "./dog_classes2\\images\\image\\valid\\19_GERMAN_SHEPHERD_DOG\\23.jpg\n",
      "./dog_classes2\\images\\image\\valid\\19_GERMAN_SHEPHERD_DOG\\24.jpg\n",
      "./dog_classes2\\images\\image\\valid\\19_GERMAN_SHEPHERD_DOG\\25.jpg\n",
      "./dog_classes2\\images\\image\\valid\\19_GERMAN_SHEPHERD_DOG\\26.jpg\n",
      "./dog_classes2\\images\\image\\valid\\19_GERMAN_SHEPHERD_DOG\\27.jpg\n",
      "./dog_classes2\\images\\image\\valid\\19_GERMAN_SHEPHERD_DOG\\28.jpg\n",
      "./dog_classes2\\images\\image\\valid\\19_GERMAN_SHEPHERD_DOG\\29.jpg\n",
      "./dog_classes2\\images\\image\\valid\\19_GERMAN_SHEPHERD_DOG\\3.jpg"
     ]
    },
    {
     "name": "stderr",
     "output_type": "stream",
     "text": [
      "\r",
      ".-dog_classes2\\images\\image\\valid\\19_GERMAN_SHEPHERD_DOG:  55%|███████████▍         | 30/55 [00:00<00:00, 53.83files/s]"
     ]
    },
    {
     "name": "stdout",
     "output_type": "stream",
     "text": [
      "\n",
      "./dog_classes2\\images\\image\\valid\\19_GERMAN_SHEPHERD_DOG\\30.jpg\n",
      "./dog_classes2\\images\\image\\valid\\19_GERMAN_SHEPHERD_DOG\\31.jpg\n",
      "./dog_classes2\\images\\image\\valid\\19_GERMAN_SHEPHERD_DOG\\32.jpg\n",
      "./dog_classes2\\images\\image\\valid\\19_GERMAN_SHEPHERD_DOG\\33.jpg\n",
      "./dog_classes2\\images\\image\\valid\\19_GERMAN_SHEPHERD_DOG\\34.jpg\n",
      "./dog_classes2\\images\\image\\valid\\19_GERMAN_SHEPHERD_DOG\\35.jpg\n",
      "./dog_classes2\\images\\image\\valid\\19_GERMAN_SHEPHERD_DOG\\36.jpg\n",
      "./dog_classes2\\images\\image\\valid\\19_GERMAN_SHEPHERD_DOG\\37.jpg\n",
      "./dog_classes2\\images\\image\\valid\\19_GERMAN_SHEPHERD_DOG\\38.jpg\n",
      "./dog_classes2\\images\\image\\valid\\19_GERMAN_SHEPHERD_DOG\\39.jpg\n",
      "./dog_classes2\\images\\image\\valid\\19_GERMAN_SHEPHERD_DOG\\4.jpg\n",
      "./dog_classes2\\images\\image\\valid\\19_GERMAN_SHEPHERD_DOG\\40.jpg\n",
      "./dog_classes2\\images\\image\\valid\\19_GERMAN_SHEPHERD_DOG\\41.jpg\n",
      "./dog_classes2\\images\\image\\valid\\19_GERMAN_SHEPHERD_DOG\\42.jpg"
     ]
    },
    {
     "name": "stderr",
     "output_type": "stream",
     "text": [
      ".-dog_classes2\\images\\image\\valid\\19_GERMAN_SHEPHERD_DOG:  84%|█████████████████▌   | 46/55 [00:00<00:00, 62.68files/s]"
     ]
    },
    {
     "name": "stdout",
     "output_type": "stream",
     "text": [
      "\n",
      "./dog_classes2\\images\\image\\valid\\19_GERMAN_SHEPHERD_DOG\\43.jpg\n",
      "./dog_classes2\\images\\image\\valid\\19_GERMAN_SHEPHERD_DOG\\44.jpg\n",
      "./dog_classes2\\images\\image\\valid\\19_GERMAN_SHEPHERD_DOG\\45.jpg\n",
      "./dog_classes2\\images\\image\\valid\\19_GERMAN_SHEPHERD_DOG\\46.jpg\n",
      "./dog_classes2\\images\\image\\valid\\19_GERMAN_SHEPHERD_DOG\\47.jpg\n",
      "./dog_classes2\\images\\image\\valid\\19_GERMAN_SHEPHERD_DOG\\48.jpg\n",
      "./dog_classes2\\images\\image\\valid\\19_GERMAN_SHEPHERD_DOG\\49.jpg\n",
      "./dog_classes2\\images\\image\\valid\\19_GERMAN_SHEPHERD_DOG\\5.jpg\n",
      "./dog_classes2\\images\\image\\valid\\19_GERMAN_SHEPHERD_DOG\\50.jpg\n",
      "./dog_classes2\\images\\image\\valid\\19_GERMAN_SHEPHERD_DOG\\51.jpg\n",
      "./dog_classes2\\images\\image\\valid\\19_GERMAN_SHEPHERD_DOG\\52.jpg\n",
      "./dog_classes2\\images\\image\\valid\\19_GERMAN_SHEPHERD_DOG\\53.jpg\n",
      "./dog_classes2\\images\\image\\valid\\19_GERMAN_SHEPHERD_DOG\\54.jpg\n",
      "./dog_classes2\\images\\image\\valid\\19_GERMAN_SHEPHERD_DOG\\6.jpg\n",
      "./dog_classes2\\images\\image\\valid\\19_GERMAN_SHEPHERD_DOG\\7.jpg"
     ]
    },
    {
     "name": "stderr",
     "output_type": "stream",
     "text": [
      ".-dog_classes2\\images\\image\\valid\\21_CHOW_CHOW:  12%|███▉                            | 8/65 [00:00<00:00, 71.62files/s]"
     ]
    },
    {
     "name": "stdout",
     "output_type": "stream",
     "text": [
      "\n",
      "./dog_classes2\\images\\image\\valid\\19_GERMAN_SHEPHERD_DOG\\8.jpg\n",
      "./dog_classes2\\images\\image\\valid\\19_GERMAN_SHEPHERD_DOG\\9.jpg\n",
      "./dog_classes2\\images\\image\\valid\\21_CHOW_CHOW\\100.jpg\n",
      "./dog_classes2\\images\\image\\valid\\21_CHOW_CHOW\\101.jpg\n",
      "./dog_classes2\\images\\image\\valid\\21_CHOW_CHOW\\102.jpg\n",
      "./dog_classes2\\images\\image\\valid\\21_CHOW_CHOW\\103.jpg\n",
      "./dog_classes2\\images\\image\\valid\\21_CHOW_CHOW\\104.jpg\n",
      "./dog_classes2\\images\\image\\valid\\21_CHOW_CHOW\\105.jpg\n",
      "./dog_classes2\\images\\image\\valid\\21_CHOW_CHOW\\106.jpg\n",
      "./dog_classes2\\images\\image\\valid\\21_CHOW_CHOW\\107.jpg\n",
      "./dog_classes2\\images\\image\\valid\\21_CHOW_CHOW\\108.jpg\n",
      "./dog_classes2\\images\\image\\valid\\21_CHOW_CHOW\\109.jpg\n",
      "./dog_classes2\\images\\image\\valid\\21_CHOW_CHOW\\110.jpg"
     ]
    },
    {
     "name": "stderr",
     "output_type": "stream",
     "text": [
      ".-dog_classes2\\images\\image\\valid\\21_CHOW_CHOW:  35%|██████████▉                    | 23/65 [00:00<00:00, 69.83files/s]"
     ]
    },
    {
     "name": "stdout",
     "output_type": "stream",
     "text": [
      "\n",
      "./dog_classes2\\images\\image\\valid\\21_CHOW_CHOW\\111.jpg\n",
      "./dog_classes2\\images\\image\\valid\\21_CHOW_CHOW\\112.jpg\n",
      "./dog_classes2\\images\\image\\valid\\21_CHOW_CHOW\\113.jpg\n",
      "./dog_classes2\\images\\image\\valid\\21_CHOW_CHOW\\114.jpg\n",
      "./dog_classes2\\images\\image\\valid\\21_CHOW_CHOW\\115.jpg\n",
      "./dog_classes2\\images\\image\\valid\\21_CHOW_CHOW\\116.jpg\n",
      "./dog_classes2\\images\\image\\valid\\21_CHOW_CHOW\\117.jpg\n",
      "./dog_classes2\\images\\image\\valid\\21_CHOW_CHOW\\118.jpg\n",
      "./dog_classes2\\images\\image\\valid\\21_CHOW_CHOW\\119.jpg\n",
      "./dog_classes2\\images\\image\\valid\\21_CHOW_CHOW\\120.jpg\n",
      "./dog_classes2\\images\\image\\valid\\21_CHOW_CHOW\\121.jpg\n",
      "./dog_classes2\\images\\image\\valid\\21_CHOW_CHOW\\122.jpg\n",
      "./dog_classes2\\images\\image\\valid\\21_CHOW_CHOW\\123.jpg"
     ]
    },
    {
     "name": "stderr",
     "output_type": "stream",
     "text": [
      "\r",
      ".-dog_classes2\\images\\image\\valid\\21_CHOW_CHOW:  45%|█████████████▊                 | 29/65 [00:00<00:00, 65.10files/s]"
     ]
    },
    {
     "name": "stdout",
     "output_type": "stream",
     "text": [
      "\n",
      "./dog_classes2\\images\\image\\valid\\21_CHOW_CHOW\\124.jpg\n",
      "./dog_classes2\\images\\image\\valid\\21_CHOW_CHOW\\125.jpg\n",
      "./dog_classes2\\images\\image\\valid\\21_CHOW_CHOW\\126.jpg\n",
      "./dog_classes2\\images\\image\\valid\\21_CHOW_CHOW\\127.jpg\n",
      "./dog_classes2\\images\\image\\valid\\21_CHOW_CHOW\\128.jpg\n",
      "./dog_classes2\\images\\image\\valid\\21_CHOW_CHOW\\129.jpg\n",
      "./dog_classes2\\images\\image\\valid\\21_CHOW_CHOW\\65.jpg\n",
      "./dog_classes2\\images\\image\\valid\\21_CHOW_CHOW\\66.jpg\n",
      "./dog_classes2\\images\\image\\valid\\21_CHOW_CHOW\\67.jpg\n",
      "./dog_classes2\\images\\image\\valid\\21_CHOW_CHOW\\68.jpg\n",
      "./dog_classes2\\images\\image\\valid\\21_CHOW_CHOW\\69.jpg\n",
      "./dog_classes2\\images\\image\\valid\\21_CHOW_CHOW\\70.jpg"
     ]
    },
    {
     "name": "stderr",
     "output_type": "stream",
     "text": [
      ".-dog_classes2\\images\\image\\valid\\21_CHOW_CHOW:  69%|█████████████████████▍         | 45/65 [00:00<00:00, 68.82files/s]"
     ]
    },
    {
     "name": "stdout",
     "output_type": "stream",
     "text": [
      "\n",
      "./dog_classes2\\images\\image\\valid\\21_CHOW_CHOW\\71.jpg\n",
      "./dog_classes2\\images\\image\\valid\\21_CHOW_CHOW\\72.jpg\n",
      "./dog_classes2\\images\\image\\valid\\21_CHOW_CHOW\\73.jpg\n",
      "./dog_classes2\\images\\image\\valid\\21_CHOW_CHOW\\74.jpg\n",
      "./dog_classes2\\images\\image\\valid\\21_CHOW_CHOW\\75.jpg\n",
      "./dog_classes2\\images\\image\\valid\\21_CHOW_CHOW\\76.jpg\n",
      "./dog_classes2\\images\\image\\valid\\21_CHOW_CHOW\\77.jpg\n",
      "./dog_classes2\\images\\image\\valid\\21_CHOW_CHOW\\78.jpg\n",
      "./dog_classes2\\images\\image\\valid\\21_CHOW_CHOW\\79.jpg\n",
      "./dog_classes2\\images\\image\\valid\\21_CHOW_CHOW\\80.jpg\n",
      "./dog_classes2\\images\\image\\valid\\21_CHOW_CHOW\\81.jpg\n",
      "./dog_classes2\\images\\image\\valid\\21_CHOW_CHOW\\82.jpg\n",
      "./dog_classes2\\images\\image\\valid\\21_CHOW_CHOW\\83.jpg"
     ]
    },
    {
     "name": "stderr",
     "output_type": "stream",
     "text": [
      ".-dog_classes2\\images\\image\\valid\\21_CHOW_CHOW:  94%|█████████████████████████████  | 61/65 [00:00<00:00, 71.62files/s]"
     ]
    },
    {
     "name": "stdout",
     "output_type": "stream",
     "text": [
      "\n",
      "./dog_classes2\\images\\image\\valid\\21_CHOW_CHOW\\84.jpg\n",
      "./dog_classes2\\images\\image\\valid\\21_CHOW_CHOW\\85.jpg\n",
      "./dog_classes2\\images\\image\\valid\\21_CHOW_CHOW\\86.jpg\n",
      "./dog_classes2\\images\\image\\valid\\21_CHOW_CHOW\\87.jpg\n",
      "./dog_classes2\\images\\image\\valid\\21_CHOW_CHOW\\88.jpg\n",
      "./dog_classes2\\images\\image\\valid\\21_CHOW_CHOW\\89.jpg\n",
      "./dog_classes2\\images\\image\\valid\\21_CHOW_CHOW\\90.jpg\n",
      "./dog_classes2\\images\\image\\valid\\21_CHOW_CHOW\\91.jpg\n",
      "./dog_classes2\\images\\image\\valid\\21_CHOW_CHOW\\92.jpg\n",
      "./dog_classes2\\images\\image\\valid\\21_CHOW_CHOW\\93.jpg\n",
      "./dog_classes2\\images\\image\\valid\\21_CHOW_CHOW\\94.jpg\n",
      "./dog_classes2\\images\\image\\valid\\21_CHOW_CHOW\\95.jpg\n",
      "./dog_classes2\\images\\image\\valid\\21_CHOW_CHOW\\96.jpg\n",
      "./dog_classes2\\images\\image\\valid\\21_CHOW_CHOW\\97.jpg\n",
      "./dog_classes2\\images\\image\\valid\\21_CHOW_CHOW\\98.jpg"
     ]
    },
    {
     "name": "stderr",
     "output_type": "stream",
     "text": [
      ".-dog_classes2\\images\\image\\valid\\22_DOBERMANN:  16%|████▉                           | 9/58 [00:00<00:00, 81.30files/s]"
     ]
    },
    {
     "name": "stdout",
     "output_type": "stream",
     "text": [
      "\n",
      "./dog_classes2\\images\\image\\valid\\21_CHOW_CHOW\\99.jpg\n",
      "./dog_classes2\\images\\image\\valid\\22_DOBERMANN\\0.jpg\n",
      "./dog_classes2\\images\\image\\valid\\22_DOBERMANN\\1.jpg\n",
      "./dog_classes2\\images\\image\\valid\\22_DOBERMANN\\10.jpg\n",
      "./dog_classes2\\images\\image\\valid\\22_DOBERMANN\\11.jpg\n",
      "./dog_classes2\\images\\image\\valid\\22_DOBERMANN\\12.jpg\n",
      "./dog_classes2\\images\\image\\valid\\22_DOBERMANN\\13.jpg\n",
      "./dog_classes2\\images\\image\\valid\\22_DOBERMANN\\14.jpg\n",
      "./dog_classes2\\images\\image\\valid\\22_DOBERMANN\\15.jpg\n",
      "./dog_classes2\\images\\image\\valid\\22_DOBERMANN\\16.jpg\n",
      "./dog_classes2\\images\\image\\valid\\22_DOBERMANN\\17.jpg\n",
      "./dog_classes2\\images\\image\\valid\\22_DOBERMANN\\18.jpg\n",
      "./dog_classes2\\images\\image\\valid\\22_DOBERMANN\\19.jpg\n",
      "./dog_classes2\\images\\image\\valid\\22_DOBERMANN\\2.jpg"
     ]
    },
    {
     "name": "stderr",
     "output_type": "stream",
     "text": [
      "\r",
      ".-dog_classes2\\images\\image\\valid\\22_DOBERMANN:  29%|█████████                      | 17/58 [00:00<00:00, 79.52files/s]"
     ]
    },
    {
     "name": "stdout",
     "output_type": "stream",
     "text": [
      "\n",
      "./dog_classes2\\images\\image\\valid\\22_DOBERMANN\\20.jpg\n",
      "./dog_classes2\\images\\image\\valid\\22_DOBERMANN\\21.jpg\n",
      "./dog_classes2\\images\\image\\valid\\22_DOBERMANN\\22.jpg\n",
      "./dog_classes2\\images\\image\\valid\\22_DOBERMANN\\23.jpg\n",
      "./dog_classes2\\images\\image\\valid\\22_DOBERMANN\\24.jpg\n"
     ]
    },
    {
     "name": "stderr",
     "output_type": "stream",
     "text": [
      ".-dog_classes2\\images\\image\\valid\\22_DOBERMANN:  50%|███████████████▌               | 29/58 [00:00<00:00, 51.13files/s]"
     ]
    },
    {
     "name": "stdout",
     "output_type": "stream",
     "text": [
      "./dog_classes2\\images\\image\\valid\\22_DOBERMANN\\25.jpg\n",
      "./dog_classes2\\images\\image\\valid\\22_DOBERMANN\\26.jpg\n",
      "./dog_classes2\\images\\image\\valid\\22_DOBERMANN\\27.jpg\n",
      "./dog_classes2\\images\\image\\valid\\22_DOBERMANN\\28.jpg\n",
      "./dog_classes2\\images\\image\\valid\\22_DOBERMANN\\29.jpg\n",
      "./dog_classes2\\images\\image\\valid\\22_DOBERMANN\\3.jpg\n",
      "./dog_classes2\\images\\image\\valid\\22_DOBERMANN\\30.jpg\n",
      "./dog_classes2\\images\\image\\valid\\22_DOBERMANN\\31.jpg\n",
      "./dog_classes2\\images\\image\\valid\\22_DOBERMANN\\32.jpg\n",
      "./dog_classes2\\images\\image\\valid\\22_DOBERMANN\\33.jpg\n",
      "./dog_classes2\\images\\image\\valid\\22_DOBERMANN\\34.jpg\n",
      "./dog_classes2\\images\\image\\valid\\22_DOBERMANN\\35.jpg\n",
      "./dog_classes2\\images\\image\\valid\\22_DOBERMANN\\36.jpg\n",
      "./dog_classes2\\images\\image\\valid\\22_DOBERMANN\\37.jpg\n",
      "./dog_classes2\\images\\image\\valid\\22_DOBERMANN\\38.jpg"
     ]
    },
    {
     "name": "stderr",
     "output_type": "stream",
     "text": [
      ".-dog_classes2\\images\\image\\valid\\22_DOBERMANN:  78%|████████████████████████       | 45/58 [00:00<00:00, 60.85files/s]"
     ]
    },
    {
     "name": "stdout",
     "output_type": "stream",
     "text": [
      "\n",
      "./dog_classes2\\images\\image\\valid\\22_DOBERMANN\\39.jpg\n",
      "./dog_classes2\\images\\image\\valid\\22_DOBERMANN\\4.jpg\n",
      "./dog_classes2\\images\\image\\valid\\22_DOBERMANN\\40.jpg\n",
      "./dog_classes2\\images\\image\\valid\\22_DOBERMANN\\41.jpg\n",
      "./dog_classes2\\images\\image\\valid\\22_DOBERMANN\\42.jpg\n",
      "./dog_classes2\\images\\image\\valid\\22_DOBERMANN\\43.jpg\n",
      "./dog_classes2\\images\\image\\valid\\22_DOBERMANN\\44.jpg\n",
      "./dog_classes2\\images\\image\\valid\\22_DOBERMANN\\45.jpg\n",
      "./dog_classes2\\images\\image\\valid\\22_DOBERMANN\\46.jpg\n",
      "./dog_classes2\\images\\image\\valid\\22_DOBERMANN\\47.jpg\n",
      "./dog_classes2\\images\\image\\valid\\22_DOBERMANN\\48.jpg\n",
      "./dog_classes2\\images\\image\\valid\\22_DOBERMANN\\49.jpg\n",
      "./dog_classes2\\images\\image\\valid\\22_DOBERMANN\\5.jpg\n",
      "./dog_classes2\\images\\image\\valid\\22_DOBERMANN\\50.jpg"
     ]
    },
    {
     "name": "stderr",
     "output_type": "stream",
     "text": [
      ".-dog_classes2\\images\\image\\valid\\23_AMERICAN_COCKER_SPANIEL:   0%|                          | 0/90 [00:00<?, ?files/s]"
     ]
    },
    {
     "name": "stdout",
     "output_type": "stream",
     "text": [
      "\n",
      "./dog_classes2\\images\\image\\valid\\22_DOBERMANN\\51.jpg\n",
      "./dog_classes2\\images\\image\\valid\\22_DOBERMANN\\52.jpg\n",
      "./dog_classes2\\images\\image\\valid\\22_DOBERMANN\\53.jpg\n",
      "./dog_classes2\\images\\image\\valid\\22_DOBERMANN\\54.jpg\n",
      "./dog_classes2\\images\\image\\valid\\22_DOBERMANN\\55.jpg\n",
      "./dog_classes2\\images\\image\\valid\\22_DOBERMANN\\56.jpg\n",
      "./dog_classes2\\images\\image\\valid\\22_DOBERMANN\\57.jpg\n",
      "./dog_classes2\\images\\image\\valid\\22_DOBERMANN\\6.jpg\n",
      "./dog_classes2\\images\\image\\valid\\22_DOBERMANN\\7.jpg\n",
      "./dog_classes2\\images\\image\\valid\\22_DOBERMANN\\8.jpg\n",
      "./dog_classes2\\images\\image\\valid\\22_DOBERMANN\\9.jpg\n",
      "./dog_classes2\\images\\image\\valid\\23_AMERICAN_COCKER_SPANIEL\\100.jpg\n",
      "./dog_classes2\\images\\image\\valid\\23_AMERICAN_COCKER_SPANIEL\\101.jpg\n",
      "./dog_classes2\\images\\image\\valid\\23_AMERICAN_COCKER_SPANIEL\\102.jpg"
     ]
    },
    {
     "name": "stderr",
     "output_type": "stream",
     "text": [
      ".-dog_classes2\\images\\image\\valid\\23_AMERICAN_COCKER_SPANIEL:  14%|██▍              | 13/90 [00:00<00:01, 56.86files/s]"
     ]
    },
    {
     "name": "stdout",
     "output_type": "stream",
     "text": [
      "\n",
      "./dog_classes2\\images\\image\\valid\\23_AMERICAN_COCKER_SPANIEL\\103.jpg\n",
      "./dog_classes2\\images\\image\\valid\\23_AMERICAN_COCKER_SPANIEL\\104.jpg\n",
      "./dog_classes2\\images\\image\\valid\\23_AMERICAN_COCKER_SPANIEL\\105.jpg\n",
      "./dog_classes2\\images\\image\\valid\\23_AMERICAN_COCKER_SPANIEL\\106.jpg\n",
      "./dog_classes2\\images\\image\\valid\\23_AMERICAN_COCKER_SPANIEL\\107.jpg\n",
      "./dog_classes2\\images\\image\\valid\\23_AMERICAN_COCKER_SPANIEL\\108.jpg\n",
      "./dog_classes2\\images\\image\\valid\\23_AMERICAN_COCKER_SPANIEL\\109.jpg\n",
      "./dog_classes2\\images\\image\\valid\\23_AMERICAN_COCKER_SPANIEL\\110.jpg\n",
      "./dog_classes2\\images\\image\\valid\\23_AMERICAN_COCKER_SPANIEL\\111.jpg\n",
      "./dog_classes2\\images\\image\\valid\\23_AMERICAN_COCKER_SPANIEL\\112.jpg\n",
      "./dog_classes2\\images\\image\\valid\\23_AMERICAN_COCKER_SPANIEL\\113.jpg"
     ]
    },
    {
     "name": "stderr",
     "output_type": "stream",
     "text": [
      "\r",
      ".-dog_classes2\\images\\image\\valid\\23_AMERICAN_COCKER_SPANIEL:  21%|███▌             | 19/90 [00:00<00:01, 57.15files/s]"
     ]
    },
    {
     "name": "stdout",
     "output_type": "stream",
     "text": [
      "\n",
      "./dog_classes2\\images\\image\\valid\\23_AMERICAN_COCKER_SPANIEL\\114.jpg\n",
      "./dog_classes2\\images\\image\\valid\\23_AMERICAN_COCKER_SPANIEL\\115.jpg\n",
      "./dog_classes2\\images\\image\\valid\\23_AMERICAN_COCKER_SPANIEL\\116.jpg\n",
      "./dog_classes2\\images\\image\\valid\\23_AMERICAN_COCKER_SPANIEL\\117.jpg\n",
      "./dog_classes2\\images\\image\\valid\\23_AMERICAN_COCKER_SPANIEL\\118.jpg\n",
      "./dog_classes2\\images\\image\\valid\\23_AMERICAN_COCKER_SPANIEL\\119.jpg\n",
      "./dog_classes2\\images\\image\\valid\\23_AMERICAN_COCKER_SPANIEL\\120.jpg\n",
      "./dog_classes2\\images\\image\\valid\\23_AMERICAN_COCKER_SPANIEL\\121.jpg\n",
      "./dog_classes2\\images\\image\\valid\\23_AMERICAN_COCKER_SPANIEL\\122.jpg\n",
      "./dog_classes2\\images\\image\\valid\\23_AMERICAN_COCKER_SPANIEL\\123.jpg\n",
      "./dog_classes2\\images\\image\\valid\\23_AMERICAN_COCKER_SPANIEL\\124.jpg"
     ]
    },
    {
     "name": "stderr",
     "output_type": "stream",
     "text": [
      ".-dog_classes2\\images\\image\\valid\\23_AMERICAN_COCKER_SPANIEL:  37%|██████▏          | 33/90 [00:00<00:00, 60.72files/s]"
     ]
    },
    {
     "name": "stdout",
     "output_type": "stream",
     "text": [
      "\n",
      "./dog_classes2\\images\\image\\valid\\23_AMERICAN_COCKER_SPANIEL\\125.jpg\n",
      "./dog_classes2\\images\\image\\valid\\23_AMERICAN_COCKER_SPANIEL\\126.jpg\n",
      "./dog_classes2\\images\\image\\valid\\23_AMERICAN_COCKER_SPANIEL\\127.jpg\n",
      "./dog_classes2\\images\\image\\valid\\23_AMERICAN_COCKER_SPANIEL\\128.jpg\n",
      "./dog_classes2\\images\\image\\valid\\23_AMERICAN_COCKER_SPANIEL\\129.jpg\n",
      "./dog_classes2\\images\\image\\valid\\23_AMERICAN_COCKER_SPANIEL\\130.jpg\n",
      "./dog_classes2\\images\\image\\valid\\23_AMERICAN_COCKER_SPANIEL\\131.jpg\n",
      "./dog_classes2\\images\\image\\valid\\23_AMERICAN_COCKER_SPANIEL\\132.jpg\n",
      "./dog_classes2\\images\\image\\valid\\23_AMERICAN_COCKER_SPANIEL\\133.jpg\n",
      "./dog_classes2\\images\\image\\valid\\23_AMERICAN_COCKER_SPANIEL\\134.jpg\n",
      "./dog_classes2\\images\\image\\valid\\23_AMERICAN_COCKER_SPANIEL\\135.jpg\n",
      "./dog_classes2\\images\\image\\valid\\23_AMERICAN_COCKER_SPANIEL\\136.jpg\n",
      "./dog_classes2\\images\\image\\valid\\23_AMERICAN_COCKER_SPANIEL\\137.jpg"
     ]
    },
    {
     "name": "stderr",
     "output_type": "stream",
     "text": [
      ".-dog_classes2\\images\\image\\valid\\23_AMERICAN_COCKER_SPANIEL:  52%|████████▉        | 47/90 [00:00<00:00, 62.14files/s]"
     ]
    },
    {
     "name": "stdout",
     "output_type": "stream",
     "text": [
      "\n",
      "./dog_classes2\\images\\image\\valid\\23_AMERICAN_COCKER_SPANIEL\\138.jpg\n",
      "./dog_classes2\\images\\image\\valid\\23_AMERICAN_COCKER_SPANIEL\\139.jpg\n",
      "./dog_classes2\\images\\image\\valid\\23_AMERICAN_COCKER_SPANIEL\\140.jpg\n",
      "./dog_classes2\\images\\image\\valid\\23_AMERICAN_COCKER_SPANIEL\\141.jpg\n",
      "./dog_classes2\\images\\image\\valid\\23_AMERICAN_COCKER_SPANIEL\\142.jpg\n",
      "./dog_classes2\\images\\image\\valid\\23_AMERICAN_COCKER_SPANIEL\\143.jpg\n",
      "./dog_classes2\\images\\image\\valid\\23_AMERICAN_COCKER_SPANIEL\\144.jpg\n",
      "./dog_classes2\\images\\image\\valid\\23_AMERICAN_COCKER_SPANIEL\\145.jpg\n",
      "./dog_classes2\\images\\image\\valid\\23_AMERICAN_COCKER_SPANIEL\\146.jpg\n",
      "./dog_classes2\\images\\image\\valid\\23_AMERICAN_COCKER_SPANIEL\\147.jpg\n",
      "./dog_classes2\\images\\image\\valid\\23_AMERICAN_COCKER_SPANIEL\\148.jpg\n",
      "./dog_classes2\\images\\image\\valid\\23_AMERICAN_COCKER_SPANIEL\\149.jpg"
     ]
    },
    {
     "name": "stderr",
     "output_type": "stream",
     "text": [
      ".-dog_classes2\\images\\image\\valid\\23_AMERICAN_COCKER_SPANIEL:  68%|███████████▌     | 61/90 [00:00<00:00, 62.18files/s]"
     ]
    },
    {
     "name": "stdout",
     "output_type": "stream",
     "text": [
      "\n",
      "./dog_classes2\\images\\image\\valid\\23_AMERICAN_COCKER_SPANIEL\\150.jpg\n",
      "./dog_classes2\\images\\image\\valid\\23_AMERICAN_COCKER_SPANIEL\\151.jpg\n",
      "./dog_classes2\\images\\image\\valid\\23_AMERICAN_COCKER_SPANIEL\\152.jpg\n",
      "./dog_classes2\\images\\image\\valid\\23_AMERICAN_COCKER_SPANIEL\\153.jpg\n",
      "./dog_classes2\\images\\image\\valid\\23_AMERICAN_COCKER_SPANIEL\\154.jpg\n",
      "./dog_classes2\\images\\image\\valid\\23_AMERICAN_COCKER_SPANIEL\\155.jpg\n",
      "./dog_classes2\\images\\image\\valid\\23_AMERICAN_COCKER_SPANIEL\\156.jpg\n",
      "./dog_classes2\\images\\image\\valid\\23_AMERICAN_COCKER_SPANIEL\\157.jpg\n",
      "./dog_classes2\\images\\image\\valid\\23_AMERICAN_COCKER_SPANIEL\\158.jpg\n",
      "./dog_classes2\\images\\image\\valid\\23_AMERICAN_COCKER_SPANIEL\\159.jpg\n",
      "./dog_classes2\\images\\image\\valid\\23_AMERICAN_COCKER_SPANIEL\\160.jpg\n",
      "./dog_classes2\\images\\image\\valid\\23_AMERICAN_COCKER_SPANIEL\\161.jpg"
     ]
    },
    {
     "name": "stderr",
     "output_type": "stream",
     "text": [
      "\r",
      ".-dog_classes2\\images\\image\\valid\\23_AMERICAN_COCKER_SPANIEL:  76%|████████████▊    | 68/90 [00:01<00:00, 63.33files/s]"
     ]
    },
    {
     "name": "stdout",
     "output_type": "stream",
     "text": [
      "\n",
      "./dog_classes2\\images\\image\\valid\\23_AMERICAN_COCKER_SPANIEL\\162.jpg\n",
      "./dog_classes2\\images\\image\\valid\\23_AMERICAN_COCKER_SPANIEL\\163.jpg\n",
      "./dog_classes2\\images\\image\\valid\\23_AMERICAN_COCKER_SPANIEL\\164.jpg\n",
      "./dog_classes2\\images\\image\\valid\\23_AMERICAN_COCKER_SPANIEL\\165.jpg\n",
      "./dog_classes2\\images\\image\\valid\\23_AMERICAN_COCKER_SPANIEL\\166.jpg\n",
      "./dog_classes2\\images\\image\\valid\\23_AMERICAN_COCKER_SPANIEL\\167.jpg\n",
      "./dog_classes2\\images\\image\\valid\\23_AMERICAN_COCKER_SPANIEL\\168.jpg\n",
      "./dog_classes2\\images\\image\\valid\\23_AMERICAN_COCKER_SPANIEL\\169.jpg\n",
      "./dog_classes2\\images\\image\\valid\\23_AMERICAN_COCKER_SPANIEL\\170.jpg\n",
      "./dog_classes2\\images\\image\\valid\\23_AMERICAN_COCKER_SPANIEL\\171.jpg\n",
      "./dog_classes2\\images\\image\\valid\\23_AMERICAN_COCKER_SPANIEL\\172.jpg\n",
      "./dog_classes2\\images\\image\\valid\\23_AMERICAN_COCKER_SPANIEL\\173.jpg"
     ]
    },
    {
     "name": "stderr",
     "output_type": "stream",
     "text": [
      "\r",
      ".-dog_classes2\\images\\image\\valid\\23_AMERICAN_COCKER_SPANIEL:  83%|██████████████▏  | 75/90 [00:01<00:00, 61.64files/s]"
     ]
    },
    {
     "name": "stdout",
     "output_type": "stream",
     "text": [
      "\n",
      "./dog_classes2\\images\\image\\valid\\23_AMERICAN_COCKER_SPANIEL\\174.jpg\n",
      "./dog_classes2\\images\\image\\valid\\23_AMERICAN_COCKER_SPANIEL\\175.jpg\n",
      "./dog_classes2\\images\\image\\valid\\23_AMERICAN_COCKER_SPANIEL\\176.jpg\n",
      "./dog_classes2\\images\\image\\valid\\23_AMERICAN_COCKER_SPANIEL\\177.jpg\n",
      "./dog_classes2\\images\\image\\valid\\23_AMERICAN_COCKER_SPANIEL\\178.jpg\n",
      "./dog_classes2\\images\\image\\valid\\23_AMERICAN_COCKER_SPANIEL\\179.jpg\n"
     ]
    },
    {
     "name": "stderr",
     "output_type": "stream",
     "text": [
      "\r",
      ".-dog_classes2\\images\\image\\valid\\23_AMERICAN_COCKER_SPANIEL:  91%|███████████████▍ | 82/90 [00:01<00:00, 32.02files/s]"
     ]
    },
    {
     "name": "stdout",
     "output_type": "stream",
     "text": [
      "./dog_classes2\\images\\image\\valid\\23_AMERICAN_COCKER_SPANIEL\\90.jpg\n",
      "./dog_classes2\\images\\image\\valid\\23_AMERICAN_COCKER_SPANIEL\\91.jpg\n",
      "./dog_classes2\\images\\image\\valid\\23_AMERICAN_COCKER_SPANIEL\\92.jpg\n",
      "./dog_classes2\\images\\image\\valid\\23_AMERICAN_COCKER_SPANIEL\\93.jpg"
     ]
    },
    {
     "name": "stderr",
     "output_type": "stream",
     "text": [
      ".-dog_classes2\\images\\image\\valid\\24_CAVALIER_COCKER_SPANIEL:   0%|                          | 0/38 [00:00<?, ?files/s]"
     ]
    },
    {
     "name": "stdout",
     "output_type": "stream",
     "text": [
      "\n",
      "./dog_classes2\\images\\image\\valid\\23_AMERICAN_COCKER_SPANIEL\\94.jpg\n",
      "./dog_classes2\\images\\image\\valid\\23_AMERICAN_COCKER_SPANIEL\\95.jpg\n",
      "./dog_classes2\\images\\image\\valid\\23_AMERICAN_COCKER_SPANIEL\\96.jpg\n",
      "./dog_classes2\\images\\image\\valid\\23_AMERICAN_COCKER_SPANIEL\\97.jpg\n",
      "./dog_classes2\\images\\image\\valid\\23_AMERICAN_COCKER_SPANIEL\\98.jpg\n",
      "./dog_classes2\\images\\image\\valid\\23_AMERICAN_COCKER_SPANIEL\\99.jpg\n",
      "./dog_classes2\\images\\image\\valid\\24_CAVALIER_COCKER_SPANIEL\\0.jpg\n",
      "./dog_classes2\\images\\image\\valid\\24_CAVALIER_COCKER_SPANIEL\\1.jpg\n",
      "./dog_classes2\\images\\image\\valid\\24_CAVALIER_COCKER_SPANIEL\\10.jpg\n",
      "./dog_classes2\\images\\image\\valid\\24_CAVALIER_COCKER_SPANIEL\\11.jpg\n",
      "./dog_classes2\\images\\image\\valid\\24_CAVALIER_COCKER_SPANIEL\\12.jpg\n",
      "./dog_classes2\\images\\image\\valid\\24_CAVALIER_COCKER_SPANIEL\\13.jpg"
     ]
    },
    {
     "name": "stderr",
     "output_type": "stream",
     "text": [
      ".-dog_classes2\\images\\image\\valid\\24_CAVALIER_COCKER_SPANIEL:  39%|██████▋          | 15/38 [00:00<00:00, 69.69files/s]"
     ]
    },
    {
     "name": "stdout",
     "output_type": "stream",
     "text": [
      "\n",
      "./dog_classes2\\images\\image\\valid\\24_CAVALIER_COCKER_SPANIEL\\14.jpg\n",
      "./dog_classes2\\images\\image\\valid\\24_CAVALIER_COCKER_SPANIEL\\15.jpg\n",
      "./dog_classes2\\images\\image\\valid\\24_CAVALIER_COCKER_SPANIEL\\16.jpg\n",
      "./dog_classes2\\images\\image\\valid\\24_CAVALIER_COCKER_SPANIEL\\17.jpg\n",
      "./dog_classes2\\images\\image\\valid\\24_CAVALIER_COCKER_SPANIEL\\18.jpg\n",
      "./dog_classes2\\images\\image\\valid\\24_CAVALIER_COCKER_SPANIEL\\19.jpg\n",
      "./dog_classes2\\images\\image\\valid\\24_CAVALIER_COCKER_SPANIEL\\2.jpg\n",
      "./dog_classes2\\images\\image\\valid\\24_CAVALIER_COCKER_SPANIEL\\20.jpg\n",
      "./dog_classes2\\images\\image\\valid\\24_CAVALIER_COCKER_SPANIEL\\21.jpg\n",
      "./dog_classes2\\images\\image\\valid\\24_CAVALIER_COCKER_SPANIEL\\22.jpg\n",
      "./dog_classes2\\images\\image\\valid\\24_CAVALIER_COCKER_SPANIEL\\23.jpg\n",
      "./dog_classes2\\images\\image\\valid\\24_CAVALIER_COCKER_SPANIEL\\24.jpg\n",
      "./dog_classes2\\images\\image\\valid\\24_CAVALIER_COCKER_SPANIEL\\25.jpg\n",
      "./dog_classes2\\images\\image\\valid\\24_CAVALIER_COCKER_SPANIEL\\26.jpg"
     ]
    },
    {
     "name": "stderr",
     "output_type": "stream",
     "text": [
      ".-dog_classes2\\images\\image\\valid\\24_CAVALIER_COCKER_SPANIEL:  74%|████████████▌    | 28/38 [00:00<00:00, 60.30files/s]"
     ]
    },
    {
     "name": "stdout",
     "output_type": "stream",
     "text": [
      "\n",
      "./dog_classes2\\images\\image\\valid\\24_CAVALIER_COCKER_SPANIEL\\27.jpg\n",
      "./dog_classes2\\images\\image\\valid\\24_CAVALIER_COCKER_SPANIEL\\28.jpg\n",
      "./dog_classes2\\images\\image\\valid\\24_CAVALIER_COCKER_SPANIEL\\29.jpg\n",
      "./dog_classes2\\images\\image\\valid\\24_CAVALIER_COCKER_SPANIEL\\3.jpg\n",
      "./dog_classes2\\images\\image\\valid\\24_CAVALIER_COCKER_SPANIEL\\30.jpg\n",
      "./dog_classes2\\images\\image\\valid\\24_CAVALIER_COCKER_SPANIEL\\31.jpg\n",
      "./dog_classes2\\images\\image\\valid\\24_CAVALIER_COCKER_SPANIEL\\32.jpg\n",
      "./dog_classes2\\images\\image\\valid\\24_CAVALIER_COCKER_SPANIEL\\33.jpg\n",
      "./dog_classes2\\images\\image\\valid\\24_CAVALIER_COCKER_SPANIEL\\34.jpg\n",
      "./dog_classes2\\images\\image\\valid\\24_CAVALIER_COCKER_SPANIEL\\35.jpg"
     ]
    },
    {
     "name": "stderr",
     "output_type": "stream",
     "text": [
      ".-dog_classes2\\images\\image\\valid\\26_PEKINGESE:   0%|                                        | 0/50 [00:00<?, ?files/s]"
     ]
    },
    {
     "name": "stdout",
     "output_type": "stream",
     "text": [
      "\n",
      "./dog_classes2\\images\\image\\valid\\24_CAVALIER_COCKER_SPANIEL\\36.jpg\n",
      "./dog_classes2\\images\\image\\valid\\24_CAVALIER_COCKER_SPANIEL\\37.jpg\n",
      "./dog_classes2\\images\\image\\valid\\24_CAVALIER_COCKER_SPANIEL\\4.jpg\n",
      "./dog_classes2\\images\\image\\valid\\24_CAVALIER_COCKER_SPANIEL\\5.jpg\n",
      "./dog_classes2\\images\\image\\valid\\24_CAVALIER_COCKER_SPANIEL\\6.jpg\n",
      "./dog_classes2\\images\\image\\valid\\24_CAVALIER_COCKER_SPANIEL\\7.jpg\n",
      "./dog_classes2\\images\\image\\valid\\24_CAVALIER_COCKER_SPANIEL\\8.jpg\n",
      "./dog_classes2\\images\\image\\valid\\24_CAVALIER_COCKER_SPANIEL\\9.jpg\n",
      "./dog_classes2\\images\\image\\valid\\26_PEKINGESE\\0.jpg\n",
      "./dog_classes2\\images\\image\\valid\\26_PEKINGESE\\1.jpg\n",
      "./dog_classes2\\images\\image\\valid\\26_PEKINGESE\\10.jpg\n",
      "./dog_classes2\\images\\image\\valid\\26_PEKINGESE\\11.jpg\n",
      "./dog_classes2\\images\\image\\valid\\26_PEKINGESE\\12.jpg\n",
      "./dog_classes2\\images\\image\\valid\\26_PEKINGESE\\13.jpg"
     ]
    },
    {
     "name": "stderr",
     "output_type": "stream",
     "text": [
      ".-dog_classes2\\images\\image\\valid\\26_PEKINGESE:  34%|██████████▌                    | 17/50 [00:00<00:00, 77.60files/s]"
     ]
    },
    {
     "name": "stdout",
     "output_type": "stream",
     "text": [
      "\n",
      "./dog_classes2\\images\\image\\valid\\26_PEKINGESE\\14.jpg\n",
      "./dog_classes2\\images\\image\\valid\\26_PEKINGESE\\15.jpg\n",
      "./dog_classes2\\images\\image\\valid\\26_PEKINGESE\\16.jpg\n",
      "./dog_classes2\\images\\image\\valid\\26_PEKINGESE\\17.jpg\n",
      "./dog_classes2\\images\\image\\valid\\26_PEKINGESE\\18.jpg\n",
      "./dog_classes2\\images\\image\\valid\\26_PEKINGESE\\19.jpg\n",
      "./dog_classes2\\images\\image\\valid\\26_PEKINGESE\\2.jpg\n",
      "./dog_classes2\\images\\image\\valid\\26_PEKINGESE\\20.jpg\n",
      "./dog_classes2\\images\\image\\valid\\26_PEKINGESE\\21.jpg\n",
      "./dog_classes2\\images\\image\\valid\\26_PEKINGESE\\22.jpg\n",
      "./dog_classes2\\images\\image\\valid\\26_PEKINGESE\\23.jpg\n",
      "./dog_classes2\\images\\image\\valid\\26_PEKINGESE\\24.jpg\n",
      "./dog_classes2\\images\\image\\valid\\26_PEKINGESE\\25.jpg\n",
      "./dog_classes2\\images\\image\\valid\\26_PEKINGESE\\26.jpg\n",
      "./dog_classes2\\images\\image\\valid\\26_PEKINGESE\\27.jpg"
     ]
    },
    {
     "name": "stderr",
     "output_type": "stream",
     "text": [
      ".-dog_classes2\\images\\image\\valid\\26_PEKINGESE:  66%|████████████████████▍          | 33/50 [00:00<00:00, 75.97files/s]"
     ]
    },
    {
     "name": "stdout",
     "output_type": "stream",
     "text": [
      "\n",
      "./dog_classes2\\images\\image\\valid\\26_PEKINGESE\\28.jpg\n",
      "./dog_classes2\\images\\image\\valid\\26_PEKINGESE\\29.jpg\n",
      "./dog_classes2\\images\\image\\valid\\26_PEKINGESE\\3.jpg\n",
      "./dog_classes2\\images\\image\\valid\\26_PEKINGESE\\30.jpg\n",
      "./dog_classes2\\images\\image\\valid\\26_PEKINGESE\\31.jpg\n",
      "./dog_classes2\\images\\image\\valid\\26_PEKINGESE\\32.jpg\n",
      "./dog_classes2\\images\\image\\valid\\26_PEKINGESE\\33.jpg\n",
      "./dog_classes2\\images\\image\\valid\\26_PEKINGESE\\34.jpg\n",
      "./dog_classes2\\images\\image\\valid\\26_PEKINGESE\\35.jpg\n",
      "./dog_classes2\\images\\image\\valid\\26_PEKINGESE\\36.jpg\n",
      "./dog_classes2\\images\\image\\valid\\26_PEKINGESE\\37.jpg\n",
      "./dog_classes2\\images\\image\\valid\\26_PEKINGESE\\38.jpg\n",
      "./dog_classes2\\images\\image\\valid\\26_PEKINGESE\\39.jpg\n",
      "./dog_classes2\\images\\image\\valid\\26_PEKINGESE\\4.jpg"
     ]
    },
    {
     "name": "stderr",
     "output_type": "stream",
     "text": [
      "\r",
      ".-dog_classes2\\images\\image\\valid\\26_PEKINGESE:  82%|█████████████████████████▍     | 41/50 [00:00<00:00, 74.82files/s]"
     ]
    },
    {
     "name": "stdout",
     "output_type": "stream",
     "text": [
      "\n",
      "./dog_classes2\\images\\image\\valid\\26_PEKINGESE\\40.jpg\n",
      "./dog_classes2\\images\\image\\valid\\26_PEKINGESE\\41.jpg\n",
      "./dog_classes2\\images\\image\\valid\\26_PEKINGESE\\42.jpg\n",
      "./dog_classes2\\images\\image\\valid\\26_PEKINGESE\\43.jpg\n",
      "./dog_classes2\\images\\image\\valid\\26_PEKINGESE\\44.jpg\n",
      "./dog_classes2\\images\\image\\valid\\26_PEKINGESE\\45.jpg\n",
      "./dog_classes2\\images\\image\\valid\\26_PEKINGESE\\46.jpg\n",
      "./dog_classes2\\images\\image\\valid\\26_PEKINGESE\\47.jpg\n",
      "./dog_classes2\\images\\image\\valid\\26_PEKINGESE\\48.jpg\n",
      "./dog_classes2\\images\\image\\valid\\26_PEKINGESE\\49.jpg\n",
      "./dog_classes2\\images\\image\\valid\\26_PEKINGESE\\5.jpg\n",
      "./dog_classes2\\images\\image\\valid\\26_PEKINGESE\\6.jpg\n",
      "./dog_classes2\\images\\image\\valid\\26_PEKINGESE\\7.jpg\n",
      "./dog_classes2\\images\\image\\valid\\26_PEKINGESE\\8.jpg"
     ]
    },
    {
     "name": "stderr",
     "output_type": "stream",
     "text": [
      ".-dog_classes2\\images\\image\\valid\\28_STANDARD_POODLE:  13%|███▎                      | 7/55 [00:00<00:00, 68.14files/s]"
     ]
    },
    {
     "name": "stdout",
     "output_type": "stream",
     "text": [
      "\n",
      "./dog_classes2\\images\\image\\valid\\26_PEKINGESE\\9.jpg\n",
      "./dog_classes2\\images\\image\\valid\\28_STANDARD_POODLE\\100.jpg\n",
      "./dog_classes2\\images\\image\\valid\\28_STANDARD_POODLE\\101.jpg\n",
      "./dog_classes2\\images\\image\\valid\\28_STANDARD_POODLE\\102.jpg\n",
      "./dog_classes2\\images\\image\\valid\\28_STANDARD_POODLE\\103.jpg\n",
      "./dog_classes2\\images\\image\\valid\\28_STANDARD_POODLE\\104.jpg\n",
      "./dog_classes2\\images\\image\\valid\\28_STANDARD_POODLE\\105.jpg\n",
      "./dog_classes2\\images\\image\\valid\\28_STANDARD_POODLE\\106.jpg\n",
      "./dog_classes2\\images\\image\\valid\\28_STANDARD_POODLE\\107.jpg\n",
      "./dog_classes2\\images\\image\\valid\\28_STANDARD_POODLE\\108.jpg\n",
      "./dog_classes2\\images\\image\\valid\\28_STANDARD_POODLE\\109.jpg\n",
      "./dog_classes2\\images\\image\\valid\\28_STANDARD_POODLE\\55.jpg\n",
      "./dog_classes2\\images\\image\\valid\\28_STANDARD_POODLE\\56.jpg"
     ]
    },
    {
     "name": "stderr",
     "output_type": "stream",
     "text": [
      ".-dog_classes2\\images\\image\\valid\\28_STANDARD_POODLE:  44%|██████████▉              | 24/55 [00:00<00:00, 73.11files/s]"
     ]
    },
    {
     "name": "stdout",
     "output_type": "stream",
     "text": [
      "\n",
      "./dog_classes2\\images\\image\\valid\\28_STANDARD_POODLE\\57.jpg\n",
      "./dog_classes2\\images\\image\\valid\\28_STANDARD_POODLE\\58.jpg\n",
      "./dog_classes2\\images\\image\\valid\\28_STANDARD_POODLE\\59.jpg\n",
      "./dog_classes2\\images\\image\\valid\\28_STANDARD_POODLE\\60.jpg\n",
      "./dog_classes2\\images\\image\\valid\\28_STANDARD_POODLE\\61.jpg\n",
      "./dog_classes2\\images\\image\\valid\\28_STANDARD_POODLE\\62.jpg\n",
      "./dog_classes2\\images\\image\\valid\\28_STANDARD_POODLE\\63.jpg\n",
      "./dog_classes2\\images\\image\\valid\\28_STANDARD_POODLE\\64.jpg\n",
      "./dog_classes2\\images\\image\\valid\\28_STANDARD_POODLE\\65.jpg\n",
      "./dog_classes2\\images\\image\\valid\\28_STANDARD_POODLE\\66.jpg\n",
      "./dog_classes2\\images\\image\\valid\\28_STANDARD_POODLE\\67.jpg\n",
      "./dog_classes2\\images\\image\\valid\\28_STANDARD_POODLE\\68.jpg\n",
      "./dog_classes2\\images\\image\\valid\\28_STANDARD_POODLE\\69.jpg\n",
      "./dog_classes2\\images\\image\\valid\\28_STANDARD_POODLE\\70.jpg"
     ]
    },
    {
     "name": "stderr",
     "output_type": "stream",
     "text": [
      "\r",
      ".-dog_classes2\\images\\image\\valid\\28_STANDARD_POODLE:  58%|██████████████▌          | 32/55 [00:00<00:00, 74.27files/s]"
     ]
    },
    {
     "name": "stdout",
     "output_type": "stream",
     "text": [
      "\n",
      "./dog_classes2\\images\\image\\valid\\28_STANDARD_POODLE\\71.jpg\n",
      "./dog_classes2\\images\\image\\valid\\28_STANDARD_POODLE\\72.jpg\n",
      "./dog_classes2\\images\\image\\valid\\28_STANDARD_POODLE\\73.jpg\n",
      "./dog_classes2\\images\\image\\valid\\28_STANDARD_POODLE\\74.jpg\n",
      "./dog_classes2\\images\\image\\valid\\28_STANDARD_POODLE\\75.jpg\n",
      "./dog_classes2\\images\\image\\valid\\28_STANDARD_POODLE\\76.jpg\n",
      "./dog_classes2\\images\\image\\valid\\28_STANDARD_POODLE\\77.jpg\n",
      "./dog_classes2\\images\\image\\valid\\28_STANDARD_POODLE\\78.jpg\n",
      "./dog_classes2\\images\\image\\valid\\28_STANDARD_POODLE\\79.jpg\n",
      "./dog_classes2\\images\\image\\valid\\28_STANDARD_POODLE\\80.jpg\n",
      "./dog_classes2\\images\\image\\valid\\28_STANDARD_POODLE\\81.jpg\n",
      "./dog_classes2\\images\\image\\valid\\28_STANDARD_POODLE\\82.jpg\n",
      "./dog_classes2\\images\\image\\valid\\28_STANDARD_POODLE\\83.jpg\n",
      "./dog_classes2\\images\\image\\valid\\28_STANDARD_POODLE\\84.jpg\n",
      "./dog_classes2\\images\\image\\valid\\28_STANDARD_POODLE\\85.jpg"
     ]
    },
    {
     "name": "stderr",
     "output_type": "stream",
     "text": [
      ".-dog_classes2\\images\\image\\valid\\28_STANDARD_POODLE:  89%|██████████████████████▎  | 49/55 [00:00<00:00, 75.33files/s]"
     ]
    },
    {
     "name": "stdout",
     "output_type": "stream",
     "text": [
      "\n",
      "./dog_classes2\\images\\image\\valid\\28_STANDARD_POODLE\\86.jpg\n",
      "./dog_classes2\\images\\image\\valid\\28_STANDARD_POODLE\\87.jpg\n",
      "./dog_classes2\\images\\image\\valid\\28_STANDARD_POODLE\\88.jpg\n",
      "./dog_classes2\\images\\image\\valid\\28_STANDARD_POODLE\\89.jpg\n",
      "./dog_classes2\\images\\image\\valid\\28_STANDARD_POODLE\\90.jpg\n",
      "./dog_classes2\\images\\image\\valid\\28_STANDARD_POODLE\\91.jpg\n",
      "./dog_classes2\\images\\image\\valid\\28_STANDARD_POODLE\\92.jpg\n",
      "./dog_classes2\\images\\image\\valid\\28_STANDARD_POODLE\\93.jpg\n",
      "./dog_classes2\\images\\image\\valid\\28_STANDARD_POODLE\\94.jpg\n",
      "./dog_classes2\\images\\image\\valid\\28_STANDARD_POODLE\\95.jpg\n",
      "./dog_classes2\\images\\image\\valid\\28_STANDARD_POODLE\\96.jpg\n",
      "./dog_classes2\\images\\image\\valid\\28_STANDARD_POODLE\\97.jpg\n",
      "./dog_classes2\\images\\image\\valid\\28_STANDARD_POODLE\\98.jpg\n",
      "./dog_classes2\\images\\image\\valid\\28_STANDARD_POODLE\\99.jpg"
     ]
    },
    {
     "name": "stderr",
     "output_type": "stream",
     "text": [
      ".-dog_classes2\\images\\image\\valid\\29_YORKSHIRE_TERRIER:  10%|██▎                     | 7/73 [00:00<00:00, 67.49files/s]"
     ]
    },
    {
     "name": "stdout",
     "output_type": "stream",
     "text": [
      "\n",
      "./dog_classes2\\images\\image\\valid\\29_YORKSHIRE_TERRIER\\0.jpg\n",
      "./dog_classes2\\images\\image\\valid\\29_YORKSHIRE_TERRIER\\1.jpg\n",
      "./dog_classes2\\images\\image\\valid\\29_YORKSHIRE_TERRIER\\10.jpg\n",
      "./dog_classes2\\images\\image\\valid\\29_YORKSHIRE_TERRIER\\11.jpg\n",
      "./dog_classes2\\images\\image\\valid\\29_YORKSHIRE_TERRIER\\12.jpg\n",
      "./dog_classes2\\images\\image\\valid\\29_YORKSHIRE_TERRIER\\13.jpg\n",
      "./dog_classes2\\images\\image\\valid\\29_YORKSHIRE_TERRIER\\14.jpg\n",
      "./dog_classes2\\images\\image\\valid\\29_YORKSHIRE_TERRIER\\15.jpg\n",
      "./dog_classes2\\images\\image\\valid\\29_YORKSHIRE_TERRIER\\16.jpg\n",
      "./dog_classes2\\images\\image\\valid\\29_YORKSHIRE_TERRIER\\17.jpg\n",
      "./dog_classes2\\images\\image\\valid\\29_YORKSHIRE_TERRIER\\18.jpg\n",
      "./dog_classes2\\images\\image\\valid\\29_YORKSHIRE_TERRIER\\19.jpg"
     ]
    },
    {
     "name": "stderr",
     "output_type": "stream",
     "text": [
      ".-dog_classes2\\images\\image\\valid\\29_YORKSHIRE_TERRIER:  30%|██████▉                | 22/73 [00:00<00:00, 68.61files/s]"
     ]
    },
    {
     "name": "stdout",
     "output_type": "stream",
     "text": [
      "\n",
      "./dog_classes2\\images\\image\\valid\\29_YORKSHIRE_TERRIER\\2.jpg\n",
      "./dog_classes2\\images\\image\\valid\\29_YORKSHIRE_TERRIER\\20.jpg\n",
      "./dog_classes2\\images\\image\\valid\\29_YORKSHIRE_TERRIER\\21.jpg\n",
      "./dog_classes2\\images\\image\\valid\\29_YORKSHIRE_TERRIER\\22.jpg\n",
      "./dog_classes2\\images\\image\\valid\\29_YORKSHIRE_TERRIER\\23.jpg\n",
      "./dog_classes2\\images\\image\\valid\\29_YORKSHIRE_TERRIER\\24.jpg\n",
      "./dog_classes2\\images\\image\\valid\\29_YORKSHIRE_TERRIER\\25.jpg\n",
      "./dog_classes2\\images\\image\\valid\\29_YORKSHIRE_TERRIER\\26.jpg\n",
      "./dog_classes2\\images\\image\\valid\\29_YORKSHIRE_TERRIER\\27.jpg\n",
      "./dog_classes2\\images\\image\\valid\\29_YORKSHIRE_TERRIER\\28.jpg\n",
      "./dog_classes2\\images\\image\\valid\\29_YORKSHIRE_TERRIER\\29.jpg\n",
      "./dog_classes2\\images\\image\\valid\\29_YORKSHIRE_TERRIER\\3.jpg\n",
      "./dog_classes2\\images\\image\\valid\\29_YORKSHIRE_TERRIER\\30.jpg\n",
      "./dog_classes2\\images\\image\\valid\\29_YORKSHIRE_TERRIER\\31.jpg"
     ]
    },
    {
     "name": "stderr",
     "output_type": "stream",
     "text": [
      ".-dog_classes2\\images\\image\\valid\\29_YORKSHIRE_TERRIER:  53%|████████████▎          | 39/73 [00:00<00:00, 73.97files/s]"
     ]
    },
    {
     "name": "stdout",
     "output_type": "stream",
     "text": [
      "\n",
      "./dog_classes2\\images\\image\\valid\\29_YORKSHIRE_TERRIER\\32.jpg\n",
      "./dog_classes2\\images\\image\\valid\\29_YORKSHIRE_TERRIER\\33.jpg\n",
      "./dog_classes2\\images\\image\\valid\\29_YORKSHIRE_TERRIER\\34.jpg\n",
      "./dog_classes2\\images\\image\\valid\\29_YORKSHIRE_TERRIER\\35.jpg\n",
      "./dog_classes2\\images\\image\\valid\\29_YORKSHIRE_TERRIER\\36.jpg\n",
      "./dog_classes2\\images\\image\\valid\\29_YORKSHIRE_TERRIER\\37.jpg\n",
      "./dog_classes2\\images\\image\\valid\\29_YORKSHIRE_TERRIER\\38.jpg\n",
      "./dog_classes2\\images\\image\\valid\\29_YORKSHIRE_TERRIER\\39.jpg\n",
      "./dog_classes2\\images\\image\\valid\\29_YORKSHIRE_TERRIER\\4.jpg\n",
      "./dog_classes2\\images\\image\\valid\\29_YORKSHIRE_TERRIER\\40.jpg\n",
      "./dog_classes2\\images\\image\\valid\\29_YORKSHIRE_TERRIER\\41.jpg\n",
      "./dog_classes2\\images\\image\\valid\\29_YORKSHIRE_TERRIER\\42.jpg\n",
      "./dog_classes2\\images\\image\\valid\\29_YORKSHIRE_TERRIER\\43.jpg\n",
      "./dog_classes2\\images\\image\\valid\\29_YORKSHIRE_TERRIER\\44.jpg\n",
      "./dog_classes2\\images\\image\\valid\\29_YORKSHIRE_TERRIER\\45.jpg"
     ]
    },
    {
     "name": "stderr",
     "output_type": "stream",
     "text": [
      "\r",
      ".-dog_classes2\\images\\image\\valid\\29_YORKSHIRE_TERRIER:  64%|██████████████▊        | 47/73 [00:00<00:00, 75.10files/s]"
     ]
    },
    {
     "name": "stdout",
     "output_type": "stream",
     "text": [
      "\n",
      "./dog_classes2\\images\\image\\valid\\29_YORKSHIRE_TERRIER\\46.jpg\n",
      "./dog_classes2\\images\\image\\valid\\29_YORKSHIRE_TERRIER\\47.jpg\n",
      "./dog_classes2\\images\\image\\valid\\29_YORKSHIRE_TERRIER\\48.jpg\n",
      "./dog_classes2\\images\\image\\valid\\29_YORKSHIRE_TERRIER\\49.jpg\n",
      "./dog_classes2\\images\\image\\valid\\29_YORKSHIRE_TERRIER\\5.jpg\n",
      "./dog_classes2\\images\\image\\valid\\29_YORKSHIRE_TERRIER\\50.jpg\n",
      "./dog_classes2\\images\\image\\valid\\29_YORKSHIRE_TERRIER\\51.jpg\n",
      "./dog_classes2\\images\\image\\valid\\29_YORKSHIRE_TERRIER\\52.jpg\n",
      "./dog_classes2\\images\\image\\valid\\29_YORKSHIRE_TERRIER\\53.jpg\n",
      "./dog_classes2\\images\\image\\valid\\29_YORKSHIRE_TERRIER\\54.jpg\n",
      "./dog_classes2\\images\\image\\valid\\29_YORKSHIRE_TERRIER\\55.jpg\n",
      "./dog_classes2\\images\\image\\valid\\29_YORKSHIRE_TERRIER\\56.jpg\n",
      "./dog_classes2\\images\\image\\valid\\29_YORKSHIRE_TERRIER\\57.jpg\n",
      "./dog_classes2\\images\\image\\valid\\29_YORKSHIRE_TERRIER\\58.jpg\n"
     ]
    },
    {
     "name": "stderr",
     "output_type": "stream",
     "text": [
      ".-dog_classes2\\images\\image\\valid\\29_YORKSHIRE_TERRIER:  86%|███████████████████▊   | 63/73 [00:00<00:00, 74.67files/s]"
     ]
    },
    {
     "name": "stdout",
     "output_type": "stream",
     "text": [
      "./dog_classes2\\images\\image\\valid\\29_YORKSHIRE_TERRIER\\59.jpg\n",
      "./dog_classes2\\images\\image\\valid\\29_YORKSHIRE_TERRIER\\6.jpg\n",
      "./dog_classes2\\images\\image\\valid\\29_YORKSHIRE_TERRIER\\60.jpg\n",
      "./dog_classes2\\images\\image\\valid\\29_YORKSHIRE_TERRIER\\61.jpg\n",
      "./dog_classes2\\images\\image\\valid\\29_YORKSHIRE_TERRIER\\62.jpg\n",
      "./dog_classes2\\images\\image\\valid\\29_YORKSHIRE_TERRIER\\63.jpg\n",
      "./dog_classes2\\images\\image\\valid\\29_YORKSHIRE_TERRIER\\64.jpg\n",
      "./dog_classes2\\images\\image\\valid\\29_YORKSHIRE_TERRIER\\65.jpg\n",
      "./dog_classes2\\images\\image\\valid\\29_YORKSHIRE_TERRIER\\66.jpg\n",
      "./dog_classes2\\images\\image\\valid\\29_YORKSHIRE_TERRIER\\67.jpg\n",
      "./dog_classes2\\images\\image\\valid\\29_YORKSHIRE_TERRIER\\68.jpg\n",
      "./dog_classes2\\images\\image\\valid\\29_YORKSHIRE_TERRIER\\69.jpg\n",
      "./dog_classes2\\images\\image\\valid\\29_YORKSHIRE_TERRIER\\7.jpg\n",
      "./dog_classes2\\images\\image\\valid\\29_YORKSHIRE_TERRIER\\70.jpg\n",
      "./dog_classes2\\images\\image\\valid\\29_YORKSHIRE_TERRIER\\71.jpg\n"
     ]
    },
    {
     "name": "stderr",
     "output_type": "stream",
     "text": [
      ".-dog_classes2\\images\\image\\valid\\30_SAMOYED:  10%|███▏                              | 8/84 [00:00<00:01, 74.97files/s]"
     ]
    },
    {
     "name": "stdout",
     "output_type": "stream",
     "text": [
      "./dog_classes2\\images\\image\\valid\\29_YORKSHIRE_TERRIER\\72.jpg\n",
      "./dog_classes2\\images\\image\\valid\\29_YORKSHIRE_TERRIER\\8.jpg\n",
      "./dog_classes2\\images\\image\\valid\\29_YORKSHIRE_TERRIER\\9.jpg\n",
      "./dog_classes2\\images\\image\\valid\\30_SAMOYED\\100.jpg\n",
      "./dog_classes2\\images\\image\\valid\\30_SAMOYED\\101.jpg\n",
      "./dog_classes2\\images\\image\\valid\\30_SAMOYED\\102.jpg\n",
      "./dog_classes2\\images\\image\\valid\\30_SAMOYED\\103.jpg\n",
      "./dog_classes2\\images\\image\\valid\\30_SAMOYED\\104.jpg\n",
      "./dog_classes2\\images\\image\\valid\\30_SAMOYED\\105.jpg\n",
      "./dog_classes2\\images\\image\\valid\\30_SAMOYED\\106.jpg\n",
      "./dog_classes2\\images\\image\\valid\\30_SAMOYED\\107.jpg\n",
      "./dog_classes2\\images\\image\\valid\\30_SAMOYED\\108.jpg\n",
      "./dog_classes2\\images\\image\\valid\\30_SAMOYED\\109.jpg\n",
      "./dog_classes2\\images\\image\\valid\\30_SAMOYED\\110.jpg"
     ]
    },
    {
     "name": "stderr",
     "output_type": "stream",
     "text": [
      ".-dog_classes2\\images\\image\\valid\\30_SAMOYED:  29%|█████████▍                       | 24/84 [00:00<00:00, 75.30files/s]"
     ]
    },
    {
     "name": "stdout",
     "output_type": "stream",
     "text": [
      "\n",
      "./dog_classes2\\images\\image\\valid\\30_SAMOYED\\111.jpg\n",
      "./dog_classes2\\images\\image\\valid\\30_SAMOYED\\112.jpg\n",
      "./dog_classes2\\images\\image\\valid\\30_SAMOYED\\113.jpg\n",
      "./dog_classes2\\images\\image\\valid\\30_SAMOYED\\114.jpg\n",
      "./dog_classes2\\images\\image\\valid\\30_SAMOYED\\115.jpg\n",
      "./dog_classes2\\images\\image\\valid\\30_SAMOYED\\116.jpg\n",
      "./dog_classes2\\images\\image\\valid\\30_SAMOYED\\117.jpg\n",
      "./dog_classes2\\images\\image\\valid\\30_SAMOYED\\118.jpg\n",
      "./dog_classes2\\images\\image\\valid\\30_SAMOYED\\119.jpg\n",
      "./dog_classes2\\images\\image\\valid\\30_SAMOYED\\120.jpg\n",
      "./dog_classes2\\images\\image\\valid\\30_SAMOYED\\121.jpg\n",
      "./dog_classes2\\images\\image\\valid\\30_SAMOYED\\122.jpg\n",
      "./dog_classes2\\images\\image\\valid\\30_SAMOYED\\123.jpg\n",
      "./dog_classes2\\images\\image\\valid\\30_SAMOYED\\124.jpg"
     ]
    },
    {
     "name": "stderr",
     "output_type": "stream",
     "text": [
      "\r",
      ".-dog_classes2\\images\\image\\valid\\30_SAMOYED:  38%|████████████▌                    | 32/84 [00:00<00:00, 74.99files/s]"
     ]
    },
    {
     "name": "stdout",
     "output_type": "stream",
     "text": [
      "\n",
      "./dog_classes2\\images\\image\\valid\\30_SAMOYED\\125.jpg\n",
      "./dog_classes2\\images\\image\\valid\\30_SAMOYED\\126.jpg\n",
      "./dog_classes2\\images\\image\\valid\\30_SAMOYED\\127.jpg\n",
      "./dog_classes2\\images\\image\\valid\\30_SAMOYED\\128.jpg\n",
      "./dog_classes2\\images\\image\\valid\\30_SAMOYED\\129.jpg\n",
      "./dog_classes2\\images\\image\\valid\\30_SAMOYED\\130.jpg\n",
      "./dog_classes2\\images\\image\\valid\\30_SAMOYED\\131.jpg\n",
      "./dog_classes2\\images\\image\\valid\\30_SAMOYED\\132.jpg\n",
      "./dog_classes2\\images\\image\\valid\\30_SAMOYED\\133.jpg\n",
      "./dog_classes2\\images\\image\\valid\\30_SAMOYED\\134.jpg\n",
      "./dog_classes2\\images\\image\\valid\\30_SAMOYED\\135.jpg\n",
      "./dog_classes2\\images\\image\\valid\\30_SAMOYED\\136.jpg\n",
      "./dog_classes2\\images\\image\\valid\\30_SAMOYED\\137.jpg"
     ]
    },
    {
     "name": "stderr",
     "output_type": "stream",
     "text": [
      ".-dog_classes2\\images\\image\\valid\\30_SAMOYED:  54%|█████████████████▋               | 45/84 [00:00<00:00, 67.42files/s]"
     ]
    },
    {
     "name": "stdout",
     "output_type": "stream",
     "text": [
      "\n",
      "./dog_classes2\\images\\image\\valid\\30_SAMOYED\\138.jpg\n",
      "./dog_classes2\\images\\image\\valid\\30_SAMOYED\\139.jpg\n",
      "./dog_classes2\\images\\image\\valid\\30_SAMOYED\\140.jpg\n",
      "./dog_classes2\\images\\image\\valid\\30_SAMOYED\\141.jpg\n",
      "./dog_classes2\\images\\image\\valid\\30_SAMOYED\\142.jpg\n",
      "./dog_classes2\\images\\image\\valid\\30_SAMOYED\\143.jpg\n",
      "./dog_classes2\\images\\image\\valid\\30_SAMOYED\\144.jpg\n",
      "./dog_classes2\\images\\image\\valid\\30_SAMOYED\\145.jpg\n",
      "./dog_classes2\\images\\image\\valid\\30_SAMOYED\\146.jpg\n",
      "./dog_classes2\\images\\image\\valid\\30_SAMOYED\\147.jpg\n",
      "./dog_classes2\\images\\image\\valid\\30_SAMOYED\\148.jpg\n",
      "./dog_classes2\\images\\image\\valid\\30_SAMOYED\\149.jpg"
     ]
    },
    {
     "name": "stderr",
     "output_type": "stream",
     "text": [
      ".-dog_classes2\\images\\image\\valid\\30_SAMOYED:  70%|███████████████████████▏         | 59/84 [00:00<00:00, 65.35files/s]"
     ]
    },
    {
     "name": "stdout",
     "output_type": "stream",
     "text": [
      "\n",
      "./dog_classes2\\images\\image\\valid\\30_SAMOYED\\150.jpg\n",
      "./dog_classes2\\images\\image\\valid\\30_SAMOYED\\151.jpg\n",
      "./dog_classes2\\images\\image\\valid\\30_SAMOYED\\152.jpg\n",
      "./dog_classes2\\images\\image\\valid\\30_SAMOYED\\153.jpg\n",
      "./dog_classes2\\images\\image\\valid\\30_SAMOYED\\154.jpg\n",
      "./dog_classes2\\images\\image\\valid\\30_SAMOYED\\155.jpg\n",
      "./dog_classes2\\images\\image\\valid\\30_SAMOYED\\156.jpg\n",
      "./dog_classes2\\images\\image\\valid\\30_SAMOYED\\157.jpg\n",
      "./dog_classes2\\images\\image\\valid\\30_SAMOYED\\158.jpg\n",
      "./dog_classes2\\images\\image\\valid\\30_SAMOYED\\159.jpg\n",
      "./dog_classes2\\images\\image\\valid\\30_SAMOYED\\160.jpg"
     ]
    },
    {
     "name": "stderr",
     "output_type": "stream",
     "text": [
      "\r",
      ".-dog_classes2\\images\\image\\valid\\30_SAMOYED:  79%|█████████████████████████▉       | 66/84 [00:00<00:00, 60.05files/s]"
     ]
    },
    {
     "name": "stdout",
     "output_type": "stream",
     "text": [
      "\n",
      "./dog_classes2\\images\\image\\valid\\30_SAMOYED\\161.jpg\n",
      "./dog_classes2\\images\\image\\valid\\30_SAMOYED\\162.jpg\n",
      "./dog_classes2\\images\\image\\valid\\30_SAMOYED\\163.jpg\n",
      "./dog_classes2\\images\\image\\valid\\30_SAMOYED\\164.jpg\n",
      "./dog_classes2\\images\\image\\valid\\30_SAMOYED\\165.jpg\n",
      "./dog_classes2\\images\\image\\valid\\30_SAMOYED\\166.jpg\n",
      "./dog_classes2\\images\\image\\valid\\30_SAMOYED\\167.jpg\n",
      "./dog_classes2\\images\\image\\valid\\30_SAMOYED\\84.jpg\n",
      "./dog_classes2\\images\\image\\valid\\30_SAMOYED\\85.jpg\n",
      "./dog_classes2\\images\\image\\valid\\30_SAMOYED\\86.jpg\n",
      "./dog_classes2\\images\\image\\valid\\30_SAMOYED\\87.jpg"
     ]
    },
    {
     "name": "stderr",
     "output_type": "stream",
     "text": [
      ".-dog_classes2\\images\\image\\valid\\9_ITALIAN_GREY_HOUND:   0%|                                | 0/58 [00:00<?, ?files/s]"
     ]
    },
    {
     "name": "stdout",
     "output_type": "stream",
     "text": [
      "\n",
      "./dog_classes2\\images\\image\\valid\\30_SAMOYED\\88.jpg\n",
      "./dog_classes2\\images\\image\\valid\\30_SAMOYED\\89.jpg\n",
      "./dog_classes2\\images\\image\\valid\\30_SAMOYED\\90.jpg\n",
      "./dog_classes2\\images\\image\\valid\\30_SAMOYED\\91.jpg\n",
      "./dog_classes2\\images\\image\\valid\\30_SAMOYED\\92.jpg\n",
      "./dog_classes2\\images\\image\\valid\\30_SAMOYED\\93.jpg\n",
      "./dog_classes2\\images\\image\\valid\\30_SAMOYED\\94.jpg\n",
      "./dog_classes2\\images\\image\\valid\\30_SAMOYED\\95.jpg\n",
      "./dog_classes2\\images\\image\\valid\\30_SAMOYED\\96.jpg\n",
      "./dog_classes2\\images\\image\\valid\\30_SAMOYED\\97.jpg\n",
      "./dog_classes2\\images\\image\\valid\\30_SAMOYED\\98.jpg\n",
      "./dog_classes2\\images\\image\\valid\\30_SAMOYED\\99.jpg\n",
      "./dog_classes2\\images\\image\\valid\\9_ITALIAN_GREY_HOUND\\100.jpg\n",
      "./dog_classes2\\images\\image\\valid\\9_ITALIAN_GREY_HOUND\\101.jpg"
     ]
    },
    {
     "name": "stderr",
     "output_type": "stream",
     "text": [
      "\r",
      ".-dog_classes2\\images\\image\\valid\\9_ITALIAN_GREY_HOUND:  12%|██▉                     | 7/58 [00:00<00:00, 64.99files/s]"
     ]
    },
    {
     "name": "stdout",
     "output_type": "stream",
     "text": [
      "\n",
      "./dog_classes2\\images\\image\\valid\\9_ITALIAN_GREY_HOUND\\102.jpg\n",
      "./dog_classes2\\images\\image\\valid\\9_ITALIAN_GREY_HOUND\\103.jpg\n",
      "./dog_classes2\\images\\image\\valid\\9_ITALIAN_GREY_HOUND\\104.jpg\n",
      "./dog_classes2\\images\\image\\valid\\9_ITALIAN_GREY_HOUND\\105.jpg\n",
      "./dog_classes2\\images\\image\\valid\\9_ITALIAN_GREY_HOUND\\106.jpg\n",
      "./dog_classes2\\images\\image\\valid\\9_ITALIAN_GREY_HOUND\\107.jpg\n",
      "./dog_classes2\\images\\image\\valid\\9_ITALIAN_GREY_HOUND\\108.jpg\n",
      "./dog_classes2\\images\\image\\valid\\9_ITALIAN_GREY_HOUND\\109.jpg\n",
      "./dog_classes2\\images\\image\\valid\\9_ITALIAN_GREY_HOUND\\110.jpg\n",
      "./dog_classes2\\images\\image\\valid\\9_ITALIAN_GREY_HOUND\\111.jpg\n",
      "./dog_classes2\\images\\image\\valid\\9_ITALIAN_GREY_HOUND\\112.jpg\n",
      "./dog_classes2\\images\\image\\valid\\9_ITALIAN_GREY_HOUND\\113.jpg"
     ]
    },
    {
     "name": "stderr",
     "output_type": "stream",
     "text": [
      ".-dog_classes2\\images\\image\\valid\\9_ITALIAN_GREY_HOUND:  38%|████████▋              | 22/58 [00:00<00:00, 67.59files/s]"
     ]
    },
    {
     "name": "stdout",
     "output_type": "stream",
     "text": [
      "\n",
      "./dog_classes2\\images\\image\\valid\\9_ITALIAN_GREY_HOUND\\114.jpg\n",
      "./dog_classes2\\images\\image\\valid\\9_ITALIAN_GREY_HOUND\\115.jpg\n",
      "./dog_classes2\\images\\image\\valid\\9_ITALIAN_GREY_HOUND\\58.jpg\n",
      "./dog_classes2\\images\\image\\valid\\9_ITALIAN_GREY_HOUND\\59.jpg\n",
      "./dog_classes2\\images\\image\\valid\\9_ITALIAN_GREY_HOUND\\60.jpg\n",
      "./dog_classes2\\images\\image\\valid\\9_ITALIAN_GREY_HOUND\\61.jpg\n",
      "./dog_classes2\\images\\image\\valid\\9_ITALIAN_GREY_HOUND\\62.jpg\n",
      "./dog_classes2\\images\\image\\valid\\9_ITALIAN_GREY_HOUND\\63.jpg\n",
      "./dog_classes2\\images\\image\\valid\\9_ITALIAN_GREY_HOUND\\64.jpg\n",
      "./dog_classes2\\images\\image\\valid\\9_ITALIAN_GREY_HOUND\\65.jpg\n",
      "./dog_classes2\\images\\image\\valid\\9_ITALIAN_GREY_HOUND\\66.jpg\n",
      "./dog_classes2\\images\\image\\valid\\9_ITALIAN_GREY_HOUND\\67.jpg\n",
      "./dog_classes2\\images\\image\\valid\\9_ITALIAN_GREY_HOUND\\68.jpg\n",
      "./dog_classes2\\images\\image\\valid\\9_ITALIAN_GREY_HOUND\\69.jpg"
     ]
    },
    {
     "name": "stderr",
     "output_type": "stream",
     "text": [
      ".-dog_classes2\\images\\image\\valid\\9_ITALIAN_GREY_HOUND:  66%|███████████████        | 38/58 [00:00<00:00, 71.05files/s]"
     ]
    },
    {
     "name": "stdout",
     "output_type": "stream",
     "text": [
      "\n",
      "./dog_classes2\\images\\image\\valid\\9_ITALIAN_GREY_HOUND\\70.jpg\n",
      "./dog_classes2\\images\\image\\valid\\9_ITALIAN_GREY_HOUND\\71.jpg\n",
      "./dog_classes2\\images\\image\\valid\\9_ITALIAN_GREY_HOUND\\72.jpg\n",
      "./dog_classes2\\images\\image\\valid\\9_ITALIAN_GREY_HOUND\\73.jpg\n",
      "./dog_classes2\\images\\image\\valid\\9_ITALIAN_GREY_HOUND\\74.jpg\n",
      "./dog_classes2\\images\\image\\valid\\9_ITALIAN_GREY_HOUND\\75.jpg\n",
      "./dog_classes2\\images\\image\\valid\\9_ITALIAN_GREY_HOUND\\76.jpg\n",
      "./dog_classes2\\images\\image\\valid\\9_ITALIAN_GREY_HOUND\\77.jpg\n",
      "./dog_classes2\\images\\image\\valid\\9_ITALIAN_GREY_HOUND\\78.jpg\n",
      "./dog_classes2\\images\\image\\valid\\9_ITALIAN_GREY_HOUND\\79.jpg\n",
      "./dog_classes2\\images\\image\\valid\\9_ITALIAN_GREY_HOUND\\80.jpg\n",
      "./dog_classes2\\images\\image\\valid\\9_ITALIAN_GREY_HOUND\\81.jpg\n",
      "./dog_classes2\\images\\image\\valid\\9_ITALIAN_GREY_HOUND\\82.jpg\n",
      "./dog_classes2\\images\\image\\valid\\9_ITALIAN_GREY_HOUND\\83.jpg"
     ]
    },
    {
     "name": "stderr",
     "output_type": "stream",
     "text": [
      ".-dog_classes2\\images\\image\\valid\\9_ITALIAN_GREY_HOUND:  93%|█████████████████████▍ | 54/58 [00:00<00:00, 71.49files/s]"
     ]
    },
    {
     "name": "stdout",
     "output_type": "stream",
     "text": [
      "\n",
      "./dog_classes2\\images\\image\\valid\\9_ITALIAN_GREY_HOUND\\84.jpg\n",
      "./dog_classes2\\images\\image\\valid\\9_ITALIAN_GREY_HOUND\\85.jpg\n",
      "./dog_classes2\\images\\image\\valid\\9_ITALIAN_GREY_HOUND\\86.jpg\n",
      "./dog_classes2\\images\\image\\valid\\9_ITALIAN_GREY_HOUND\\87.jpg\n",
      "./dog_classes2\\images\\image\\valid\\9_ITALIAN_GREY_HOUND\\88.jpg\n",
      "./dog_classes2\\images\\image\\valid\\9_ITALIAN_GREY_HOUND\\89.jpg\n",
      "./dog_classes2\\images\\image\\valid\\9_ITALIAN_GREY_HOUND\\90.jpg\n",
      "./dog_classes2\\images\\image\\valid\\9_ITALIAN_GREY_HOUND\\91.jpg\n",
      "./dog_classes2\\images\\image\\valid\\9_ITALIAN_GREY_HOUND\\92.jpg\n",
      "./dog_classes2\\images\\image\\valid\\9_ITALIAN_GREY_HOUND\\93.jpg\n",
      "./dog_classes2\\images\\image\\valid\\9_ITALIAN_GREY_HOUND\\94.jpg\n",
      "./dog_classes2\\images\\image\\valid\\9_ITALIAN_GREY_HOUND\\95.jpg\n",
      "./dog_classes2\\images\\image\\valid\\9_ITALIAN_GREY_HOUND\\96.jpg"
     ]
    },
    {
     "name": "stderr",
     "output_type": "stream",
     "text": [
      ".-dog_classes2\\images\\image\\valid\\X_HUSKY:  13%|████▊                                | 7/54 [00:00<00:00, 68.81files/s]"
     ]
    },
    {
     "name": "stdout",
     "output_type": "stream",
     "text": [
      "\n",
      "./dog_classes2\\images\\image\\valid\\9_ITALIAN_GREY_HOUND\\97.jpg\n",
      "./dog_classes2\\images\\image\\valid\\9_ITALIAN_GREY_HOUND\\98.jpg\n",
      "./dog_classes2\\images\\image\\valid\\9_ITALIAN_GREY_HOUND\\99.jpg\n",
      "./dog_classes2\\images\\image\\valid\\X_HUSKY\\0.jpg\n",
      "./dog_classes2\\images\\image\\valid\\X_HUSKY\\1.jpg\n",
      "./dog_classes2\\images\\image\\valid\\X_HUSKY\\10.jpg\n",
      "./dog_classes2\\images\\image\\valid\\X_HUSKY\\11.jpg\n",
      "./dog_classes2\\images\\image\\valid\\X_HUSKY\\12.jpg\n",
      "./dog_classes2\\images\\image\\valid\\X_HUSKY\\13.jpg\n",
      "./dog_classes2\\images\\image\\valid\\X_HUSKY\\14.jpg\n",
      "./dog_classes2\\images\\image\\valid\\X_HUSKY\\15.jpg\n",
      "./dog_classes2\\images\\image\\valid\\X_HUSKY\\16.jpg\n",
      "./dog_classes2\\images\\image\\valid\\X_HUSKY\\17.jpg"
     ]
    },
    {
     "name": "stderr",
     "output_type": "stream",
     "text": [
      ".-dog_classes2\\images\\image\\valid\\X_HUSKY:  43%|███████████████▎                    | 23/54 [00:00<00:00, 71.61files/s]"
     ]
    },
    {
     "name": "stdout",
     "output_type": "stream",
     "text": [
      "\n",
      "./dog_classes2\\images\\image\\valid\\X_HUSKY\\18.jpg\n",
      "./dog_classes2\\images\\image\\valid\\X_HUSKY\\19.jpg\n",
      "./dog_classes2\\images\\image\\valid\\X_HUSKY\\2.jpg\n",
      "./dog_classes2\\images\\image\\valid\\X_HUSKY\\20.jpg\n",
      "./dog_classes2\\images\\image\\valid\\X_HUSKY\\21.jpg\n",
      "./dog_classes2\\images\\image\\valid\\X_HUSKY\\22.jpg\n",
      "./dog_classes2\\images\\image\\valid\\X_HUSKY\\23.jpg\n",
      "./dog_classes2\\images\\image\\valid\\X_HUSKY\\24.jpg\n",
      "./dog_classes2\\images\\image\\valid\\X_HUSKY\\25.jpg\n",
      "./dog_classes2\\images\\image\\valid\\X_HUSKY\\26.jpg\n",
      "./dog_classes2\\images\\image\\valid\\X_HUSKY\\27.jpg\n",
      "./dog_classes2\\images\\image\\valid\\X_HUSKY\\28.jpg\n",
      "./dog_classes2\\images\\image\\valid\\X_HUSKY\\29.jpg\n",
      "./dog_classes2\\images\\image\\valid\\X_HUSKY\\3.jpg"
     ]
    },
    {
     "name": "stderr",
     "output_type": "stream",
     "text": [
      "\r",
      ".-dog_classes2\\images\\image\\valid\\X_HUSKY:  57%|████████████████████▋               | 31/54 [00:00<00:00, 72.58files/s]"
     ]
    },
    {
     "name": "stdout",
     "output_type": "stream",
     "text": [
      "\n",
      "./dog_classes2\\images\\image\\valid\\X_HUSKY\\30.jpg\n",
      "./dog_classes2\\images\\image\\valid\\X_HUSKY\\31.jpg\n",
      "./dog_classes2\\images\\image\\valid\\X_HUSKY\\32.jpg\n",
      "./dog_classes2\\images\\image\\valid\\X_HUSKY\\33.jpg\n",
      "./dog_classes2\\images\\image\\valid\\X_HUSKY\\34.jpg\n",
      "./dog_classes2\\images\\image\\valid\\X_HUSKY\\35.jpg\n",
      "./dog_classes2\\images\\image\\valid\\X_HUSKY\\36.jpg\n",
      "./dog_classes2\\images\\image\\valid\\X_HUSKY\\37.jpg\n",
      "./dog_classes2\\images\\image\\valid\\X_HUSKY\\38.jpg\n",
      "./dog_classes2\\images\\image\\valid\\X_HUSKY\\39.jpg\n",
      "./dog_classes2\\images\\image\\valid\\X_HUSKY\\4.jpg\n",
      "./dog_classes2\\images\\image\\valid\\X_HUSKY\\40.jpg\n",
      "./dog_classes2\\images\\image\\valid\\X_HUSKY\\41.jpg\n",
      "./dog_classes2\\images\\image\\valid\\X_HUSKY\\42.jpg"
     ]
    },
    {
     "name": "stderr",
     "output_type": "stream",
     "text": [
      ".-dog_classes2\\images\\image\\valid\\X_HUSKY:  87%|███████████████████████████████▎    | 47/54 [00:00<00:00, 74.25files/s]"
     ]
    },
    {
     "name": "stdout",
     "output_type": "stream",
     "text": [
      "\n",
      "./dog_classes2\\images\\image\\valid\\X_HUSKY\\43.jpg\n",
      "./dog_classes2\\images\\image\\valid\\X_HUSKY\\44.jpg\n",
      "./dog_classes2\\images\\image\\valid\\X_HUSKY\\45.jpg\n",
      "./dog_classes2\\images\\image\\valid\\X_HUSKY\\46.jpg\n",
      "./dog_classes2\\images\\image\\valid\\X_HUSKY\\47.jpg\n",
      "./dog_classes2\\images\\image\\valid\\X_HUSKY\\48.jpg\n",
      "./dog_classes2\\images\\image\\valid\\X_HUSKY\\49.jpg\n",
      "./dog_classes2\\images\\image\\valid\\X_HUSKY\\5.jpg\n",
      "./dog_classes2\\images\\image\\valid\\X_HUSKY\\50.jpg\n",
      "./dog_classes2\\images\\image\\valid\\X_HUSKY\\51.jpg\n",
      "./dog_classes2\\images\\image\\valid\\X_HUSKY\\52.jpg\n",
      "./dog_classes2\\images\\image\\valid\\X_HUSKY\\53.jpg\n",
      "./dog_classes2\\images\\image\\valid\\X_HUSKY\\6.jpg\n",
      "./dog_classes2\\images\\image\\valid\\X_HUSKY\\7.jpg"
     ]
    },
    {
     "name": "stderr",
     "output_type": "stream",
     "text": [
      ".-dog_classes2\\images\\image\\valid\\X_SHIH_TZU:   9%|██▉                               | 7/81 [00:00<00:01, 66.21files/s]"
     ]
    },
    {
     "name": "stdout",
     "output_type": "stream",
     "text": [
      "\n",
      "./dog_classes2\\images\\image\\valid\\X_HUSKY\\8.jpg\n",
      "./dog_classes2\\images\\image\\valid\\X_HUSKY\\9.jpg\n",
      "./dog_classes2\\images\\image\\valid\\X_SHIH_TZU\\100.jpg\n",
      "./dog_classes2\\images\\image\\valid\\X_SHIH_TZU\\101.jpg\n",
      "./dog_classes2\\images\\image\\valid\\X_SHIH_TZU\\102.jpg\n",
      "./dog_classes2\\images\\image\\valid\\X_SHIH_TZU\\103.jpg\n",
      "./dog_classes2\\images\\image\\valid\\X_SHIH_TZU\\104.jpg\n",
      "./dog_classes2\\images\\image\\valid\\X_SHIH_TZU\\105.jpg\n",
      "./dog_classes2\\images\\image\\valid\\X_SHIH_TZU\\106.jpg\n",
      "./dog_classes2\\images\\image\\valid\\X_SHIH_TZU\\107.jpg\n",
      "./dog_classes2\\images\\image\\valid\\X_SHIH_TZU\\108.jpg"
     ]
    },
    {
     "name": "stderr",
     "output_type": "stream",
     "text": [
      ".-dog_classes2\\images\\image\\valid\\X_SHIH_TZU:  22%|███████▎                         | 18/81 [00:00<00:01, 59.52files/s]"
     ]
    },
    {
     "name": "stdout",
     "output_type": "stream",
     "text": [
      "\n",
      "./dog_classes2\\images\\image\\valid\\X_SHIH_TZU\\109.jpg\n",
      "./dog_classes2\\images\\image\\valid\\X_SHIH_TZU\\110.jpg\n",
      "./dog_classes2\\images\\image\\valid\\X_SHIH_TZU\\111.jpg\n",
      "./dog_classes2\\images\\image\\valid\\X_SHIH_TZU\\112.jpg\n",
      "./dog_classes2\\images\\image\\valid\\X_SHIH_TZU\\113.jpg\n",
      "./dog_classes2\\images\\image\\valid\\X_SHIH_TZU\\114.jpg\n",
      "./dog_classes2\\images\\image\\valid\\X_SHIH_TZU\\115.jpg\n",
      "./dog_classes2\\images\\image\\valid\\X_SHIH_TZU\\116.jpg\n",
      "./dog_classes2\\images\\image\\valid\\X_SHIH_TZU\\117.jpg\n",
      "./dog_classes2\\images\\image\\valid\\X_SHIH_TZU\\118.jpg"
     ]
    },
    {
     "name": "stderr",
     "output_type": "stream",
     "text": [
      "\r",
      ".-dog_classes2\\images\\image\\valid\\X_SHIH_TZU:  31%|██████████▏                      | 25/81 [00:00<00:00, 59.81files/s]"
     ]
    },
    {
     "name": "stdout",
     "output_type": "stream",
     "text": [
      "\n",
      "./dog_classes2\\images\\image\\valid\\X_SHIH_TZU\\119.jpg\n",
      "./dog_classes2\\images\\image\\valid\\X_SHIH_TZU\\120.jpg\n",
      "./dog_classes2\\images\\image\\valid\\X_SHIH_TZU\\121.jpg\n",
      "./dog_classes2\\images\\image\\valid\\X_SHIH_TZU\\122.jpg\n",
      "./dog_classes2\\images\\image\\valid\\X_SHIH_TZU\\123.jpg\n",
      "./dog_classes2\\images\\image\\valid\\X_SHIH_TZU\\124.jpg\n",
      "./dog_classes2\\images\\image\\valid\\X_SHIH_TZU\\125.jpg\n",
      "./dog_classes2\\images\\image\\valid\\X_SHIH_TZU\\126.jpg\n",
      "./dog_classes2\\images\\image\\valid\\X_SHIH_TZU\\127.jpg\n",
      "./dog_classes2\\images\\image\\valid\\X_SHIH_TZU\\128.jpg\n",
      "./dog_classes2\\images\\image\\valid\\X_SHIH_TZU\\129.jpg\n",
      "./dog_classes2\\images\\image\\valid\\X_SHIH_TZU\\130.jpg"
     ]
    },
    {
     "name": "stderr",
     "output_type": "stream",
     "text": [
      ".-dog_classes2\\images\\image\\valid\\X_SHIH_TZU:  48%|███████████████▉                 | 39/81 [00:00<00:00, 63.36files/s]"
     ]
    },
    {
     "name": "stdout",
     "output_type": "stream",
     "text": [
      "\n",
      "./dog_classes2\\images\\image\\valid\\X_SHIH_TZU\\131.jpg\n",
      "./dog_classes2\\images\\image\\valid\\X_SHIH_TZU\\132.jpg\n",
      "./dog_classes2\\images\\image\\valid\\X_SHIH_TZU\\133.jpg\n",
      "./dog_classes2\\images\\image\\valid\\X_SHIH_TZU\\134.jpg\n",
      "./dog_classes2\\images\\image\\valid\\X_SHIH_TZU\\135.jpg\n",
      "./dog_classes2\\images\\image\\valid\\X_SHIH_TZU\\136.jpg\n",
      "./dog_classes2\\images\\image\\valid\\X_SHIH_TZU\\137.jpg\n",
      "./dog_classes2\\images\\image\\valid\\X_SHIH_TZU\\138.jpg\n",
      "./dog_classes2\\images\\image\\valid\\X_SHIH_TZU\\139.jpg\n",
      "./dog_classes2\\images\\image\\valid\\X_SHIH_TZU\\140.jpg\n",
      "./dog_classes2\\images\\image\\valid\\X_SHIH_TZU\\141.jpg\n",
      "./dog_classes2\\images\\image\\valid\\X_SHIH_TZU\\142.jpg\n",
      "./dog_classes2\\images\\image\\valid\\X_SHIH_TZU\\143.jpg"
     ]
    },
    {
     "name": "stderr",
     "output_type": "stream",
     "text": [
      ".-dog_classes2\\images\\image\\valid\\X_SHIH_TZU:  67%|██████████████████████           | 54/81 [00:00<00:00, 67.25files/s]"
     ]
    },
    {
     "name": "stdout",
     "output_type": "stream",
     "text": [
      "\n",
      "./dog_classes2\\images\\image\\valid\\X_SHIH_TZU\\144.jpg\n",
      "./dog_classes2\\images\\image\\valid\\X_SHIH_TZU\\145.jpg\n",
      "./dog_classes2\\images\\image\\valid\\X_SHIH_TZU\\146.jpg\n",
      "./dog_classes2\\images\\image\\valid\\X_SHIH_TZU\\147.jpg\n",
      "./dog_classes2\\images\\image\\valid\\X_SHIH_TZU\\148.jpg\n",
      "./dog_classes2\\images\\image\\valid\\X_SHIH_TZU\\149.jpg\n",
      "./dog_classes2\\images\\image\\valid\\X_SHIH_TZU\\150.jpg\n",
      "./dog_classes2\\images\\image\\valid\\X_SHIH_TZU\\151.jpg\n",
      "./dog_classes2\\images\\image\\valid\\X_SHIH_TZU\\152.jpg\n",
      "./dog_classes2\\images\\image\\valid\\X_SHIH_TZU\\153.jpg\n",
      "./dog_classes2\\images\\image\\valid\\X_SHIH_TZU\\154.jpg\n",
      "./dog_classes2\\images\\image\\valid\\X_SHIH_TZU\\155.jpg\n",
      "./dog_classes2\\images\\image\\valid\\X_SHIH_TZU\\156.jpg"
     ]
    },
    {
     "name": "stderr",
     "output_type": "stream",
     "text": [
      ".-dog_classes2\\images\\image\\valid\\X_SHIH_TZU:  84%|███████████████████████████▋     | 68/81 [00:01<00:00, 67.76files/s]"
     ]
    },
    {
     "name": "stdout",
     "output_type": "stream",
     "text": [
      "\n",
      "./dog_classes2\\images\\image\\valid\\X_SHIH_TZU\\157.jpg\n",
      "./dog_classes2\\images\\image\\valid\\X_SHIH_TZU\\158.jpg\n",
      "./dog_classes2\\images\\image\\valid\\X_SHIH_TZU\\159.jpg\n",
      "./dog_classes2\\images\\image\\valid\\X_SHIH_TZU\\160.jpg\n",
      "./dog_classes2\\images\\image\\valid\\X_SHIH_TZU\\161.jpg\n",
      "./dog_classes2\\images\\image\\valid\\X_SHIH_TZU\\81.jpg\n",
      "./dog_classes2\\images\\image\\valid\\X_SHIH_TZU\\82.jpg\n",
      "./dog_classes2\\images\\image\\valid\\X_SHIH_TZU\\83.jpg\n",
      "./dog_classes2\\images\\image\\valid\\X_SHIH_TZU\\84.jpg\n",
      "./dog_classes2\\images\\image\\valid\\X_SHIH_TZU\\85.jpg\n",
      "./dog_classes2\\images\\image\\valid\\X_SHIH_TZU\\86.jpg\n",
      "./dog_classes2\\images\\image\\valid\\X_SHIH_TZU\\87.jpg"
     ]
    },
    {
     "name": "stderr",
     "output_type": "stream",
     "text": [
      "\r",
      ".-dog_classes2\\images\\image\\valid\\X_SHIH_TZU:  93%|██████████████████████████████▌  | 75/81 [00:01<00:00, 59.88files/s]"
     ]
    },
    {
     "name": "stdout",
     "output_type": "stream",
     "text": [
      "\n",
      "./dog_classes2\\images\\image\\valid\\X_SHIH_TZU\\88.jpg\n",
      "./dog_classes2\\images\\image\\valid\\X_SHIH_TZU\\89.jpg\n",
      "./dog_classes2\\images\\image\\valid\\X_SHIH_TZU\\90.jpg\n",
      "./dog_classes2\\images\\image\\valid\\X_SHIH_TZU\\91.jpg\n",
      "./dog_classes2\\images\\image\\valid\\X_SHIH_TZU\\92.jpg\n",
      "./dog_classes2\\images\\image\\valid\\X_SHIH_TZU\\93.jpg\n",
      "./dog_classes2\\images\\image\\valid\\X_SHIH_TZU\\94.jpg\n",
      "./dog_classes2\\images\\image\\valid\\X_SHIH_TZU\\95.jpg\n",
      "./dog_classes2\\images\\image\\valid\\X_SHIH_TZU\\96.jpg\n",
      "./dog_classes2\\images\\image\\valid\\X_SHIH_TZU\\97.jpg\n"
     ]
    },
    {
     "name": "stderr",
     "output_type": "stream",
     "text": [
      "                                                                                                                       \r"
     ]
    },
    {
     "name": "stdout",
     "output_type": "stream",
     "text": [
      "./dog_classes2\\images\\image\\valid\\X_SHIH_TZU\\98.jpg\n",
      "./dog_classes2\\images\\image\\valid\\X_SHIH_TZU\\99.jpg\n",
      "[1, 5, 14, 2, 19, 15, 11, 18, 12, 19, 8, 1, 16, 13, 13, 11, 0, 7, 3, 2, 14, 6, 0, 16, 13, 6, 11, 15, 16, 8, 6, 7, 19, 13, 9, 16, 16, 6, 5, 19, 15, 18, 17, 6, 13, 10, 8, 6, 6, 6, 9, 19, 15, 6, 15, 14, 16, 14, 9, 3, 7, 4, 3, 9, 6, 5, 11, 4, 14, 19, 19, 11, 16, 19, 15, 19, 9, 16, 13, 1, 1, 1, 9, 13, 5, 5, 0, 13, 15, 11, 8, 12, 5, 14, 14, 12, 19, 15, 10, 19, 6, 14, 2, 3, 17, 17, 14, 6, 4, 19, 10, 8, 17, 11, 9, 13, 11, 19, 13, 19, 16, 8, 11, 9, 16, 15, 4, 0, 19, 3, 3, 17, 13, 6, 1, 14, 18, 16, 7, 10, 18, 7, 10, 1, 7, 6, 6, 18, 11, 4, 6, 8, 18, 17, 6, 9, 6, 9, 4, 9, 9, 19, 9, 12, 12, 18, 18, 15, 18, 19, 4, 6, 10, 16, 5, 19, 1, 16, 11, 3, 5, 1, 14, 19, 9, 1, 13, 18, 11, 3, 17, 16, 8, 9, 11, 11, 5, 12, 11, 19, 9, 13, 3, 4, 6, 19, 1, 15, 18, 6, 18, 9, 19, 2, 14, 1, 9, 6, 14, 2, 18, 4, 18, 11, 15, 5, 6, 19, 17, 11, 10, 6, 5, 19, 8, 3, 4, 5, 1, 8, 14, 7, 6, 6, 4, 11, 8, 6, 4, 16, 13, 16, 11, 11, 18, 16, 18, 17, 19, 4, 17, 17, 9, 13, 11, 6, 10, 11, 11, 19, 8, 3, 16, 18, 15, 3, 10, 1, 3, 8, 17, 2, 7, 7, 10, 13, 14, 17, 9, 6, 5, 3, 17, 8, 9, 4, 17, 2, 11, 11, 6, 17, 13, 4, 7, 1, 17, 7, 7, 12, 15, 6, 3, 6, 18, 16, 6, 11, 11, 19, 15, 3, 19, 17, 8, 14, 11, 3, 1, 19, 5, 1, 11, 15, 16, 16, 8, 3, 13, 13, 9, 16, 6, 11, 9, 9, 10, 8, 13, 6, 13, 10, 17, 13, 0, 13, 8, 8, 19, 17, 10, 17, 13, 15, 10, 11, 18, 16, 0, 17, 16, 8, 7, 6, 0, 0, 0, 2, 17, 10, 1, 17, 1, 14, 1, 16, 6, 12, 1, 12, 12, 1, 11, 19, 17, 5, 15, 6, 12, 7, 11, 8, 10, 9, 11, 19, 16, 18, 9, 15, 11, 5, 16, 11, 9, 1, 13, 14, 4, 18, 1, 6, 3, 4, 19, 16, 17, 19, 10, 15, 10, 1, 1, 18, 16, 19, 0, 16, 8, 18, 14, 6, 1, 1, 12, 5, 15, 3, 6, 6, 8, 4, 9, 13, 6, 6, 16, 6, 5, 11, 4, 15, 7, 3, 4, 3, 17, 15, 19, 14, 16, 13, 9, 14, 10, 9, 8, 0, 14, 11, 3, 10, 15, 3, 11, 10, 4, 2, 6, 8, 16, 14, 3, 1, 6, 15, 19, 4, 8, 6, 14, 12, 3, 8, 19, 16, 7, 8, 19, 2, 18, 1, 3, 15, 10, 11, 16, 9, 15, 15, 15, 3, 15, 4, 8, 4, 4, 6, 15, 6, 6, 13, 9, 15, 17, 6, 1, 3, 0, 7, 7, 1, 11, 11, 16, 1, 5, 2, 8, 3, 14, 5, 1, 14, 12, 7, 5, 3, 17, 13, 9, 1, 19, 4, 12, 7, 14, 6, 4, 0, 8, 6, 1, 14, 14, 4, 8, 18, 19, 6, 1, 17, 13, 5, 9, 2, 8, 19, 9, 9, 2, 4, 9, 16, 1, 18, 2, 10, 1, 9, 18, 18, 19, 5, 11, 14, 13, 14, 11, 4, 13, 2, 19, 10, 1, 6, 19, 12, 11, 5, 10, 1, 6, 15, 4, 17, 1, 6, 11, 6, 19, 9, 10, 16, 8, 6, 12, 19, 11, 15, 13, 1, 14, 17, 14, 4, 12, 2, 8, 9, 16, 10, 0, 14, 3, 6, 15, 4, 1, 2, 1, 6, 7, 15, 14, 9, 10, 1, 15, 17, 13, 16, 5, 9, 11, 0, 19, 17, 1, 18, 17, 9, 4, 11, 1, 6, 4, 16, 1, 2, 6, 2, 6, 8, 1, 3, 8, 17, 14, 16, 6, 11, 6, 16, 13, 16, 19, 15, 19, 16, 2, 10, 9, 12, 16, 6, 11, 15, 6, 1, 18, 15, 13, 5, 8, 13, 11, 1, 7, 9, 17, 8, 1, 18, 16, 12, 11, 3, 0, 10, 6, 6, 19, 6, 6, 3, 9, 16, 3, 8, 3, 16, 9, 18, 11, 16, 12, 17, 6, 6, 9, 1, 3, 6, 9, 11, 19, 13, 5, 4, 6, 17, 8, 18, 14, 15, 6, 6, 16, 6, 16, 3, 17, 15, 3, 1, 7, 1, 18, 19, 8, 16, 13, 9, 3, 6, 17, 14, 19, 19, 11, 15, 11, 6, 3, 19, 1, 1, 6, 13, 8, 9, 3, 16, 11, 1, 15, 8, 11, 18, 9, 11, 19, 13, 15, 10, 12, 16, 2, 19, 10, 11, 11, 11, 8, 19, 6, 16, 6, 5, 10, 10, 14, 6, 11, 6, 16, 2, 3, 17, 2, 16, 15, 15, 19, 19, 17, 5, 11, 11, 0, 16, 16, 18, 5, 15, 8, 6, 17, 4, 15, 10, 1, 18, 18, 18, 6, 19, 16, 13, 8, 11, 13, 10, 6, 16, 6, 19, 0, 19, 14, 16, 11, 14, 8, 4, 13, 4, 4, 15, 11, 16, 3, 8, 19, 2, 14, 4, 17, 19, 17, 19, 8, 1, 16, 9, 8, 8, 11, 9, 19, 4, 19, 16, 2, 8, 11, 1, 11, 19, 16, 13, 5, 5, 14, 8, 19, 3, 1, 15, 8, 9, 9, 11, 7, 15, 14, 1, 17, 16, 8, 5, 6, 16, 7, 6, 16, 10, 11, 12, 19, 9, 9, 6, 4, 14, 9, 9, 4, 5, 17, 6, 8, 11, 7, 19, 7, 17, 6, 11, 3, 7, 10, 13, 9, 2, 2, 4, 19, 9, 19, 12, 15, 6, 16, 5, 15, 17, 10, 11, 10, 9, 3, 8, 5, 8, 5, 17, 4, 7, 3, 19, 1, 9, 5, 15, 8, 17, 5, 8, 4, 16, 17, 9, 8, 13, 14, 4, 6, 1, 6, 2, 15, 11, 16, 4, 12, 13, 9, 16, 19, 19, 1, 15, 9, 6, 6, 16, 15, 1, 6, 15, 2, 1, 14, 18, 6, 10, 7, 4, 9, 9, 8, 8, 13, 11, 15, 11, 16, 0, 16, 8, 19, 11, 15, 17, 14, 15, 16, 13, 15, 3, 1, 7, 13, 19, 9, 5, 10, 18, 1, 2, 19, 19, 11, 2, 8, 5, 10, 1, 3, 6, 1, 17, 9, 16, 10, 17, 14, 1, 1, 11, 16, 19, 19, 0, 10, 17, 10, 11, 19, 6, 19, 4, 1, 16, 10, 19, 12, 4, 15, 3, 2, 6, 6, 11, 14, 11, 17, 11, 10, 8, 7, 19, 17, 15, 17, 12, 16, 2, 16, 9, 13, 5, 5, 4, 16, 19, 11, 3, 14, 4, 5, 6, 1, 17, 8, 9, 2, 14, 18, 15, 9, 19, 11, 12, 6, 10, 13, 10, 11, 14, 4, 17, 11, 1, 8, 18, 18, 10, 13, 18, 15, 16, 9, 18, 15, 19, 15, 19, 19, 2, 5, 10, 15, 13, 10, 14, 2, 16, 18, 13, 19, 9, 6, 9, 6, 17, 16, 14, 13, 2, 15, 3, 11, 9, 10, 3, 12, 11, 11, 3, 12, 13, 2, 16, 8, 7, 15, 3, 19, 8, 6, 1, 11, 5, 12, 12, 6, 10, 15, 1, 18, 15, 6, 10, 16, 3, 5, 3, 17, 3, 16, 15, 6, 6, 15, 10, 12, 12, 1, 11, 2, 6, 18, 16, 6, 15, 2, 14, 14, 6, 4, 19, 17, 15, 8, 8, 3, 18, 16, 11, 10, 1, 19, 11, 15, 14, 11, 9, 14, 2, 5, 2, 16, 10, 2, 11, 0, 15, 13, 19, 17, 7, 1, 11, 2, 14, 10, 12, 4, 11, 5, 6, 16, 15, 7, 16, 17, 6, 2, 17, 11, 6, 5, 10, 5, 19, 17, 11, 3, 11, 8, 16, 19, 1, 1, 18, 3, 9, 6, 7, 15, 10, 4, 10, 11, 6, 8, 17, 3, 10, 1, 11, 4, 11, 12, 8, 3, 12, 10, 4, 19, 8, 19, 1, 14, 10, 18, 1, 19, 18, 0, 6, 4, 19, 14, 4, 3, 10, 11, 18, 7, 15, 17, 11, 17, 10, 15, 1, 9, 17, 3, 1, 19, 19, 7, 4, 18, 3, 11, 3, 4, 9, 9, 10, 15, 3, 10, 5, 18, 13, 9, 18, 7, 13, 18, 1, 8, 12, 12, 18, 15, 9, 14, 16, 16, 18, 16, 0, 18, 3, 13, 1, 15, 11, 1, 18, 4, 15, 13, 12, 18, 6, 11, 1, 12, 16, 15, 8, 5, 9, 17, 13, 11, 16, 15, 5, 8, 1, 2, 16, 17, 3, 3, 0, 3, 9, 11, 13, 16, 9, 10, 16, 15, 5, 13, 9, 0, 10, 16, 9, 15, 1, 19, 13, 13, 15, 7, 19, 1, 19, 1, 12, 17, 14, 3, 19, 15, 17, 13, 15, 16, 18, 16, 11, 3, 1, 18, 9, 2, 11, 11, 18, 11, 0, 6, 6, 10, 17, 11, 9, 5, 6, 13, 15, 7, 6, 19, 6, 19, 5, 15, 6, 15, 19, 5, 15, 3, 6, 17, 10, 16, 7, 15, 13, 0, 6, 10, 16, 10, 1, 10, 6, 14, 11, 1, 7, 11, 11, 16, 5, 11, 16, 3, 3, 16, 10, 14, 17, 19, 5, 3, 3, 16, 14, 14, 14, 8, 11, 16, 19, 3, 18, 5, 12, 11, 14, 3, 15, 5, 8, 19, 19, 12, 15, 11, 6, 4, 4, 9, 10, 16, 19, 5, 16, 14, 14, 19, 6, 16, 14, 6, 3, 1, 19, 19, 9, 6, 1, 13, 9, 7, 17, 9, 11, 11, 10, 8, 16, 17, 6, 10, 1, 4, 12, 13, 19, 3, 19, 3, 12, 17, 15, 2, 16, 6, 19, 19, 6, 8, 6, 14, 0, 7, 6, 1, 10, 13, 6, 11, 6, 10, 1, 18, 9, 13, 7, 4, 11, 15, 13, 1, 18, 14, 13, 1, 4, 13, 19, 3, 16, 6, 14, 18, 18, 10, 2, 5, 1, 11, 19, 3, 19, 13, 4, 19, 14, 2, 1, 11, 14, 14, 19, 6, 14, 18, 7, 1, 14, 4, 5, 17, 18, 19, 0, 4, 6, 15, 17, 1, 6, 15, 12, 6, 13, 9, 13, 13, 6, 6, 6, 6, 11, 18, 19, 9, 18, 11, 19, 17, 15, 7, 13, 0, 1, 7, 10, 4, 14, 11, 6, 3, 17, 5, 12, 2, 3, 14, 0, 5, 6, 8, 1, 8, 6, 10, 13, 6, 5, 14, 13, 2, 6, 18, 19, 9, 2, 11, 16, 3, 4, 11, 4, 11, 10, 19, 14, 5, 16, 4, 4, 3, 15, 1, 19, 19, 7, 5, 2, 19, 6, 17, 5, 7, 10, 5, 13, 15, 10, 16, 16, 11, 18, 19, 4, 2, 0, 11, 7, 16, 4, 12, 13, 14, 10, 17, 6, 11, 1, 6, 0, 13, 10, 19, 8, 9, 13, 4, 15, 10, 18, 4, 0, 8, 11, 1, 11, 5, 18, 10, 7, 8, 6, 6, 7, 19, 1, 6, 16, 18, 3, 13, 11, 11, 2, 3, 6, 16, 15, 1, 19, 16, 11, 16, 16, 14, 5, 11, 8, 1, 16, 19, 1, 5, 16, 18, 1, 7, 19, 11, 7, 15, 12, 1, 1, 15, 15, 10, 12, 19, 6, 10, 19, 13, 5, 1, 9, 1, 14, 0, 15, 15, 18, 15, 10, 3, 0, 13, 9, 1, 9, 6, 1, 9, 2, 13, 5, 7, 15, 8, 17, 4, 6, 16, 4, 6, 10, 6, 10, 16, 16, 10, 15, 19, 1, 8, 7, 14, 9, 7, 8, 18, 9, 16, 0, 13, 10, 10, 18, 10, 16, 9, 9, 14, 10, 3, 4, 16, 9, 19, 2, 15, 16, 8, 14, 10, 18, 11, 13, 3, 19, 9, 8, 16, 18, 12, 15, 6, 16, 18, 7, 3, 5, 16, 5, 17, 13, 16, 8, 18, 10, 8, 14, 11, 10, 2, 8, 9, 14, 16, 3, 6, 6, 6, 11, 10, 6, 12, 6, 6, 7, 13, 1, 14, 18, 18, 17, 19, 1, 1, 5, 16, 6, 5, 19, 4, 2, 8, 19, 5, 19, 15, 4, 15, 12, 6, 5, 1, 9, 1, 19, 19, 7, 6, 18, 14, 17, 1, 16, 5, 6, 13, 9, 2, 19, 1, 4, 15, 17, 5, 7, 18, 16, 6, 6, 18, 4, 2, 1, 14, 14, 13, 8, 1, 11, 13, 9, 19, 1, 6, 5, 19, 14, 14, 18, 14, 10, 11, 12, 11, 9, 12, 17, 16, 19, 11, 13, 18, 11, 6, 11, 8, 13, 14, 16, 10, 7, 3, 18, 16, 7, 9, 10, 7, 17, 15, 1, 2, 8, 17, 1, 9, 15, 4, 16, 14, 13, 5, 0, 13, 2, 1, 4, 14, 6, 2, 18, 11, 14, 17, 11, 14, 15, 17, 4, 6, 9, 16, 11, 17, 19, 10, 13, 14, 9, 15, 11, 7, 14, 16, 1, 18, 6, 15, 18, 4, 13, 16, 6, 2, 9, 17, 12, 15, 2, 19, 5, 10, 3, 9, 10, 5, 5, 5, 10, 15, 1, 3, 18, 13, 10, 15, 17, 1, 12, 18, 8, 16, 15, 2, 11, 14, 12, 3, 16, 11, 19, 11, 11, 8, 16, 3, 9, 6, 11, 18, 1, 6, 18, 3, 1, 12, 15, 16, 1, 11, 4, 11, 1, 12, 7, 8, 1, 5, 12, 19, 17, 14, 12, 8, 16, 0, 6, 6, 12, 10, 11, 18, 16, 12, 5, 0, 13, 14, 1, 3, 4, 19, 15, 18, 19, 19, 9, 11, 15, 11, 4, 4, 5, 15, 15, 7, 19, 15, 3, 8, 16, 9, 18, 3, 5, 1, 1, 12, 11, 1, 16, 11, 8, 19, 2, 19, 6, 8, 17, 11, 15, 17, 5, 17, 1, 9, 6, 6, 18, 12, 15, 4, 11, 8, 18, 15, 11, 3, 15, 10, 6, 19, 6, 16, 12, 17, 13, 15, 11, 18, 2, 1, 11, 14, 16, 16, 9, 11, 17, 15, 12, 1, 3, 2, 19, 15, 3, 19, 11, 17, 16, 1, 5, 14, 1, 19, 8, 10, 1, 15, 6, 6, 6, 12, 8, 10, 6, 16, 1, 1, 17, 1, 1, 1, 3, 8, 9, 14, 19, 6, 6, 15, 9, 18, 9, 1, 11, 17, 15, 19, 11, 7, 4, 11, 1, 10, 7, 0, 12, 18, 5, 18, 4, 4, 9, 3, 15, 8, 2, 4, 6, 6, 6, 16, 11, 6, 17, 4, 1, 1, 3, 18, 3, 6, 5, 4, 4, 4, 9, 15, 16, 14, 1, 11, 9, 0, 6, 13, 9, 13, 6, 14, 1, 11, 17, 7, 18, 4, 6, 1, 11, 6, 5, 15, 1, 0, 12, 19, 14, 0, 6, 4, 2, 11, 6, 19, 19, 6, 14, 13, 17, 4, 6, 0, 15, 11, 10, 5, 1, 19, 19, 19, 13, 17, 15, 16, 9, 10, 19, 14, 6, 13, 5, 13, 18, 18, 4, 4, 11, 3, 8, 6, 6, 13, 10, 9, 3, 11, 17, 6, 9, 17, 2, 15, 19, 19, 5, 18, 1, 6, 17, 6, 6, 4, 3, 9, 17, 8, 6, 3, 18, 19, 16, 10, 19, 9, 10, 1, 6, 3, 5, 16, 1, 5, 6, 18, 11, 18, 1, 19, 4, 13, 12, 11, 10, 13, 3, 4, 12, 19, 18, 14, 7, 6, 7, 18, 15, 14, 15, 7, 12, 1, 14, 3, 16, 14, 9, 2, 8, 8, 5, 6, 0, 9, 17, 6, 14, 9, 13, 6, 9, 14, 8, 15, 17, 5, 15, 11, 18, 11, 6, 9, 10, 6, 9, 3, 12, 18, 1, 16, 14, 6, 19, 9, 4, 10, 7, 8, 10, 18, 0, 17, 14, 10, 17, 8, 16, 19, 8, 6, 17, 6, 1, 1, 13, 8, 19, 6, 3, 5, 16, 18, 11, 7, 19, 17, 4, 6, 16, 9, 7, 17, 8, 3, 19, 11, 18, 3, 12, 14, 3, 1, 6, 9, 1, 16, 11, 9, 1, 18, 15, 8, 6, 9, 6, 6, 12, 4, 10, 17, 16, 11, 19, 3, 18, 8, 13, 11, 7, 4, 15, 10, 10, 17, 8, 5, 9, 0, 4, 17, 10, 6, 17, 17, 5, 11, 5, 6, 15, 17, 8, 17, 5, 1, 16, 6, 6, 17, 19, 12, 16, 14, 10, 5, 13, 12, 18, 6, 12, 15, 6, 1, 17, 19, 5, 6, 10, 1, 8, 11, 6, 2, 19, 11, 11, 8, 1, 11, 19, 4, 4, 15, 5, 3, 15, 3, 16, 4, 11, 10, 19, 2, 17, 16, 12, 16, 1, 19, 14, 9, 4, 15, 1, 6, 14, 17, 3, 9, 15, 14, 10, 7, 18, 9, 6, 13, 18, 5, 6, 6, 14, 11, 0, 18, 1, 19, 16, 11, 4, 17, 11, 6, 17, 8, 11, 1, 14, 4, 16, 9, 15, 2, 9, 12, 13, 4, 2, 1, 15, 2, 9, 9, 18, 5, 0, 0, 16, 5, 19, 15, 7, 6, 17, 4, 9, 16, 5, 2, 10, 13, 6, 10, 2, 18, 1, 8, 7, 8, 7, 6, 8, 6, 15, 8, 15, 9, 5, 16, 16, 3, 6, 14, 4, 12, 5, 11, 15, 18, 18, 1, 16, 2, 5, 19, 12, 0, 16, 10, 4, 2, 19, 6, 14, 16, 17, 4, 6, 4, 1, 11, 5, 3, 17, 0, 12, 4, 8, 6, 11, 16, 7, 11, 16, 9, 6, 11, 14, 4, 8, 4, 19, 5, 19, 17, 8, 10, 17, 6, 12, 12, 16, 3, 8, 3, 18, 16, 17, 16, 7, 19, 6, 16, 17, 10, 13, 7, 6, 5, 1, 16, 16, 8, 2, 4, 8, 16, 15, 14, 6, 17, 15, 13, 18, 1, 12, 14, 7, 6, 18, 11, 5, 14, 16, 9, 11, 10, 15, 8, 6, 16, 6, 6, 8, 19, 17, 19, 6, 2, 3, 9, 8, 15, 19, 9, 7, 16, 1, 0, 6, 17, 15, 9, 8, 5, 4, 13, 18, 15, 0, 12, 8, 8, 10, 9, 14, 4, 7, 12, 16, 5, 14, 11, 14, 14, 4, 16, 8, 14, 19, 16, 9, 8, 7, 0, 7, 19, 8, 19, 18, 15, 16, 1, 11, 1, 6, 13, 15, 11, 13, 11, 4, 8, 10, 4, 12, 5, 14, 16, 11, 15, 19, 1, 1, 16, 15, 13, 15, 3, 19, 17, 16, 14, 19, 5, 15, 1, 16, 16, 11, 10, 9, 3, 14, 6, 9, 6, 19, 2, 11, 6, 15, 11, 3, 3, 19, 11, 6, 6, 16, 9, 3, 8, 19, 7, 17, 1, 4, 11, 10, 7, 11, 18, 1, 4, 11, 8, 1, 16, 12, 5, 12, 14, 15, 1, 10, 7, 19, 19, 10, 6, 11, 16, 17, 17, 16, 1, 3, 1, 11, 4, 5, 15, 9, 6, 4, 9, 10, 3, 15, 5, 11, 6, 3, 7, 5, 10, 11, 1, 14, 1, 6, 13, 9, 7, 12, 0, 8, 11, 2, 16, 18, 10, 3, 1, 14, 6, 1, 1, 6, 1, 2, 14, 17, 19, 7, 6, 6, 8, 4, 6, 8, 11, 9, 17, 6, 3, 13, 13, 6, 1, 6, 10, 10, 1, 16, 4, 8, 10, 19, 18, 12, 16, 12, 3, 15, 11, 6, 9, 4, 6, 6, 16, 2, 6, 14, 1, 8, 17, 6, 11, 3, 1, 17, 5, 6, 12, 18, 11, 11, 13, 13, 17, 11, 17, 15, 19, 19, 9, 13, 5, 4, 8, 1, 15, 16, 1, 9, 13, 9, 6, 3, 11, 3, 6, 10, 18, 5, 3, 16, 15, 3, 18, 1, 10, 8, 19, 11, 13, 17, 16, 16, 3, 18, 11, 15, 7, 6, 19, 15, 11, 14, 16, 15, 0, 15, 11, 17, 13, 19, 4, 6, 6, 16, 10, 3, 17, 0, 5, 12, 18, 1, 2, 4, 14, 13, 4, 15, 9, 9, 6, 1, 14, 14, 16, 10, 10, 9, 5, 8, 1, 13, 11, 15, 9, 8, 14, 15, 18, 16, 19, 19, 4, 15, 16, 19, 9, 14, 15, 7, 15, 16, 1, 4, 18, 15, 19, 1, 19, 16, 11, 16, 16, 3, 10, 6, 7, 2, 9, 16, 1, 19, 6, 4, 19, 6, 16, 17, 18, 2, 3, 6, 11, 19, 13, 11, 13, 9, 11, 5, 17, 1, 7, 6, 0, 12, 7, 4, 12, 18, 3, 1, 18, 4, 15, 15, 3, 7, 11, 11, 14, 1, 6, 11, 6, 5, 11, 18, 15, 0, 12, 4, 18, 17, 4, 6, 4, 17, 3, 4, 2, 14, 13, 11, 14, 6, 5, 19, 4, 4, 12, 17, 6, 11, 17, 16, 19, 1, 7, 15, 13, 8, 6, 6, 11, 19, 0, 1, 11, 12, 12, 16, 19, 9, 5, 6, 11, 8, 8, 1, 9, 6, 16, 16, 9, 8, 9, 5, 10, 15, 6, 16, 3, 3, 10, 6, 19, 15, 5, 1, 13, 6, 6, 6, 3, 4, 3, 15, 1, 16, 11, 14, 1, 6, 15, 15, 6, 0, 6, 9, 3, 9, 1, 18, 1, 10, 19, 9, 16, 14, 0, 18, 12, 11, 14, 19, 12, 10, 1, 11, 8, 6, 16, 11, 14, 1, 10, 7, 16, 15, 12, 5, 13, 19, 10, 19, 6, 9, 6, 5, 17, 5, 0, 3, 16, 6, 4, 19, 1, 8, 1, 0, 17, 10, 15, 13, 18, 3, 6, 19, 16, 12, 9, 15, 6, 7, 12, 4, 1, 17, 11, 19, 6, 10, 8, 8, 10, 3, 5, 0, 6, 15, 1, 19, 18, 17, 3, 13, 16, 5, 17, 9, 19, 17, 1, 11, 12, 1, 6, 16, 4, 13, 6, 12, 18, 2, 14, 7, 7, 13, 7, 15, 6, 4, 11, 6, 10, 17, 10, 1, 18, 9, 8, 10, 7, 11]\n",
      "         Class Name          Class No.    Train Files       Test Files     Valid Files\n",
      "      10_WELSH_CORGI             0           67                23             23 \n",
      "        11_BULLDOG               1          250                84             84 \n",
      "   12_SHETLAND_SHEEPDOG          2           95                31             31 \n",
      "         13_SHIBA                3          168                60             70 \n",
      "    14_GOLDEN_RETRIEVER          4          167                55             55 \n",
      "       15_ROTTWEILER             5          150                50             50 \n",
      "          17_PUG                 6          340               114             114\n",
      "   18_BEDLINGTON_TERRIER         7          110                36             36 \n",
      "  19_GERMAN_SHEPHERD_DOG         8          171                55             55 \n",
      "       21_CHOW_CHOW              9          196                65             65 \n",
      "       22_DOBERMANN             10          174                58             58 \n",
      " 23_AMERICAN_COCKER_SPANIEL      11          268                90             90 \n",
      " 24_CAVALIER_COCKER_SPANIEL      12          112                38             38 \n",
      "       26_PEKINGESE             13          152                50             50 \n",
      "    28_STANDARD_POODLE          14          166                55             55 \n",
      "   29_YORKSHIRE_TERRIER         15          218                73             73 \n",
      "        30_SAMOYED              16          250                84             84 \n",
      "   9_ITALIAN_GREY_HOUND         17          175                58             58 \n",
      "          X_HUSKY               18          163                54             54 \n",
      "        X_SHIH_TZU              19          250                81             81 \n",
      "                               ______________________________________________________\n",
      "          Totals                20         3642               1214             1224\n",
      "\n",
      "\n",
      " saving dictionary of class names and labels to ./working2\\dog_breeds.txt\n"
     ]
    },
    {
     "name": "stderr",
     "output_type": "stream",
     "text": [
      "WARNING: Logging before flag parsing goes to stderr.\n",
      "W0804 19:46:44.196849 14100 callbacks.py:1071] `period` argument is deprecated. Please use `save_freq` to specify the frequency in number of batches seen.\n",
      "W0804 19:46:48.914114 14100 deprecation.py:317] From <ipython-input-8-a768e171d41f>:3: Model.fit_generator (from tensorflow.python.keras.engine.training) is deprecated and will be removed in a future version.\n",
      "Instructions for updating:\n",
      "Please use Model.fit, which supports generators.\n"
     ]
    },
    {
     "name": "stdout",
     "output_type": "stream",
     "text": [
      "Epoch 1/20\n"
     ]
    },
    {
     "ename": "UnknownError",
     "evalue": " Failed to get convolution algorithm. This is probably because cuDNN failed to initialize, so try looking to see if a warning log message was printed above.\n\t [[node model/conv1/Conv2D (defined at <ipython-input-8-a768e171d41f>:3) ]] [Op:__inference_train_function_8225]\n\nFunction call stack:\ntrain_function\n",
     "output_type": "error",
     "traceback": [
      "\u001b[1;31m---------------------------------------------------------------------------\u001b[0m",
      "\u001b[1;31mUnknownError\u001b[0m                              Traceback (most recent call last)",
      "\u001b[1;32m<ipython-input-21-a160d0ae7ee0>\u001b[0m in \u001b[0;36m<module>\u001b[1;34m\u001b[0m\n\u001b[0;32m     25\u001b[0m \u001b[0mmode\u001b[0m\u001b[1;33m=\u001b[0m\u001b[1;34m'sep'\u001b[0m\u001b[1;33m\u001b[0m\u001b[1;33m\u001b[0m\u001b[0m\n\u001b[0;32m     26\u001b[0m \u001b[1;33m\u001b[0m\u001b[0m\n\u001b[1;32m---> 27\u001b[1;33m TF2_classify(source_dir,output_dir,mode,subject, t_split=t_split, v_split=v_split, epochs=epochs,batch_size=batch_size,\n\u001b[0m\u001b[0;32m     28\u001b[0m          lr_rate=lr_rate,lr_factor=lr_factor,image_size=image_size,rand_seed=rand_seed, model_size=model_size)\n",
      "\u001b[1;32m<ipython-input-14-b5b5c0747270>\u001b[0m in \u001b[0;36mTF2_classify\u001b[1;34m(source_dir, output_dir, mode, subject, t_split, v_split, epochs, batch_size, lr_rate, lr_factor, image_size, rand_seed, model_size)\u001b[0m\n\u001b[0;32m     22\u001b[0m     \u001b[1;32mwhile\u001b[0m \u001b[0mrun\u001b[0m\u001b[1;33m:\u001b[0m\u001b[1;33m\u001b[0m\u001b[1;33m\u001b[0m\u001b[0m\n\u001b[0;32m     23\u001b[0m         \u001b[0mrun_num\u001b[0m\u001b[1;33m=\u001b[0m\u001b[0mrun_num\u001b[0m \u001b[1;33m+\u001b[0m\u001b[1;36m1\u001b[0m\u001b[1;33m\u001b[0m\u001b[1;33m\u001b[0m\u001b[0m\n\u001b[1;32m---> 24\u001b[1;33m         \u001b[0mresults\u001b[0m\u001b[1;33m=\u001b[0m\u001b[0mtrain\u001b[0m\u001b[1;33m(\u001b[0m\u001b[0mmodel_data\u001b[0m\u001b[1;33m[\u001b[0m\u001b[1;36m0\u001b[0m\u001b[1;33m]\u001b[0m\u001b[1;33m,\u001b[0m \u001b[0mgens\u001b[0m\u001b[1;33m[\u001b[0m\u001b[1;36m0\u001b[0m\u001b[1;33m]\u001b[0m\u001b[1;33m,\u001b[0m \u001b[0mgens\u001b[0m\u001b[1;33m[\u001b[0m\u001b[1;36m2\u001b[0m\u001b[1;33m]\u001b[0m\u001b[1;33m,\u001b[0m\u001b[0msteps\u001b[0m\u001b[1;33m[\u001b[0m\u001b[1;36m0\u001b[0m\u001b[1;33m]\u001b[0m\u001b[1;33m,\u001b[0m\u001b[0msteps\u001b[0m\u001b[1;33m[\u001b[0m\u001b[1;36m2\u001b[0m\u001b[1;33m]\u001b[0m\u001b[1;33m,\u001b[0m \u001b[0mepochs\u001b[0m\u001b[1;33m,\u001b[0m\u001b[0mmodel_data\u001b[0m\u001b[1;33m[\u001b[0m\u001b[1;36m1\u001b[0m\u001b[1;33m]\u001b[0m\u001b[1;33m,\u001b[0m\u001b[0msubject\u001b[0m\u001b[1;33m)\u001b[0m\u001b[1;33m\u001b[0m\u001b[1;33m\u001b[0m\u001b[0m\n\u001b[0m\u001b[0;32m     25\u001b[0m         \u001b[0mtacc_new\u001b[0m\u001b[1;33m=\u001b[0m\u001b[0mresults\u001b[0m\u001b[1;33m.\u001b[0m\u001b[0mhistory\u001b[0m\u001b[1;33m[\u001b[0m\u001b[1;34m'accuracy'\u001b[0m\u001b[1;33m]\u001b[0m\u001b[1;33m\u001b[0m\u001b[1;33m\u001b[0m\u001b[0m\n\u001b[0;32m     26\u001b[0m         \u001b[0mtloss_new\u001b[0m\u001b[1;33m=\u001b[0m\u001b[0mresults\u001b[0m\u001b[1;33m.\u001b[0m\u001b[0mhistory\u001b[0m\u001b[1;33m[\u001b[0m\u001b[1;34m'loss'\u001b[0m\u001b[1;33m]\u001b[0m\u001b[1;33m\u001b[0m\u001b[1;33m\u001b[0m\u001b[0m\n",
      "\u001b[1;32m<ipython-input-8-a768e171d41f>\u001b[0m in \u001b[0;36mtrain\u001b[1;34m(model, train_gen, val_gen, tr_steps, v_steps, epochs, callbacks, sub)\u001b[0m\n\u001b[0;32m      1\u001b[0m \u001b[1;32mdef\u001b[0m \u001b[0mtrain\u001b[0m\u001b[1;33m(\u001b[0m\u001b[0mmodel\u001b[0m\u001b[1;33m,\u001b[0m \u001b[0mtrain_gen\u001b[0m\u001b[1;33m,\u001b[0m \u001b[0mval_gen\u001b[0m\u001b[1;33m,\u001b[0m\u001b[0mtr_steps\u001b[0m\u001b[1;33m,\u001b[0m\u001b[0mv_steps\u001b[0m\u001b[1;33m,\u001b[0m \u001b[0mepochs\u001b[0m\u001b[1;33m,\u001b[0m\u001b[0mcallbacks\u001b[0m\u001b[1;33m,\u001b[0m\u001b[0msub\u001b[0m\u001b[1;33m)\u001b[0m\u001b[1;33m:\u001b[0m\u001b[1;33m\u001b[0m\u001b[1;33m\u001b[0m\u001b[0m\n\u001b[0;32m      2\u001b[0m     \u001b[0mstart\u001b[0m\u001b[1;33m=\u001b[0m\u001b[0mtime\u001b[0m\u001b[1;33m.\u001b[0m\u001b[0mtime\u001b[0m\u001b[1;33m(\u001b[0m\u001b[1;33m)\u001b[0m\u001b[1;33m\u001b[0m\u001b[1;33m\u001b[0m\u001b[0m\n\u001b[1;32m----> 3\u001b[1;33m     data = model.fit_generator(generator = train_gen, validation_data= val_gen,\n\u001b[0m\u001b[0;32m      4\u001b[0m                        \u001b[0msteps_per_epoch\u001b[0m\u001b[1;33m=\u001b[0m\u001b[0mtr_steps\u001b[0m\u001b[1;33m,\u001b[0m \u001b[0mepochs\u001b[0m\u001b[1;33m=\u001b[0m\u001b[0mepochs\u001b[0m\u001b[1;33m,\u001b[0m\u001b[1;33m\u001b[0m\u001b[1;33m\u001b[0m\u001b[0m\n\u001b[0;32m      5\u001b[0m                        validation_steps=v_steps, callbacks = callbacks)\n",
      "\u001b[1;32m~\\Anaconda3\\lib\\site-packages\\tensorflow\\python\\util\\deprecation.py\u001b[0m in \u001b[0;36mnew_func\u001b[1;34m(*args, **kwargs)\u001b[0m\n\u001b[0;32m    322\u001b[0m               \u001b[1;34m'in a future version'\u001b[0m \u001b[1;32mif\u001b[0m \u001b[0mdate\u001b[0m \u001b[1;32mis\u001b[0m \u001b[1;32mNone\u001b[0m \u001b[1;32melse\u001b[0m \u001b[1;33m(\u001b[0m\u001b[1;34m'after %s'\u001b[0m \u001b[1;33m%\u001b[0m \u001b[0mdate\u001b[0m\u001b[1;33m)\u001b[0m\u001b[1;33m,\u001b[0m\u001b[1;33m\u001b[0m\u001b[1;33m\u001b[0m\u001b[0m\n\u001b[0;32m    323\u001b[0m               instructions)\n\u001b[1;32m--> 324\u001b[1;33m       \u001b[1;32mreturn\u001b[0m \u001b[0mfunc\u001b[0m\u001b[1;33m(\u001b[0m\u001b[1;33m*\u001b[0m\u001b[0margs\u001b[0m\u001b[1;33m,\u001b[0m \u001b[1;33m**\u001b[0m\u001b[0mkwargs\u001b[0m\u001b[1;33m)\u001b[0m\u001b[1;33m\u001b[0m\u001b[1;33m\u001b[0m\u001b[0m\n\u001b[0m\u001b[0;32m    325\u001b[0m     return tf_decorator.make_decorator(\n\u001b[0;32m    326\u001b[0m         \u001b[0mfunc\u001b[0m\u001b[1;33m,\u001b[0m \u001b[0mnew_func\u001b[0m\u001b[1;33m,\u001b[0m \u001b[1;34m'deprecated'\u001b[0m\u001b[1;33m,\u001b[0m\u001b[1;33m\u001b[0m\u001b[1;33m\u001b[0m\u001b[0m\n",
      "\u001b[1;32m~\\Anaconda3\\lib\\site-packages\\tensorflow\\python\\keras\\engine\\training.py\u001b[0m in \u001b[0;36mfit_generator\u001b[1;34m(self, generator, steps_per_epoch, epochs, verbose, callbacks, validation_data, validation_steps, validation_freq, class_weight, max_queue_size, workers, use_multiprocessing, shuffle, initial_epoch)\u001b[0m\n\u001b[0;32m   1463\u001b[0m     \"\"\"\n\u001b[0;32m   1464\u001b[0m     \u001b[0m_keras_api_gauge\u001b[0m\u001b[1;33m.\u001b[0m\u001b[0mget_cell\u001b[0m\u001b[1;33m(\u001b[0m\u001b[1;34m'fit_generator'\u001b[0m\u001b[1;33m)\u001b[0m\u001b[1;33m.\u001b[0m\u001b[0mset\u001b[0m\u001b[1;33m(\u001b[0m\u001b[1;32mTrue\u001b[0m\u001b[1;33m)\u001b[0m\u001b[1;33m\u001b[0m\u001b[1;33m\u001b[0m\u001b[0m\n\u001b[1;32m-> 1465\u001b[1;33m     return self.fit(\n\u001b[0m\u001b[0;32m   1466\u001b[0m         \u001b[0mgenerator\u001b[0m\u001b[1;33m,\u001b[0m\u001b[1;33m\u001b[0m\u001b[1;33m\u001b[0m\u001b[0m\n\u001b[0;32m   1467\u001b[0m         \u001b[0msteps_per_epoch\u001b[0m\u001b[1;33m=\u001b[0m\u001b[0msteps_per_epoch\u001b[0m\u001b[1;33m,\u001b[0m\u001b[1;33m\u001b[0m\u001b[1;33m\u001b[0m\u001b[0m\n",
      "\u001b[1;32m~\\Anaconda3\\lib\\site-packages\\tensorflow\\python\\keras\\engine\\training.py\u001b[0m in \u001b[0;36m_method_wrapper\u001b[1;34m(self, *args, **kwargs)\u001b[0m\n\u001b[0;32m     64\u001b[0m   \u001b[1;32mdef\u001b[0m \u001b[0m_method_wrapper\u001b[0m\u001b[1;33m(\u001b[0m\u001b[0mself\u001b[0m\u001b[1;33m,\u001b[0m \u001b[1;33m*\u001b[0m\u001b[0margs\u001b[0m\u001b[1;33m,\u001b[0m \u001b[1;33m**\u001b[0m\u001b[0mkwargs\u001b[0m\u001b[1;33m)\u001b[0m\u001b[1;33m:\u001b[0m\u001b[1;33m\u001b[0m\u001b[1;33m\u001b[0m\u001b[0m\n\u001b[0;32m     65\u001b[0m     \u001b[1;32mif\u001b[0m \u001b[1;32mnot\u001b[0m \u001b[0mself\u001b[0m\u001b[1;33m.\u001b[0m\u001b[0m_in_multi_worker_mode\u001b[0m\u001b[1;33m(\u001b[0m\u001b[1;33m)\u001b[0m\u001b[1;33m:\u001b[0m  \u001b[1;31m# pylint: disable=protected-access\u001b[0m\u001b[1;33m\u001b[0m\u001b[1;33m\u001b[0m\u001b[0m\n\u001b[1;32m---> 66\u001b[1;33m       \u001b[1;32mreturn\u001b[0m \u001b[0mmethod\u001b[0m\u001b[1;33m(\u001b[0m\u001b[0mself\u001b[0m\u001b[1;33m,\u001b[0m \u001b[1;33m*\u001b[0m\u001b[0margs\u001b[0m\u001b[1;33m,\u001b[0m \u001b[1;33m**\u001b[0m\u001b[0mkwargs\u001b[0m\u001b[1;33m)\u001b[0m\u001b[1;33m\u001b[0m\u001b[1;33m\u001b[0m\u001b[0m\n\u001b[0m\u001b[0;32m     67\u001b[0m \u001b[1;33m\u001b[0m\u001b[0m\n\u001b[0;32m     68\u001b[0m     \u001b[1;31m# Running inside `run_distribute_coordinator` already.\u001b[0m\u001b[1;33m\u001b[0m\u001b[1;33m\u001b[0m\u001b[1;33m\u001b[0m\u001b[0m\n",
      "\u001b[1;32m~\\Anaconda3\\lib\\site-packages\\tensorflow\\python\\keras\\engine\\training.py\u001b[0m in \u001b[0;36mfit\u001b[1;34m(self, x, y, batch_size, epochs, verbose, callbacks, validation_split, validation_data, shuffle, class_weight, sample_weight, initial_epoch, steps_per_epoch, validation_steps, validation_batch_size, validation_freq, max_queue_size, workers, use_multiprocessing)\u001b[0m\n\u001b[0;32m    846\u001b[0m                 batch_size=batch_size):\n\u001b[0;32m    847\u001b[0m               \u001b[0mcallbacks\u001b[0m\u001b[1;33m.\u001b[0m\u001b[0mon_train_batch_begin\u001b[0m\u001b[1;33m(\u001b[0m\u001b[0mstep\u001b[0m\u001b[1;33m)\u001b[0m\u001b[1;33m\u001b[0m\u001b[1;33m\u001b[0m\u001b[0m\n\u001b[1;32m--> 848\u001b[1;33m               \u001b[0mtmp_logs\u001b[0m \u001b[1;33m=\u001b[0m \u001b[0mtrain_function\u001b[0m\u001b[1;33m(\u001b[0m\u001b[0miterator\u001b[0m\u001b[1;33m)\u001b[0m\u001b[1;33m\u001b[0m\u001b[1;33m\u001b[0m\u001b[0m\n\u001b[0m\u001b[0;32m    849\u001b[0m               \u001b[1;31m# Catch OutOfRangeError for Datasets of unknown size.\u001b[0m\u001b[1;33m\u001b[0m\u001b[1;33m\u001b[0m\u001b[1;33m\u001b[0m\u001b[0m\n\u001b[0;32m    850\u001b[0m               \u001b[1;31m# This blocks until the batch has finished executing.\u001b[0m\u001b[1;33m\u001b[0m\u001b[1;33m\u001b[0m\u001b[1;33m\u001b[0m\u001b[0m\n",
      "\u001b[1;32m~\\Anaconda3\\lib\\site-packages\\tensorflow\\python\\eager\\def_function.py\u001b[0m in \u001b[0;36m__call__\u001b[1;34m(self, *args, **kwds)\u001b[0m\n\u001b[0;32m    578\u001b[0m         \u001b[0mxla_context\u001b[0m\u001b[1;33m.\u001b[0m\u001b[0mExit\u001b[0m\u001b[1;33m(\u001b[0m\u001b[1;33m)\u001b[0m\u001b[1;33m\u001b[0m\u001b[1;33m\u001b[0m\u001b[0m\n\u001b[0;32m    579\u001b[0m     \u001b[1;32melse\u001b[0m\u001b[1;33m:\u001b[0m\u001b[1;33m\u001b[0m\u001b[1;33m\u001b[0m\u001b[0m\n\u001b[1;32m--> 580\u001b[1;33m       \u001b[0mresult\u001b[0m \u001b[1;33m=\u001b[0m \u001b[0mself\u001b[0m\u001b[1;33m.\u001b[0m\u001b[0m_call\u001b[0m\u001b[1;33m(\u001b[0m\u001b[1;33m*\u001b[0m\u001b[0margs\u001b[0m\u001b[1;33m,\u001b[0m \u001b[1;33m**\u001b[0m\u001b[0mkwds\u001b[0m\u001b[1;33m)\u001b[0m\u001b[1;33m\u001b[0m\u001b[1;33m\u001b[0m\u001b[0m\n\u001b[0m\u001b[0;32m    581\u001b[0m \u001b[1;33m\u001b[0m\u001b[0m\n\u001b[0;32m    582\u001b[0m     \u001b[1;32mif\u001b[0m \u001b[0mtracing_count\u001b[0m \u001b[1;33m==\u001b[0m \u001b[0mself\u001b[0m\u001b[1;33m.\u001b[0m\u001b[0m_get_tracing_count\u001b[0m\u001b[1;33m(\u001b[0m\u001b[1;33m)\u001b[0m\u001b[1;33m:\u001b[0m\u001b[1;33m\u001b[0m\u001b[1;33m\u001b[0m\u001b[0m\n",
      "\u001b[1;32m~\\Anaconda3\\lib\\site-packages\\tensorflow\\python\\eager\\def_function.py\u001b[0m in \u001b[0;36m_call\u001b[1;34m(self, *args, **kwds)\u001b[0m\n\u001b[0;32m    642\u001b[0m         \u001b[1;31m# Lifting succeeded, so variables are initialized and we can run the\u001b[0m\u001b[1;33m\u001b[0m\u001b[1;33m\u001b[0m\u001b[1;33m\u001b[0m\u001b[0m\n\u001b[0;32m    643\u001b[0m         \u001b[1;31m# stateless function.\u001b[0m\u001b[1;33m\u001b[0m\u001b[1;33m\u001b[0m\u001b[1;33m\u001b[0m\u001b[0m\n\u001b[1;32m--> 644\u001b[1;33m         \u001b[1;32mreturn\u001b[0m \u001b[0mself\u001b[0m\u001b[1;33m.\u001b[0m\u001b[0m_stateless_fn\u001b[0m\u001b[1;33m(\u001b[0m\u001b[1;33m*\u001b[0m\u001b[0margs\u001b[0m\u001b[1;33m,\u001b[0m \u001b[1;33m**\u001b[0m\u001b[0mkwds\u001b[0m\u001b[1;33m)\u001b[0m\u001b[1;33m\u001b[0m\u001b[1;33m\u001b[0m\u001b[0m\n\u001b[0m\u001b[0;32m    645\u001b[0m     \u001b[1;32melse\u001b[0m\u001b[1;33m:\u001b[0m\u001b[1;33m\u001b[0m\u001b[1;33m\u001b[0m\u001b[0m\n\u001b[0;32m    646\u001b[0m       \u001b[0mcanon_args\u001b[0m\u001b[1;33m,\u001b[0m \u001b[0mcanon_kwds\u001b[0m \u001b[1;33m=\u001b[0m\u001b[0;31m \u001b[0m\u001b[0;31m\\\u001b[0m\u001b[1;33m\u001b[0m\u001b[1;33m\u001b[0m\u001b[0m\n",
      "\u001b[1;32m~\\Anaconda3\\lib\\site-packages\\tensorflow\\python\\eager\\function.py\u001b[0m in \u001b[0;36m__call__\u001b[1;34m(self, *args, **kwargs)\u001b[0m\n\u001b[0;32m   2418\u001b[0m     \u001b[1;32mwith\u001b[0m \u001b[0mself\u001b[0m\u001b[1;33m.\u001b[0m\u001b[0m_lock\u001b[0m\u001b[1;33m:\u001b[0m\u001b[1;33m\u001b[0m\u001b[1;33m\u001b[0m\u001b[0m\n\u001b[0;32m   2419\u001b[0m       \u001b[0mgraph_function\u001b[0m\u001b[1;33m,\u001b[0m \u001b[0margs\u001b[0m\u001b[1;33m,\u001b[0m \u001b[0mkwargs\u001b[0m \u001b[1;33m=\u001b[0m \u001b[0mself\u001b[0m\u001b[1;33m.\u001b[0m\u001b[0m_maybe_define_function\u001b[0m\u001b[1;33m(\u001b[0m\u001b[0margs\u001b[0m\u001b[1;33m,\u001b[0m \u001b[0mkwargs\u001b[0m\u001b[1;33m)\u001b[0m\u001b[1;33m\u001b[0m\u001b[1;33m\u001b[0m\u001b[0m\n\u001b[1;32m-> 2420\u001b[1;33m     \u001b[1;32mreturn\u001b[0m \u001b[0mgraph_function\u001b[0m\u001b[1;33m.\u001b[0m\u001b[0m_filtered_call\u001b[0m\u001b[1;33m(\u001b[0m\u001b[0margs\u001b[0m\u001b[1;33m,\u001b[0m \u001b[0mkwargs\u001b[0m\u001b[1;33m)\u001b[0m  \u001b[1;31m# pylint: disable=protected-access\u001b[0m\u001b[1;33m\u001b[0m\u001b[1;33m\u001b[0m\u001b[0m\n\u001b[0m\u001b[0;32m   2421\u001b[0m \u001b[1;33m\u001b[0m\u001b[0m\n\u001b[0;32m   2422\u001b[0m   \u001b[1;33m@\u001b[0m\u001b[0mproperty\u001b[0m\u001b[1;33m\u001b[0m\u001b[1;33m\u001b[0m\u001b[0m\n",
      "\u001b[1;32m~\\Anaconda3\\lib\\site-packages\\tensorflow\\python\\eager\\function.py\u001b[0m in \u001b[0;36m_filtered_call\u001b[1;34m(self, args, kwargs)\u001b[0m\n\u001b[0;32m   1659\u001b[0m       \u001b[0;31m`\u001b[0m\u001b[0margs\u001b[0m\u001b[0;31m`\u001b[0m \u001b[1;32mand\u001b[0m\u001b[0;31m \u001b[0m\u001b[0;31m`\u001b[0m\u001b[0mkwargs\u001b[0m\u001b[0;31m`\u001b[0m\u001b[1;33m.\u001b[0m\u001b[1;33m\u001b[0m\u001b[1;33m\u001b[0m\u001b[0m\n\u001b[0;32m   1660\u001b[0m     \"\"\"\n\u001b[1;32m-> 1661\u001b[1;33m     return self._call_flat(\n\u001b[0m\u001b[0;32m   1662\u001b[0m         (t for t in nest.flatten((args, kwargs), expand_composites=True)\n\u001b[0;32m   1663\u001b[0m          if isinstance(t, (ops.Tensor,\n",
      "\u001b[1;32m~\\Anaconda3\\lib\\site-packages\\tensorflow\\python\\eager\\function.py\u001b[0m in \u001b[0;36m_call_flat\u001b[1;34m(self, args, captured_inputs, cancellation_manager)\u001b[0m\n\u001b[0;32m   1743\u001b[0m         and executing_eagerly):\n\u001b[0;32m   1744\u001b[0m       \u001b[1;31m# No tape is watching; skip to running the function.\u001b[0m\u001b[1;33m\u001b[0m\u001b[1;33m\u001b[0m\u001b[1;33m\u001b[0m\u001b[0m\n\u001b[1;32m-> 1745\u001b[1;33m       return self._build_call_outputs(self._inference_function.call(\n\u001b[0m\u001b[0;32m   1746\u001b[0m           ctx, args, cancellation_manager=cancellation_manager))\n\u001b[0;32m   1747\u001b[0m     forward_backward = self._select_forward_and_backward_functions(\n",
      "\u001b[1;32m~\\Anaconda3\\lib\\site-packages\\tensorflow\\python\\eager\\function.py\u001b[0m in \u001b[0;36mcall\u001b[1;34m(self, ctx, args, cancellation_manager)\u001b[0m\n\u001b[0;32m    591\u001b[0m       \u001b[1;32mwith\u001b[0m \u001b[0m_InterpolateFunctionError\u001b[0m\u001b[1;33m(\u001b[0m\u001b[0mself\u001b[0m\u001b[1;33m)\u001b[0m\u001b[1;33m:\u001b[0m\u001b[1;33m\u001b[0m\u001b[1;33m\u001b[0m\u001b[0m\n\u001b[0;32m    592\u001b[0m         \u001b[1;32mif\u001b[0m \u001b[0mcancellation_manager\u001b[0m \u001b[1;32mis\u001b[0m \u001b[1;32mNone\u001b[0m\u001b[1;33m:\u001b[0m\u001b[1;33m\u001b[0m\u001b[1;33m\u001b[0m\u001b[0m\n\u001b[1;32m--> 593\u001b[1;33m           outputs = execute.execute(\n\u001b[0m\u001b[0;32m    594\u001b[0m               \u001b[0mstr\u001b[0m\u001b[1;33m(\u001b[0m\u001b[0mself\u001b[0m\u001b[1;33m.\u001b[0m\u001b[0msignature\u001b[0m\u001b[1;33m.\u001b[0m\u001b[0mname\u001b[0m\u001b[1;33m)\u001b[0m\u001b[1;33m,\u001b[0m\u001b[1;33m\u001b[0m\u001b[1;33m\u001b[0m\u001b[0m\n\u001b[0;32m    595\u001b[0m               \u001b[0mnum_outputs\u001b[0m\u001b[1;33m=\u001b[0m\u001b[0mself\u001b[0m\u001b[1;33m.\u001b[0m\u001b[0m_num_outputs\u001b[0m\u001b[1;33m,\u001b[0m\u001b[1;33m\u001b[0m\u001b[1;33m\u001b[0m\u001b[0m\n",
      "\u001b[1;32m~\\Anaconda3\\lib\\site-packages\\tensorflow\\python\\eager\\execute.py\u001b[0m in \u001b[0;36mquick_execute\u001b[1;34m(op_name, num_outputs, inputs, attrs, ctx, name)\u001b[0m\n\u001b[0;32m     57\u001b[0m   \u001b[1;32mtry\u001b[0m\u001b[1;33m:\u001b[0m\u001b[1;33m\u001b[0m\u001b[1;33m\u001b[0m\u001b[0m\n\u001b[0;32m     58\u001b[0m     \u001b[0mctx\u001b[0m\u001b[1;33m.\u001b[0m\u001b[0mensure_initialized\u001b[0m\u001b[1;33m(\u001b[0m\u001b[1;33m)\u001b[0m\u001b[1;33m\u001b[0m\u001b[1;33m\u001b[0m\u001b[0m\n\u001b[1;32m---> 59\u001b[1;33m     tensors = pywrap_tfe.TFE_Py_Execute(ctx._handle, device_name, op_name,\n\u001b[0m\u001b[0;32m     60\u001b[0m                                         inputs, attrs, num_outputs)\n\u001b[0;32m     61\u001b[0m   \u001b[1;32mexcept\u001b[0m \u001b[0mcore\u001b[0m\u001b[1;33m.\u001b[0m\u001b[0m_NotOkStatusException\u001b[0m \u001b[1;32mas\u001b[0m \u001b[0me\u001b[0m\u001b[1;33m:\u001b[0m\u001b[1;33m\u001b[0m\u001b[1;33m\u001b[0m\u001b[0m\n",
      "\u001b[1;31mUnknownError\u001b[0m:  Failed to get convolution algorithm. This is probably because cuDNN failed to initialize, so try looking to see if a warning log message was printed above.\n\t [[node model/conv1/Conv2D (defined at <ipython-input-8-a768e171d41f>:3) ]] [Op:__inference_train_function_8225]\n\nFunction call stack:\ntrain_function\n"
     ]
    }
   ],
   "source": [
    "import os\n",
    "os.getcwd()\n",
    "d_list=os.listdir('./dog_classes2')\n",
    "print(d_list)\n",
    "for d in d_list:\n",
    "    #print(d)\n",
    "    d_path=os.path.join('./dog_classes2', d)\n",
    "    print(d_path)\n",
    "    class_list=os.listdir(d_path)\n",
    "    for c in class_list:\n",
    "        class_path=os.path.join(d_path, c)    \n",
    "        print(c)\n",
    "source_dir=class_path\n",
    "output_dir='./working2'\n",
    "subject='dog_breeds'\n",
    "t_split=8\n",
    "v_split=8\n",
    "epochs=20\n",
    "batch_size=40\n",
    "lr_rate=.0015\n",
    "lr_factor=.8\n",
    "image_size=224\n",
    "rand_seed=256\n",
    "model_size='L'\n",
    "mode='sep'\n",
    "\n",
    "TF2_classify(source_dir,output_dir,mode,subject, t_split=t_split, v_split=v_split, epochs=epochs,batch_size=batch_size,\n",
    "         lr_rate=lr_rate,lr_factor=lr_factor,image_size=image_size,rand_seed=rand_seed, model_size=model_size)"
   ]
  },
  {
   "cell_type": "code",
   "execution_count": null,
   "metadata": {},
   "outputs": [],
   "source": []
  },
  {
   "cell_type": "code",
   "execution_count": 19,
   "metadata": {},
   "outputs": [
    {
     "name": "stdout",
     "output_type": "stream",
     "text": [
      "Once deleted, variables cannot be recovered. Proceed (y/[n])? y\n"
     ]
    }
   ],
   "source": [
    "%reset"
   ]
  },
  {
   "cell_type": "code",
   "execution_count": 593,
   "metadata": {},
   "outputs": [
    {
     "name": "stdout",
     "output_type": "stream",
     "text": [
      "[name: \"/device:CPU:0\"\n",
      "device_type: \"CPU\"\n",
      "memory_limit: 268435456\n",
      "locality {\n",
      "}\n",
      "incarnation: 15097798094400132463\n",
      ", name: \"/device:XLA_CPU:0\"\n",
      "device_type: \"XLA_CPU\"\n",
      "memory_limit: 17179869184\n",
      "locality {\n",
      "}\n",
      "incarnation: 18075146008070931256\n",
      "physical_device_desc: \"device: XLA_CPU device\"\n",
      ", name: \"/device:GPU:0\"\n",
      "device_type: \"GPU\"\n",
      "memory_limit: 1414335283\n",
      "locality {\n",
      "  bus_id: 1\n",
      "  links {\n",
      "  }\n",
      "}\n",
      "incarnation: 14637219652679307152\n",
      "physical_device_desc: \"device: 0, name: GeForce MX150, pci bus id: 0000:02:00.0, compute capability: 6.1\"\n",
      ", name: \"/device:XLA_GPU:0\"\n",
      "device_type: \"XLA_GPU\"\n",
      "memory_limit: 17179869184\n",
      "locality {\n",
      "}\n",
      "incarnation: 9361542662056277506\n",
      "physical_device_desc: \"device: XLA_GPU device\"\n",
      "]\n"
     ]
    }
   ],
   "source": [
    "from tensorflow.python.client import device_lib\n",
    "print(device_lib.list_local_devices())"
   ]
  },
  {
   "cell_type": "code",
   "execution_count": 614,
   "metadata": {},
   "outputs": [
    {
     "name": "stdout",
     "output_type": "stream",
     "text": [
      "[PhysicalDevice(name='/physical_device:GPU:0', device_type='GPU')]\n"
     ]
    }
   ],
   "source": [
    "gpus = tf.config.experimental.list_physical_devices('GPU')\n",
    "print(gpus)"
   ]
  },
  {
   "cell_type": "code",
   "execution_count": 611,
   "metadata": {},
   "outputs": [
    {
     "data": {
      "text/plain": [
       "True"
      ]
     },
     "execution_count": 611,
     "metadata": {},
     "output_type": "execute_result"
    }
   ],
   "source": [
    "import tensorflow as tf\n",
    "tf.test.is_gpu_available()\n",
    "tf.test.is_built_with_cuda()"
   ]
  },
  {
   "cell_type": "code",
   "execution_count": 736,
   "metadata": {},
   "outputs": [
    {
     "name": "stdout",
     "output_type": "stream",
     "text": [
      "tf.Tensor(\n",
      "[[22. 28.]\n",
      " [49. 64.]], shape=(2, 2), dtype=float32)\n"
     ]
    }
   ],
   "source": [
    "tf.debugging.set_log_device_placement(True)\n",
    "\n",
    "# 텐서를 CPU에 할당\n",
    "with tf.device('/device:XLA_GPU:0'):\n",
    "  a = tf.constant([[1.0, 2.0, 3.0], [4.0, 5.0, 6.0]])\n",
    "  b = tf.constant([[1.0, 2.0], [3.0, 4.0], [5.0, 6.0]])\n",
    "\n",
    "c = tf.matmul(a, b)\n",
    "print(c)"
   ]
  },
  {
   "cell_type": "code",
   "execution_count": 747,
   "metadata": {},
   "outputs": [
    {
     "name": "stdout",
     "output_type": "stream",
     "text": [
      "Tue Aug 04 14:17:35 2020       \n",
      "+-----------------------------------------------------------------------------+\n",
      "| NVIDIA-SMI 445.87       Driver Version: 445.87       CUDA Version: 11.0     |\n",
      "|-------------------------------+----------------------+----------------------+\n",
      "| GPU  Name            TCC/WDDM | Bus-Id        Disp.A | Volatile Uncorr. ECC |\n",
      "| Fan  Temp  Perf  Pwr:Usage/Cap|         Memory-Usage | GPU-Util  Compute M. |\n",
      "|===============================+======================+======================|\n",
      "|   0  GeForce MX150      WDDM  | 00000000:02:00.0 Off |                  N/A |\n",
      "| N/A   57C    P0    N/A /  N/A |   1573MiB /  2048MiB |      0%      Default |\n",
      "+-------------------------------+----------------------+----------------------+\n",
      "                                                                               \n",
      "+-----------------------------------------------------------------------------+\n",
      "| Processes:                                                                  |\n",
      "|  GPU                  PID   Type   Process name                  GPU Memory |\n",
      "|                                                                  Usage      |\n",
      "|=============================================================================|\n",
      "|    0                  896    C+G   ...artMenuExperienceHost.exe    N/A      |\n",
      "|    0                 1400    C+G   Insufficient Permissions        N/A      |\n",
      "|    0                 3144      C   ...user\\Anaconda3\\python.exe    N/A      |\n",
      "|    0                 9428    C+G   ...kyb3d8bbwe\\Calculator.exe    N/A      |\n",
      "|    0                12508    C+G   ...ekyb3d8bbwe\\YourPhone.exe    N/A      |\n",
      "|    0                16004    C+G   ...cw5n1h2txyewy\\LockApp.exe    N/A      |\n",
      "|    0                18628    C+G   ...es.TextInput.InputApp.exe    N/A      |\n",
      "+-----------------------------------------------------------------------------+\n"
     ]
    }
   ],
   "source": [
    "!nvidia-smi"
   ]
  },
  {
   "cell_type": "code",
   "execution_count": null,
   "metadata": {},
   "outputs": [],
   "source": []
  }
 ],
 "metadata": {
  "kernelspec": {
   "display_name": "Python 3",
   "language": "python",
   "name": "python3"
  },
  "language_info": {
   "codemirror_mode": {
    "name": "ipython",
    "version": 3
   },
   "file_extension": ".py",
   "mimetype": "text/x-python",
   "name": "python",
   "nbconvert_exporter": "python",
   "pygments_lexer": "ipython3",
   "version": "3.8.3"
  }
 },
 "nbformat": 4,
 "nbformat_minor": 4
}
